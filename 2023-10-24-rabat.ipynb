{
 "cells": [
  {
   "cell_type": "markdown",
   "metadata": {},
   "source": [
    "# Tutorial\n",
    "\n",
    "## Isogenies\n",
    "\n",
    "Construct an isogeny from a generator of the kernel"
   ]
  },
  {
   "cell_type": "code",
   "execution_count": 1,
   "metadata": {},
   "outputs": [
    {
     "data": {
      "text/plain": [
       "12"
      ]
     },
     "execution_count": 1,
     "metadata": {},
     "output_type": "execute_result"
    }
   ],
   "source": [
    "E = EllipticCurve(GF(11), [1, 0])\n",
    "g = E.gens()[0]\n",
    "g.order()"
   ]
  },
  {
   "cell_type": "code",
   "execution_count": 2,
   "metadata": {},
   "outputs": [
    {
     "data": {
      "text/plain": [
       "(0 : 0 : 1)"
      ]
     },
     "execution_count": 2,
     "metadata": {},
     "output_type": "execute_result"
    }
   ],
   "source": [
    "kernel = 6*g\n",
    "kernel"
   ]
  },
  {
   "cell_type": "code",
   "execution_count": 3,
   "metadata": {},
   "outputs": [
    {
     "data": {
      "text/plain": [
       "Isogeny of degree 2 from Elliptic Curve defined by y^2 = x^3 + x over Finite Field of size 11 to Elliptic Curve defined by y^2 = x^3 + 7*x over Finite Field of size 11"
      ]
     },
     "execution_count": 3,
     "metadata": {},
     "output_type": "execute_result"
    }
   ],
   "source": [
    "I = E.isogeny(kernel)\n",
    "I"
   ]
  },
  {
   "cell_type": "code",
   "execution_count": 4,
   "metadata": {},
   "outputs": [],
   "source": [
    "%display latex"
   ]
  },
  {
   "cell_type": "code",
   "execution_count": 5,
   "metadata": {},
   "outputs": [
    {
     "data": {
      "text/html": [
       "<html>\\(\\displaystyle \\left(\\frac{x^{2} + 1}{x}, \\frac{x^{2} y - y}{x^{2}}\\right)\\)</html>"
      ],
      "text/latex": [
       "$\\displaystyle \\left(\\frac{x^{2} + 1}{x}, \\frac{x^{2} y - y}{x^{2}}\\right)$"
      ],
      "text/plain": [
       "((x^2 + 1)/x, (x^2*y - y)/x^2)"
      ]
     },
     "execution_count": 5,
     "metadata": {},
     "output_type": "execute_result"
    }
   ],
   "source": [
    "I.rational_maps()"
   ]
  },
  {
   "cell_type": "code",
   "execution_count": 6,
   "metadata": {},
   "outputs": [
    {
     "data": {
      "text/html": [
       "<html>\\(\\displaystyle y^2 = x^{3} + 7 x \\)</html>"
      ],
      "text/latex": [
       "$\\displaystyle y^2 = x^{3} + 7 x $"
      ],
      "text/plain": [
       "Elliptic Curve defined by y^2 = x^3 + 7*x over Finite Field of size 11"
      ]
     },
     "execution_count": 6,
     "metadata": {},
     "output_type": "execute_result"
    }
   ],
   "source": [
    "F = I.codomain()\n",
    "F"
   ]
  },
  {
   "cell_type": "markdown",
   "metadata": {},
   "source": [
    "We observe that the image curve has the same number of points, but not the same group structure"
   ]
  },
  {
   "cell_type": "code",
   "execution_count": 7,
   "metadata": {},
   "outputs": [
    {
     "data": {
      "text/html": [
       "<html>\\(\\displaystyle \\newcommand{\\ZZ}{\\Bold{Z}}\\newcommand{\\Bold}[1]{\\mathbf{#1}}\\frac{\\ZZ}{2\\ZZ} \\oplus \\frac{\\ZZ}{6\\ZZ}\\)</html>"
      ],
      "text/latex": [
       "$\\displaystyle \\newcommand{\\ZZ}{\\Bold{Z}}\\newcommand{\\Bold}[1]{\\mathbf{#1}}\\frac{\\ZZ}{2\\ZZ} \\oplus \\frac{\\ZZ}{6\\ZZ}$"
      ],
      "text/plain": [
       "Additive abelian group isomorphic to Z/6 + Z/2 embedded in Abelian group of points on Elliptic Curve defined by y^2 = x^3 + 7*x over Finite Field of size 11"
      ]
     },
     "execution_count": 7,
     "metadata": {},
     "output_type": "execute_result"
    }
   ],
   "source": [
    "F.abelian_group()"
   ]
  },
  {
   "cell_type": "code",
   "execution_count": 8,
   "metadata": {},
   "outputs": [
    {
     "data": {
      "text/html": [
       "<html>\\(\\displaystyle \\newcommand{\\ZZ}{\\Bold{Z}}\\newcommand{\\Bold}[1]{\\mathbf{#1}}\\frac{\\ZZ}{12\\ZZ}\\)</html>"
      ],
      "text/latex": [
       "$\\displaystyle \\newcommand{\\ZZ}{\\Bold{Z}}\\newcommand{\\Bold}[1]{\\mathbf{#1}}\\frac{\\ZZ}{12\\ZZ}$"
      ],
      "text/plain": [
       "Additive abelian group isomorphic to Z/12 embedded in Abelian group of points on Elliptic Curve defined by y^2 = x^3 + x over Finite Field of size 11"
      ]
     },
     "execution_count": 8,
     "metadata": {},
     "output_type": "execute_result"
    }
   ],
   "source": [
    "E.abelian_group()"
   ]
  },
  {
   "cell_type": "code",
   "execution_count": 9,
   "metadata": {},
   "outputs": [],
   "source": [
    "%display plain"
   ]
  },
  {
   "cell_type": "markdown",
   "metadata": {},
   "source": [
    "The same example over the rationals"
   ]
  },
  {
   "cell_type": "code",
   "execution_count": 10,
   "metadata": {},
   "outputs": [
    {
     "data": {
      "text/plain": [
       "Elliptic Curve defined by y^2 = x^3 + x over Rational Field"
      ]
     },
     "execution_count": 10,
     "metadata": {},
     "output_type": "execute_result"
    }
   ],
   "source": [
    "E = EllipticCurve([1,0])\n",
    "E"
   ]
  },
  {
   "cell_type": "code",
   "execution_count": 11,
   "metadata": {},
   "outputs": [
    {
     "data": {
      "text/plain": [
       "(0 : 0 : 1)"
      ]
     },
     "execution_count": 11,
     "metadata": {},
     "output_type": "execute_result"
    }
   ],
   "source": [
    "P = E.lift_x(0)\n",
    "P"
   ]
  },
  {
   "cell_type": "code",
   "execution_count": 12,
   "metadata": {},
   "outputs": [
    {
     "data": {
      "text/plain": [
       "2"
      ]
     },
     "execution_count": 12,
     "metadata": {},
     "output_type": "execute_result"
    }
   ],
   "source": [
    "P.order()"
   ]
  },
  {
   "cell_type": "code",
   "execution_count": 13,
   "metadata": {},
   "outputs": [
    {
     "data": {
      "text/plain": [
       "Elliptic Curve defined by y^2 = x^3 - 4*x over Rational Field"
      ]
     },
     "execution_count": 13,
     "metadata": {},
     "output_type": "execute_result"
    }
   ],
   "source": [
    "J = E.isogeny(P)\n",
    "F = J.codomain()\n",
    "F"
   ]
  },
  {
   "cell_type": "markdown",
   "metadata": {},
   "source": [
    "In (very) limited cases, Sage can compute the isogeny given the image curve and the degree"
   ]
  },
  {
   "cell_type": "code",
   "execution_count": 14,
   "metadata": {},
   "outputs": [
    {
     "data": {
      "text/plain": [
       "True"
      ]
     },
     "execution_count": 14,
     "metadata": {},
     "output_type": "execute_result"
    }
   ],
   "source": [
    "JJ = E.isogeny(None, codomain=F, degree=2)\n",
    "J == JJ"
   ]
  },
  {
   "cell_type": "markdown",
   "metadata": {},
   "source": [
    "## Complex multiplication\n",
    "\n",
    "Sage capabilities around complex multiplications, and quadratic imaginary orders in particular, are a bit limited, but still useful."
   ]
  },
  {
   "cell_type": "code",
   "execution_count": 15,
   "metadata": {},
   "outputs": [
    {
     "data": {
      "text/plain": [
       "Elliptic Curve defined by y^2 = x^3 + x over Rational Field"
      ]
     },
     "execution_count": 15,
     "metadata": {},
     "output_type": "execute_result"
    }
   ],
   "source": [
    "E = EllipticCurve([1,0])\n",
    "E"
   ]
  },
  {
   "cell_type": "markdown",
   "metadata": {},
   "source": [
    "Test whether a curve has complex multiplication"
   ]
  },
  {
   "cell_type": "code",
   "execution_count": 16,
   "metadata": {},
   "outputs": [
    {
     "data": {
      "text/plain": [
       "True"
      ]
     },
     "execution_count": 16,
     "metadata": {},
     "output_type": "execute_result"
    }
   ],
   "source": [
    "E.has_cm()"
   ]
  },
  {
   "cell_type": "markdown",
   "metadata": {},
   "source": [
    "Get the \"CM discriminant\", i.e. the discriminant of the order $\\mathcal{O}$ isomorphic to $\\mathrm{End}(E)$"
   ]
  },
  {
   "cell_type": "code",
   "execution_count": 17,
   "metadata": {},
   "outputs": [
    {
     "data": {
      "text/plain": [
       "-4"
      ]
     },
     "execution_count": 17,
     "metadata": {},
     "output_type": "execute_result"
    }
   ],
   "source": [
    "E.cm_discriminant()"
   ]
  },
  {
   "cell_type": "markdown",
   "metadata": {},
   "source": [
    "(ordinary) curves over finite fields and the Frobenius endomorphism"
   ]
  },
  {
   "cell_type": "code",
   "execution_count": 18,
   "metadata": {},
   "outputs": [
    {
     "data": {
      "text/plain": [
       "Elliptic Curve defined by y^2 = x^3 + x + 2 over Finite Field of size 101"
      ]
     },
     "execution_count": 18,
     "metadata": {},
     "output_type": "execute_result"
    }
   ],
   "source": [
    "E = EllipticCurve(GF(101), [1,2])\n",
    "E"
   ]
  },
  {
   "cell_type": "code",
   "execution_count": 19,
   "metadata": {},
   "outputs": [
    {
     "data": {
      "text/plain": [
       "4"
      ]
     },
     "execution_count": 19,
     "metadata": {},
     "output_type": "execute_result"
    }
   ],
   "source": [
    "E.j_invariant()"
   ]
  },
  {
   "cell_type": "code",
   "execution_count": 20,
   "metadata": {},
   "outputs": [
    {
     "data": {
      "text/plain": [
       "True"
      ]
     },
     "execution_count": 20,
     "metadata": {},
     "output_type": "execute_result"
    }
   ],
   "source": [
    "E.is_ordinary()"
   ]
  },
  {
   "cell_type": "code",
   "execution_count": 21,
   "metadata": {},
   "outputs": [
    {
     "data": {
      "text/plain": [
       "False"
      ]
     },
     "execution_count": 21,
     "metadata": {},
     "output_type": "execute_result"
    }
   ],
   "source": [
    "E.is_supersingular()"
   ]
  },
  {
   "cell_type": "code",
   "execution_count": 22,
   "metadata": {},
   "outputs": [
    {
     "data": {
      "text/plain": [
       "x^2 - 2*x + 101"
      ]
     },
     "execution_count": 22,
     "metadata": {},
     "output_type": "execute_result"
    }
   ],
   "source": [
    "chi = E.frobenius_polynomial()\n",
    "chi"
   ]
  },
  {
   "cell_type": "code",
   "execution_count": 23,
   "metadata": {},
   "outputs": [
    {
     "data": {
      "text/plain": [
       "-400"
      ]
     },
     "execution_count": 23,
     "metadata": {},
     "output_type": "execute_result"
    }
   ],
   "source": [
    "chi.discriminant()"
   ]
  },
  {
   "cell_type": "code",
   "execution_count": 24,
   "metadata": {},
   "outputs": [
    {
     "data": {
      "text/plain": [
       "2"
      ]
     },
     "execution_count": 24,
     "metadata": {},
     "output_type": "execute_result"
    }
   ],
   "source": [
    "E.trace_of_frobenius()"
   ]
  },
  {
   "cell_type": "code",
   "execution_count": 25,
   "metadata": {},
   "outputs": [
    {
     "data": {
      "text/plain": [
       "Order in Number Field in phi with defining polynomial x^2 - 2*x + 101"
      ]
     },
     "execution_count": 25,
     "metadata": {},
     "output_type": "execute_result"
    }
   ],
   "source": [
    "O = E.frobenius_order()\n",
    "O"
   ]
  },
  {
   "cell_type": "code",
   "execution_count": 26,
   "metadata": {},
   "outputs": [
    {
     "data": {
      "text/plain": [
       "False"
      ]
     },
     "execution_count": 26,
     "metadata": {},
     "output_type": "execute_result"
    }
   ],
   "source": [
    "O.is_maximal()"
   ]
  },
  {
   "cell_type": "code",
   "execution_count": 27,
   "metadata": {},
   "outputs": [
    {
     "data": {
      "text/plain": [
       "-400"
      ]
     },
     "execution_count": 27,
     "metadata": {},
     "output_type": "execute_result"
    }
   ],
   "source": [
    "O.discriminant()"
   ]
  },
  {
   "cell_type": "code",
   "execution_count": 28,
   "metadata": {},
   "outputs": [
    {
     "data": {
      "text/plain": [
       "Number Field in phi with defining polynomial x^2 - 2*x + 101"
      ]
     },
     "execution_count": 28,
     "metadata": {},
     "output_type": "execute_result"
    }
   ],
   "source": [
    "K = O.number_field()\n",
    "K"
   ]
  },
  {
   "cell_type": "code",
   "execution_count": 29,
   "metadata": {},
   "outputs": [
    {
     "data": {
      "text/plain": [
       "Gaussian Integers in Number Field in phi with defining polynomial x^2 - 2*x + 101"
      ]
     },
     "execution_count": 29,
     "metadata": {},
     "output_type": "execute_result"
    }
   ],
   "source": [
    "OK = K.maximal_order()\n",
    "OK"
   ]
  },
  {
   "cell_type": "code",
   "execution_count": 30,
   "metadata": {},
   "outputs": [
    {
     "data": {
      "text/plain": [
       "-4"
      ]
     },
     "execution_count": 30,
     "metadata": {},
     "output_type": "execute_result"
    }
   ],
   "source": [
    "OK.discriminant()"
   ]
  },
  {
   "cell_type": "code",
   "execution_count": 31,
   "metadata": {},
   "outputs": [
    {
     "data": {
      "text/plain": [
       "1"
      ]
     },
     "execution_count": 31,
     "metadata": {},
     "output_type": "execute_result"
    }
   ],
   "source": [
    "K.class_number()"
   ]
  },
  {
   "cell_type": "code",
   "execution_count": 32,
   "metadata": {},
   "outputs": [
    {
     "data": {
      "text/plain": [
       "1"
      ]
     },
     "execution_count": 32,
     "metadata": {},
     "output_type": "execute_result"
    }
   ],
   "source": [
    "OK.class_number()"
   ]
  },
  {
   "cell_type": "code",
   "execution_count": 33,
   "metadata": {},
   "outputs": [
    {
     "data": {
      "text/plain": [
       "Class group of order 1 of Number Field in phi with defining polynomial x^2 - 2*x + 101"
      ]
     },
     "execution_count": 33,
     "metadata": {},
     "output_type": "execute_result"
    }
   ],
   "source": [
    "K.class_group()"
   ]
  },
  {
   "cell_type": "code",
   "execution_count": 34,
   "metadata": {},
   "outputs": [
    {
     "data": {
      "text/plain": [
       "4"
      ]
     },
     "execution_count": 34,
     "metadata": {},
     "output_type": "execute_result"
    }
   ],
   "source": [
    "O.class_number()"
   ]
  },
  {
   "cell_type": "markdown",
   "metadata": {},
   "source": [
    "## Hilbert class polynomials\n",
    "\n",
    "The Hilbert class polynomial $H(-D)$ is the polynomial with coefficients in $ℤ$ whose roots are the $j$-invariants with CM by (the order of discriminant) $-D$."
   ]
  },
  {
   "cell_type": "code",
   "execution_count": 35,
   "metadata": {},
   "outputs": [
    {
     "data": {
      "text/plain": [
       "x^4 - 1938773508354872717845384224*x^3 + 12869286863161864184636279443710336*x^2 - 19075061455767889406477974994607212544*x + 87448873738295790450948276123544550117376"
      ]
     },
     "execution_count": 35,
     "metadata": {},
     "output_type": "execute_result"
    }
   ],
   "source": [
    "H = hilbert_class_polynomial(-400)\n",
    "H"
   ]
  },
  {
   "cell_type": "code",
   "execution_count": 36,
   "metadata": {},
   "outputs": [
    {
     "data": {
      "text/plain": [
       "True"
      ]
     },
     "execution_count": 36,
     "metadata": {},
     "output_type": "execute_result"
    }
   ],
   "source": [
    "H.is_irreducible()"
   ]
  },
  {
   "cell_type": "code",
   "execution_count": 37,
   "metadata": {},
   "outputs": [
    {
     "data": {
      "text/plain": [
       "(x + 7) * (x + 24) * (x + 64) * (x + 97)"
      ]
     },
     "execution_count": 37,
     "metadata": {},
     "output_type": "execute_result"
    }
   ],
   "source": [
    "H.change_ring(GF(101)).factor()"
   ]
  },
  {
   "cell_type": "markdown",
   "metadata": {},
   "source": [
    "# Exercises"
   ]
  },
  {
   "cell_type": "markdown",
   "metadata": {},
   "source": [
    "### Exercise 1\n",
    "\n",
    "Consider the curve"
   ]
  },
  {
   "cell_type": "code",
   "execution_count": 3,
   "metadata": {},
   "outputs": [],
   "source": [
    "E = EllipticCurve(GF(127), [97, 46])"
   ]
  },
  {
   "cell_type": "markdown",
   "metadata": {},
   "source": [
    "List all isogenies with kernel of size 43 (i.e., of degree 43) defined over $𝔽_{127}$."
   ]
  },
  {
   "cell_type": "code",
   "execution_count": 4,
   "metadata": {},
   "outputs": [
    {
     "data": {
      "text/plain": [
       "True"
      ]
     },
     "execution_count": 4,
     "metadata": {},
     "output_type": "execute_result"
    }
   ],
   "source": [
    "is_prime(43)"
   ]
  },
  {
   "cell_type": "code",
   "execution_count": 5,
   "metadata": {},
   "outputs": [
    {
     "data": {
      "text/plain": [
       "3 * 43"
      ]
     },
     "execution_count": 5,
     "metadata": {},
     "output_type": "execute_result"
    }
   ],
   "source": [
    "E.order().factor()"
   ]
  },
  {
   "cell_type": "code",
   "execution_count": 7,
   "metadata": {},
   "outputs": [],
   "source": [
    "%display latex"
   ]
  },
  {
   "cell_type": "code",
   "execution_count": 8,
   "metadata": {},
   "outputs": [
    {
     "data": {
      "text/html": [
       "<html>\\(\\displaystyle \\newcommand{\\ZZ}{\\Bold{Z}}\\newcommand{\\Bold}[1]{\\mathbf{#1}}\\frac{\\ZZ}{129\\ZZ}\\)</html>"
      ],
      "text/latex": [
       "$\\displaystyle \\newcommand{\\ZZ}{\\Bold{Z}}\\newcommand{\\Bold}[1]{\\mathbf{#1}}\\frac{\\ZZ}{129\\ZZ}$"
      ],
      "text/plain": [
       "Additive abelian group isomorphic to Z/129 embedded in Abelian group of points on Elliptic Curve defined by y^2 = x^3 + 97*x + 46 over Finite Field of size 127"
      ]
     },
     "execution_count": 8,
     "metadata": {},
     "output_type": "execute_result"
    }
   ],
   "source": [
    "E.abelian_group()"
   ]
  },
  {
   "cell_type": "code",
   "execution_count": 9,
   "metadata": {},
   "outputs": [
    {
     "data": {
      "text/html": [
       "<html>\\(\\displaystyle \\left(\\left(80 : 54 : 1\\right)\\right)\\)</html>"
      ],
      "text/latex": [
       "$\\displaystyle \\left(\\left(80 : 54 : 1\\right)\\right)$"
      ],
      "text/plain": [
       "((80 : 54 : 1),)"
      ]
     },
     "execution_count": 9,
     "metadata": {},
     "output_type": "execute_result"
    }
   ],
   "source": [
    "gens = E.gens()\n",
    "gens"
   ]
  },
  {
   "cell_type": "code",
   "execution_count": 11,
   "metadata": {},
   "outputs": [
    {
     "data": {
      "text/html": [
       "<html>\\(\\displaystyle \\left(80 : 54 : 1\\right)\\)</html>"
      ],
      "text/latex": [
       "$\\displaystyle \\left(80 : 54 : 1\\right)$"
      ],
      "text/plain": [
       "(80 : 54 : 1)"
      ]
     },
     "execution_count": 11,
     "metadata": {},
     "output_type": "execute_result"
    }
   ],
   "source": [
    "g = gens[0]\n",
    "g"
   ]
  },
  {
   "cell_type": "code",
   "execution_count": 12,
   "metadata": {},
   "outputs": [
    {
     "data": {
      "text/html": [
       "<html>\\(\\displaystyle 129\\)</html>"
      ],
      "text/latex": [
       "$\\displaystyle 129$"
      ],
      "text/plain": [
       "129"
      ]
     },
     "execution_count": 12,
     "metadata": {},
     "output_type": "execute_result"
    }
   ],
   "source": [
    "g.order()"
   ]
  },
  {
   "cell_type": "code",
   "execution_count": 13,
   "metadata": {},
   "outputs": [
    {
     "data": {
      "text/html": [
       "<html>\\(\\displaystyle 43\\)</html>"
      ],
      "text/latex": [
       "$\\displaystyle 43$"
      ],
      "text/plain": [
       "43"
      ]
     },
     "execution_count": 13,
     "metadata": {},
     "output_type": "execute_result"
    }
   ],
   "source": [
    "ker = 3*g\n",
    "ker.order()"
   ]
  },
  {
   "cell_type": "code",
   "execution_count": 15,
   "metadata": {},
   "outputs": [],
   "source": [
    "%display plain"
   ]
  },
  {
   "cell_type": "code",
   "execution_count": 16,
   "metadata": {},
   "outputs": [
    {
     "data": {
      "text/plain": [
       "Isogeny of degree 43 from Elliptic Curve defined by y^2 = x^3 + 97*x + 46 over Finite Field of size 127 to Elliptic Curve defined by y^2 = x^3 + 38*x + 16 over Finite Field of size 127"
      ]
     },
     "execution_count": 16,
     "metadata": {},
     "output_type": "execute_result"
    }
   ],
   "source": [
    "I = E.isogeny(ker)\n",
    "I"
   ]
  },
  {
   "cell_type": "markdown",
   "metadata": {},
   "source": [
    "How many isogenies of degree 43 does the curve have over $𝔽_{127^7}$?"
   ]
  },
  {
   "cell_type": "code",
   "execution_count": 17,
   "metadata": {},
   "outputs": [
    {
     "data": {
      "text/plain": [
       "Elliptic Curve defined by y^2 = x^3 + 97*x + 46 over Finite Field in z7 of size 127^7"
      ]
     },
     "execution_count": 17,
     "metadata": {},
     "output_type": "execute_result"
    }
   ],
   "source": [
    "E7 = E.change_ring(GF(127^7))\n",
    "E7"
   ]
  },
  {
   "cell_type": "code",
   "execution_count": 18,
   "metadata": {},
   "outputs": [
    {
     "data": {
      "text/plain": [
       "3 * 43^2 * 2017 * 47627959"
      ]
     },
     "execution_count": 18,
     "metadata": {},
     "output_type": "execute_result"
    }
   ],
   "source": [
    "E7.order().factor()"
   ]
  },
  {
   "cell_type": "code",
   "execution_count": 19,
   "metadata": {},
   "outputs": [
    {
     "data": {
      "text/plain": [
       "Additive abelian group isomorphic to Z/12392461536087 + Z/43 embedded in Abelian group of points on Elliptic Curve defined by y^2 = x^3 + 97*x + 46 over Finite Field in z7 of size 127^7"
      ]
     },
     "execution_count": 19,
     "metadata": {},
     "output_type": "execute_result"
    }
   ],
   "source": [
    "E7.abelian_group()"
   ]
  },
  {
   "cell_type": "code",
   "execution_count": 22,
   "metadata": {},
   "outputs": [
    {
     "data": {
      "text/plain": [
       "1849"
      ]
     },
     "execution_count": 22,
     "metadata": {},
     "output_type": "execute_result"
    }
   ],
   "source": [
    "len(E7(0).division_points(43))"
   ]
  },
  {
   "cell_type": "code",
   "execution_count": 23,
   "metadata": {},
   "outputs": [
    {
     "data": {
      "text/plain": [
       "(43) * (x + 5) * (x + 11) * (x + 13) * (x + 14) * (x + 16) * (x + 19) * (x + 28) * (x + 49) * (x + 56) * (x + 69) * (x + 72) * (x + 76) * (x + 81) * (x + 85) * (x + 92) * (x + 93) * (x + 95) * (x + 112) * (x + 113) * (x + 116) * (x + 125) * (x + 91*z7^5 + 16*z7^4 + 67*z7^3 + 5*z7^2 + 25*z7 + 6) * (x + 20*z7^5 + 86*z7^4 + 34*z7^3 + 21*z7^2 + 77*z7 + 7) * (x + 120*z7^5 + 99*z7^4 + 41*z7^3 + 4*z7^2 + 118*z7 + 22) * (x + 111*z7^5 + 48*z7^4 + 43*z7^3 + 12*z7^2 + 32*z7 + 45) * (x + 65*z7^5 + 2*z7^4 + 119*z7^3 + 57*z7^2 + 76*z7 + 64) * (x + 32*z7^5 + 17*z7^4 + 125*z7^3 + 28*z7^2 + 107*z7 + 88) * (x + 82*z7^5 + 58*z7^4 + 104*z7^2 + 33*z7 + 100) * (x + 86*z7^6 + 90*z7^5 + 104*z7^4 + 120*z7^3 + 54*z7^2 + 2*z7) * (x + 55*z7^6 + 104*z7^5 + 105*z7^4 + 111*z7^3 + 63*z7^2 + 8*z7) * (x + 26*z7^6 + 10*z7^5 + 8*z7^4 + 50*z7^3 + 78*z7^2 + 35*z7) * (x + 63*z7^6 + 61*z7^5 + 14*z7^4 + 123*z7^3 + 34*z7^2 + 38*z7) * (x + 58*z7^6 + 118*z7^5 + 78*z7^4 + 94*z7^3 + 109*z7^2 + 42*z7) * (x + 91*z7^6 + 53*z7^5 + 119*z7^4 + 51*z7^3 + z7^2 + 43*z7) * (x + 68*z7^6 + 13*z7^5 + 15*z7^4 + 99*z7^3 + 50*z7^2 + 58*z7) * (x + 96*z7^6 + 21*z7^5 + 15*z7^4 + 91*z7^3 + 74*z7^2 + z7 + 1) * (x + 19*z7^6 + 5*z7^5 + 29*z7^4 + 72*z7^3 + 16*z7^2 + 31*z7 + 1) * (x + 102*z7^6 + 93*z7^5 + 17*z7^4 + 86*z7^3 + 125*z7^2 + 33*z7 + 1) * (x + 99*z7^6 + 100*z7^5 + 31*z7^4 + 4*z7^3 + 13*z7^2 + 35*z7 + 1) * (x + 110*z7^6 + 48*z7^5 + 125*z7^4 + 99*z7^3 + 83*z7^2 + 48*z7 + 1) * (x + 39*z7^6 + 68*z7^5 + 116*z7^4 + 123*z7^3 + 31*z7^2 + 54*z7 + 1) * (x + 49*z7^6 + 95*z7^5 + z7^4 + 72*z7^3 + 24*z7^2 + 82*z7 + 1) * (x + 106*z7^6 + 22*z7^5 + 76*z7^4 + 114*z7^3 + 27*z7^2 + 117*z7 + 1) * (x + 30*z7^6 + 21*z7^5 + 42*z7^4 + 78*z7^3 + 119*z7^2 + 18*z7 + 2) * (x + 94*z7^6 + 86*z7^5 + 104*z7^4 + 83*z7^3 + 80*z7^2 + 63*z7 + 2) * (x + 46*z7^6 + 40*z7^5 + 20*z7^4 + 52*z7^3 + 41*z7^2 + 74*z7 + 2) * (x + 57*z7^6 + 34*z7^5 + 73*z7^4 + 41*z7^3 + 99*z7^2 + 77*z7 + 2) * (x + 74*z7^6 + 95*z7^5 + 80*z7^4 + 73*z7^3 + 80*z7^2 + 80*z7 + 2) * (x + 77*z7^6 + 50*z7^5 + 68*z7^4 + 116*z7^3 + 51*z7^2 + 92*z7 + 2) * (x + 82*z7^6 + 53*z7^5 + 77*z7^4 + 29*z7^3 + 31*z7^2 + 108*z7 + 2) * (x + 102*z7^6 + 62*z7^5 + 110*z7^4 + 100*z7^3 + 33*z7^2 + 122*z7 + 2) * (x + 52*z7^6 + 39*z7^5 + 12*z7^4 + 55*z7^3 + 120*z7^2 + 124*z7 + 2) * (x + 41*z7^6 + 8*z7^5 + 89*z7^4 + 122*z7^3 + 34*z7^2 + 9*z7 + 3) * (x + 23*z7^6 + 29*z7^5 + 78*z7^4 + 107*z7^3 + 45*z7^2 + 16*z7 + 3) * (x + 26*z7^6 + 39*z7^5 + 94*z7^4 + 31*z7^3 + 26*z7^2 + 28*z7 + 3) * (x + 45*z7^6 + 125*z7^5 + 63*z7^4 + 71*z7^3 + 11*z7^2 + 53*z7 + 3) * (x + 14*z7^6 + 26*z7^5 + 84*z7^4 + 28*z7^3 + 30*z7^2 + 60*z7 + 3) * (x + 60*z7^6 + 64*z7^5 + 48*z7^4 + 94*z7^3 + 3*z7^2 + 84*z7 + 3) * (x + 53*z7^6 + 47*z7^5 + 100*z7^4 + 93*z7^3 + 41*z7^2 + 17*z7 + 4) * (x + 84*z7^6 + 7*z7^5 + 10*z7^4 + 123*z7^3 + 104*z7^2 + 20*z7 + 4) * (x + 77*z7^6 + 5*z7^5 + 60*z7^4 + 84*z7^3 + 126*z7^2 + 30*z7 + 4) * (x + 106*z7^6 + 104*z7^5 + 18*z7^4 + 60*z7^3 + 36*z7^2 + 35*z7 + 4) * (x + 24*z7^6 + 27*z7^5 + 103*z7^4 + 98*z7^3 + 6*z7^2 + 41*z7 + 4) * (x + 10*z7^6 + 105*z7^5 + 89*z7^4 + 89*z7^3 + 76*z7^2 + 51*z7 + 4) * (x + 4*z7^6 + 85*z7^5 + 12*z7^4 + 87*z7^3 + 54*z7 + 4) * (x + 37*z7^6 + 64*z7^5 + 109*z7^4 + 32*z7^3 + 125*z7^2 + 76*z7 + 4) * (x + 125*z7^6 + 47*z7^4 + 30*z7^3 + 122*z7^2 + 82*z7 + 4) * (x + 26*z7^6 + 114*z7^5 + 106*z7^4 + 45*z7^3 + 47*z7^2 + 12*z7 + 5) * (x + 116*z7^6 + 14*z7^5 + 97*z7^4 + 29*z7^3 + 67*z7^2 + 71*z7 + 5) * (x + 106*z7^6 + 61*z7^5 + 51*z7^4 + 51*z7^3 + 86*z7^2 + 82*z7 + 5) * (x + 19*z7^6 + 110*z7^5 + 39*z7^4 + 5*z7^3 + 74*z7^2 + 88*z7 + 5) * (x + 90*z7^6 + 83*z7^5 + 109*z7^4 + 45*z7^3 + 46*z7^2 + 42*z7 + 6) * (x + 73*z7^6 + 125*z7^5 + 41*z7^4 + 79*z7^3 + 23*z7^2 + 47*z7 + 6) * (x + 92*z7^6 + 31*z7^5 + 24*z7^4 + 27*z7^3 + 113*z7^2 + 47*z7 + 6) * (x + 85*z7^6 + 115*z7^5 + 102*z7^4 + 33*z7^3 + 97*z7^2 + 63*z7 + 6) * (x + 21*z7^6 + 16*z7^5 + 34*z7^4 + 45*z7^3 + 106*z7^2 + 81*z7 + 6) * (x + 97*z7^6 + 57*z7^5 + 97*z7^4 + 121*z7^3 + 109*z7^2 + 106*z7 + 6) * (x + 68*z7^6 + 9*z7^5 + 23*z7^4 + 15*z7^3 + 88*z7^2 + 110*z7 + 6) * (x + 2*z7^6 + 115*z7^5 + 118*z7^4 + 114*z7^3 + 56*z7^2 + 8*z7 + 7) * (x + 108*z7^6 + 29*z7^5 + 43*z7^4 + 120*z7^3 + 19*z7^2 + 9*z7 + 7) * (x + 35*z7^6 + 57*z7^5 + 98*z7^4 + 81*z7^3 + 80*z7^2 + 30*z7 + 7) * (x + 40*z7^6 + 99*z7^5 + 31*z7^4 + 61*z7^3 + 63*z7^2 + 36*z7 + 7) * (x + 119*z7^6 + 76*z7^5 + 67*z7^4 + 85*z7^3 + 87*z7^2 + 47*z7 + 7) * (x + 48*z7^6 + 91*z7^5 + 47*z7^4 + 55*z7^3 + 85*z7^2 + 53*z7 + 7) * (x + 115*z7^6 + 22*z7^5 + 83*z7^4 + 80*z7^3 + 83*z7^2 + 91*z7 + 7) * (x + 116*z7^6 + 51*z7^5 + 87*z7^4 + 3*z7^3 + 59*z7^2 + 112*z7 + 7) * (x + 4*z7^6 + 99*z7^5 + 46*z7^4 + 19*z7^3 + 93*z7^2 + 121*z7 + 7) * (x + 49*z7^6 + 117*z7^5 + 69*z7^4 + 124*z7^3 + 91*z7^2 + 9*z7 + 8) * (x + 47*z7^6 + 119*z7^5 + 118*z7^4 + 5*z7^3 + 120*z7^2 + 11*z7 + 8) * (x + 28*z7^6 + 27*z7^5 + 47*z7^4 + 55*z7^3 + 8*z7^2 + 22*z7 + 8) * (x + 111*z7^6 + 10*z7^5 + 82*z7^4 + 66*z7^3 + 21*z7^2 + 36*z7 + 8) * (x + 84*z7^6 + 124*z7^5 + 75*z7^4 + 80*z7^3 + 9*z7^2 + 48*z7 + 8) * (x + 114*z7^6 + 62*z7^5 + 81*z7^4 + 76*z7^3 + 58*z7^2 + 48*z7 + 8) * (x + 107*z7^6 + 60*z7^5 + 111*z7^4 + 50*z7^3 + 77*z7^2 + 85*z7 + 8) * (x + 4*z7^6 + 19*z7^5 + 20*z7^4 + 54*z7^3 + 125*z7^2 + 91*z7 + 8) * (x + 100*z7^6 + 19*z7^5 + 23*z7^4 + 122*z7^3 + 43*z7^2 + 94*z7 + 8) * (x + 91*z7^6 + 13*z7^5 + 88*z7^4 + 26*z7^3 + 117*z7^2 + 97*z7 + 8) * (x + 16*z7^6 + 9*z7^5 + 29*z7^4 + 5*z7^3 + 62*z7^2 + 100*z7 + 8) * (x + 15*z7^6 + 31*z7^5 + 4*z7^4 + 6*z7^3 + 27*z7^2 + 108*z7 + 8) * (x + 4*z7^6 + 5*z7^5 + 48*z7^4 + 26*z7^3 + 54*z7^2 + 116*z7 + 8) * (x + 69*z7^6 + 35*z7^5 + 48*z7^4 + 50*z7^3 + 100*z7^2 + 55*z7 + 9) * (x + 43*z7^6 + 33*z7^5 + 113*z7^4 + 117*z7^3 + 5*z7^2 + 57*z7 + 9) * (x + 114*z7^6 + 50*z7^5 + 88*z7^4 + 28*z7^3 + 24*z7^2 + 61*z7 + 9) * (x + 8*z7^6 + 17*z7^5 + 63*z7^4 + 121*z7^3 + 58*z7^2 + 67*z7 + 9) * (x + 100*z7^6 + 59*z7^5 + 56*z7^4 + 66*z7^3 + 52*z7^2 + 25*z7 + 10) * (x + 105*z7^6 + 5*z7^5 + 89*z7^4 + 126*z7^3 + 27*z7^2 + 33*z7 + 10) * (x + 58*z7^6 + 49*z7^5 + 21*z7^4 + 82*z7^3 + 24*z7^2 + 63*z7 + 10) * (x + 11*z7^6 + 41*z7^5 + 75*z7^4 + 43*z7^3 + 65*z7^2 + 14*z7 + 11) * (x + 78*z7^6 + 80*z7^5 + 81*z7^4 + 96*z7^3 + 112*z7^2 + 20*z7 + 11) * (x + 97*z7^6 + 79*z7^5 + 49*z7^4 + 96*z7^3 + 119*z7^2 + 26*z7 + 11) * (x + 24*z7^6 + 106*z7^5 + 10*z7^4 + 70*z7^3 + 116*z7^2 + 30*z7 + 11) * (x + 47*z7^6 + 41*z7^5 + 92*z7^4 + 17*z7^3 + 95*z7^2 + 33*z7 + 11) * (x + 98*z7^6 + 90*z7^5 + 110*z7^4 + 61*z7^3 + 70*z7^2 + 35*z7 + 11) * (x + 39*z7^6 + 114*z7^5 + 18*z7^4 + 121*z7^3 + 44*z7^2 + 71*z7 + 11) * (x + 79*z7^6 + 105*z7^5 + 64*z7^4 + 7*z7^3 + 55*z7^2 + 75*z7 + 11) * (x + 72*z7^6 + 11*z7^5 + 30*z7^4 + 106*z7^3 + 38*z7^2 + 105*z7 + 11) * (x + 17*z7^6 + 105*z7^5 + 74*z7^4 + 72*z7^3 + 41*z7^2 + z7 + 12) * (x + 75*z7^6 + 53*z7^5 + 44*z7^4 + 76*z7^3 + 13*z7^2 + 33*z7 + 12) * (x + 118*z7^6 + 108*z7^5 + 17*z7^4 + 69*z7^3 + 60*z7^2 + 77*z7 + 12) * (x + 111*z7^6 + 24*z7^5 + 98*z7^4 + 62*z7^3 + 96*z7^2 + 89*z7 + 12) * (x + 75*z7^6 + 97*z7^5 + 15*z7^4 + 95*z7^3 + 106*z7^2 + 93*z7 + 12) * (x + 47*z7^6 + 84*z7^5 + 24*z7^4 + z7^3 + 62*z7^2 + 105*z7 + 12) * (x + 86*z7^6 + 48*z7^5 + 109*z7^4 + 117*z7^3 + 4*z7^2 + 113*z7 + 12) * (x + 10*z7^6 + 19*z7^5 + 58*z7^4 + 105*z7^3 + 67*z7^2 + 121*z7 + 12) * (x + 82*z7^6 + 110*z7^5 + 83*z7^4 + 90*z7^3 + 33*z7^2 + 32*z7 + 13) * (x + 69*z7^6 + 120*z7^5 + 14*z7^4 + 23*z7^3 + 126*z7^2 + 36*z7 + 13) * (x + 51*z7^6 + 72*z7^5 + 34*z7^4 + 19*z7^3 + 7*z7^2 + 79*z7 + 13) * (x + 8*z7^6 + 12*z7^5 + 47*z7^4 + 14*z7^3 + 116*z7^2 + 103*z7 + 13) * (x + 99*z7^6 + 14*z7^5 + 103*z7^4 + 113*z7^3 + 18*z7^2 + 111*z7 + 13) * (x + 96*z7^6 + 125*z7^5 + 32*z7^4 + 15*z7^3 + 18*z7^2 + 121*z7 + 13) * (x + 123*z7^6 + 54*z7^5 + 109*z7^4 + 10*z7^3 + 45*z7^2 + 123*z7 + 13) * (x + 30*z7^6 + 110*z7^5 + 66*z7^4 + 95*z7^3 + 123*z7^2 + 14) * (x + 33*z7^6 + 95*z7^5 + z7^4 + 4*z7^3 + 51*z7^2 + 36*z7 + 14) * (x + 91*z7^6 + 4*z7^5 + 88*z7^4 + 119*z7^3 + 119*z7^2 + 40*z7 + 14) * (x + 66*z7^6 + 42*z7^5 + 107*z7^4 + 56*z7^3 + 42*z7^2 + 46*z7 + 14) * (x + 54*z7^6 + 36*z7^5 + 124*z7^4 + 32*z7^3 + 17*z7^2 + 70*z7 + 14) * (x + 33*z7^6 + 66*z7^5 + 106*z7^4 + 63*z7^3 + 90*z7^2 + 84*z7 + 14) * (x + 7*z7^6 + 48*z7^5 + z7^4 + 75*z7^3 + 6*z7^2 + 94*z7 + 14) * (x + 42*z7^6 + 112*z7^5 + 55*z7^4 + 49*z7^3 + 44*z7^2 + 25*z7 + 15) * (x + 94*z7^6 + 74*z7^5 + 105*z7^4 + 117*z7^3 + 48*z7^2 + 28*z7 + 15) * (x + 116*z7^6 + 109*z7^5 + 70*z7^4 + 18*z7^3 + 55*z7^2 + 38*z7 + 15) * (x + 114*z7^6 + 44*z7^5 + 82*z7^4 + 107*z7^3 + 100*z7^2 + 42*z7 + 15) * (x + 9*z7^6 + 11*z7^5 + 16*z7^4 + 104*z7^3 + 48*z7^2 + 52*z7 + 15) * (x + 26*z7^6 + 87*z7^5 + 53*z7^4 + 124*z7^3 + 11*z7^2 + 125*z7 + 15) * (x + 106*z7^6 + 68*z7^5 + 58*z7^4 + 58*z7^3 + 16*z7^2 + 125*z7 + 15) * (x + 83*z7^6 + 105*z7^5 + 24*z7^4 + 27*z7^3 + 54*z7^2 + 20*z7 + 16) * (x + 96*z7^6 + 9*z7^5 + 122*z7^4 + 119*z7^3 + 11*z7^2 + 22*z7 + 16) * (x + 61*z7^6 + 80*z7^5 + 62*z7^4 + 113*z7^3 + 32*z7^2 + 24*z7 + 16) * (x + 90*z7^6 + 65*z7^5 + 97*z7^4 + 90*z7^3 + 8*z7^2 + 58*z7 + 16) * (x + 109*z7^6 + 92*z7^5 + 46*z7^4 + 67*z7^3 + 116*z7^2 + 66*z7 + 16) * (x + 47*z7^6 + 61*z7^5 + 49*z7^4 + 120*z7^3 + 73*z7^2 + 74*z7 + 16) * (x + 82*z7^6 + 41*z7^5 + 60*z7^4 + 30*z7^3 + 60*z7^2 + 85*z7 + 16) * (x + 33*z7^6 + 106*z7^5 + 43*z7^4 + 113*z7^3 + 108*z7^2 + 19*z7 + 17) * (x + 119*z7^6 + 98*z7^5 + 24*z7^4 + 125*z7^3 + 39*z7^2 + 40*z7 + 17) * (x + 91*z7^6 + 73*z7^5 + 69*z7^4 + 64*z7^3 + 97*z7^2 + 43*z7 + 17) * (x + 56*z7^6 + 18*z7^5 + 24*z7^4 + 34*z7^3 + 51*z7^2 + 80*z7 + 17) * (x + 69*z7^6 + 117*z7^5 + 29*z7^4 + 109*z7^3 + 43*z7^2 + 117*z7 + 17) * (x + 48*z7^6 + 26*z7^5 + 8*z7^4 + 100*z7^3 + 124*z7^2 + 6*z7 + 18) * (x + z7^6 + 113*z7^5 + 51*z7^4 + 110*z7^3 + 17*z7^2 + 21*z7 + 18) * (x + 90*z7^6 + 101*z7^5 + 79*z7^4 + 83*z7^3 + 78*z7^2 + 47*z7 + 18) * (x + 70*z7^6 + 61*z7^5 + 52*z7^4 + 89*z7^3 + 4*z7^2 + 61*z7 + 18) * (x + 105*z7^6 + 125*z7^5 + 102*z7^4 + 72*z7^3 + 64*z7^2 + 61*z7 + 18) * (x + 19*z7^6 + 123*z7^5 + 20*z7^4 + 64*z7^3 + 53*z7^2 + 73*z7 + 18) * (x + 51*z7^6 + 4*z7^5 + 99*z7^4 + 112*z7^3 + 44*z7^2 + 77*z7 + 18) * (x + 58*z7^6 + 64*z7^5 + 33*z7^4 + 39*z7^3 + 31*z7^2 + 106*z7 + 18) * (x + 95*z7^6 + 23*z7^5 + 2*z7^4 + 97*z7^3 + 78*z7^2 + 107*z7 + 18) * (x + 15*z7^6 + 78*z7^5 + 106*z7^4 + 20*z7^3 + 75*z7^2 + 5*z7 + 19) * (x + 41*z7^6 + 54*z7^5 + 121*z7^4 + 94*z7^3 + 34*z7^2 + 22*z7 + 19) * (x + 86*z7^6 + 38*z7^5 + 71*z7^4 + 44*z7^3 + 105*z7^2 + 50*z7 + 19) * (x + 47*z7^6 + 64*z7^5 + 36*z7^4 + 108*z7^3 + 15*z7^2 + 59*z7 + 19) * (x + 24*z7^6 + 85*z7^5 + 15*z7^4 + 8*z7^3 + 12*z7^2 + 70*z7 + 19) * (x + 27*z7^6 + 33*z7^5 + 91*z7^4 + 20*z7^3 + 96*z7^2 + 3*z7 + 20) * (x + 15*z7^6 + 113*z7^5 + 43*z7^4 + 76*z7^3 + 72*z7^2 + 33*z7 + 20) * (x + 28*z7^6 + 91*z7^5 + 101*z7^4 + 66*z7^3 + 23*z7^2 + 43*z7 + 20) * (x + 102*z7^6 + 102*z7^5 + 86*z7^4 + 9*z7^3 + 21*z7^2 + 47*z7 + 20) * (x + 6*z7^6 + 88*z7^5 + 5*z7^4 + 40*z7^3 + 59*z7^2 + 50*z7 + 20) * (x + 56*z7^6 + z7^5 + 16*z7^4 + 27*z7^3 + 42*z7^2 + 54*z7 + 20) * (x + 78*z7^6 + 113*z7^5 + 51*z7^4 + 104*z7^3 + 74*z7^2 + 57*z7 + 20) * (x + 123*z7^6 + 79*z7^5 + 115*z7^4 + 69*z7^3 + 21*z7^2 + 93*z7 + 20) * (x + 50*z7^6 + 16*z7^5 + 90*z7^4 + 2*z7^3 + 40*z7^2 + 95*z7 + 20) * (x + z7^6 + 52*z7^5 + 78*z7^4 + 47*z7^3 + 35*z7^2 + 97*z7 + 20) * (x + 68*z7^6 + 79*z7^5 + 19*z7^4 + 51*z7^3 + 103*z7^2 + 103*z7 + 20) * (x + 58*z7^6 + 49*z7^5 + 5*z7^4 + 4*z7^3 + 115*z7^2 + 118*z7 + 20) * (x + 108*z7^6 + 91*z7^5 + 93*z7^4 + 21*z7^3 + 100*z7^2 + 24*z7 + 21) * (x + 27*z7^6 + 94*z7^4 + 63*z7^3 + 56*z7^2 + 34*z7 + 21) * (x + 125*z7^6 + 80*z7^5 + 29*z7^4 + 75*z7^3 + 45*z7^2 + 52*z7 + 21) * (x + 111*z7^6 + 44*z7^5 + 5*z7^4 + 117*z7^3 + 72*z7^2 + 66*z7 + 21) * (x + 95*z7^6 + 99*z7^5 + 66*z7^4 + 120*z7^3 + 101*z7^2 + 79*z7 + 21) * (x + 74*z7^6 + 115*z7^5 + 80*z7^4 + 77*z7^3 + 17*z7^2 + 92*z7 + 21) * (x + 95*z7^6 + 32*z7^5 + 122*z7^4 + 58*z7^3 + 72*z7^2 + 97*z7 + 21) * (x + 37*z7^6 + 94*z7^5 + 53*z7^4 + 68*z7^3 + 24*z7^2 + 100*z7 + 21) * (x + 117*z7^6 + 57*z7^5 + 29*z7^4 + 122*z7^3 + 15*z7^2 + 55*z7 + 22) * (x + 34*z7^6 + 92*z7^5 + 19*z7^4 + 32*z7^3 + 114*z7^2 + 64*z7 + 22) * (x + 13*z7^6 + 55*z7^5 + 19*z7^4 + 66*z7^3 + 79*z7^2 + 116*z7 + 22) * (x + 5*z7^6 + 115*z7^5 + 59*z7^4 + 72*z7^3 + 110*z7^2 + 126*z7 + 22) * (x + 94*z7^6 + 103*z7^5 + 61*z7^4 + 84*z7^3 + 48*z7^2 + z7 + 23) * (x + 21*z7^6 + 78*z7^5 + 18*z7^4 + 57*z7^3 + 43*z7^2 + 4*z7 + 23) * (x + 109*z7^6 + z7^5 + 19*z7^3 + 68*z7^2 + 5*z7 + 23) * (x + 13*z7^6 + 55*z7^5 + 107*z7^4 + 103*z7^3 + 115*z7^2 + 34*z7 + 23) * (x + 18*z7^6 + 75*z7^5 + 7*z7^4 + 94*z7^3 + 121*z7^2 + 38*z7 + 23) * (x + 25*z7^6 + 14*z7^5 + 74*z7^4 + 78*z7^3 + 117*z7^2 + 56*z7 + 23) * (x + 87*z7^6 + 84*z7^5 + 92*z7^4 + 89*z7^3 + 55*z7^2 + 96*z7 + 23) * (x + 100*z7^6 + 42*z7^5 + 62*z7^4 + 85*z7^3 + 10*z7^2 + 108*z7 + 23) * (x + 19*z7^6 + 29*z7^5 + 10*z7^4 + 50*z7^3 + 114*z7^2 + 119*z7 + 23) * (x + 25*z7^6 + 61*z7^5 + 110*z7^4 + 9*z7^3 + 91*z7^2 + 120*z7 + 23) * (x + 59*z7^6 + 74*z7^5 + 121*z7^4 + 5*z7^3 + 30*z7^2 + 9*z7 + 24) * (x + 78*z7^6 + 64*z7^5 + 21*z7^4 + 119*z7^3 + 29*z7^2 + 12*z7 + 24) * (x + 62*z7^6 + 9*z7^5 + 99*z7^4 + 25*z7^3 + 9*z7^2 + 56*z7 + 24) * (x + 103*z7^6 + 107*z7^5 + 99*z7^4 + 48*z7^3 + 71*z7^2 + 82*z7 + 24) * (x + 29*z7^6 + 83*z7^5 + 43*z7^4 + 102*z7^3 + 111*z7^2 + 86*z7 + 24) * (x + 37*z7^6 + 97*z7^5 + 12*z7^4 + 59*z7^3 + 53*z7^2 + 87*z7 + 24) * (x + 122*z7^6 + 84*z7^5 + 91*z7^4 + 9*z7^3 + 42*z7^2 + 88*z7 + 24) * (x + 39*z7^6 + 64*z7^5 + 71*z7^4 + 37*z7^3 + 111*z7^2 + 93*z7 + 24) * (x + 109*z7^6 + 36*z7^5 + 97*z7^4 + 64*z7^3 + 65*z7^2 + 11*z7 + 25) * (x + 103*z7^6 + 65*z7^5 + 56*z7^4 + 50*z7^3 + 81*z7^2 + 19*z7 + 25) * (x + 26*z7^6 + 11*z7^5 + 47*z7^4 + 114*z7^3 + 101*z7^2 + 38*z7 + 25) * (x + 3*z7^6 + 98*z7^5 + 31*z7^4 + 62*z7^3 + 112*z7^2 + 41*z7 + 25) * (x + 16*z7^6 + 109*z7^5 + 76*z7^4 + 12*z7^3 + 59*z7^2 + 62*z7 + 25) * (x + 92*z7^6 + 96*z7^5 + 82*z7^4 + 75*z7^3 + 121*z7^2 + 83*z7 + 25) * (x + 80*z7^6 + 63*z7^5 + 16*z7^4 + 81*z7^3 + 23*z7^2 + 96*z7 + 25) * (x + 32*z7^6 + 96*z7^5 + 49*z7^4 + 6*z7^3 + 66*z7^2 + 97*z7 + 25) * (x + 16*z7^6 + 113*z7^5 + 76*z7^4 + 52*z7^3 + 27*z7^2 + 107*z7 + 25) * (x + 73*z7^6 + 63*z7^5 + 26*z7^4 + 50*z7^3 + 21*z7^2 + 110*z7 + 25) * (x + 52*z7^6 + 124*z7^5 + 99*z7^4 + 33*z7^3 + 78*z7^2 + 112*z7 + 25) * (x + 42*z7^6 + 30*z7^5 + 52*z7^4 + 27*z7^3 + 46*z7^2 + 4*z7 + 26) * (x + 58*z7^6 + 54*z7^5 + 31*z7^4 + 42*z7^3 + 43*z7^2 + 5*z7 + 26) * (x + 101*z7^6 + 4*z7^5 + 106*z7^4 + 27*z7^3 + 91*z7^2 + 17*z7 + 26) * (x + 99*z7^6 + 55*z7^5 + 47*z7^4 + 112*z7^3 + 120*z7^2 + 29*z7 + 26) * (x + 126*z7^6 + 110*z7^5 + 99*z7^4 + 103*z7^3 + 47*z7^2 + 44*z7 + 26) * (x + 4*z7^6 + 77*z7^5 + 116*z7^4 + 57*z7^3 + 9*z7^2 + 58*z7 + 26) * (x + 37*z7^6 + 103*z7^5 + 84*z7^4 + 67*z7^3 + 90*z7^2 + 65*z7 + 26) * (x + 58*z7^6 + 64*z7^5 + 114*z7^4 + 86*z7^3 + 67*z7^2 + 99*z7 + 26) * (x + 38*z7^6 + 65*z7^5 + 73*z7^4 + 55*z7^3 + 108*z7^2 + 122*z7 + 26) * (x + 62*z7^6 + 106*z7^5 + 31*z7^4 + 65*z7^3 + 72*z7^2 + 126*z7 + 26) * (x + 9*z7^6 + 116*z7^5 + 122*z7^4 + 45*z7^3 + 12*z7^2 + z7 + 27) * (x + 101*z7^6 + 49*z7^5 + 81*z7^4 + 105*z7^3 + 8*z7 + 27) * (x + 60*z7^6 + 92*z7^5 + 58*z7^4 + 68*z7^3 + 42*z7^2 + 45*z7 + 27) * (x + 87*z7^6 + 87*z7^5 + 36*z7^4 + 77*z7^3 + 125*z7^2 + 45*z7 + 27) * (x + 66*z7^6 + 12*z7^5 + 28*z7^4 + 122*z7^3 + 83*z7^2 + 61*z7 + 27) * (x + 15*z7^6 + 50*z7^5 + 26*z7^4 + 65*z7^3 + 103*z7^2 + 65*z7 + 27) * (x + 56*z7^6 + 32*z7^5 + 38*z7^4 + 72*z7^3 + 76*z7^2 + 86*z7 + 27) * (x + 99*z7^6 + 117*z7^5 + 87*z7^4 + 8*z7^3 + 77*z7^2 + 2*z7 + 28) * (x + 15*z7^6 + 125*z7^5 + 82*z7^4 + 33*z7^3 + 118*z7^2 + 11*z7 + 28) * (x + 88*z7^6 + 106*z7^5 + 55*z7^4 + 123*z7^3 + 69*z7^2 + 24*z7 + 28) * (x + 15*z7^6 + 114*z7^5 + 6*z7^4 + 75*z7^3 + 82*z7^2 + 80*z7 + 28) * (x + 77*z7^6 + 12*z7^5 + 39*z7^4 + 14*z7^3 + 115*z7^2 + 108*z7 + 28) * (x + 32*z7^6 + 48*z7^5 + 16*z7^4 + 50*z7^3 + 2*z7^2 + 110*z7 + 28) * (x + 58*z7^6 + 49*z7^5 + 124*z7^4 + 63*z7^3 + 108*z7^2 + 108*z7 + 29) * (x + 9*z7^6 + 79*z7^5 + 65*z7^4 + 14*z7^3 + 29*z7^2 + 18*z7 + 30) * (x + 113*z7^6 + 34*z7^5 + 26*z7^4 + 99*z7^3 + 36*z7^2 + 26*z7 + 30) * (x + 65*z7^6 + 114*z7^5 + 95*z7^4 + 87*z7^3 + 56*z7^2 + 59*z7 + 30) * (x + 44*z7^6 + 78*z7^5 + 37*z7^4 + 60*z7^3 + 62*z7^2 + 87*z7 + 30) * (x + 79*z7^6 + 74*z7^5 + 99*z7^4 + 91*z7^3 + 46*z7^2 + 104*z7 + 30) * (x + 58*z7^6 + 83*z7^5 + 112*z7^4 + 8*z7^3 + 75*z7^2 + 5*z7 + 31) * (x + 48*z7^6 + 88*z7^5 + 58*z7^4 + 65*z7^3 + 118*z7^2 + 12*z7 + 31) * (x + 11*z7^6 + 22*z7^5 + 116*z7^4 + 94*z7^3 + 21*z7^2 + 20*z7 + 31) * (x + 76*z7^6 + 9*z7^5 + 59*z7^4 + 10*z7^3 + 62*z7^2 + 25*z7 + 31) * (x + 21*z7^6 + 39*z7^5 + 119*z7^4 + 120*z7^3 + 66*z7^2 + 70*z7 + 31) * (x + 69*z7^6 + 56*z7^5 + 97*z7^4 + 72*z7^3 + 38*z7^2 + 80*z7 + 31) * (x + 82*z7^6 + 58*z7^5 + 124*z7^4 + 61*z7^3 + 83*z7^2 + 88*z7 + 31) * (x + 13*z7^6 + 105*z7^5 + 13*z7^4 + 5*z7^3 + 111*z7^2 + 115*z7 + 31) * (x + 13*z7^6 + 104*z7^5 + 68*z7^4 + 42*z7^3 + 81*z7^2 + 117*z7 + 31) * (x + 82*z7^6 + 108*z7^5 + 35*z7^4 + 89*z7^3 + 103*z7^2 + 120*z7 + 31) * (x + 112*z7^6 + 23*z7^5 + 5*z7^4 + 24*z7^3 + 25*z7^2 + 32) * (x + 70*z7^6 + 75*z7^5 + 82*z7^4 + 76*z7^3 + 85*z7^2 + 32) * (x + 116*z7^6 + 95*z7^5 + 12*z7^4 + 36*z7^3 + 94*z7^2 + 8*z7 + 32) * (x + 12*z7^6 + 22*z7^5 + 61*z7^4 + 106*z7^3 + 121*z7^2 + 10*z7 + 32) * (x + 99*z7^6 + 96*z7^5 + 49*z7^4 + 48*z7^3 + 84*z7^2 + 13*z7 + 32) * (x + 75*z7^6 + 70*z7^5 + 111*z7^4 + 14*z7^3 + 22*z7^2 + 29*z7 + 32) * (x + 20*z7^6 + 69*z7^5 + 75*z7^4 + 106*z7^3 + 65*z7^2 + 75*z7 + 32) * (x + 54*z7^6 + 118*z7^5 + 76*z7^4 + 99*z7^3 + 95*z7^2 + 83*z7 + 32) * (x + 116*z7^6 + 16*z7^5 + 30*z7^4 + 117*z7^3 + 67*z7^2 + 111*z7 + 32) * (x + 42*z7^6 + 11*z7^5 + 76*z7^4 + 110*z7^3 + 56*z7^2 + 113*z7 + 32) * (x + 13*z7^6 + 102*z7^5 + 97*z7^4 + 96*z7^3 + 25*z7^2 + 44*z7 + 33) * (x + 99*z7^6 + 55*z7^5 + 74*z7^4 + 86*z7^3 + 2*z7^2 + 68*z7 + 33) * (x + 39*z7^6 + 126*z7^5 + 66*z7^4 + 102*z7^3 + 69*z7^2 + 110*z7 + 33) * (x + 52*z7^6 + 85*z7^5 + 51*z7^4 + 119*z7^3 + 21*z7^2 + 27*z7 + 34) * (x + 78*z7^6 + 110*z7^5 + 9*z7^4 + 106*z7^3 + 34*z7^2 + 62*z7 + 34) * (x + 68*z7^6 + 123*z7^5 + 76*z7^4 + 101*z7^3 + 102*z7^2 + 113*z7 + 34) * (x + 107*z7^6 + 93*z7^4 + 44*z7^3 + 40*z7 + 35) * (x + 119*z7^6 + 115*z7^4 + 126*z7^3 + 77*z7^2 + 42*z7 + 35) * (x + 40*z7^6 + 70*z7^5 + 2*z7^4 + 60*z7^3 + 58*z7^2 + 43*z7 + 35) * (x + 101*z7^6 + 18*z7^5 + 30*z7^4 + 56*z7^3 + 82*z7^2 + 63*z7 + 35) * (x + 34*z7^6 + 6*z7^5 + 36*z7^4 + 106*z7^3 + 16*z7^2 + 95*z7 + 35) * (x + 113*z7^6 + 17*z7^5 + 26*z7^4 + 62*z7^3 + 123*z7^2 + 96*z7 + 35) * (x + 5*z7^6 + 97*z7^5 + 115*z7^4 + 31*z7^3 + 47*z7^2 + 106*z7 + 35) * (x + 76*z7^6 + 21*z7^5 + 98*z7^4 + 40*z7^3 + 99*z7^2 + 110*z7 + 35) * (x + 85*z7^6 + 97*z7^5 + 62*z7^4 + 25*z7^3 + 96*z7^2 + 121*z7 + 35) * (x + 82*z7^6 + 90*z7^5 + 8*z7^4 + 101*z7^3 + 97*z7^2 + 121*z7 + 35) * (x + 12*z7^6 + 93*z7^5 + 89*z7^4 + 13*z7^3 + 48*z7^2 + 3*z7 + 36) * (x + 88*z7^6 + 67*z7^5 + 39*z7^4 + 110*z7^3 + 7*z7^2 + 29*z7 + 36) * (x + 123*z7^6 + 25*z7^5 + 70*z7^4 + 118*z7^3 + 39*z7^2 + 36*z7 + 36) * (x + 46*z7^6 + 19*z7^5 + 91*z7^4 + 19*z7^3 + 51*z7^2 + 40*z7 + 36) * (x + 81*z7^6 + 124*z7^5 + 91*z7^4 + 4*z7^3 + 67*z7^2 + 51*z7 + 36) * (x + 105*z7^6 + 88*z7^5 + 124*z7^4 + 10*z7^3 + 8*z7^2 + 53*z7 + 36) * (x + 109*z7^6 + 116*z7^5 + 67*z7^4 + 39*z7^3 + 32*z7^2 + 58*z7 + 36) * (x + 17*z7^6 + 54*z7^5 + 122*z7^4 + 25*z7^3 + 119*z7^2 + 60*z7 + 36) * (x + 112*z7^6 + 13*z7^5 + 11*z7^4 + 50*z7^3 + 3*z7^2 + 84*z7 + 36) * (x + 56*z7^6 + 29*z7^5 + 14*z7^4 + 68*z7^3 + 47*z7^2 + 101*z7 + 36) * (x + 14*z7^6 + 122*z7^5 + 20*z7^4 + 42*z7^3 + 60*z7^2 + 121*z7 + 36) * (x + 50*z7^6 + 106*z7^5 + 74*z7^4 + 97*z7^3 + 102*z7^2 + 37) * (x + 84*z7^6 + 62*z7^5 + 63*z7^4 + 13*z7^3 + 103*z7^2 + 12*z7 + 37) * (x + 14*z7^6 + 43*z7^5 + 126*z7^4 + 122*z7^3 + 54*z7^2 + 16*z7 + 37) * (x + 37*z7^6 + 109*z7^5 + 80*z7^4 + 49*z7^3 + 108*z7^2 + 65*z7 + 37) * (x + 65*z7^6 + 12*z7^5 + 21*z7^4 + 24*z7^3 + 25*z7^2 + 74*z7 + 37) * (x + 87*z7^6 + 43*z7^5 + 48*z7^4 + 99*z7^3 + 101*z7^2 + 91*z7 + 37) * (x + 107*z7^6 + 8*z7^5 + 123*z7^4 + 13*z7^3 + 10*z7^2 + 124*z7 + 37) * (x + 57*z7^6 + 9*z7^5 + 94*z7^4 + 96*z7^3 + 11*z7^2 + 18*z7 + 38) * (x + 12*z7^6 + 38*z7^5 + 100*z7^4 + 13*z7^3 + 96*z7^2 + 44*z7 + 38) * (x + 38*z7^6 + 8*z7^5 + 65*z7^4 + 42*z7^3 + 65*z7^2 + 48*z7 + 38) * (x + 26*z7^6 + 33*z7^5 + 123*z7^4 + 76*z7^3 + 81*z7^2 + 49*z7 + 38) * (x + 7*z7^6 + 15*z7^5 + 48*z7^4 + 75*z7^3 + 122*z7^2 + 60*z7 + 38) * (x + 26*z7^6 + 120*z7^5 + 117*z7^4 + 12*z7^3 + 104*z7^2 + 72*z7 + 38) * (x + 76*z7^6 + 120*z7^5 + 102*z7^4 + 20*z7^3 + 18*z7^2 + 114*z7 + 38) * (x + 23*z7^6 + 32*z7^5 + 62*z7^4 + 29*z7^3 + 60*z7^2 + 5*z7 + 39) * (x + 3*z7^6 + 97*z7^5 + 79*z7^4 + 31*z7^3 + 88*z7^2 + 64*z7 + 39) * (x + 101*z7^6 + 39*z7^5 + 83*z7^4 + 107*z7^3 + 123*z7^2 + 68*z7 + 39) * (x + 46*z7^6 + 51*z7^5 + 83*z7^4 + 87*z7^3 + 63*z7^2 + 100*z7 + 39) * (x + 33*z7^6 + 119*z7^5 + 72*z7^4 + 72*z7^3 + 92*z7^2 + 7*z7 + 40) * (x + 103*z7^6 + 53*z7^5 + 73*z7^4 + 68*z7^3 + 24*z7^2 + 12*z7 + 40) * (x + 91*z7^6 + 3*z7^5 + 83*z7^4 + 44*z7^3 + 87*z7^2 + 14*z7 + 40) * (x + 54*z7^6 + 10*z7^5 + 40*z7^4 + 51*z7^3 + 13*z7^2 + 24*z7 + 40) * (x + 26*z7^6 + 114*z7^5 + 32*z7^4 + 81*z7^3 + 35*z7^2 + 58*z7 + 40) * (x + 70*z7^6 + 12*z7^5 + 109*z7^4 + 30*z7^3 + 36*z7^2 + 58*z7 + 40) * (x + 44*z7^6 + 27*z7^5 + 71*z7^4 + 80*z7^3 + 82*z7^2 + 59*z7 + 40) * (x + 123*z7^6 + 95*z7^5 + 69*z7^4 + 39*z7^3 + 69*z7^2 + 110*z7 + 40) * (x + 72*z7^6 + 24*z7^5 + 24*z7^4 + 62*z7^3 + 87*z7^2 + 41) * (x + 5*z7^6 + 93*z7^5 + 5*z7^4 + 37*z7^3 + 21*z7^2 + 40*z7 + 41) * (x + 113*z7^6 + 110*z7^5 + 59*z7^4 + 41*z7^3 + 73*z7^2 + 50*z7 + 41) * (x + 90*z7^6 + 111*z7^5 + 17*z7^4 + 89*z7^3 + 38*z7^2 + 73*z7 + 41) * (x + 28*z7^6 + 19*z7^5 + 92*z7^4 + 9*z7^3 + 85*z7^2 + 79*z7 + 41) * (x + 59*z7^6 + 106*z7^5 + 36*z7^4 + 61*z7^3 + 63*z7^2 + 105*z7 + 41) * (x + 85*z7^6 + 103*z7^5 + 110*z7^4 + 30*z7^3 + 111*z7^2 + 119*z7 + 41) * (x + 99*z7^6 + 20*z7^5 + 59*z7^4 + 121*z7^3 + 87*z7^2 + 120*z7 + 41) * (x + 49*z7^6 + 51*z7^5 + 110*z7^4 + 15*z7^3 + 11*z7^2 + 17*z7 + 42) * (x + 59*z7^6 + 122*z7^5 + 90*z7^4 + 97*z7^3 + 2*z7^2 + 52*z7 + 42) * (x + 9*z7^6 + 79*z7^5 + 51*z7^4 + 11*z7^3 + 65*z7^2 + 53*z7 + 42) * (x + 43*z7^6 + 100*z7^5 + 109*z7^4 + 89*z7^3 + 79*z7^2 + 13*z7 + 43) * (x + 59*z7^6 + 59*z7^5 + 85*z7^4 + 45*z7^3 + 119*z7^2 + 36*z7 + 43) * (x + 40*z7^6 + 16*z7^5 + 87*z7^4 + 31*z7^3 + 90*z7^2 + 49*z7 + 43) * (x + 3*z7^6 + 30*z7^5 + 9*z7^4 + 125*z7^3 + 9*z7^2 + 62*z7 + 43) * (x + 53*z7^6 + 80*z7^5 + 125*z7^4 + 30*z7^3 + 112*z7^2 + 89*z7 + 43) * (x + 120*z7^6 + 73*z7^5 + 40*z7^4 + 20*z7^3 + 93*z7 + 43) * (x + 89*z7^6 + 16*z7^5 + 12*z7^4 + 87*z7^3 + 22*z7^2 + 48*z7 + 44) * (x + 18*z7^6 + 126*z7^5 + 92*z7^4 + 11*z7^3 + 43*z7^2 + 74*z7 + 44) * (x + 102*z7^6 + 27*z7^5 + 16*z7^4 + 59*z7^3 + 89*z7^2 + 79*z7 + 44) * (x + 124*z7^6 + 11*z7^5 + 44*z7^4 + 119*z7^3 + 71*z7^2 + 99*z7 + 44) * (x + 22*z7^6 + 28*z7^5 + 17*z7^4 + 57*z7^3 + 24*z7^2 + 71*z7 + 45) * (x + 114*z7^6 + 29*z7^5 + 22*z7^4 + 82*z7^3 + 51*z7^2 + 77*z7 + 45) * (x + 95*z7^6 + 96*z7^5 + 114*z7^4 + 124*z7^3 + 92*z7^2 + 86*z7 + 45) * (x + 106*z7^6 + 85*z7^5 + 45*z7^4 + 74*z7^3 + 78*z7^2 + 16*z7 + 46) * (x + 44*z7^6 + 100*z7^5 + 19*z7^4 + 92*z7^3 + 93*z7^2 + 109*z7 + 46) * (x + 51*z7^6 + 42*z7^5 + 115*z7^4 + 17*z7^3 + 124*z7^2 + 112*z7 + 46) * (x + 21*z7^6 + 48*z7^5 + 97*z7^4 + 23*z7^3 + 87*z7^2 + 5*z7 + 47) * (x + 85*z7^6 + 101*z7^5 + 63*z7^4 + 15*z7^3 + 13*z7^2 + 6*z7 + 47) * (x + 93*z7^6 + 40*z7^5 + 45*z7^4 + 64*z7^3 + 79*z7^2 + 13*z7 + 47) * (x + 67*z7^6 + 5*z7^5 + 100*z7^4 + 72*z7^3 + 5*z7^2 + 56*z7 + 47) * (x + 90*z7^6 + 47*z7^5 + 99*z7^4 + 109*z7^3 + 23*z7^2 + 65*z7 + 47) * (x + 126*z7^6 + 4*z7^5 + 40*z7^4 + 56*z7^3 + 7*z7^2 + 67*z7 + 47) * (x + 29*z7^6 + 18*z7^5 + 3*z7^4 + 51*z7^3 + 32*z7^2 + 76*z7 + 47) * (x + 64*z7^6 + 82*z7^5 + 61*z7^4 + 33*z7^3 + 7*z7^2 + 106*z7 + 47) * (x + 116*z7^6 + 104*z7^5 + 72*z7^4 + 36*z7^3 + 43*z7^2 + 106*z7 + 47) * (x + 77*z7^6 + 107*z7^5 + 10*z7^4 + 104*z7^3 + 89*z7^2 + 108*z7 + 47) * (x + 93*z7^6 + 74*z7^5 + 12*z7^4 + 61*z7^3 + 21*z7^2 + 122*z7 + 47) * (x + 112*z7^6 + 26*z7^5 + 55*z7^4 + 87*z7^3 + 40*z7^2 + 24*z7 + 48) * (x + 36*z7^6 + 17*z7^5 + 51*z7^4 + 99*z7^3 + 103*z7^2 + 30*z7 + 48) * (x + 107*z7^6 + 101*z7^5 + 19*z7^4 + 84*z7^3 + 92*z7^2 + 57*z7 + 48) * (x + 126*z7^6 + 84*z7^5 + 28*z7^4 + 68*z7^3 + 30*z7^2 + 63*z7 + 48) * (x + 126*z7^6 + 34*z7^5 + 28*z7^4 + 22*z7^3 + 65*z7^2 + 92*z7 + 48) * (x + 30*z7^6 + 7*z7^5 + 103*z7^4 + 16*z7^3 + 106*z7^2 + 96*z7 + 48) * (x + 89*z7^6 + 48*z7^5 + 123*z7^4 + 2*z7^3 + 38*z7^2 + 97*z7 + 48) * (x + 5*z7^6 + 77*z7^5 + 115*z7^4 + 123*z7^3 + 30*z7^2 + 75*z7 + 49) * (x + 106*z7^6 + 43*z7^5 + 67*z7^4 + 44*z7^3 + 38*z7^2 + 82*z7 + 49) * (x + 5*z7^6 + 70*z7^5 + 34*z7^4 + 39*z7^3 + 121*z7^2 + 88*z7 + 49) * (x + 59*z7^6 + 108*z7^5 + 63*z7^4 + 109*z7^3 + 108*z7^2 + 121*z7 + 49) * (x + 118*z7^6 + 106*z7^5 + 31*z7^4 + 22*z7^3 + 38*z7^2 + z7 + 50) * (x + 65*z7^6 + 71*z7^5 + 5*z7^4 + 106*z7^3 + 9*z7^2 + 41*z7 + 50) * (x + 42*z7^6 + 110*z7^5 + 66*z7^4 + 7*z7^3 + 87*z7^2 + 63*z7 + 50) * (x + 39*z7^6 + 102*z7^5 + 51*z7^4 + 37*z7^3 + 115*z7^2 + 80*z7 + 50) * (x + 20*z7^6 + 24*z7^5 + 123*z7^4 + 110*z7^3 + 3*z7^2 + 98*z7 + 50) * (x + 10*z7^6 + 55*z7^5 + 120*z7^4 + 14*z7^3 + 94*z7^2 + 108*z7 + 50) * (x + 34*z7^6 + 88*z7^5 + 23*z7^4 + 96*z7^3 + 66*z7^2 + 3*z7 + 51) * (x + 61*z7^6 + 39*z7^5 + 119*z7^4 + 2*z7^3 + 35*z7^2 + 7*z7 + 51) * (x + 66*z7^6 + 73*z7^5 + 6*z7^4 + 29*z7^3 + 14*z7^2 + 10*z7 + 51) * (x + 8*z7^6 + 35*z7^5 + 22*z7^4 + 27*z7^3 + 11*z7^2 + 20*z7 + 51) * (x + 23*z7^6 + 3*z7^5 + 47*z7^4 + 109*z7^3 + 7*z7^2 + 27*z7 + 51) * (x + 26*z7^6 + 87*z7^5 + 126*z7^4 + 79*z7^3 + 111*z7^2 + 44*z7 + 51) * (x + 116*z7^6 + 103*z7^5 + 50*z7^4 + 26*z7^3 + 16*z7^2 + 55*z7 + 51) * (x + 92*z7^6 + 87*z7^5 + 72*z7^4 + 13*z7^3 + 39*z7^2 + 72*z7 + 51) * (x + 88*z7^6 + 115*z7^5 + 60*z7^4 + 17*z7^3 + 109*z7^2 + 77*z7 + 51) * (x + 42*z7^6 + 54*z7^5 + 16*z7^4 + 63*z7^3 + 103*z7^2 + 84*z7 + 51) * (x + 7*z7^6 + 115*z7^5 + 7*z7^4 + 99*z7^3 + 54*z7^2 + 94*z7 + 51) * (x + 80*z7^6 + 5*z7^5 + 41*z7^4 + z7^3 + 2*z7^2 + 108*z7 + 51) * (x + 89*z7^6 + 91*z7^5 + 54*z7^4 + 73*z7^3 + 39*z7^2 + 108*z7 + 51) * (x + 83*z7^6 + 94*z7^5 + 71*z7^4 + 111*z7^3 + 99*z7^2 + z7 + 52) * (x + 18*z7^6 + 12*z7^5 + 51*z7^4 + 91*z7^3 + 25*z7^2 + 6*z7 + 52) * (x + 3*z7^6 + 74*z7^5 + 39*z7^4 + 99*z7^3 + 13*z7^2 + 13*z7 + 52) * (x + 98*z7^6 + 95*z7^5 + 116*z7^4 + 39*z7^3 + 108*z7^2 + 42*z7 + 52) * (x + 110*z7^6 + 9*z7^5 + 63*z7^4 + 82*z7^3 + 76*z7^2 + 64*z7 + 52) * (x + 47*z7^6 + 67*z7^5 + 74*z7^4 + 105*z7^3 + 36*z7^2 + 114*z7 + 52) * (x + 106*z7^6 + 56*z7^5 + 89*z7^4 + 80*z7^3 + 98*z7^2 + 36*z7 + 53) * (x + 14*z7^6 + 86*z7^5 + 4*z7^4 + 103*z7^3 + 41*z7^2 + 37*z7 + 53) * (x + 72*z7^6 + 85*z7^5 + 110*z7^4 + 81*z7^3 + 20*z7^2 + 51*z7 + 53) * (x + 12*z7^6 + 29*z7^5 + 56*z7^4 + 25*z7^3 + 77*z7^2 + 64*z7 + 53) * (x + 82*z7^6 + 85*z7^5 + 98*z7^4 + 53*z7^3 + 62*z7^2 + 91*z7 + 53) * (x + 114*z7^6 + 28*z7^5 + 122*z7^4 + 61*z7^3 + 23*z7^2 + 92*z7 + 53) * (x + 24*z7^6 + 102*z7^5 + 31*z7^4 + 38*z7^2 + 106*z7 + 53) * (x + 18*z7^6 + 119*z7^5 + 18*z7^4 + 57*z7^3 + 36*z7^2 + 117*z7 + 53) * (x + 116*z7^6 + 125*z7^5 + 63*z7^4 + 120*z7^3 + 77*z7^2 + 123*z7 + 53) * (x + 119*z7^6 + 126*z7^5 + 44*z7^4 + 54*z7^3 + 117*z7^2 + 28*z7 + 54) * (x + 22*z7^6 + 59*z7^5 + 111*z7^4 + 86*z7^3 + 45*z7^2 + 30*z7 + 54) * (x + 126*z7^6 + 72*z7^5 + 87*z7^4 + 58*z7^3 + 59*z7^2 + 69*z7 + 54) * (x + 84*z7^6 + 45*z7^5 + 8*z7^4 + 90*z7^3 + 51*z7^2 + 74*z7 + 54) * (x + 4*z7^6 + 43*z7^5 + 15*z7^4 + 94*z7^3 + 34*z7^2 + 98*z7 + 54) * (x + 81*z7^6 + 81*z7^5 + 121*z7^4 + 21*z7^3 + 95*z7^2 + 119*z7 + 54) * (x + 85*z7^6 + 50*z7^5 + 24*z7^4 + 55*z7^3 + 44*z7^2 + 122*z7 + 54) * (x + 63*z7^6 + 49*z7^5 + 102*z7^4 + 44*z7^3 + 113*z7^2 + 4*z7 + 55) * (x + 90*z7^6 + 35*z7^5 + 58*z7^4 + 11*z7^3 + 50*z7^2 + 32*z7 + 55) * (x + 24*z7^6 + 80*z7^5 + 112*z7^4 + 50*z7^3 + 53*z7^2 + 36*z7 + 55) * (x + 121*z7^6 + 95*z7^5 + 9*z7^4 + 102*z7^3 + 37*z7^2 + 44*z7 + 55) * (x + 122*z7^6 + 62*z7^5 + 40*z7^4 + 63*z7^3 + 52*z7^2 + 44*z7 + 55) * (x + 119*z7^6 + 110*z7^5 + 7*z7^4 + 35*z7^3 + 123*z7^2 + 44*z7 + 55) * (x + 100*z7^6 + 54*z7^5 + 12*z7^4 + 106*z7^3 + 69*z7^2 + 59*z7 + 55) * (x + 103*z7^6 + 9*z7^5 + 87*z7^4 + 69*z7^3 + 99*z7^2 + 77*z7 + 55) * (x + 20*z7^6 + 38*z7^5 + 93*z7^4 + 52*z7^3 + 101*z7^2 + 97*z7 + 55) * (x + 45*z7^6 + 98*z7^5 + 19*z7^4 + 85*z7^3 + 117*z7^2 + 110*z7 + 55) * (x + 43*z7^6 + 34*z7^5 + 99*z7^4 + 18*z7^3 + 29*z7^2 + 6*z7 + 56) * (x + 78*z7^6 + 72*z7^5 + 64*z7^4 + 118*z7^3 + 50*z7^2 + 7*z7 + 56) * (x + 67*z7^6 + 29*z7^5 + 29*z7^4 + 67*z7^3 + 105*z7^2 + 9*z7 + 56) * (x + 10*z7^6 + 117*z7^5 + 66*z7^4 + 36*z7^3 + 20*z7^2 + 10*z7 + 56) * (x + 34*z7^6 + 2*z7^5 + 126*z7^4 + 84*z7^3 + 108*z7^2 + 23*z7 + 56) * (x + 108*z7^6 + 22*z7^5 + 106*z7^4 + 100*z7^3 + 25*z7^2 + 40*z7 + 56) * (x + 107*z7^6 + 42*z7^5 + 5*z7^4 + 74*z7^3 + 72*z7^2 + 57*z7 + 56) * (x + 6*z7^6 + 23*z7^5 + 101*z7^4 + 13*z7^3 + 95*z7^2 + 78*z7 + 56) * (x + 20*z7^6 + 37*z7^5 + 38*z7^4 + 95*z7^3 + 12*z7^2 + 83*z7 + 56) * (x + 35*z7^6 + 97*z7^5 + 49*z7^4 + 5*z7^3 + 110*z7^2 + 89*z7 + 56) * (x + 81*z7^6 + z7^5 + 23*z7^4 + 117*z7^3 + 3*z7^2 + 90*z7 + 56) * (x + 108*z7^6 + 68*z7^5 + 43*z7^4 + 32*z7^3 + 37*z7^2 + 91*z7 + 56) * (x + 25*z7^6 + 122*z7^5 + 28*z7^4 + 56*z7^3 + 87*z7^2 + 97*z7 + 56) * (x + 47*z7^6 + 18*z7^5 + 119*z7^4 + 84*z7^3 + 95*z7^2 + 98*z7 + 56) * (x + 16*z7^6 + 47*z7^5 + 29*z7^4 + 95*z7^3 + 90*z7^2 + 15*z7 + 57) * (x + 115*z7^6 + 36*z7^5 + 105*z7^4 + 18*z7^3 + 27*z7^2 + 20*z7 + 57) * (x + 76*z7^6 + 66*z7^5 + 41*z7^4 + 41*z7^3 + 40*z7^2 + 45*z7 + 57) * (x + 45*z7^6 + 58*z7^5 + 110*z7^4 + 69*z7^3 + 61*z7^2 + 90*z7 + 57) * (x + 96*z7^6 + 99*z7^5 + 71*z7^4 + 123*z7^3 + 27*z7^2 + 101*z7 + 57) * (x + 113*z7^6 + 10*z7^4 + 83*z7^3 + 109*z7^2 + 121*z7 + 57) * (x + 63*z7^6 + 110*z7^5 + 88*z7^4 + 45*z7^3 + 24*z7^2 + 2*z7 + 58) * (x + 34*z7^6 + 50*z7^5 + 121*z7^4 + 12*z7^3 + 117*z7^2 + 66*z7 + 58) * (x + 20*z7^6 + 76*z7^5 + 41*z7^4 + 7*z7^3 + 22*z7^2 + 78*z7 + 58) * (x + 22*z7^6 + 53*z7^5 + 124*z7^4 + 22*z7^3 + 101*z7^2 + 91*z7 + 58) * (x + 88*z7^6 + 53*z7^5 + 108*z7^4 + 62*z7^3 + 120*z7^2 + 7*z7 + 59) * (x + 18*z7^6 + 18*z7^5 + 39*z7^4 + 57*z7^3 + 61*z7^2 + 27*z7 + 59) * (x + 30*z7^6 + 30*z7^5 + 57*z7^4 + 60*z7^3 + 81*z7^2 + 41*z7 + 59) * (x + 6*z7^6 + 12*z7^5 + 64*z7^4 + 2*z7^3 + 10*z7^2 + 50*z7 + 59) * (x + 52*z7^6 + 41*z7^5 + 62*z7^4 + 40*z7^3 + 23*z7^2 + 72*z7 + 59) * (x + 13*z7^6 + 3*z7^5 + 64*z7^3 + 119*z7^2 + 103*z7 + 59) * (x + 18*z7^6 + 75*z7^5 + 37*z7^4 + 83*z7^3 + 83*z7^2 + 109*z7 + 59) * (x + 70*z7^6 + 18*z7^4 + 97*z7^3 + 72*z7^2 + 110*z7 + 59) * (x + 63*z7^6 + 119*z7^5 + 106*z7^4 + 17*z7^3 + 123*z7^2 + 13*z7 + 60) * (x + 55*z7^6 + 2*z7^5 + 48*z7^4 + 122*z7^3 + 77*z7^2 + 23*z7 + 60) * (x + z7^6 + 103*z7^5 + 82*z7^4 + 112*z7^3 + 47*z7^2 + 24*z7 + 60) * (x + z7^6 + 44*z7^5 + 18*z7^4 + 116*z7^3 + 120*z7^2 + 29*z7 + 60) * (x + 122*z7^6 + 95*z7^5 + 4*z7^4 + 41*z7^3 + 30*z7^2 + 31*z7 + 60) * (x + 59*z7^6 + 29*z7^5 + 40*z7^4 + 96*z7^3 + 26*z7^2 + 40*z7 + 60) * (x + 110*z7^6 + 49*z7^5 + 14*z7^4 + 124*z7^3 + 75*z7^2 + 57*z7 + 60) * (x + 117*z7^6 + 53*z7^5 + 4*z7^4 + 83*z7^3 + 70*z7^2 + 77*z7 + 60) * (x + 103*z7^6 + 18*z7^5 + 34*z7^4 + 70*z7^3 + 52*z7^2 + 82*z7 + 60) * (x + 22*z7^6 + 105*z7^5 + 13*z7^4 + 27*z7^3 + 120*z7^2 + 85*z7 + 60) * (x + 119*z7^6 + 59*z7^5 + 91*z7^4 + 40*z7^3 + 30*z7^2 + 90*z7 + 60) * (x + 74*z7^6 + 114*z7^5 + 44*z7^4 + 106*z7^3 + 96*z7^2 + 117*z7 + 60) * (x + 17*z7^6 + 97*z7^5 + 27*z7^4 + 31*z7^3 + 36*z7^2 + 17*z7 + 61) * (x + 22*z7^6 + 82*z7^5 + 98*z7^4 + 25*z7^3 + 38*z7^2 + 34*z7 + 61) * (x + 35*z7^6 + 47*z7^5 + 117*z7^4 + 60*z7^3 + 106*z7^2 + 48*z7 + 61) * (x + 33*z7^6 + 63*z7^5 + 75*z7^4 + 28*z7^3 + 119*z7^2 + 60*z7 + 61) * (x + 55*z7^6 + 43*z7^5 + 68*z7^4 + 56*z7^3 + 12*z7^2 + 101*z7 + 61) * (x + 32*z7^6 + 71*z7^5 + 7*z7^4 + 48*z7^3 + 84*z7^2 + 116*z7 + 61) * (x + 90*z7^6 + 114*z7^5 + 5*z7^4 + 125*z7^3 + 126*z7^2 + 49*z7 + 62) * (x + 71*z7^6 + 17*z7^5 + 80*z7^4 + 73*z7^3 + 78*z7^2 + 72*z7 + 62) * (x + 22*z7^6 + 87*z7^5 + 37*z7^4 + 86*z7^3 + 119*z7^2 + 83*z7 + 62) * (x + 11*z7^6 + 62*z7^5 + 80*z7^4 + 67*z7^3 + 23*z7^2 + 114*z7 + 62) * (x + 112*z7^6 + 54*z7^5 + 52*z7^4 + 100*z7^3 + 114*z7^2 + 125*z7 + 62) * (x + 100*z7^6 + 51*z7^5 + 56*z7^4 + 32*z7^3 + 98*z7^2 + 9*z7 + 63) * (x + 53*z7^6 + 114*z7^5 + 117*z7^4 + 48*z7^3 + 34*z7^2 + 10*z7 + 63) * (x + 107*z7^6 + 50*z7^5 + 120*z7^4 + 67*z7^3 + 111*z7^2 + 10*z7 + 63) * (x + 38*z7^6 + 70*z7^5 + 26*z7^4 + 38*z7^3 + 109*z7^2 + 18*z7 + 63) * (x + 94*z7^6 + 12*z7^5 + 54*z7^4 + 26*z7^3 + 99*z7^2 + 75*z7 + 63) * (x + 51*z7^6 + 73*z7^5 + 16*z7^4 + 13*z7^3 + z7^2 + 76*z7 + 63) * (x + 45*z7^6 + 95*z7^5 + 4*z7^4 + 22*z7^3 + 120*z7^2 + 86*z7 + 63) * (x + 72*z7^6 + 30*z7^5 + 46*z7^4 + 48*z7^3 + 89*z7 + 63) * (x + 43*z7^6 + 59*z7^5 + 71*z7^4 + 98*z7^3 + 109*z7 + 63) * (x + 31*z7^6 + 57*z7^5 + 76*z7^4 + 84*z7^3 + 106*z7^2 + 109*z7 + 63) * (x + 111*z7^6 + 12*z7^5 + 74*z7^4 + 50*z7^3 + 23*z7^2 + 120*z7 + 63) * (x + 55*z7^6 + 27*z7^5 + 82*z7^4 + 103*z7^3 + 123*z7^2 + 126*z7 + 63) * (x + 38*z7^6 + 53*z7^5 + 11*z7^4 + 14*z7^3 + 78*z7^2 + 22*z7 + 64) * (x + 114*z7^6 + 13*z7^5 + 65*z7^4 + 100*z7^3 + 116*z7^2 + 31*z7 + 64) * (x + 96*z7^6 + 60*z7^5 + 91*z7^4 + 48*z7^3 + 84*z7^2 + 33*z7 + 64) * (x + z7^6 + 59*z7^5 + 54*z7^4 + 86*z7^3 + 110*z7^2 + 35*z7 + 64) * (x + 59*z7^6 + 97*z7^5 + 93*z7^4 + 18*z7^3 + 115*z7^2 + 36*z7 + 64) * (x + 12*z7^6 + 62*z7^5 + 69*z7^4 + 29*z7^3 + 19*z7^2 + 51*z7 + 64) * (x + 38*z7^6 + 14*z7^5 + 116*z7^4 + 103*z7^3 + 35*z7^2 + 72*z7 + 64) * (x + 78*z7^6 + 81*z7^5 + 114*z7^4 + 54*z7^3 + 22*z7^2 + 109*z7 + 64) * (x + 40*z7^6 + 2*z7^5 + 41*z7^4 + 42*z7^3 + 39*z7^2 + 126*z7 + 64) * (x + 55*z7^6 + 109*z7^5 + 99*z7^4 + 82*z7^3 + 83*z7^2 + 18*z7 + 65) * (x + 66*z7^6 + 97*z7^5 + 126*z7^4 + 103*z7^3 + 54*z7^2 + 40*z7 + 65) * (x + 44*z7^6 + 107*z7^5 + 107*z7^4 + 44*z7^3 + 67*z7^2 + 47*z7 + 65) * (x + 27*z7^6 + 118*z7^4 + 17*z7^3 + 60*z7^2 + 70*z7 + 65) * (x + 42*z7^6 + 117*z7^5 + 41*z7^4 + 120*z7^3 + 59*z7^2 + 84*z7 + 65) * (x + 43*z7^6 + 88*z7^5 + 74*z7^4 + 73*z7^3 + 43*z7^2 + 100*z7 + 65) * (x + 68*z7^6 + 102*z7^5 + 126*z7^4 + 101*z7^3 + 69*z7^2 + 101*z7 + 65) * (x + 59*z7^6 + 35*z7^5 + 97*z7^4 + 125*z7^3 + 88*z7^2 + 106*z7 + 65) * (x + 84*z7^6 + 40*z7^5 + 39*z7^4 + 121*z7^3 + 56*z7^2 + 107*z7 + 65) * (x + 82*z7^6 + 21*z7^5 + 33*z7^4 + 9*z7^3 + 2*z7^2 + 45*z7 + 66) * (x + 68*z7^6 + 77*z7^5 + 71*z7^4 + 120*z7^3 + 118*z7^2 + 87*z7 + 66) * (x + 69*z7^6 + 37*z7^5 + 79*z7^4 + 108*z7^3 + 77*z7^2 + 108*z7 + 66) * (x + 27*z7^6 + 63*z7^5 + 53*z7^4 + 41*z7^3 + 80*z7^2 + 6*z7 + 67) * (x + 47*z7^6 + 63*z7^5 + 94*z7^4 + 46*z7^3 + 100*z7^2 + 7*z7 + 67) * (x + 16*z7^6 + 40*z7^5 + 64*z7^4 + 124*z7^3 + 85*z7^2 + 9*z7 + 67) * (x + 75*z7^6 + 114*z7^5 + 106*z7^4 + 19*z7^3 + 61*z7^2 + 24*z7 + 67) * (x + 126*z7^6 + 75*z7^5 + 26*z7^4 + 37*z7^3 + 9*z7^2 + 42*z7 + 67) * (x + 124*z7^6 + 20*z7^5 + 105*z7^4 + 96*z7^3 + 69*z7^2 + 46*z7 + 67) * (x + 84*z7^6 + 22*z7^5 + 10*z7^4 + 109*z7^3 + 83*z7^2 + 89*z7 + 67) * (x + 27*z7^6 + 55*z7^5 + 24*z7^4 + 86*z7^3 + 78*z7^2 + 98*z7 + 67) * (x + 63*z7^6 + 81*z7^5 + 3*z7^4 + 65*z7^3 + 89*z7^2 + 115*z7 + 67) * (x + 51*z7^6 + 62*z7^5 + 124*z7^4 + z7^3 + 63*z7^2 + 126*z7 + 67) * (x + z7^6 + 5*z7^5 + 115*z7^4 + 114*z7^3 + 56*z7^2 + 15*z7 + 68) * (x + 41*z7^6 + 61*z7^5 + 23*z7^4 + 11*z7^3 + 106*z7^2 + 45*z7 + 68) * (x + 3*z7^6 + 114*z7^5 + 21*z7^4 + 53*z7^3 + 68*z7^2 + 53*z7 + 68) * (x + 68*z7^6 + 11*z7^5 + 108*z7^4 + 55*z7^3 + 97*z7^2 + 69*z7 + 68) * (x + 116*z7^6 + 112*z7^5 + 25*z7^4 + 60*z7^3 + 84*z7^2 + 112*z7 + 68) * (x + 87*z7^6 + 42*z7^5 + 38*z7^4 + 102*z7^3 + 39*z7^2 + 124*z7 + 68) * (x + 56*z7^6 + 73*z7^5 + 29*z7^4 + 38*z7^3 + z7^2 + 29*z7 + 69) * (x + 47*z7^6 + 74*z7^5 + 110*z7^4 + 35*z7^3 + 36*z7^2 + 49*z7 + 69) * (x + 75*z7^6 + 12*z7^5 + 68*z7^4 + 95*z7^3 + 27*z7^2 + 85*z7 + 69) * (x + 56*z7^6 + 119*z7^5 + 92*z7^4 + 4*z7^3 + 58*z7^2 + 108*z7 + 69) * (x + 55*z7^6 + 8*z7^5 + 13*z7^4 + 90*z7^3 + 89*z7^2 + 108*z7 + 69) * (x + 6*z7^6 + 14*z7^5 + 50*z7^4 + 61*z7^3 + 40*z7^2 + 9*z7 + 70) * (x + 74*z7^6 + 63*z7^5 + 66*z7^4 + 38*z7^3 + 120*z7^2 + 19*z7 + 70) * (x + 76*z7^6 + 120*z7^5 + 79*z7^4 + 98*z7^3 + 55*z7^2 + 21*z7 + 70) * (x + 63*z7^6 + 22*z7^5 + 123*z7^4 + 97*z7^3 + 97*z7^2 + 33*z7 + 70) * (x + 54*z7^6 + 72*z7^5 + 113*z7^4 + 6*z7^3 + 115*z7^2 + 38*z7 + 70) * (x + 43*z7^6 + 94*z7^5 + 110*z7^4 + 56*z7^3 + 75*z7^2 + 56*z7 + 70) * (x + 33*z7^6 + 40*z7^5 + 18*z7^4 + 9*z7^3 + 54*z7^2 + 74*z7 + 70) * (x + 76*z7^6 + 50*z7^5 + 14*z7^4 + 71*z7^3 + 110*z7^2 + 76*z7 + 70) * (x + 74*z7^6 + 61*z7^5 + 47*z7^4 + 35*z7^3 + 85*z7^2 + 88*z7 + 70) * (x + 24*z7^6 + 79*z7^5 + 121*z7^4 + 32*z7^3 + 3*z7^2 + 108*z7 + 70) * (x + 78*z7^6 + 26*z7^5 + 119*z7^4 + 124*z7^3 + 64*z7^2 + 108*z7 + 70) * (x + 46*z7^6 + 86*z7^5 + 41*z7^4 + 114*z7^3 + 16*z7^2 + 27*z7 + 71) * (x + 65*z7^6 + 114*z7^5 + 115*z7^4 + 50*z7^3 + 23*z7^2 + 56*z7 + 71) * (x + 58*z7^6 + 108*z7^5 + 60*z7^4 + 56*z7^3 + 8*z7^2 + z7 + 72) * (x + 68*z7^6 + 121*z7^5 + 124*z7^4 + 52*z7^3 + 14*z7^2 + 6*z7 + 72) * (x + 58*z7^6 + 47*z7^5 + 17*z7^4 + 10*z7^3 + 60*z7^2 + 14*z7 + 72) * (x + 102*z7^6 + 58*z7^5 + 52*z7^4 + 51*z7^3 + 44*z7^2 + 21*z7 + 73) * (x + 8*z7^6 + 22*z7^5 + 19*z7^4 + 121*z7^3 + 2*z7^2 + 65*z7 + 73) * (x + 110*z7^6 + 123*z7^5 + 74*z7^4 + 46*z7^3 + 102*z7^2 + 80*z7 + 73) * (x + 36*z7^6 + 50*z7^5 + 71*z7^4 + 28*z7^3 + 88*z7^2 + 101*z7 + 73) * (x + 64*z7^6 + 51*z7^5 + 77*z7^4 + 18*z7^3 + 96*z7^2 + 108*z7 + 73) * (x + 47*z7^6 + 16*z7^5 + 54*z7^4 + 75*z7^3 + z7^2 + 17*z7 + 74) * (x + 67*z7^6 + 2*z7^5 + 126*z7^4 + 125*z7^3 + 51*z7^2 + 35*z7 + 74) * (x + 30*z7^6 + 15*z7^5 + 98*z7^4 + 36*z7^3 + 114*z7^2 + 85*z7 + 74) * (x + 9*z7^6 + 93*z7^5 + 6*z7^4 + 99*z7^3 + 118*z7^2 + 121*z7 + 74) * (x + 45*z7^6 + 107*z7^5 + 111*z7^4 + 60*z7^3 + 41*z7^2 + 16*z7 + 75) * (x + 91*z7^6 + 42*z7^5 + 20*z7^4 + z7^3 + 30*z7^2 + 19*z7 + 75) * (x + 84*z7^6 + 58*z7^5 + 113*z7^4 + 73*z7^3 + 22*z7^2 + 27*z7 + 75) * (x + 101*z7^6 + 92*z7^5 + 76*z7^4 + 30*z7^3 + 3*z7^2 + 29*z7 + 75) * (x + 42*z7^6 + 100*z7^5 + 15*z7^4 + 105*z7^3 + 34*z7^2 + 40*z7 + 75) * (x + 39*z7^6 + 85*z7^5 + 33*z7^4 + 42*z7^3 + 61*z7^2 + 43*z7 + 75) * (x + 120*z7^6 + 114*z7^5 + 82*z7^4 + 2*z7^3 + 16*z7^2 + 47*z7 + 75) * (x + 109*z7^6 + 7*z7^5 + 59*z7^4 + 41*z7^3 + 40*z7^2 + 50*z7 + 75) * (x + 124*z7^6 + 74*z7^5 + 3*z7^4 + 119*z7^3 + 23*z7^2 + 66*z7 + 75) * (x + 84*z7^6 + 77*z7^5 + 11*z7^4 + 47*z7^3 + 51*z7^2 + 91*z7 + 75) * (x + 108*z7^6 + 58*z7^5 + 82*z7^4 + 123*z7^3 + 91*z7^2 + 125*z7 + 75) * (x + 25*z7^6 + 83*z7^5 + 51*z7^4 + 38*z7^3 + 66*z7^2 + 12*z7 + 76) * (x + 25*z7^6 + 36*z7^5 + 9*z7^4 + 51*z7^3 + 88*z7^2 + 26*z7 + 76) * (x + 113*z7^6 + 75*z7^5 + 76*z7^4 + 50*z7^3 + 60*z7^2 + 51*z7 + 76) * (x + 4*z7^6 + 116*z7^5 + 104*z7^4 + 125*z7^3 + 89*z7^2 + 64*z7 + 76) * (x + 110*z7^6 + 126*z7^5 + 10*z7^4 + 109*z7^3 + 108*z7^2 + 96*z7 + 76) * (x + 16*z7^6 + 5*z7^5 + 25*z7^4 + 29*z7^3 + 88*z7^2 + 102*z7 + 76) * (x + 10*z7^6 + 104*z7^5 + 28*z7^4 + z7^3 + 35*z7^2 + 108*z7 + 76) * (x + 34*z7^6 + 31*z7^5 + 17*z7^4 + 10*z7^3 + 91*z7^2 + 112*z7 + 76) * (x + 41*z7^6 + 88*z7^5 + 54*z7^4 + 48*z7^3 + 2*z7^2 + 115*z7 + 76) * (x + 76*z7^6 + 59*z7^5 + 82*z7^4 + 91*z7^3 + 39*z7^2 + 33*z7 + 77) * (x + 25*z7^6 + 34*z7^5 + 78*z7^4 + 120*z7^3 + 112*z7^2 + 48*z7 + 77) * (x + 38*z7^6 + 99*z7^5 + 47*z7^4 + 5*z7^3 + 58*z7^2 + 72*z7 + 77) * (x + 57*z7^6 + 48*z7^5 + 57*z7^4 + 92*z7^3 + 110*z7^2 + 75*z7 + 77) * (x + 82*z7^6 + 85*z7^5 + 124*z7^4 + 111*z7^3 + 72*z7^2 + 80*z7 + 77) * (x + 39*z7^6 + 114*z7^5 + 98*z7^4 + 71*z7^3 + 58*z7^2 + 121*z7 + 77) * (x + 53*z7^6 + 43*z7^5 + 118*z7^4 + 53*z7^3 + 87*z7^2 + 27*z7 + 78) * (x + 114*z7^6 + 113*z7^5 + 15*z7^4 + 114*z7^3 + 18*z7^2 + 30*z7 + 78) * (x + 46*z7^6 + 57*z7^5 + 110*z7^4 + 91*z7^3 + 126*z7^2 + 39*z7 + 78) * (x + 43*z7^6 + 81*z7^5 + 18*z7^4 + 81*z7^3 + 126*z7^2 + 40*z7 + 78) * (x + 21*z7^6 + 37*z7^5 + 28*z7^4 + 76*z7^3 + 124*z7^2 + 46*z7 + 78) * (x + 107*z7^6 + 75*z7^5 + 36*z7^4 + 66*z7^3 + 70*z7 + 78) * (x + z7^6 + 62*z7^5 + 80*z7^4 + 59*z7^3 + 7*z7^2 + 74*z7 + 78) * (x + 98*z7^6 + 69*z7^5 + 115*z7^4 + 111*z7^3 + 27*z7^2 + 94*z7 + 78) * (x + 99*z7^6 + 55*z7^5 + 99*z7^4 + 54*z7^3 + 41*z7^2 + 97*z7 + 78) * (x + 20*z7^6 + 17*z7^5 + 118*z7^4 + 122*z7^3 + 78*z7^2 + 3*z7 + 79) * (x + 59*z7^6 + 117*z7^5 + 104*z7^4 + 118*z7^3 + 106*z7^2 + 28*z7 + 79) * (x + 80*z7^6 + 83*z7^5 + 26*z7^4 + 38*z7^3 + 116*z7^2 + 93*z7 + 79) * (x + 35*z7^6 + 99*z7^5 + 19*z7^4 + 114*z7^3 + 81*z7^2 + 8*z7 + 80) * (x + 66*z7^6 + 105*z7^5 + 64*z7^4 + 13*z7^3 + 21*z7^2 + 17*z7 + 80) * (x + 101*z7^6 + 99*z7^5 + 2*z7^4 + 90*z7^3 + 126*z7^2 + 25*z7 + 80) * (x + 70*z7^6 + 44*z7^5 + 112*z7^4 + 53*z7^3 + 17*z7^2 + 31*z7 + 80) * (x + 112*z7^6 + 111*z7^5 + 125*z7^4 + 117*z7^3 + 124*z7^2 + 42*z7 + 80) * (x + 105*z7^6 + 58*z7^5 + 8*z7^3 + 2*z7^2 + 58*z7 + 80) * (x + 76*z7^6 + 59*z7^5 + 115*z7^4 + 31*z7^3 + 74*z7^2 + 67*z7 + 80) * (x + 125*z7^6 + 92*z7^5 + 100*z7^4 + 94*z7^3 + 14*z7^2 + 79*z7 + 80) * (x + 115*z7^6 + 36*z7^5 + 110*z7^4 + 125*z7^3 + 85*z7^2 + 98*z7 + 80) * (x + 72*z7^6 + 103*z7^5 + 99*z7^4 + 52*z7^3 + 121*z7^2 + 107*z7 + 80) * (x + 92*z7^6 + 56*z7^5 + 32*z7^4 + 52*z7^3 + 33*z7^2 + 118*z7 + 80) * (x + 48*z7^6 + 10*z7^5 + 11*z7^4 + 101*z7^3 + 3*z7^2 + 6*z7 + 81) * (x + 94*z7^6 + 114*z7^5 + 82*z7^4 + 115*z7^3 + 48*z7^2 + 12*z7 + 81) * (x + 76*z7^6 + 118*z7^5 + 9*z7^4 + 31*z7^3 + 87*z7^2 + 50*z7 + 81) * (x + 110*z7^6 + 120*z7^5 + 100*z7^3 + 67*z7^2 + 55*z7 + 81) * (x + 46*z7^6 + 120*z7^5 + 100*z7^4 + 99*z7^3 + 31*z7^2 + 80*z7 + 81) * (x + 112*z7^6 + 77*z7^5 + 7*z7^4 + 120*z7^3 + 90*z7^2 + 107*z7 + 81) * (x + 84*z7^6 + 66*z7^5 + 23*z7^4 + 116*z7^3 + 46*z7^2 + 27*z7 + 82) * (x + 123*z7^6 + 95*z7^5 + 35*z7^4 + 89*z7^3 + 83*z7^2 + 37*z7 + 82) * (x + 100*z7^6 + 68*z7^5 + 124*z7^4 + 51*z7^3 + 13*z7^2 + 5*z7 + 83) * (x + 2*z7^6 + 39*z7^5 + 2*z7^4 + 34*z7^3 + 24*z7^2 + 15*z7 + 83) * (x + 121*z7^6 + 113*z7^5 + 123*z7^4 + 54*z7^3 + 50*z7^2 + 28*z7 + 83) * (x + 74*z7^6 + 112*z7^5 + 126*z7^4 + 87*z7^3 + 22*z7^2 + 67*z7 + 83) * (x + 46*z7^6 + 7*z7^5 + 5*z7^4 + 72*z7^3 + 29*z7^2 + 71*z7 + 83) * (x + 79*z7^6 + 60*z7^5 + 46*z7^4 + 117*z7^3 + 11*z7^2 + 75*z7 + 83) * (x + 96*z7^6 + 102*z7^5 + 120*z7^4 + 68*z7^3 + 39*z7^2 + 81*z7 + 83) * (x + 36*z7^6 + 62*z7^5 + 89*z7^4 + 121*z7^3 + 114*z7^2 + 85*z7 + 83) * (x + 18*z7^6 + 70*z7^5 + 58*z7^4 + 89*z7^3 + 124*z7^2 + 102*z7 + 83) * (x + 30*z7^6 + 40*z7^5 + 114*z7^4 + 35*z7^3 + 124*z7^2 + 113*z7 + 83) * (x + 109*z7^6 + 14*z7^5 + 80*z7^4 + 105*z7^3 + 48*z7^2 + 54*z7 + 84) * (x + 120*z7^6 + 26*z7^5 + 97*z7^4 + 57*z7^3 + 21*z7^2 + 82*z7 + 84) * (x + 90*z7^6 + 50*z7^5 + 56*z7^4 + 96*z7^3 + 53*z7^2 + 95*z7 + 84) * (x + 109*z7^6 + 27*z7^5 + 7*z7^4 + 70*z7^3 + 78*z7^2 + 102*z7 + 84) * (x + 91*z7^6 + 70*z7^5 + 48*z7^4 + 5*z7^3 + 7*z7^2 + 105*z7 + 84) * (x + 73*z7^6 + 98*z7^5 + 21*z7^4 + 57*z7^3 + 117*z7^2 + 113*z7 + 84) * (x + 31*z7^6 + 20*z7^5 + 48*z7^4 + 67*z7^3 + 126*z7^2 + 120*z7 + 84) * (x + 90*z7^6 + 7*z7^5 + 72*z7^4 + 5*z7^3 + 21*z7^2 + 121*z7 + 84) * (x + 56*z7^6 + 19*z7^5 + 76*z7^4 + 89*z7^3 + 87*z7^2 + z7 + 85) * (x + 102*z7^6 + 64*z7^5 + 18*z7^4 + 46*z7^3 + 110*z7^2 + 8*z7 + 85) * (x + 118*z7^6 + 60*z7^5 + 46*z7^4 + 120*z7^3 + 42*z7^2 + 27*z7 + 85) * (x + 71*z7^6 + 77*z7^5 + 94*z7^4 + 49*z7^3 + 18*z7^2 + 47*z7 + 85) * (x + 10*z7^6 + 99*z7^5 + 92*z7^4 + 25*z7^3 + 32*z7^2 + 75*z7 + 85) * (x + 50*z7^6 + 33*z7^5 + 27*z7^4 + 90*z7^3 + 48*z7^2 + 92*z7 + 85) * (x + 100*z7^6 + 64*z7^5 + 78*z7^4 + 30*z7^3 + 25*z7^2 + 121*z7 + 85) * (x + 85*z7^6 + 6*z7^5 + 99*z7^4 + 40*z7^3 + 40*z7^2 + 121*z7 + 85) * (x + 10*z7^6 + 97*z7^5 + 123*z7^4 + 23*z7^3 + 49*z7^2 + 122*z7 + 85) * (x + 114*z7^6 + 37*z7^5 + 11*z7^4 + 111*z7^3 + 8*z7^2 + 41*z7 + 86) * (x + 35*z7^6 + 43*z7^5 + 51*z7^4 + 43*z7^3 + 112*z7^2 + 61*z7 + 86) * (x + 114*z7^6 + 107*z7^5 + 9*z7^4 + 50*z7^3 + 28*z7^2 + 93*z7 + 86) * (x + 61*z7^6 + 27*z7^5 + 7*z7^4 + 123*z7^3 + 37*z7^2 + 107*z7 + 86) * (x + 74*z7^6 + 69*z7^5 + 54*z7^4 + 96*z7^3 + 27*z7^2 + 6*z7 + 87) * (x + 44*z7^6 + 37*z7^5 + 75*z7^4 + 71*z7^3 + 94*z7^2 + 32*z7 + 87) * (x + 68*z7^6 + 79*z7^5 + 85*z7^4 + 29*z7^3 + 16*z7^2 + 41*z7 + 87) * (x + 13*z7^6 + 78*z7^5 + 84*z7^4 + 80*z7^3 + 123*z7^2 + 56*z7 + 87) * (x + 97*z7^6 + 97*z7^5 + 53*z7^4 + 54*z7^3 + 13*z7^2 + 70*z7 + 87) * (x + 13*z7^6 + 103*z7^5 + 102*z7^4 + 2*z7^3 + 100*z7^2 + 75*z7 + 87) * (x + 79*z7^6 + 85*z7^5 + 42*z7^4 + 120*z7^3 + 125*z7^2 + 82*z7 + 87) * (x + 44*z7^6 + 52*z7^5 + 87*z7^4 + z7^3 + 86*z7^2 + 89*z7 + 87) * (x + 21*z7^6 + 122*z7^5 + 8*z7^4 + 57*z7^3 + 96*z7^2 + 91*z7 + 87) * (x + 95*z7^6 + 79*z7^5 + 44*z7^4 + 76*z7^3 + 68*z7^2 + 8*z7 + 88) * (x + 47*z7^6 + 70*z7^5 + 59*z7^4 + 89*z7^3 + 58*z7^2 + 26*z7 + 88) * (x + 52*z7^6 + 126*z7^5 + 30*z7^4 + 14*z7^3 + 69*z7^2 + 33*z7 + 88) * (x + 50*z7^6 + 7*z7^5 + 71*z7^4 + 116*z7^3 + 45*z7^2 + 56*z7 + 88) * (x + 109*z7^6 + 83*z7^5 + 12*z7^4 + 93*z7^3 + 109*z7^2 + 57*z7 + 88) * (x + 56*z7^6 + z7^5 + 104*z7^4 + 120*z7^3 + 38*z7^2 + 64*z7 + 88) * (x + 52*z7^6 + 59*z7^5 + 43*z7^4 + 45*z7^3 + 94*z7^2 + 108*z7 + 88) * (x + 24*z7^6 + 50*z7^5 + 9*z7^4 + 83*z7^3 + 49*z7^2 + 9*z7 + 89) * (x + 57*z7^6 + 70*z7^5 + 70*z7^4 + 22*z7^3 + 121*z7^2 + 66*z7 + 89) * (x + 40*z7^6 + 63*z7^5 + 84*z7^4 + 126*z7^3 + 21*z7^2 + 113*z7 + 89) * (x + 110*z7^6 + 20*z7^5 + 43*z7^4 + 45*z7^3 + 8*z7^2 + 114*z7 + 89) * (x + 23*z7^6 + 73*z7^5 + 45*z7^4 + 11*z7^3 + 106*z7^2 + 120*z7 + 89) * (x + 45*z7^6 + 59*z7^5 + 90*z7^4 + 26*z7^3 + 41*z7^2 + 27*z7 + 90) * (x + 107*z7^6 + 40*z7^5 + 9*z7^4 + 83*z7^3 + 54*z7^2 + 35*z7 + 90) * (x + 126*z7^6 + 6*z7^5 + 11*z7^4 + 52*z7^3 + 72*z7^2 + 43*z7 + 90) * (x + 82*z7^6 + 33*z7^5 + 94*z7^4 + 90*z7^3 + 25*z7^2 + 70*z7 + 90) * (x + 111*z7^6 + 121*z7^5 + 37*z7^4 + 121*z7^3 + 98*z7^2 + 93*z7 + 90) * (x + 82*z7^6 + 88*z7^5 + 103*z7^4 + 105*z7^2 + 93*z7 + 90) * (x + 9*z7^6 + 10*z7^5 + 10*z7^4 + 116*z7^3 + 9*z7^2 + 97*z7 + 90) * (x + 81*z7^6 + 90*z7^5 + 15*z7^4 + 72*z7^3 + 99*z7^2 + 110*z7 + 90) * (x + 76*z7^6 + 16*z7^5 + 125*z7^4 + 39*z7^3 + 43*z7^2 + 117*z7 + 90) * (x + 68*z7^6 + 84*z7^5 + 49*z7^4 + 113*z7^3 + 104*z7^2 + 91) * (x + 124*z7^6 + 57*z7^5 + 83*z7^4 + 33*z7^3 + 105*z7^2 + 45*z7 + 91) * (x + 17*z7^6 + 107*z7^5 + 118*z7^4 + 44*z7^3 + 30*z7^2 + 46*z7 + 91) * (x + 15*z7^6 + 107*z7^5 + 109*z7^4 + 63*z7^3 + 102*z7^2 + 50*z7 + 91) * (x + 75*z7^6 + 24*z7^5 + 61*z7^4 + 52*z7^3 + 26*z7^2 + 63*z7 + 91) * (x + 23*z7^6 + 76*z7^5 + 53*z7^4 + 37*z7^3 + 110*z7^2 + 67*z7 + 91) * (x + 55*z7^6 + 66*z7^5 + 10*z7^4 + 19*z7^3 + 76*z7^2 + 74*z7 + 91) * (x + 92*z7^6 + z7^5 + 103*z7^4 + 51*z7^3 + 64*z7^2 + 76*z7 + 91) * (x + 5*z7^6 + 83*z7^5 + 60*z7^4 + 81*z7^3 + 39*z7^2 + 79*z7 + 91) * (x + 85*z7^6 + 103*z7^5 + 109*z7^4 + 48*z7^3 + 118*z7^2 + 81*z7 + 91) * (x + 74*z7^6 + 29*z7^5 + 107*z7^4 + 122*z7^3 + 13*z7^2 + 83*z7 + 91) * (x + 120*z7^6 + 75*z7^5 + 15*z7^4 + 103*z7^3 + 66*z7^2 + 99*z7 + 91) * (x + 86*z7^6 + 53*z7^5 + 55*z7^4 + 111*z7^3 + 91*z7^2 + 107*z7 + 91) * (x + 91*z7^6 + 45*z7^5 + 87*z7^4 + 108*z7^3 + 123*z7^2 + 10*z7 + 92) * (x + 7*z7^6 + 40*z7^5 + 116*z7^4 + 28*z7^3 + 70*z7^2 + 100*z7 + 92) * (x + 11*z7^6 + 51*z7^5 + 42*z7^4 + 44*z7^3 + 46*z7^2 + 110*z7 + 92) * (x + 101*z7^6 + 113*z7^5 + 98*z7^4 + 37*z7^3 + 25*z7^2 + 116*z7 + 92) * (x + 59*z7^6 + 94*z7^5 + 62*z7^4 + 124*z7^3 + 17*z7^2 + 5*z7 + 93) * (x + 15*z7^6 + 96*z7^5 + 58*z7^4 + 10*z7^3 + 28*z7^2 + 73*z7 + 93) * (x + 36*z7^6 + 59*z7^5 + 23*z7^4 + 12*z7^3 + 60*z7^2 + 76*z7 + 93) * (x + 15*z7^6 + 48*z7^5 + 118*z7^4 + 27*z7^3 + 55*z7^2 + 98*z7 + 93) * (x + 21*z7^6 + 3*z7^5 + 80*z7^4 + 35*z7^3 + 32*z7^2 + 101*z7 + 93) * (x + 8*z7^6 + 60*z7^5 + 77*z7^4 + 91*z7^3 + 108*z7^2 + 15*z7 + 94) * (x + 56*z7^6 + 85*z7^5 + 82*z7^4 + 96*z7^3 + 52*z7^2 + 16*z7 + 94) * (x + 102*z7^6 + 7*z7^5 + 44*z7^4 + 64*z7^3 + 59*z7^2 + 58*z7 + 94) * (x + 73*z7^6 + 64*z7^5 + 87*z7^4 + 32*z7^3 + 9*z7^2 + 72*z7 + 94) * (x + 3*z7^6 + 126*z7^5 + 26*z7^4 + 81*z7^3 + 39*z7^2 + 90*z7 + 94) * (x + 10*z7^6 + 20*z7^5 + 92*z7^4 + 43*z7^3 + 118*z7^2 + 113*z7 + 94) * (x + 72*z7^6 + 91*z7^5 + 82*z7^4 + 13*z7^3 + 9*z7^2 + 17*z7 + 95) * (x + 3*z7^6 + 70*z7^5 + z7^4 + 81*z7^3 + 11*z7^2 + 19*z7 + 95) * (x + 7*z7^6 + 99*z7^5 + 81*z7^4 + 18*z7^3 + 51*z7^2 + 23*z7 + 95) * (x + 84*z7^6 + 31*z7^5 + 35*z7^4 + 6*z7^3 + 82*z7^2 + 28*z7 + 95) * (x + 72*z7^6 + 86*z7^5 + 43*z7^4 + 65*z7^3 + 73*z7^2 + 46*z7 + 95) * (x + 54*z7^6 + 78*z7^5 + 125*z7^4 + 76*z7^3 + 22*z7^2 + 52*z7 + 95) * (x + 28*z7^6 + 40*z7^5 + 3*z7^4 + 87*z7^3 + 101*z7^2 + 70*z7 + 95) * (x + 112*z7^6 + 76*z7^5 + 65*z7^4 + 9*z7^3 + 21*z7^2 + 78*z7 + 95) * (x + 46*z7^6 + 67*z7^5 + 54*z7^4 + 44*z7^3 + 124*z7^2 + 125*z7 + 95) * (x + 50*z7^6 + 14*z7^5 + 53*z7^4 + 72*z7^3 + 106*z7^2 + 22*z7 + 96) * (x + 11*z7^6 + 112*z7^5 + 88*z7^4 + z7^3 + 76*z7^2 + 23*z7 + 96) * (x + 11*z7^6 + 77*z7^5 + 119*z7^4 + 37*z7^3 + 125*z7^2 + 42*z7 + 96) * (x + z7^6 + 124*z7^5 + 57*z7^4 + 64*z7^3 + 125*z7^2 + 123*z7 + 96) * (x + 116*z7^6 + 25*z7^5 + 107*z7^4 + 31*z7^3 + 84*z7^2 + 4*z7 + 97) * (x + 97*z7^6 + 121*z7^5 + 29*z7^4 + 32*z7^3 + 7*z7^2 + 8*z7 + 97) * (x + z7^6 + 21*z7^5 + 123*z7^4 + 105*z7^3 + 78*z7^2 + 27*z7 + 97) * (x + 28*z7^6 + 104*z7^5 + 95*z7^4 + 33*z7^3 + 43*z7^2 + 45*z7 + 97) * (x + 57*z7^6 + 118*z7^5 + 62*z7^4 + 7*z7^3 + 47*z7^2 + 63*z7 + 97) * (x + 78*z7^6 + 61*z7^5 + 101*z7^4 + 48*z7^3 + 28*z7^2 + 65*z7 + 97) * (x + 27*z7^6 + 66*z7^5 + 24*z7^4 + 72*z7^3 + 97*z7^2 + 70*z7 + 97) * (x + 114*z7^6 + 77*z7^5 + 39*z7^4 + 119*z7^3 + 118*z7^2 + 82*z7 + 97) * (x + 58*z7^6 + 37*z7^5 + 70*z7^4 + 38*z7^3 + 40*z7^2 + 90*z7 + 97) * (x + 60*z7^6 + 41*z7^5 + 42*z7^4 + z7^3 + 68*z7^2 + 99*z7 + 97) * (x + 73*z7^6 + 74*z7^5 + 108*z7^3 + 95*z7^2 + 108*z7 + 97) * (x + 102*z7^6 + 47*z7^5 + 10*z7^4 + 66*z7^3 + 85*z7^2 + 109*z7 + 97) * (x + 50*z7^6 + 91*z7^5 + 72*z7^4 + 101*z7^3 + 91*z7^2 + 118*z7 + 97) * (x + 106*z7^6 + 113*z7^5 + 9*z7^4 + 45*z7^3 + 68*z7^2 + z7 + 98) * (x + 52*z7^6 + 98*z7^5 + 22*z7^4 + 10*z7^3 + 98*z7^2 + 82*z7 + 98) * (x + 102*z7^6 + 74*z7^5 + 23*z7^4 + 20*z7^3 + 37*z7^2 + 103*z7 + 98) * (x + 18*z7^6 + 112*z7^5 + 59*z7^4 + 20*z7^3 + 92*z7^2 + 8*z7 + 99) * (x + 7*z7^6 + 55*z7^5 + 17*z7^4 + 76*z7^3 + 64*z7^2 + 29*z7 + 99) * (x + 71*z7^6 + 29*z7^5 + 50*z7^4 + z7^3 + 86*z7^2 + 66*z7 + 99) * (x + 100*z7^6 + 62*z7^5 + 18*z7^4 + 48*z7^3 + 26*z7^2 + 74*z7 + 99) * (x + 110*z7^6 + 9*z7^5 + 48*z7^4 + 74*z7^3 + 15*z7^2 + 82*z7 + 99) * (x + 2*z7^6 + 124*z7^5 + 12*z7^4 + 31*z7^3 + 29*z7^2 + 97*z7 + 99) * (x + 99*z7^6 + 21*z7^5 + 18*z7^4 + 10*z7^3 + 96*z7^2 + 97*z7 + 99) * (x + 53*z7^6 + 68*z7^5 + 55*z7^4 + 103*z7^3 + 46*z7^2 + 114*z7 + 99) * (x + 52*z7^6 + 14*z7^5 + 57*z7^4 + 65*z7^3 + 92*z7^2 + 114*z7 + 99) * (x + 124*z7^6 + 11*z7^5 + 64*z7^4 + 110*z7^3 + 18*z7^2 + 121*z7 + 99) * (x + 51*z7^6 + 122*z7^5 + 120*z7^4 + 60*z7^3 + 78*z7^2 + 14*z7 + 100) * (x + 81*z7^6 + 99*z7^5 + 17*z7^4 + 74*z7^3 + 69*z7^2 + 19*z7 + 100) * (x + 3*z7^6 + 61*z7^5 + 46*z7^4 + 25*z7^3 + 83*z7^2 + 85*z7 + 100) * (x + 107*z7^6 + 106*z7^5 + 37*z7^4 + 16*z7^3 + 17*z7^2 + 92*z7 + 100) * (x + 7*z7^6 + 29*z7^5 + 118*z7^4 + 112*z7^3 + 81*z7^2 + 8*z7 + 101) * (x + 10*z7^6 + 28*z7^5 + 107*z7^4 + 114*z7^3 + 119*z7^2 + 25*z7 + 101) * (x + 79*z7^6 + 15*z7^5 + 40*z7^4 + 30*z7^3 + 98*z7^2 + 26*z7 + 101) * (x + 41*z7^6 + 57*z7^5 + 72*z7^4 + 95*z7^3 + 38*z7^2 + 30*z7 + 101) * (x + 79*z7^6 + 103*z7^5 + 118*z7^4 + 48*z7^3 + 109*z7^2 + 43*z7 + 101) * (x + 100*z7^6 + 31*z7^5 + 56*z7^4 + 34*z7^3 + 99*z7^2 + 54*z7 + 101) * (x + 106*z7^6 + 33*z7^5 + 86*z7^4 + 68*z7^3 + 34*z7^2 + 76*z7 + 101) * (x + 84*z7^6 + 103*z7^5 + 98*z7^4 + 17*z7^3 + 59*z7^2 + 91*z7 + 101) * (x + 122*z7^6 + 122*z7^5 + 51*z7^4 + 119*z7^3 + 122*z7^2 + 95*z7 + 101) * (x + 48*z7^6 + 123*z7^5 + 122*z7^4 + 41*z7^3 + 107*z7^2 + 97*z7 + 101) * (x + 85*z7^6 + 18*z7^5 + 69*z7^4 + 76*z7^3 + 24*z7^2 + 110*z7 + 101) * (x + 72*z7^6 + 94*z7^5 + 48*z7^4 + 108*z7^3 + 119*z7^2 + 4*z7 + 102) * (x + 3*z7^6 + 102*z7^5 + 47*z7^4 + 102*z7^3 + 37*z7^2 + 11*z7 + 102) * (x + 7*z7^6 + 74*z7^5 + 72*z7^4 + 22*z7^3 + 30*z7^2 + 14*z7 + 102) * (x + 3*z7^6 + 36*z7^5 + 56*z7^4 + 5*z7^3 + 65*z7^2 + 36*z7 + 102) * (x + 118*z7^6 + 61*z7^5 + 11*z7^4 + 78*z7^3 + 89*z7^2 + 43*z7 + 102) * (x + 49*z7^6 + 110*z7^5 + 100*z7^4 + 36*z7^3 + 73*z7^2 + 52*z7 + 102) * (x + 122*z7^6 + 19*z7^5 + 4*z7^4 + 109*z7^3 + 95*z7^2 + 53*z7 + 102) * (x + 105*z7^6 + 107*z7^5 + 37*z7^4 + 63*z7^3 + 117*z7^2 + 62*z7 + 102) * (x + 33*z7^6 + 126*z7^5 + 57*z7^4 + 47*z7^3 + 23*z7^2 + 63*z7 + 102) * (x + 66*z7^6 + 96*z7^5 + 30*z7^4 + 70*z7^3 + 95*z7^2 + 101*z7 + 102) * (x + 44*z7^6 + 43*z7^5 + 55*z7^4 + 32*z7^3 + 98*z7^2 + 4*z7 + 103) * (x + 107*z7^6 + 22*z7^5 + 46*z7^4 + 54*z7^3 + 120*z7^2 + 8*z7 + 103) * (x + 90*z7^6 + 6*z7^5 + 5*z7^4 + 20*z7^3 + 29*z7^2 + 12*z7 + 103) * (x + 44*z7^6 + 56*z7^5 + 41*z7^4 + 71*z7^3 + 47*z7^2 + 41*z7 + 103) * (x + 48*z7^6 + 110*z7^5 + 82*z7^4 + 58*z7^3 + 70*z7^2 + 56*z7 + 103) * (x + 2*z7^6 + 5*z7^5 + 51*z7^4 + 60*z7^3 + 76*z7^2 + 60*z7 + 103) * (x + 88*z7^6 + 74*z7^5 + 56*z7^4 + 2*z7^3 + 78*z7^2 + 65*z7 + 103) * (x + 59*z7^6 + 70*z7^5 + 125*z7^4 + 82*z7^3 + 45*z7^2 + 70*z7 + 103) * (x + 50*z7^6 + 66*z7^5 + 45*z7^4 + 118*z7^3 + 70*z7^2 + 72*z7 + 103) * (x + 31*z7^6 + 70*z7^5 + 2*z7^4 + 35*z7^3 + 57*z7^2 + 97*z7 + 103) * (x + 62*z7^6 + 88*z7^5 + 122*z7^4 + 57*z7^3 + 6*z7^2 + 103*z7 + 103) * (x + 30*z7^6 + 33*z7^5 + 98*z7^4 + 124*z7^3 + 61*z7^2 + 121*z7 + 103) * (x + 71*z7^6 + 98*z7^5 + 68*z7^4 + 68*z7^3 + 10*z7^2 + 25*z7 + 104) * (x + 93*z7^6 + 42*z7^5 + 39*z7^4 + 23*z7^3 + 35*z7^2 + 27*z7 + 104) * (x + 61*z7^6 + 115*z7^5 + 2*z7^4 + 6*z7^3 + 90*z7^2 + 28*z7 + 104) * (x + z7^6 + 97*z7^5 + 55*z7^4 + 62*z7^3 + 92*z7^2 + 44*z7 + 104) * (x + 110*z7^6 + 34*z7^5 + 54*z7^4 + 101*z7^3 + 59*z7^2 + 46*z7 + 104) * (x + 106*z7^6 + 81*z7^5 + 21*z7^4 + 30*z7^3 + 62*z7^2 + 56*z7 + 104) * (x + 99*z7^6 + 120*z7^5 + 64*z7^4 + 101*z7^3 + 84*z7^2 + 71*z7 + 104) * (x + 118*z7^6 + 19*z7^5 + 103*z7^4 + 48*z7^3 + 38*z7^2 + 77*z7 + 104) * (x + 14*z7^6 + 112*z7^5 + 30*z7^4 + 6*z7^3 + 53*z7^2 + 80*z7 + 104) * (x + 117*z7^6 + 91*z7^5 + 61*z7^4 + 83*z7^3 + 21*z7^2 + 83*z7 + 104) * (x + 85*z7^6 + 89*z7^5 + 26*z7^4 + 80*z7^3 + 9*z7^2 + 12*z7 + 105) * (x + 32*z7^6 + 16*z7^5 + 39*z7^4 + 10*z7^3 + z7^2 + 31*z7 + 105) * (x + 116*z7^6 + 34*z7^5 + 68*z7^4 + 62*z7^3 + 52*z7^2 + 72*z7 + 105) * (x + 81*z7^6 + 99*z7^5 + 113*z7^4 + 39*z7^3 + 65*z7^2 + 79*z7 + 105) * (x + 85*z7^6 + 99*z7^5 + 88*z7^4 + 57*z7^3 + 59*z7^2 + 83*z7 + 105) * (x + 56*z7^6 + 41*z7^5 + 123*z7^4 + 33*z7^3 + 122*z7^2 + 90*z7 + 105) * (x + 92*z7^6 + 41*z7^5 + 66*z7^4 + 51*z7^3 + 57*z7^2 + 103*z7 + 105) * (x + 106*z7^6 + 61*z7^5 + 56*z7^4 + 13*z7^3 + 55*z7^2 + 119*z7 + 105) * (x + 58*z7^6 + 110*z7^5 + 14*z7^4 + 80*z7^3 + 69*z7^2 + 126*z7 + 105) * (x + 103*z7^6 + 8*z7^5 + 61*z7^4 + 66*z7^3 + 51*z7^2 + 32*z7 + 106) * (x + 68*z7^6 + 53*z7^5 + 122*z7^4 + 58*z7^3 + 67*z7^2 + 46*z7 + 106) * (x + 79*z7^6 + 67*z7^5 + 115*z7^4 + 47*z7^3 + 5*z7^2 + 94*z7 + 106) * (x + 122*z7^6 + 49*z7^5 + 76*z7^4 + 29*z7^3 + 88*z7^2 + 122*z7 + 106) * (x + 124*z7^6 + 63*z7^5 + 17*z7^4 + 32*z7^3 + 4*z7^2 + 46*z7 + 107) * (x + 23*z7^6 + 62*z7^5 + 110*z7^4 + 49*z7^3 + 12*z7^2 + 70*z7 + 107) * (x + 40*z7^6 + 89*z7^5 + 124*z7^4 + z7^3 + 78*z7^2 + 84*z7 + 107) * (x + 44*z7^6 + 50*z7^5 + 29*z7^4 + 65*z7^3 + 80*z7^2 + 102*z7 + 107) * (x + 69*z7^6 + 80*z7^5 + 53*z7^4 + 99*z7^3 + 97*z7^2 + 116*z7 + 107) * (x + 71*z7^6 + 109*z7^5 + 42*z7^4 + 124*z7^3 + 48*z7^2 + 15*z7 + 108) * (x + 122*z7^6 + 123*z7^5 + 35*z7^4 + 52*z7^3 + 28*z7^2 + 20*z7 + 108) * (x + 77*z7^6 + 7*z7^5 + 49*z7^4 + 45*z7^3 + 7*z7^2 + 26*z7 + 108) * (x + 13*z7^6 + 106*z7^5 + 87*z7^4 + 103*z7^3 + 58*z7^2 + 31*z7 + 108) * (x + 36*z7^6 + 124*z7^5 + 45*z7^4 + 109*z7^3 + 98*z7^2 + 39*z7 + 109) * (x + 61*z7^6 + 108*z7^5 + 115*z7^4 + 76*z7^3 + 39*z7^2 + 56*z7 + 109) * (x + 71*z7^6 + 28*z7^5 + 74*z7^4 + 96*z7^3 + 24*z7^2 + 65*z7 + 109) * (x + 66*z7^6 + 38*z7^5 + 31*z7^4 + 123*z7^3 + 53*z7^2 + 71*z7 + 109) * (x + 82*z7^6 + 13*z7^5 + 71*z7^4 + 36*z7^3 + 48*z7^2 + 96*z7 + 109) * (x + 108*z7^6 + 62*z7^5 + 105*z7^4 + 87*z7^3 + 11*z7^2 + 19*z7 + 110) * (x + 75*z7^6 + 119*z7^5 + 71*z7^4 + 70*z7^3 + 124*z7^2 + 49*z7 + 110) * (x + 59*z7^6 + 58*z7^5 + 17*z7^4 + 61*z7^3 + 37*z7^2 + 64*z7 + 110) * (x + 19*z7^6 + 113*z7^5 + 62*z7^4 + 3*z7^3 + 47*z7^2 + 110*z7 + 110) * (x + 50*z7^6 + 30*z7^5 + 43*z7^4 + 47*z7^3 + 83*z7^2 + 8*z7 + 111) * (x + 19*z7^6 + 66*z7^5 + 54*z7^4 + 125*z7^3 + 23*z7^2 + 20*z7 + 111) * (x + 40*z7^6 + 31*z7^5 + 12*z7^4 + 65*z7^3 + 85*z7^2 + 20*z7 + 111) * (x + 121*z7^6 + 87*z7^5 + 37*z7^4 + 104*z7^3 + 38*z7^2 + 26*z7 + 111) * (x + 70*z7^6 + 88*z7^5 + 111*z7^4 + 39*z7^3 + 115*z7^2 + 53*z7 + 111) * (x + 73*z7^6 + 119*z7^5 + 77*z7^4 + 49*z7^3 + 77*z7^2 + 57*z7 + 111) * (x + 36*z7^6 + 101*z7^5 + 24*z7^4 + 55*z7^3 + 125*z7^2 + 61*z7 + 111) * (x + 123*z7^6 + 75*z7^5 + 121*z7^4 + 28*z7^3 + 72*z7^2 + 62*z7 + 111) * (x + 37*z7^6 + 66*z7^5 + 123*z7^3 + 107*z7^2 + 74*z7 + 111) * (x + 54*z7^6 + 40*z7^5 + 96*z7^4 + 125*z7^3 + 66*z7^2 + 75*z7 + 111) * (x + 6*z7^6 + z7^5 + 123*z7^4 + 40*z7^3 + 59*z7^2 + 85*z7 + 111) * (x + 55*z7^6 + 86*z7^5 + 80*z7^4 + 121*z7^3 + 87*z7^2 + 102*z7 + 111) * (x + 114*z7^6 + 121*z7^5 + 112*z7^4 + 95*z7^3 + 62*z7^2 + 20*z7 + 112) * (x + 106*z7^6 + 24*z7^5 + 112*z7^4 + 71*z7^3 + 17*z7^2 + 31*z7 + 112) * (x + 80*z7^6 + 106*z7^5 + 55*z7^4 + 35*z7^3 + 64*z7^2 + 36*z7 + 112) * (x + 111*z7^6 + 93*z7^5 + 111*z7^4 + 38*z7^3 + 44*z7^2 + 80*z7 + 112) * (x + 78*z7^6 + 83*z7^5 + 68*z7^4 + 33*z7^3 + 76*z7^2 + 121*z7 + 112) * (x + 32*z7^6 + 16*z7^5 + 118*z7^4 + 7*z7^3 + 69*z7^2 + 10*z7 + 113) * (x + 121*z7^6 + 125*z7^5 + 91*z7^4 + 79*z7^3 + 122*z7^2 + 11*z7 + 113) * (x + 34*z7^6 + 27*z7^5 + 13*z7^4 + 14*z7^3 + 66*z7^2 + 25*z7 + 113) * (x + 105*z7^6 + 78*z7^5 + 85*z7^4 + z7^3 + 55*z7^2 + 49*z7 + 113) * (x + 4*z7^6 + 69*z7^5 + 50*z7^4 + 22*z7^3 + 84*z7^2 + 51*z7 + 113) * (x + 36*z7^6 + 53*z7^5 + 41*z7^4 + 91*z7^3 + 46*z7^2 + 67*z7 + 113) * (x + 116*z7^6 + 50*z7^5 + 43*z7^4 + 48*z7^3 + 74*z7^2 + 77*z7 + 113) * (x + 94*z7^6 + 10*z7^5 + 107*z7^4 + 9*z7^3 + 62*z7^2 + 82*z7 + 113) * (x + 32*z7^6 + 37*z7^5 + 102*z7^4 + 83*z7^3 + 113*z7^2 + 27*z7 + 114) * (x + 50*z7^6 + 2*z7^5 + 43*z7^4 + 50*z7^3 + 62*z7^2 + 60*z7 + 114) * (x + 79*z7^6 + 108*z7^5 + 24*z7^4 + 114*z7^3 + 23*z7^2 + 62*z7 + 114) * (x + 57*z7^6 + 99*z7^5 + 18*z7^4 + 120*z7^3 + 102*z7^2 + 62*z7 + 114) * (x + 60*z7^6 + 98*z7^5 + 82*z7^4 + 12*z7^3 + 99*z7^2 + 76*z7 + 115) * (x + 43*z7^6 + 66*z7^5 + 58*z7^3 + 83*z7 + 115) * (x + 3*z7^6 + 102*z7^5 + 9*z7^4 + 40*z7^3 + 76*z7^2 + 108*z7 + 115) * (x + 64*z7^6 + 83*z7^5 + 93*z7^4 + 50*z7^3 + 125*z7^2 + 116) * (x + 114*z7^6 + 51*z7^5 + 14*z7^4 + z7^3 + 104*z7^2 + 5*z7 + 116) * (x + 28*z7^6 + 44*z7^5 + 18*z7^4 + 54*z7^3 + 126*z7^2 + 24*z7 + 116) * (x + 84*z7^6 + 23*z7^5 + 60*z7^4 + 115*z7^3 + 81*z7^2 + 58*z7 + 116) * (x + 65*z7^6 + 101*z7^5 + 107*z7^4 + 88*z7^3 + 120*z7^2 + 103*z7 + 116) * (x + 22*z7^6 + 69*z7^5 + 61*z7^4 + 92*z7^3 + 3*z7^2 + 11*z7 + 117) * (x + 62*z7^6 + 47*z7^5 + 66*z7^4 + 66*z7^3 + 4*z7^2 + 21*z7 + 117) * (x + 29*z7^6 + 112*z7^5 + 61*z7^4 + 66*z7^3 + 64*z7^2 + 99*z7 + 117) * (x + 26*z7^6 + 25*z7^5 + 117*z7^4 + 12*z7^3 + 90*z7^2 + 113*z7 + 117) * (x + 67*z7^6 + 51*z7^5 + 17*z7^4 + 50*z7^3 + 23*z7^2 + 8*z7 + 118) * (x + 122*z7^6 + 22*z7^5 + 44*z7^4 + 36*z7^3 + 85*z7^2 + 68*z7 + 118) * (x + 86*z7^6 + 13*z7^5 + 69*z7^4 + 11*z7^3 + 80*z7^2 + 81*z7 + 118) * (x + 12*z7^6 + 125*z7^5 + 19*z7^4 + 77*z7^3 + 25*z7^2 + 86*z7 + 118) * (x + 19*z7^6 + 28*z7^5 + 28*z7^4 + 46*z7^3 + 74*z7^2 + 91*z7 + 118) * (x + 58*z7^6 + 92*z7^5 + 53*z7^4 + 5*z7^3 + 24*z7^2 + 106*z7 + 118) * (x + 104*z7^6 + 91*z7^5 + 53*z7^4 + 37*z7^3 + 10*z7^2 + 126*z7 + 118) * (x + 78*z7^6 + 20*z7^5 + 7*z7^4 + 86*z7^3 + 117*z7^2 + 14*z7 + 119) * (x + 97*z7^6 + 73*z7^5 + 68*z7^4 + 16*z7^3 + 58*z7^2 + 44*z7 + 119) * (x + 52*z7^6 + 46*z7^5 + 104*z7^4 + 53*z7^3 + 102*z7^2 + 60*z7 + 119) * (x + 86*z7^6 + 123*z7^5 + 6*z7^4 + 98*z7^3 + 37*z7^2 + 73*z7 + 119) * (x + 108*z7^6 + 55*z7^5 + 92*z7^4 + 60*z7^3 + 20*z7^2 + 80*z7 + 119) * (x + 77*z7^6 + 115*z7^5 + 52*z7^4 + 117*z7^3 + 42*z7^2 + 97*z7 + 119) * (x + 2*z7^6 + 113*z7^5 + 12*z7^4 + 8*z7^3 + 66*z7^2 + 103*z7 + 119) * (x + 83*z7^6 + 50*z7^5 + 32*z7^4 + 105*z7^3 + z7^2 + 107*z7 + 119) * (x + 65*z7^6 + 109*z7^5 + 66*z7^4 + 58*z7^3 + 14*z7^2 + 125*z7 + 119) * (x + 24*z7^6 + 39*z7^5 + 39*z7^4 + 77*z7^3 + 121*z7^2 + 126*z7 + 119) * (x + 42*z7^6 + 57*z7^5 + 70*z7^4 + 40*z7^3 + 98*z7^2 + 3*z7 + 120) * (x + 101*z7^6 + 122*z7^5 + 51*z7^3 + 58*z7^2 + 25*z7 + 120) * (x + 103*z7^6 + 87*z7^5 + 14*z7^4 + 105*z7^3 + 73*z7^2 + 48*z7 + 120) * (x + 102*z7^6 + 21*z7^5 + 13*z7^4 + 35*z7^3 + 108*z7^2 + 59*z7 + 120) * (x + 60*z7^6 + 109*z7^5 + 43*z7^4 + 71*z7^3 + 57*z7^2 + 69*z7 + 120) * (x + 101*z7^6 + 9*z7^5 + 44*z7^4 + 28*z7^3 + 99*z7^2 + 75*z7 + 120) * (x + 90*z7^6 + 35*z7^5 + 18*z7^4 + 44*z7^3 + 100*z7^2 + 89*z7 + 120) * (x + 12*z7^6 + 120*z7^5 + 106*z7^4 + 80*z7^3 + 118*z7^2 + 97*z7 + 120) * (x + 72*z7^6 + 105*z7^5 + 15*z7^4 + 84*z7^3 + 24*z7^2 + 102*z7 + 120) * (x + 10*z7^6 + 57*z7^5 + 86*z7^4 + 34*z7^3 + 23*z7^2 + 61*z7 + 121) * (x + 68*z7^6 + 61*z7^5 + 101*z7^4 + 8*z7^3 + 105*z7^2 + 74*z7 + 121) * (x + 99*z7^6 + 23*z7^5 + 110*z7^4 + 91*z7^3 + 108*z7^2 + 96*z7 + 121) * (x + 23*z7^6 + 36*z7^5 + 40*z7^4 + 79*z7^3 + 41*z7^2 + 104*z7 + 121) * (x + 118*z7^6 + 26*z7^5 + 35*z7^4 + 82*z7^3 + 60*z7^2 + 25*z7 + 122) * (x + 69*z7^6 + 118*z7^5 + 101*z7^4 + 124*z7^3 + 47*z7^2 + 27*z7 + 122) * (x + 41*z7^6 + 84*z7^5 + 38*z7^4 + 77*z7^3 + 71*z7^2 + 54*z7 + 122) * (x + 120*z7^6 + 78*z7^5 + 116*z7^4 + 98*z7^3 + 41*z7^2 + 59*z7 + 122) * (x + 93*z7^6 + 24*z7^5 + 27*z7^4 + 92*z7^3 + 102*z7^2 + 98*z7 + 122) * (x + 73*z7^6 + 4*z7^5 + 63*z7^4 + 30*z7^3 + 110*z7^2 + 108*z7 + 122) * (x + 98*z7^6 + 73*z7^5 + 28*z7^4 + 35*z7^3 + 84*z7^2 + 124*z7 + 122) * (x + 92*z7^6 + 76*z7^5 + 53*z7^4 + 118*z7^3 + 50*z7^2 + 42*z7 + 123) * (x + 88*z7^6 + 88*z7^5 + 91*z7^4 + 115*z7^3 + 75*z7^2 + 93*z7 + 123) * (x + 98*z7^6 + 63*z7^5 + 4*z7^4 + 121*z7^3 + 98*z7^2 + 113*z7 + 123) * (x + 109*z7^6 + 75*z7^4 + 53*z7^3 + 21*z7^2 + 9*z7 + 124) * (x + 34*z7^6 + 60*z7^5 + 20*z7^4 + 34*z7^3 + 77*z7^2 + 73*z7 + 124) * (x + 24*z7^6 + 119*z7^5 + 24*z7^4 + 32*z7^3 + 6*z7^2 + 82*z7 + 124) * (x + 18*z7^6 + 80*z7^5 + 110*z7^4 + 104*z7^3 + 13*z7^2 + 10*z7 + 125) * (x + 89*z7^6 + 101*z7^5 + 66*z7^4 + 110*z7^3 + 116*z7^2 + 36*z7 + 125) * (x + 12*z7^6 + 87*z7^5 + 31*z7^4 + 86*z7^3 + 35*z7^2 + 53*z7 + 125) * (x + 87*z7^6 + 119*z7^5 + 96*z7^4 + 114*z7^3 + 85*z7^2 + 58*z7 + 125) * (x + 12*z7^6 + 55*z7^5 + 94*z7^4 + 52*z7^3 + 36*z7^2 + 90*z7 + 125) * (x + 10*z7^6 + 82*z7^5 + 50*z7^4 + 121*z7^3 + 103*z7^2 + 95*z7 + 125) * (x + 63*z7^6 + 112*z7^5 + 109*z7^4 + 104*z7^3 + 32*z7^2 + 107*z7 + 125) * (x + 45*z7^6 + 122*z7^4 + 93*z7^3 + 27*z7^2 + 110*z7 + 125) * (x + 12*z7^6 + 60*z7^5 + 21*z7^4 + 80*z7^3 + 28*z7^2 + 114*z7 + 125) * (x + 56*z7^6 + 108*z7^5 + 21*z7^4 + 28*z7^3 + 73*z7^2 + 21*z7 + 126) * (x + 55*z7^6 + 96*z7^5 + 107*z7^4 + 65*z7^3 + 91*z7^2 + 29*z7 + 126) * (x + 124*z7^6 + 50*z7^5 + 120*z7^4 + 81*z7^3 + 80*z7^2 + 48*z7 + 126) * (x + 90*z7^6 + 31*z7^5 + 41*z7^4 + 92*z7^3 + 122*z7^2 + 78*z7 + 126) * (x + 14*z7^6 + 117*z7^5 + 99*z7^4 + 124*z7^3 + 126*z7^2 + 79*z7 + 126) * (x + 3*z7^6 + 47*z7^5 + 122*z7^4 + 119*z7^3 + 60*z7^2 + 93*z7 + 126) * (x + 53*z7^6 + 57*z7^5 + 114*z7^4 + 39*z7^3 + 110*z7^2 + 93*z7 + 126) * (x + 94*z7^6 + 47*z7^5 + 123*z7^4 + 3*z7^3 + 12*z7^2 + 126*z7 + 126)"
      ]
     },
     "execution_count": 23,
     "metadata": {},
     "output_type": "execute_result"
    }
   ],
   "source": [
    "E7.division_polynomial(43).factor()"
   ]
  },
  {
   "cell_type": "code",
   "execution_count": 24,
   "metadata": {},
   "outputs": [],
   "source": [
    "P,Q = E7.gens()"
   ]
  },
  {
   "cell_type": "code",
   "execution_count": 25,
   "metadata": {},
   "outputs": [
    {
     "data": {
      "text/plain": [
       "43"
      ]
     },
     "execution_count": 25,
     "metadata": {},
     "output_type": "execute_result"
    }
   ],
   "source": [
    "Q.order()"
   ]
  },
  {
   "cell_type": "code",
   "execution_count": 26,
   "metadata": {},
   "outputs": [
    {
     "data": {
      "text/plain": [
       "12392461536087"
      ]
     },
     "execution_count": 26,
     "metadata": {},
     "output_type": "execute_result"
    }
   ],
   "source": [
    "P.order()"
   ]
  },
  {
   "cell_type": "code",
   "execution_count": 27,
   "metadata": {},
   "outputs": [
    {
     "data": {
      "text/plain": [
       "43"
      ]
     },
     "execution_count": 27,
     "metadata": {},
     "output_type": "execute_result"
    }
   ],
   "source": [
    "R = (P.order() / 43) * P\n",
    "R.order()"
   ]
  },
  {
   "cell_type": "code",
   "execution_count": 29,
   "metadata": {},
   "outputs": [
    {
     "name": "stdout",
     "output_type": "stream",
     "text": [
      "Isogeny of degree 43 from Elliptic Curve defined by y^2 = x^3 + 97*x + 46 over Finite Field in z7 of size 127^7 to Elliptic Curve defined by y^2 = x^3 + (22*z7^6+84*z7^5+98*z7^4+72*z7^3+24*z7^2+78*z7+39)*x + (26*z7^6+37*z7^5+90*z7^4+22*z7^3+118*z7^2+73*z7+59) over Finite Field in z7 of size 127^7\n",
      "Isogeny of degree 43 from Elliptic Curve defined by y^2 = x^3 + 97*x + 46 over Finite Field in z7 of size 127^7 to Elliptic Curve defined by y^2 = x^3 + (100*z7^6+99*z7^5+105*z7^4+122*z7^3+10*z7^2+122*z7+44)*x + (39*z7^6+85*z7^5+122*z7^4+99*z7^3+106*z7^2+77*z7+81) over Finite Field in z7 of size 127^7\n",
      "Isogeny of degree 43 from Elliptic Curve defined by y^2 = x^3 + 97*x + 46 over Finite Field in z7 of size 127^7 to Elliptic Curve defined by y^2 = x^3 + (50*z7^6+98*z7^5+89*z7^4+120*z7^3+59*z7^2+65*z7+61)*x + (13*z7^6+70*z7^5+75*z7^4+41*z7^3+81*z7^2+113*z7+88) over Finite Field in z7 of size 127^7\n",
      "Isogeny of degree 43 from Elliptic Curve defined by y^2 = x^3 + 97*x + 46 over Finite Field in z7 of size 127^7 to Elliptic Curve defined by y^2 = x^3 + (13*z7^6+89*z7^5+124*z7^4+64*z7^3+37*z7+4)*x + (22*z7^6+23*z7^5+120*z7^4+110*z7^3+84*z7^2+125*z7+76) over Finite Field in z7 of size 127^7\n",
      "Isogeny of degree 43 from Elliptic Curve defined by y^2 = x^3 + 97*x + 46 over Finite Field in z7 of size 127^7 to Elliptic Curve defined by y^2 = x^3 + (73*z7^6+93*z7^5+26*z7^4+46*z7^3+54*z7^2+121*z7+83)*x + (36*z7^6+66*z7^5+81*z7^4+14*z7^3+75*z7^2+94*z7+101) over Finite Field in z7 of size 127^7\n",
      "Isogeny of degree 43 from Elliptic Curve defined by y^2 = x^3 + 97*x + 46 over Finite Field in z7 of size 127^7 to Elliptic Curve defined by y^2 = x^3 + 100*x + 8 over Finite Field in z7 of size 127^7\n",
      "Isogeny of degree 43 from Elliptic Curve defined by y^2 = x^3 + 97*x + 46 over Finite Field in z7 of size 127^7 to Elliptic Curve defined by y^2 = x^3 + (z7^6+33*z7^5+108*z7^4+62*z7^3+104*z7^2+58*z7+66)*x + (31*z7^6+33*z7^5+76*z7^4+119*z7^3+102*z7^2+8*z7+11) over Finite Field in z7 of size 127^7\n",
      "Isogeny of degree 43 from Elliptic Curve defined by y^2 = x^3 + 97*x + 46 over Finite Field in z7 of size 127^7 to Elliptic Curve defined by y^2 = x^3 + (81*z7^6+114*z7^5+13*z7^4+99*z7^3+88*z7^2+91*z7+53)*x + (67*z7^6+44*z7^5+6*z7^4+89*z7^3+32*z7^2+93*z7+23) over Finite Field in z7 of size 127^7\n",
      "Isogeny of degree 43 from Elliptic Curve defined by y^2 = x^3 + 97*x + 46 over Finite Field in z7 of size 127^7 to Elliptic Curve defined by y^2 = x^3 + (28*z7^6+21*z7^5+46*z7^4+17*z7^3+2*z7^2+108*z7+88)*x + (69*z7^6+60*z7^5+117*z7^4+40*z7^3+117*z7^2+23*z7+9) over Finite Field in z7 of size 127^7\n",
      "Isogeny of degree 43 from Elliptic Curve defined by y^2 = x^3 + 97*x + 46 over Finite Field in z7 of size 127^7 to Elliptic Curve defined by y^2 = x^3 + (23*z7^6+109*z7^5+7*z7^4+42*z7^3+47*z7^2+43*z7+113)*x + (4*z7^6+103*z7^5+30*z7^4+25*z7^3+28*z7^2+39*z7+63) over Finite Field in z7 of size 127^7\n",
      "Isogeny of degree 43 from Elliptic Curve defined by y^2 = x^3 + 97*x + 46 over Finite Field in z7 of size 127^7 to Elliptic Curve defined by y^2 = x^3 + (59*z7^6+65*z7^5+69*z7^4+105*z7^3+43*z7^2+119*z7+33)*x + (61*z7^6+27*z7^5+43*z7^4+92*z7^3+35*z7^2+33*z7+15) over Finite Field in z7 of size 127^7\n",
      "Isogeny of degree 43 from Elliptic Curve defined by y^2 = x^3 + 97*x + 46 over Finite Field in z7 of size 127^7 to Elliptic Curve defined by y^2 = x^3 + (120*z7^6+17*z7^5+13*z7^4+114*z7^3+100*z7^2+69*z7+119)*x + (96*z7^6+47*z7^5+123*z7^4+31*z7^3+82*z7^2+81*z7+33) over Finite Field in z7 of size 127^7\n",
      "Isogeny of degree 43 from Elliptic Curve defined by y^2 = x^3 + 97*x + 46 over Finite Field in z7 of size 127^7 to Elliptic Curve defined by y^2 = x^3 + (64*z7^6+32*z7^5+115*z7^4+z7^3+13*z7^2+115*z7+61)*x + (36*z7^6+104*z7^5+29*z7^4+17*z7^3+55*z7^2+46*z7+2) over Finite Field in z7 of size 127^7\n",
      "Isogeny of degree 43 from Elliptic Curve defined by y^2 = x^3 + 97*x + 46 over Finite Field in z7 of size 127^7 to Elliptic Curve defined by y^2 = x^3 + (111*z7^6+95*z7^5+72*z7^4+85*z7^3+103*z7^2+18*z7+121)*x + (3*z7^6+120*z7^5+14*z7^4+z7^3+119*z7^2+75*z7+122) over Finite Field in z7 of size 127^7\n",
      "Isogeny of degree 43 from Elliptic Curve defined by y^2 = x^3 + 97*x + 46 over Finite Field in z7 of size 127^7 to Elliptic Curve defined by y^2 = x^3 + (64*z7^6+9*z7^5+52*z7^4+3*z7^3+67*z7^2+45*z7+71)*x + (59*z7^6+36*z7^5+54*z7^4+60*z7^3+65*z7^2+79*z7+66) over Finite Field in z7 of size 127^7\n",
      "Isogeny of degree 43 from Elliptic Curve defined by y^2 = x^3 + 97*x + 46 over Finite Field in z7 of size 127^7 to Elliptic Curve defined by y^2 = x^3 + (75*z7^6+31*z7^5+70*z7^4+10*z7^3+76*z7^2+107*z7+41)*x + (35*z7^6+12*z7^5+48*z7^4+125*z7^3+46*z7^2+52*z7+115) over Finite Field in z7 of size 127^7\n",
      "Isogeny of degree 43 from Elliptic Curve defined by y^2 = x^3 + 97*x + 46 over Finite Field in z7 of size 127^7 to Elliptic Curve defined by y^2 = x^3 + (73*z7^6+80*z7^5+96*z7^4+22*z7^3+2*z7^2+13*z7+106)*x + (44*z7^6+34*z7^5+31*z7^4+75*z7^3+91*z7^2+50*z7+13) over Finite Field in z7 of size 127^7\n",
      "Isogeny of degree 43 from Elliptic Curve defined by y^2 = x^3 + 97*x + 46 over Finite Field in z7 of size 127^7 to Elliptic Curve defined by y^2 = x^3 + (63*z7^6+14*z7^5+13*z7^4+76*z7^3+112*z7^2+53*z7+3)*x + (123*z7^6+41*z7^5+62*z7^4+39*z7^3+103*z7^2+44*z7+108) over Finite Field in z7 of size 127^7\n",
      "Isogeny of degree 43 from Elliptic Curve defined by y^2 = x^3 + 97*x + 46 over Finite Field in z7 of size 127^7 to Elliptic Curve defined by y^2 = x^3 + (7*z7^6+38*z7^5+63*z7^4+11*z7^3+116*z7^2+24*z7+92)*x + (107*z7^6+97*z7^5+79*z7^4+60*z7^3+100*z7^2+103*z7+61) over Finite Field in z7 of size 127^7\n",
      "Isogeny of degree 43 from Elliptic Curve defined by y^2 = x^3 + 97*x + 46 over Finite Field in z7 of size 127^7 to Elliptic Curve defined by y^2 = x^3 + (28*z7^6+86*z7^5+99*z7^4+64*z7^3+50*z7^2+38*z7+85)*x + (24*z7^6+86*z7^5+41*z7^4+28*z7^3+55*z7^2+104*z7+110) over Finite Field in z7 of size 127^7\n",
      "Isogeny of degree 43 from Elliptic Curve defined by y^2 = x^3 + 97*x + 46 over Finite Field in z7 of size 127^7 to Elliptic Curve defined by y^2 = x^3 + (25*z7^6+62*z7^5+74*z7^4+111*z7^3+12*z7^2+48*z7+15)*x + (26*z7^6+122*z7^5+118*z7^4+67*z7^3+23*z7^2+56*z7+90) over Finite Field in z7 of size 127^7\n",
      "Isogeny of degree 43 from Elliptic Curve defined by y^2 = x^3 + 97*x + 46 over Finite Field in z7 of size 127^7 to Elliptic Curve defined by y^2 = x^3 + (64*z7^6+96*z7^5+8*z7^4+36*z7^3+30*z7^2+9*z7+34)*x + (87*z7^6+57*z7^5+3*z7^4+33*z7^3+100*z7^2+16*z7+8) over Finite Field in z7 of size 127^7\n",
      "Isogeny of degree 43 from Elliptic Curve defined by y^2 = x^3 + 97*x + 46 over Finite Field in z7 of size 127^7 to Elliptic Curve defined by y^2 = x^3 + (55*z7^6+25*z7^5+45*z7^4+58*z7^3+108*z7^2+107*z7+33)*x + (67*z7^6+120*z7^5+105*z7^4+99*z7^3+33*z7^2+55*z7+46) over Finite Field in z7 of size 127^7\n",
      "Isogeny of degree 43 from Elliptic Curve defined by y^2 = x^3 + 97*x + 46 over Finite Field in z7 of size 127^7 to Elliptic Curve defined by y^2 = x^3 + 38*x + 16 over Finite Field in z7 of size 127^7\n",
      "Isogeny of degree 43 from Elliptic Curve defined by y^2 = x^3 + 97*x + 46 over Finite Field in z7 of size 127^7 to Elliptic Curve defined by y^2 = x^3 + (91*z7^6+121*z7^5+13*z7^4+42*z7^3+93*z7^2+106*z7+62)*x + (114*z7^6+38*z7^5+67*z7^4+94*z7^3+19*z7^2+27*z7+44) over Finite Field in z7 of size 127^7\n",
      "Isogeny of degree 43 from Elliptic Curve defined by y^2 = x^3 + 97*x + 46 over Finite Field in z7 of size 127^7 to Elliptic Curve defined by y^2 = x^3 + (85*z7^6+22*z7^5+60*z7^4+90*z7^3+85*z7^2+123*z7+97)*x + (9*z7^6+9*z7^5+110*z7^4+56*z7^3+77*z7^2+88*z7+71) over Finite Field in z7 of size 127^7\n",
      "Isogeny of degree 43 from Elliptic Curve defined by y^2 = x^3 + 97*x + 46 over Finite Field in z7 of size 127^7 to Elliptic Curve defined by y^2 = x^3 + (75*z7^6+53*z7^5+76*z7^4+116*z7^3+21*z7^2+72*z7+18)*x + (106*z7^6+111*z7^5+77*z7^4+5*z7^3+47*z7^2+94*z7+112) over Finite Field in z7 of size 127^7\n",
      "Isogeny of degree 43 from Elliptic Curve defined by y^2 = x^3 + 97*x + 46 over Finite Field in z7 of size 127^7 to Elliptic Curve defined by y^2 = x^3 + (11*z7^6+2*z7^5+15*z7^4+44*z7^3+91*z7^2+125*z7+79)*x + (40*z7^6+11*z7^5+88*z7^4+20*z7^3+64*z7^2+80*z7+112) over Finite Field in z7 of size 127^7\n",
      "Isogeny of degree 43 from Elliptic Curve defined by y^2 = x^3 + 97*x + 46 over Finite Field in z7 of size 127^7 to Elliptic Curve defined by y^2 = x^3 + (104*z7^6+79*z7^5+16*z7^4+67*z7^3+25*z7^2+96*z7+41)*x + (84*z7^6+73*z7^4+32*z7^3+116*z7^2+98*z7+79) over Finite Field in z7 of size 127^7\n",
      "Isogeny of degree 43 from Elliptic Curve defined by y^2 = x^3 + 97*x + 46 over Finite Field in z7 of size 127^7 to Elliptic Curve defined by y^2 = x^3 + (43*z7^6+12*z7^5+102*z7^4+39*z7^3+99*z7^2+126*z7+18)*x + (31*z7^6+56*z7^5+69*z7^4+102*z7^3+4*z7^2+70*z7+50) over Finite Field in z7 of size 127^7\n",
      "Isogeny of degree 43 from Elliptic Curve defined by y^2 = x^3 + 97*x + 46 over Finite Field in z7 of size 127^7 to Elliptic Curve defined by y^2 = x^3 + (35*z7^6+59*z7^5+72*z7^4+99*z7^3+125*z7^2+58*z7+61)*x + (23*z7^6+99*z7^5+98*z7^4+61*z7^3+111*z7^2+3*z7+93) over Finite Field in z7 of size 127^7\n",
      "Isogeny of degree 43 from Elliptic Curve defined by y^2 = x^3 + 97*x + 46 over Finite Field in z7 of size 127^7 to Elliptic Curve defined by y^2 = x^3 + (83*z7^6+73*z7^5+70*z7^4+74*z7^3+37*z7^2+120*z7+15)*x + (18*z7^6+2*z7^5+112*z7^4+66*z7^3+111*z7^2+122*z7+79) over Finite Field in z7 of size 127^7\n",
      "Isogeny of degree 43 from Elliptic Curve defined by y^2 = x^3 + 97*x + 46 over Finite Field in z7 of size 127^7 to Elliptic Curve defined by y^2 = x^3 + (65*z7^6+36*z7^5+46*z7^4+99*z7^3+73*z7^2+5*z7+18)*x + (97*z7^6+89*z7^5+63*z7^4+70*z7^3+82*z7^2+28*z7+25) over Finite Field in z7 of size 127^7\n",
      "Isogeny of degree 43 from Elliptic Curve defined by y^2 = x^3 + 97*x + 46 over Finite Field in z7 of size 127^7 to Elliptic Curve defined by y^2 = x^3 + (91*z7^6+79*z7^5+3*z7^4+64*z7^3+61*z7^2+85*z7+62)*x + (23*z7^6+68*z7^5+122*z7^4+z7^3+83*z7^2+17*z7+17) over Finite Field in z7 of size 127^7\n",
      "Isogeny of degree 43 from Elliptic Curve defined by y^2 = x^3 + 97*x + 46 over Finite Field in z7 of size 127^7 to Elliptic Curve defined by y^2 = x^3 + (70*z7^6+56*z7^5+89*z7^4+31*z7^3+59*z7^2+41*z7+117)*x + (65*z7^6+27*z7^5+99*z7^4+119*z7^3+99*z7^2+75*z7+111) over Finite Field in z7 of size 127^7\n",
      "Isogeny of degree 43 from Elliptic Curve defined by y^2 = x^3 + 97*x + 46 over Finite Field in z7 of size 127^7 to Elliptic Curve defined by y^2 = x^3 + (27*z7^6+109*z7^5+110*z7^4+32*z7^3+33*z7^2+17*z7+77)*x + (7*z7^6+90*z7^5+81*z7^4+44*z7^3+53*z7^2+40*z7+9) over Finite Field in z7 of size 127^7\n",
      "Isogeny of degree 43 from Elliptic Curve defined by y^2 = x^3 + 97*x + 46 over Finite Field in z7 of size 127^7 to Elliptic Curve defined by y^2 = x^3 + (23*z7^6+6*z7^5+12*z7^4+35*z7^3+56*z7^2+118*z7+60)*x + (45*z7^6+45*z7^5+73*z7^4+55*z7^3+114*z7^2+84*z7+27) over Finite Field in z7 of size 127^7\n",
      "Isogeny of degree 43 from Elliptic Curve defined by y^2 = x^3 + 97*x + 46 over Finite Field in z7 of size 127^7 to Elliptic Curve defined by y^2 = x^3 + (60*z7^6+32*z7^5+115*z7^4+79*z7^3+71*z7^2+19*z7+117)*x + (99*z7^6+107*z7^5+75*z7^4+31*z7^3+113*z7^2+22*z7+87) over Finite Field in z7 of size 127^7\n",
      "Isogeny of degree 43 from Elliptic Curve defined by y^2 = x^3 + 97*x + 46 over Finite Field in z7 of size 127^7 to Elliptic Curve defined by y^2 = x^3 + (36*z7^6+67*z7^5+20*z7^4+69*z7^2+10*z7+79)*x + (82*z7^6+31*z7^5+65*z7^4+43*z7^3+120*z7^2+125*z7+3) over Finite Field in z7 of size 127^7\n",
      "Isogeny of degree 43 from Elliptic Curve defined by y^2 = x^3 + 97*x + 46 over Finite Field in z7 of size 127^7 to Elliptic Curve defined by y^2 = x^3 + (44*z7^6+z7^5+26*z7^4+66*z7^3+20*z7^2+119*z7+73)*x + (z7^6+67*z7^5+40*z7^4+73*z7^3+79*z7^2+88*z7+32) over Finite Field in z7 of size 127^7\n",
      "Isogeny of degree 43 from Elliptic Curve defined by y^2 = x^3 + 97*x + 46 over Finite Field in z7 of size 127^7 to Elliptic Curve defined by y^2 = x^3 + (89*z7^6+39*z7^5+35*z7^4+105*z7^3+57*z7^2+49*z7+94)*x + (26*z7^6+17*z7^5+41*z7^4+81*z7^3+118*z7^2+119*z7+90) over Finite Field in z7 of size 127^7\n",
      "Isogeny of degree 43 from Elliptic Curve defined by y^2 = x^3 + 97*x + 46 over Finite Field in z7 of size 127^7 to Elliptic Curve defined by y^2 = x^3 + (45*z7^6+49*z7^5+23*z7^4+101*z7^3+39*z7^2+111*z7+117)*x + (110*z7^6+113*z7^5+110*z7^4+87*z7^3+55*z7^2+98*z7+123) over Finite Field in z7 of size 127^7\n",
      "Isogeny of degree 43 from Elliptic Curve defined by y^2 = x^3 + 97*x + 46 over Finite Field in z7 of size 127^7 to Elliptic Curve defined by y^2 = x^3 + (84*z7^6+75*z7^5+123*z7^4+123*z7^3+78*z7^2+80*z7+19)*x + (91*z7^6+16*z7^5+122*z7^4+103*z7^3+24*z7^2+29*z7+5) over Finite Field in z7 of size 127^7\n"
     ]
    }
   ],
   "source": [
    "for i in range(43):\n",
    "    print(E7.isogeny(Q + i*R))"
   ]
  },
  {
   "cell_type": "code",
   "execution_count": 30,
   "metadata": {},
   "outputs": [
    {
     "data": {
      "text/plain": [
       "Isogeny of degree 43 from Elliptic Curve defined by y^2 = x^3 + 97*x + 46 over Finite Field in z7 of size 127^7 to Elliptic Curve defined by y^2 = x^3 + (53*z7^6+53*z7^5+109*z7^4+21*z7^3+z7^2+80*z7+74)*x + (13*z7^6+120*z7^5+123*z7^4+111*z7^3+36*z7^2+48*z7) over Finite Field in z7 of size 127^7"
      ]
     },
     "execution_count": 30,
     "metadata": {},
     "output_type": "execute_result"
    }
   ],
   "source": [
    "E7.isogeny(R)"
   ]
  },
  {
   "cell_type": "code",
   "execution_count": 31,
   "metadata": {},
   "outputs": [
    {
     "name": "stderr",
     "output_type": "stream",
     "text": [
      "/usr/lib/python3.11/site-packages/sage/schemes/elliptic_curves/ell_field.py:1934: UserWarning: Isogeny graph contains more than 50 curves.\n",
      "  warn('Isogeny graph contains more than '\n",
      "/usr/lib/python3.11/site-packages/sage/schemes/elliptic_curves/isogeny_small_degree.py:2820: RuntimeWarning: cypari2 leaked 47312360 bytes on the PARI stack\n",
      "  return isogenies_prime_degree_general(E,l, minimal_models=minimal_models)\n"
     ]
    },
    {
     "ename": "KeyboardInterrupt",
     "evalue": "",
     "output_type": "error",
     "traceback": [
      "\u001b[0;31m---------------------------------------------------------------------------\u001b[0m",
      "\u001b[0;31mKeyboardInterrupt\u001b[0m                         Traceback (most recent call last)",
      "Cell \u001b[0;32mIn[31], line 1\u001b[0m\n\u001b[0;32m----> 1\u001b[0m \u001b[43mE7\u001b[49m\u001b[38;5;241;43m.\u001b[39;49m\u001b[43misogeny_ell_graph\u001b[49m\u001b[43m(\u001b[49m\u001b[43mInteger\u001b[49m\u001b[43m(\u001b[49m\u001b[38;5;241;43m43\u001b[39;49m\u001b[43m)\u001b[49m\u001b[43m)\u001b[49m\n",
      "File \u001b[0;32m/usr/lib/python3.11/site-packages/sage/schemes/elliptic_curves/ell_field.py:1939\u001b[0m, in \u001b[0;36mEllipticCurve_field.isogeny_ell_graph\u001b[0;34m(self, l, directed, label_by_j)\u001b[0m\n\u001b[1;32m   1936\u001b[0m     curve_max \u001b[38;5;241m=\u001b[39m \u001b[38;5;241m0\u001b[39m\n\u001b[1;32m   1938\u001b[0m r \u001b[38;5;241m=\u001b[39m [\u001b[38;5;241m0\u001b[39m] \u001b[38;5;241m*\u001b[39m \u001b[38;5;28mlen\u001b[39m(Es)  \u001b[38;5;66;03m# adjacency matrix row\u001b[39;00m\n\u001b[0;32m-> 1939\u001b[0m \u001b[38;5;28;01mfor\u001b[39;00m C \u001b[38;5;129;01min\u001b[39;00m [I\u001b[38;5;241m.\u001b[39mcodomain() \u001b[38;5;28;01mfor\u001b[39;00m I \u001b[38;5;129;01min\u001b[39;00m \u001b[43mE\u001b[49m\u001b[38;5;241;43m.\u001b[39;49m\u001b[43misogenies_prime_degree\u001b[49m\u001b[43m(\u001b[49m\u001b[43ml\u001b[49m\u001b[43m)\u001b[49m]:\n\u001b[1;32m   1940\u001b[0m     j \u001b[38;5;241m=\u001b[39m \u001b[38;5;28mnext\u001b[39m((k \u001b[38;5;28;01mfor\u001b[39;00m (k, F) \u001b[38;5;129;01min\u001b[39;00m \u001b[38;5;28menumerate\u001b[39m(Es) \u001b[38;5;28;01mif\u001b[39;00m C\u001b[38;5;241m.\u001b[39mis_isomorphic(F)),\n\u001b[1;32m   1941\u001b[0m             \u001b[38;5;241m-\u001b[39m\u001b[38;5;241m1\u001b[39m)  \u001b[38;5;66;03m# index of curve isomorphic to codomain of isogeny\u001b[39;00m\n\u001b[1;32m   1942\u001b[0m     \u001b[38;5;28;01mif\u001b[39;00m j \u001b[38;5;241m>\u001b[39m\u001b[38;5;241m=\u001b[39m \u001b[38;5;241m0\u001b[39m:\n",
      "File \u001b[0;32m/usr/lib/python3.11/site-packages/sage/schemes/elliptic_curves/ell_field.py:1587\u001b[0m, in \u001b[0;36mEllipticCurve_field.isogenies_prime_degree\u001b[0;34m(self, l, max_l)\u001b[0m\n\u001b[1;32m   1584\u001b[0m         L \u001b[38;5;241m=\u001b[39m [rings\u001b[38;5;241m.\u001b[39mZZ(d) \u001b[38;5;28;01mfor\u001b[39;00m d \u001b[38;5;129;01min\u001b[39;00m l]\n\u001b[1;32m   1586\u001b[0m \u001b[38;5;28;01mfrom\u001b[39;00m \u001b[38;5;21;01m.\u001b[39;00m\u001b[38;5;21;01misogeny_small_degree\u001b[39;00m \u001b[38;5;28;01mimport\u001b[39;00m isogenies_prime_degree\n\u001b[0;32m-> 1587\u001b[0m \u001b[38;5;28;01mreturn\u001b[39;00m \u001b[38;5;28msum\u001b[39m(\u001b[43m[\u001b[49m\u001b[43misogenies_prime_degree\u001b[49m\u001b[43m(\u001b[49m\u001b[38;5;28;43mself\u001b[39;49m\u001b[43m,\u001b[49m\u001b[43m \u001b[49m\u001b[43md\u001b[49m\u001b[43m)\u001b[49m\u001b[43m \u001b[49m\u001b[38;5;28;43;01mfor\u001b[39;49;00m\u001b[43m \u001b[49m\u001b[43md\u001b[49m\u001b[43m \u001b[49m\u001b[38;5;129;43;01min\u001b[39;49;00m\u001b[43m \u001b[49m\u001b[43mL\u001b[49m\u001b[43m]\u001b[49m, [])\n",
      "File \u001b[0;32m/usr/lib/python3.11/site-packages/sage/schemes/elliptic_curves/ell_field.py:1587\u001b[0m, in \u001b[0;36m<listcomp>\u001b[0;34m(.0)\u001b[0m\n\u001b[1;32m   1584\u001b[0m         L \u001b[38;5;241m=\u001b[39m [rings\u001b[38;5;241m.\u001b[39mZZ(d) \u001b[38;5;28;01mfor\u001b[39;00m d \u001b[38;5;129;01min\u001b[39;00m l]\n\u001b[1;32m   1586\u001b[0m \u001b[38;5;28;01mfrom\u001b[39;00m \u001b[38;5;21;01m.\u001b[39;00m\u001b[38;5;21;01misogeny_small_degree\u001b[39;00m \u001b[38;5;28;01mimport\u001b[39;00m isogenies_prime_degree\n\u001b[0;32m-> 1587\u001b[0m \u001b[38;5;28;01mreturn\u001b[39;00m \u001b[38;5;28msum\u001b[39m([\u001b[43misogenies_prime_degree\u001b[49m\u001b[43m(\u001b[49m\u001b[38;5;28;43mself\u001b[39;49m\u001b[43m,\u001b[49m\u001b[43m \u001b[49m\u001b[43md\u001b[49m\u001b[43m)\u001b[49m \u001b[38;5;28;01mfor\u001b[39;00m d \u001b[38;5;129;01min\u001b[39;00m L], [])\n",
      "File \u001b[0;32m/usr/lib/python3.11/site-packages/sage/schemes/elliptic_curves/isogeny_small_degree.py:2820\u001b[0m, in \u001b[0;36misogenies_prime_degree\u001b[0;34m(E, l, minimal_models)\u001b[0m\n\u001b[1;32m   2817\u001b[0m     \u001b[38;5;28;01mif\u001b[39;00m j \u001b[38;5;129;01min\u001b[39;00m sporadic_j:\n\u001b[1;32m   2818\u001b[0m         \u001b[38;5;28;01mreturn\u001b[39;00m isogenies_sporadic_Q(E,l, minimal_models\u001b[38;5;241m=\u001b[39mminimal_models)\n\u001b[0;32m-> 2820\u001b[0m \u001b[38;5;28;01mreturn\u001b[39;00m \u001b[43misogenies_prime_degree_general\u001b[49m\u001b[43m(\u001b[49m\u001b[43mE\u001b[49m\u001b[43m,\u001b[49m\u001b[43ml\u001b[49m\u001b[43m,\u001b[49m\u001b[43m \u001b[49m\u001b[43mminimal_models\u001b[49m\u001b[38;5;241;43m=\u001b[39;49m\u001b[43mminimal_models\u001b[49m\u001b[43m)\u001b[49m\n",
      "File \u001b[0;32m/usr/lib/python3.11/site-packages/sage/schemes/elliptic_curves/isogeny_small_degree.py:2583\u001b[0m, in \u001b[0;36misogenies_prime_degree_general\u001b[0;34m(E, l, minimal_models)\u001b[0m\n\u001b[1;32m   2578\u001b[0m \u001b[38;5;66;03m# Every kernel polynomial is a product of irreducible factors of\u001b[39;00m\n\u001b[1;32m   2579\u001b[0m \u001b[38;5;66;03m# the division polynomial of the same degree, where this degree is\u001b[39;00m\n\u001b[1;32m   2580\u001b[0m \u001b[38;5;66;03m# a divisor of (l-1)/2, so we keep only such factors:\u001b[39;00m\n\u001b[1;32m   2582\u001b[0m l2 \u001b[38;5;241m=\u001b[39m (l \u001b[38;5;241m-\u001b[39m \u001b[38;5;241m1\u001b[39m) \u001b[38;5;241m/\u001b[39m\u001b[38;5;241m/\u001b[39m \u001b[38;5;241m2\u001b[39m\n\u001b[0;32m-> 2583\u001b[0m factors \u001b[38;5;241m=\u001b[39m [h \u001b[38;5;28;01mfor\u001b[39;00m h, _ \u001b[38;5;129;01min\u001b[39;00m \u001b[43mpsi_l\u001b[49m\u001b[38;5;241;43m.\u001b[39;49m\u001b[43mfactor\u001b[49m\u001b[43m(\u001b[49m\u001b[43m)\u001b[49m]\n\u001b[1;32m   2584\u001b[0m factors_by_degree \u001b[38;5;241m=\u001b[39m {d: [f \u001b[38;5;28;01mfor\u001b[39;00m f \u001b[38;5;129;01min\u001b[39;00m factors \u001b[38;5;28;01mif\u001b[39;00m f\u001b[38;5;241m.\u001b[39mdegree() \u001b[38;5;241m==\u001b[39m d]\n\u001b[1;32m   2585\u001b[0m                      \u001b[38;5;28;01mfor\u001b[39;00m d \u001b[38;5;129;01min\u001b[39;00m l2\u001b[38;5;241m.\u001b[39mdivisors()}\n\u001b[1;32m   2587\u001b[0m ker \u001b[38;5;241m=\u001b[39m [] \u001b[38;5;66;03m# will store all kernel polynomials found\u001b[39;00m\n",
      "File \u001b[0;32m/usr/lib/python3.11/site-packages/sage/rings/polynomial/polynomial_element.pyx:4489\u001b[0m, in \u001b[0;36msage.rings.polynomial.polynomial_element.Polynomial.factor (build/cythonized/sage/rings/polynomial/polynomial_element.c:38114)\u001b[0;34m()\u001b[0m\n\u001b[1;32m   4487\u001b[0m     v = [x.__pari__(\"a\") for x in self.list()]\n\u001b[1;32m   4488\u001b[0m     f = pari(v).Polrev()\n\u001b[0;32m-> 4489\u001b[0m     G = list(f.factor())\n\u001b[1;32m   4490\u001b[0m \n\u001b[1;32m   4491\u001b[0m if G is None:\n",
      "File \u001b[0;32mcypari2/gen.pyx:4361\u001b[0m, in \u001b[0;36mcypari2.gen.Gen.factor\u001b[0;34m()\u001b[0m\n",
      "\u001b[0;31mKeyboardInterrupt\u001b[0m: "
     ]
    }
   ],
   "source": [
    "E7.isogeny_ell_graph(43)"
   ]
  },
  {
   "cell_type": "markdown",
   "metadata": {},
   "source": [
    "### Exercise 2\n",
    "\n",
    "Give the list of all elliptic curves defined over $ℚ$ with complex multiplication\n",
    "\n",
    "(may require checking [Wikipedia](https://en.wikipedia.org/wiki/Class_number_problem))"
   ]
  },
  {
   "cell_type": "code",
   "execution_count": null,
   "metadata": {},
   "outputs": [],
   "source": []
  },
  {
   "cell_type": "markdown",
   "metadata": {},
   "source": [
    "### Exercise 3\n",
    "\n",
    "Find a prime $p$ and an elliptic curve $E/𝔽_p$ such that $\\#E(𝔽_p) = 101$.\n",
    "\n",
    "Hint: try to find a solution to $p+1-t = 101$, then compute the discriminant of the Frobenius and use complex multiplication theory."
   ]
  },
  {
   "cell_type": "code",
   "execution_count": null,
   "metadata": {},
   "outputs": [],
   "source": []
  },
  {
   "cell_type": "markdown",
   "metadata": {},
   "source": [
    "Use the previously found curve to construct an isogeny of degree $101^{10}$"
   ]
  },
  {
   "cell_type": "code",
   "execution_count": null,
   "metadata": {},
   "outputs": [],
   "source": []
  },
  {
   "cell_type": "markdown",
   "metadata": {},
   "source": [
    "### Exercise 4\n",
    "\n",
    "Let $ω ∈ ℂ$ be a cube root of unity, the ring $ℤ[ω]$ is also known as the Eisenstein integers. Determine all elliptic curves with complex multiplication by $ℤ[ω]$."
   ]
  },
  {
   "cell_type": "code",
   "execution_count": null,
   "metadata": {},
   "outputs": [],
   "source": []
  },
  {
   "cell_type": "markdown",
   "metadata": {},
   "source": [
    "### Exercise 5\n",
    "\n",
    "Prove that $-163$ is not a square modulo all odd primes $< 41$. \n",
    "\n",
    "Hint: Let $E/ℚ$ be an elliptic curve with complex multiplication by (an order of discriminant) $-D$. Its reduction modulo $p$ is ordinary if and only if $-D$ is a square modulo $p$."
   ]
  },
  {
   "cell_type": "code",
   "execution_count": null,
   "metadata": {},
   "outputs": [],
   "source": []
  },
  {
   "cell_type": "markdown",
   "metadata": {},
   "source": [
    "### Exercise 6\n",
    "\n",
    "Find an elliptic curve $E/𝔽_{1613}$ and two distinct isogenies of degree $2311$ from $E$\n",
    "\n",
    "Note: the challenge here is to make the computation run in a couple of seconds..."
   ]
  },
  {
   "cell_type": "code",
   "execution_count": null,
   "metadata": {},
   "outputs": [],
   "source": []
  }
 ],
 "metadata": {
  "kernelspec": {
   "display_name": "SageMath 10.0",
   "language": "sage",
   "name": "sagemath"
  },
  "language_info": {
   "codemirror_mode": {
    "name": "ipython",
    "version": 3
   },
   "file_extension": ".py",
   "mimetype": "text/x-python",
   "name": "python",
   "nbconvert_exporter": "python",
   "pygments_lexer": "ipython3",
   "version": "3.11.3"
  }
 },
 "nbformat": 4,
 "nbformat_minor": 2
}
