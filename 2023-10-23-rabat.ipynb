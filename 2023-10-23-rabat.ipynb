{
 "cells": [
  {
   "cell_type": "markdown",
   "metadata": {},
   "source": [
    "# Using elliptic curves and isogenies in SageMath\n",
    "\n",
    "This is a short tutorial to get started with elliptic curves in SageMath. For a complete reference, see the official documentation:\n",
    "\n",
    "- [The \"getting started\" tutorial](http://doc.sagemath.org/html/en/tutorial/index.html);\n",
    "- [Other SageMath tutorials](http://doc.sagemath.org/html/en/thematic_tutorials/index.html);\n",
    "- [Finite fields (reference)](http://doc.sagemath.org/html/en/reference/finite_rings/index.html);\n",
    "- [Number fields](http://doc.sagemath.org/html/en/constructions/number_fields.html), [reference](http://doc.sagemath.org/html/en/reference/number_fields/index.html);\n",
    "- [Quadratic forms (reference)](http://doc.sagemath.org/html/en/reference/quadratic_forms/index.html);\n",
    "- [Elliptic curves](http://doc.sagemath.org/html/en/constructions/elliptic_curves.html), [reference](http://doc.sagemath.org/html/en/reference/curves/index.html).\n",
    "\n",
    "See also the book [Computational Mathematics with SageMath](http://dl.lateralis.org/public/sagebook/sagebook-ba6596d.pdf).\n",
    "\n",
    "## Finite fields"
   ]
  },
  {
   "cell_type": "markdown",
   "metadata": {},
   "source": [
    "We create finite fields by passing their cardinality"
   ]
  },
  {
   "cell_type": "code",
   "execution_count": 1,
   "metadata": {},
   "outputs": [],
   "source": [
    "Fp = GF(11)"
   ]
  },
  {
   "cell_type": "code",
   "execution_count": 2,
   "metadata": {},
   "outputs": [
    {
     "data": {
      "text/plain": [
       "Finite Field of size 11"
      ]
     },
     "execution_count": 2,
     "metadata": {},
     "output_type": "execute_result"
    }
   ],
   "source": [
    "Fp"
   ]
  },
  {
   "cell_type": "code",
   "execution_count": 3,
   "metadata": {},
   "outputs": [
    {
     "data": {
      "text/plain": [
       "Finite Field in z2 of size 11^2"
      ]
     },
     "execution_count": 3,
     "metadata": {},
     "output_type": "execute_result"
    }
   ],
   "source": [
    "Fq = GF(11^2)\n",
    "Fq"
   ]
  },
  {
   "cell_type": "markdown",
   "metadata": {},
   "source": [
    "For extension fields, the generator is obtained with the `.gen()` function."
   ]
  },
  {
   "cell_type": "code",
   "execution_count": 4,
   "metadata": {},
   "outputs": [
    {
     "data": {
      "text/plain": [
       "z2"
      ]
     },
     "execution_count": 4,
     "metadata": {},
     "output_type": "execute_result"
    }
   ],
   "source": [
    "z = Fq.gen()\n",
    "z"
   ]
  },
  {
   "cell_type": "code",
   "execution_count": 5,
   "metadata": {},
   "outputs": [
    {
     "data": {
      "text/plain": [
       "1"
      ]
     },
     "execution_count": 5,
     "metadata": {},
     "output_type": "execute_result"
    }
   ],
   "source": [
    "z^120"
   ]
  },
  {
   "cell_type": "code",
   "execution_count": 6,
   "metadata": {},
   "outputs": [
    {
     "data": {
      "text/plain": [
       "120"
      ]
     },
     "execution_count": 6,
     "metadata": {},
     "output_type": "execute_result"
    }
   ],
   "source": [
    "z.multiplicative_order()"
   ]
  },
  {
   "cell_type": "markdown",
   "metadata": {},
   "source": [
    "Same thing in one go"
   ]
  },
  {
   "cell_type": "code",
   "execution_count": 7,
   "metadata": {},
   "outputs": [
    {
     "data": {
      "text/plain": [
       "Finite Field in t of size 340282366920938463463374607431768211507^2"
      ]
     },
     "execution_count": 7,
     "metadata": {},
     "output_type": "execute_result"
    }
   ],
   "source": [
    "K.<t> = GF(next_prime(2^128)^2)\n",
    "K"
   ]
  },
  {
   "cell_type": "code",
   "execution_count": 8,
   "metadata": {},
   "outputs": [
    {
     "data": {
      "text/plain": [
       "Finite Field in t of size 340282366920938463463374607431768211507^2"
      ]
     },
     "execution_count": 8,
     "metadata": {},
     "output_type": "execute_result"
    }
   ],
   "source": [
    "parent(t)"
   ]
  },
  {
   "cell_type": "code",
   "execution_count": 9,
   "metadata": {},
   "outputs": [
    {
     "data": {
      "text/plain": [
       "x^2 + x + 340282366920938463463374607431768211506"
      ]
     },
     "execution_count": 9,
     "metadata": {},
     "output_type": "execute_result"
    }
   ],
   "source": [
    "t.minimal_polynomial()"
   ]
  },
  {
   "cell_type": "markdown",
   "metadata": {},
   "source": [
    "other rings"
   ]
  },
  {
   "cell_type": "code",
   "execution_count": 10,
   "metadata": {},
   "outputs": [
    {
     "data": {
      "text/plain": [
       "Rational Field"
      ]
     },
     "execution_count": 10,
     "metadata": {},
     "output_type": "execute_result"
    }
   ],
   "source": [
    "QQ"
   ]
  },
  {
   "cell_type": "code",
   "execution_count": 11,
   "metadata": {},
   "outputs": [
    {
     "data": {
      "text/plain": [
       "Integer Ring"
      ]
     },
     "execution_count": 11,
     "metadata": {},
     "output_type": "execute_result"
    }
   ],
   "source": [
    "ZZ"
   ]
  },
  {
   "cell_type": "markdown",
   "metadata": {},
   "source": [
    "## Elliptic curves"
   ]
  },
  {
   "cell_type": "markdown",
   "metadata": {},
   "source": [
    "Curves over $ℚ$"
   ]
  },
  {
   "cell_type": "code",
   "execution_count": 12,
   "metadata": {},
   "outputs": [
    {
     "data": {
      "text/plain": [
       "Elliptic Curve defined by y^2 = x^3 - 10*x + 10 over Rational Field"
      ]
     },
     "execution_count": 12,
     "metadata": {},
     "output_type": "execute_result"
    }
   ],
   "source": [
    "E = EllipticCurve([-10,10])\n",
    "E"
   ]
  },
  {
   "cell_type": "code",
   "execution_count": 13,
   "metadata": {},
   "outputs": [
    {
     "data": {
      "image/png": "[encoded data removed]",
      "text/plain": [
       "Graphics object consisting of 2 graphics primitives"
      ]
     },
     "execution_count": 13,
     "metadata": {},
     "output_type": "execute_result"
    }
   ],
   "source": [
    "E.plot()"
   ]
  },
  {
   "cell_type": "markdown",
   "metadata": {},
   "source": [
    "Cuvers over other fields"
   ]
  },
  {
   "cell_type": "code",
   "execution_count": 14,
   "metadata": {},
   "outputs": [
    {
     "data": {
      "text/plain": [
       "Elliptic Curve defined by y^2 = x^3 + x over Finite Field of size 11"
      ]
     },
     "execution_count": 14,
     "metadata": {},
     "output_type": "execute_result"
    }
   ],
   "source": [
    "F = EllipticCurve(GF(11), [1, 0])\n",
    "F"
   ]
  },
  {
   "cell_type": "code",
   "execution_count": 15,
   "metadata": {},
   "outputs": [
    {
     "data": {
      "text/plain": [
       "12"
      ]
     },
     "execution_count": 15,
     "metadata": {},
     "output_type": "execute_result"
    }
   ],
   "source": [
    "F.order()"
   ]
  },
  {
   "cell_type": "code",
   "execution_count": 16,
   "metadata": {},
   "outputs": [
    {
     "data": {
      "text/plain": [
       "12"
      ]
     },
     "execution_count": 16,
     "metadata": {},
     "output_type": "execute_result"
    }
   ],
   "source": [
    "F.cardinality()"
   ]
  },
  {
   "cell_type": "code",
   "execution_count": 17,
   "metadata": {},
   "outputs": [
    {
     "data": {
      "text/plain": [
       "[(0 : 0 : 1), (0 : 1 : 0), (5 : 3 : 1), (5 : 8 : 1), (7 : 3 : 1), (7 : 8 : 1), (8 : 5 : 1), (8 : 6 : 1), (9 : 1 : 1), (9 : 10 : 1), (10 : 3 : 1), (10 : 8 : 1)]"
      ]
     },
     "execution_count": 17,
     "metadata": {},
     "output_type": "execute_result"
    }
   ],
   "source": [
    "F.points()"
   ]
  },
  {
   "cell_type": "code",
   "execution_count": 18,
   "metadata": {},
   "outputs": [
    {
     "data": {
      "text/plain": [
       "(7 : 8 : 1)"
      ]
     },
     "execution_count": 18,
     "metadata": {},
     "output_type": "execute_result"
    }
   ],
   "source": [
    "P = F.random_point()\n",
    "P"
   ]
  },
  {
   "cell_type": "code",
   "execution_count": 19,
   "metadata": {},
   "outputs": [
    {
     "data": {
      "text/plain": [
       "12"
      ]
     },
     "execution_count": 19,
     "metadata": {},
     "output_type": "execute_result"
    }
   ],
   "source": [
    "P.order()"
   ]
  },
  {
   "cell_type": "markdown",
   "metadata": {},
   "source": [
    "Curves over number fields"
   ]
  },
  {
   "cell_type": "code",
   "execution_count": 20,
   "metadata": {},
   "outputs": [
    {
     "data": {
      "text/plain": [
       "Number Field in I with defining polynomial x^2 + 1 with I = 1*I"
      ]
     },
     "execution_count": 20,
     "metadata": {},
     "output_type": "execute_result"
    }
   ],
   "source": [
    "K = QQ[i]\n",
    "K"
   ]
  },
  {
   "cell_type": "code",
   "execution_count": 21,
   "metadata": {},
   "outputs": [
    {
     "data": {
      "text/plain": [
       "Elliptic Curve defined by y^2 = x^3 + 1 over Number Field in I with defining polynomial x^2 + 1 with I = 1*I"
      ]
     },
     "execution_count": 21,
     "metadata": {},
     "output_type": "execute_result"
    }
   ],
   "source": [
    "E = EllipticCurve(K, j=0)\n",
    "E"
   ]
  },
  {
   "cell_type": "code",
   "execution_count": 22,
   "metadata": {},
   "outputs": [
    {
     "data": {
      "text/plain": [
       "6"
      ]
     },
     "execution_count": 22,
     "metadata": {},
     "output_type": "execute_result"
    }
   ],
   "source": [
    "E.torsion_order()"
   ]
  },
  {
   "cell_type": "code",
   "execution_count": 23,
   "metadata": {},
   "outputs": [
    {
     "data": {
      "text/plain": [
       "[(-1 : 0 : 1),\n",
       " (0 : -1 : 1),\n",
       " (0 : 1 : 0),\n",
       " (0 : 1 : 1),\n",
       " (2 : -3 : 1),\n",
       " (2 : 3 : 1)]"
      ]
     },
     "execution_count": 23,
     "metadata": {},
     "output_type": "execute_result"
    }
   ],
   "source": [
    "E.torsion_points()"
   ]
  },
  {
   "cell_type": "code",
   "execution_count": 24,
   "metadata": {},
   "outputs": [
    {
     "data": {
      "text/plain": [
       "0"
      ]
     },
     "execution_count": 24,
     "metadata": {},
     "output_type": "execute_result"
    }
   ],
   "source": [
    "E.rank()"
   ]
  },
  {
   "cell_type": "code",
   "execution_count": 25,
   "metadata": {},
   "outputs": [
    {
     "data": {
      "text/plain": [
       "Elliptic Curve defined by y^2 + x*y = x^3 + 36*x + 3455 over Rational Field"
      ]
     },
     "execution_count": 25,
     "metadata": {},
     "output_type": "execute_result"
    }
   ],
   "source": [
    "E = EllipticCurve(j=1)\n",
    "E"
   ]
  },
  {
   "cell_type": "code",
   "execution_count": 26,
   "metadata": {},
   "outputs": [
    {
     "data": {
      "text/plain": [
       "Elliptic Curve defined by y^2 = x^3 + 46629*x + 161056566 over Rational Field"
      ]
     },
     "execution_count": 26,
     "metadata": {},
     "output_type": "execute_result"
    }
   ],
   "source": [
    "E.short_weierstrass_model()"
   ]
  },
  {
   "cell_type": "code",
   "execution_count": 27,
   "metadata": {},
   "outputs": [
    {
     "data": {
      "text/plain": [
       "1"
      ]
     },
     "execution_count": 27,
     "metadata": {},
     "output_type": "execute_result"
    }
   ],
   "source": [
    "E.torsion_order()"
   ]
  },
  {
   "cell_type": "code",
   "execution_count": 28,
   "metadata": {},
   "outputs": [
    {
     "data": {
      "text/plain": [
       "2"
      ]
     },
     "execution_count": 28,
     "metadata": {},
     "output_type": "execute_result"
    }
   ],
   "source": [
    "E.rank()"
   ]
  },
  {
   "cell_type": "code",
   "execution_count": 29,
   "metadata": {},
   "outputs": [
    {
     "data": {
      "text/plain": [
       "((13 : 72 : 1), (43 : 270 : 1))"
      ]
     },
     "execution_count": 29,
     "metadata": {},
     "output_type": "execute_result"
    }
   ],
   "source": [
    "P, Q = E.gens()\n",
    "P, Q"
   ]
  },
  {
   "cell_type": "code",
   "execution_count": 30,
   "metadata": {},
   "outputs": [
    {
     "data": {
      "text/plain": [
       "+Infinity"
      ]
     },
     "execution_count": 30,
     "metadata": {},
     "output_type": "execute_result"
    }
   ],
   "source": [
    "P.order()"
   ]
  },
  {
   "cell_type": "code",
   "execution_count": 31,
   "metadata": {},
   "outputs": [
    {
     "data": {
      "text/plain": [
       "(-14 : 23 : 1)"
      ]
     },
     "execution_count": 31,
     "metadata": {},
     "output_type": "execute_result"
    }
   ],
   "source": [
    "P + P"
   ]
  },
  {
   "cell_type": "code",
   "execution_count": 32,
   "metadata": {},
   "outputs": [
    {
     "data": {
      "text/plain": [
       "(2738814396081478074164342358580444642585010217987286322086213/29439691676132293080318764323353351862155591578774792639929 : 4322772205991782791649180930126846791518251982934842146164121658655553155126660057907684920/5051261892530217040902924725666439913266827080618013578371709184537008691430244914816467 : 1)"
      ]
     },
     "execution_count": 32,
     "metadata": {},
     "output_type": "execute_result"
    }
   ],
   "source": [
    "13*P"
   ]
  },
  {
   "cell_type": "markdown",
   "metadata": {},
   "source": [
    "Watch out: computing the rank is not always easy!"
   ]
  },
  {
   "cell_type": "code",
   "execution_count": 33,
   "metadata": {},
   "outputs": [
    {
     "data": {
      "text/plain": [
       "Elliptic Curve defined by y^2 + x*y = x^3 + 36*x + 3455 over Number Field in I with defining polynomial x^2 + 1 with I = 1*I"
      ]
     },
     "execution_count": 33,
     "metadata": {},
     "output_type": "execute_result"
    }
   ],
   "source": [
    "EK = E.change_ring(K)\n",
    "EK"
   ]
  },
  {
   "cell_type": "code",
   "execution_count": 34,
   "metadata": {
    "scrolled": true
   },
   "outputs": [
    {
     "ename": "ValueError",
     "evalue": "There is insufficient data to determine the rank - 2-descent gave lower bound 1 and upper bound 3",
     "output_type": "error",
     "traceback": [
      "\u001b[0;31m---------------------------------------------------------------------------\u001b[0m",
      "\u001b[0;31mValueError\u001b[0m                                Traceback (most recent call last)",
      "Cell \u001b[0;32mIn[34], line 1\u001b[0m\n\u001b[0;32m----> 1\u001b[0m \u001b[43mEK\u001b[49m\u001b[38;5;241;43m.\u001b[39;49m\u001b[43mrank\u001b[49m\u001b[43m(\u001b[49m\u001b[43m)\u001b[49m\n",
      "File \u001b[0;32m/usr/lib/python3.11/site-packages/sage/schemes/elliptic_curves/ell_number_field.py:2299\u001b[0m, in \u001b[0;36mEllipticCurve_number_field.rank\u001b[0;34m(self, **kwds)\u001b[0m\n\u001b[1;32m   2297\u001b[0m     \u001b[38;5;28;01mreturn\u001b[39;00m lower\n\u001b[1;32m   2298\u001b[0m \u001b[38;5;28;01melse\u001b[39;00m:\n\u001b[0;32m-> 2299\u001b[0m     \u001b[38;5;28;01mraise\u001b[39;00m \u001b[38;5;167;01mValueError\u001b[39;00m(\u001b[38;5;124m'\u001b[39m\u001b[38;5;124mThere is insufficient data to determine the rank - 2-descent gave lower bound \u001b[39m\u001b[38;5;132;01m%s\u001b[39;00m\u001b[38;5;124m and upper bound \u001b[39m\u001b[38;5;132;01m%s\u001b[39;00m\u001b[38;5;124m'\u001b[39m \u001b[38;5;241m%\u001b[39m (lower, upper))\n",
      "\u001b[0;31mValueError\u001b[0m: There is insufficient data to determine the rank - 2-descent gave lower bound 1 and upper bound 3"
     ]
    }
   ],
   "source": [
    "EK.rank()"
   ]
  },
  {
   "cell_type": "markdown",
   "metadata": {},
   "source": [
    "## Isomorphisms"
   ]
  },
  {
   "cell_type": "code",
   "execution_count": 35,
   "metadata": {},
   "outputs": [
    {
     "data": {
      "text/plain": [
       "Elliptic Curve defined by y^2 = x^3 + x over Finite Field of size 11"
      ]
     },
     "execution_count": 35,
     "metadata": {},
     "output_type": "execute_result"
    }
   ],
   "source": [
    "F = EllipticCurve(GF(11), [1, 0])\n",
    "F"
   ]
  },
  {
   "cell_type": "code",
   "execution_count": 36,
   "metadata": {},
   "outputs": [
    {
     "data": {
      "text/plain": [
       "[Elliptic-curve endomorphism of Elliptic Curve defined by y^2 = x^3 + x over Finite Field of size 11\n",
       "   Via:  (u,r,s,t) = (1, 0, 0, 0),\n",
       " Elliptic-curve endomorphism of Elliptic Curve defined by y^2 = x^3 + x over Finite Field of size 11\n",
       "   Via:  (u,r,s,t) = (10, 0, 0, 0)]"
      ]
     },
     "execution_count": 36,
     "metadata": {},
     "output_type": "execute_result"
    }
   ],
   "source": [
    "F.automorphisms()"
   ]
  },
  {
   "cell_type": "code",
   "execution_count": 37,
   "metadata": {},
   "outputs": [
    {
     "data": {
      "text/plain": [
       "[Elliptic-curve endomorphism of Elliptic Curve defined by y^2 = x^3 + x over Finite Field in z2 of size 11^2\n",
       "   Via:  (u,r,s,t) = (1, 0, 0, 0),\n",
       " Elliptic-curve endomorphism of Elliptic Curve defined by y^2 = x^3 + x over Finite Field in z2 of size 11^2\n",
       "   Via:  (u,r,s,t) = (10, 0, 0, 0),\n",
       " Elliptic-curve endomorphism of Elliptic Curve defined by y^2 = x^3 + x over Finite Field in z2 of size 11^2\n",
       "   Via:  (u,r,s,t) = (4*z2 + 3, 0, 0, 0),\n",
       " Elliptic-curve endomorphism of Elliptic Curve defined by y^2 = x^3 + x over Finite Field in z2 of size 11^2\n",
       "   Via:  (u,r,s,t) = (7*z2 + 8, 0, 0, 0)]"
      ]
     },
     "execution_count": 37,
     "metadata": {},
     "output_type": "execute_result"
    }
   ],
   "source": [
    "aut = F.change_ring(GF(11^2)).automorphisms()\n",
    "aut"
   ]
  },
  {
   "cell_type": "code",
   "execution_count": 38,
   "metadata": {},
   "outputs": [
    {
     "data": {
      "text/plain": [
       "(Elliptic-curve endomorphism of Elliptic Curve defined by y^2 = x^3 + x over Finite Field in z2 of size 11^2\n",
       "   Via:  (u,r,s,t) = (7*z2 + 8, 0, 0, 0),\n",
       " Elliptic-curve endomorphism of Elliptic Curve defined by y^2 = x^3 + x over Finite Field in z2 of size 11^2\n",
       "   Via:  (u,r,s,t) = (10, 0, 0, 0))"
      ]
     },
     "execution_count": 38,
     "metadata": {},
     "output_type": "execute_result"
    }
   ],
   "source": [
    "aut[3], aut[3]^2"
   ]
  },
  {
   "cell_type": "code",
   "execution_count": 39,
   "metadata": {},
   "outputs": [
    {
     "data": {
      "text/plain": [
       "True"
      ]
     },
     "execution_count": 39,
     "metadata": {},
     "output_type": "execute_result"
    }
   ],
   "source": [
    "G = EllipticCurve(GF(11), [3, 0])\n",
    "F.is_isomorphic(G)"
   ]
  },
  {
   "cell_type": "code",
   "execution_count": 40,
   "metadata": {},
   "outputs": [
    {
     "data": {
      "text/plain": [
       "Elliptic Curve defined by y^2 = x^3 + 3*x over Finite Field of size 11"
      ]
     },
     "execution_count": 40,
     "metadata": {},
     "output_type": "execute_result"
    }
   ],
   "source": [
    "G"
   ]
  },
  {
   "cell_type": "code",
   "execution_count": 41,
   "metadata": {},
   "outputs": [
    {
     "data": {
      "text/plain": [
       "1"
      ]
     },
     "execution_count": 41,
     "metadata": {},
     "output_type": "execute_result"
    }
   ],
   "source": [
    "G.j_invariant()"
   ]
  },
  {
   "cell_type": "code",
   "execution_count": 42,
   "metadata": {},
   "outputs": [
    {
     "data": {
      "text/plain": [
       "Elliptic-curve morphism:\n",
       "  From: Elliptic Curve defined by y^2 = x^3 + x over Finite Field of size 11\n",
       "  To:   Elliptic Curve defined by y^2 = x^3 + 3*x over Finite Field of size 11\n",
       "  Via:  (u,r,s,t) = (8, 0, 0, 0)"
      ]
     },
     "execution_count": 42,
     "metadata": {},
     "output_type": "execute_result"
    }
   ],
   "source": [
    "u = F.isomorphism_to(G)\n",
    "u"
   ]
  },
  {
   "cell_type": "markdown",
   "metadata": {},
   "source": [
    "Group structure"
   ]
  },
  {
   "cell_type": "code",
   "execution_count": 43,
   "metadata": {},
   "outputs": [
    {
     "data": {
      "text/plain": [
       "Additive abelian group isomorphic to Z/12 embedded in Abelian group of points on Elliptic Curve defined by y^2 = x^3 + x over Finite Field of size 11"
      ]
     },
     "execution_count": 43,
     "metadata": {},
     "output_type": "execute_result"
    }
   ],
   "source": [
    "F.abelian_group()"
   ]
  },
  {
   "cell_type": "code",
   "execution_count": 44,
   "metadata": {},
   "outputs": [
    {
     "data": {
      "text/plain": [
       "(7 : 8 : 1)"
      ]
     },
     "execution_count": 44,
     "metadata": {},
     "output_type": "execute_result"
    }
   ],
   "source": [
    "g = F.gens()[0]\n",
    "g"
   ]
  },
  {
   "cell_type": "code",
   "execution_count": 45,
   "metadata": {},
   "outputs": [
    {
     "data": {
      "text/plain": [
       "12"
      ]
     },
     "execution_count": 45,
     "metadata": {},
     "output_type": "execute_result"
    }
   ],
   "source": [
    "g.order()"
   ]
  },
  {
   "cell_type": "markdown",
   "metadata": {},
   "source": [
    "## Scalar multiplication"
   ]
  },
  {
   "cell_type": "code",
   "execution_count": 46,
   "metadata": {},
   "outputs": [
    {
     "data": {
      "text/plain": [
       "(7 : 8 : 1)"
      ]
     },
     "execution_count": 46,
     "metadata": {},
     "output_type": "execute_result"
    }
   ],
   "source": [
    "F = EllipticCurve(GF(11), [1, 0])\n",
    "g = F.gens()[0]\n",
    "g"
   ]
  },
  {
   "cell_type": "code",
   "execution_count": 47,
   "metadata": {},
   "outputs": [
    {
     "data": {
      "text/plain": [
       "(0 : 1 : 0)"
      ]
     },
     "execution_count": 47,
     "metadata": {},
     "output_type": "execute_result"
    }
   ],
   "source": [
    "12*g"
   ]
  },
  {
   "cell_type": "code",
   "execution_count": 48,
   "metadata": {},
   "outputs": [
    {
     "data": {
      "text/plain": [
       "[(0, (0 : 1 : 0)),\n",
       " (1, (7 : 8 : 1)),\n",
       " (2, (9 : 1 : 1)),\n",
       " (3, (10 : 8 : 1)),\n",
       " (4, (5 : 3 : 1)),\n",
       " (5, (8 : 6 : 1)),\n",
       " (6, (0 : 0 : 1)),\n",
       " (7, (8 : 5 : 1)),\n",
       " (8, (5 : 8 : 1)),\n",
       " (9, (10 : 3 : 1)),\n",
       " (10, (9 : 10 : 1)),\n",
       " (11, (7 : 3 : 1))]"
      ]
     },
     "execution_count": 48,
     "metadata": {},
     "output_type": "execute_result"
    }
   ],
   "source": [
    "[(i, i*g) for i in range(12)]"
   ]
  },
  {
   "cell_type": "markdown",
   "metadata": {},
   "source": [
    "Let's print the multiplication maps"
   ]
  },
  {
   "cell_type": "code",
   "execution_count": 49,
   "metadata": {},
   "outputs": [
    {
     "data": {
      "text/plain": [
       "((x^144 - 2*x^138 - 2*x^136 - x^134 + 3*x^132 - 5*x^130 - 5*x^128 - 5*x^126 - 4*x^124 + 5*x^122 + x^120 + 4*x^118 - 2*x^116 - 3*x^114 + 5*x^112 - 2*x^110 + 2*x^108 - x^106 - 4*x^104 + x^102 - 4*x^100 + 5*x^98 + x^94 - 4*x^92 - 3*x^90 - 3*x^88 + 3*x^86 - 3*x^84 - 4*x^82 + 3*x^80 + 2*x^78 + 5*x^76 + 2*x^74 - 2*x^72 + 2*x^70 + 5*x^68 + 2*x^66 + 3*x^64 - 4*x^62 - 3*x^60 + 3*x^58 - 3*x^56 - 3*x^54 - 4*x^52 + x^50 + 5*x^46 - 4*x^44 + x^42 - 4*x^40 - x^38 + 2*x^36 - 2*x^34 + 5*x^32 - 3*x^30 - 2*x^28 + 4*x^26 + x^24 + 5*x^22 - 4*x^20 - 5*x^18 - 5*x^16 - 5*x^14 + 3*x^12 - x^10 - 2*x^8 - 2*x^6 + 1)/(x^143 - 2*x^137 - 2*x^135 - x^133 + 3*x^131 - 5*x^129 - 5*x^127 - 5*x^125 - 4*x^123 + 5*x^121 + x^119 + 4*x^117 - 2*x^115 - 3*x^113 + 5*x^111 - 2*x^109 + 2*x^107 - x^105 - 4*x^103 + x^101 - 4*x^99 + 5*x^97 + x^93 - 4*x^91 - 3*x^89 - 3*x^87 + 3*x^85 - 5*x^83 - 5*x^81 - 5*x^79 - x^77 + 3*x^75 - x^73 - x^71 + 3*x^69 - x^67 - 5*x^65 - 5*x^63 - 5*x^61 + 3*x^59 - 3*x^57 - 3*x^55 - 4*x^53 + x^51 + 5*x^47 - 4*x^45 + x^43 - 4*x^41 - x^39 + 2*x^37 - 2*x^35 + 5*x^33 - 3*x^31 - 2*x^29 + 4*x^27 + x^25 + 5*x^23 - 4*x^21 - 5*x^19 - 5*x^17 - 5*x^15 + 3*x^13 - x^11 - 2*x^9 - 2*x^7 + x),\n",
       " (2*x^216*y + x^214*y - 3*x^212*y + x^210*y - x^208*y + 4*x^206*y - 5*x^204*y - 5*x^202*y - 3*x^200*y - x^198*y + 2*x^196*y - 4*x^194*y - 5*x^192*y + x^190*y - 5*x^186*y + 5*x^184*y + 3*x^182*y + x^180*y - 2*x^178*y + 5*x^176*y + 2*x^172*y - 5*x^168*y - 3*x^166*y + x^164*y + x^162*y - 2*x^160*y + 5*x^158*y + 3*x^154*y - 2*x^152*y + x^150*y + 2*x^148*y - x^146*y - 5*x^144*y - 2*x^142*y - 5*x^140*y - 4*x^138*y - 5*x^136*y - 2*x^132*y + 5*x^130*y + 4*x^128*y - 5*x^124*y + 4*x^122*y - 2*x^120*y + 4*x^118*y - x^116*y + 4*x^112*y - 4*x^110*y + x^108*y - 4*x^106*y + 4*x^104*y - x^100*y + 4*x^98*y - 2*x^96*y + 4*x^94*y - 5*x^92*y + 4*x^88*y + 5*x^86*y - 2*x^84*y - 5*x^80*y - 4*x^78*y - 5*x^76*y - 2*x^74*y - 5*x^72*y - x^70*y + 2*x^68*y + x^66*y - 2*x^64*y + 3*x^62*y + 5*x^58*y - 2*x^56*y + x^54*y + x^52*y - 3*x^50*y - 5*x^48*y + 2*x^44*y + 5*x^40*y - 2*x^38*y + x^36*y + 3*x^34*y + 5*x^32*y - 5*x^30*y + x^26*y - 5*x^24*y - 4*x^22*y + 2*x^20*y - x^18*y - 3*x^16*y - 5*x^14*y - 5*x^12*y + 4*x^10*y - x^8*y + x^6*y - 3*x^4*y + x^2*y + 2*y)/(2*x^216 + x^214 - 3*x^212 + x^210 - x^208 + 4*x^206 - 5*x^204 - 5*x^202 - 3*x^200 - x^198 + 2*x^196 - 4*x^194 - 5*x^192 + x^190 - 5*x^186 + 5*x^184 + 3*x^182 + x^180 - 2*x^178 + 5*x^176 + 2*x^172 - 5*x^168 - 3*x^166 + x^164 + x^162 - 2*x^160 + 5*x^158 + 5*x^156 + x^154 - 2*x^152 - 3*x^150 + 4*x^148 + 3*x^146 - 5*x^144 + 2*x^142 - 2*x^140 - x^138 - 3*x^136 + 2*x^134 + 3*x^132 - 2*x^130 - 3*x^124 - x^122 + 4*x^118 + 4*x^114 + 4*x^112 + x^110 - x^108 - 4*x^106 - 4*x^104 - 4*x^100 + x^96 + 3*x^94 + 2*x^88 - 3*x^86 - 2*x^84 + 3*x^82 + x^80 + 2*x^78 - 2*x^76 + 5*x^74 - 3*x^72 - 4*x^70 + 3*x^68 + 2*x^66 - x^64 - 5*x^62 - 5*x^60 + 2*x^58 - x^56 - x^54 + 3*x^52 + 5*x^50 - 2*x^46 - 5*x^42 + 2*x^40 - x^38 - 3*x^36 - 5*x^34 + 5*x^32 - x^28 + 5*x^26 + 4*x^24 - 2*x^22 + x^20 + 3*x^18 + 5*x^16 + 5*x^14 - 4*x^12 + x^10 - x^8 + 3*x^6 - x^4 - 2*x^2))"
      ]
     },
     "execution_count": 49,
     "metadata": {},
     "output_type": "execute_result"
    }
   ],
   "source": [
    "F.multiplication_by_m(12)"
   ]
  },
  {
   "cell_type": "markdown",
   "metadata": {},
   "source": [
    "Using LaTeX-ified output is much nicer"
   ]
  },
  {
   "cell_type": "code",
   "execution_count": 50,
   "metadata": {},
   "outputs": [],
   "source": [
    "%display latex"
   ]
  },
  {
   "cell_type": "code",
   "execution_count": 51,
   "metadata": {},
   "outputs": [
    {
     "data": {
      "text/html": [
       "<html>\\(\\displaystyle \\frac{x^{144} + 9 x^{138} + 9 x^{136} + 10 x^{134} + 3 x^{132} + 6 x^{130} + 6 x^{128} + 6 x^{126} + 7 x^{124} + 5 x^{122} + x^{120} + 4 x^{118} + 9 x^{116} + 8 x^{114} + 5 x^{112} + 9 x^{110} + 2 x^{108} + 10 x^{106} + 7 x^{104} + x^{102} + 7 x^{100} + 5 x^{98} + x^{94} + 7 x^{92} + 8 x^{90} + 8 x^{88} + 3 x^{86} + 8 x^{84} + 7 x^{82} + 3 x^{80} + 2 x^{78} + 5 x^{76} + 2 x^{74} + 9 x^{72} + 2 x^{70} + 5 x^{68} + 2 x^{66} + 3 x^{64} + 7 x^{62} + 8 x^{60} + 3 x^{58} + 8 x^{56} + 8 x^{54} + 7 x^{52} + x^{50} + 5 x^{46} + 7 x^{44} + x^{42} + 7 x^{40} + 10 x^{38} + 2 x^{36} + 9 x^{34} + 5 x^{32} + 8 x^{30} + 9 x^{28} + 4 x^{26} + x^{24} + 5 x^{22} + 7 x^{20} + 6 x^{18} + 6 x^{16} + 6 x^{14} + 3 x^{12} + 10 x^{10} + 9 x^{8} + 9 x^{6} + 1}{x^{143} + 9 x^{137} + 9 x^{135} + 10 x^{133} + 3 x^{131} + 6 x^{129} + 6 x^{127} + 6 x^{125} + 7 x^{123} + 5 x^{121} + x^{119} + 4 x^{117} + 9 x^{115} + 8 x^{113} + 5 x^{111} + 9 x^{109} + 2 x^{107} + 10 x^{105} + 7 x^{103} + x^{101} + 7 x^{99} + 5 x^{97} + x^{93} + 7 x^{91} + 8 x^{89} + 8 x^{87} + 3 x^{85} + 6 x^{83} + 6 x^{81} + 6 x^{79} + 10 x^{77} + 3 x^{75} + 10 x^{73} + 10 x^{71} + 3 x^{69} + 10 x^{67} + 6 x^{65} + 6 x^{63} + 6 x^{61} + 3 x^{59} + 8 x^{57} + 8 x^{55} + 7 x^{53} + x^{51} + 5 x^{47} + 7 x^{45} + x^{43} + 7 x^{41} + 10 x^{39} + 2 x^{37} + 9 x^{35} + 5 x^{33} + 8 x^{31} + 9 x^{29} + 4 x^{27} + x^{25} + 5 x^{23} + 7 x^{21} + 6 x^{19} + 6 x^{17} + 6 x^{15} + 3 x^{13} + 10 x^{11} + 9 x^{9} + 9 x^{7} + x}\\)</html>"
      ],
      "text/latex": [
       "$\\displaystyle \\frac{x^{144} + 9 x^{138} + 9 x^{136} + 10 x^{134} + 3 x^{132} + 6 x^{130} + 6 x^{128} + 6 x^{126} + 7 x^{124} + 5 x^{122} + x^{120} + 4 x^{118} + 9 x^{116} + 8 x^{114} + 5 x^{112} + 9 x^{110} + 2 x^{108} + 10 x^{106} + 7 x^{104} + x^{102} + 7 x^{100} + 5 x^{98} + x^{94} + 7 x^{92} + 8 x^{90} + 8 x^{88} + 3 x^{86} + 8 x^{84} + 7 x^{82} + 3 x^{80} + 2 x^{78} + 5 x^{76} + 2 x^{74} + 9 x^{72} + 2 x^{70} + 5 x^{68} + 2 x^{66} + 3 x^{64} + 7 x^{62} + 8 x^{60} + 3 x^{58} + 8 x^{56} + 8 x^{54} + 7 x^{52} + x^{50} + 5 x^{46} + 7 x^{44} + x^{42} + 7 x^{40} + 10 x^{38} + 2 x^{36} + 9 x^{34} + 5 x^{32} + 8 x^{30} + 9 x^{28} + 4 x^{26} + x^{24} + 5 x^{22} + 7 x^{20} + 6 x^{18} + 6 x^{16} + 6 x^{14} + 3 x^{12} + 10 x^{10} + 9 x^{8} + 9 x^{6} + 1}{x^{143} + 9 x^{137} + 9 x^{135} + 10 x^{133} + 3 x^{131} + 6 x^{129} + 6 x^{127} + 6 x^{125} + 7 x^{123} + 5 x^{121} + x^{119} + 4 x^{117} + 9 x^{115} + 8 x^{113} + 5 x^{111} + 9 x^{109} + 2 x^{107} + 10 x^{105} + 7 x^{103} + x^{101} + 7 x^{99} + 5 x^{97} + x^{93} + 7 x^{91} + 8 x^{89} + 8 x^{87} + 3 x^{85} + 6 x^{83} + 6 x^{81} + 6 x^{79} + 10 x^{77} + 3 x^{75} + 10 x^{73} + 10 x^{71} + 3 x^{69} + 10 x^{67} + 6 x^{65} + 6 x^{63} + 6 x^{61} + 3 x^{59} + 8 x^{57} + 8 x^{55} + 7 x^{53} + x^{51} + 5 x^{47} + 7 x^{45} + x^{43} + 7 x^{41} + 10 x^{39} + 2 x^{37} + 9 x^{35} + 5 x^{33} + 8 x^{31} + 9 x^{29} + 4 x^{27} + x^{25} + 5 x^{23} + 7 x^{21} + 6 x^{19} + 6 x^{17} + 6 x^{15} + 3 x^{13} + 10 x^{11} + 9 x^{9} + 9 x^{7} + x}$"
      ],
      "text/plain": [
       "(x^144 + 9*x^138 + 9*x^136 + 10*x^134 + 3*x^132 + 6*x^130 + 6*x^128 + 6*x^126 + 7*x^124 + 5*x^122 + x^120 + 4*x^118 + 9*x^116 + 8*x^114 + 5*x^112 + 9*x^110 + 2*x^108 + 10*x^106 + 7*x^104 + x^102 + 7*x^100 + 5*x^98 + x^94 + 7*x^92 + 8*x^90 + 8*x^88 + 3*x^86 + 8*x^84 + 7*x^82 + 3*x^80 + 2*x^78 + 5*x^76 + 2*x^74 + 9*x^72 + 2*x^70 + 5*x^68 + 2*x^66 + 3*x^64 + 7*x^62 + 8*x^60 + 3*x^58 + 8*x^56 + 8*x^54 + 7*x^52 + x^50 + 5*x^46 + 7*x^44 + x^42 + 7*x^40 + 10*x^38 + 2*x^36 + 9*x^34 + 5*x^32 + 8*x^30 + 9*x^28 + 4*x^26 + x^24 + 5*x^22 + 7*x^20 + 6*x^18 + 6*x^16 + 6*x^14 + 3*x^12 + 10*x^10 + 9*x^8 + 9*x^6 + 1)/(x^143 + 9*x^137 + 9*x^135 + 10*x^133 + 3*x^131 + 6*x^129 + 6*x^127 + 6*x^125 + 7*x^123 + 5*x^121 + x^119 + 4*x^117 + 9*x^115 + 8*x^113 + 5*x^111 + 9*x^109 + 2*x^107 + 10*x^105 + 7*x^103 + x^101 + 7*x^99 + 5*x^97 + x^93 + 7*x^91 + 8*x^89 + 8*x^87 + 3*x^85 + 6*x^83 + 6*x^81 + 6*x^79 + 10*x^77 + 3*x^75 + 10*x^73 + 10*x^71 + 3*x^69 + 10*x^67 + 6*x^65 + 6*x^63 + 6*x^61 + 3*x^59 + 8*x^57 + 8*x^55 + 7*x^53 + x^51 + 5*x^47 + 7*x^45 + x^43 + 7*x^41 + 10*x^39 + 2*x^37 + 9*x^35 + 5*x^33 + 8*x^31 + 9*x^29 + 4*x^27 + x^25 + 5*x^23 + 7*x^21 + 6*x^19 + 6*x^17 + 6*x^15 + 3*x^13 + 10*x^11 + 9*x^9 + 9*x^7 + x)"
      ]
     },
     "execution_count": 51,
     "metadata": {},
     "output_type": "execute_result"
    }
   ],
   "source": [
    "F.multiplication_by_m(12, x_only=True)"
   ]
  },
  {
   "cell_type": "code",
   "execution_count": 52,
   "metadata": {},
   "outputs": [
    {
     "data": {
      "text/html": [
       "<html>\\(\\displaystyle \\left(\\frac{x^{9} - x^{7} + 8 x^{5} + 3 x^{3} + 9 x}{9 x^{8} + 3 x^{6} + 8 x^{4} - x^{2} + 1}, \\frac{7 x^{12} y + 5 x^{6} y + 3 x^{4} y + 8 x^{2} y + y}{2 x^{12} + x^{10} + 8 x^{6} + 5 x^{2} + 4}\\right)\\)</html>"
      ],
      "text/latex": [
       "$\\displaystyle \\left(\\frac{x^{9} - x^{7} + 8 x^{5} + 3 x^{3} + 9 x}{9 x^{8} + 3 x^{6} + 8 x^{4} - x^{2} + 1}, \\frac{7 x^{12} y + 5 x^{6} y + 3 x^{4} y + 8 x^{2} y + y}{2 x^{12} + x^{10} + 8 x^{6} + 5 x^{2} + 4}\\right)$"
      ],
      "text/plain": [
       "((x^9 - x^7 - 3*x^5 + 3*x^3 - 2*x)/(-2*x^8 + 3*x^6 - 3*x^4 - x^2 + 1),\n",
       " (-4*x^12*y + 5*x^6*y + 3*x^4*y - 3*x^2*y + y)/(2*x^12 + x^10 - 3*x^6 + 5*x^2 + 4))"
      ]
     },
     "execution_count": 52,
     "metadata": {},
     "output_type": "execute_result"
    }
   ],
   "source": [
    "m3 = F.multiplication_by_m(3)\n",
    "m3"
   ]
  },
  {
   "cell_type": "code",
   "execution_count": 53,
   "metadata": {},
   "outputs": [
    {
     "data": {
      "text/html": [
       "<html>\\(\\displaystyle 9 x^{8} + 3 x^{6} + 8 x^{4} - x^{2} + 1\\)</html>"
      ],
      "text/latex": [
       "$\\displaystyle 9 x^{8} + 3 x^{6} + 8 x^{4} - x^{2} + 1$"
      ],
      "text/plain": [
       "-2*x^8 + 3*x^6 - 3*x^4 - x^2 + 1"
      ]
     },
     "execution_count": 53,
     "metadata": {},
     "output_type": "execute_result"
    }
   ],
   "source": [
    "d3 = m3[0].denominator()\n",
    "d3"
   ]
  },
  {
   "cell_type": "code",
   "execution_count": 54,
   "metadata": {},
   "outputs": [
    {
     "data": {
      "text/html": [
       "<html>\\(\\displaystyle \\newcommand{\\Bold}[1]{\\mathbf{#1}}\\Bold{F}_{11}[x, y]\\)</html>"
      ],
      "text/latex": [
       "$\\displaystyle \\newcommand{\\Bold}[1]{\\mathbf{#1}}\\Bold{F}_{11}[x, y]$"
      ],
      "text/plain": [
       "Multivariate Polynomial Ring in x, y over Finite Field of size 11"
      ]
     },
     "execution_count": 54,
     "metadata": {},
     "output_type": "execute_result"
    }
   ],
   "source": [
    "parent(d3)"
   ]
  },
  {
   "cell_type": "markdown",
   "metadata": {},
   "source": [
    "The multiplication maps are rational fractions in $x$ and $y$, so if we want the denominator as a polynomial in $x$ we need to convert it explicitly"
   ]
  },
  {
   "cell_type": "code",
   "execution_count": 55,
   "metadata": {},
   "outputs": [
    {
     "data": {
      "text/html": [
       "<html>\\(\\displaystyle \\newcommand{\\Bold}[1]{\\mathbf{#1}}\\Bold{F}_{11}[x]\\)</html>"
      ],
      "text/latex": [
       "$\\displaystyle \\newcommand{\\Bold}[1]{\\mathbf{#1}}\\Bold{F}_{11}[x]$"
      ],
      "text/plain": [
       "Univariate Polynomial Ring in x over Finite Field of size 11"
      ]
     },
     "execution_count": 55,
     "metadata": {},
     "output_type": "execute_result"
    }
   ],
   "source": [
    "d3 = d3.univariate_polynomial()\n",
    "parent(d3)"
   ]
  },
  {
   "cell_type": "code",
   "execution_count": 56,
   "metadata": {},
   "outputs": [
    {
     "data": {
      "text/html": [
       "<html>\\(\\displaystyle \\left(9\\right) \\cdot (x + 5)^{2} \\cdot (x + 6)^{2} \\cdot (x^{2} + 5)^{2}\\)</html>"
      ],
      "text/latex": [
       "$\\displaystyle \\left(9\\right) \\cdot (x + 5)^{2} \\cdot (x + 6)^{2} \\cdot (x^{2} + 5)^{2}$"
      ],
      "text/plain": [
       "(9) * (x + 5)^2 * (x + 6)^2 * (x^2 + 5)^2"
      ]
     },
     "execution_count": 56,
     "metadata": {},
     "output_type": "execute_result"
    }
   ],
   "source": [
    "d3.factor()"
   ]
  },
  {
   "cell_type": "markdown",
   "metadata": {},
   "source": [
    "Given an $x$-coordinate, we can get a point with that coordinate, if it exists"
   ]
  },
  {
   "cell_type": "code",
   "execution_count": 57,
   "metadata": {},
   "outputs": [
    {
     "data": {
      "text/html": [
       "<html>\\(\\displaystyle \\left(5 : 3 : 1\\right)\\)</html>"
      ],
      "text/latex": [
       "$\\displaystyle \\left(5 : 3 : 1\\right)$"
      ],
      "text/plain": [
       "(5 : 3 : 1)"
      ]
     },
     "execution_count": 57,
     "metadata": {},
     "output_type": "execute_result"
    }
   ],
   "source": [
    "P = F.lift_x(-6)\n",
    "P"
   ]
  },
  {
   "cell_type": "code",
   "execution_count": 58,
   "metadata": {},
   "outputs": [
    {
     "data": {
      "text/html": [
       "<html>\\(\\displaystyle 3\\)</html>"
      ],
      "text/latex": [
       "$\\displaystyle 3$"
      ],
      "text/plain": [
       "3"
      ]
     },
     "execution_count": 58,
     "metadata": {},
     "output_type": "execute_result"
    }
   ],
   "source": [
    "P.order()"
   ]
  },
  {
   "cell_type": "code",
   "execution_count": 59,
   "metadata": {},
   "outputs": [
    {
     "ename": "ValueError",
     "evalue": "No point with x-coordinate 6 on Elliptic Curve defined by y^2 = x^3 + x over Finite Field of size 11",
     "output_type": "error",
     "traceback": [
      "\u001b[0;31m---------------------------------------------------------------------------\u001b[0m",
      "\u001b[0;31mValueError\u001b[0m                                Traceback (most recent call last)",
      "Cell \u001b[0;32mIn[59], line 1\u001b[0m\n\u001b[0;32m----> 1\u001b[0m Q \u001b[38;5;241m=\u001b[39m \u001b[43mF\u001b[49m\u001b[38;5;241;43m.\u001b[39;49m\u001b[43mlift_x\u001b[49m\u001b[43m(\u001b[49m\u001b[38;5;241;43m-\u001b[39;49m\u001b[43mInteger\u001b[49m\u001b[43m(\u001b[49m\u001b[38;5;241;43m5\u001b[39;49m\u001b[43m)\u001b[49m\u001b[43m)\u001b[49m\n",
      "File \u001b[0;32m/usr/lib/python3.11/site-packages/sage/schemes/elliptic_curves/ell_generic.py:946\u001b[0m, in \u001b[0;36mEllipticCurve_generic.lift_x\u001b[0;34m(self, x, all, extend)\u001b[0m\n\u001b[1;32m    944\u001b[0m         \u001b[38;5;28;01mreturn\u001b[39;00m []\n\u001b[1;32m    945\u001b[0m     \u001b[38;5;28;01melse\u001b[39;00m:\n\u001b[0;32m--> 946\u001b[0m         \u001b[38;5;28;01mraise\u001b[39;00m \u001b[38;5;167;01mValueError\u001b[39;00m(\u001b[38;5;124m\"\u001b[39m\u001b[38;5;124mNo point with x-coordinate \u001b[39m\u001b[38;5;132;01m{}\u001b[39;00m\u001b[38;5;124m on \u001b[39m\u001b[38;5;132;01m{}\u001b[39;00m\u001b[38;5;124m\"\u001b[39m\u001b[38;5;241m.\u001b[39mformat(x, \u001b[38;5;28mself\u001b[39m))\n\u001b[1;32m    948\u001b[0m \u001b[38;5;66;03m# Now make the extension needed to contain the y-coordinates:\u001b[39;00m\n\u001b[1;32m    950\u001b[0m \u001b[38;5;28;01mif\u001b[39;00m K\u001b[38;5;241m.\u001b[39mcharacteristic() \u001b[38;5;241m!=\u001b[39m \u001b[38;5;241m2\u001b[39m:  \u001b[38;5;66;03m# else we already defined F\u001b[39;00m\n",
      "\u001b[0;31mValueError\u001b[0m: No point with x-coordinate 6 on Elliptic Curve defined by y^2 = x^3 + x over Finite Field of size 11"
     ]
    }
   ],
   "source": [
    "Q = F.lift_x(-5)"
   ]
  },
  {
   "cell_type": "code",
   "execution_count": 60,
   "metadata": {},
   "outputs": [
    {
     "data": {
      "text/html": [
       "<html>\\(\\displaystyle y^2 = x^{3} + x \\)</html>"
      ],
      "text/latex": [
       "$\\displaystyle y^2 = x^{3} + x $"
      ],
      "text/plain": [
       "Elliptic Curve defined by y^2 = x^3 + x over Finite Field of size 11"
      ]
     },
     "execution_count": 60,
     "metadata": {},
     "output_type": "execute_result"
    }
   ],
   "source": [
    "F"
   ]
  },
  {
   "cell_type": "code",
   "execution_count": 61,
   "metadata": {},
   "outputs": [
    {
     "data": {
      "text/html": [
       "<html>\\(\\displaystyle 2\\)</html>"
      ],
      "text/latex": [
       "$\\displaystyle 2$"
      ],
      "text/plain": [
       "2"
      ]
     },
     "execution_count": 61,
     "metadata": {},
     "output_type": "execute_result"
    }
   ],
   "source": [
    "y5 = GF(11)(-5^3 -5)\n",
    "y5"
   ]
  },
  {
   "cell_type": "code",
   "execution_count": 62,
   "metadata": {},
   "outputs": [
    {
     "data": {
      "text/html": [
       "<html>\\(\\displaystyle \\mathrm{False}\\)</html>"
      ],
      "text/latex": [
       "$\\displaystyle \\mathrm{False}$"
      ],
      "text/plain": [
       "False"
      ]
     },
     "execution_count": 62,
     "metadata": {},
     "output_type": "execute_result"
    }
   ],
   "source": [
    "y5.is_square()"
   ]
  },
  {
   "cell_type": "code",
   "execution_count": 63,
   "metadata": {},
   "outputs": [],
   "source": [
    "%display plain"
   ]
  },
  {
   "cell_type": "markdown",
   "metadata": {},
   "source": [
    "If we change the base ring of the curve (e.g. from $𝔽_{11}$ to $𝔽_{121}$), more points appear"
   ]
  },
  {
   "cell_type": "code",
   "execution_count": 64,
   "metadata": {},
   "outputs": [
    {
     "data": {
      "text/plain": [
       "Elliptic Curve defined by y^2 = x^3 + x over Finite Field in z2 of size 11^2"
      ]
     },
     "execution_count": 64,
     "metadata": {},
     "output_type": "execute_result"
    }
   ],
   "source": [
    "F2 = F.change_ring(GF(11^2))\n",
    "F2"
   ]
  },
  {
   "cell_type": "code",
   "execution_count": 65,
   "metadata": {},
   "outputs": [
    {
     "data": {
      "text/plain": [
       "(6 : z2 + 9 : 1)"
      ]
     },
     "execution_count": 65,
     "metadata": {},
     "output_type": "execute_result"
    }
   ],
   "source": [
    "Q = F2.lift_x(-5)\n",
    "Q"
   ]
  },
  {
   "cell_type": "code",
   "execution_count": 66,
   "metadata": {},
   "outputs": [
    {
     "data": {
      "text/plain": [
       "3"
      ]
     },
     "execution_count": 66,
     "metadata": {},
     "output_type": "execute_result"
    }
   ],
   "source": [
    "Q.order()"
   ]
  },
  {
   "cell_type": "markdown",
   "metadata": {},
   "source": [
    "However we cannot mindlessly combine points over $𝔽_{11}$ with points over $𝔽_{121}$"
   ]
  },
  {
   "cell_type": "code",
   "execution_count": 67,
   "metadata": {},
   "outputs": [
    {
     "ename": "TypeError",
     "evalue": "unsupported operand parent(s) for +: 'Abelian group of points on Elliptic Curve defined by y^2 = x^3 + x over Finite Field of size 11' and 'Abelian group of points on Elliptic Curve defined by y^2 = x^3 + x over Finite Field in z2 of size 11^2'",
     "output_type": "error",
     "traceback": [
      "\u001b[0;31m---------------------------------------------------------------------------\u001b[0m",
      "\u001b[0;31mTypeError\u001b[0m                                 Traceback (most recent call last)",
      "Cell \u001b[0;32mIn[67], line 1\u001b[0m\n\u001b[0;32m----> 1\u001b[0m \u001b[43mP\u001b[49m\u001b[43m \u001b[49m\u001b[38;5;241;43m+\u001b[39;49m\u001b[43m \u001b[49m\u001b[43mQ\u001b[49m\n",
      "File \u001b[0;32m/usr/lib/python3.11/site-packages/sage/structure/element.pyx:1226\u001b[0m, in \u001b[0;36msage.structure.element.Element.__add__ (build/cythonized/sage/structure/element.c:11105)\u001b[0;34m()\u001b[0m\n\u001b[1;32m   1224\u001b[0m # Left and right are Sage elements => use coercion model\n\u001b[1;32m   1225\u001b[0m if BOTH_ARE_ELEMENT(cl):\n\u001b[0;32m-> 1226\u001b[0m     return coercion_model.bin_op(left, right, add)\n\u001b[1;32m   1227\u001b[0m \n\u001b[1;32m   1228\u001b[0m cdef long value\n",
      "File \u001b[0;32m/usr/lib/python3.11/site-packages/sage/structure/coerce.pyx:1269\u001b[0m, in \u001b[0;36msage.structure.coerce.CoercionModel.bin_op (build/cythonized/sage/structure/coerce.c:11865)\u001b[0;34m()\u001b[0m\n\u001b[1;32m   1267\u001b[0m     # We should really include the underlying error.\n\u001b[1;32m   1268\u001b[0m     # This causes so much headache.\n\u001b[0;32m-> 1269\u001b[0m     raise bin_op_exception(op, x, y)\n\u001b[1;32m   1270\u001b[0m \n\u001b[1;32m   1271\u001b[0m cpdef canonical_coercion(self, x, y):\n",
      "\u001b[0;31mTypeError\u001b[0m: unsupported operand parent(s) for +: 'Abelian group of points on Elliptic Curve defined by y^2 = x^3 + x over Finite Field of size 11' and 'Abelian group of points on Elliptic Curve defined by y^2 = x^3 + x over Finite Field in z2 of size 11^2'"
     ]
    }
   ],
   "source": [
    "P + Q"
   ]
  },
  {
   "cell_type": "markdown",
   "metadata": {},
   "source": [
    "We must instead explicitly lift the points from $E/𝔽_{11}$ to $E/𝔽_{121}$"
   ]
  },
  {
   "cell_type": "code",
   "execution_count": 68,
   "metadata": {},
   "outputs": [],
   "source": [
    "P2 = F2(P)"
   ]
  },
  {
   "cell_type": "code",
   "execution_count": 69,
   "metadata": {},
   "outputs": [
    {
     "data": {
      "text/plain": [
       "(5*z2 + 1 : 9*z2 + 9 : 1)"
      ]
     },
     "execution_count": 69,
     "metadata": {},
     "output_type": "execute_result"
    }
   ],
   "source": [
    "P2 + Q"
   ]
  },
  {
   "cell_type": "markdown",
   "metadata": {},
   "source": [
    "Here is the full 3-torsion subgroup"
   ]
  },
  {
   "cell_type": "code",
   "execution_count": 70,
   "metadata": {},
   "outputs": [
    {
     "data": {
      "text/plain": [
       "[(0 : 1 : 0),\n",
       " (6 : z2 + 9 : 1),\n",
       " (6 : 10*z2 + 2 : 1),\n",
       " (5 : 3 : 1),\n",
       " (5*z2 + 1 : 9*z2 + 9 : 1),\n",
       " (6*z2 + 10 : 2*z2 + 1 : 1),\n",
       " (5 : 8 : 1),\n",
       " (6*z2 + 10 : 9*z2 + 10 : 1),\n",
       " (5*z2 + 1 : 2*z2 + 2 : 1)]"
      ]
     },
     "execution_count": 70,
     "metadata": {},
     "output_type": "execute_result"
    }
   ],
   "source": [
    "[i*P2 + j*Q for i in range(3) for j in range(3)]"
   ]
  },
  {
   "cell_type": "markdown",
   "metadata": {},
   "source": [
    "We check that the $x$-coordinates correspond to the roots of the denominator of the multiplication-by-3 map we had previously computed"
   ]
  },
  {
   "cell_type": "code",
   "execution_count": 71,
   "metadata": {},
   "outputs": [
    {
     "data": {
      "text/plain": [
       "9*x^8 + 3*x^6 + 8*x^4 + 10*x^2 + 1"
      ]
     },
     "execution_count": 71,
     "metadata": {},
     "output_type": "execute_result"
    }
   ],
   "source": [
    "d3"
   ]
  },
  {
   "cell_type": "code",
   "execution_count": 72,
   "metadata": {},
   "outputs": [
    {
     "data": {
      "text/plain": [
       "[(6, 2), (5, 2), (6*z2 + 10, 2), (5*z2 + 1, 2)]"
      ]
     },
     "execution_count": 72,
     "metadata": {},
     "output_type": "execute_result"
    }
   ],
   "source": [
    "d3.roots(GF(11^2))"
   ]
  },
  {
   "cell_type": "markdown",
   "metadata": {},
   "source": [
    "And we check that the denominator is the square of the 3-division polynomial"
   ]
  },
  {
   "cell_type": "code",
   "execution_count": 73,
   "metadata": {},
   "outputs": [
    {
     "data": {
      "text/plain": [
       "True"
      ]
     },
     "execution_count": 73,
     "metadata": {},
     "output_type": "execute_result"
    }
   ],
   "source": [
    "d3.is_square()"
   ]
  },
  {
   "cell_type": "code",
   "execution_count": 74,
   "metadata": {},
   "outputs": [
    {
     "data": {
      "text/plain": [
       "3*x^4 + 6*x^2 + 10"
      ]
     },
     "execution_count": 74,
     "metadata": {},
     "output_type": "execute_result"
    }
   ],
   "source": [
    "d3.sqrt()"
   ]
  },
  {
   "cell_type": "code",
   "execution_count": 75,
   "metadata": {},
   "outputs": [
    {
     "data": {
      "text/plain": [
       "3*x^4 + 6*x^2 + 10"
      ]
     },
     "execution_count": 75,
     "metadata": {},
     "output_type": "execute_result"
    }
   ],
   "source": [
    "F.division_polynomial(3)"
   ]
  },
  {
   "cell_type": "markdown",
   "metadata": {},
   "source": [
    "## Your turn!"
   ]
  },
  {
   "cell_type": "markdown",
   "metadata": {},
   "source": [
    "### Exercise 1 ★\n",
    "\n",
    "Find a random curve over $𝔽_{127}$ with $129$ points.\n",
    "\n"
   ]
  },
  {
   "cell_type": "code",
   "execution_count": 76,
   "metadata": {},
   "outputs": [],
   "source": [
    "k = GF(127)"
   ]
  },
  {
   "cell_type": "markdown",
   "metadata": {},
   "source": [
    "A basic loop where we try random Weierstrass equation until we find one.\n",
    "\n",
    "Careful with the discriminant of the elliptic curve, which must be ≠ 0!"
   ]
  },
  {
   "cell_type": "code",
   "execution_count": 77,
   "metadata": {},
   "outputs": [
    {
     "data": {
      "text/plain": [
       "(Elliptic Curve defined by y^2 = x^3 + 50*x + 32 over Finite Field of size 127,\n",
       " 129)"
      ]
     },
     "execution_count": 77,
     "metadata": {},
     "output_type": "execute_result"
    }
   ],
   "source": [
    "while True:\n",
    "    a = k.random_element()\n",
    "    b = k.random_element()\n",
    "    if 4*a^3 + 27*b^2 != 0:\n",
    "        E = EllipticCurve([a,b])\n",
    "        if E.order() == 129:\n",
    "            break\n",
    "E, E.order()"
   ]
  },
  {
   "cell_type": "markdown",
   "metadata": {},
   "source": [
    "The same idea, but we try random j-invariants.\n",
    "\n",
    "This time we need to be careful with the fact that a single j-invariant corresponds to several GF(127)-isomorphism classes. To be sure to hit a curve, we test both the default curve given by Sage and its quadratic twist."
   ]
  },
  {
   "cell_type": "code",
   "execution_count": 78,
   "metadata": {
    "scrolled": true
   },
   "outputs": [
    {
     "data": {
      "text/plain": [
       "(Elliptic Curve defined by y^2 = x^3 + 101*x + 92 over Finite Field of size 127,\n",
       " 129)"
      ]
     },
     "execution_count": 78,
     "metadata": {},
     "output_type": "execute_result"
    }
   ],
   "source": [
    "while True:\n",
    "    E = EllipticCurve(k, j = k.random_element())\n",
    "    if E.order() == 129:\n",
    "        break\n",
    "    E = E.quadratic_twist()\n",
    "    if E.order() == 129:\n",
    "        break    \n",
    "E, E.order()"
   ]
  },
  {
   "cell_type": "markdown",
   "metadata": {},
   "source": [
    "#### Exercise 1.2 ★★\n",
    "\n",
    "Let $E$ be one such curve. What is the degree of the smallest extension $k$ of $𝔽_{127}$ such that $E(k)[129] \\simeq ℤ/129ℤ × ℤ/129ℤ$?\n",
    "\n"
   ]
  },
  {
   "cell_type": "markdown",
   "metadata": {},
   "source": [
    "We already that a cyclic subgroup of order 129 is defined over $𝔽_{127}$."
   ]
  },
  {
   "cell_type": "code",
   "execution_count": 79,
   "metadata": {},
   "outputs": [],
   "source": [
    "P = E.gens()[0]"
   ]
  },
  {
   "cell_type": "code",
   "execution_count": 80,
   "metadata": {},
   "outputs": [
    {
     "data": {
      "text/plain": [
       "129"
      ]
     },
     "execution_count": 80,
     "metadata": {},
     "output_type": "execute_result"
    }
   ],
   "source": [
    "P.order()"
   ]
  },
  {
   "cell_type": "markdown",
   "metadata": {},
   "source": [
    "To find the extension where the rest of the 129-torsion is defined, we factor the 129-division polynomial"
   ]
  },
  {
   "cell_type": "code",
   "execution_count": 81,
   "metadata": {},
   "outputs": [
    {
     "data": {
      "text/plain": [
       "2*x^8320 + 101*x^8318 + 92*x^8317 + 85*x^8316 + 53*x^8315 + 5*x^8314 + 81*x^8313 + 107*x^8312 + 31*x^8311 + 84*x^8310 + 34*x^8309 + 46*x^8308 + 33*x^8307 + 69*x^8306 + 10*x^8305 + 101*x^8304 + 111*x^8303 + 59*x^8302 + 18*x^8301 + 19*x^8300 + 37*x^8299 + 33*x^8298 + 60*x^8297 + 17*x^8296 + 72*x^8295 + 76*x^8294 + 22*x^8293 + 33*x^8292 + 23*x^8291 + 17*x^8290 + 26*x^8289 + 122*x^8288 + 72*x^8287 + 107*x^8286 + 55*x^8285 + 35*x^8284 + 23*x^8283 + 47*x^8282 + 97*x^8281 + 116*x^8280 + 74*x^8279 + 76*x^8278 + 20*x^8277 + 36*x^8276 + 43*x^8275 + 115*x^8274 + 27*x^8273 + 107*x^8272 + 21*x^8271 + 60*x^8270 + 40*x^8269 + 52*x^8268 + x^8267 + 119*x^8266 + 77*x^8265 + 95*x^8264 + 88*x^8263 + 12*x^8262 + 7*x^8261 + 72*x^8260 + 27*x^8259 + 119*x^8258 + 14*x^8257 + 81*x^8256 + 44*x^8255 + 122*x^8254 + 100*x^8253 + 126*x^8252 + 7*x^8251 + 86*x^8250 + 19*x^8249 + 68*x^8248 + 64*x^8247 + 10*x^8246 + 111*x^8245 + 31*x^8244 + 65*x^8243 + 91*x^8242 + 105*x^8241 + 69*x^8240 + 56*x^8239 + 76*x^8238 + 71*x^8237 + 23*x^8236 + 115*x^8235 + 34*x^8234 + 22*x^8233 + 83*x^8232 + 13*x^8231 + 104*x^8230 + 73*x^8229 + 62*x^8228 + 24*x^8227 + 38*x^8226 + 66*x^8225 + 75*x^8224 + 77*x^8223 + 73*x^8222 + 104*x^8221 + 39*x^8220 + 32*x^8219 + 41*x^8218 + 9*x^8217 + 87*x^8216 + 75*x^8215 + 92*x^8214 + 83*x^8213 + 24*x^8212 + 108*x^8211 + 49*x^8210 + 61*x^8209 + 42*x^8208 + 51*x^8207 + 71*x^8206 + 91*x^8205 + 56*x^8204 + 56*x^8203 + 9*x^8202 + 48*x^8201 + 89*x^8200 + 42*x^8199 + 11*x^8198 + 69*x^8197 + 56*x^8196 + 53*x^8195 + 120*x^8194 + 26*x^8193 + 115*x^8192 + 75*x^8191 + 122*x^8190 + 12*x^8189 + 3*x^8188 + 59*x^8187 + 84*x^8186 + 3*x^8185 + 43*x^8184 + 104*x^8183 + 34*x^8182 + 18*x^8181 + 126*x^8180 + 111*x^8179 + 19*x^8178 + 49*x^8177 + 108*x^8176 + 99*x^8175 + 14*x^8174 + 53*x^8173 + 115*x^8172 + 118*x^8171 + 53*x^8170 + 49*x^8169 + 62*x^8168 + 87*x^8167 + 5*x^8166 + 14*x^8165 + 50*x^8164 + 70*x^8163 + 81*x^8161 + 69*x^8160 + 49*x^8159 + 6*x^8158 + 40*x^8157 + 36*x^8156 + 36*x^8155 + 124*x^8154 + 115*x^8153 + 4*x^8152 + 27*x^8151 + 38*x^8150 + 113*x^8149 + 22*x^8148 + 112*x^8147 + 58*x^8146 + 103*x^8145 + 12*x^8144 + 46*x^8143 + 97*x^8142 + 70*x^8141 + 46*x^8140 + 66*x^8139 + 49*x^8138 + 115*x^8137 + 78*x^8136 + 59*x^8135 + 83*x^8134 + 52*x^8133 + 42*x^8132 + 23*x^8131 + 61*x^8130 + 29*x^8129 + 55*x^8128 + 55*x^8127 + 16*x^8126 + 34*x^8125 + 73*x^8124 + 36*x^8123 + 43*x^8122 + 7*x^8121 + 117*x^8120 + 102*x^8119 + 33*x^8118 + 31*x^8117 + 61*x^8116 + 17*x^8115 + 60*x^8114 + 123*x^8113 + 100*x^8112 + 54*x^8111 + 69*x^8110 + 25*x^8109 + 30*x^8108 + 97*x^8107 + 88*x^8106 + 31*x^8105 + 117*x^8104 + 55*x^8103 + 45*x^8102 + 74*x^8101 + x^8100 + 101*x^8099 + 25*x^8098 + 31*x^8097 + 120*x^8096 + 47*x^8095 + 104*x^8094 + 100*x^8093 + 86*x^8092 + 102*x^8091 + 115*x^8090 + 17*x^8089 + 2*x^8088 + 12*x^8087 + 53*x^8086 + 115*x^8085 + 115*x^8084 + 125*x^8083 + 67*x^8082 + 60*x^8081 + 86*x^8080 + 10*x^8079 + 92*x^8078 + 60*x^8077 + 111*x^8076 + 114*x^8075 + 126*x^8074 + 106*x^8073 + 121*x^8072 + 81*x^8071 + 56*x^8070 + 54*x^8069 + 21*x^8068 + 8*x^8067 + 71*x^8066 + 4*x^8065 + 124*x^8064 + 64*x^8063 + 86*x^8062 + 18*x^8061 + 3*x^8060 + 94*x^8059 + 111*x^8058 + 54*x^8057 + 69*x^8056 + 101*x^8055 + 54*x^8054 + 125*x^8053 + 25*x^8052 + 76*x^8051 + 58*x^8050 + 107*x^8049 + 89*x^8048 + 112*x^8047 + 111*x^8046 + 3*x^8045 + 73*x^8044 + 47*x^8043 + 47*x^8042 + x^8041 + 122*x^8040 + 39*x^8039 + 28*x^8038 + 13*x^8037 + 120*x^8036 + 81*x^8035 + 11*x^8034 + 52*x^8033 + 60*x^8032 + 106*x^8031 + 68*x^8030 + 13*x^8029 + 93*x^8028 + 78*x^8027 + 20*x^8026 + 101*x^8025 + 110*x^8024 + 44*x^8023 + 89*x^8022 + 54*x^8021 + 105*x^8020 + 79*x^8019 + 61*x^8018 + 28*x^8017 + 95*x^8016 + 57*x^8015 + 92*x^8014 + 115*x^8013 + 79*x^8012 + 70*x^8011 + 113*x^8010 + 35*x^8009 + 56*x^8008 + 54*x^8007 + 74*x^8006 + 8*x^8005 + 21*x^8004 + 42*x^8003 + 118*x^8002 + 99*x^8001 + 7*x^8000 + 92*x^7999 + 103*x^7998 + 55*x^7997 + 82*x^7996 + 81*x^7995 + 58*x^7994 + 122*x^7993 + 80*x^7992 + 122*x^7991 + 109*x^7990 + 33*x^7989 + 5*x^7988 + 31*x^7987 + 44*x^7986 + 20*x^7985 + 105*x^7984 + 75*x^7983 + 101*x^7982 + 47*x^7981 + 84*x^7980 + 10*x^7979 + 38*x^7978 + 15*x^7977 + 31*x^7976 + 59*x^7974 + 119*x^7973 + 101*x^7972 + 70*x^7971 + 35*x^7970 + 17*x^7969 + 73*x^7968 + 121*x^7967 + 35*x^7966 + 28*x^7965 + 64*x^7964 + 50*x^7963 + 68*x^7962 + 102*x^7961 + 14*x^7960 + 71*x^7959 + 9*x^7958 + 100*x^7957 + 61*x^7956 + 124*x^7955 + 68*x^7954 + 26*x^7953 + x^7952 + 109*x^7951 + 44*x^7950 + 120*x^7949 + 13*x^7948 + 14*x^7947 + 8*x^7946 + 113*x^7945 + 83*x^7944 + 116*x^7943 + 13*x^7942 + 67*x^7941 + 42*x^7940 + 50*x^7939 + 86*x^7938 + 37*x^7937 + 117*x^7936 + 118*x^7935 + 93*x^7934 + 43*x^7933 + 105*x^7932 + 67*x^7931 + 102*x^7930 + 93*x^7929 + 32*x^7928 + 108*x^7927 + 73*x^7926 + 92*x^7925 + 33*x^7924 + 22*x^7923 + 119*x^7922 + 7*x^7921 + 66*x^7920 + 126*x^7918 + 56*x^7917 + 125*x^7916 + 89*x^7915 + 34*x^7914 + 29*x^7913 + 123*x^7912 + 70*x^7911 + 124*x^7910 + 13*x^7909 + 11*x^7908 + 117*x^7907 + 122*x^7906 + 35*x^7905 + 55*x^7904 + 21*x^7903 + 82*x^7902 + 106*x^7901 + 41*x^7900 + 59*x^7899 + 118*x^7898 + 88*x^7897 + 64*x^7896 + 101*x^7894 + 74*x^7893 + 47*x^7892 + 20*x^7891 + 13*x^7890 + 7*x^7889 + 62*x^7888 + 27*x^7887 + 19*x^7886 + 90*x^7885 + 119*x^7884 + 12*x^7883 + 84*x^7882 + 67*x^7881 + 52*x^7880 + 4*x^7879 + 100*x^7878 + 76*x^7877 + 75*x^7876 + 100*x^7875 + 86*x^7874 + 17*x^7873 + 86*x^7872 + 68*x^7871 + 108*x^7870 + 100*x^7869 + 60*x^7868 + 121*x^7867 + 94*x^7866 + 105*x^7865 + 8*x^7864 + 55*x^7863 + 29*x^7862 + 79*x^7861 + 13*x^7860 + 116*x^7859 + 85*x^7858 + 63*x^7857 + 41*x^7856 + 66*x^7855 + 73*x^7854 + 39*x^7853 + 93*x^7852 + 45*x^7851 + 32*x^7850 + 27*x^7849 + 37*x^7848 + 63*x^7847 + 41*x^7846 + 71*x^7845 + 21*x^7844 + 48*x^7843 + 115*x^7842 + 9*x^7841 + 77*x^7840 + 74*x^7839 + 98*x^7838 + 70*x^7837 + 12*x^7836 + 121*x^7835 + 54*x^7834 + 106*x^7833 + 84*x^7832 + 47*x^7831 + 4*x^7830 + 74*x^7829 + 44*x^7828 + 3*x^7827 + 19*x^7826 + 59*x^7825 + 116*x^7824 + 40*x^7823 + 108*x^7822 + 9*x^7821 + 3*x^7820 + 13*x^7819 + 68*x^7818 + 105*x^7817 + 65*x^7816 + 46*x^7815 + 37*x^7814 + 78*x^7813 + 8*x^7812 + 87*x^7811 + 49*x^7810 + 68*x^7809 + 65*x^7808 + 75*x^7807 + 72*x^7806 + 80*x^7805 + 111*x^7804 + 39*x^7803 + 112*x^7802 + 45*x^7801 + 53*x^7800 + 50*x^7799 + 37*x^7798 + 7*x^7797 + 120*x^7796 + 62*x^7795 + 56*x^7794 + 10*x^7793 + 5*x^7792 + 116*x^7791 + 27*x^7790 + 43*x^7789 + 102*x^7788 + 73*x^7787 + 20*x^7786 + 44*x^7785 + 47*x^7784 + 34*x^7783 + 49*x^7782 + 77*x^7781 + 87*x^7780 + 39*x^7779 + 44*x^7778 + 126*x^7777 + 105*x^7776 + 71*x^7775 + 35*x^7774 + 105*x^7773 + 17*x^7772 + 26*x^7771 + 65*x^7770 + 23*x^7769 + 113*x^7768 + 126*x^7767 + 84*x^7766 + 23*x^7765 + 95*x^7764 + 62*x^7763 + 56*x^7762 + 97*x^7761 + 96*x^7760 + 121*x^7759 + 41*x^7758 + 17*x^7757 + 43*x^7756 + 30*x^7755 + 41*x^7754 + 114*x^7753 + 118*x^7752 + 105*x^7751 + 98*x^7750 + 74*x^7749 + 50*x^7748 + 25*x^7747 + 18*x^7746 + 31*x^7745 + 58*x^7744 + 50*x^7743 + 84*x^7742 + 101*x^7741 + 101*x^7740 + 70*x^7739 + 48*x^7738 + 19*x^7737 + 101*x^7736 + 80*x^7735 + 86*x^7734 + 90*x^7733 + 33*x^7732 + 91*x^7731 + 76*x^7730 + 20*x^7729 + 80*x^7728 + 98*x^7727 + 50*x^7726 + 10*x^7725 + 68*x^7724 + 18*x^7723 + 83*x^7722 + 82*x^7721 + 28*x^7720 + 123*x^7719 + 78*x^7718 + 22*x^7717 + 56*x^7716 + x^7715 + 55*x^7714 + 22*x^7713 + 118*x^7712 + 56*x^7711 + 52*x^7710 + 106*x^7709 + 108*x^7708 + 11*x^7707 + 43*x^7706 + 116*x^7705 + 15*x^7704 + 78*x^7703 + 12*x^7702 + 93*x^7701 + 31*x^7700 + 66*x^7699 + 39*x^7698 + 88*x^7697 + 81*x^7696 + 62*x^7695 + 124*x^7694 + 4*x^7693 + 126*x^7692 + 108*x^7691 + 79*x^7690 + 113*x^7689 + 39*x^7688 + 22*x^7687 + 24*x^7686 + 84*x^7685 + 50*x^7684 + 17*x^7683 + 81*x^7682 + 48*x^7681 + 104*x^7680 + 31*x^7679 + 50*x^7678 + 114*x^7677 + 48*x^7676 + 63*x^7675 + 32*x^7674 + 76*x^7673 + 24*x^7672 + 45*x^7671 + 84*x^7670 + 53*x^7669 + 124*x^7668 + 38*x^7667 + 90*x^7666 + 4*x^7665 + 73*x^7664 + 42*x^7663 + 84*x^7662 + 84*x^7661 + 28*x^7660 + 8*x^7659 + 9*x^7658 + 47*x^7657 + 71*x^7656 + 12*x^7655 + 40*x^7654 + 9*x^7653 + 66*x^7652 + 108*x^7651 + 90*x^7650 + 43*x^7649 + 124*x^7648 + 19*x^7647 + 26*x^7646 + 91*x^7645 + 113*x^7644 + 37*x^7643 + 7*x^7642 + 19*x^7641 + 27*x^7640 + 56*x^7639 + 7*x^7638 + 19*x^7637 + 118*x^7636 + 78*x^7635 + 120*x^7634 + x^7633 + 35*x^7632 + 101*x^7631 + 13*x^7630 + 20*x^7629 + 15*x^7628 + 45*x^7627 + 103*x^7626 + 61*x^7625 + 105*x^7624 + 57*x^7623 + 78*x^7622 + 71*x^7621 + 5*x^7620 + 78*x^7619 + 118*x^7618 + 92*x^7617 + 112*x^7616 + 55*x^7615 + 77*x^7614 + 26*x^7613 + 56*x^7612 + 96*x^7611 + 63*x^7610 + 22*x^7609 + 85*x^7608 + 92*x^7607 + 82*x^7606 + 86*x^7605 + 107*x^7604 + 36*x^7603 + 36*x^7602 + 101*x^7601 + 121*x^7600 + 23*x^7599 + 18*x^7598 + 41*x^7597 + 48*x^7596 + 51*x^7595 + 116*x^7594 + 87*x^7593 + 15*x^7592 + 13*x^7591 + 47*x^7590 + 8*x^7589 + 98*x^7588 + 104*x^7587 + 46*x^7586 + 101*x^7585 + 89*x^7584 + 89*x^7583 + x^7582 + 110*x^7581 + 120*x^7580 + 112*x^7579 + 10*x^7578 + 19*x^7577 + 29*x^7576 + 48*x^7575 + 71*x^7574 + 126*x^7573 + 49*x^7572 + 120*x^7571 + 96*x^7570 + 23*x^7569 + 44*x^7568 + 47*x^7567 + 24*x^7566 + 102*x^7565 + 103*x^7564 + 54*x^7563 + 104*x^7562 + 69*x^7561 + 109*x^7560 + 63*x^7559 + 19*x^7558 + 109*x^7557 + 53*x^7556 + 7*x^7555 + 40*x^7554 + 74*x^7553 + 18*x^7552 + 53*x^7551 + 71*x^7550 + 107*x^7549 + 124*x^7548 + 46*x^7547 + 66*x^7546 + 87*x^7545 + 12*x^7544 + 125*x^7543 + 92*x^7542 + 31*x^7541 + 7*x^7540 + 7*x^7539 + 109*x^7538 + 18*x^7537 + 70*x^7536 + 102*x^7535 + 47*x^7534 + 70*x^7533 + 16*x^7532 + 93*x^7531 + 58*x^7530 + 124*x^7529 + 63*x^7528 + 60*x^7527 + 65*x^7526 + 58*x^7525 + 121*x^7524 + 122*x^7523 + 95*x^7522 + 19*x^7521 + 29*x^7520 + 79*x^7519 + 87*x^7518 + 19*x^7517 + 58*x^7516 + 66*x^7515 + 105*x^7514 + 15*x^7513 + 56*x^7512 + 13*x^7511 + 117*x^7510 + 72*x^7509 + 7*x^7508 + 41*x^7507 + 65*x^7506 + 15*x^7505 + 22*x^7504 + 92*x^7503 + 69*x^7502 + x^7501 + 107*x^7500 + 31*x^7499 + 121*x^7498 + 82*x^7497 + 87*x^7496 + 48*x^7495 + 11*x^7494 + 16*x^7493 + 13*x^7492 + 68*x^7491 + 121*x^7490 + 3*x^7489 + 71*x^7488 + 7*x^7487 + 44*x^7486 + 64*x^7485 + 17*x^7484 + 23*x^7483 + 25*x^7482 + 59*x^7481 + 122*x^7480 + 80*x^7479 + 5*x^7478 + 105*x^7477 + 31*x^7476 + 80*x^7475 + 109*x^7474 + 125*x^7473 + 94*x^7472 + 81*x^7471 + 85*x^7470 + 111*x^7469 + 5*x^7468 + 6*x^7467 + 120*x^7466 + 77*x^7465 + 94*x^7464 + 70*x^7463 + 53*x^7462 + 57*x^7461 + 119*x^7460 + 15*x^7459 + 95*x^7458 + 73*x^7457 + 47*x^7456 + 57*x^7455 + 93*x^7454 + 12*x^7453 + 124*x^7452 + 96*x^7451 + 18*x^7450 + 36*x^7449 + 33*x^7448 + 55*x^7447 + 81*x^7446 + 112*x^7445 + 36*x^7444 + 34*x^7443 + 41*x^7442 + 104*x^7441 + 79*x^7440 + 20*x^7439 + 14*x^7438 + 41*x^7437 + 69*x^7436 + 45*x^7435 + 68*x^7434 + 104*x^7433 + 86*x^7432 + 85*x^7431 + 120*x^7430 + 26*x^7429 + 22*x^7428 + 98*x^7427 + 2*x^7426 + 6*x^7425 + 64*x^7424 + 9*x^7423 + 21*x^7422 + 113*x^7421 + 100*x^7420 + 112*x^7419 + 90*x^7418 + 51*x^7417 + 108*x^7416 + 6*x^7415 + 2*x^7414 + 72*x^7413 + 34*x^7412 + 25*x^7411 + 101*x^7410 + 123*x^7409 + 80*x^7408 + 119*x^7407 + 34*x^7406 + 97*x^7405 + 68*x^7404 + 106*x^7403 + 29*x^7402 + 14*x^7401 + 105*x^7400 + 119*x^7399 + 73*x^7398 + 20*x^7397 + 87*x^7396 + 83*x^7395 + 39*x^7394 + 90*x^7393 + 107*x^7392 + 25*x^7391 + 104*x^7390 + 115*x^7389 + 96*x^7388 + 46*x^7387 + 77*x^7386 + 5*x^7385 + 85*x^7384 + x^7383 + 12*x^7382 + 90*x^7381 + 70*x^7380 + 39*x^7379 + 42*x^7378 + 7*x^7377 + 42*x^7376 + 16*x^7375 + 23*x^7374 + 38*x^7373 + 93*x^7372 + 115*x^7371 + 77*x^7370 + 103*x^7369 + 18*x^7368 + 23*x^7367 + 104*x^7366 + 50*x^7365 + 119*x^7364 + 54*x^7363 + 90*x^7362 + 33*x^7361 + 63*x^7360 + 85*x^7359 + 72*x^7358 + 48*x^7357 + 47*x^7356 + 117*x^7355 + 98*x^7354 + 63*x^7353 + 89*x^7352 + 10*x^7351 + 123*x^7350 + 126*x^7349 + 79*x^7348 + 89*x^7347 + 82*x^7346 + 10*x^7345 + 96*x^7344 + 106*x^7343 + 76*x^7342 + 63*x^7341 + 47*x^7340 + 32*x^7339 + 15*x^7338 + 77*x^7337 + 84*x^7336 + 66*x^7335 + 11*x^7334 + 86*x^7333 + 109*x^7332 + 44*x^7331 + 5*x^7330 + 120*x^7329 + 84*x^7328 + 69*x^7327 + 98*x^7326 + 116*x^7325 + 83*x^7324 + 97*x^7323 + 117*x^7322 + 69*x^7321 + 44*x^7320 + 117*x^7319 + 54*x^7318 + 104*x^7317 + 83*x^7316 + 36*x^7315 + 3*x^7314 + 22*x^7313 + 93*x^7312 + 21*x^7311 + 37*x^7310 + 12*x^7309 + 118*x^7308 + 29*x^7307 + 18*x^7306 + 117*x^7305 + 34*x^7304 + 119*x^7303 + 81*x^7302 + 25*x^7301 + 19*x^7300 + 82*x^7299 + 72*x^7298 + 58*x^7297 + 11*x^7296 + 62*x^7295 + 105*x^7294 + 106*x^7293 + 52*x^7292 + 59*x^7291 + 98*x^7290 + 119*x^7289 + 8*x^7288 + 85*x^7287 + 123*x^7286 + 24*x^7285 + 9*x^7284 + 36*x^7283 + 64*x^7282 + 84*x^7281 + 8*x^7280 + 24*x^7279 + 66*x^7278 + 71*x^7277 + 47*x^7276 + 71*x^7275 + 111*x^7274 + 46*x^7273 + 72*x^7272 + 13*x^7271 + 12*x^7270 + 126*x^7269 + x^7268 + 65*x^7267 + 27*x^7266 + 79*x^7265 + 20*x^7264 + 4*x^7263 + 103*x^7262 + 121*x^7261 + 25*x^7260 + 69*x^7259 + 9*x^7258 + 116*x^7257 + 100*x^7256 + 78*x^7255 + 102*x^7254 + 37*x^7253 + 106*x^7252 + 16*x^7251 + 125*x^7250 + 15*x^7249 + 109*x^7248 + 57*x^7247 + 29*x^7246 + 16*x^7245 + 55*x^7244 + 69*x^7243 + 93*x^7242 + 100*x^7241 + 71*x^7240 + 99*x^7239 + 9*x^7238 + 60*x^7237 + 126*x^7236 + 100*x^7235 + 15*x^7234 + 21*x^7233 + 85*x^7232 + 9*x^7231 + 4*x^7230 + 72*x^7229 + 109*x^7228 + 71*x^7227 + 23*x^7226 + 97*x^7225 + 80*x^7224 + 43*x^7223 + 69*x^7222 + 53*x^7221 + 36*x^7220 + 8*x^7219 + 81*x^7218 + 21*x^7217 + 67*x^7216 + 71*x^7215 + 112*x^7214 + 19*x^7213 + 122*x^7212 + 21*x^7211 + 119*x^7210 + 53*x^7209 + 93*x^7208 + 111*x^7207 + 53*x^7206 + 125*x^7205 + 125*x^7204 + 62*x^7203 + 11*x^7202 + 95*x^7201 + 111*x^7200 + 58*x^7199 + 81*x^7198 + 45*x^7197 + 101*x^7196 + 120*x^7195 + 55*x^7194 + 43*x^7193 + 82*x^7192 + 119*x^7191 + 76*x^7190 + 68*x^7189 + 98*x^7188 + 60*x^7187 + 106*x^7186 + 32*x^7185 + 106*x^7184 + 101*x^7183 + 10*x^7182 + 9*x^7181 + 65*x^7180 + 12*x^7179 + 80*x^7178 + 126*x^7177 + 117*x^7176 + 5*x^7175 + 90*x^7174 + 10*x^7173 + 41*x^7172 + 24*x^7171 + 85*x^7170 + 45*x^7169 + 41*x^7168 + 75*x^7167 + 4*x^7166 + 126*x^7165 + 115*x^7164 + 116*x^7163 + x^7162 + 86*x^7161 + 9*x^7160 + 49*x^7159 + 72*x^7158 + 91*x^7157 + 114*x^7156 + 18*x^7155 + 106*x^7154 + 40*x^7153 + 48*x^7152 + 79*x^7151 + 53*x^7150 + 30*x^7149 + 46*x^7148 + 126*x^7147 + 75*x^7146 + 82*x^7145 + 123*x^7144 + 60*x^7143 + 30*x^7142 + 64*x^7141 + 92*x^7140 + 71*x^7139 + 68*x^7138 + 71*x^7137 + 18*x^7136 + 24*x^7135 + 33*x^7134 + 78*x^7133 + 61*x^7132 + 56*x^7131 + 100*x^7130 + 106*x^7129 + 88*x^7128 + 48*x^7127 + 8*x^7126 + 72*x^7125 + 38*x^7124 + 86*x^7123 + 54*x^7122 + 12*x^7121 + 50*x^7120 + 113*x^7119 + 8*x^7118 + 39*x^7117 + 79*x^7116 + 24*x^7115 + 106*x^7114 + 26*x^7113 + 26*x^7112 + 72*x^7111 + 90*x^7110 + 64*x^7109 + 30*x^7108 + 11*x^7107 + 54*x^7106 + 119*x^7105 + 71*x^7104 + 13*x^7103 + 35*x^7102 + 42*x^7101 + 88*x^7100 + 68*x^7099 + 105*x^7098 + 71*x^7097 + 75*x^7096 + 109*x^7095 + 111*x^7094 + 123*x^7093 + 59*x^7092 + 21*x^7091 + 100*x^7090 + 100*x^7089 + 48*x^7088 + 106*x^7087 + 91*x^7086 + 39*x^7085 + 61*x^7084 + 53*x^7083 + 44*x^7082 + 33*x^7081 + 56*x^7080 + 95*x^7079 + 14*x^7078 + 102*x^7077 + 68*x^7076 + 2*x^7075 + 9*x^7074 + 76*x^7073 + 11*x^7072 + 29*x^7071 + 125*x^7070 + 89*x^7069 + 29*x^7068 + 91*x^7067 + 59*x^7066 + 36*x^7065 + 70*x^7064 + 82*x^7063 + 56*x^7062 + 121*x^7061 + 117*x^7060 + 92*x^7059 + 83*x^7058 + 122*x^7057 + 114*x^7056 + 33*x^7055 + 73*x^7054 + 68*x^7053 + 87*x^7052 + 102*x^7051 + 114*x^7050 + 99*x^7049 + 55*x^7048 + 46*x^7047 + 105*x^7046 + 47*x^7045 + 50*x^7044 + 70*x^7043 + 99*x^7042 + 52*x^7041 + 63*x^7040 + 83*x^7039 + 18*x^7038 + 112*x^7037 + 33*x^7036 + 115*x^7035 + 30*x^7034 + 54*x^7033 + 6*x^7032 + 30*x^7031 + 51*x^7030 + 56*x^7029 + 6*x^7028 + 43*x^7027 + 63*x^7026 + 5*x^7025 + 82*x^7024 + 122*x^7023 + 122*x^7022 + 99*x^7021 + 98*x^7020 + 28*x^7019 + 93*x^7018 + 122*x^7017 + 68*x^7016 + 3*x^7015 + 104*x^7014 + 114*x^7013 + 30*x^7012 + 71*x^7011 + 14*x^7010 + 98*x^7009 + 58*x^7008 + 82*x^7007 + 52*x^7006 + 62*x^7005 + 120*x^7004 + 107*x^7003 + 103*x^7002 + 90*x^7001 + 76*x^7000 + 99*x^6999 + 94*x^6998 + 47*x^6997 + 90*x^6996 + 45*x^6995 + 59*x^6994 + 20*x^6993 + 80*x^6992 + 36*x^6991 + 111*x^6990 + 89*x^6989 + 14*x^6988 + 86*x^6987 + 7*x^6986 + 16*x^6985 + 68*x^6984 + 23*x^6983 + 69*x^6982 + 97*x^6981 + 125*x^6980 + 24*x^6979 + 21*x^6978 + 108*x^6977 + 57*x^6976 + 115*x^6975 + 119*x^6974 + 61*x^6973 + 88*x^6972 + 72*x^6971 + 8*x^6970 + 22*x^6969 + 124*x^6968 + 42*x^6967 + 29*x^6966 + 63*x^6965 + 120*x^6964 + 60*x^6963 + 16*x^6962 + 80*x^6961 + 13*x^6960 + 62*x^6959 + 11*x^6958 + 5*x^6957 + 116*x^6956 + 71*x^6955 + 4*x^6954 + 110*x^6953 + 17*x^6952 + 93*x^6951 + 100*x^6950 + 81*x^6949 + 28*x^6948 + 108*x^6947 + 106*x^6946 + 113*x^6945 + 85*x^6944 + 115*x^6943 + 58*x^6942 + 6*x^6941 + 67*x^6940 + 52*x^6939 + 86*x^6938 + 120*x^6937 + 25*x^6936 + 74*x^6935 + 101*x^6934 + 22*x^6933 + 81*x^6932 + 39*x^6931 + 124*x^6930 + 13*x^6929 + 79*x^6928 + 33*x^6927 + 33*x^6926 + 117*x^6925 + 21*x^6924 + 57*x^6923 + 26*x^6922 + 111*x^6921 + 121*x^6920 + 98*x^6919 + 18*x^6918 + 108*x^6917 + 90*x^6916 + 27*x^6915 + 71*x^6914 + 28*x^6913 + 121*x^6912 + 69*x^6911 + 123*x^6910 + 48*x^6909 + 28*x^6908 + 100*x^6907 + 104*x^6906 + 99*x^6905 + 27*x^6904 + 60*x^6903 + 83*x^6902 + 2*x^6901 + 16*x^6900 + 121*x^6899 + 95*x^6898 + 25*x^6897 + 70*x^6896 + 79*x^6895 + 104*x^6894 + 14*x^6893 + 70*x^6892 + 125*x^6891 + 125*x^6890 + 74*x^6889 + 13*x^6888 + 52*x^6887 + 32*x^6886 + 123*x^6885 + 117*x^6884 + 89*x^6883 + 26*x^6882 + 44*x^6880 + 106*x^6879 + 105*x^6878 + 50*x^6877 + 67*x^6876 + 34*x^6875 + 81*x^6874 + 36*x^6873 + 16*x^6872 + 26*x^6871 + 55*x^6870 + 104*x^6869 + 80*x^6868 + 4*x^6867 + 59*x^6866 + 96*x^6865 + 63*x^6864 + 101*x^6863 + 97*x^6862 + 93*x^6861 + 92*x^6860 + 46*x^6859 + 7*x^6858 + 51*x^6857 + 28*x^6856 + 122*x^6855 + 52*x^6854 + 5*x^6853 + 70*x^6852 + 62*x^6851 + 84*x^6850 + 5*x^6849 + 47*x^6848 + 48*x^6847 + 86*x^6846 + 117*x^6845 + 123*x^6844 + 69*x^6843 + 86*x^6842 + 98*x^6841 + 78*x^6840 + 63*x^6839 + 67*x^6838 + 52*x^6837 + 64*x^6836 + 16*x^6835 + 44*x^6834 + 25*x^6833 + 35*x^6832 + 84*x^6831 + x^6830 + 29*x^6829 + 74*x^6828 + 98*x^6827 + 78*x^6826 + 47*x^6825 + 96*x^6824 + 36*x^6823 + 81*x^6822 + 43*x^6821 + 108*x^6820 + 77*x^6819 + 30*x^6818 + 55*x^6817 + 6*x^6816 + 120*x^6815 + 57*x^6814 + 118*x^6813 + 45*x^6812 + 97*x^6811 + 29*x^6810 + 37*x^6809 + 3*x^6808 + 22*x^6807 + 93*x^6806 + 54*x^6805 + 19*x^6804 + 24*x^6803 + 117*x^6802 + 97*x^6801 + 33*x^6800 + 21*x^6799 + 58*x^6798 + 8*x^6797 + 29*x^6796 + 113*x^6795 + 34*x^6794 + 94*x^6793 + 94*x^6792 + 79*x^6791 + 36*x^6790 + 46*x^6789 + 124*x^6788 + 38*x^6787 + 92*x^6786 + 29*x^6785 + 33*x^6784 + 93*x^6783 + 110*x^6782 + 101*x^6781 + 86*x^6780 + 19*x^6779 + 38*x^6778 + 67*x^6777 + 104*x^6776 + 22*x^6775 + 85*x^6774 + 86*x^6773 + 107*x^6772 + 21*x^6771 + 95*x^6770 + 11*x^6769 + 43*x^6768 + 27*x^6767 + 53*x^6766 + 85*x^6765 + 62*x^6764 + 34*x^6763 + 21*x^6762 + 46*x^6761 + 17*x^6760 + 122*x^6759 + 29*x^6758 + 110*x^6757 + 7*x^6756 + 91*x^6755 + 18*x^6753 + 91*x^6752 + 20*x^6751 + 42*x^6750 + 28*x^6749 + 103*x^6748 + 2*x^6747 + 20*x^6746 + 89*x^6745 + 87*x^6744 + 68*x^6743 + 116*x^6742 + 79*x^6741 + 104*x^6740 + 10*x^6739 + 62*x^6738 + 59*x^6737 + 121*x^6736 + 32*x^6735 + 99*x^6734 + 5*x^6733 + 59*x^6732 + 122*x^6731 + 19*x^6730 + 17*x^6729 + 72*x^6728 + 24*x^6727 + 68*x^6726 + 77*x^6725 + 11*x^6724 + 41*x^6723 + 48*x^6722 + 80*x^6721 + 24*x^6720 + 104*x^6719 + 5*x^6718 + 9*x^6717 + 123*x^6716 + 8*x^6715 + 26*x^6714 + 28*x^6713 + 58*x^6712 + 88*x^6711 + 121*x^6710 + 113*x^6709 + 126*x^6708 + 29*x^6707 + 34*x^6706 + 55*x^6705 + x^6704 + 95*x^6703 + 15*x^6702 + 21*x^6701 + 68*x^6700 + 59*x^6699 + 7*x^6698 + 81*x^6697 + 90*x^6696 + 44*x^6695 + 54*x^6694 + 109*x^6693 + 4*x^6692 + 17*x^6691 + 96*x^6690 + 85*x^6689 + 26*x^6688 + 95*x^6687 + 6*x^6686 + 104*x^6685 + 106*x^6684 + 27*x^6683 + 84*x^6682 + 94*x^6681 + 125*x^6680 + 17*x^6679 + 108*x^6678 + 86*x^6677 + 22*x^6676 + 34*x^6675 + 97*x^6674 + x^6673 + 88*x^6672 + 68*x^6671 + 49*x^6670 + 85*x^6669 + 52*x^6668 + 108*x^6667 + 68*x^6666 + 9*x^6665 + 83*x^6664 + 116*x^6663 + 113*x^6662 + 70*x^6661 + 101*x^6660 + 96*x^6659 + 102*x^6658 + 116*x^6657 + 105*x^6656 + 17*x^6655 + 69*x^6654 + 26*x^6653 + 101*x^6652 + 15*x^6651 + 41*x^6650 + 93*x^6649 + 95*x^6648 + 55*x^6647 + 69*x^6646 + 64*x^6645 + 7*x^6644 + 27*x^6643 + 79*x^6642 + 92*x^6641 + 113*x^6640 + 24*x^6639 + 57*x^6638 + 50*x^6637 + 61*x^6636 + 66*x^6635 + 115*x^6634 + 9*x^6633 + 120*x^6632 + 66*x^6631 + 20*x^6630 + 12*x^6629 + 16*x^6628 + 68*x^6627 + 122*x^6626 + 102*x^6625 + 50*x^6624 + 84*x^6623 + 80*x^6622 + 92*x^6621 + 2*x^6620 + 73*x^6619 + 91*x^6618 + 87*x^6617 + 85*x^6616 + 4*x^6615 + 65*x^6614 + 57*x^6613 + 81*x^6612 + 11*x^6611 + 115*x^6610 + 62*x^6609 + 91*x^6608 + 80*x^6607 + 74*x^6606 + 119*x^6605 + 24*x^6604 + 10*x^6603 + 70*x^6602 + 23*x^6601 + 112*x^6600 + 48*x^6599 + 32*x^6598 + 110*x^6597 + 122*x^6596 + 50*x^6595 + 67*x^6594 + 87*x^6593 + 66*x^6592 + 124*x^6591 + 101*x^6590 + 35*x^6589 + 24*x^6588 + 13*x^6587 + 85*x^6586 + 6*x^6585 + 108*x^6584 + 34*x^6583 + 55*x^6582 + 91*x^6581 + 118*x^6580 + 16*x^6579 + x^6578 + 10*x^6577 + 75*x^6576 + 52*x^6575 + 16*x^6574 + 23*x^6573 + 83*x^6572 + 5*x^6571 + 6*x^6570 + 92*x^6569 + 86*x^6568 + 36*x^6567 + 111*x^6566 + 104*x^6565 + 75*x^6564 + 21*x^6563 + 44*x^6562 + 119*x^6561 + 62*x^6560 + 23*x^6559 + 25*x^6558 + 118*x^6557 + 81*x^6556 + 16*x^6555 + 125*x^6554 + 2*x^6553 + 67*x^6552 + 51*x^6551 + 85*x^6550 + 78*x^6549 + 40*x^6548 + 23*x^6547 + 87*x^6546 + 50*x^6545 + 86*x^6544 + 46*x^6543 + 93*x^6542 + 91*x^6541 + 20*x^6540 + 111*x^6539 + 37*x^6538 + 2*x^6537 + 65*x^6536 + 86*x^6535 + 63*x^6534 + 30*x^6533 + 84*x^6532 + 106*x^6531 + 33*x^6530 + 34*x^6529 + 123*x^6528 + 113*x^6527 + 113*x^6526 + 124*x^6525 + 34*x^6524 + 7*x^6523 + 20*x^6522 + x^6521 + 99*x^6520 + 83*x^6519 + 19*x^6518 + 78*x^6517 + 14*x^6516 + 52*x^6515 + 5*x^6514 + 60*x^6513 + 29*x^6512 + 26*x^6511 + 55*x^6510 + 50*x^6509 + 72*x^6508 + 42*x^6507 + 34*x^6506 + 11*x^6505 + 40*x^6504 + 25*x^6503 + 12*x^6502 + 18*x^6501 + 74*x^6500 + 115*x^6499 + 33*x^6498 + 62*x^6497 + 30*x^6496 + 18*x^6495 + 83*x^6494 + 74*x^6493 + 34*x^6492 + 78*x^6491 + 48*x^6490 + 81*x^6489 + 62*x^6488 + 42*x^6487 + 75*x^6486 + 78*x^6485 + 52*x^6484 + 28*x^6483 + 5*x^6482 + 113*x^6481 + 12*x^6480 + 69*x^6479 + 57*x^6478 + 65*x^6477 + 72*x^6476 + 5*x^6475 + 105*x^6474 + 118*x^6473 + 126*x^6472 + x^6471 + 5*x^6470 + 92*x^6469 + 109*x^6468 + 53*x^6467 + 94*x^6466 + 57*x^6465 + 12*x^6464 + 10*x^6463 + 19*x^6462 + 119*x^6461 + 61*x^6460 + 97*x^6459 + 24*x^6458 + 102*x^6457 + 88*x^6456 + 71*x^6455 + 62*x^6454 + 2*x^6453 + 42*x^6452 + 64*x^6451 + 9*x^6450 + 2*x^6449 + 3*x^6448 + 66*x^6447 + 31*x^6446 + 51*x^6445 + 20*x^6444 + 43*x^6443 + 37*x^6442 + 111*x^6441 + 29*x^6440 + 71*x^6439 + 54*x^6438 + 102*x^6437 + 98*x^6436 + 78*x^6435 + 37*x^6434 + 21*x^6433 + 60*x^6432 + 67*x^6431 + 105*x^6430 + 84*x^6429 + 97*x^6428 + 110*x^6427 + 80*x^6426 + 3*x^6425 + 98*x^6424 + 12*x^6423 + 22*x^6422 + 111*x^6421 + 108*x^6420 + 119*x^6419 + 78*x^6418 + 48*x^6417 + 79*x^6416 + 68*x^6415 + 44*x^6414 + 61*x^6413 + 72*x^6412 + 103*x^6411 + 108*x^6410 + 30*x^6409 + 18*x^6408 + 108*x^6407 + 60*x^6406 + 26*x^6405 + 55*x^6404 + 22*x^6403 + 31*x^6402 + 95*x^6401 + 76*x^6400 + 24*x^6399 + 81*x^6398 + 90*x^6397 + 118*x^6396 + 80*x^6395 + 29*x^6394 + 17*x^6393 + 25*x^6392 + x^6391 + 30*x^6390 + 46*x^6389 + 73*x^6388 + 84*x^6387 + 75*x^6386 + 74*x^6385 + 62*x^6384 + 119*x^6383 + 52*x^6382 + 81*x^6381 + 74*x^6380 + 125*x^6379 + 105*x^6378 + 46*x^6377 + 42*x^6376 + 13*x^6375 + 101*x^6374 + 28*x^6373 + 78*x^6372 + 34*x^6371 + 104*x^6370 + 4*x^6369 + 87*x^6368 + 125*x^6367 + 19*x^6366 + 49*x^6365 + 104*x^6364 + 43*x^6363 + 117*x^6362 + 74*x^6361 + 89*x^6360 + 80*x^6359 + 27*x^6358 + 50*x^6357 + 71*x^6356 + 15*x^6355 + 85*x^6354 + 77*x^6353 + 33*x^6352 + 63*x^6351 + 72*x^6350 + 40*x^6349 + 117*x^6348 + 43*x^6347 + 117*x^6346 + 45*x^6345 + 68*x^6344 + x^6343 + 61*x^6342 + 41*x^6341 + 41*x^6340 + 26*x^6339 + 50*x^6337 + 56*x^6336 + x^6335 + x^6334 + 76*x^6333 + 124*x^6332 + 44*x^6331 + 63*x^6330 + 87*x^6329 + 111*x^6328 + 28*x^6327 + 119*x^6326 + 22*x^6325 + 115*x^6324 + 37*x^6323 + 78*x^6322 + 43*x^6321 + 36*x^6320 + 98*x^6319 + 94*x^6318 + 11*x^6317 + 91*x^6316 + 125*x^6315 + 122*x^6314 + 84*x^6313 + 14*x^6312 + 47*x^6311 + 43*x^6310 + 107*x^6309 + 72*x^6308 + 50*x^6307 + 27*x^6306 + 5*x^6305 + 34*x^6304 + 126*x^6303 + 90*x^6302 + 34*x^6301 + 46*x^6300 + 56*x^6299 + 8*x^6298 + 106*x^6297 + 110*x^6296 + 38*x^6295 + x^6294 + 94*x^6293 + 109*x^6291 + 11*x^6290 + 97*x^6289 + 62*x^6288 + 17*x^6287 + 117*x^6286 + 45*x^6285 + 77*x^6284 + 45*x^6283 + 116*x^6282 + 51*x^6281 + 117*x^6280 + 20*x^6279 + x^6278 + 36*x^6277 + 42*x^6276 + 49*x^6275 + 24*x^6274 + 29*x^6273 + 124*x^6272 + 82*x^6271 + 92*x^6270 + 39*x^6269 + 77*x^6268 + 24*x^6267 + 79*x^6266 + 51*x^6265 + 32*x^6264 + 13*x^6263 + 62*x^6262 + 29*x^6261 + 99*x^6260 + 110*x^6259 + 52*x^6258 + 22*x^6257 + 94*x^6256 + 19*x^6255 + 49*x^6254 + 109*x^6253 + 70*x^6252 + 98*x^6251 + 114*x^6250 + 12*x^6249 + 59*x^6248 + 14*x^6247 + 50*x^6246 + 71*x^6245 + 55*x^6244 + 98*x^6243 + 12*x^6242 + 52*x^6241 + 87*x^6240 + 106*x^6239 + 100*x^6238 + 24*x^6237 + 105*x^6236 + 123*x^6235 + 63*x^6234 + 67*x^6233 + 104*x^6232 + 18*x^6231 + 103*x^6230 + 23*x^6229 + 16*x^6228 + 67*x^6227 + 96*x^6226 + 34*x^6225 + 50*x^6224 + 58*x^6223 + 13*x^6222 + 30*x^6221 + 14*x^6220 + 28*x^6219 + 21*x^6218 + 42*x^6217 + 38*x^6216 + 23*x^6215 + 16*x^6214 + 19*x^6213 + 57*x^6212 + 26*x^6211 + 56*x^6210 + 46*x^6209 + 92*x^6208 + 11*x^6207 + 63*x^6206 + 41*x^6205 + 75*x^6204 + 46*x^6203 + 21*x^6202 + 79*x^6201 + 52*x^6200 + 12*x^6199 + 93*x^6198 + 14*x^6197 + 123*x^6196 + 103*x^6195 + 94*x^6194 + 7*x^6193 + 47*x^6192 + 112*x^6191 + 18*x^6190 + 28*x^6189 + 2*x^6188 + 93*x^6187 + 18*x^6186 + 7*x^6185 + 89*x^6184 + 116*x^6183 + 100*x^6182 + 15*x^6181 + 30*x^6180 + 37*x^6179 + 125*x^6178 + 92*x^6177 + 64*x^6176 + 103*x^6175 + 7*x^6174 + 84*x^6173 + 76*x^6172 + 113*x^6171 + 66*x^6170 + 12*x^6169 + 4*x^6168 + 34*x^6167 + 39*x^6166 + 115*x^6165 + 4*x^6164 + 73*x^6163 + 73*x^6162 + 6*x^6161 + 93*x^6160 + 3*x^6159 + 59*x^6158 + 80*x^6157 + 117*x^6156 + 15*x^6155 + 100*x^6154 + 51*x^6153 + 25*x^6152 + 9*x^6151 + 38*x^6150 + 108*x^6149 + 39*x^6148 + 99*x^6147 + 23*x^6146 + 2*x^6145 + 58*x^6144 + 117*x^6143 + 71*x^6142 + 44*x^6141 + 5*x^6140 + x^6139 + 108*x^6138 + 41*x^6137 + 22*x^6136 + 65*x^6135 + 30*x^6134 + 48*x^6133 + 104*x^6132 + 115*x^6131 + 27*x^6130 + 3*x^6129 + 112*x^6128 + 59*x^6127 + 18*x^6126 + 41*x^6125 + 67*x^6124 + 40*x^6123 + 43*x^6122 + 116*x^6121 + 12*x^6120 + 7*x^6119 + 93*x^6118 + 50*x^6117 + 82*x^6116 + 30*x^6115 + 35*x^6114 + 68*x^6113 + 103*x^6112 + 62*x^6111 + 49*x^6110 + 75*x^6109 + 103*x^6108 + 64*x^6107 + 77*x^6106 + 5*x^6105 + 17*x^6104 + 107*x^6103 + 28*x^6102 + 113*x^6101 + 22*x^6100 + 109*x^6099 + 87*x^6098 + 109*x^6097 + 50*x^6096 + 56*x^6095 + 65*x^6094 + 6*x^6093 + 91*x^6092 + 25*x^6091 + 2*x^6090 + 75*x^6089 + 107*x^6088 + 108*x^6087 + 88*x^6086 + 52*x^6085 + 58*x^6084 + 37*x^6083 + 74*x^6082 + 2*x^6081 + 31*x^6080 + 69*x^6079 + 2*x^6078 + 34*x^6077 + 126*x^6076 + 67*x^6075 + 40*x^6074 + 47*x^6073 + 100*x^6072 + 107*x^6071 + 34*x^6070 + 50*x^6069 + 34*x^6068 + 86*x^6067 + 105*x^6066 + 126*x^6065 + 97*x^6064 + 74*x^6063 + 37*x^6062 + 80*x^6061 + 73*x^6060 + 97*x^6059 + 5*x^6058 + 89*x^6057 + 3*x^6056 + 23*x^6055 + 39*x^6054 + 70*x^6053 + 95*x^6052 + 102*x^6051 + 72*x^6050 + 32*x^6049 + 20*x^6048 + 102*x^6047 + 71*x^6046 + 45*x^6045 + 66*x^6044 + 122*x^6043 + 81*x^6042 + 120*x^6041 + 80*x^6040 + 30*x^6039 + 119*x^6038 + 14*x^6037 + 22*x^6036 + 80*x^6035 + 31*x^6034 + 117*x^6033 + 50*x^6032 + 7*x^6031 + 52*x^6030 + 68*x^6029 + 16*x^6028 + 120*x^6027 + 8*x^6026 + 27*x^6025 + 42*x^6024 + 44*x^6023 + 102*x^6022 + 92*x^6021 + 12*x^6020 + 3*x^6019 + 68*x^6018 + 50*x^6017 + 81*x^6016 + 31*x^6015 + 49*x^6014 + 123*x^6013 + 52*x^6012 + 80*x^6011 + 85*x^6010 + 20*x^6009 + 57*x^6008 + 93*x^6007 + 109*x^6006 + 116*x^6005 + 33*x^6004 + 101*x^6003 + 12*x^6002 + 37*x^6001 + 76*x^6000 + 29*x^5999 + 121*x^5998 + 64*x^5997 + 66*x^5996 + 70*x^5995 + 2*x^5994 + 101*x^5993 + 63*x^5992 + 3*x^5991 + 46*x^5990 + 38*x^5989 + 125*x^5988 + 33*x^5987 + 113*x^5986 + 31*x^5985 + 112*x^5984 + 106*x^5983 + 71*x^5982 + 103*x^5981 + 98*x^5980 + 14*x^5979 + 64*x^5978 + 113*x^5977 + 99*x^5976 + 90*x^5975 + 51*x^5974 + 56*x^5973 + 13*x^5972 + 4*x^5971 + 53*x^5970 + 47*x^5969 + 110*x^5968 + 76*x^5967 + 92*x^5966 + 103*x^5965 + 83*x^5964 + 30*x^5963 + 107*x^5962 + 106*x^5961 + 65*x^5960 + 5*x^5959 + 25*x^5958 + 117*x^5957 + 48*x^5956 + 74*x^5955 + 60*x^5954 + 123*x^5953 + 93*x^5952 + 118*x^5951 + 64*x^5950 + 107*x^5949 + 44*x^5948 + 33*x^5947 + 32*x^5946 + 109*x^5945 + 85*x^5944 + 52*x^5942 + 18*x^5941 + 88*x^5940 + 33*x^5939 + 37*x^5938 + 45*x^5937 + 46*x^5936 + 70*x^5935 + 116*x^5934 + 98*x^5933 + 6*x^5932 + 22*x^5931 + 18*x^5930 + 59*x^5929 + 11*x^5928 + 61*x^5927 + 10*x^5926 + 48*x^5925 + 77*x^5924 + 109*x^5923 + 104*x^5922 + 59*x^5921 + 27*x^5920 + 105*x^5919 + 120*x^5918 + 7*x^5917 + 43*x^5916 + 66*x^5915 + 124*x^5914 + 43*x^5913 + 80*x^5912 + 70*x^5911 + 12*x^5910 + 85*x^5909 + 120*x^5908 + 62*x^5907 + 13*x^5906 + 92*x^5905 + 71*x^5904 + 98*x^5903 + 33*x^5902 + 58*x^5901 + 118*x^5900 + 8*x^5899 + 65*x^5898 + 48*x^5897 + 118*x^5896 + 35*x^5895 + 15*x^5894 + 45*x^5893 + 33*x^5892 + 8*x^5891 + 109*x^5890 + 119*x^5889 + 42*x^5888 + 66*x^5887 + 103*x^5886 + 31*x^5885 + 27*x^5884 + 4*x^5883 + 88*x^5882 + 32*x^5881 + 119*x^5880 + 64*x^5879 + 4*x^5878 + 3*x^5877 + 33*x^5876 + 70*x^5875 + 46*x^5874 + 31*x^5873 + 55*x^5872 + 42*x^5871 + 24*x^5870 + 119*x^5869 + 18*x^5868 + 31*x^5867 + 58*x^5866 + 87*x^5865 + 13*x^5864 + 79*x^5863 + 50*x^5862 + 86*x^5861 + 39*x^5860 + 26*x^5859 + 40*x^5858 + 111*x^5857 + 11*x^5856 + 60*x^5855 + 106*x^5854 + 122*x^5853 + 92*x^5852 + 104*x^5851 + 20*x^5850 + 78*x^5849 + 11*x^5848 + 124*x^5847 + 122*x^5846 + 126*x^5845 + 33*x^5844 + 73*x^5843 + x^5842 + x^5841 + 16*x^5840 + 46*x^5839 + 73*x^5838 + 115*x^5837 + 74*x^5836 + 88*x^5835 + 10*x^5834 + 98*x^5833 + 20*x^5832 + 46*x^5831 + 109*x^5830 + 87*x^5829 + 114*x^5828 + 35*x^5827 + 77*x^5826 + 28*x^5825 + 13*x^5824 + 46*x^5823 + 101*x^5822 + 69*x^5821 + 82*x^5820 + 36*x^5819 + 24*x^5818 + 70*x^5817 + 118*x^5816 + 112*x^5815 + 8*x^5814 + 124*x^5813 + 60*x^5812 + 82*x^5811 + 105*x^5810 + 85*x^5809 + 100*x^5808 + 103*x^5807 + 46*x^5806 + 77*x^5805 + 104*x^5804 + 71*x^5803 + 31*x^5802 + 41*x^5801 + 105*x^5800 + 73*x^5799 + 9*x^5798 + 65*x^5797 + 21*x^5796 + x^5795 + 109*x^5794 + 73*x^5793 + 52*x^5792 + 12*x^5791 + 111*x^5790 + 21*x^5789 + 8*x^5788 + 80*x^5787 + 27*x^5786 + 124*x^5785 + 7*x^5784 + 34*x^5783 + 103*x^5782 + 50*x^5781 + 40*x^5780 + 12*x^5779 + 55*x^5778 + 23*x^5777 + 7*x^5776 + 5*x^5775 + 17*x^5774 + 117*x^5773 + 16*x^5772 + 49*x^5771 + 75*x^5770 + 34*x^5769 + 88*x^5768 + 78*x^5767 + 101*x^5766 + 88*x^5765 + 29*x^5764 + 79*x^5763 + 116*x^5762 + 83*x^5761 + 56*x^5760 + 105*x^5759 + 38*x^5758 + 49*x^5757 + 27*x^5756 + 51*x^5755 + 84*x^5754 + 107*x^5753 + 28*x^5752 + 68*x^5751 + 121*x^5750 + 27*x^5749 + 45*x^5748 + 5*x^5747 + 23*x^5746 + 108*x^5745 + 70*x^5744 + 43*x^5743 + 71*x^5742 + 20*x^5741 + 121*x^5740 + 109*x^5739 + 68*x^5738 + 28*x^5737 + 6*x^5736 + 67*x^5735 + 108*x^5734 + 16*x^5733 + 61*x^5732 + 34*x^5731 + 112*x^5730 + 44*x^5729 + 105*x^5728 + 68*x^5727 + 56*x^5726 + 13*x^5725 + 108*x^5724 + 47*x^5723 + 25*x^5722 + 26*x^5721 + 71*x^5720 + 90*x^5719 + 34*x^5718 + 29*x^5717 + 108*x^5716 + 25*x^5715 + 111*x^5714 + 50*x^5713 + 28*x^5712 + 61*x^5711 + 41*x^5710 + 6*x^5709 + 14*x^5708 + 70*x^5707 + 87*x^5706 + 72*x^5705 + 32*x^5704 + 22*x^5703 + 120*x^5702 + 39*x^5701 + 110*x^5700 + 101*x^5699 + 37*x^5698 + 113*x^5697 + 76*x^5696 + 20*x^5695 + 94*x^5694 + 67*x^5693 + 33*x^5692 + 91*x^5691 + 78*x^5690 + 26*x^5689 + 68*x^5688 + 58*x^5687 + 75*x^5686 + 87*x^5685 + 48*x^5684 + 121*x^5683 + 113*x^5682 + 62*x^5681 + 111*x^5680 + 115*x^5679 + 53*x^5678 + 56*x^5677 + 55*x^5676 + 117*x^5675 + 52*x^5674 + 39*x^5673 + 112*x^5672 + 12*x^5671 + 90*x^5670 + 64*x^5669 + 55*x^5668 + 11*x^5667 + 67*x^5666 + 116*x^5665 + 35*x^5664 + 85*x^5663 + 45*x^5662 + 119*x^5661 + 82*x^5660 + 59*x^5659 + 26*x^5658 + 56*x^5657 + 114*x^5656 + 86*x^5655 + 73*x^5654 + 125*x^5653 + 85*x^5652 + 124*x^5651 + 69*x^5650 + 102*x^5649 + 35*x^5648 + 88*x^5647 + 35*x^5646 + 79*x^5645 + 29*x^5644 + 20*x^5643 + 12*x^5642 + 119*x^5641 + x^5640 + 33*x^5639 + 44*x^5638 + 72*x^5637 + 7*x^5636 + 34*x^5635 + 16*x^5634 + 121*x^5633 + 14*x^5632 + 90*x^5631 + 49*x^5630 + 94*x^5629 + 37*x^5628 + 55*x^5627 + 24*x^5626 + 32*x^5625 + 28*x^5624 + 123*x^5623 + 111*x^5622 + 88*x^5621 + 98*x^5620 + 108*x^5619 + 37*x^5618 + 24*x^5617 + 123*x^5616 + 91*x^5615 + 90*x^5614 + 105*x^5613 + 92*x^5612 + 6*x^5611 + 121*x^5610 + 47*x^5609 + 92*x^5608 + 61*x^5607 + 21*x^5606 + 55*x^5605 + 12*x^5604 + 45*x^5603 + 23*x^5602 + 48*x^5601 + 27*x^5600 + 37*x^5599 + 88*x^5598 + 86*x^5597 + 4*x^5596 + 59*x^5595 + 108*x^5594 + 28*x^5593 + 87*x^5592 + 63*x^5591 + 115*x^5590 + 41*x^5589 + 13*x^5588 + 76*x^5587 + 46*x^5586 + 85*x^5585 + 86*x^5584 + 58*x^5583 + 61*x^5582 + 123*x^5581 + 23*x^5580 + 104*x^5579 + 63*x^5578 + 98*x^5577 + 80*x^5576 + 52*x^5575 + 49*x^5574 + 51*x^5573 + 32*x^5572 + 31*x^5571 + 10*x^5570 + 59*x^5569 + 88*x^5568 + 54*x^5567 + 69*x^5566 + 28*x^5565 + 106*x^5564 + 54*x^5563 + 115*x^5562 + 28*x^5561 + 79*x^5560 + 12*x^5559 + 88*x^5558 + 39*x^5557 + 96*x^5556 + 15*x^5555 + 83*x^5554 + 15*x^5553 + 33*x^5552 + 40*x^5551 + 24*x^5550 + 68*x^5549 + 115*x^5548 + 15*x^5547 + 96*x^5546 + 30*x^5545 + 49*x^5544 + 38*x^5543 + 57*x^5542 + 73*x^5540 + 56*x^5539 + 43*x^5538 + 56*x^5537 + 94*x^5536 + 22*x^5534 + 27*x^5533 + 95*x^5532 + 46*x^5531 + 45*x^5530 + 52*x^5529 + 26*x^5528 + 120*x^5527 + 55*x^5526 + 126*x^5525 + 5*x^5524 + 97*x^5523 + 25*x^5522 + 52*x^5521 + 19*x^5520 + 85*x^5519 + 55*x^5518 + 56*x^5517 + 55*x^5516 + 103*x^5515 + 34*x^5514 + 17*x^5513 + 101*x^5512 + 30*x^5511 + 123*x^5510 + 23*x^5509 + 81*x^5508 + 45*x^5507 + 39*x^5506 + 116*x^5505 + 68*x^5504 + 24*x^5503 + 86*x^5502 + 59*x^5501 + 87*x^5500 + 58*x^5499 + 115*x^5498 + 44*x^5497 + 6*x^5496 + 68*x^5495 + 103*x^5494 + 66*x^5493 + 78*x^5492 + 19*x^5491 + 59*x^5490 + 96*x^5489 + 51*x^5488 + 78*x^5487 + 7*x^5486 + 29*x^5485 + 83*x^5484 + 110*x^5483 + 111*x^5482 + 58*x^5481 + 55*x^5480 + 32*x^5479 + 21*x^5478 + 46*x^5477 + 43*x^5476 + 103*x^5475 + 55*x^5474 + 89*x^5473 + 120*x^5472 + 27*x^5471 + 122*x^5470 + 76*x^5469 + 75*x^5468 + 82*x^5467 + 50*x^5466 + 37*x^5465 + 90*x^5464 + 116*x^5463 + 22*x^5462 + 5*x^5461 + 47*x^5460 + 42*x^5459 + 15*x^5458 + 94*x^5457 + 58*x^5456 + 69*x^5455 + 68*x^5454 + 39*x^5453 + 10*x^5452 + 115*x^5451 + 93*x^5450 + 126*x^5449 + 75*x^5448 + 88*x^5447 + 85*x^5446 + 114*x^5445 + 58*x^5444 + 12*x^5443 + 122*x^5442 + 14*x^5441 + 64*x^5440 + 103*x^5439 + 126*x^5438 + 75*x^5437 + 83*x^5436 + 70*x^5435 + 49*x^5434 + 10*x^5433 + 7*x^5432 + 114*x^5431 + 51*x^5430 + 107*x^5429 + 59*x^5428 + 101*x^5427 + 126*x^5426 + 111*x^5424 + 11*x^5423 + 83*x^5422 + 88*x^5421 + 27*x^5420 + 21*x^5419 + 20*x^5418 + 40*x^5417 + 112*x^5416 + 81*x^5415 + 53*x^5414 + 116*x^5413 + 86*x^5412 + 9*x^5411 + 4*x^5410 + 19*x^5409 + 28*x^5408 + 70*x^5407 + 25*x^5406 + 25*x^5405 + 114*x^5404 + 51*x^5403 + 33*x^5402 + 108*x^5401 + 41*x^5400 + 45*x^5399 + 121*x^5398 + 109*x^5397 + 85*x^5396 + 122*x^5395 + 11*x^5394 + 77*x^5393 + 104*x^5392 + 122*x^5391 + 34*x^5390 + 36*x^5389 + 100*x^5388 + 109*x^5387 + 85*x^5386 + 102*x^5385 + 3*x^5384 + 20*x^5383 + 94*x^5382 + 5*x^5381 + 70*x^5380 + 119*x^5379 + 13*x^5378 + 90*x^5377 + 115*x^5376 + 97*x^5375 + 99*x^5374 + 122*x^5373 + 114*x^5372 + 91*x^5371 + 73*x^5370 + 66*x^5369 + 118*x^5368 + 11*x^5367 + 126*x^5366 + 81*x^5365 + 74*x^5364 + 23*x^5363 + 100*x^5362 + 56*x^5361 + 45*x^5360 + 6*x^5359 + 37*x^5358 + 77*x^5357 + 124*x^5356 + 113*x^5355 + 27*x^5354 + 114*x^5353 + 94*x^5352 + 9*x^5351 + 68*x^5350 + 58*x^5349 + 120*x^5348 + 120*x^5347 + 66*x^5346 + 122*x^5345 + 15*x^5344 + 24*x^5343 + 103*x^5342 + 99*x^5341 + 44*x^5340 + 59*x^5339 + 80*x^5338 + 22*x^5337 + 57*x^5336 + 109*x^5335 + 79*x^5334 + 80*x^5333 + 8*x^5332 + 68*x^5331 + 60*x^5330 + 10*x^5329 + 31*x^5328 + 107*x^5327 + 89*x^5326 + 67*x^5325 + 16*x^5324 + 117*x^5323 + 34*x^5322 + 109*x^5321 + 2*x^5320 + 114*x^5319 + 3*x^5318 + 117*x^5317 + 96*x^5316 + 59*x^5315 + 121*x^5314 + 76*x^5313 + 23*x^5312 + 36*x^5311 + 95*x^5310 + 14*x^5309 + 46*x^5308 + 120*x^5307 + 17*x^5306 + 15*x^5305 + 88*x^5304 + 41*x^5303 + 66*x^5302 + 44*x^5301 + 20*x^5300 + 6*x^5299 + 79*x^5298 + 89*x^5297 + 102*x^5296 + 5*x^5295 + 105*x^5294 + 20*x^5293 + 93*x^5292 + 28*x^5291 + 34*x^5290 + 8*x^5289 + 124*x^5288 + 97*x^5287 + 81*x^5286 + 104*x^5285 + 4*x^5284 + 25*x^5283 + 125*x^5282 + 107*x^5281 + 39*x^5280 + 34*x^5279 + 72*x^5278 + 25*x^5277 + 15*x^5276 + 27*x^5275 + 5*x^5274 + 21*x^5273 + x^5272 + 25*x^5271 + 79*x^5270 + 66*x^5269 + 16*x^5268 + 7*x^5267 + 43*x^5266 + 26*x^5265 + 70*x^5264 + 14*x^5263 + 64*x^5262 + 64*x^5261 + 22*x^5260 + 16*x^5259 + 89*x^5258 + 13*x^5257 + 21*x^5256 + 124*x^5255 + 24*x^5254 + 112*x^5253 + 3*x^5252 + 75*x^5251 + 65*x^5250 + 57*x^5249 + 19*x^5248 + 99*x^5247 + 119*x^5246 + 10*x^5245 + 93*x^5244 + 40*x^5243 + 109*x^5242 + 73*x^5241 + 66*x^5240 + 77*x^5239 + 24*x^5238 + 43*x^5237 + 3*x^5236 + 24*x^5235 + 116*x^5234 + 122*x^5233 + 27*x^5232 + 112*x^5231 + 8*x^5230 + 75*x^5229 + 41*x^5228 + 57*x^5227 + 3*x^5226 + 55*x^5225 + 88*x^5224 + 57*x^5223 + 105*x^5222 + 49*x^5221 + 91*x^5220 + 98*x^5219 + 30*x^5218 + 100*x^5217 + 51*x^5216 + 114*x^5215 + 105*x^5214 + 86*x^5213 + 77*x^5212 + 39*x^5211 + 113*x^5210 + 52*x^5209 + 79*x^5208 + 63*x^5207 + 97*x^5206 + 41*x^5205 + 62*x^5204 + 84*x^5203 + 46*x^5202 + 24*x^5201 + 102*x^5200 + 98*x^5199 + x^5198 + 50*x^5197 + 28*x^5196 + 50*x^5195 + 82*x^5194 + 33*x^5193 + 75*x^5192 + 114*x^5191 + 4*x^5190 + 55*x^5189 + 69*x^5188 + 24*x^5187 + 6*x^5186 + 121*x^5185 + x^5184 + 46*x^5183 + 40*x^5182 + 28*x^5181 + 21*x^5180 + 85*x^5179 + 81*x^5178 + 56*x^5177 + 8*x^5176 + 37*x^5175 + 59*x^5174 + 29*x^5173 + 74*x^5172 + 125*x^5171 + 41*x^5170 + 104*x^5169 + 75*x^5168 + 97*x^5167 + 103*x^5166 + 99*x^5165 + 40*x^5164 + 104*x^5163 + 84*x^5162 + 19*x^5161 + 114*x^5160 + 96*x^5159 + 6*x^5158 + 95*x^5157 + 94*x^5156 + 53*x^5155 + 98*x^5154 + 107*x^5153 + 103*x^5152 + 73*x^5151 + 124*x^5150 + 27*x^5149 + 48*x^5148 + 57*x^5147 + 50*x^5146 + 100*x^5145 + 76*x^5144 + 41*x^5143 + 26*x^5142 + 35*x^5141 + 3*x^5140 + 66*x^5139 + 68*x^5138 + 23*x^5137 + 112*x^5136 + 28*x^5135 + 121*x^5134 + 2*x^5133 + 100*x^5132 + 116*x^5131 + 111*x^5130 + 112*x^5129 + 81*x^5128 + 27*x^5127 + 95*x^5126 + 63*x^5125 + 25*x^5124 + 15*x^5123 + 81*x^5122 + 86*x^5121 + 57*x^5120 + 65*x^5119 + 43*x^5118 + 12*x^5117 + 90*x^5116 + 89*x^5115 + 6*x^5114 + 79*x^5113 + 109*x^5112 + 24*x^5111 + 32*x^5110 + 82*x^5109 + 15*x^5108 + 118*x^5107 + 106*x^5106 + 5*x^5105 + 46*x^5104 + 38*x^5103 + 90*x^5102 + 31*x^5101 + 76*x^5100 + 84*x^5099 + 64*x^5098 + 51*x^5097 + 123*x^5096 + 92*x^5095 + 9*x^5094 + 74*x^5093 + 44*x^5092 + 88*x^5091 + 76*x^5090 + 18*x^5089 + 46*x^5088 + 60*x^5087 + 81*x^5086 + 100*x^5085 + 54*x^5084 + 55*x^5083 + 36*x^5082 + 120*x^5081 + 121*x^5080 + 42*x^5079 + 25*x^5078 + 118*x^5077 + 59*x^5076 + 14*x^5075 + 37*x^5074 + 17*x^5073 + 29*x^5072 + 31*x^5071 + 61*x^5070 + 42*x^5069 + 26*x^5068 + 105*x^5067 + 100*x^5066 + 37*x^5065 + 22*x^5064 + 119*x^5063 + 26*x^5062 + 60*x^5061 + 84*x^5060 + 34*x^5059 + 52*x^5058 + 66*x^5057 + x^5056 + 31*x^5055 + 6*x^5054 + 45*x^5053 + 7*x^5052 + 106*x^5051 + 42*x^5050 + 56*x^5049 + 95*x^5048 + 84*x^5047 + 21*x^5046 + 60*x^5045 + 87*x^5044 + 69*x^5043 + 98*x^5042 + 53*x^5041 + 119*x^5040 + 52*x^5039 + 26*x^5038 + 91*x^5037 + 23*x^5036 + 116*x^5035 + 68*x^5034 + 56*x^5033 + 13*x^5032 + 25*x^5031 + 94*x^5030 + 94*x^5029 + 79*x^5028 + 40*x^5027 + 58*x^5026 + 16*x^5025 + 55*x^5024 + 105*x^5023 + 80*x^5022 + 62*x^5021 + 44*x^5020 + 123*x^5019 + 32*x^5018 + 34*x^5017 + 58*x^5016 + 15*x^5015 + x^5014 + 115*x^5013 + 16*x^5012 + 48*x^5011 + 117*x^5010 + 49*x^5009 + 57*x^5008 + 61*x^5007 + 89*x^5006 + 106*x^5005 + 124*x^5004 + 65*x^5003 + 7*x^5002 + 117*x^5001 + 110*x^5000 + x^4999 + 85*x^4998 + 29*x^4997 + 9*x^4996 + 124*x^4995 + 16*x^4994 + 93*x^4993 + 107*x^4992 + 56*x^4991 + 92*x^4990 + 6*x^4989 + 91*x^4988 + 117*x^4987 + 113*x^4986 + 68*x^4985 + 14*x^4984 + 11*x^4983 + 3*x^4982 + 91*x^4981 + 20*x^4980 + 70*x^4979 + 29*x^4978 + 108*x^4977 + 120*x^4976 + 35*x^4975 + 107*x^4974 + 41*x^4973 + 91*x^4972 + 108*x^4971 + 11*x^4970 + 30*x^4968 + 13*x^4967 + 120*x^4966 + 16*x^4965 + 120*x^4964 + 107*x^4963 + 44*x^4962 + 73*x^4961 + 64*x^4960 + 33*x^4959 + 79*x^4958 + 18*x^4957 + 114*x^4956 + 103*x^4954 + 11*x^4953 + 44*x^4952 + 113*x^4951 + 97*x^4950 + 83*x^4949 + 112*x^4948 + 54*x^4947 + 73*x^4946 + 41*x^4945 + 116*x^4944 + 10*x^4943 + 93*x^4942 + 25*x^4941 + 75*x^4940 + 79*x^4939 + 73*x^4938 + 10*x^4937 + 10*x^4936 + 72*x^4935 + 17*x^4934 + 47*x^4933 + 15*x^4932 + 76*x^4931 + x^4929 + 65*x^4928 + 75*x^4927 + 50*x^4926 + 31*x^4925 + 27*x^4924 + 52*x^4923 + 24*x^4922 + 105*x^4921 + 82*x^4920 + 30*x^4919 + 69*x^4918 + 69*x^4917 + 99*x^4916 + 60*x^4915 + 62*x^4914 + 81*x^4913 + 69*x^4912 + 32*x^4911 + 114*x^4910 + 21*x^4909 + 113*x^4908 + 73*x^4907 + 83*x^4906 + 77*x^4905 + x^4904 + 3*x^4903 + 115*x^4902 + 7*x^4901 + 39*x^4900 + 72*x^4899 + 25*x^4898 + 99*x^4897 + 113*x^4896 + 9*x^4895 + 77*x^4894 + 38*x^4893 + 9*x^4892 + 46*x^4891 + 73*x^4890 + 69*x^4889 + 38*x^4888 + 95*x^4887 + 70*x^4886 + 96*x^4885 + 90*x^4884 + 3*x^4883 + 90*x^4882 + 38*x^4881 + 117*x^4880 + 14*x^4879 + 117*x^4878 + 50*x^4877 + 58*x^4876 + 74*x^4875 + 116*x^4874 + 48*x^4873 + 94*x^4872 + 19*x^4871 + 34*x^4870 + 37*x^4869 + 63*x^4868 + 15*x^4867 + 73*x^4866 + 124*x^4865 + 81*x^4864 + 116*x^4863 + 69*x^4862 + 82*x^4861 + 116*x^4860 + 23*x^4859 + 70*x^4858 + 104*x^4857 + 89*x^4856 + 56*x^4855 + 31*x^4854 + 21*x^4853 + 78*x^4852 + 87*x^4851 + 122*x^4850 + 58*x^4849 + 32*x^4848 + 10*x^4847 + 104*x^4846 + 53*x^4845 + 74*x^4844 + 50*x^4843 + 52*x^4842 + 55*x^4841 + 108*x^4840 + 64*x^4839 + 116*x^4838 + 108*x^4837 + 125*x^4836 + 28*x^4835 + 22*x^4834 + 60*x^4833 + 26*x^4832 + 53*x^4831 + 111*x^4830 + 20*x^4829 + 75*x^4828 + 13*x^4827 + 122*x^4826 + 40*x^4825 + 22*x^4824 + 44*x^4823 + 72*x^4822 + 93*x^4821 + 67*x^4820 + 110*x^4819 + 105*x^4818 + 46*x^4817 + 71*x^4816 + 114*x^4815 + 27*x^4814 + 100*x^4813 + 23*x^4812 + 82*x^4811 + 16*x^4810 + 68*x^4809 + 82*x^4808 + 39*x^4807 + 4*x^4806 + 93*x^4805 + 67*x^4804 + 61*x^4803 + 97*x^4802 + 96*x^4801 + 84*x^4800 + 108*x^4799 + 51*x^4798 + 34*x^4797 + 54*x^4796 + 52*x^4795 + 95*x^4794 + 10*x^4793 + 51*x^4792 + 114*x^4791 + 111*x^4790 + 10*x^4789 + 111*x^4788 + 20*x^4787 + 126*x^4786 + 20*x^4785 + 71*x^4784 + 34*x^4783 + 56*x^4782 + 108*x^4781 + 15*x^4780 + 50*x^4779 + 95*x^4778 + 115*x^4777 + 67*x^4776 + 59*x^4775 + 50*x^4774 + 27*x^4773 + 19*x^4772 + 106*x^4771 + 87*x^4770 + 58*x^4769 + 74*x^4768 + 52*x^4767 + 49*x^4766 + 40*x^4765 + 90*x^4764 + 65*x^4763 + 111*x^4762 + 40*x^4761 + 23*x^4760 + 62*x^4759 + 91*x^4758 + 89*x^4757 + 44*x^4756 + 115*x^4755 + 83*x^4754 + 125*x^4753 + 29*x^4752 + 56*x^4751 + 87*x^4750 + 10*x^4749 + 51*x^4748 + 99*x^4747 + 60*x^4746 + 68*x^4745 + 92*x^4744 + 38*x^4743 + 9*x^4742 + 99*x^4741 + 85*x^4740 + 120*x^4739 + 61*x^4738 + 12*x^4737 + 90*x^4736 + 62*x^4735 + 20*x^4734 + 53*x^4733 + 96*x^4732 + 47*x^4731 + 65*x^4730 + 40*x^4729 + 97*x^4728 + 65*x^4727 + 47*x^4726 + 74*x^4725 + 43*x^4724 + 10*x^4723 + 47*x^4722 + 50*x^4721 + 27*x^4720 + 51*x^4719 + 76*x^4718 + 33*x^4717 + 89*x^4716 + 38*x^4715 + 112*x^4714 + 66*x^4713 + 27*x^4712 + 89*x^4711 + 88*x^4710 + 89*x^4709 + 50*x^4708 + 119*x^4707 + 118*x^4706 + 2*x^4705 + 99*x^4704 + 50*x^4703 + 64*x^4702 + 103*x^4701 + 44*x^4700 + 13*x^4699 + 72*x^4698 + 114*x^4697 + 29*x^4696 + 90*x^4695 + 21*x^4694 + 30*x^4693 + 2*x^4692 + 9*x^4691 + 28*x^4690 + 71*x^4689 + 54*x^4688 + 66*x^4687 + 68*x^4686 + 29*x^4685 + 92*x^4684 + 31*x^4683 + 52*x^4682 + 52*x^4681 + 81*x^4680 + 2*x^4679 + 117*x^4678 + 113*x^4677 + 85*x^4676 + 126*x^4675 + 42*x^4674 + 124*x^4673 + 71*x^4672 + 80*x^4671 + 42*x^4670 + 105*x^4669 + 30*x^4668 + 30*x^4667 + 110*x^4666 + 82*x^4665 + 35*x^4664 + 91*x^4663 + 95*x^4662 + 4*x^4661 + 21*x^4660 + 52*x^4659 + 74*x^4658 + 40*x^4657 + 2*x^4656 + 39*x^4655 + 22*x^4654 + 64*x^4653 + 96*x^4652 + 64*x^4651 + 110*x^4650 + 23*x^4649 + 76*x^4648 + 11*x^4647 + 38*x^4646 + 111*x^4645 + 3*x^4644 + 117*x^4643 + 66*x^4642 + 109*x^4641 + 67*x^4640 + 66*x^4639 + 115*x^4638 + 22*x^4637 + 116*x^4636 + 68*x^4635 + 125*x^4634 + 78*x^4633 + 59*x^4632 + 73*x^4631 + 20*x^4630 + 34*x^4629 + 26*x^4628 + 100*x^4627 + 22*x^4626 + 124*x^4625 + 31*x^4624 + 39*x^4623 + 55*x^4622 + 76*x^4621 + 94*x^4620 + 107*x^4619 + 65*x^4618 + 113*x^4617 + 53*x^4616 + 97*x^4615 + 32*x^4614 + 2*x^4612 + 28*x^4611 + 107*x^4610 + 103*x^4609 + 38*x^4608 + 5*x^4607 + 47*x^4606 + 123*x^4605 + 47*x^4604 + 39*x^4603 + 125*x^4602 + 7*x^4601 + 121*x^4600 + 29*x^4599 + 94*x^4598 + 32*x^4597 + 17*x^4596 + 9*x^4595 + 6*x^4594 + 63*x^4593 + 36*x^4592 + 52*x^4591 + 26*x^4590 + 56*x^4589 + 47*x^4588 + 99*x^4587 + 97*x^4586 + 82*x^4585 + 75*x^4584 + 31*x^4583 + 21*x^4582 + 56*x^4581 + 24*x^4580 + 117*x^4579 + 110*x^4578 + 70*x^4577 + 30*x^4576 + 29*x^4575 + 10*x^4574 + 116*x^4573 + 12*x^4572 + 112*x^4571 + 95*x^4570 + 20*x^4569 + 48*x^4568 + 124*x^4567 + 29*x^4566 + 45*x^4565 + 108*x^4564 + 10*x^4563 + 20*x^4562 + 105*x^4561 + 50*x^4560 + 47*x^4559 + 4*x^4558 + 80*x^4557 + 75*x^4556 + 111*x^4555 + 8*x^4554 + 50*x^4553 + 25*x^4552 + 24*x^4551 + 13*x^4550 + 31*x^4549 + 28*x^4548 + 28*x^4547 + 39*x^4546 + 123*x^4545 + 79*x^4544 + 83*x^4543 + 65*x^4542 + 90*x^4541 + 80*x^4540 + 81*x^4539 + 61*x^4538 + 66*x^4537 + 107*x^4536 + 94*x^4535 + 69*x^4534 + 9*x^4533 + 42*x^4532 + 52*x^4531 + 5*x^4530 + 48*x^4529 + 37*x^4528 + 72*x^4527 + 81*x^4526 + 64*x^4525 + 24*x^4524 + 106*x^4523 + 67*x^4522 + 63*x^4521 + 111*x^4520 + 48*x^4519 + 30*x^4518 + 38*x^4517 + 9*x^4516 + 34*x^4515 + 57*x^4514 + 29*x^4513 + 94*x^4512 + 9*x^4511 + 45*x^4510 + x^4509 + 79*x^4508 + 58*x^4507 + 126*x^4506 + 49*x^4505 + 77*x^4504 + 17*x^4503 + 6*x^4502 + 109*x^4501 + 59*x^4500 + 74*x^4499 + 9*x^4498 + 4*x^4497 + 66*x^4496 + 6*x^4495 + 22*x^4494 + 114*x^4493 + 37*x^4492 + 8*x^4491 + 24*x^4490 + 79*x^4489 + 55*x^4488 + 2*x^4487 + 85*x^4486 + 35*x^4485 + 99*x^4484 + 3*x^4483 + 115*x^4482 + 21*x^4481 + 25*x^4480 + 8*x^4479 + 35*x^4478 + 7*x^4477 + 8*x^4476 + 50*x^4475 + 113*x^4474 + 77*x^4473 + 80*x^4472 + 122*x^4471 + 66*x^4470 + 97*x^4469 + 112*x^4468 + 27*x^4467 + 31*x^4466 + 112*x^4465 + 19*x^4464 + 56*x^4463 + 52*x^4462 + 114*x^4461 + 111*x^4460 + 108*x^4459 + 38*x^4458 + 73*x^4457 + 41*x^4456 + 8*x^4455 + 28*x^4454 + 121*x^4453 + 66*x^4452 + 37*x^4451 + 21*x^4450 + 106*x^4449 + 81*x^4448 + 110*x^4447 + x^4446 + 126*x^4445 + 120*x^4444 + 90*x^4443 + 50*x^4442 + 108*x^4441 + 78*x^4440 + 67*x^4439 + 49*x^4438 + 75*x^4437 + 46*x^4436 + 70*x^4435 + 91*x^4434 + 104*x^4433 + 53*x^4432 + 7*x^4431 + 51*x^4430 + 10*x^4429 + 69*x^4428 + 71*x^4427 + 96*x^4426 + 68*x^4425 + 50*x^4424 + 124*x^4423 + 41*x^4422 + 75*x^4421 + 6*x^4420 + 84*x^4419 + 66*x^4418 + 69*x^4417 + 95*x^4416 + 125*x^4415 + 31*x^4414 + 110*x^4413 + 107*x^4412 + 45*x^4411 + 7*x^4410 + 41*x^4409 + 20*x^4408 + 97*x^4407 + 26*x^4406 + 64*x^4405 + 122*x^4404 + 5*x^4403 + 101*x^4402 + 29*x^4401 + x^4400 + 10*x^4399 + 124*x^4398 + 31*x^4397 + 95*x^4396 + 96*x^4395 + 53*x^4394 + 24*x^4393 + 72*x^4392 + 31*x^4391 + 27*x^4390 + 85*x^4389 + 92*x^4388 + 90*x^4387 + 93*x^4386 + 19*x^4385 + 23*x^4384 + 95*x^4383 + 83*x^4382 + 26*x^4381 + 23*x^4380 + 91*x^4379 + 69*x^4378 + 81*x^4377 + 31*x^4376 + 58*x^4375 + 94*x^4374 + 72*x^4373 + 28*x^4372 + 55*x^4371 + 13*x^4370 + 109*x^4369 + 74*x^4368 + 71*x^4367 + 5*x^4366 + 56*x^4365 + 76*x^4364 + 116*x^4363 + 23*x^4362 + 125*x^4361 + 124*x^4360 + 21*x^4359 + 71*x^4358 + 92*x^4357 + 46*x^4356 + 8*x^4355 + 58*x^4354 + 104*x^4353 + 16*x^4352 + 39*x^4351 + 36*x^4350 + 29*x^4349 + 85*x^4348 + 41*x^4347 + 38*x^4346 + 27*x^4345 + 28*x^4344 + 52*x^4343 + 89*x^4342 + 4*x^4341 + 48*x^4339 + 70*x^4338 + 71*x^4337 + 95*x^4336 + 84*x^4335 + 57*x^4334 + 7*x^4333 + 65*x^4332 + 103*x^4331 + 61*x^4330 + 111*x^4329 + 19*x^4328 + 6*x^4327 + 90*x^4326 + 85*x^4325 + 120*x^4324 + 85*x^4323 + x^4322 + 125*x^4321 + 98*x^4320 + 27*x^4319 + 71*x^4318 + 64*x^4317 + 93*x^4316 + 32*x^4315 + 75*x^4314 + 61*x^4313 + 64*x^4312 + 66*x^4311 + 96*x^4310 + 33*x^4309 + x^4308 + 59*x^4307 + 9*x^4306 + 84*x^4305 + x^4304 + 42*x^4303 + 78*x^4302 + 105*x^4301 + 94*x^4300 + 90*x^4299 + 59*x^4298 + 6*x^4297 + 80*x^4296 + 10*x^4295 + 33*x^4294 + 17*x^4293 + 100*x^4292 + 117*x^4291 + 23*x^4290 + 6*x^4289 + 88*x^4288 + 69*x^4287 + 73*x^4286 + 109*x^4285 + 82*x^4284 + 96*x^4283 + 45*x^4282 + 45*x^4281 + 8*x^4280 + 113*x^4279 + 106*x^4278 + 89*x^4277 + 17*x^4276 + 115*x^4275 + 40*x^4274 + 59*x^4273 + 25*x^4272 + 25*x^4271 + 45*x^4270 + 17*x^4269 + 11*x^4268 + 95*x^4267 + 33*x^4266 + 40*x^4265 + 21*x^4264 + 44*x^4263 + 107*x^4262 + 37*x^4261 + 5*x^4260 + 49*x^4259 + 65*x^4258 + 35*x^4257 + 75*x^4256 + 43*x^4255 + 31*x^4254 + 30*x^4253 + 44*x^4252 + 103*x^4251 + 74*x^4250 + 87*x^4249 + 18*x^4248 + 54*x^4247 + 13*x^4246 + 2*x^4245 + 5*x^4244 + 24*x^4243 + 6*x^4242 + 126*x^4241 + 125*x^4240 + 74*x^4239 + 14*x^4238 + 126*x^4237 + 52*x^4236 + 102*x^4235 + 103*x^4233 + 76*x^4232 + 115*x^4231 + 100*x^4230 + 26*x^4229 + 25*x^4228 + 95*x^4227 + 80*x^4226 + 31*x^4225 + 124*x^4224 + 58*x^4223 + 116*x^4222 + 83*x^4221 + 37*x^4220 + 42*x^4219 + 63*x^4218 + 9*x^4217 + 54*x^4216 + 12*x^4215 + 100*x^4214 + 45*x^4213 + 14*x^4212 + 37*x^4211 + 87*x^4210 + 36*x^4209 + 66*x^4208 + 39*x^4207 + 88*x^4206 + 80*x^4205 + 119*x^4204 + 103*x^4203 + 67*x^4202 + 71*x^4201 + 65*x^4200 + 94*x^4199 + 103*x^4198 + 104*x^4197 + 100*x^4196 + 71*x^4195 + 45*x^4194 + 73*x^4193 + 18*x^4192 + 31*x^4191 + 17*x^4190 + 61*x^4189 + 88*x^4188 + 103*x^4187 + 84*x^4186 + 25*x^4185 + 117*x^4184 + 124*x^4183 + 95*x^4182 + 32*x^4181 + 20*x^4180 + 114*x^4179 + 75*x^4178 + 101*x^4177 + 90*x^4176 + 28*x^4175 + 58*x^4174 + 77*x^4173 + 8*x^4172 + 107*x^4171 + 123*x^4170 + 81*x^4169 + 102*x^4168 + 25*x^4167 + 92*x^4166 + 69*x^4165 + 17*x^4164 + 124*x^4163 + 91*x^4162 + 72*x^4161 + 41*x^4160 + 33*x^4159 + 11*x^4158 + 76*x^4157 + 4*x^4156 + 126*x^4155 + 11*x^4154 + 6*x^4153 + 113*x^4152 + 114*x^4151 + 99*x^4150 + 110*x^4149 + 63*x^4148 + 71*x^4147 + 77*x^4146 + 29*x^4145 + 6*x^4144 + 12*x^4143 + 28*x^4142 + 14*x^4141 + 3*x^4140 + 84*x^4139 + 58*x^4138 + 82*x^4137 + 123*x^4136 + 32*x^4135 + 69*x^4134 + 69*x^4133 + 17*x^4132 + 76*x^4131 + 82*x^4130 + 100*x^4129 + 54*x^4128 + 29*x^4127 + 20*x^4126 + 124*x^4125 + 13*x^4124 + 55*x^4123 + 4*x^4122 + 114*x^4121 + 53*x^4120 + 84*x^4119 + 42*x^4118 + 29*x^4117 + 18*x^4116 + 46*x^4115 + 18*x^4114 + 70*x^4113 + 123*x^4112 + 75*x^4111 + 18*x^4110 + 125*x^4109 + 113*x^4108 + 81*x^4107 + 121*x^4106 + 110*x^4105 + 68*x^4104 + 23*x^4103 + 26*x^4102 + 110*x^4101 + 35*x^4100 + 96*x^4099 + 39*x^4098 + 108*x^4097 + 52*x^4096 + 47*x^4095 + 113*x^4094 + 112*x^4093 + 8*x^4092 + 91*x^4091 + 16*x^4090 + 10*x^4089 + 76*x^4088 + 92*x^4087 + 21*x^4086 + 10*x^4085 + 15*x^4084 + 24*x^4083 + 18*x^4082 + 62*x^4081 + 55*x^4080 + 21*x^4079 + 73*x^4078 + 14*x^4077 + 100*x^4076 + 46*x^4075 + 31*x^4074 + 123*x^4073 + 107*x^4072 + 65*x^4071 + 39*x^4070 + 91*x^4069 + 9*x^4068 + 92*x^4067 + 84*x^4066 + 12*x^4065 + 63*x^4064 + 64*x^4063 + 48*x^4062 + 10*x^4061 + 27*x^4060 + 76*x^4059 + 103*x^4058 + 126*x^4057 + 2*x^4056 + 120*x^4055 + 48*x^4054 + 56*x^4053 + 80*x^4052 + 77*x^4051 + 61*x^4050 + 121*x^4049 + 18*x^4048 + 7*x^4047 + 2*x^4046 + 75*x^4045 + 96*x^4044 + x^4043 + 37*x^4042 + 27*x^4041 + 120*x^4040 + 115*x^4039 + 101*x^4038 + 70*x^4037 + 62*x^4036 + 3*x^4035 + 27*x^4034 + 4*x^4033 + 61*x^4032 + 113*x^4031 + 31*x^4030 + 13*x^4029 + 65*x^4028 + 41*x^4027 + 14*x^4026 + 77*x^4025 + 103*x^4024 + 33*x^4023 + 92*x^4022 + 9*x^4021 + 30*x^4020 + 91*x^4019 + 70*x^4018 + 90*x^4017 + 66*x^4016 + 66*x^4015 + 119*x^4014 + 103*x^4013 + 41*x^4012 + 87*x^4011 + 51*x^4010 + 111*x^4009 + 58*x^4008 + 48*x^4007 + 78*x^4006 + 27*x^4005 + 9*x^4004 + 33*x^4003 + 103*x^4002 + 21*x^4001 + 100*x^4000 + 114*x^3999 + 52*x^3998 + 46*x^3997 + 77*x^3996 + 51*x^3995 + 68*x^3994 + 119*x^3993 + 3*x^3992 + 112*x^3991 + 62*x^3990 + 74*x^3989 + 8*x^3988 + 102*x^3987 + 96*x^3986 + 77*x^3985 + 18*x^3984 + 38*x^3983 + 94*x^3982 + 89*x^3981 + 83*x^3980 + 64*x^3979 + 85*x^3978 + 39*x^3977 + 18*x^3976 + 36*x^3975 + 89*x^3974 + 15*x^3973 + 4*x^3972 + 7*x^3971 + 79*x^3970 + 38*x^3969 + 41*x^3968 + 106*x^3967 + 82*x^3966 + 15*x^3965 + 125*x^3964 + 118*x^3963 + 21*x^3962 + 53*x^3961 + 115*x^3960 + 8*x^3959 + 74*x^3958 + 58*x^3957 + 105*x^3956 + 41*x^3955 + 59*x^3954 + 20*x^3953 + 74*x^3952 + 31*x^3951 + 94*x^3950 + 69*x^3949 + 62*x^3948 + 117*x^3947 + 118*x^3946 + 118*x^3945 + 115*x^3944 + 120*x^3943 + 112*x^3942 + 56*x^3941 + 31*x^3940 + 41*x^3939 + 26*x^3938 + 19*x^3937 + 39*x^3936 + 9*x^3935 + 80*x^3934 + 69*x^3933 + 18*x^3932 + 43*x^3931 + 20*x^3930 + 76*x^3929 + 52*x^3928 + 6*x^3927 + 66*x^3926 + 70*x^3925 + 118*x^3924 + 66*x^3923 + 30*x^3922 + 43*x^3921 + 26*x^3920 + 42*x^3919 + 100*x^3918 + 97*x^3917 + 103*x^3916 + 104*x^3915 + 63*x^3914 + 26*x^3913 + 13*x^3912 + 9*x^3911 + 71*x^3910 + 59*x^3909 + 31*x^3908 + 46*x^3907 + 20*x^3906 + 116*x^3905 + 108*x^3904 + 108*x^3903 + 17*x^3902 + 36*x^3901 + 44*x^3900 + 46*x^3899 + 96*x^3898 + 17*x^3897 + 99*x^3896 + 19*x^3895 + 53*x^3894 + 106*x^3893 + 68*x^3892 + 45*x^3891 + 28*x^3890 + 58*x^3889 + 5*x^3888 + 100*x^3887 + 16*x^3886 + 16*x^3885 + 6*x^3884 + 22*x^3883 + 59*x^3882 + 41*x^3881 + 59*x^3880 + 100*x^3879 + 16*x^3878 + 39*x^3877 + 53*x^3876 + 25*x^3875 + 96*x^3874 + 27*x^3873 + 123*x^3872 + 113*x^3871 + 75*x^3870 + 15*x^3869 + 62*x^3868 + 86*x^3867 + 15*x^3866 + 103*x^3865 + 62*x^3864 + 27*x^3863 + 40*x^3862 + 99*x^3861 + 23*x^3860 + 82*x^3859 + 100*x^3858 + 107*x^3857 + 5*x^3856 + 112*x^3855 + 10*x^3854 + 63*x^3853 + 75*x^3852 + 88*x^3851 + 103*x^3850 + 91*x^3849 + 2*x^3848 + 97*x^3847 + 16*x^3846 + 56*x^3845 + 86*x^3844 + 93*x^3843 + 18*x^3842 + 27*x^3841 + 14*x^3840 + 113*x^3839 + 88*x^3838 + 95*x^3837 + 56*x^3836 + 52*x^3835 + 48*x^3834 + 78*x^3833 + 46*x^3832 + 117*x^3831 + 55*x^3830 + 89*x^3829 + 104*x^3828 + 110*x^3827 + 89*x^3826 + 14*x^3825 + 125*x^3824 + 107*x^3823 + 37*x^3822 + 49*x^3821 + 90*x^3820 + 76*x^3819 + 22*x^3818 + 58*x^3817 + 52*x^3816 + 65*x^3815 + 32*x^3814 + 84*x^3813 + 84*x^3812 + 108*x^3811 + 66*x^3810 + 92*x^3809 + 46*x^3808 + 45*x^3807 + 35*x^3806 + 24*x^3805 + 58*x^3804 + 108*x^3803 + 74*x^3802 + 41*x^3801 + 125*x^3800 + 78*x^3799 + 86*x^3798 + 24*x^3797 + 5*x^3796 + 125*x^3795 + 107*x^3794 + 112*x^3793 + 64*x^3792 + 39*x^3791 + 72*x^3790 + 6*x^3789 + 35*x^3788 + 22*x^3787 + 84*x^3786 + 67*x^3785 + 20*x^3784 + 41*x^3783 + 59*x^3782 + 104*x^3781 + 37*x^3780 + 60*x^3779 + 48*x^3778 + 66*x^3776 + 118*x^3775 + 125*x^3774 + 122*x^3773 + 52*x^3772 + 45*x^3771 + 5*x^3770 + 34*x^3769 + 94*x^3768 + 18*x^3767 + 91*x^3766 + 102*x^3765 + 51*x^3764 + 8*x^3763 + 8*x^3762 + 5*x^3761 + 35*x^3760 + 126*x^3759 + 77*x^3758 + 17*x^3757 + 92*x^3756 + 25*x^3755 + 75*x^3754 + 84*x^3753 + 82*x^3752 + 121*x^3751 + 58*x^3750 + 115*x^3749 + 51*x^3748 + 28*x^3747 + 78*x^3746 + 71*x^3745 + 83*x^3744 + 59*x^3743 + 4*x^3742 + 75*x^3741 + 20*x^3740 + 90*x^3739 + 82*x^3738 + 74*x^3737 + 27*x^3736 + 122*x^3735 + 18*x^3734 + 80*x^3733 + 117*x^3732 + 44*x^3730 + 95*x^3729 + 25*x^3728 + 9*x^3727 + 38*x^3726 + 72*x^3725 + 26*x^3724 + 123*x^3723 + 104*x^3722 + 57*x^3721 + 82*x^3720 + 55*x^3719 + 88*x^3718 + 22*x^3717 + 37*x^3716 + 120*x^3715 + 22*x^3714 + 57*x^3713 + 120*x^3712 + 92*x^3711 + 70*x^3710 + 34*x^3709 + 38*x^3708 + 64*x^3707 + 115*x^3706 + 8*x^3705 + 58*x^3704 + 38*x^3703 + 11*x^3702 + 8*x^3701 + 68*x^3700 + 119*x^3699 + 51*x^3698 + 94*x^3697 + 51*x^3696 + 45*x^3695 + 74*x^3694 + 57*x^3693 + 38*x^3692 + 88*x^3691 + 80*x^3690 + 17*x^3689 + 5*x^3688 + 100*x^3687 + 20*x^3686 + 38*x^3685 + 76*x^3684 + 53*x^3683 + 97*x^3682 + 81*x^3681 + 82*x^3680 + 117*x^3679 + 54*x^3678 + 26*x^3677 + 57*x^3676 + 27*x^3675 + 19*x^3674 + 43*x^3673 + 65*x^3672 + 84*x^3671 + 67*x^3670 + 100*x^3669 + 27*x^3668 + 10*x^3667 + 126*x^3666 + 58*x^3665 + 124*x^3664 + 36*x^3663 + 43*x^3662 + 126*x^3661 + 36*x^3660 + 86*x^3659 + 120*x^3658 + 121*x^3657 + 87*x^3656 + 71*x^3655 + 31*x^3654 + 38*x^3653 + 6*x^3652 + 76*x^3651 + 96*x^3650 + 111*x^3649 + 36*x^3648 + 39*x^3647 + 122*x^3646 + 43*x^3645 + 97*x^3644 + 86*x^3643 + 83*x^3642 + 6*x^3641 + 82*x^3640 + 8*x^3639 + 21*x^3638 + 16*x^3637 + 56*x^3636 + 7*x^3635 + 21*x^3634 + 117*x^3633 + 62*x^3632 + 33*x^3631 + 97*x^3630 + 5*x^3629 + 77*x^3628 + 106*x^3627 + 126*x^3626 + 112*x^3625 + 49*x^3624 + 55*x^3623 + 5*x^3622 + 72*x^3621 + 37*x^3620 + 91*x^3619 + 51*x^3618 + 72*x^3617 + 111*x^3616 + 13*x^3615 + x^3614 + 9*x^3613 + 72*x^3612 + 44*x^3611 + 97*x^3610 + 65*x^3609 + 59*x^3608 + 57*x^3607 + 108*x^3606 + 125*x^3605 + 15*x^3604 + 16*x^3603 + 52*x^3602 + 90*x^3601 + 37*x^3600 + 45*x^3599 + 13*x^3598 + 18*x^3597 + 87*x^3596 + 65*x^3595 + 62*x^3594 + 32*x^3593 + 15*x^3592 + 28*x^3590 + 112*x^3589 + 73*x^3588 + 74*x^3587 + 4*x^3586 + 71*x^3585 + 72*x^3584 + 80*x^3583 + 33*x^3582 + 8*x^3581 + 72*x^3580 + 84*x^3579 + 96*x^3578 + 54*x^3577 + 29*x^3576 + 25*x^3575 + 40*x^3573 + 82*x^3572 + 102*x^3571 + 93*x^3570 + 37*x^3569 + 47*x^3568 + 55*x^3567 + 93*x^3566 + 65*x^3565 + 91*x^3564 + 126*x^3563 + 56*x^3562 + 11*x^3561 + 103*x^3560 + 86*x^3559 + 3*x^3558 + 27*x^3557 + 65*x^3556 + 100*x^3555 + 77*x^3554 + 61*x^3553 + 56*x^3552 + 45*x^3550 + 124*x^3549 + 109*x^3548 + 83*x^3547 + 6*x^3546 + 43*x^3545 + 104*x^3544 + 25*x^3543 + 63*x^3542 + 78*x^3541 + 126*x^3540 + 44*x^3539 + 30*x^3538 + 103*x^3537 + 75*x^3536 + 4*x^3535 + 77*x^3534 + 56*x^3533 + 2*x^3532 + 34*x^3531 + 42*x^3530 + 95*x^3529 + 86*x^3528 + 44*x^3527 + 85*x^3526 + 49*x^3525 + 9*x^3524 + 112*x^3523 + 75*x^3522 + 37*x^3521 + 123*x^3520 + 61*x^3519 + 35*x^3518 + 40*x^3517 + 47*x^3516 + 109*x^3515 + 69*x^3514 + 41*x^3513 + 110*x^3512 + 41*x^3511 + 53*x^3510 + 64*x^3509 + 4*x^3508 + 117*x^3507 + 86*x^3506 + 18*x^3505 + 30*x^3504 + 27*x^3503 + 85*x^3502 + 86*x^3501 + 20*x^3500 + 21*x^3499 + 79*x^3498 + 116*x^3497 + 19*x^3496 + 73*x^3495 + 92*x^3494 + 60*x^3493 + 70*x^3492 + 33*x^3491 + 33*x^3490 + 36*x^3489 + 62*x^3488 + 8*x^3487 + 28*x^3486 + 31*x^3485 + 29*x^3484 + 105*x^3483 + 33*x^3482 + 25*x^3481 + 39*x^3480 + 75*x^3479 + 122*x^3478 + 86*x^3477 + 118*x^3476 + 58*x^3475 + 62*x^3474 + 115*x^3473 + 42*x^3472 + 117*x^3471 + 74*x^3470 + 119*x^3469 + 21*x^3468 + 113*x^3467 + 10*x^3466 + 48*x^3465 + 62*x^3464 + 94*x^3463 + 44*x^3462 + 18*x^3461 + 61*x^3460 + 117*x^3459 + 30*x^3458 + 74*x^3457 + 35*x^3456 + 125*x^3455 + 98*x^3454 + 106*x^3453 + 58*x^3452 + 82*x^3451 + 80*x^3450 + 114*x^3449 + 3*x^3448 + 31*x^3447 + 100*x^3446 + 27*x^3445 + 3*x^3444 + 121*x^3443 + 124*x^3442 + 59*x^3441 + 60*x^3440 + 65*x^3439 + 113*x^3438 + 54*x^3437 + 113*x^3436 + 78*x^3435 + 46*x^3434 + 96*x^3433 + 98*x^3432 + 87*x^3431 + 19*x^3430 + 87*x^3429 + 35*x^3428 + 40*x^3427 + 39*x^3426 + 121*x^3425 + 19*x^3424 + 124*x^3423 + 30*x^3422 + 54*x^3421 + 60*x^3420 + 122*x^3418 + 98*x^3417 + 50*x^3416 + 53*x^3415 + 116*x^3414 + 10*x^3413 + 19*x^3412 + 59*x^3411 + 69*x^3410 + 99*x^3409 + 3*x^3408 + 54*x^3407 + 25*x^3406 + 102*x^3405 + 62*x^3404 + 67*x^3403 + 58*x^3402 + 75*x^3401 + 99*x^3400 + 115*x^3399 + 12*x^3398 + 102*x^3397 + 39*x^3396 + 123*x^3395 + 109*x^3394 + 54*x^3393 + 42*x^3392 + 20*x^3391 + 55*x^3390 + 65*x^3389 + 94*x^3388 + 126*x^3387 + 64*x^3386 + 117*x^3385 + 37*x^3384 + 35*x^3383 + 93*x^3382 + 98*x^3381 + 123*x^3380 + 84*x^3379 + 55*x^3378 + 62*x^3377 + 44*x^3376 + 26*x^3375 + 28*x^3374 + 5*x^3373 + 113*x^3372 + 121*x^3371 + 25*x^3370 + 44*x^3369 + 67*x^3368 + 121*x^3367 + 68*x^3366 + 44*x^3365 + 27*x^3364 + 105*x^3363 + 24*x^3362 + 11*x^3361 + 77*x^3360 + 101*x^3359 + 77*x^3358 + 50*x^3357 + 55*x^3356 + 117*x^3355 + 122*x^3354 + 84*x^3353 + 119*x^3352 + 116*x^3351 + 107*x^3350 + 80*x^3349 + 59*x^3348 + 54*x^3347 + 80*x^3346 + 26*x^3345 + 123*x^3344 + 71*x^3343 + 116*x^3342 + 8*x^3341 + 110*x^3340 + 56*x^3339 + 69*x^3338 + 67*x^3337 + 93*x^3336 + 11*x^3335 + 122*x^3334 + 79*x^3333 + 105*x^3332 + 55*x^3331 + 113*x^3330 + 23*x^3329 + 51*x^3328 + 108*x^3327 + 110*x^3326 + 21*x^3325 + 57*x^3324 + 7*x^3323 + 7*x^3322 + 66*x^3321 + 22*x^3320 + 104*x^3319 + 2*x^3318 + 3*x^3317 + 106*x^3316 + 32*x^3315 + 25*x^3314 + 71*x^3313 + 18*x^3312 + 46*x^3311 + 99*x^3310 + 123*x^3309 + 25*x^3308 + 88*x^3307 + 68*x^3306 + 38*x^3305 + 110*x^3304 + 38*x^3303 + 11*x^3302 + 6*x^3301 + 111*x^3300 + 25*x^3299 + 15*x^3298 + 15*x^3297 + 72*x^3296 + 95*x^3295 + 115*x^3294 + 116*x^3293 + 82*x^3292 + 83*x^3291 + 17*x^3290 + 16*x^3289 + 89*x^3288 + 79*x^3287 + 4*x^3286 + 56*x^3285 + 124*x^3284 + 22*x^3283 + 84*x^3282 + 57*x^3281 + 61*x^3280 + 122*x^3279 + 80*x^3278 + 124*x^3277 + 69*x^3276 + 36*x^3275 + 90*x^3274 + 90*x^3273 + 85*x^3272 + 124*x^3271 + 30*x^3270 + 79*x^3269 + 42*x^3268 + 62*x^3267 + 46*x^3266 + 51*x^3265 + 89*x^3264 + 54*x^3263 + 82*x^3262 + 122*x^3261 + 73*x^3260 + 8*x^3259 + 67*x^3258 + 24*x^3257 + 49*x^3256 + 99*x^3255 + 76*x^3254 + 104*x^3253 + 118*x^3252 + 62*x^3251 + 92*x^3250 + 123*x^3249 + 92*x^3248 + 85*x^3247 + x^3246 + 78*x^3245 + 92*x^3244 + 72*x^3243 + 48*x^3242 + 106*x^3241 + 39*x^3240 + 70*x^3239 + 37*x^3238 + 34*x^3237 + 31*x^3236 + 79*x^3235 + 21*x^3234 + 56*x^3233 + 64*x^3232 + 25*x^3231 + 56*x^3230 + 47*x^3229 + 66*x^3228 + 78*x^3227 + 48*x^3226 + 108*x^3225 + 105*x^3224 + 46*x^3223 + 67*x^3222 + 108*x^3221 + 108*x^3220 + 20*x^3219 + 11*x^3218 + 106*x^3217 + 65*x^3216 + 73*x^3215 + 125*x^3214 + 41*x^3213 + 103*x^3212 + 40*x^3211 + 18*x^3210 + 87*x^3209 + 34*x^3208 + 113*x^3207 + 84*x^3206 + 98*x^3205 + 55*x^3204 + 97*x^3203 + 77*x^3202 + 27*x^3201 + 18*x^3200 + 49*x^3199 + 95*x^3198 + 62*x^3197 + 69*x^3196 + 105*x^3195 + 96*x^3194 + 58*x^3193 + 64*x^3192 + 9*x^3191 + 74*x^3190 + 47*x^3189 + 89*x^3188 + 64*x^3187 + 26*x^3186 + 100*x^3185 + 28*x^3183 + 45*x^3182 + 26*x^3181 + 56*x^3180 + 55*x^3179 + 125*x^3178 + 22*x^3177 + 96*x^3176 + 69*x^3175 + 76*x^3174 + 67*x^3173 + 24*x^3172 + 86*x^3171 + 88*x^3170 + 65*x^3169 + 42*x^3168 + 122*x^3167 + 82*x^3166 + 53*x^3165 + 92*x^3164 + 79*x^3163 + 71*x^3162 + 55*x^3161 + 118*x^3160 + 69*x^3159 + 126*x^3158 + 86*x^3157 + 49*x^3156 + 21*x^3155 + 12*x^3154 + 66*x^3153 + 99*x^3152 + 34*x^3151 + 42*x^3150 + 99*x^3148 + 7*x^3147 + 56*x^3146 + 18*x^3145 + 2*x^3144 + 16*x^3143 + 121*x^3142 + 78*x^3141 + 48*x^3140 + 36*x^3139 + 60*x^3138 + 61*x^3137 + 102*x^3136 + 64*x^3135 + 114*x^3134 + 46*x^3133 + 62*x^3132 + 126*x^3131 + 7*x^3130 + 54*x^3129 + 86*x^3128 + 44*x^3127 + 35*x^3126 + 23*x^3125 + 38*x^3124 + 17*x^3123 + 116*x^3122 + 88*x^3121 + 11*x^3120 + 70*x^3119 + 103*x^3118 + 121*x^3117 + 10*x^3116 + 121*x^3115 + 58*x^3114 + 77*x^3113 + 55*x^3112 + 13*x^3111 + 99*x^3110 + 59*x^3109 + 116*x^3108 + 17*x^3107 + 116*x^3106 + 106*x^3105 + 46*x^3104 + 100*x^3103 + 66*x^3102 + 12*x^3100 + 20*x^3099 + 79*x^3098 + 113*x^3097 + 30*x^3096 + 43*x^3095 + 105*x^3094 + 98*x^3093 + 111*x^3092 + 122*x^3091 + 13*x^3090 + 71*x^3089 + 32*x^3088 + 40*x^3087 + 118*x^3086 + 126*x^3085 + 65*x^3084 + 92*x^3083 + 117*x^3082 + 39*x^3081 + 33*x^3080 + 24*x^3079 + 104*x^3078 + 75*x^3077 + 22*x^3076 + 81*x^3075 + 51*x^3074 + 122*x^3073 + 118*x^3072 + 110*x^3071 + 38*x^3070 + 59*x^3069 + 64*x^3068 + 101*x^3067 + 10*x^3066 + 56*x^3065 + 99*x^3064 + 105*x^3063 + 19*x^3062 + 13*x^3061 + x^3060 + 70*x^3059 + 126*x^3058 + 37*x^3057 + 12*x^3056 + 78*x^3055 + 12*x^3054 + 5*x^3053 + 46*x^3052 + 88*x^3051 + 19*x^3050 + 35*x^3049 + 93*x^3048 + 93*x^3047 + 75*x^3046 + 17*x^3045 + 5*x^3044 + 112*x^3043 + 50*x^3042 + 124*x^3041 + 12*x^3040 + 54*x^3039 + 74*x^3038 + 124*x^3037 + 16*x^3036 + 56*x^3035 + 24*x^3034 + 117*x^3033 + 75*x^3032 + 63*x^3031 + 15*x^3030 + 51*x^3029 + 2*x^3028 + 17*x^3027 + 72*x^3026 + 122*x^3025 + 110*x^3024 + 125*x^3023 + 48*x^3022 + 35*x^3021 + 34*x^3020 + 18*x^3019 + 102*x^3018 + 71*x^3017 + 111*x^3016 + 103*x^3015 + 6*x^3014 + 31*x^3013 + 3*x^3012 + 22*x^3011 + 2*x^3010 + 9*x^3009 + 24*x^3008 + 8*x^3007 + 93*x^3006 + 119*x^3005 + 106*x^3004 + 112*x^3002 + 124*x^3001 + 21*x^3000 + 95*x^2999 + 80*x^2998 + 99*x^2997 + 45*x^2996 + 122*x^2995 + 29*x^2994 + 89*x^2993 + 111*x^2992 + 65*x^2991 + 51*x^2990 + 43*x^2989 + 7*x^2988 + 123*x^2987 + 43*x^2986 + 29*x^2985 + 94*x^2984 + 111*x^2983 + 118*x^2982 + 4*x^2981 + 72*x^2980 + 2*x^2979 + 43*x^2978 + 64*x^2977 + 116*x^2976 + 32*x^2975 + 10*x^2974 + 22*x^2973 + 98*x^2972 + 45*x^2971 + 99*x^2970 + 38*x^2969 + 63*x^2968 + 8*x^2967 + 116*x^2966 + 68*x^2965 + 81*x^2964 + 19*x^2963 + 124*x^2962 + x^2961 + 88*x^2960 + 40*x^2959 + 29*x^2957 + 117*x^2956 + 72*x^2955 + 29*x^2954 + 38*x^2953 + 109*x^2952 + 60*x^2951 + 57*x^2950 + 102*x^2949 + 9*x^2948 + 83*x^2947 + 73*x^2946 + 73*x^2945 + 50*x^2944 + 90*x^2943 + 69*x^2942 + 41*x^2941 + 34*x^2940 + 97*x^2939 + 52*x^2938 + 52*x^2937 + 7*x^2936 + 29*x^2935 + 76*x^2934 + 81*x^2933 + 14*x^2932 + 25*x^2931 + 90*x^2930 + 76*x^2929 + 75*x^2928 + 7*x^2927 + 114*x^2926 + 109*x^2925 + 100*x^2924 + 87*x^2923 + 23*x^2922 + 84*x^2921 + 36*x^2920 + 122*x^2919 + 118*x^2918 + 126*x^2917 + 120*x^2916 + 46*x^2915 + 6*x^2914 + 53*x^2913 + 91*x^2912 + 6*x^2911 + 77*x^2910 + 63*x^2909 + 37*x^2908 + 94*x^2907 + 9*x^2906 + 57*x^2905 + 87*x^2904 + 10*x^2903 + 19*x^2902 + x^2901 + 12*x^2900 + 45*x^2899 + 76*x^2898 + 51*x^2897 + 117*x^2896 + 37*x^2895 + 79*x^2894 + 119*x^2893 + 88*x^2892 + 108*x^2891 + 70*x^2890 + 102*x^2889 + 75*x^2888 + 118*x^2886 + 7*x^2885 + 118*x^2884 + 69*x^2883 + 107*x^2882 + 41*x^2881 + 110*x^2880 + 56*x^2879 + 36*x^2878 + 41*x^2877 + 72*x^2876 + 28*x^2875 + 59*x^2874 + 86*x^2873 + 54*x^2872 + 38*x^2871 + 50*x^2870 + 78*x^2869 + 2*x^2868 + 10*x^2867 + 123*x^2866 + 29*x^2865 + 121*x^2864 + 8*x^2863 + 15*x^2862 + 23*x^2861 + 122*x^2860 + 118*x^2859 + 6*x^2858 + 86*x^2857 + 66*x^2856 + 88*x^2855 + 125*x^2854 + 96*x^2853 + 3*x^2852 + 102*x^2851 + x^2850 + 115*x^2849 + 116*x^2848 + 71*x^2847 + 104*x^2846 + 23*x^2845 + 85*x^2844 + 91*x^2843 + 102*x^2842 + 37*x^2841 + 57*x^2840 + 105*x^2839 + 61*x^2838 + 106*x^2837 + 42*x^2836 + 96*x^2835 + 77*x^2834 + 13*x^2833 + 115*x^2832 + 99*x^2831 + 113*x^2830 + 122*x^2829 + 123*x^2828 + 6*x^2827 + 39*x^2826 + 73*x^2825 + 43*x^2824 + 122*x^2823 + 44*x^2822 + 81*x^2821 + 36*x^2820 + 60*x^2819 + 48*x^2818 + 25*x^2817 + 32*x^2816 + 122*x^2815 + 67*x^2814 + 113*x^2813 + 26*x^2812 + 25*x^2811 + 96*x^2810 + 96*x^2809 + 100*x^2808 + 112*x^2807 + 5*x^2806 + 20*x^2805 + 119*x^2804 + 30*x^2803 + 29*x^2802 + 94*x^2801 + 86*x^2800 + 103*x^2799 + 17*x^2798 + 7*x^2797 + 35*x^2796 + 9*x^2795 + 124*x^2794 + 99*x^2793 + 35*x^2792 + 115*x^2791 + 34*x^2790 + 3*x^2789 + 120*x^2788 + 51*x^2787 + 46*x^2786 + 21*x^2785 + 86*x^2784 + 85*x^2783 + 67*x^2782 + 4*x^2781 + 107*x^2780 + 112*x^2779 + 30*x^2778 + 123*x^2777 + 108*x^2776 + 5*x^2775 + 118*x^2774 + 81*x^2773 + 99*x^2772 + 111*x^2771 + 18*x^2770 + 76*x^2769 + 21*x^2768 + 33*x^2767 + 62*x^2766 + 10*x^2765 + 53*x^2764 + 56*x^2763 + 43*x^2762 + 10*x^2761 + 69*x^2760 + 24*x^2759 + 75*x^2758 + 36*x^2757 + 119*x^2756 + 66*x^2755 + 65*x^2754 + 11*x^2753 + 3*x^2752 + 106*x^2751 + 24*x^2750 + 102*x^2749 + 70*x^2748 + 112*x^2747 + 108*x^2746 + 101*x^2745 + 37*x^2744 + 22*x^2743 + 4*x^2742 + 87*x^2741 + 69*x^2740 + 104*x^2739 + 28*x^2738 + 84*x^2737 + 12*x^2736 + 3*x^2735 + 83*x^2734 + 100*x^2733 + 114*x^2732 + 10*x^2731 + 49*x^2730 + 82*x^2729 + 31*x^2728 + 123*x^2727 + 45*x^2726 + 38*x^2725 + 85*x^2724 + 108*x^2723 + 20*x^2722 + 26*x^2721 + 15*x^2720 + 93*x^2719 + 118*x^2718 + 36*x^2717 + 41*x^2716 + 99*x^2715 + 25*x^2714 + 80*x^2713 + 64*x^2712 + 123*x^2711 + 79*x^2710 + 14*x^2709 + 91*x^2708 + 81*x^2707 + 110*x^2706 + 14*x^2705 + 52*x^2704 + 65*x^2703 + 30*x^2702 + 60*x^2701 + 25*x^2700 + 61*x^2699 + 53*x^2698 + 73*x^2697 + 90*x^2696 + 48*x^2695 + x^2694 + 14*x^2693 + 56*x^2692 + 72*x^2691 + 20*x^2690 + 69*x^2689 + 93*x^2688 + 95*x^2687 + 107*x^2686 + 40*x^2685 + 21*x^2684 + 4*x^2683 + 36*x^2682 + 51*x^2680 + 54*x^2679 + 81*x^2678 + 95*x^2677 + 39*x^2676 + 113*x^2675 + 93*x^2674 + 98*x^2673 + 35*x^2672 + 107*x^2671 + 78*x^2670 + 69*x^2669 + 45*x^2668 + 15*x^2667 + 61*x^2666 + 57*x^2665 + 97*x^2664 + 57*x^2663 + 22*x^2662 + 29*x^2661 + 52*x^2660 + 53*x^2659 + 112*x^2658 + 23*x^2657 + 70*x^2656 + 91*x^2655 + 16*x^2654 + 71*x^2653 + 126*x^2652 + 9*x^2651 + 3*x^2650 + 100*x^2649 + 81*x^2648 + 111*x^2647 + 73*x^2646 + 85*x^2645 + 55*x^2644 + 15*x^2643 + 58*x^2642 + 106*x^2641 + 68*x^2640 + 22*x^2639 + 55*x^2638 + 111*x^2637 + 63*x^2636 + 89*x^2635 + 6*x^2634 + 17*x^2633 + 107*x^2632 + 11*x^2631 + 95*x^2630 + 112*x^2629 + 72*x^2628 + 78*x^2627 + 11*x^2626 + 87*x^2625 + 111*x^2624 + 106*x^2623 + 64*x^2622 + 42*x^2621 + 29*x^2620 + 86*x^2619 + 95*x^2618 + 92*x^2617 + 114*x^2616 + 79*x^2615 + 102*x^2614 + 108*x^2613 + 24*x^2612 + 14*x^2611 + 94*x^2610 + 26*x^2609 + 84*x^2608 + 62*x^2607 + 2*x^2606 + 18*x^2605 + 65*x^2604 + 101*x^2603 + 56*x^2602 + 19*x^2601 + 105*x^2600 + 3*x^2599 + 62*x^2598 + 34*x^2597 + 124*x^2596 + 59*x^2595 + 55*x^2594 + 78*x^2593 + 29*x^2592 + 86*x^2591 + 8*x^2590 + 86*x^2589 + 108*x^2588 + 116*x^2587 + 54*x^2586 + 59*x^2585 + 119*x^2584 + 65*x^2583 + 27*x^2582 + 106*x^2581 + 125*x^2580 + 121*x^2579 + 22*x^2578 + 78*x^2577 + 53*x^2576 + 33*x^2575 + 91*x^2574 + 47*x^2573 + 20*x^2572 + 23*x^2571 + 81*x^2570 + 66*x^2569 + 99*x^2568 + 40*x^2567 + 73*x^2566 + 121*x^2565 + 102*x^2564 + 109*x^2563 + 50*x^2562 + 109*x^2561 + 78*x^2560 + 65*x^2559 + 55*x^2558 + 17*x^2557 + x^2556 + 57*x^2555 + 110*x^2554 + 48*x^2552 + 55*x^2551 + 38*x^2550 + 82*x^2549 + 33*x^2548 + 118*x^2547 + 92*x^2546 + 112*x^2545 + 21*x^2544 + 24*x^2543 + 99*x^2542 + 7*x^2541 + 101*x^2540 + 108*x^2539 + 90*x^2538 + 61*x^2537 + 92*x^2536 + 62*x^2535 + x^2534 + 119*x^2533 + 88*x^2532 + 34*x^2531 + 13*x^2530 + 39*x^2529 + 121*x^2528 + 17*x^2527 + 42*x^2526 + 60*x^2525 + 92*x^2524 + 111*x^2523 + 98*x^2522 + 76*x^2521 + 113*x^2520 + 4*x^2519 + 4*x^2518 + 8*x^2517 + 100*x^2516 + 126*x^2515 + 7*x^2514 + 22*x^2513 + 5*x^2512 + 76*x^2511 + 35*x^2510 + 110*x^2509 + 91*x^2508 + 57*x^2507 + 49*x^2506 + 35*x^2505 + 71*x^2504 + 98*x^2503 + 70*x^2502 + 45*x^2501 + 71*x^2500 + 50*x^2499 + 44*x^2498 + 45*x^2497 + 47*x^2496 + 74*x^2495 + 32*x^2494 + 105*x^2493 + 102*x^2492 + 36*x^2491 + 98*x^2490 + 70*x^2489 + 39*x^2488 + 108*x^2487 + 28*x^2486 + 126*x^2485 + 4*x^2484 + 81*x^2483 + 48*x^2482 + 60*x^2481 + 52*x^2480 + 18*x^2479 + 83*x^2478 + 118*x^2477 + 29*x^2476 + 95*x^2475 + 38*x^2474 + 120*x^2473 + 16*x^2472 + 89*x^2471 + 70*x^2470 + 76*x^2469 + 44*x^2468 + 11*x^2467 + 8*x^2466 + 24*x^2465 + 28*x^2464 + 48*x^2463 + 45*x^2462 + 67*x^2461 + 68*x^2460 + 51*x^2459 + 78*x^2458 + 71*x^2457 + 108*x^2456 + 75*x^2455 + 24*x^2454 + 53*x^2453 + 18*x^2452 + 123*x^2451 + 112*x^2450 + 104*x^2449 + 79*x^2448 + 37*x^2447 + 80*x^2446 + 35*x^2445 + 42*x^2444 + 21*x^2443 + 65*x^2442 + 104*x^2441 + 54*x^2440 + 4*x^2439 + 2*x^2438 + 91*x^2437 + 97*x^2436 + 63*x^2435 + 92*x^2434 + 7*x^2433 + 83*x^2432 + 81*x^2431 + 116*x^2430 + 4*x^2429 + 122*x^2428 + 65*x^2427 + 23*x^2426 + 66*x^2425 + 41*x^2424 + x^2423 + 102*x^2422 + 72*x^2421 + 57*x^2420 + 113*x^2419 + 91*x^2418 + 110*x^2417 + 33*x^2416 + 9*x^2415 + 19*x^2414 + 62*x^2413 + 94*x^2412 + 77*x^2411 + 41*x^2410 + 78*x^2409 + 71*x^2408 + 74*x^2407 + 97*x^2406 + 16*x^2405 + 37*x^2404 + 86*x^2403 + 26*x^2402 + 74*x^2401 + 48*x^2400 + 17*x^2399 + 14*x^2398 + 117*x^2397 + 27*x^2396 + 65*x^2395 + 125*x^2394 + 29*x^2393 + 2*x^2392 + 67*x^2391 + 16*x^2390 + 22*x^2389 + 86*x^2388 + 112*x^2387 + 47*x^2386 + 55*x^2385 + 41*x^2384 + 124*x^2383 + 29*x^2382 + 100*x^2381 + 43*x^2380 + 4*x^2379 + 32*x^2378 + 87*x^2377 + 69*x^2376 + 96*x^2375 + 50*x^2374 + 27*x^2372 + 79*x^2371 + 42*x^2370 + 14*x^2369 + x^2368 + 44*x^2367 + 96*x^2366 + 103*x^2365 + 13*x^2364 + 79*x^2363 + 60*x^2362 + 64*x^2361 + 32*x^2360 + 119*x^2359 + 112*x^2358 + 87*x^2357 + 7*x^2356 + 3*x^2355 + 58*x^2353 + 69*x^2352 + 7*x^2351 + 31*x^2350 + 38*x^2349 + 120*x^2348 + 90*x^2347 + 36*x^2346 + 70*x^2345 + 123*x^2344 + 104*x^2343 + 42*x^2342 + 3*x^2341 + 7*x^2340 + 27*x^2339 + 74*x^2338 + 104*x^2337 + 107*x^2336 + 88*x^2335 + 111*x^2334 + 51*x^2333 + 69*x^2332 + 7*x^2331 + 66*x^2330 + 79*x^2329 + 49*x^2328 + 102*x^2327 + 46*x^2326 + 68*x^2325 + 50*x^2324 + 61*x^2323 + 19*x^2322 + 38*x^2321 + x^2320 + 10*x^2319 + 36*x^2318 + 33*x^2317 + 95*x^2316 + 6*x^2315 + 42*x^2314 + 28*x^2313 + 43*x^2312 + 79*x^2311 + 6*x^2310 + 10*x^2309 + 71*x^2308 + 117*x^2307 + 10*x^2306 + 113*x^2305 + 30*x^2304 + 55*x^2303 + 86*x^2302 + 33*x^2301 + 111*x^2300 + 71*x^2299 + 55*x^2298 + 78*x^2297 + 66*x^2296 + 48*x^2295 + 121*x^2294 + x^2293 + 33*x^2292 + 96*x^2291 + 85*x^2290 + 98*x^2289 + 38*x^2288 + 96*x^2287 + 7*x^2286 + 101*x^2285 + 68*x^2284 + 24*x^2283 + 38*x^2282 + 79*x^2281 + 107*x^2280 + 83*x^2279 + 116*x^2278 + 47*x^2277 + 84*x^2275 + 40*x^2274 + 120*x^2273 + 77*x^2272 + 76*x^2271 + 27*x^2270 + 65*x^2269 + 73*x^2268 + 98*x^2267 + 100*x^2266 + 45*x^2265 + 121*x^2264 + 75*x^2263 + 106*x^2262 + 93*x^2261 + 35*x^2260 + 54*x^2259 + 84*x^2258 + 5*x^2257 + 98*x^2256 + 108*x^2255 + 43*x^2254 + 18*x^2253 + 59*x^2252 + 26*x^2251 + 32*x^2250 + 108*x^2249 + 40*x^2248 + 40*x^2247 + 114*x^2246 + 96*x^2245 + 5*x^2244 + 34*x^2243 + 9*x^2242 + 124*x^2241 + 110*x^2240 + 43*x^2239 + 67*x^2238 + 59*x^2237 + 112*x^2236 + 35*x^2235 + 53*x^2234 + 63*x^2233 + 82*x^2232 + 87*x^2231 + 45*x^2230 + 54*x^2229 + 77*x^2228 + 80*x^2227 + 52*x^2226 + 56*x^2225 + 40*x^2224 + 56*x^2223 + 107*x^2222 + 69*x^2221 + 91*x^2220 + 71*x^2219 + 120*x^2218 + 55*x^2217 + 103*x^2216 + 118*x^2215 + 37*x^2214 + 28*x^2213 + 75*x^2212 + 105*x^2211 + 18*x^2210 + 84*x^2209 + x^2208 + 46*x^2207 + 94*x^2206 + 66*x^2205 + 115*x^2204 + 71*x^2203 + 51*x^2202 + 112*x^2201 + 99*x^2200 + 53*x^2199 + 17*x^2198 + 77*x^2197 + 47*x^2196 + 113*x^2195 + 14*x^2194 + 40*x^2193 + 108*x^2192 + 41*x^2191 + 74*x^2190 + 94*x^2189 + 89*x^2188 + 85*x^2187 + 113*x^2186 + 92*x^2185 + 30*x^2184 + 58*x^2183 + 5*x^2182 + 13*x^2181 + 70*x^2180 + 100*x^2179 + 115*x^2178 + 94*x^2176 + 45*x^2175 + 44*x^2174 + 102*x^2173 + 121*x^2172 + 40*x^2171 + 58*x^2170 + 84*x^2169 + 70*x^2168 + 48*x^2167 + 20*x^2166 + 59*x^2165 + 48*x^2164 + 109*x^2163 + 7*x^2162 + 119*x^2161 + 18*x^2160 + 125*x^2159 + 86*x^2158 + 8*x^2157 + 72*x^2156 + 94*x^2155 + 94*x^2154 + 103*x^2153 + 83*x^2152 + 63*x^2151 + 43*x^2150 + 60*x^2149 + 9*x^2148 + 8*x^2147 + 28*x^2146 + 42*x^2145 + 92*x^2144 + 30*x^2143 + 25*x^2142 + 45*x^2141 + 65*x^2140 + 56*x^2139 + 117*x^2138 + 84*x^2137 + 107*x^2136 + 87*x^2135 + 86*x^2134 + 4*x^2133 + 45*x^2132 + 102*x^2131 + 99*x^2130 + 40*x^2129 + 45*x^2128 + 48*x^2127 + 73*x^2126 + 16*x^2125 + 45*x^2124 + 2*x^2123 + 49*x^2122 + 110*x^2121 + 80*x^2120 + 110*x^2119 + 47*x^2118 + 101*x^2117 + 8*x^2116 + 93*x^2115 + 33*x^2114 + 25*x^2113 + 32*x^2112 + x^2111 + 126*x^2110 + 106*x^2109 + 100*x^2108 + 110*x^2107 + 18*x^2106 + 12*x^2105 + 14*x^2104 + 3*x^2103 + 49*x^2102 + 99*x^2101 + 57*x^2100 + 22*x^2099 + 85*x^2098 + 103*x^2097 + 29*x^2096 + 41*x^2095 + 35*x^2094 + 42*x^2093 + 7*x^2092 + 75*x^2091 + 37*x^2090 + 2*x^2089 + 81*x^2088 + 101*x^2087 + 80*x^2086 + 8*x^2085 + 13*x^2084 + 85*x^2083 + 122*x^2082 + 19*x^2081 + 37*x^2080 + 49*x^2079 + 23*x^2078 + 81*x^2077 + 121*x^2076 + 81*x^2075 + 43*x^2074 + 59*x^2073 + 105*x^2072 + 38*x^2071 + 54*x^2070 + 32*x^2069 + 15*x^2068 + 83*x^2067 + 83*x^2066 + 3*x^2065 + 124*x^2064 + 25*x^2063 + 51*x^2062 + 49*x^2061 + 95*x^2060 + 54*x^2059 + 57*x^2058 + 102*x^2057 + 113*x^2056 + 15*x^2055 + 112*x^2054 + 84*x^2053 + 98*x^2052 + 31*x^2051 + 10*x^2050 + 51*x^2049 + 83*x^2048 + 24*x^2047 + 107*x^2046 + 39*x^2045 + 54*x^2044 + 123*x^2043 + 88*x^2042 + 72*x^2041 + 77*x^2040 + 15*x^2039 + 31*x^2038 + 95*x^2037 + 84*x^2036 + 85*x^2035 + 35*x^2034 + 80*x^2032 + 56*x^2031 + 91*x^2030 + 105*x^2029 + 120*x^2028 + 69*x^2027 + 47*x^2026 + 91*x^2025 + 48*x^2024 + 83*x^2023 + 81*x^2022 + 102*x^2021 + 51*x^2020 + 94*x^2019 + 29*x^2018 + 74*x^2017 + 88*x^2016 + 105*x^2015 + 77*x^2014 + 64*x^2013 + 76*x^2012 + 13*x^2011 + 94*x^2010 + 102*x^2009 + 96*x^2008 + 17*x^2007 + 64*x^2006 + 91*x^2005 + 72*x^2004 + 41*x^2003 + 93*x^2002 + 103*x^2001 + 4*x^2000 + 87*x^1999 + 82*x^1998 + 14*x^1997 + 53*x^1996 + 46*x^1995 + 23*x^1994 + 96*x^1993 + 71*x^1992 + 105*x^1991 + 8*x^1990 + 109*x^1989 + 87*x^1988 + 21*x^1987 + 74*x^1986 + 105*x^1985 + 3*x^1984 + 51*x^1983 + 78*x^1982 + 110*x^1981 + 80*x^1980 + 76*x^1979 + 70*x^1978 + 50*x^1977 + 93*x^1976 + 65*x^1975 + 117*x^1974 + 3*x^1973 + 21*x^1972 + 58*x^1971 + 51*x^1970 + 70*x^1969 + 99*x^1968 + 9*x^1967 + 20*x^1966 + 35*x^1965 + 100*x^1964 + 113*x^1963 + 51*x^1962 + 41*x^1961 + 48*x^1960 + 16*x^1959 + 19*x^1958 + 24*x^1957 + 99*x^1956 + 34*x^1955 + 49*x^1954 + 39*x^1953 + 51*x^1952 + 97*x^1951 + 107*x^1950 + 11*x^1949 + 102*x^1948 + 77*x^1947 + 93*x^1946 + 120*x^1945 + 95*x^1944 + 61*x^1943 + 33*x^1942 + 61*x^1941 + 107*x^1940 + 29*x^1939 + 99*x^1938 + 102*x^1937 + 97*x^1936 + 40*x^1935 + 29*x^1934 + 47*x^1933 + 38*x^1932 + 125*x^1931 + 17*x^1930 + 87*x^1929 + 37*x^1928 + 47*x^1927 + 22*x^1926 + 37*x^1925 + 83*x^1924 + 14*x^1923 + 12*x^1922 + 77*x^1921 + 11*x^1920 + 93*x^1919 + 51*x^1918 + 64*x^1917 + 49*x^1916 + 7*x^1915 + 77*x^1914 + 26*x^1913 + 124*x^1912 + 91*x^1911 + 12*x^1910 + 61*x^1909 + 122*x^1908 + 26*x^1907 + 64*x^1906 + 112*x^1905 + 2*x^1904 + 52*x^1903 + 12*x^1902 + 124*x^1901 + 55*x^1900 + 54*x^1899 + 33*x^1898 + 82*x^1897 + 31*x^1896 + 95*x^1895 + 109*x^1894 + 34*x^1893 + 37*x^1892 + 85*x^1891 + 105*x^1890 + 22*x^1889 + 103*x^1888 + 57*x^1887 + 123*x^1886 + 68*x^1885 + 46*x^1884 + 112*x^1883 + 105*x^1882 + 57*x^1881 + 37*x^1880 + 54*x^1879 + 13*x^1878 + 60*x^1877 + 41*x^1876 + 23*x^1875 + 101*x^1874 + 56*x^1873 + 42*x^1872 + 16*x^1871 + 77*x^1870 + 54*x^1869 + 78*x^1868 + 74*x^1867 + 42*x^1866 + 105*x^1865 + 39*x^1864 + 16*x^1863 + 14*x^1862 + 18*x^1861 + 108*x^1860 + 30*x^1859 + 5*x^1858 + 40*x^1857 + 82*x^1856 + 53*x^1855 + 13*x^1854 + 30*x^1853 + 63*x^1852 + 96*x^1851 + 126*x^1850 + 92*x^1849 + 92*x^1848 + 96*x^1847 + 45*x^1846 + 6*x^1845 + 122*x^1844 + 60*x^1843 + 77*x^1842 + 114*x^1841 + 126*x^1840 + 103*x^1839 + 13*x^1838 + 4*x^1837 + 52*x^1836 + 96*x^1835 + 24*x^1834 + 57*x^1833 + 31*x^1832 + 119*x^1831 + 95*x^1830 + 87*x^1829 + 46*x^1828 + 92*x^1827 + 21*x^1826 + 123*x^1825 + 89*x^1824 + 65*x^1823 + 102*x^1822 + 64*x^1821 + 60*x^1820 + 11*x^1819 + 24*x^1818 + 117*x^1817 + 86*x^1816 + 34*x^1815 + 7*x^1814 + 97*x^1813 + 43*x^1812 + 88*x^1811 + 33*x^1810 + 99*x^1809 + 125*x^1808 + 88*x^1807 + 101*x^1806 + 79*x^1805 + 119*x^1804 + x^1803 + 112*x^1802 + 72*x^1801 + 32*x^1800 + 114*x^1799 + 71*x^1798 + 49*x^1797 + 21*x^1796 + 97*x^1795 + 32*x^1794 + 76*x^1793 + 46*x^1792 + 19*x^1791 + 17*x^1790 + 43*x^1789 + 122*x^1788 + 43*x^1787 + 64*x^1786 + 33*x^1785 + 72*x^1784 + 29*x^1783 + 33*x^1782 + 123*x^1781 + 112*x^1780 + 4*x^1779 + 42*x^1778 + 60*x^1777 + 80*x^1776 + 87*x^1775 + 84*x^1774 + 17*x^1773 + 103*x^1772 + 13*x^1771 + 104*x^1770 + 24*x^1769 + 119*x^1768 + 27*x^1767 + 74*x^1766 + 44*x^1765 + 96*x^1764 + 113*x^1763 + 123*x^1762 + 82*x^1761 + 38*x^1760 + 95*x^1759 + 31*x^1758 + 41*x^1757 + 50*x^1756 + 60*x^1755 + 47*x^1754 + 117*x^1753 + 38*x^1752 + 41*x^1751 + 50*x^1750 + 55*x^1749 + 96*x^1748 + 13*x^1747 + 124*x^1746 + 72*x^1745 + 35*x^1744 + 6*x^1743 + 2*x^1742 + 114*x^1741 + 37*x^1740 + 81*x^1739 + 33*x^1738 + 16*x^1737 + 88*x^1736 + 19*x^1735 + 61*x^1734 + 49*x^1733 + 8*x^1732 + 112*x^1731 + 89*x^1730 + 51*x^1729 + 94*x^1728 + 101*x^1727 + 92*x^1726 + 39*x^1725 + 50*x^1724 + 86*x^1723 + 43*x^1722 + 68*x^1721 + 68*x^1720 + 85*x^1719 + 108*x^1718 + 39*x^1717 + 64*x^1716 + 93*x^1715 + 16*x^1714 + 31*x^1713 + 104*x^1712 + 88*x^1711 + 58*x^1710 + 40*x^1709 + 30*x^1708 + 41*x^1707 + 9*x^1706 + 88*x^1705 + 50*x^1704 + 17*x^1703 + 42*x^1702 + 68*x^1701 + 68*x^1700 + 38*x^1699 + 53*x^1698 + 123*x^1697 + 36*x^1696 + 54*x^1695 + 39*x^1694 + 12*x^1693 + 77*x^1692 + 39*x^1691 + 72*x^1690 + 105*x^1689 + 88*x^1688 + 28*x^1687 + 56*x^1686 + 85*x^1685 + 13*x^1684 + 86*x^1683 + 81*x^1682 + 119*x^1681 + 92*x^1680 + 102*x^1679 + 80*x^1678 + 21*x^1677 + 24*x^1676 + 25*x^1675 + 26*x^1674 + 114*x^1673 + 90*x^1672 + 15*x^1671 + 67*x^1670 + 80*x^1669 + 82*x^1668 + 49*x^1667 + 53*x^1666 + 71*x^1665 + 20*x^1664 + 49*x^1663 + 80*x^1662 + 102*x^1661 + 82*x^1660 + 61*x^1659 + 67*x^1658 + 112*x^1657 + 35*x^1656 + 100*x^1655 + 80*x^1654 + 35*x^1653 + 59*x^1652 + 15*x^1651 + 123*x^1650 + 126*x^1649 + 50*x^1648 + 69*x^1647 + 38*x^1646 + 52*x^1645 + 11*x^1644 + 95*x^1643 + 120*x^1642 + 43*x^1641 + 79*x^1640 + 8*x^1639 + 79*x^1638 + 103*x^1637 + 33*x^1636 + 74*x^1635 + 52*x^1634 + 7*x^1633 + 18*x^1632 + 29*x^1631 + 100*x^1630 + 121*x^1629 + 18*x^1628 + 116*x^1627 + 19*x^1626 + 34*x^1625 + 41*x^1624 + 75*x^1623 + 8*x^1622 + 17*x^1621 + 42*x^1620 + 68*x^1619 + 40*x^1618 + 126*x^1617 + 45*x^1616 + 93*x^1615 + 9*x^1614 + 94*x^1613 + 92*x^1612 + 38*x^1611 + 32*x^1610 + 21*x^1609 + 116*x^1608 + 68*x^1607 + 84*x^1606 + 111*x^1605 + 13*x^1604 + 21*x^1603 + 123*x^1602 + 20*x^1601 + 45*x^1600 + 60*x^1599 + 80*x^1598 + 86*x^1597 + 67*x^1596 + 12*x^1595 + 67*x^1594 + 62*x^1593 + 22*x^1592 + 49*x^1591 + 122*x^1590 + 94*x^1589 + 103*x^1588 + 74*x^1587 + 21*x^1586 + 46*x^1585 + 78*x^1584 + 92*x^1583 + 28*x^1582 + 33*x^1581 + 71*x^1580 + 33*x^1579 + 56*x^1578 + 14*x^1577 + 15*x^1576 + 89*x^1575 + 49*x^1574 + 89*x^1573 + 124*x^1572 + 67*x^1571 + 49*x^1570 + 113*x^1569 + 12*x^1568 + 7*x^1567 + 107*x^1566 + 92*x^1565 + 111*x^1564 + 98*x^1563 + 33*x^1562 + 28*x^1561 + 16*x^1560 + 77*x^1559 + 91*x^1558 + 48*x^1557 + 123*x^1556 + 67*x^1555 + 54*x^1554 + 62*x^1553 + 28*x^1552 + 21*x^1551 + 5*x^1550 + 32*x^1549 + 77*x^1548 + 76*x^1547 + 117*x^1546 + 17*x^1545 + 10*x^1544 + 70*x^1543 + 30*x^1542 + 13*x^1541 + 101*x^1540 + 76*x^1539 + 3*x^1538 + 35*x^1537 + 102*x^1536 + 74*x^1535 + 55*x^1534 + 10*x^1533 + 25*x^1532 + 68*x^1531 + 108*x^1530 + 58*x^1529 + 17*x^1528 + 13*x^1527 + 35*x^1526 + 62*x^1525 + 43*x^1524 + 60*x^1523 + 81*x^1522 + 44*x^1521 + 98*x^1520 + 2*x^1519 + 82*x^1518 + 67*x^1517 + 78*x^1516 + 36*x^1515 + 9*x^1514 + 10*x^1513 + 22*x^1512 + 124*x^1511 + 91*x^1510 + 2*x^1509 + 5*x^1508 + 100*x^1507 + 125*x^1506 + 71*x^1505 + 57*x^1504 + 68*x^1503 + x^1502 + 58*x^1501 + 116*x^1500 + 53*x^1499 + 107*x^1498 + 122*x^1497 + 47*x^1496 + 124*x^1495 + 113*x^1494 + 7*x^1493 + 28*x^1492 + 88*x^1491 + 47*x^1490 + 117*x^1489 + 88*x^1488 + 87*x^1487 + 125*x^1486 + 8*x^1485 + 36*x^1484 + 50*x^1483 + 102*x^1482 + 93*x^1481 + 82*x^1480 + 78*x^1479 + 23*x^1478 + 66*x^1477 + 112*x^1476 + 70*x^1475 + 71*x^1474 + 123*x^1473 + 78*x^1472 + 51*x^1471 + 70*x^1470 + 63*x^1469 + 103*x^1468 + 48*x^1467 + 4*x^1466 + 88*x^1465 + 56*x^1464 + 119*x^1463 + 3*x^1462 + 109*x^1461 + 18*x^1460 + x^1459 + 56*x^1458 + 106*x^1457 + 99*x^1456 + 19*x^1455 + 117*x^1454 + 36*x^1453 + 66*x^1452 + 88*x^1451 + 40*x^1450 + x^1449 + 125*x^1448 + 117*x^1447 + 7*x^1446 + 99*x^1445 + 35*x^1444 + 55*x^1443 + 47*x^1442 + 112*x^1441 + 107*x^1440 + 77*x^1439 + 26*x^1438 + 119*x^1437 + 122*x^1436 + 68*x^1435 + 88*x^1434 + 6*x^1433 + 50*x^1432 + 57*x^1431 + 52*x^1430 + 118*x^1429 + 50*x^1428 + 5*x^1427 + 84*x^1426 + 119*x^1425 + 40*x^1424 + 93*x^1423 + 30*x^1422 + 60*x^1421 + 70*x^1420 + 34*x^1419 + 33*x^1418 + 61*x^1417 + 90*x^1416 + 19*x^1415 + 75*x^1414 + 110*x^1413 + 34*x^1412 + 66*x^1411 + 86*x^1410 + 120*x^1409 + 118*x^1408 + 100*x^1407 + 106*x^1406 + 2*x^1404 + 16*x^1403 + 96*x^1402 + 125*x^1401 + 108*x^1400 + 87*x^1399 + 125*x^1398 + 85*x^1397 + 71*x^1396 + 84*x^1395 + 112*x^1394 + 95*x^1393 + 24*x^1392 + 49*x^1391 + 100*x^1390 + 92*x^1389 + 28*x^1388 + 96*x^1387 + 6*x^1386 + 42*x^1385 + 30*x^1384 + 82*x^1383 + 37*x^1382 + 105*x^1381 + 72*x^1380 + 31*x^1379 + 89*x^1378 + 10*x^1377 + 2*x^1376 + 66*x^1375 + 80*x^1374 + 23*x^1373 + 31*x^1372 + 12*x^1371 + 3*x^1370 + 89*x^1369 + 88*x^1368 + 118*x^1367 + 121*x^1366 + 121*x^1365 + 67*x^1364 + 120*x^1363 + 118*x^1362 + 110*x^1361 + 54*x^1360 + 120*x^1359 + 59*x^1358 + 72*x^1357 + 40*x^1356 + 121*x^1355 + 27*x^1354 + 17*x^1353 + 102*x^1352 + 122*x^1351 + 50*x^1350 + 126*x^1349 + 121*x^1348 + 107*x^1347 + 78*x^1346 + 77*x^1345 + 88*x^1344 + 101*x^1343 + 31*x^1342 + 46*x^1341 + 41*x^1340 + 74*x^1339 + 67*x^1338 + 32*x^1337 + 105*x^1336 + 60*x^1335 + 70*x^1334 + 74*x^1333 + 16*x^1332 + 63*x^1331 + 53*x^1330 + 82*x^1329 + 76*x^1328 + 98*x^1327 + 101*x^1326 + 9*x^1325 + 55*x^1324 + 59*x^1323 + 116*x^1322 + 90*x^1321 + 96*x^1320 + 36*x^1319 + 91*x^1318 + 91*x^1317 + 14*x^1316 + 83*x^1315 + 29*x^1314 + 47*x^1313 + 29*x^1312 + x^1311 + 21*x^1310 + 61*x^1309 + 53*x^1308 + 97*x^1307 + 15*x^1306 + 105*x^1305 + 51*x^1304 + 8*x^1303 + 43*x^1302 + 91*x^1301 + 89*x^1300 + 117*x^1299 + 19*x^1298 + 64*x^1297 + 40*x^1296 + 85*x^1295 + 69*x^1294 + 111*x^1293 + 81*x^1292 + 116*x^1291 + 67*x^1290 + 33*x^1289 + 122*x^1288 + 97*x^1287 + 71*x^1286 + 56*x^1285 + 84*x^1284 + 74*x^1283 + 95*x^1282 + 68*x^1281 + 32*x^1280 + 85*x^1279 + 23*x^1278 + 8*x^1277 + 106*x^1276 + 85*x^1275 + 16*x^1274 + 38*x^1273 + 10*x^1272 + 79*x^1271 + 34*x^1270 + 107*x^1269 + 60*x^1268 + 85*x^1267 + 44*x^1266 + 34*x^1265 + 91*x^1264 + 86*x^1263 + 25*x^1262 + 126*x^1261 + 15*x^1260 + 16*x^1259 + 96*x^1258 + 67*x^1257 + 47*x^1256 + 87*x^1255 + 40*x^1254 + 22*x^1253 + 38*x^1252 + 4*x^1251 + 112*x^1250 + 71*x^1249 + 115*x^1248 + 76*x^1247 + 99*x^1246 + 42*x^1245 + 101*x^1244 + 113*x^1243 + 63*x^1242 + 4*x^1241 + 82*x^1240 + 96*x^1239 + 13*x^1238 + 13*x^1237 + 35*x^1236 + 79*x^1235 + 5*x^1234 + 65*x^1233 + 39*x^1232 + 77*x^1231 + 66*x^1230 + 32*x^1229 + 36*x^1228 + 99*x^1227 + 31*x^1226 + 15*x^1225 + 80*x^1224 + 34*x^1223 + 107*x^1222 + 18*x^1221 + 104*x^1220 + 87*x^1219 + 81*x^1218 + 81*x^1217 + 84*x^1216 + 87*x^1215 + 28*x^1214 + 32*x^1213 + 77*x^1212 + 28*x^1211 + 4*x^1210 + 33*x^1209 + 91*x^1208 + 84*x^1207 + 109*x^1206 + 98*x^1205 + 57*x^1204 + 84*x^1203 + 8*x^1202 + 75*x^1201 + 48*x^1200 + 47*x^1199 + 69*x^1198 + 109*x^1197 + 11*x^1196 + 109*x^1195 + 9*x^1194 + 99*x^1193 + 56*x^1192 + 91*x^1191 + 122*x^1190 + 42*x^1189 + 49*x^1188 + 46*x^1187 + 68*x^1186 + 49*x^1185 + 60*x^1184 + 6*x^1183 + 79*x^1182 + 96*x^1181 + 109*x^1180 + 35*x^1179 + 56*x^1178 + 69*x^1177 + 5*x^1176 + 106*x^1175 + 98*x^1174 + 121*x^1173 + 68*x^1172 + 70*x^1171 + 106*x^1170 + 87*x^1169 + 88*x^1168 + 110*x^1167 + 81*x^1166 + 29*x^1165 + 85*x^1164 + 94*x^1163 + 71*x^1162 + 120*x^1161 + 96*x^1160 + 113*x^1159 + 66*x^1158 + 74*x^1157 + 45*x^1156 + 48*x^1155 + 19*x^1154 + 48*x^1153 + 71*x^1152 + 79*x^1151 + 42*x^1150 + 108*x^1149 + 32*x^1148 + 93*x^1147 + 30*x^1146 + 123*x^1145 + 6*x^1144 + 65*x^1143 + 126*x^1142 + 120*x^1141 + 113*x^1140 + 124*x^1139 + 6*x^1138 + 98*x^1137 + 16*x^1136 + 111*x^1135 + 30*x^1133 + 26*x^1132 + 78*x^1131 + 110*x^1130 + 41*x^1129 + 120*x^1128 + 73*x^1127 + 55*x^1126 + 46*x^1125 + 82*x^1124 + 120*x^1123 + 45*x^1122 + 2*x^1121 + 103*x^1120 + 122*x^1119 + 78*x^1118 + 24*x^1117 + 64*x^1116 + 74*x^1115 + 58*x^1114 + 120*x^1113 + 31*x^1112 + 104*x^1111 + 123*x^1110 + 16*x^1109 + 116*x^1108 + 29*x^1107 + 14*x^1106 + 52*x^1105 + 91*x^1104 + 93*x^1103 + 88*x^1102 + 108*x^1101 + 115*x^1100 + 55*x^1099 + 98*x^1098 + 122*x^1097 + 115*x^1096 + 16*x^1095 + 3*x^1094 + 3*x^1093 + 38*x^1092 + 5*x^1091 + 118*x^1090 + 109*x^1089 + 110*x^1088 + 86*x^1087 + 25*x^1086 + 84*x^1085 + 31*x^1084 + 103*x^1083 + 69*x^1082 + 80*x^1081 + 111*x^1080 + 45*x^1079 + 36*x^1078 + 103*x^1077 + 58*x^1076 + 81*x^1075 + 68*x^1074 + 25*x^1073 + 13*x^1072 + 19*x^1071 + 28*x^1070 + 115*x^1068 + 108*x^1067 + 111*x^1066 + 70*x^1065 + 4*x^1064 + 74*x^1063 + 105*x^1062 + 10*x^1061 + 113*x^1060 + 64*x^1059 + 26*x^1058 + 28*x^1057 + 26*x^1056 + 49*x^1055 + 31*x^1054 + 100*x^1053 + 27*x^1052 + 54*x^1051 + 64*x^1050 + 38*x^1049 + 70*x^1047 + 57*x^1046 + 83*x^1045 + 22*x^1044 + 83*x^1043 + 74*x^1042 + 49*x^1041 + 42*x^1040 + 121*x^1039 + 116*x^1038 + 124*x^1037 + 33*x^1036 + 69*x^1035 + 4*x^1034 + 70*x^1033 + 63*x^1032 + 51*x^1031 + 35*x^1030 + 84*x^1029 + 21*x^1028 + 123*x^1027 + 74*x^1026 + 76*x^1025 + 13*x^1024 + 115*x^1023 + 91*x^1022 + 85*x^1021 + x^1020 + 95*x^1019 + 23*x^1018 + 91*x^1017 + 15*x^1016 + 46*x^1015 + 78*x^1014 + 57*x^1013 + 47*x^1012 + 2*x^1011 + 52*x^1010 + 110*x^1009 + 99*x^1008 + 93*x^1007 + 46*x^1006 + 54*x^1005 + 121*x^1004 + 26*x^1003 + 109*x^1002 + 97*x^1001 + 54*x^1000 + 80*x^999 + 78*x^998 + 88*x^997 + 22*x^996 + 110*x^995 + 11*x^994 + 29*x^993 + 64*x^992 + 119*x^991 + 60*x^990 + 71*x^989 + 45*x^988 + 98*x^987 + 25*x^986 + 11*x^985 + 45*x^984 + 116*x^983 + 110*x^982 + 120*x^981 + 45*x^980 + 30*x^979 + 56*x^978 + 117*x^977 + 109*x^976 + 35*x^975 + 30*x^974 + 43*x^973 + 66*x^972 + 2*x^971 + 35*x^970 + 42*x^969 + 123*x^968 + 73*x^967 + 110*x^966 + 97*x^965 + 79*x^964 + 24*x^963 + 97*x^962 + 111*x^961 + 89*x^960 + 112*x^959 + 67*x^958 + 20*x^957 + 46*x^956 + 31*x^955 + 99*x^954 + 55*x^953 + 92*x^952 + 48*x^951 + 96*x^950 + 20*x^949 + 23*x^948 + 85*x^947 + 86*x^946 + 15*x^945 + 64*x^944 + 88*x^943 + 5*x^942 + 8*x^941 + 121*x^940 + 27*x^939 + 64*x^938 + 78*x^937 + 85*x^936 + 33*x^935 + 123*x^934 + 62*x^933 + 54*x^932 + 58*x^931 + 48*x^930 + 111*x^929 + 107*x^928 + 24*x^927 + 63*x^926 + 95*x^925 + 64*x^924 + 30*x^923 + 59*x^922 + 49*x^921 + 89*x^920 + 121*x^919 + 68*x^918 + 30*x^917 + 105*x^916 + 6*x^915 + 118*x^914 + 25*x^913 + 97*x^912 + 122*x^911 + 39*x^910 + 124*x^909 + 89*x^908 + 42*x^907 + 38*x^906 + 5*x^905 + 49*x^904 + 2*x^903 + 124*x^902 + 8*x^901 + 23*x^900 + 44*x^899 + 55*x^898 + 85*x^897 + 49*x^896 + 52*x^894 + 62*x^893 + 11*x^892 + 16*x^891 + 42*x^890 + 58*x^889 + 47*x^888 + 43*x^887 + 54*x^886 + 33*x^885 + 113*x^884 + 44*x^883 + 114*x^882 + 126*x^881 + 101*x^880 + 57*x^879 + 122*x^878 + 4*x^877 + 104*x^876 + 95*x^875 + 113*x^874 + 41*x^873 + 77*x^872 + 3*x^871 + 26*x^870 + 94*x^869 + 8*x^868 + 32*x^867 + 116*x^866 + 103*x^865 + 38*x^864 + 36*x^863 + 24*x^862 + 13*x^861 + 6*x^860 + 21*x^859 + 2*x^858 + 84*x^857 + 96*x^856 + 80*x^855 + 49*x^854 + 13*x^853 + 2*x^852 + 85*x^851 + 40*x^850 + 106*x^849 + 12*x^848 + 28*x^847 + 50*x^846 + 36*x^845 + 119*x^844 + 90*x^843 + 24*x^842 + 113*x^841 + 21*x^840 + 14*x^839 + 56*x^838 + 62*x^837 + 100*x^836 + 93*x^835 + 59*x^834 + 111*x^833 + 71*x^832 + 115*x^831 + 77*x^830 + 44*x^829 + 26*x^828 + 28*x^827 + 89*x^826 + 60*x^825 + 17*x^824 + 30*x^823 + 79*x^822 + 65*x^821 + 2*x^820 + 90*x^819 + 54*x^818 + 99*x^817 + 25*x^816 + 56*x^815 + 42*x^814 + 100*x^813 + 56*x^812 + 76*x^811 + 105*x^810 + 120*x^809 + 53*x^807 + 27*x^806 + 40*x^805 + 91*x^804 + 46*x^803 + 80*x^802 + 53*x^801 + 68*x^800 + 28*x^799 + 29*x^798 + 118*x^797 + 103*x^796 + 6*x^795 + 83*x^794 + 109*x^793 + 120*x^792 + 81*x^791 + 8*x^790 + 113*x^789 + 48*x^788 + 44*x^787 + 7*x^786 + 36*x^785 + 14*x^784 + 83*x^783 + 112*x^782 + 120*x^781 + 2*x^780 + 26*x^779 + 66*x^778 + 87*x^777 + 16*x^776 + 8*x^775 + 18*x^774 + 63*x^773 + 54*x^772 + 90*x^771 + 120*x^770 + 20*x^769 + 104*x^768 + 45*x^767 + 116*x^766 + 100*x^765 + 39*x^764 + 84*x^763 + 41*x^762 + 104*x^761 + 12*x^760 + 82*x^759 + 31*x^758 + 3*x^757 + 64*x^756 + 19*x^755 + 42*x^754 + 111*x^753 + 60*x^752 + 96*x^751 + 77*x^750 + 90*x^749 + 59*x^748 + 83*x^747 + 29*x^746 + 81*x^745 + 17*x^744 + 75*x^743 + 92*x^742 + 51*x^741 + 116*x^740 + 41*x^739 + 97*x^738 + 81*x^737 + 79*x^736 + 70*x^735 + 36*x^734 + 5*x^733 + 11*x^732 + x^730 + 109*x^729 + 99*x^728 + 30*x^727 + 81*x^726 + 111*x^725 + 6*x^724 + 62*x^723 + 65*x^722 + 82*x^721 + 50*x^720 + 101*x^719 + 105*x^718 + 51*x^717 + 3*x^716 + 126*x^715 + 64*x^714 + 54*x^713 + 69*x^712 + 36*x^711 + 74*x^710 + 99*x^709 + 21*x^708 + 68*x^707 + 46*x^706 + 79*x^705 + 94*x^704 + 37*x^703 + 126*x^702 + 34*x^701 + 115*x^700 + 23*x^699 + 75*x^698 + 74*x^697 + 3*x^695 + 110*x^694 + 57*x^693 + 63*x^692 + x^691 + 67*x^690 + 30*x^689 + 44*x^688 + 26*x^687 + 72*x^686 + 3*x^685 + 94*x^684 + 112*x^683 + 85*x^682 + 123*x^681 + 4*x^680 + 121*x^679 + 4*x^678 + 10*x^677 + 6*x^676 + 23*x^675 + 98*x^674 + 75*x^673 + 27*x^672 + 126*x^671 + 120*x^670 + 55*x^669 + 104*x^668 + 81*x^667 + 88*x^666 + 99*x^665 + 68*x^664 + 40*x^663 + 13*x^662 + 54*x^661 + 121*x^660 + 12*x^659 + 7*x^658 + 25*x^657 + 93*x^656 + 43*x^655 + 25*x^654 + 69*x^653 + 106*x^652 + 17*x^651 + 124*x^650 + 73*x^649 + 18*x^648 + 124*x^647 + 29*x^646 + 10*x^645 + 70*x^644 + 94*x^643 + 34*x^642 + 87*x^641 + 65*x^640 + 35*x^639 + 78*x^638 + 89*x^637 + 43*x^636 + 89*x^635 + 63*x^634 + 99*x^633 + 2*x^632 + 31*x^631 + 39*x^630 + 120*x^629 + 64*x^628 + 99*x^627 + 16*x^626 + 123*x^625 + 65*x^624 + 47*x^623 + 44*x^622 + 33*x^621 + 91*x^620 + 31*x^619 + 29*x^618 + 53*x^617 + 4*x^616 + 29*x^615 + 59*x^614 + 118*x^613 + 26*x^612 + 60*x^611 + 116*x^610 + 118*x^609 + 55*x^608 + 45*x^607 + 28*x^606 + x^605 + 23*x^604 + 45*x^603 + 8*x^602 + 47*x^601 + 33*x^600 + 120*x^599 + 53*x^598 + 40*x^597 + 87*x^596 + 18*x^595 + 38*x^594 + 2*x^593 + 27*x^592 + 119*x^591 + 15*x^590 + 47*x^589 + 111*x^588 + 108*x^587 + 77*x^586 + 98*x^585 + 94*x^584 + 114*x^583 + 85*x^582 + 31*x^581 + 77*x^580 + 19*x^579 + 111*x^577 + 10*x^576 + 56*x^575 + 25*x^574 + 31*x^573 + 103*x^572 + 75*x^571 + 48*x^570 + 35*x^569 + 84*x^568 + 107*x^567 + 20*x^566 + 68*x^565 + 58*x^564 + 93*x^563 + 61*x^562 + 16*x^561 + 29*x^560 + 90*x^559 + 73*x^558 + 107*x^557 + 28*x^556 + 124*x^555 + 6*x^554 + 80*x^553 + 38*x^552 + 95*x^551 + 40*x^550 + 43*x^549 + 106*x^548 + 67*x^547 + 106*x^545 + 116*x^544 + 9*x^543 + 100*x^542 + 44*x^541 + 21*x^540 + 64*x^539 + 26*x^538 + 60*x^537 + 97*x^536 + 29*x^535 + 60*x^534 + 21*x^533 + 23*x^532 + 90*x^531 + 100*x^530 + 7*x^529 + 37*x^528 + 7*x^527 + 28*x^526 + 54*x^525 + 103*x^524 + 95*x^523 + 13*x^522 + 41*x^521 + 117*x^520 + 47*x^519 + 103*x^518 + 65*x^517 + 74*x^516 + 59*x^515 + 120*x^514 + 79*x^513 + 26*x^512 + 123*x^511 + 83*x^510 + 21*x^509 + 111*x^508 + 41*x^507 + 81*x^506 + 82*x^505 + 3*x^504 + 32*x^503 + 60*x^502 + 3*x^501 + 98*x^500 + x^499 + 122*x^498 + 14*x^497 + 5*x^496 + 47*x^494 + 30*x^493 + 20*x^492 + 66*x^490 + 68*x^489 + 117*x^488 + 23*x^487 + 114*x^486 + 14*x^485 + 113*x^484 + 120*x^483 + 9*x^482 + 60*x^481 + 63*x^480 + 65*x^479 + 24*x^478 + 12*x^477 + 50*x^476 + 98*x^475 + 24*x^474 + 101*x^473 + 30*x^472 + 108*x^471 + 106*x^470 + 47*x^469 + 36*x^468 + 71*x^467 + 104*x^466 + 106*x^465 + 48*x^464 + 123*x^463 + 61*x^462 + 77*x^460 + 76*x^459 + 109*x^458 + 42*x^457 + 78*x^456 + 81*x^455 + 77*x^454 + 83*x^453 + 16*x^452 + 93*x^451 + 31*x^450 + 37*x^449 + 86*x^448 + 114*x^447 + 125*x^446 + 124*x^445 + 13*x^444 + 5*x^443 + 80*x^442 + 53*x^441 + 32*x^440 + 115*x^439 + 114*x^438 + 11*x^437 + 4*x^436 + 12*x^435 + 7*x^434 + 125*x^433 + 52*x^432 + 54*x^431 + 23*x^430 + 80*x^429 + 123*x^428 + 65*x^427 + 10*x^426 + 11*x^425 + 40*x^424 + 98*x^423 + 96*x^422 + 17*x^421 + 19*x^420 + 94*x^419 + 21*x^418 + 97*x^417 + 120*x^416 + 98*x^415 + 107*x^414 + 69*x^413 + 91*x^412 + 45*x^411 + 93*x^410 + 56*x^409 + 35*x^408 + 36*x^407 + 38*x^406 + 58*x^405 + 83*x^404 + 42*x^403 + 94*x^402 + 13*x^401 + 28*x^400 + 32*x^399 + 94*x^398 + 4*x^397 + 72*x^395 + 29*x^394 + 114*x^393 + 29*x^392 + 19*x^391 + 92*x^390 + 30*x^389 + 9*x^388 + 15*x^387 + 78*x^386 + 12*x^385 + 35*x^384 + 44*x^383 + 10*x^382 + 113*x^381 + 113*x^380 + 9*x^379 + 118*x^378 + 54*x^377 + 123*x^376 + 77*x^375 + 93*x^374 + 60*x^373 + 13*x^372 + 42*x^371 + 116*x^370 + 21*x^369 + 29*x^368 + 4*x^367 + 87*x^366 + 110*x^365 + 67*x^364 + 105*x^363 + 34*x^362 + 8*x^361 + 66*x^360 + 105*x^359 + 42*x^358 + 84*x^357 + 27*x^356 + 87*x^355 + 11*x^354 + 50*x^353 + 84*x^352 + 10*x^351 + 111*x^350 + 2*x^349 + 87*x^348 + 93*x^347 + 46*x^346 + 90*x^345 + 14*x^344 + 125*x^343 + 108*x^342 + 46*x^340 + 53*x^339 + 81*x^338 + 49*x^337 + 94*x^336 + 115*x^335 + 83*x^334 + 75*x^333 + 91*x^332 + 66*x^331 + 99*x^330 + 91*x^329 + 84*x^328 + 58*x^327 + 65*x^326 + 121*x^325 + 68*x^324 + 29*x^323 + 47*x^322 + 8*x^321 + 102*x^320 + 108*x^319 + 114*x^318 + 124*x^317 + 11*x^316 + 110*x^315 + 92*x^314 + 107*x^313 + 115*x^312 + 44*x^311 + 102*x^310 + 71*x^309 + 70*x^308 + 3*x^307 + 67*x^306 + 18*x^305 + 125*x^304 + 92*x^303 + 80*x^302 + 82*x^301 + 14*x^300 + 76*x^299 + 87*x^298 + 16*x^297 + 13*x^296 + 59*x^295 + 5*x^294 + 105*x^293 + 95*x^292 + 48*x^291 + 16*x^290 + 30*x^289 + 3*x^288 + 15*x^287 + 9*x^286 + 25*x^285 + 56*x^284 + 18*x^283 + 92*x^282 + 96*x^281 + 36*x^280 + 14*x^279 + 60*x^278 + 69*x^277 + 78*x^276 + 52*x^275 + 48*x^274 + 118*x^273 + 25*x^272 + 77*x^271 + 103*x^270 + 84*x^269 + 92*x^268 + 124*x^267 + 75*x^266 + 97*x^265 + 50*x^264 + 55*x^263 + 19*x^262 + 98*x^261 + 56*x^260 + 80*x^259 + 11*x^258 + 72*x^257 + 53*x^256 + x^255 + 3*x^254 + 104*x^253 + 13*x^252 + 25*x^251 + 86*x^250 + 117*x^249 + 65*x^248 + 102*x^247 + 65*x^246 + 54*x^245 + 30*x^244 + 12*x^243 + 12*x^242 + 5*x^241 + 92*x^240 + 25*x^239 + 66*x^237 + 5*x^236 + 59*x^235 + 13*x^234 + 104*x^233 + 13*x^231 + 21*x^230 + 71*x^229 + 32*x^228 + 85*x^227 + 54*x^226 + 89*x^225 + 86*x^224 + 108*x^223 + 109*x^222 + 97*x^221 + 44*x^220 + 88*x^219 + 49*x^218 + 90*x^217 + 102*x^216 + 122*x^215 + 67*x^214 + 20*x^213 + 30*x^212 + 122*x^211 + 96*x^210 + 105*x^209 + 100*x^208 + 111*x^207 + 43*x^206 + 10*x^205 + 90*x^204 + 79*x^203 + 57*x^202 + 112*x^201 + 81*x^200 + 10*x^199 + 57*x^198 + 69*x^197 + 69*x^196 + 33*x^195 + 120*x^194 + 101*x^193 + 90*x^192 + 63*x^191 + 37*x^190 + 22*x^189 + 65*x^188 + 96*x^187 + 91*x^186 + 12*x^185 + 29*x^184 + 53*x^183 + 28*x^182 + 105*x^181 + 73*x^180 + 97*x^179 + 22*x^178 + 78*x^177 + 13*x^176 + 109*x^175 + 60*x^174 + 29*x^173 + 29*x^172 + 87*x^171 + 62*x^170 + 87*x^169 + 101*x^168 + 109*x^167 + 90*x^166 + 16*x^165 + 39*x^164 + 92*x^163 + 76*x^162 + 75*x^161 + 3*x^160 + 102*x^159 + 117*x^158 + 33*x^157 + 60*x^156 + 75*x^155 + 33*x^154 + 104*x^153 + 48*x^152 + 82*x^151 + 67*x^150 + 17*x^149 + 34*x^148 + 26*x^147 + 48*x^146 + 84*x^145 + 110*x^144 + 97*x^143 + 7*x^142 + 19*x^141 + 84*x^140 + 79*x^139 + 64*x^138 + 8*x^137 + 38*x^136 + 51*x^135 + 35*x^134 + 21*x^133 + 99*x^132 + 114*x^131 + 57*x^130 + 45*x^129 + 52*x^128 + 92*x^127 + 6*x^126 + 19*x^125 + x^124 + 27*x^123 + 70*x^122 + 95*x^121 + 58*x^120 + 114*x^119 + 62*x^118 + 46*x^117 + 22*x^116 + 87*x^115 + 26*x^114 + 26*x^113 + 6*x^112 + 100*x^111 + 57*x^110 + 6*x^109 + 122*x^108 + 87*x^107 + 46*x^106 + 32*x^105 + 62*x^104 + 23*x^103 + 110*x^102 + 121*x^101 + 36*x^100 + x^99 + 124*x^98 + 97*x^97 + 100*x^96 + 61*x^95 + 3*x^94 + 89*x^93 + 110*x^92 + 108*x^91 + 64*x^90 + 61*x^89 + 12*x^88 + 66*x^87 + 102*x^86 + 82*x^85 + 41*x^84 + 105*x^83 + 3*x^82 + 67*x^81 + 117*x^80 + 36*x^79 + 35*x^78 + 45*x^77 + 98*x^76 + 97*x^75 + 4*x^74 + 68*x^73 + 95*x^72 + 32*x^71 + 58*x^70 + 83*x^69 + 116*x^68 + 109*x^67 + 70*x^66 + 101*x^65 + 123*x^64 + x^63 + 17*x^62 + 110*x^61 + 85*x^60 + 103*x^59 + 106*x^58 + 34*x^56 + 42*x^55 + 48*x^54 + 75*x^53 + 95*x^52 + 13*x^51 + 45*x^50 + 40*x^49 + 27*x^48 + 117*x^47 + 84*x^46 + 51*x^45 + 94*x^44 + 92*x^43 + 22*x^42 + 99*x^41 + 12*x^40 + 78*x^39 + 90*x^38 + 20*x^37 + 70*x^36 + 52*x^35 + 71*x^34 + 58*x^33 + 111*x^32 + 51*x^31 + 90*x^30 + 121*x^29 + 55*x^28 + 109*x^27 + 61*x^26 + 47*x^25 + 68*x^24 + 56*x^23 + 63*x^22 + 39*x^21 + 85*x^20 + 34*x^19 + 77*x^18 + 55*x^17 + 4*x^16 + 93*x^15 + 60*x^14 + 3*x^13 + 124*x^12 + 30*x^11 + 70*x^10 + 46*x^9 + 79*x^8 + 14*x^7 + 3*x^6 + 47*x^5 + 17*x^4 + 49*x^3 + 108*x^2 + 19*x + 56"
      ]
     },
     "execution_count": 81,
     "metadata": {},
     "output_type": "execute_result"
    }
   ],
   "source": [
    "phi = E.division_polynomial(129)\n",
    "phi"
   ]
  },
  {
   "cell_type": "code",
   "execution_count": 82,
   "metadata": {},
   "outputs": [
    {
     "data": {
      "text/plain": [
       "(2) * (x + 1) * (x + 2) * (x + 3) * (x + 6) * (x + 8) * (x + 12) * (x + 13) * (x + 18) * (x + 21) * (x + 22) * (x + 24) * (x + 25) * (x + 27) * (x + 29) * (x + 30) * (x + 34) * (x + 35) * (x + 40) * (x + 42) * (x + 43) * (x + 47) * (x + 49) * (x + 54) * (x + 55) * (x + 56) * (x + 58) * (x + 59) * (x + 61) * (x + 62) * (x + 66) * (x + 69) * (x + 70) * (x + 71) * (x + 72) * (x + 73) * (x + 74) * (x + 76) * (x + 77) * (x + 78) * (x + 82) * (x + 84) * (x + 86) * (x + 87) * (x + 88) * (x + 89) * (x + 93) * (x + 96) * (x + 99) * (x + 102) * (x + 103) * (x + 104) * (x + 105) * (x + 106) * (x + 107) * (x + 108) * (x + 109) * (x + 116) * (x + 117) * (x + 118) * (x + 119) * (x + 121) * (x + 122) * (x + 123) * (x + 124) * (x^3 + x^2 + 95*x + 7) * (x^3 + 3*x^2 + 68*x + 114) * (x^3 + 10*x^2 + 37*x + 44) * (x^3 + 13*x^2 + 60*x + 14) * (x^3 + 16*x^2 + 83*x + 111) * (x^3 + 17*x^2 + 6*x + 101) * (x^3 + 18*x^2 + 56*x + 91) * (x^3 + 27*x^2 + 125*x + 1) * (x^3 + 29*x^2 + 98*x + 108) * (x^3 + 30*x^2 + 21*x + 98) * (x^3 + 32*x^2 + 121*x + 78) * (x^3 + 37*x^2 + 117*x + 28) * (x^3 + 41*x^2 + 63*x + 115) * (x^3 + 43*x^2 + 36*x + 95) * (x^3 + 46*x^2 + 59*x + 65) * (x^3 + 50*x^2 + 5*x + 25) * (x^3 + 51*x^2 + 55*x + 15) * (x^3 + 62*x^2 + 97*x + 32) * (x^3 + 69*x^2 + 66*x + 89) * (x^3 + 70*x^2 + 116*x + 79) * (x^3 + 74*x^2 + 62*x + 39) * (x^3 + 75*x^2 + 112*x + 29) * (x^3 + 78*x^2 + 8*x + 126) * (x^3 + 80*x^2 + 108*x + 106) * (x^3 + 82*x^2 + 81*x + 86) * (x^3 + 83*x^2 + 4*x + 76) * (x^3 + 84*x^2 + 54*x + 66) * (x^3 + 86*x^2 + 27*x + 46) * (x^3 + 87*x^2 + 77*x + 36) * (x^3 + 88*x^2 + 26) * (x^3 + 89*x^2 + 50*x + 16) * (x^3 + 93*x^2 + 123*x + 103) * (x^3 + 95*x^2 + 96*x + 83) * (x^3 + 96*x^2 + 19*x + 73) * (x^3 + 99*x^2 + 42*x + 43) * (x^3 + 100*x^2 + 92*x + 33) * (x^3 + 102*x^2 + 65*x + 13) * (x^3 + 103*x^2 + 115*x + 3) * (x^3 + 112*x^2 + 57*x + 40) * (x^3 + 115*x^2 + 80*x + 10) * (x^3 + 118*x^2 + 103*x + 107) * (x^3 + 121*x^2 + 126*x + 77) * (x^3 + 125*x^2 + 72*x + 37) * (x^7 + 4*x^5 + 109*x^4 + 77*x^3 + 75*x^2 + 74*x + 12) * (x^7 + 5*x^5 + 72*x^4 + 81*x^3 + 48*x^2 + 3*x + 10) * (x^7 + 6*x^5 + 93*x^4 + 66*x^3 + 97*x^2 + 37*x + 90) * (x^7 + 16*x^5 + 41*x^4 + 63*x^3 + 103*x^2 + 8*x + 11) * (x^7 + 55*x^5 + x^4 + 26*x^3 + 78*x^2 + 109*x + 61) * (x^7 + 59*x^5 + 104*x^4 + 60*x^3 + 19*x^2 + 110*x + 96) * (x^7 + 91*x^5 + 42*x^4 + 19*x^3 + 70*x^2 + 41*x + 49) * (x^7 + 94*x^5 + 36*x^4 + 87*x^3 + 82*x^2 + 125*x + 48) * (x^7 + 121*x^5 + 61*x^4 + 71*x^3 + 111*x^2 + 114*x + 114) * (x^7 + x^6 + 14*x^5 + 31*x^4 + 97*x^3 + 41*x^2 + 52*x + 125) * (x^7 + x^6 + 80*x^5 + 88*x^4 + 99*x^3 + 30*x^2 + 69*x + 44) * (x^7 + 2*x^6 + 7*x^5 + 30*x^4 + 120*x^3 + 89*x^2 + 66*x + 105) * (x^7 + 2*x^6 + 28*x^5 + 117*x^4 + 40*x^3 + 15*x^2 + 71*x + 104) * (x^7 + 2*x^6 + 119*x^5 + 80*x^4 + 48*x^3 + 97*x^2 + 21*x + 83) * (x^7 + 3*x^6 + 29*x^5 + 108*x^4 + 91*x^3 + 82*x^2 + 51*x + 103) * (x^7 + 3*x^6 + 60*x^5 + 102*x^4 + 69*x^3 + 79*x^2 + 79*x + 15) * (x^7 + 3*x^6 + 96*x^5 + 3*x^3 + 27*x^2 + 91*x + 51) * (x^7 + 3*x^6 + 112*x^5 + 54*x^4 + 2*x^3 + 17*x^2 + 45*x + 76) * (x^7 + 4*x^6 + 30*x^5 + 15*x^4 + 93*x^3 + 33*x^2 + 2*x + 77) * (x^7 + 5*x^6 + 30*x^5 + 19*x^4 + 98*x^3 + 79*x^2 + 116*x + 48) * (x^7 + 5*x^6 + 39*x^5 + 2*x^4 + 72*x^3 + 83*x^2 + 70*x + 84) * (x^7 + 5*x^6 + 69*x^5 + 105*x^4 + 94*x^3 + 11*x^2 + 84*x + 86) * (x^7 + 5*x^6 + 80*x^5 + 59*x^4 + 60*x^3 + 30*x^2 + 66*x + 45) * (x^7 + 5*x^6 + 100*x^5 + 74*x^4 + 41*x^3 + 41*x^2 + 11*x + 15) * (x^7 + 5*x^6 + 112*x^5 + 117*x^4 + 83*x^3 + 16*x^2 + 110*x + 59) * (x^7 + 7*x^6 + 14*x^5 + 7*x^4 + 38*x^3 + 78*x^2 + 33*x + 32) * (x^7 + 7*x^6 + 51*x^5 + 32*x^4 + 101*x^3 + 24*x^2 + 77*x + 38) * (x^7 + 7*x^6 + 115*x^5 + 90*x^4 + 106*x^3 + 120*x^2 + 80*x + 53) * (x^7 + 7*x^6 + 126*x^5 + 4*x^4 + 91*x^3 + 11*x^2 + 99*x + 122) * (x^7 + 8*x^6 + 120*x^5 + 126*x^4 + 114*x^3 + 45*x^2 + 125*x + 61) * (x^7 + 8*x^6 + 123*x^5 + 30*x^4 + 3*x^3 + 46*x^2 + 116*x + 46) * (x^7 + 9*x^6 + 104*x^5 + 38*x^4 + 25*x^3 + 80*x^2 + 122*x + 108) * (x^7 + 9*x^6 + 110*x^5 + 80*x^4 + 26*x^3 + 33*x^2 + 57*x + 96) * (x^7 + 9*x^6 + 111*x^5 + 13*x^4 + 122*x^3 + 104*x^2 + 13*x + 66) * (x^7 + 9*x^6 + 115*x^5 + 12*x^4 + 47*x^3 + 35*x^2 + 101*x + 20) * (x^7 + 10*x^6 + 42*x^5 + 49*x^4 + 59*x^3 + 77*x^2 + 117*x + 38) * (x^7 + 10*x^6 + 90*x^5 + 42*x^4 + 71*x^3 + 62*x^2 + 110*x + 95) * (x^7 + 10*x^6 + 91*x^5 + 96*x^4 + 44*x^3 + 18*x^2 + 61*x + 56) * (x^7 + 11*x^6 + 71*x^4 + 73*x^3 + 44*x^2 + 111*x + 56) * (x^7 + 11*x^6 + 90*x^5 + 72*x^4 + 103*x^3 + 40*x^2 + 42*x + 104) * (x^7 + 11*x^6 + 98*x^5 + 30*x^4 + 28*x^3 + 3*x^2 + 122*x + 47) * (x^7 + 11*x^6 + 113*x^5 + 64*x^4 + 31*x^3 + 70*x^2 + 70*x + 101) * (x^7 + 12*x^6 + 126*x^5 + 101*x^4 + 78*x^3 + 6*x^2 + 98*x + 79) * (x^7 + 13*x^6 + 10*x^5 + 113*x^4 + 51*x^3 + 61*x^2 + 95*x + 74) * (x^7 + 13*x^6 + 33*x^5 + 106*x^4 + 76*x^3 + 51*x^2 + 29*x + 11) * (x^7 + 13*x^6 + 44*x^5 + 112*x^4 + 28*x^3 + 12*x^2 + 108*x + 83) * (x^7 + 13*x^6 + 48*x^5 + 93*x^4 + 24*x^3 + 118*x^2 + 63*x + 58) * (x^7 + 13*x^6 + 67*x^5 + 119*x^4 + 37*x^3 + 17*x^2 + 46*x + 75) * (x^7 + 14*x^6 + 50*x^5 + 23*x^4 + 70*x^3 + 45*x^2 + 70*x + 115) * (x^7 + 14*x^6 + 64*x^5 + 113*x^4 + 115*x^3 + 95*x^2 + 47*x + 47) * (x^7 + 14*x^6 + 85*x^5 + 66*x^4 + 102*x^3 + 26*x^2 + 20*x + 27) * (x^7 + 15*x^6 + 124*x^4 + 55*x^3 + 120*x^2 + 93*x + 40) * (x^7 + 15*x^6 + 3*x^5 + 98*x^4 + 47*x^3 + 98*x^2 + 53*x + 18) * (x^7 + 15*x^6 + 14*x^5 + 80*x^4 + 97*x^3 + 99*x^2 + 13*x + 111) * (x^7 + 15*x^6 + 48*x^5 + 19*x^3 + 2*x^2 + 46*x + 10) * (x^7 + 15*x^6 + 68*x^5 + 64*x^4 + 39*x^3 + 71*x^2 + 28*x + 96) * (x^7 + 15*x^6 + 78*x^5 + 113*x^4 + 104*x^3 + 125*x^2 + 73*x + 94) * (x^7 + 16*x^6 + 120*x^5 + 100*x^4 + 23*x^3 + 62*x^2 + 41*x + 77) * (x^7 + 16*x^6 + 123*x^5 + 43*x^4 + 56*x^3 + 107*x^2 + 63*x + 120) * (x^7 + 18*x^6 + 68*x^5 + 26*x^4 + 54*x^3 + 21*x^2 + 112*x + 61) * (x^7 + 18*x^6 + 85*x^5 + 86*x^4 + 36*x^3 + 49*x^2 + 106*x + 25) * (x^7 + 18*x^6 + 92*x^5 + 86*x^4 + 14*x^3 + 100*x^2 + 119*x + 5) * (x^7 + 19*x^6 + 72*x^5 + 52*x^4 + 27*x^3 + 71*x^2 + 119*x + 41) * (x^7 + 20*x^6 + 3*x^5 + 121*x^4 + 43*x^3 + 96*x + 106) * (x^7 + 20*x^6 + 51*x^5 + 39*x^4 + 107*x^3 + 53*x^2 + 12*x + 41) * (x^7 + 20*x^6 + 104*x^5 + 3*x^4 + 83*x^3 + 107*x^2 + 69*x + 106) * (x^7 + 21*x^6 + 33*x^5 + 2*x^4 + 70*x^3 + 57*x^2 + 58*x + 57) * (x^7 + 21*x^6 + 70*x^5 + 27*x^4 + 73*x^3 + 26*x^2 + 36*x + 33) * (x^7 + 21*x^6 + 83*x^5 + 36*x^4 + 78*x^3 + 24*x^2 + 58*x + 69) * (x^7 + 22*x^6 + 30*x^5 + 9*x^4 + 31*x^3 + 44*x^2 + 31*x + 12) * (x^7 + 22*x^6 + 32*x^5 + 20*x^4 + 93*x^3 + 18*x^2 + 126*x + 5) * (x^7 + 22*x^6 + 59*x^5 + 35*x^4 + 87*x^3 + 69*x^2 + 11*x + 122) * (x^7 + 23*x^6 + 32*x^5 + 94*x^4 + 21*x^3 + 88*x^2 + 40*x + 19) * (x^7 + 23*x^6 + 50*x^5 + 55*x^4 + 104*x^3 + 22*x^2 + 56*x + 112) * (x^7 + 23*x^6 + 63*x^5 + 65*x^4 + 76*x^3 + 44*x^2 + 52*x + 21) * (x^7 + 23*x^6 + 121*x^5 + 30*x^4 + 106*x^3 + 10*x^2 + 68*x + 41) * (x^7 + 25*x^6 + 10*x^5 + 37*x^4 + 74*x^3 + 52*x^2 + 54*x + 107) * (x^7 + 25*x^6 + 71*x^5 + 87*x^4 + 117*x^3 + 19*x^2 + 66*x + 43) * (x^7 + 25*x^6 + 85*x^5 + 90*x^3 + 37*x^2 + 15*x + 75) * (x^7 + 25*x^6 + 93*x^5 + 31*x^4 + 48*x^3 + 99*x^2 + x + 97) * (x^7 + 25*x^6 + 97*x^5 + 45*x^4 + 69*x^3 + 29*x^2 + 44*x + 110) * (x^7 + 26*x^6 + 59*x^5 + 2*x^4 + 107*x^3 + 70*x^2 + 63*x + 76) * (x^7 + 26*x^6 + 97*x^5 + 34*x^4 + 73*x^3 + 98*x^2 + 114*x + 116) * (x^7 + 26*x^6 + 126*x^5 + 5*x^4 + 74*x^3 + 46*x^2 + 70*x + 71) * (x^7 + 27*x^6 + 6*x^5 + 90*x^4 + 125*x^3 + 13*x^2 + 99*x + 15) * (x^7 + 28*x^6 + 68*x^5 + 121*x^4 + 14*x^3 + 81*x^2 + 40*x + 108) * (x^7 + 30*x^6 + 67*x^5 + 58*x^4 + 56*x^3 + 83*x^2 + 27*x + 24) * (x^7 + 30*x^6 + 80*x^5 + 52*x^4 + 79*x^3 + 96*x^2 + 42*x + 76) * (x^7 + 30*x^6 + 85*x^5 + 101*x^4 + 111*x^3 + 73*x^2 + 3*x + 77) * (x^7 + 30*x^6 + 119*x^5 + 69*x^4 + 118*x^3 + 21*x^2 + 82*x + 95) * (x^7 + 31*x^6 + 2*x^5 + 99*x^4 + 86*x^3 + 22*x^2 + 50*x + 65) * (x^7 + 31*x^6 + 25*x^5 + 20*x^4 + 109*x^3 + 93*x^2 + 126*x + 126) * (x^7 + 31*x^6 + 40*x^5 + 122*x^4 + 109*x^3 + 5*x^2 + 3*x + 101) * (x^7 + 31*x^6 + 70*x^5 + 118*x^4 + 57*x^3 + 119*x^2 + 13*x + 60) * (x^7 + 31*x^6 + 115*x^5 + 56*x^4 + 68*x^2 + 59*x + 1) * (x^7 + 32*x^6 + 73*x^5 + 54*x^4 + 106*x^3 + 17*x^2 + 76*x + 39) * (x^7 + 33*x^6 + x^5 + 114*x^4 + 55*x^3 + 50*x^2 + 49*x + 59) * (x^7 + 33*x^6 + 12*x^5 + 65*x^4 + 80*x^3 + 9*x^2 + 32*x + 58) * (x^7 + 33*x^6 + 114*x^5 + 36*x^4 + 89*x^3 + 55*x^2 + 55*x + 81) * (x^7 + 34*x^6 + 25*x^5 + 103*x^4 + 51*x^3 + 87*x^2 + 13*x + 30) * (x^7 + 34*x^6 + 63*x^5 + 110*x^4 + 6*x^3 + 18*x^2 + 74*x + 12) * (x^7 + 34*x^6 + 100*x^5 + 21*x^4 + 21*x^3 + 36*x^2 + 62*x + 114) * (x^7 + 34*x^6 + 101*x^5 + 97*x^4 + 2*x^3 + 118*x^2 + 104*x + 45) * (x^7 + 34*x^6 + 122*x^5 + 37*x^4 + 17*x^3 + 41*x^2 + 6*x + 45) * (x^7 + 35*x^6 + 31*x^5 + 79*x^4 + 36*x^3 + 101*x^2 + 42*x + 86) * (x^7 + 36*x^6 + 36*x^5 + 39*x^4 + 50*x^3 + 114*x^2 + 57*x + 47) * (x^7 + 36*x^6 + 111*x^5 + 76*x^4 + 6*x^3 + 41*x^2 + 36*x + 83) * (x^7 + 37*x^6 + 3*x^5 + 87*x^4 + 86*x^3 + 57*x^2 + 110*x + 83) * (x^7 + 37*x^6 + 14*x^5 + 12*x^4 + 27*x^3 + 106*x^2 + 83*x + 116) * (x^7 + 37*x^6 + 97*x^5 + 26*x^4 + 6*x^3 + 56*x^2 + 24) * (x^7 + 37*x^6 + 107*x^5 + 73*x^4 + 8*x^3 + 93*x^2 + 92*x + 96) * (x^7 + 37*x^6 + 122*x^5 + 53*x^4 + 46*x^3 + 13*x^2 + 87*x + 58) * (x^7 + 38*x^6 + 54*x^5 + 36*x^4 + 118*x^3 + 126*x^2 + 91*x + 59) * (x^7 + 38*x^6 + 117*x^5 + 53*x^4 + 2*x^3 + 75*x^2 + 91*x + 17) * (x^7 + 39*x^6 + 84*x^5 + 19*x^4 + 17*x^3 + 81*x^2 + 81*x + 78) * (x^7 + 40*x^6 + 8*x^5 + 105*x^4 + 2*x^3 + 21*x^2 + 8*x + 18) * (x^7 + 40*x^6 + 19*x^5 + 42*x^4 + 122*x^3 + 70*x^2 + 67*x + 102) * (x^7 + 40*x^6 + 71*x^5 + 10*x^4 + 72*x^3 + 90*x^2 + 95*x + 8) * (x^7 + 40*x^6 + 83*x^5 + 122*x^4 + 6*x^3 + 71*x^2 + 116*x + 26) * (x^7 + 41*x^6 + 51*x^5 + 123*x^4 + 74*x^3 + x^2 + 43*x + 61) * (x^7 + 41*x^6 + 67*x^5 + 126*x^4 + 17*x^3 + 7*x^2 + 4*x + 77) * (x^7 + 42*x^6 + 30*x^5 + 4*x^4 + 83*x^3 + 55*x^2 + 67*x + 54) * (x^7 + 42*x^6 + 90*x^5 + 6*x^4 + 60*x^3 + 85*x^2 + 113*x + 1) * (x^7 + 42*x^6 + 92*x^5 + 27*x^4 + 25*x^3 + 119*x^2 + 119*x + 115) * (x^7 + 42*x^6 + 98*x^5 + 109*x^4 + 33*x^3 + 114*x^2 + 86*x + 72) * (x^7 + 42*x^6 + 113*x^5 + 119*x^4 + 81*x^3 + 22*x^2 + 84*x + 62) * (x^7 + 42*x^6 + 114*x^5 + 10*x^4 + 104*x^3 + 78*x^2 + 56*x + 89) * (x^7 + 43*x^6 + 15*x^5 + 12*x^4 + 121*x^3 + 101*x^2 + 107*x + 126) * (x^7 + 43*x^6 + 45*x^5 + 13*x^4 + 92*x^3 + 83*x^2 + 22*x + 7) * (x^7 + 43*x^6 + 60*x^5 + 4*x^4 + 82*x^3 + 122*x^2 + 103*x + 109) * (x^7 + 43*x^6 + 105*x^5 + 13*x^4 + 54*x^3 + 19*x^2 + 39*x + 105) * (x^7 + 43*x^6 + 112*x^5 + 6*x^4 + 41*x^3 + 91*x^2 + 49*x + 26) * (x^7 + 44*x^6 + 44*x^5 + 46*x^4 + 94*x^3 + 62*x^2 + 117*x + 82) * (x^7 + 45*x^6 + 118*x^5 + 14*x^4 + 15*x^3 + 102*x^2 + 25*x + 110) * (x^7 + 46*x^6 + 13*x^5 + 81*x^4 + 83*x^3 + 44*x^2 + 61*x + 34) * (x^7 + 46*x^6 + 75*x^5 + 88*x^4 + 71*x^3 + 13*x^2 + 113*x + 99) * (x^7 + 46*x^6 + 96*x^5 + 21*x^4 + 80*x^3 + 84*x^2 + 91*x + 95) * (x^7 + 47*x^6 + 39*x^5 + 95*x^4 + 110*x^3 + 49*x^2 + 122*x + 85) * (x^7 + 48*x^6 + 10*x^5 + 59*x^4 + 19*x^3 + 118*x^2 + 12*x + 56) * (x^7 + 48*x^6 + 94*x^5 + 35*x^4 + 59*x^3 + 84*x^2 + 116*x + 40) * (x^7 + 48*x^6 + 105*x^5 + 27*x^4 + 121*x^3 + 118*x^2 + 18*x + 38) * (x^7 + 48*x^6 + 109*x^5 + 58*x^4 + 94*x^3 + 34*x^2 + 120*x + 126) * (x^7 + 49*x^6 + 67*x^4 + 24*x^3 + 111*x^2 + 37*x + 110) * (x^7 + 49*x^6 + 29*x^5 + 20*x^4 + 117*x^3 + 75*x^2 + 64*x + 123) * (x^7 + 49*x^6 + 30*x^5 + 9*x^4 + 29*x^3 + 71*x^2 + 105*x + 12) * (x^7 + 49*x^6 + 105*x^5 + 55*x^4 + 12*x^3 + 3*x^2 + 101*x + 62) * (x^7 + 49*x^6 + 111*x^5 + 11*x^4 + 3*x^3 + 80*x^2 + 87*x + 18) * (x^7 + 50*x^6 + 31*x^5 + 91*x^4 + 98*x^3 + 12*x^2 + 18*x + 21) * (x^7 + 50*x^6 + 74*x^5 + 108*x^4 + 38*x^3 + 12*x^2 + 19*x + 104) * (x^7 + 52*x^6 + 99*x^4 + 52*x^3 + 19*x^2 + 96*x + 16) * (x^7 + 52*x^6 + 3*x^5 + 68*x^4 + 119*x^3 + 38*x^2 + 116*x + 68) * (x^7 + 52*x^6 + 70*x^5 + 71*x^4 + 55*x^3 + 63*x^2 + 35*x + 55) * (x^7 + 52*x^6 + 80*x^5 + 54*x^4 + 41*x^3 + 49*x^2 + 87*x + 71) * (x^7 + 52*x^6 + 83*x^5 + 100*x^4 + 20*x^3 + 75*x^2 + 11*x + 96) * (x^7 + 52*x^6 + 102*x^5 + 67*x^4 + 66*x^3 + 87*x^2 + 82*x + 113) * (x^7 + 52*x^6 + 109*x^5 + 51*x^4 + 56*x^3 + 23*x^2 + 40*x + 24) * (x^7 + 52*x^6 + 112*x^5 + 102*x^4 + 85*x^3 + 72*x^2 + 36*x + 98) * (x^7 + 53*x^6 + 45*x^5 + 79*x^4 + 100*x^3 + 112*x^2 + 86*x + 104) * (x^7 + 53*x^6 + 64*x^5 + 50*x^4 + 58*x^3 + 91*x^2 + 14*x + 61) * (x^7 + 53*x^6 + 85*x^5 + 7*x^4 + 45*x^3 + 126*x^2 + 82*x + 112) * (x^7 + 54*x^6 + 87*x^5 + 99*x^4 + 102*x^3 + 86*x + 64) * (x^7 + 55*x^6 + 52*x^5 + 57*x^4 + 5*x^3 + 65*x^2 + 9*x + 126) * (x^7 + 55*x^6 + 103*x^5 + 77*x^4 + 42*x^3 + 20*x^2 + 27*x + 122) * (x^7 + 55*x^6 + 108*x^5 + 16*x^4 + 85*x^3 + 18*x^2 + 90*x + 26) * (x^7 + 55*x^6 + 109*x^5 + 8*x^4 + 63*x^3 + 65*x^2 + 93*x + 34) * (x^7 + 56*x^6 + 8*x^5 + 6*x^4 + 47*x^3 + 11*x^2 + 78*x + 87) * (x^7 + 56*x^6 + 43*x^5 + 21*x^4 + 31*x^3 + 24*x^2 + 28*x + 42) * (x^7 + 57*x^6 + 17*x^5 + 69*x^4 + 65*x^3 + 108*x + 122) * (x^7 + 57*x^6 + 90*x^5 + 6*x^4 + 24*x^3 + 50*x^2 + 18*x + 70) * (x^7 + 58*x^6 + 96*x^5 + 89*x^4 + 109*x^3 + x^2 + 91*x + 48) * (x^7 + 59*x^6 + 31*x^5 + 44*x^4 + 13*x^3 + 37*x^2 + 53*x + 32) * (x^7 + 59*x^6 + 93*x^5 + 111*x^4 + 73*x^3 + 88*x^2 + 34*x + 17) * (x^7 + 60*x^6 + 18*x^5 + 78*x^4 + 61*x^3 + 43*x^2 + 118*x + 80) * (x^7 + 60*x^6 + 65*x^5 + 3*x^4 + 8*x^3 + 73*x^2 + 97*x + 69) * (x^7 + 61*x^6 + 7*x^5 + 63*x^4 + 47*x^3 + 30*x^2 + 48*x + 105) * (x^7 + 61*x^6 + 28*x^5 + 48*x^4 + 120*x^3 + 61*x^2 + 81*x + 20) * (x^7 + 61*x^6 + 86*x^5 + 56*x^4 + 53*x^3 + 45*x^2 + 80*x + 57) * (x^7 + 61*x^6 + 89*x^5 + 56*x^4 + 108*x^3 + 12*x^2 + 22*x + 55) * (x^7 + 62*x^6 + 21*x^5 + 94*x^4 + 48*x^3 + 46*x^2 + 91*x + 97) * (x^7 + 62*x^6 + 26*x^5 + x^4 + 47*x^3 + 15*x^2 + 6*x + 47) * (x^7 + 62*x^6 + 85*x^5 + 24*x^4 + 80*x^3 + 57*x^2 + 84*x + 45) * (x^7 + 63*x^6 + 29*x^5 + 35*x^4 + 76*x^3 + 27*x^2 + 110*x + 90) * (x^7 + 63*x^6 + 67*x^5 + 85*x^4 + 85*x^3 + 69*x^2 + 16*x + 121) * (x^7 + 63*x^6 + 117*x^5 + 124*x^4 + 33*x^3 + 16*x^2 + 34*x + 90) * (x^7 + 63*x^6 + 123*x^5 + 101*x^4 + 111*x^3 + 11*x^2 + 126*x + 117) * (x^7 + 64*x^6 + 13*x^5 + 75*x^4 + 110*x^3 + 101*x^2 + 95*x + 37) * (x^7 + 64*x^6 + 28*x^5 + 119*x^4 + 125*x^3 + 116*x^2 + 118*x + 15) * (x^7 + 64*x^6 + 53*x^5 + 60*x^4 + 38*x^3 + 81*x^2 + 84*x + 79) * (x^7 + 65*x^6 + 36*x^5 + 46*x^4 + 47*x^3 + 59*x^2 + 85*x + 64) * (x^7 + 65*x^6 + 44*x^5 + 58*x^4 + 28*x^3 + 10*x^2 + 83*x + 95) * (x^7 + 65*x^6 + 56*x^5 + 93*x^4 + 6*x^3 + 41*x^2 + 21*x + 68) * (x^7 + 65*x^6 + 70*x^5 + 22*x^4 + 86*x^3 + 86*x^2 + 70*x + 29) * (x^7 + 66*x^6 + 22*x^5 + 62*x^4 + 73*x^3 + 70*x^2 + 34*x + 10) * (x^7 + 66*x^6 + 32*x^5 + 79*x^4 + 33*x^3 + 11*x^2 + 2*x + 57) * (x^7 + 66*x^6 + 67*x^5 + 115*x^4 + 118*x^3 + 105*x^2 + 98*x + 100) * (x^7 + 66*x^6 + 71*x^5 + 16*x^4 + 47*x^3 + 71*x^2 + 67*x + 91) * (x^7 + 66*x^6 + 79*x^5 + 29*x^4 + 59*x^3 + 46*x^2 + 120*x + 44) * (x^7 + 67*x^6 + 57*x^5 + 115*x^4 + 8*x^3 + 95*x^2 + 67*x + 5) * (x^7 + 67*x^6 + 95*x^5 + 90*x^4 + 19*x^3 + 97*x^2 + 54*x + 10) * (x^7 + 67*x^6 + 102*x^5 + 90*x^4 + 105*x^3 + 3*x^2 + 69*x + 30) * (x^7 + 67*x^6 + 107*x^5 + 12*x^4 + 60*x^3 + 65*x^2 + 36*x + 24) * (x^7 + 68*x^6 + 15*x^5 + 105*x^4 + 46*x^3 + 15*x^2 + 113*x + 23) * (x^7 + 68*x^6 + 64*x^5 + 44*x^4 + 24*x^3 + 29*x^2 + 40*x + 113) * (x^7 + 68*x^6 + 73*x^5 + 22*x^4 + 75*x^3 + 14*x^2 + 80*x + 29) * (x^7 + 69*x^6 + 7*x^5 + 9*x^4 + 38*x^3 + 63*x^2 + 121*x + 42) * (x^7 + 69*x^6 + 59*x^5 + 9*x^4 + 73*x^3 + 51*x^2 + 111*x + 2) * (x^7 + 70*x^6 + 2*x^5 + 92*x^4 + 109*x^3 + 23*x^2 + 96*x + 53) * (x^7 + 70*x^6 + 16*x^5 + 115*x^4 + 53*x^3 + 95*x^2 + 82*x + 98) * (x^7 + 70*x^6 + 107*x^5 + 110*x^4 + 33*x^3 + 27*x^2 + 115*x + 91) * (x^7 + 71*x^6 + 12*x^5 + 65*x^4 + 102*x^3 + 26*x^2 + 46*x + 103) * (x^7 + 71*x^6 + 87*x^5 + 101*x^4 + 67*x^3 + 122*x^2 + 108*x + 30) * (x^7 + 71*x^6 + 104*x^5 + 101*x^4 + 81*x^3 + 70*x^2 + x + 48) * (x^7 + 72*x^6 + 41*x^5 + 22*x^4 + 36*x^3 + 121*x^2 + 37*x + 83) * (x^7 + 72*x^6 + 48*x^5 + 27*x^4 + 106*x^3 + 58*x^2 + 54*x + 49) * (x^7 + 72*x^6 + 81*x^5 + 97*x^4 + 44*x^3 + 77*x^2 + 10*x + 99) * (x^7 + 72*x^6 + 122*x^5 + 52*x^4 + 73*x^3 + 21*x^2 + 26*x + 65) * (x^7 + 74*x^6 + 2*x^5 + 27*x^4 + 48*x^3 + 64*x + 51) * (x^7 + 74*x^6 + 4*x^5 + 117*x^4 + 85*x^3 + 116*x^2 + 47*x + 1) * (x^7 + 74*x^6 + 8*x^5 + 105*x^4 + 106*x^3 + 52*x^2 + 33*x + 89) * (x^7 + 74*x^6 + 18*x^5 + 23*x^4 + 96*x^3 + 112*x^2 + 26*x + 85) * (x^7 + 74*x^6 + 41*x^5 + 97*x^4 + 40*x^3 + 83*x^2 + 120*x + 88) * (x^7 + 74*x^6 + 104*x^5 + 113*x^4 + 104*x^3 + 9*x^2 + 121*x + 6) * (x^7 + 74*x^6 + 105*x^5 + 35*x^4 + 12*x^3 + 119*x^2 + 116*x + 16) * (x^7 + 74*x^6 + 121*x^5 + 54*x^4 + 27*x^3 + 74*x^2 + 79*x + 89) * (x^7 + 76*x^6 + 33*x^5 + 91*x^4 + 7*x^3 + 19*x^2 + 39*x + 18) * (x^7 + 76*x^6 + 34*x^5 + 60*x^4 + 9*x^3 + 56*x^2 + 49*x + 123) * (x^7 + 76*x^6 + 82*x^5 + 44*x^4 + 10*x^3 + 47*x^2 + 57*x + 26) * (x^7 + 76*x^6 + 98*x^5 + 8*x^4 + 44*x^3 + 111*x^2 + 9*x + 38) * (x^7 + 76*x^6 + 103*x^5 + 2*x^4 + 20*x^3 + 5*x^2 + 122*x + 12) * (x^7 + 77*x^6 + 73*x^4 + 15*x^3 + 49*x^2 + 32*x + 105) * (x^7 + 77*x^6 + 41*x^5 + 40*x^4 + 120*x^3 + 109*x + 126) * (x^7 + 77*x^6 + 60*x^5 + 100*x^4 + 20*x^3 + 56*x^2 + 72*x + 93) * (x^7 + 77*x^6 + 66*x^5 + 102*x^4 + 126*x^3 + 17*x + 36) * (x^7 + 77*x^6 + 81*x^5 + 95*x^4 + 55*x^3 + 72*x^2 + 12*x + 3) * (x^7 + 77*x^6 + 85*x^5 + 68*x^4 + 71*x^3 + 88*x^2 + 101*x + 77) * (x^7 + 77*x^6 + 115*x^5 + 20*x^4 + 56*x^3 + 98*x^2 + 101*x + 123) * (x^7 + 77*x^6 + 116*x^5 + 6*x^4 + 124*x^3 + 114*x^2 + 30*x + 96) * (x^7 + 78*x^6 + 32*x^5 + 24*x^4 + 72*x^3 + 36*x^2 + x + 17) * (x^7 + 78*x^6 + 47*x^5 + 120*x^4 + 104*x^3 + 56*x^2 + 79*x + 95) * (x^7 + 78*x^6 + 57*x^5 + 125*x^4 + 106*x^3 + 6*x^2 + 61*x + 92) * (x^7 + 78*x^6 + 77*x^5 + 79*x^4 + 123*x^3 + 108*x^2 + 18*x + 90) * (x^7 + 78*x^6 + 85*x^5 + 82*x^4 + 103*x^3 + 97*x^2 + 86*x + 82) * (x^7 + 78*x^6 + 87*x^5 + 83*x^4 + 14*x^3 + 57*x^2 + 15*x + 96) * (x^7 + 79*x^6 + 3*x^5 + 28*x^4 + 15*x^3 + 62*x^2 + 17*x + 116) * (x^7 + 79*x^6 + 39*x^5 + 27*x^4 + 119*x^3 + 33*x^2 + 59*x + 42) * (x^7 + 80*x^6 + 31*x^5 + 126*x^4 + 14*x^3 + 47*x^2 + 19*x + 55) * (x^7 + 80*x^6 + 34*x^5 + 43*x^4 + 4*x^3 + 123*x^2 + 21*x + 40) * (x^7 + 80*x^6 + 37*x^5 + 20*x^4 + 31*x^3 + 109*x^2 + 32*x + 64) * (x^7 + 80*x^6 + 44*x^5 + 54*x^4 + 110*x^3 + 97*x^2 + 96*x + 3) * (x^7 + 80*x^6 + 59*x^5 + 73*x^4 + 124*x^3 + 53*x^2 + 90*x + 22) * (x^7 + 80*x^6 + 65*x^5 + 46*x^4 + 85*x^3 + 79*x^2 + 18*x + 19) * (x^7 + 80*x^6 + 76*x^5 + 19*x^4 + 122*x^3 + 103*x^2 + 75*x + 83) * (x^7 + 80*x^6 + 82*x^5 + 99*x^4 + 76*x^3 + 112*x^2 + 9*x + 68) * (x^7 + 81*x^6 + 82*x^5 + 95*x^4 + 74*x^3 + 48*x^2 + 107*x + 101) * (x^7 + 81*x^6 + 114*x^5 + 41*x^4 + 88*x^3 + 75*x^2 + 58*x + 67) * (x^7 + 81*x^6 + 117*x^5 + 66*x^4 + 23*x^3 + 122*x^2 + 64*x + 60) * (x^7 + 81*x^6 + 123*x^5 + 79*x^4 + 110*x^3 + 68*x^2 + 42*x + 83) * (x^7 + 83*x^6 + 2*x^5 + 86*x^4 + 36*x^3 + 17*x^2 + 86*x + 86) * (x^7 + 83*x^6 + 88*x^5 + 123*x^4 + 21*x^3 + 102*x^2 + 81*x + 54) * (x^7 + 83*x^6 + 126*x^5 + 124*x^4 + 99*x^3 + 71*x^2 + 14*x + 108) * (x^7 + 84*x^6 + 95*x^5 + 85*x^4 + 111*x^3 + 108*x^2 + 50*x + 123) * (x^7 + 85*x^6 + 7*x^5 + 55*x^4 + x^3 + 86*x^2 + 5*x + 11) * (x^7 + 85*x^6 + 35*x^5 + 79*x^4 + 71*x^3 + 107*x^2 + 13*x + 126) * (x^7 + 86*x^6 + 9*x^5 + 40*x^4 + 15*x^3 + 105*x^2 + 90*x + 104) * (x^7 + 86*x^6 + 17*x^5 + 45*x^4 + 55*x^3 + 62*x^2 + 104*x + 20) * (x^7 + 86*x^6 + 68*x^5 + 111*x^4 + 92*x^3 + 19*x^2 + 53*x + 11) * (x^7 + 86*x^6 + 120*x^5 + 52*x^4 + 32*x^3 + 113*x^2 + 109*x + 71) * (x^7 + 87*x^6 + 120*x^5 + 11*x^4 + 125*x^3 + 74*x^2 + 13*x + 44) * (x^7 + 88*x^6 + 56*x^5 + 93*x^4 + 80*x^3 + 107*x^2 + 67*x + 108) * (x^7 + 88*x^6 + 75*x^5 + 114*x^4 + 114*x^3 + 63*x^2 + 14*x + 83) * (x^7 + 88*x^6 + 104*x^5 + 62*x^4 + 79*x^3 + 66*x^2 + 6*x + 68) * (x^7 + 89*x^6 + 37*x^5 + 65*x^4 + 47*x^3 + 14*x^2 + 62*x + 79) * (x^7 + 89*x^6 + 42*x^5 + 54*x^4 + 126*x^3 + 116*x^2 + 33*x + 95) * (x^7 + 89*x^6 + 81*x^5 + 40*x^4 + 109*x^3 + 29*x^2 + x + 60) * (x^7 + 89*x^6 + 108*x^5 + 19*x^4 + 72*x^3 + 92*x^2 + 82*x + 104) * (x^7 + 90*x^6 + 58*x^5 + 13*x^4 + 47*x^3 + 85*x^2 + 89*x + 59) * (x^7 + 91*x^6 + 101*x^5 + 64*x^4 + 80*x^3 + 27*x^2 + 47*x + 71) * (x^7 + 91*x^6 + 126*x^5 + 22*x^4 + 20*x^3 + 4*x^2 + 58*x + 39) * (x^7 + 92*x^6 + 113*x^5 + 101*x^4 + 10*x^3 + 57*x^2 + 60*x + 111) * (x^7 + 92*x^6 + 115*x^5 + 96*x^4 + 26*x^3 + 35*x^2 + 29*x + 73) * (x^7 + 93*x^6 + 7*x^5 + 97*x^4 + 59*x^3 + 6*x^2 + 62*x + 125) * (x^7 + 93*x^6 + 8*x^5 + 75*x^4 + 76*x^3 + 24*x^2 + 104*x + 90) * (x^7 + 93*x^6 + 15*x^5 + 29*x^4 + 48*x^3 + 99*x^2 + 125*x + 106) * (x^7 + 93*x^6 + 74*x^5 + 81*x^4 + 102*x^3 + 48*x^2 + 107*x + 19) * (x^7 + 94*x^6 + 16*x^4 + 67*x^3 + 54*x^2 + 91*x + 6) * (x^7 + 95*x^6 + 11*x^5 + 107*x^4 + 126*x^3 + 31*x^2 + 35*x + 39) * (x^7 + 95*x^6 + 24*x^5 + 35*x^4 + 121*x^3 + 55*x^2 + 88*x + 50) * (x^7 + 95*x^6 + 26*x^5 + 19*x^4 + 92*x^3 + 55*x^2 + 85*x + 94) * (x^7 + 95*x^6 + 30*x^5 + 13*x^4 + 40*x^3 + 89*x^2 + 6*x + 23) * (x^7 + 96*x^6 + 103*x^5 + 39*x^4 + 83*x^3 + 9*x^2 + 111*x + 75) * (x^7 + 96*x^6 + 107*x^5 + 112*x^4 + 70*x^3 + 72*x^2 + 69*x + 2) * (x^7 + 97*x^6 + 28*x^5 + 20*x^4 + 62*x^3 + 110*x^2 + 103*x + 78) * (x^7 + 97*x^6 + 35*x^5 + 62*x^4 + 77*x^3 + 81*x^2 + 91*x + 115) * (x^7 + 97*x^6 + 38*x^5 + 120*x^4 + 52*x^3 + 106*x^2 + 60*x + 23) * (x^7 + 97*x^6 + 63*x^5 + 51*x^4 + 120*x^3 + 118*x^2 + 85*x + 28) * (x^7 + 97*x^6 + 68*x^5 + 57*x^4 + 120*x^3 + 17*x^2 + 93*x + 113) * (x^7 + 97*x^6 + 79*x^5 + 81*x^4 + 48*x^3 + 70*x^2 + 115*x + 82) * (x^7 + 97*x^6 + 80*x^5 + 5*x^4 + 97*x^3 + 101*x^2 + 41*x + 58) * (x^7 + 97*x^6 + 111*x^5 + 20*x^4 + 53*x^3 + 14*x^2 + 66*x + 47) * (x^7 + 97*x^6 + 112*x^5 + 99*x^4 + 87*x^3 + 46*x^2 + 91*x + 45) * (x^7 + 97*x^6 + 125*x^5 + 24*x^4 + 25*x^3 + 125*x^2 + 81*x + 32) * (x^7 + 99*x^6 + 8*x^5 + x^4 + 105*x^3 + 70*x^2 + 73*x + 65) * (x^7 + 99*x^6 + 49*x^5 + 56*x^4 + 32*x^3 + 85*x^2 + 125*x + 65) * (x^7 + 99*x^6 + 90*x^5 + 124*x^4 + 84*x^3 + 111*x^2 + 109*x + 103) * (x^7 + 99*x^6 + 109*x^5 + 44*x^4 + 98*x^3 + 17*x^2 + 66*x + 9) * (x^7 + 100*x^6 + 14*x^5 + 73*x^4 + 33*x^3 + 77*x^2 + 90*x + 107) * (x^7 + 100*x^6 + 32*x^5 + 125*x^4 + 14*x^3 + 86*x^2 + 27*x + 110) * (x^7 + 101*x^6 + 19*x^5 + 53*x^4 + 71*x^3 + 101*x^2 + 59*x + 71) * (x^7 + 101*x^6 + 43*x^5 + 19*x^4 + 111*x^3 + 106*x^2 + 122*x + 100) * (x^7 + 101*x^6 + 72*x^5 + 41*x^4 + 3*x^3 + 117*x^2 + 119*x + 67) * (x^7 + 101*x^6 + 115*x^5 + 90*x^4 + 45*x^3 + 55*x^2 + 58*x + 84) * (x^7 + 102*x^6 + 63*x^5 + 103*x^4 + 48*x^3 + 41*x^2 + 120*x + 117) * (x^7 + 102*x^6 + 118*x^5 + 126*x^4 + 67*x^3 + 42*x^2 + 76*x + 40) * (x^7 + 103*x^6 + 25*x^5 + 45*x^4 + 102*x^3 + 81*x^2 + 122*x + 100) * (x^7 + 104*x^6 + 12*x^5 + 93*x^4 + 39*x^3 + 66*x^2 + 61*x + 56) * (x^7 + 104*x^6 + 39*x^5 + 87*x^4 + 62*x^3 + 126*x^2 + 73*x + 79) * (x^7 + 104*x^6 + 101*x^5 + 80*x^4 + 76*x^3 + 102*x^2 + 115*x + 70) * (x^7 + 104*x^6 + 115*x^5 + 13*x^4 + 29*x^3 + 33*x^2 + 120*x + 86) * (x^7 + 104*x^6 + 122*x^5 + 20*x^4 + 102*x^3 + 23*x^2 + 58*x + 105) * (x^7 + 105*x^6 + 4*x^5 + 35*x^4 + 55*x^3 + 42*x^2 + 112*x + 109) * (x^7 + 105*x^6 + 102*x^5 + 76*x^4 + 53*x^3 + 82*x^2 + 14*x + 97) * (x^7 + 106*x^6 + 3*x^5 + 34*x^4 + 37*x^3 + 14*x^2 + 19*x + 23) * (x^7 + 106*x^6 + 116*x^5 + 97*x^4 + 47*x^3 + 4*x^2 + 98*x + 10) * (x^7 + 107*x^6 + 28*x^5 + 113*x^4 + 96*x^3 + 19*x^2 + 47*x + 54) * (x^7 + 107*x^6 + 34*x^5 + 21*x^4 + 71*x^3 + 17*x^2 + 114*x + 64) * (x^7 + 107*x^6 + 57*x^5 + 93*x^4 + 31*x^3 + 57*x^2 + 70*x + 3) * (x^7 + 108*x^6 + 50*x^5 + 48*x^4 + 34*x^3 + 10*x^2 + 77*x + 37) * (x^7 + 108*x^6 + 97*x^5 + 49*x^4 + 69*x^3 + 96*x^2 + 5*x + 11) * (x^7 + 109*x^6 + 24*x^5 + 56*x^4 + 87*x^3 + 105*x^2 + 67*x + 56) * (x^7 + 109*x^6 + 32*x^5 + 12*x^4 + 73*x^3 + 66*x^2 + 99*x + 40) * (x^7 + 110*x^6 + 97*x^5 + 126*x^4 + 11*x^3 + 87*x^2 + 37*x + 80) * (x^7 + 110*x^6 + 101*x^5 + 120*x^4 + 94*x^3 + 71*x^2 + 47*x + 56) * (x^7 + 111*x^6 + 14*x^5 + 33*x^4 + 41*x^3 + 87*x^2 + 69*x + 108) * (x^7 + 111*x^6 + 32*x^5 + 89*x^4 + 53*x^3 + 118*x^2 + 73*x + 124) * (x^7 + 111*x^6 + 82*x^5 + 117*x^4 + 38*x^3 + 36*x^2 + 84*x + 57) * (x^7 + 111*x^6 + 98*x^5 + 101*x^4 + 61*x^3 + 61*x^2 + 94*x + 42) * (x^7 + 112*x^6 + 12*x^5 + 9*x^4 + 44*x^3 + 2*x^2 + 7*x + 58) * (x^7 + 112*x^6 + 49*x^5 + 78*x^4 + 20*x^3 + 8*x^2 + 3*x + 109) * (x^7 + 112*x^6 + 71*x^5 + 107*x^4 + 62*x^3 + 48*x^2 + 85*x + 81) * (x^7 + 112*x^6 + 83*x^5 + 120*x^4 + 26*x^3 + 92*x^2 + 121*x + 78) * (x^7 + 112*x^6 + 116*x^5 + 11*x^4 + 27*x^3 + 21*x^2 + 72*x + 105) * (x^7 + 112*x^6 + 117*x^5 + 126*x^4 + 13*x^3 + 28*x^2 + 99*x + 122) * (x^7 + 113*x^6 + 4*x^5 + 33*x^4 + 13*x^3 + 113*x^2 + 119*x + 88) * (x^7 + 113*x^6 + 6*x^5 + 103*x^4 + 37*x^3 + 53*x^2 + 12*x + 91) * (x^7 + 113*x^6 + 22*x^5 + 123*x^4 + 32*x^3 + 40*x^2 + 40*x + 75) * (x^7 + 113*x^6 + 38*x^5 + 101*x^4 + 99*x^3 + 2*x^2 + 73*x + 52) * (x^7 + 113*x^6 + 50*x^5 + 102*x^4 + 42*x^3 + 123*x^2 + 30*x + 68) * (x^7 + 113*x^6 + 72*x^5 + 11*x^4 + 37*x^3 + 96*x^2 + 15*x + 15) * (x^7 + 113*x^6 + 116*x^5 + 15*x^4 + 40*x^3 + 102*x^2 + 76*x + 44) * (x^7 + 114*x^6 + 4*x^5 + 80*x^4 + 5*x^3 + 53*x^2 + 7*x + 101) * (x^7 + 114*x^6 + 15*x^5 + 13*x^4 + 7*x^3 + 16*x^2 + 49*x + 115) * (x^7 + 114*x^6 + 72*x^5 + 113*x^4 + 3*x^3 + 106*x^2 + 43*x + 63) * (x^7 + 114*x^6 + 76*x^5 + 113*x^4 + 36*x^3 + 116*x^2 + 81*x + 73) * (x^7 + 114*x^6 + 93*x^5 + 56*x^4 + 78*x^3 + 24*x^2 + 26*x + 76) * (x^7 + 115*x^6 + 26*x^5 + 26*x^4 + 109*x^3 + 114*x^2 + 52*x + 43) * (x^7 + 115*x^6 + 35*x^5 + 126*x^4 + 12*x^3 + 63*x^2 + 100*x + 93) * (x^7 + 115*x^6 + 37*x^5 + 64*x^4 + 82*x^3 + 35*x^2 + 75*x + 114) * (x^7 + 115*x^6 + 68*x^5 + 56*x^4 + 72*x^3 + 55*x^2 + 59*x + 41) * (x^7 + 116*x^6 + 83*x^5 + 78*x^4 + 100*x^3 + 11*x^2 + 3*x + 98) * (x^7 + 117*x^6 + 21*x^5 + 45*x^4 + 68*x^3 + 63*x^2 + 112*x + 80) * (x^7 + 118*x^6 + 9*x^5 + 29*x^4 + 54*x^3 + 26*x^2 + 57*x + 35) * (x^7 + 118*x^6 + 18*x^5 + 50*x^4 + 36*x^3 + 7*x^2 + 31*x + 64) * (x^7 + 118*x^6 + 31*x^5 + 82*x^4 + 79*x^3 + 17*x^2 + 79*x + 62) * (x^7 + 118*x^6 + 49*x^5 + 37*x^4 + 118*x^3 + x^2 + 19*x + 97) * (x^7 + 118*x^6 + 76*x^5 + 100*x^4 + 67*x^3 + 18*x^2 + 71*x + 115) * (x^7 + 118*x^6 + 85*x^5 + 48*x^4 + 30*x^3 + 19*x^2 + 69*x + 53) * (x^7 + 118*x^6 + 92*x^5 + 104*x^4 + 112*x^3 + 45*x^2 + 39*x + 78) * (x^7 + 118*x^6 + 125*x^5 + 46*x^4 + 56*x^3 + 97*x^2 + 88*x + 72) * (x^7 + 119*x^6 + 39*x^5 + 50*x^4 + 83*x^3 + 79*x^2 + 73*x + 17) * (x^7 + 119*x^6 + 39*x^5 + 98*x^4 + 81*x^3 + 59*x^2 + 65*x + 18) * (x^7 + 119*x^6 + 40*x^5 + 125*x^4 + 105*x^3 + 36*x^2 + 62*x + 57) * (x^7 + 119*x^6 + 44*x^5 + 9*x^4 + 84*x^3 + 71*x^2 + 41*x + 96) * (x^7 + 119*x^6 + 52*x^5 + 99*x^4 + 98*x^3 + 61*x^2 + 70*x + 116) * (x^7 + 119*x^6 + 71*x^5 + 41*x^4 + 11*x^3 + 22*x^2 + 43*x + 48) * (x^7 + 119*x^6 + 115*x^5 + 92*x^4 + 21*x^3 + 54*x^2 + 26*x + 88) * (x^7 + 120*x^6 + 15*x^5 + 60*x^4 + 116*x^3 + 10*x^2 + 111*x + 47) * (x^7 + 120*x^6 + 34*x^5 + 83*x^4 + 19*x^3 + 15*x^2 + 83*x + 108) * (x^7 + 121*x^6 + 6*x^5 + 91*x^3 + 116*x^2 + 11*x + 50) * (x^7 + 121*x^6 + 37*x^5 + 34*x^4 + 51*x^3 + 88*x^2 + 27*x + 108) * (x^7 + 121*x^6 + 47*x^5 + 24*x^4 + 106*x^3 + 67*x^2 + 108*x + 45) * (x^7 + 121*x^6 + 67*x^5 + 68*x^4 + 10*x^3 + 61*x^2 + 99*x + 109) * (x^7 + 122*x^6 + 113*x^5 + 32*x^4 + 9*x^3 + 89*x^2 + 126*x + 3) * (x^7 + 124*x^6 + 41*x^5 + 84*x^4 + 66*x^3 + 119*x^2 + 90*x + 55) * (x^7 + 124*x^6 + 71*x^5 + 62*x^4 + 54*x^3 + 109*x^2 + 49*x + 64) * (x^7 + 125*x^6 + 8*x^5 + 58*x^4 + x^3 + 47*x^2 + 103*x + 15) * (x^7 + 125*x^6 + 10*x^5 + 23*x^4 + 25*x^3 + 121*x^2 + 109*x + 51) * (x^7 + 125*x^6 + 63*x^5 + x^4 + 99*x^3 + 102*x^2 + 20*x + 27) * (x^21 + x^20 + 10*x^19 + x^18 + 2*x^17 + 71*x^16 + 82*x^15 + 122*x^14 + 38*x^13 + 81*x^12 + 49*x^11 + 19*x^10 + 21*x^9 + 68*x^8 + 102*x^7 + 20*x^6 + 73*x^5 + 48*x^4 + 26*x^3 + 12*x^2 + 15*x + 84) * (x^21 + x^20 + 35*x^19 + 125*x^18 + 78*x^17 + 49*x^16 + 54*x^15 + 114*x^14 + 13*x^13 + 30*x^12 + 15*x^11 + 113*x^10 + 121*x^9 + 32*x^8 + 15*x^7 + 108*x^6 + 18*x^5 + 113*x^4 + 115*x^3 + 97*x^2 + 67*x + 64) * (x^21 + x^20 + 67*x^19 + 55*x^18 + 67*x^17 + 3*x^16 + 2*x^15 + 21*x^14 + 62*x^13 + 76*x^12 + 10*x^11 + 89*x^10 + 7*x^9 + 53*x^8 + 113*x^7 + 59*x^6 + 92*x^5 + 99*x^4 + 110*x^3 + 107*x^2 + 37*x + 73) * (x^21 + 2*x^20 + 73*x^19 + 119*x^18 + 63*x^17 + 37*x^16 + 126*x^15 + 40*x^14 + 72*x^13 + 113*x^12 + 8*x^11 + 7*x^10 + 92*x^9 + 76*x^8 + 112*x^7 + 36*x^6 + 118*x^5 + 55*x^4 + 74*x^3 + 117*x^2 + 59*x + 6) * (x^21 + 3*x^20 + 32*x^19 + 71*x^18 + 8*x^17 + 71*x^16 + 122*x^15 + 121*x^14 + 49*x^13 + 84*x^12 + 108*x^11 + 77*x^10 + 8*x^9 + 21*x^8 + 87*x^7 + x^6 + 56*x^5 + 50*x^4 + 8*x^3 + 38*x^2 + 37*x + 58) * (x^21 + 3*x^20 + 43*x^19 + 83*x^18 + 12*x^17 + 62*x^16 + 83*x^15 + 59*x^14 + 111*x^13 + 51*x^12 + 123*x^11 + 55*x^10 + 105*x^9 + 59*x^8 + 64*x^7 + 8*x^6 + 31*x^5 + 42*x^4 + 117*x^3 + 119*x^2 + 35*x + 87) * (x^21 + 3*x^20 + 54*x^19 + 44*x^18 + 98*x^17 + 11*x^16 + 108*x^15 + 58*x^14 + 119*x^12 + 120*x^11 + 69*x^10 + 122*x^9 + 114*x^8 + 84*x^7 + 81*x^6 + 7*x^5 + 111*x^4 + 58*x^3 + 91*x^2 + 90*x + 124) * (x^21 + 4*x^20 + 4*x^19 + 68*x^18 + 119*x^17 + 103*x^16 + 35*x^15 + 91*x^14 + 110*x^13 + 35*x^12 + 99*x^11 + 31*x^10 + 89*x^9 + 42*x^8 + 75*x^7 + 73*x^6 + 103*x^5 + 99*x^4 + 111*x^3 + 8*x^2 + 114*x + 72) * (x^21 + 4*x^20 + 18*x^19 + 9*x^18 + 74*x^17 + 89*x^16 + 98*x^15 + 83*x^14 + 35*x^13 + 16*x^12 + 19*x^11 + 3*x^10 + 29*x^9 + 50*x^8 + 38*x^7 + 11*x^6 + 73*x^5 + 90*x^4 + 8*x^3 + 79*x^2 + 87*x + 11) * (x^21 + 4*x^20 + 40*x^19 + 92*x^17 + 56*x^16 + 70*x^15 + 107*x^14 + 90*x^13 + 6*x^12 + 33*x^11 + 16*x^10 + 9*x^9 + 123*x^8 + 112*x^7 + 42*x^6 + 12*x^5 + 45*x^4 + 124*x^3 + 49*x^2 + 7*x + 39) * (x^21 + 5*x^20 + 50*x^19 + 97*x^18 + 80*x^17 + 69*x^16 + 27*x^15 + 78*x^14 + 24*x^13 + 30*x^12 + 103*x^11 + 64*x^10 + 77*x^9 + 119*x^8 + 97*x^7 + 22*x^6 + 17*x^5 + 81*x^4 + 10*x^3 + 95*x^2 + 106*x + 57) * (x^21 + 5*x^20 + 114*x^19 + 107*x^18 + 64*x^17 + 6*x^16 + 15*x^15 + 30*x^14 + 6*x^13 + 42*x^12 + 2*x^11 + 43*x^10 + 65*x^9 + 49*x^8 + 125*x^7 + 39*x^6 + 88*x^5 + 24*x^4 + 42*x^3 + 75*x^2 + 44*x + 112) * (x^21 + 6*x^20 + 52*x^19 + 9*x^18 + 67*x^17 + 115*x^16 + 70*x^15 + 106*x^14 + 91*x^13 + 92*x^12 + 9*x^11 + 95*x^10 + 59*x^9 + 80*x^8 + 30*x^7 + 47*x^6 + 56*x^5 + 9*x^4 + 33*x^3 + 112*x^2 + 115*x + 3) * (x^21 + 7*x^20 + 26*x^19 + 118*x^18 + 50*x^17 + 62*x^16 + 68*x^15 + 31*x^14 + 89*x^13 + 36*x^12 + 66*x^11 + 58*x^10 + 41*x^9 + 51*x^8 + 89*x^7 + 15*x^6 + 66*x^5 + 53*x^4 + 74*x^3 + 69*x^2 + 103*x + 67) * (x^21 + 7*x^20 + 39*x^19 + 78*x^18 + 25*x^17 + 42*x^16 + 4*x^15 + 24*x^14 + 64*x^13 + 76*x^12 + 56*x^11 + 10*x^10 + 87*x^9 + 12*x^8 + 62*x^7 + 110*x^6 + 2*x^5 + 29*x^4 + 81*x^3 + 33*x^2 + 32*x + 96) * (x^21 + 7*x^20 + 66*x^19 + 17*x^18 + 73*x^17 + 79*x^16 + 61*x^15 + 113*x^14 + 71*x^13 + 51*x^12 + 37*x^11 + 115*x^10 + 72*x^9 + 6*x^8 + 15*x^7 + 56*x^6 + 22*x^5 + 125*x^4 + 31*x^3 + 120*x^2 + 90*x + 105) * (x^21 + 8*x^20 + 41*x^19 + 63*x^18 + 22*x^17 + 63*x^16 + 20*x^15 + 52*x^14 + 74*x^13 + 113*x^12 + 52*x^11 + 87*x^10 + 118*x^9 + 49*x^8 + 60*x^7 + 83*x^6 + 112*x^5 + 74*x^4 + 118*x^3 + 35*x^2 + 111*x + 58) * (x^21 + 8*x^20 + 55*x^19 + 80*x^18 + 55*x^17 + 83*x^16 + 126*x^15 + 100*x^14 + 35*x^13 + 117*x^12 + 86*x^11 + 100*x^10 + 50*x^9 + 114*x^7 + 121*x^6 + 113*x^5 + 47*x^4 + 55*x^3 + 10*x^2 + 48*x + 84) * (x^21 + 9*x^20 + 17*x^19 + 92*x^18 + 11*x^17 + 73*x^16 + 102*x^15 + 43*x^14 + 97*x^13 + 20*x^12 + 57*x^11 + 51*x^10 + 103*x^9 + 79*x^8 + 36*x^7 + 39*x^6 + 11*x^5 + 88*x^4 + 112*x^3 + 98*x^2 + 54*x + 103) * (x^21 + 9*x^20 + 63*x^19 + 32*x^18 + 96*x^17 + 72*x^16 + 82*x^15 + 69*x^14 + 30*x^13 + 10*x^12 + 32*x^11 + 63*x^10 + 78*x^9 + 75*x^8 + 92*x^7 + 94*x^6 + 93*x^5 + 97*x^4 + 21*x^3 + 86*x^2 + 123*x + 103) * (x^21 + 10*x^20 + 83*x^19 + 11*x^18 + 21*x^17 + 23*x^16 + 112*x^15 + 88*x^14 + 30*x^13 + 74*x^12 + 78*x^11 + 92*x^10 + 119*x^9 + 49*x^8 + 55*x^7 + 2*x^6 + 105*x^5 + 126*x^4 + 95*x^3 + 8*x^2 + 118*x + 35) * (x^21 + 10*x^20 + 97*x^19 + 96*x^18 + 52*x^17 + 23*x^16 + 27*x^15 + 3*x^14 + 90*x^13 + 22*x^12 + 74*x^11 + 32*x^10 + 3*x^9 + 28*x^8 + 106*x^7 + 42*x^6 + 81*x^5 + 83*x^4 + 24*x^3 + 23*x^2 + 50*x + 119) * (x^21 + 10*x^20 + 119*x^19 + 76*x^18 + 82*x^17 + 79*x^16 + 125*x^15 + 12*x^14 + 83*x^13 + 125*x^12 + 85*x^11 + 57*x^10 + 117*x^9 + 2*x^8 + 66*x^7 + 11*x^6 + 68*x^5 + 32*x^4 + 85*x^3 + 92*x^2 + 32*x + 123) * (x^21 + 11*x^20 + 63*x^19 + 8*x^18 + 40*x^17 + 110*x^16 + 84*x^15 + 116*x^14 + 30*x^13 + 66*x^12 + 111*x^11 + 63*x^10 + 74*x^9 + 68*x^8 + 85*x^7 + 116*x^6 + 122*x^5 + 74*x^4 + 105*x^3 + 66*x^2 + 80*x + 101) * (x^21 + 12*x^20 + 32*x^19 + 32*x^18 + 32*x^17 + 4*x^16 + 105*x^15 + 95*x^14 + 68*x^13 + 125*x^12 + 83*x^11 + 23*x^10 + 3*x^9 + 60*x^8 + 5*x^7 + 65*x^6 + 37*x^5 + 14*x^4 + 3*x^3 + 113*x^2 + 126*x + 26) * (x^21 + 14*x^20 + 21*x^19 + 98*x^18 + 5*x^17 + 4*x^16 + 52*x^15 + 116*x^14 + 31*x^13 + 78*x^12 + 41*x^11 + 108*x^10 + 57*x^9 + 125*x^8 + 117*x^7 + 125*x^6 + 19*x^5 + 122*x^4 + 37*x^3 + 64*x^2 + 50*x + 56) * (x^21 + 16*x^20 + 4*x^19 + 73*x^18 + 28*x^17 + 73*x^16 + 64*x^15 + 63*x^14 + 23*x^13 + 107*x^12 + 32*x^11 + 120*x^10 + 86*x^9 + 83*x^8 + 126*x^7 + 47*x^6 + 32*x^5 + 86*x^4 + 107*x^3 + 3*x^2 + 89*x + 92) * (x^21 + 16*x^20 + 12*x^19 + 80*x^18 + 23*x^17 + 39*x^16 + 40*x^15 + 102*x^14 + 89*x^13 + 115*x^12 + 43*x^11 + 50*x^10 + 125*x^9 + 60*x^8 + 103*x^7 + 81*x^6 + 35*x^5 + 13*x^4 + 55*x^3 + 66*x^2 + 83*x + 79) * (x^21 + 16*x^20 + 72*x^19 + 84*x^18 + 27*x^17 + 64*x^16 + 9*x^15 + 16*x^14 + 41*x^13 + 66*x^12 + 58*x^11 + 19*x^10 + 85*x^9 + 70*x^8 + 103*x^7 + 15*x^6 + 10*x^5 + 64*x^4 + 108*x^3 + 66*x^2 + 58*x + 30) * (x^21 + 16*x^20 + 79*x^19 + 94*x^18 + 69*x^17 + 114*x^16 + 98*x^15 + 81*x^14 + 10*x^13 + 57*x^12 + 63*x^11 + 25*x^10 + 36*x^9 + 92*x^8 + 13*x^7 + 33*x^6 + 48*x^5 + 28*x^4 + 89*x^3 + 5*x^2 + 53*x + 113) * (x^21 + 16*x^20 + 87*x^19 + 71*x^18 + 67*x^17 + 112*x^16 + 29*x^15 + 119*x^14 + 4*x^13 + 85*x^12 + 34*x^11 + 76*x^10 + 42*x^9 + 72*x^8 + 115*x^7 + 109*x^6 + 32*x^5 + 101*x^4 + 89*x^3 + 53*x^2 + 51*x + 51) * (x^21 + 17*x^20 + 18*x^19 + 29*x^18 + 80*x^17 + 20*x^16 + 81*x^15 + 64*x^14 + 122*x^13 + 20*x^11 + 76*x^10 + 70*x^9 + 30*x^8 + 91*x^7 + 93*x^6 + 120*x^5 + 101*x^4 + 26*x^3 + 102*x^2 + 75*x + 2) * (x^21 + 17*x^20 + 28*x^19 + 15*x^18 + 19*x^17 + 67*x^16 + 31*x^15 + 111*x^14 + 87*x^13 + 108*x^12 + 72*x^11 + 109*x^10 + 80*x^9 + 108*x^8 + 76*x^7 + 51*x^6 + 112*x^5 + 45*x^4 + 2*x^3 + 7*x^2 + 88*x + 27) * (x^21 + 17*x^20 + 89*x^19 + 91*x^18 + 38*x^17 + 75*x^16 + 110*x^15 + 108*x^14 + x^13 + x^12 + 112*x^11 + 29*x^10 + 38*x^9 + 103*x^8 + 90*x^7 + 50*x^6 + 75*x^5 + 59*x^4 + 111*x^3 + 116*x^2 + 69*x + 5) * (x^21 + 18*x^20 + 74*x^19 + 64*x^18 + 102*x^17 + 91*x^16 + 117*x^15 + 34*x^14 + 26*x^13 + 44*x^12 + 63*x^11 + 83*x^10 + 106*x^9 + 74*x^8 + 59*x^7 + 25*x^6 + 6*x^5 + 99*x^4 + 73*x^3 + 13*x^2 + 24*x + 31) * (x^21 + 19*x^20 + 15*x^19 + 80*x^18 + 41*x^17 + 14*x^16 + 50*x^15 + 18*x^14 + 115*x^13 + 71*x^12 + 84*x^11 + 20*x^10 + 119*x^9 + 88*x^8 + 2*x^7 + 47*x^6 + 61*x^5 + 53*x^4 + 13*x^3 + 68*x^2 + 67*x + 26) * (x^21 + 19*x^20 + 67*x^19 + 101*x^18 + 26*x^17 + 87*x^16 + 11*x^15 + 38*x^14 + 9*x^13 + 30*x^12 + 83*x^11 + 72*x^10 + 37*x^9 + 86*x^8 + 5*x^7 + 82*x^6 + 94*x^5 + 111*x^4 + 60*x^3 + 63*x^2 + x + 91) * (x^21 + 20*x^20 + 2*x^19 + 29*x^18 + 72*x^17 + 88*x^16 + 79*x^15 + 119*x^14 + 121*x^13 + 126*x^12 + 27*x^11 + 92*x^10 + 22*x^9 + 119*x^8 + 35*x^7 + 75*x^6 + 38*x^5 + 12*x^4 + 69*x^3 + 31*x^2 + 99) * (x^21 + 20*x^20 + 111*x^19 + 102*x^18 + 106*x^17 + 70*x^16 + 35*x^15 + 26*x^14 + 121*x^13 + 73*x^12 + 14*x^11 + 82*x^10 + 79*x^9 + 43*x^8 + 71*x^6 + 25*x^5 + 104*x^4 + 97*x^3 + 56*x^2 + 96*x + 62) * (x^21 + 20*x^20 + 118*x^19 + 112*x^18 + 97*x^17 + 18*x^16 + 23*x^15 + 62*x^14 + 37*x^13 + 23*x^12 + 54*x^11 + 80*x^10 + 19*x^9 + 96*x^8 + 86*x^7 + 117*x^6 + 67*x^5 + 44*x^4 + 104*x^3 + 45*x^2 + 84*x + 62) * (x^21 + 21*x^20 + 37*x^19 + 65*x^18 + 29*x^17 + 79*x^16 + 91*x^15 + 8*x^14 + 22*x^13 + 4*x^12 + 16*x^11 + 125*x^10 + 62*x^9 + 102*x^8 + 103*x^7 + 26*x^6 + 61*x^5 + 71*x^4 + 13*x^3 + 109*x^2 + 87*x + 96) * (x^21 + 21*x^20 + 51*x^19 + 102*x^18 + 104*x^17 + 16*x^16 + 96*x^15 + 35*x^14 + 8*x^13 + 103*x^12 + 55*x^11 + 56*x^10 + 22*x^9 + 26*x^8 + 47*x^7 + 120*x^6 + 5*x^5 + 86*x^4 + 46*x^3 + 77*x^2 + 108*x + 25) * (x^21 + 22*x^20 + x^19 + 10*x^18 + 11*x^16 + 71*x^15 + 61*x^14 + 13*x^13 + 125*x^12 + 106*x^11 + 18*x^10 + 87*x^9 + 125*x^8 + 21*x^7 + 18*x^6 + 77*x^5 + 124*x^4 + 123*x^3 + 110*x^2 + 111*x + 83) * (x^21 + 22*x^20 + 6*x^19 + 26*x^18 + 85*x^17 + 65*x^16 + 64*x^15 + 98*x^14 + 53*x^13 + 93*x^12 + 16*x^11 + 55*x^10 + 44*x^9 + 101*x^8 + 39*x^7 + 119*x^6 + 76*x^5 + 15*x^4 + 59*x^3 + 15*x^2 + 31*x + 68) * (x^21 + 22*x^20 + 106*x^19 + 7*x^18 + 110*x^17 + 51*x^16 + 126*x^15 + 103*x^14 + 39*x^13 + 22*x^12 + 67*x^11 + 99*x^10 + 80*x^9 + 90*x^8 + 102*x^7 + 104*x^6 + 80*x^5 + 64*x^4 + 32*x^3 + 92*x^2 + 19*x + 14) * (x^21 + 23*x^20 + 10*x^19 + 79*x^18 + 25*x^17 + 124*x^16 + 45*x^15 + 114*x^14 + 27*x^13 + 36*x^12 + 22*x^11 + 41*x^10 + 15*x^9 + 65*x^8 + 3*x^7 + 22*x^6 + 87*x^5 + 31*x^4 + 66*x^3 + 38*x^2 + 124*x + 6) * (x^21 + 23*x^20 + 68*x^19 + 15*x^18 + 64*x^17 + 80*x^16 + 44*x^15 + 53*x^14 + 57*x^13 + 68*x^12 + 15*x^11 + 7*x^10 + 63*x^9 + 114*x^8 + 107*x^7 + 22*x^6 + 65*x^5 + 2*x^4 + 109*x^3 + 113*x^2 + 33*x + 13) * (x^21 + 23*x^20 + 74*x^19 + 6*x^18 + 82*x^17 + 2*x^15 + 85*x^14 + 56*x^13 + 78*x^12 + 109*x^11 + 99*x^10 + 101*x^9 + 116*x^8 + 66*x^7 + 15*x^6 + 26*x^5 + 27*x^4 + 20*x^3 + 7*x^2 + 18*x + 103) * (x^21 + 23*x^20 + 86*x^19 + 40*x^18 + 120*x^17 + 83*x^16 + 33*x^15 + 111*x^14 + 113*x^13 + 123*x^12 + 122*x^11 + 58*x^10 + 23*x^9 + 103*x^8 + 33*x^7 + 56*x^6 + 28*x^5 + 37*x^4 + 126*x^3 + 113*x^2 + 94*x + 44) * (x^21 + 23*x^20 + 122*x^19 + 29*x^18 + 84*x^17 + 19*x^16 + 92*x^15 + 8*x^14 + 106*x^13 + 84*x^12 + 13*x^11 + 37*x^10 + 39*x^9 + 85*x^8 + 86*x^7 + 40*x^6 + 12*x^5 + 77*x^4 + 55*x^3 + 54*x^2 + 126*x + 109) * (x^21 + 24*x^20 + 123*x^19 + 30*x^18 + 113*x^17 + 15*x^16 + 59*x^15 + 76*x^14 + 87*x^13 + 12*x^12 + 50*x^11 + 64*x^10 + 61*x^9 + 107*x^8 + 30*x^7 + 85*x^6 + 78*x^5 + 124*x^4 + 48*x^3 + 126*x + 78) * (x^21 + 25*x^20 + 9*x^19 + 18*x^18 + 16*x^17 + 33*x^16 + 82*x^15 + 67*x^14 + 95*x^13 + 122*x^12 + 63*x^11 + 105*x^10 + 69*x^9 + 8*x^8 + 4*x^7 + 106*x^6 + 49*x^5 + 85*x^4 + 109*x^3 + 34*x^2 + 60*x + 54) * (x^21 + 25*x^20 + 26*x^19 + 83*x^18 + 80*x^17 + 28*x^16 + 126*x^15 + 16*x^14 + 115*x^13 + 3*x^12 + 9*x^11 + 60*x^10 + 5*x^9 + 110*x^8 + 84*x^7 + 70*x^6 + 84*x^5 + 120*x^4 + 104*x^3 + 45*x^2 + 122*x + 41) * (x^21 + 25*x^20 + 100*x^19 + 6*x^18 + 113*x^17 + 90*x^16 + 107*x^15 + 115*x^14 + 41*x^13 + 3*x^12 + 31*x^11 + 40*x^10 + 60*x^9 + 51*x^8 + 70*x^7 + 75*x^6 + 22*x^5 + 41*x^4 + 50*x^3 + 56*x^2 + 94*x + 108) * (x^21 + 25*x^20 + 112*x^19 + 93*x^18 + 2*x^17 + 19*x^16 + 5*x^15 + 119*x^14 + 68*x^13 + 117*x^12 + 20*x^11 + 32*x^10 + 57*x^9 + 119*x^8 + 116*x^7 + 116*x^6 + 96*x^5 + 93*x^4 + 9*x^3 + 120*x^2 + 100*x + 8) * (x^21 + 26*x^20 + 20*x^19 + 47*x^18 + 91*x^17 + 57*x^16 + 110*x^15 + 117*x^14 + 100*x^13 + 41*x^12 + 108*x^11 + 101*x^10 + x^9 + 65*x^8 + 17*x^7 + 20*x^6 + 2*x^5 + 28*x^4 + 65*x^3 + 28*x + 5) * (x^21 + 26*x^20 + 87*x^19 + 98*x^18 + 65*x^17 + 58*x^16 + 97*x^15 + 121*x^14 + 77*x^13 + 12*x^12 + 26*x^11 + 60*x^10 + 96*x^9 + 42*x^8 + 19*x^7 + 107*x^6 + 52*x^5 + 72*x^4 + 89*x^3 + 49*x^2 + 38*x + 56) * (x^21 + 27*x^20 + 8*x^19 + 9*x^18 + 119*x^17 + 72*x^16 + 23*x^15 + 47*x^14 + 122*x^13 + 102*x^12 + 51*x^11 + 96*x^10 + 52*x^9 + 68*x^8 + 65*x^7 + 35*x^6 + x^5 + 76*x^4 + 86*x^3 + 111*x^2 + 27*x + 27) * (x^21 + 27*x^20 + 54*x^19 + 116*x^18 + 69*x^17 + 104*x^16 + 119*x^15 + 27*x^14 + 74*x^13 + 74*x^12 + 104*x^11 + 58*x^10 + 78*x^9 + 123*x^8 + 39*x^7 + 113*x^6 + 13*x^5 + 7*x^4 + 64*x^3 + 26*x^2 + 47*x + 126) * (x^21 + 27*x^20 + 76*x^19 + 88*x^18 + 67*x^17 + 78*x^16 + 91*x^15 + 15*x^14 + 120*x^13 + 55*x^12 + 81*x^11 + 113*x^10 + 31*x^9 + 63*x^8 + 28*x^7 + 12*x^6 + 40*x^5 + 97*x^4 + 2*x^3 + 68*x^2 + 61*x + 16) * (x^21 + 27*x^20 + 111*x^19 + 51*x^18 + 62*x^17 + 98*x^16 + 21*x^15 + 110*x^14 + 60*x^13 + 102*x^12 + 2*x^11 + 27*x^10 + 61*x^9 + 67*x^8 + 73*x^7 + x^6 + 54*x^5 + 115*x^4 + 84*x^3 + 66*x^2 + 30*x + 45) * (x^21 + 28*x^20 + 9*x^19 + 107*x^18 + 53*x^17 + 19*x^16 + 102*x^15 + 29*x^14 + 61*x^13 + 97*x^12 + 40*x^11 + 46*x^10 + 22*x^9 + 24*x^8 + 51*x^7 + 26*x^6 + 103*x^5 + 37*x^4 + 82*x^3 + 44*x^2 + 20*x + 29) * (x^21 + 28*x^20 + 88*x^19 + 26*x^18 + 5*x^17 + 22*x^16 + 116*x^15 + 47*x^14 + 23*x^13 + 47*x^12 + 4*x^11 + 13*x^10 + x^9 + 46*x^8 + 58*x^7 + 70*x^6 + 30*x^5 + 37*x^4 + 45*x^3 + 5*x + 69) * (x^21 + 29*x^20 + 21*x^19 + 97*x^18 + 60*x^17 + 117*x^16 + 109*x^15 + 40*x^14 + 100*x^13 + 64*x^12 + 39*x^11 + 15*x^10 + 51*x^9 + 125*x^8 + 25*x^6 + 84*x^5 + 38*x^4 + 14*x^3 + 77*x^2 + x + 3) * (x^21 + 31*x^20 + 64*x^19 + 121*x^18 + 91*x^17 + 9*x^16 + 11*x^15 + 86*x^14 + 102*x^12 + 14*x^11 + 82*x^10 + 111*x^9 + 118*x^8 + 70*x^7 + 120*x^6 + 7*x^5 + 80*x^4 + 104*x^3 + 14*x^2 + 72*x + 48) * (x^21 + 32*x^20 + 39*x^19 + 33*x^18 + 75*x^17 + 113*x^16 + 109*x^15 + 89*x^14 + 78*x^13 + 80*x^12 + 3*x^11 + 110*x^10 + 30*x^9 + 86*x^8 + 36*x^7 + 91*x^6 + 84*x^5 + 66*x^4 + 69*x^3 + 42*x^2 + 9*x + 22) * (x^21 + 32*x^20 + 47*x^19 + 43*x^18 + 100*x^17 + 73*x^16 + 107*x^15 + 61*x^14 + 106*x^13 + 66*x^12 + 78*x^11 + 91*x^10 + 92*x^9 + 78*x^8 + 119*x^7 + 99*x^6 + 80*x^5 + 74*x^4 + 56*x^3 + 117*x^2 + 60*x + 62) * (x^21 + 32*x^20 + 111*x^19 + 32*x^18 + 113*x^17 + 65*x^16 + 47*x^15 + 84*x^14 + 24*x^13 + 124*x^12 + 63*x^11 + 29*x^10 + 26*x^9 + 76*x^8 + 125*x^7 + 70*x^6 + 19*x^5 + 78*x^4 + 31*x^3 + 5*x^2 + 110*x + 29) * (x^21 + 33*x^20 + 25*x^19 + 103*x^18 + 49*x^17 + 19*x^16 + 4*x^15 + 43*x^14 + 115*x^13 + 22*x^12 + 37*x^11 + 16*x^10 + 26*x^9 + 50*x^8 + 15*x^7 + 109*x^6 + 24*x^5 + 6*x^4 + 29*x^3 + 104*x^2 + 16*x + 22) * (x^21 + 33*x^20 + 77*x^19 + 67*x^18 + 76*x^17 + 72*x^16 + 77*x^15 + 19*x^14 + 56*x^13 + 28*x^12 + 85*x^11 + 38*x^10 + 83*x^9 + 114*x^8 + 73*x^7 + 70*x^6 + 31*x^5 + 125*x^4 + 122*x^3 + 126*x^2 + 97*x + 53) * (x^21 + 33*x^20 + 113*x^19 + 91*x^18 + 8*x^17 + 99*x^16 + 97*x^15 + 89*x^14 + 72*x^13 + 29*x^12 + 25*x^11 + 63*x^10 + 101*x^9 + 112*x^8 + 82*x^7 + 71*x^6 + 109*x^5 + 110*x^4 + 53*x^3 + 96*x^2 + 4*x + 76) * (x^21 + 33*x^20 + 126*x^19 + 81*x^18 + 107*x^17 + 93*x^16 + 5*x^15 + 115*x^14 + 67*x^13 + 69*x^12 + 31*x^11 + 69*x^10 + 71*x^9 + 3*x^8 + 38*x^7 + 39*x^6 + 95*x^5 + 50*x^4 + 62*x^3 + 83*x^2 + 104*x + 73) * (x^21 + 35*x^20 + 21*x^19 + 4*x^18 + 24*x^17 + 86*x^16 + 74*x^15 + 121*x^14 + 77*x^13 + 101*x^12 + 96*x^11 + 71*x^10 + 7*x^9 + 28*x^8 + 97*x^7 + 101*x^6 + 126*x^5 + 45*x^4 + 10*x^3 + 116*x^2 + 91*x + 90) * (x^21 + 35*x^20 + 61*x^19 + 45*x^18 + 121*x^17 + 117*x^16 + 105*x^15 + 88*x^14 + 110*x^13 + 122*x^12 + 117*x^11 + 85*x^10 + 87*x^9 + 27*x^8 + 54*x^7 + 58*x^6 + 40*x^5 + 124*x^4 + 53*x^3 + 53*x^2 + 85*x + 98) * (x^21 + 35*x^20 + 86*x^19 + 78*x^18 + 29*x^17 + 95*x^16 + 92*x^15 + 72*x^14 + 92*x^13 + 79*x^12 + 27*x^11 + 87*x^10 + 30*x^9 + 110*x^8 + 20*x^7 + 109*x^6 + 118*x^5 + 112*x^4 + 27*x^3 + 93*x^2 + 115*x + 74) * (x^21 + 35*x^20 + 94*x^19 + 37*x^18 + 25*x^17 + 72*x^16 + 95*x^15 + 5*x^14 + 31*x^13 + 117*x^12 + 114*x^11 + 87*x^10 + 16*x^9 + 115*x^8 + 43*x^7 + 2*x^6 + 109*x^5 + 4*x^4 + 125*x^3 + 38*x^2 + 66*x + 101) * (x^21 + 35*x^20 + 97*x^19 + 40*x^18 + 112*x^17 + 65*x^16 + 65*x^15 + 97*x^14 + 40*x^13 + 90*x^12 + 121*x^11 + 25*x^10 + 117*x^9 + 61*x^8 + 65*x^7 + 92*x^6 + 48*x^5 + 41*x^4 + 51*x^3 + 87*x^2 + 36*x + 9) * (x^21 + 35*x^20 + 114*x^19 + 61*x^18 + 125*x^17 + 94*x^16 + 101*x^15 + 84*x^14 + 71*x^13 + 22*x^12 + 59*x^11 + 42*x^10 + 47*x^9 + 90*x^8 + 66*x^7 + 31*x^6 + 24*x^5 + 69*x^4 + 26*x^3 + 29*x^2 + 79*x + 62) * (x^21 + 36*x^20 + 63*x^19 + 89*x^18 + 98*x^17 + 37*x^16 + 93*x^15 + 14*x^14 + 12*x^13 + 50*x^12 + 94*x^11 + 62*x^10 + 64*x^9 + 22*x^8 + 99*x^7 + 112*x^6 + 112*x^5 + 58*x^4 + 109*x^3 + 98*x^2 + 40*x + 110) * (x^21 + 36*x^20 + 86*x^19 + 19*x^18 + 39*x^17 + 90*x^16 + 126*x^15 + 103*x^14 + 36*x^13 + 74*x^12 + 112*x^11 + 77*x^10 + 25*x^9 + 16*x^8 + 70*x^7 + 2*x^6 + 37*x^5 + 81*x^4 + 114*x^3 + 27*x^2 + 85*x + 103) * (x^21 + 37*x^20 + 52*x^18 + 16*x^17 + 90*x^16 + 21*x^15 + 16*x^14 + 77*x^13 + 56*x^12 + 107*x^11 + 39*x^10 + 104*x^9 + 108*x^8 + 110*x^7 + 26*x^6 + 34*x^5 + 68*x^4 + 89*x^3 + 99*x + 66) * (x^21 + 38*x^20 + 60*x^19 + 126*x^18 + 57*x^17 + 47*x^16 + 62*x^15 + 119*x^14 + 111*x^13 + 88*x^12 + 81*x^11 + 126*x^10 + 61*x^9 + 27*x^8 + 14*x^7 + 2*x^6 + 110*x^5 + 104*x^4 + 79*x^3 + 9*x^2 + 72*x + 79) * (x^21 + 38*x^20 + 96*x^19 + 88*x^18 + 105*x^17 + 66*x^16 + 125*x^15 + 71*x^14 + 24*x^13 + x^12 + 20*x^11 + 36*x^10 + 77*x^9 + 28*x^8 + 14*x^7 + 12*x^6 + 23*x^5 + 126*x^4 + 35*x^3 + 46*x^2 + 69*x + 86) * (x^21 + 39*x^20 + 52*x^19 + 117*x^18 + 102*x^17 + 67*x^16 + 71*x^15 + 101*x^14 + 49*x^13 + 93*x^12 + 32*x^11 + 55*x^10 + 119*x^9 + 113*x^8 + 81*x^7 + 39*x^6 + 20*x^5 + 33*x^4 + 111*x^3 + 21*x^2 + 88*x + 16) * (x^21 + 39*x^20 + 108*x^19 + x^18 + 26*x^17 + 22*x^16 + 85*x^15 + 32*x^14 + 126*x^13 + 2*x^12 + 118*x^11 + 62*x^10 + 47*x^9 + 88*x^8 + 37*x^7 + 113*x^6 + 51*x^5 + 110*x^4 + 61*x^3 + 124*x^2 + 47*x + 54) * (x^21 + 41*x^20 + 65*x^19 + 26*x^18 + 38*x^17 + 91*x^16 + 113*x^15 + 89*x^14 + 101*x^13 + 2*x^12 + 23*x^11 + 10*x^10 + 11*x^9 + 62*x^8 + 22*x^7 + 50*x^6 + 36*x^5 + 97*x^4 + 77*x^3 + 33*x^2 + 13*x + 30) * (x^21 + 41*x^20 + 96*x^19 + 119*x^18 + 54*x^17 + 20*x^16 + 120*x^15 + 111*x^14 + 60*x^13 + 45*x^12 + 118*x^11 + 21*x^10 + 28*x^9 + 31*x^8 + 125*x^7 + 76*x^6 + 83*x^5 + 30*x^4 + 83*x^3 + 112*x^2 + 124*x + 55) * (x^21 + 42*x^20 + 60*x^19 + 80*x^18 + 126*x^17 + 38*x^16 + 68*x^15 + 48*x^14 + 14*x^13 + 92*x^12 + 70*x^11 + 46*x^10 + 35*x^9 + 67*x^8 + 52*x^7 + 103*x^6 + 75*x^5 + 79*x^4 + 93*x^3 + 41*x^2 + 9*x + 98) * (x^21 + 42*x^20 + 64*x^19 + 12*x^18 + 55*x^17 + 125*x^16 + 10*x^15 + 113*x^14 + 70*x^13 + 71*x^12 + 100*x^11 + 107*x^10 + 126*x^9 + 89*x^8 + 15*x^7 + 2*x^6 + 112*x^5 + 102*x^4 + 71*x^3 + 82*x^2 + 110*x + 65) * (x^21 + 43*x^20 + 34*x^19 + 42*x^18 + 46*x^17 + 25*x^16 + 90*x^15 + 102*x^14 + 70*x^13 + x^12 + 9*x^11 + 87*x^10 + 89*x^9 + 93*x^8 + 66*x^7 + 38*x^6 + 54*x^5 + 89*x^4 + 23*x^3 + 110*x^2 + 98*x + 118) * (x^21 + 43*x^20 + 99*x^19 + 37*x^18 + 115*x^17 + 126*x^16 + 41*x^15 + 81*x^14 + 117*x^13 + 91*x^12 + 105*x^11 + 29*x^10 + 111*x^9 + 46*x^8 + 102*x^7 + 84*x^6 + 126*x^5 + 30*x^4 + 95*x^3 + 14*x^2 + 103*x + 86) * (x^21 + 44*x^20 + 89*x^19 + 74*x^18 + 35*x^17 + 66*x^16 + 4*x^15 + 18*x^14 + 73*x^13 + 103*x^12 + 45*x^11 + 48*x^10 + 46*x^9 + 126*x^8 + 97*x^7 + 88*x^6 + 20*x^5 + 36*x^4 + 102*x^3 + 52*x^2 + 11*x + 68) * (x^21 + 45*x^20 + 26*x^19 + 2*x^18 + 21*x^17 + 17*x^16 + 79*x^15 + 56*x^14 + 41*x^13 + 30*x^12 + 66*x^11 + 91*x^10 + 24*x^9 + 113*x^8 + 85*x^7 + 116*x^6 + 28*x^5 + 101*x^4 + 4*x^2 + 120*x + 1) * (x^21 + 46*x^20 + 64*x^19 + 101*x^18 + 118*x^17 + 120*x^16 + 27*x^15 + 88*x^14 + 114*x^13 + 106*x^12 + 106*x^11 + 119*x^10 + 90*x^9 + 10*x^8 + 114*x^7 + 8*x^6 + 49*x^5 + 20*x^4 + 43*x^3 + 107*x^2 + 45*x + 118) * (x^21 + 46*x^20 + 107*x^19 + 101*x^18 + 44*x^17 + 2*x^16 + 25*x^15 + 126*x^14 + 65*x^13 + 34*x^12 + 49*x^11 + 121*x^10 + 34*x^9 + 73*x^8 + 36*x^7 + 111*x^6 + 38*x^5 + 13*x^4 + 56*x^3 + 24*x^2 + 17*x + 105) * (x^21 + 47*x^20 + 20*x^19 + 20*x^18 + 121*x^17 + 63*x^16 + 107*x^15 + 39*x^14 + 98*x^13 + 9*x^12 + 126*x^11 + 6*x^10 + 5*x^9 + 119*x^8 + 96*x^7 + 16*x^6 + 93*x^5 + 88*x^4 + 68*x^3 + 17*x^2 + 100*x + 110) * (x^21 + 47*x^20 + 35*x^19 + 45*x^18 + 11*x^17 + 112*x^16 + 66*x^15 + 84*x^14 + 125*x^13 + x^12 + 98*x^11 + 114*x^10 + 62*x^9 + 80*x^8 + 57*x^7 + 30*x^6 + 24*x^5 + 16*x^4 + 6*x^3 + 82*x^2 + 110*x + 59) * (x^21 + 47*x^20 + 124*x^19 + 20*x^18 + 109*x^17 + 17*x^16 + 36*x^15 + 42*x^14 + 30*x^13 + 42*x^12 + 19*x^11 + 49*x^10 + 112*x^9 + 91*x^8 + 59*x^7 + 24*x^6 + 56*x^5 + 17*x^4 + 70*x^3 + 4*x^2 + 37*x + 60) * (x^21 + 48*x^20 + 69*x^19 + 121*x^18 + 20*x^17 + 17*x^16 + 64*x^15 + 29*x^14 + 88*x^13 + 125*x^12 + 104*x^11 + 83*x^10 + 44*x^9 + 2*x^8 + 18*x^7 + 26*x^6 + 47*x^5 + 22*x^4 + 17*x^3 + 55*x^2 + 93*x + 24) * (x^21 + 48*x^20 + 87*x^19 + 93*x^18 + 26*x^17 + 116*x^16 + 68*x^15 + 61*x^14 + 61*x^13 + 6*x^12 + 111*x^11 + 70*x^10 + 35*x^9 + 119*x^8 + 96*x^7 + 29*x^6 + 117*x^5 + 84*x^4 + 97*x^3 + 96*x^2 + 122*x + 93) * (x^21 + 49*x^20 + 96*x^19 + 111*x^18 + 59*x^17 + 24*x^16 + 2*x^15 + 120*x^14 + 13*x^13 + 82*x^12 + 54*x^11 + 107*x^10 + 101*x^9 + 123*x^8 + 110*x^7 + 83*x^6 + 116*x^5 + 100*x^4 + 124*x^3 + 33*x^2 + 92*x + 119) * (x^21 + 50*x^20 + 82*x^19 + 43*x^18 + 107*x^17 + 3*x^16 + 51*x^15 + 92*x^14 + 93*x^13 + 88*x^12 + 78*x^11 + 42*x^10 + 36*x^9 + 59*x^8 + 3*x^7 + 122*x^6 + 84*x^5 + 61*x^4 + 115*x^3 + 22*x^2 + 112*x + 68) * (x^21 + 51*x^20 + 121*x^19 + 35*x^18 + 60*x^17 + 10*x^16 + 117*x^15 + 98*x^14 + 37*x^13 + 111*x^12 + 42*x^11 + 66*x^10 + 12*x^9 + 112*x^8 + 82*x^7 + 68*x^6 + 48*x^5 + 120*x^4 + 9*x^3 + 82*x^2 + 15*x + 69) * (x^21 + 51*x^20 + 121*x^19 + 70*x^18 + 103*x^17 + 99*x^16 + 6*x^15 + 111*x^14 + 68*x^13 + 24*x^12 + 118*x^11 + 123*x^10 + 114*x^9 + 110*x^8 + 78*x^7 + 120*x^6 + 77*x^5 + 8*x^4 + 22*x^3 + 17*x^2 + 70*x + 116) * (x^21 + 52*x^20 + 6*x^19 + 87*x^18 + 124*x^17 + 67*x^16 + 60*x^15 + 38*x^14 + 55*x^13 + 71*x^12 + 22*x^11 + 47*x^10 + 26*x^9 + 18*x^8 + 108*x^7 + 47*x^6 + 83*x^5 + 123*x^4 + 67*x^3 + 121*x^2 + 64*x + 80) * (x^21 + 52*x^20 + 91*x^19 + 114*x^18 + 45*x^17 + 19*x^16 + 47*x^15 + 37*x^14 + 44*x^13 + 92*x^12 + 126*x^11 + 79*x^10 + 110*x^9 + 79*x^8 + 75*x^7 + 47*x^6 + 46*x^5 + 111*x^4 + 115*x^3 + 34*x^2 + 74*x + 90) * (x^21 + 53*x^20 + 37*x^19 + 94*x^18 + 24*x^17 + 124*x^16 + 126*x^15 + 80*x^14 + 102*x^13 + 105*x^12 + 2*x^11 + 70*x^10 + 18*x^9 + 67*x^8 + 49*x^7 + 56*x^6 + 42*x^5 + 80*x^4 + 86*x^3 + 31*x^2 + 78*x + 55) * (x^21 + 53*x^20 + 44*x^19 + 18*x^18 + 25*x^17 + 20*x^16 + 125*x^15 + 115*x^14 + 69*x^13 + 72*x^12 + 45*x^11 + 28*x^10 + 52*x^9 + 32*x^8 + 32*x^7 + 111*x^6 + 16*x^5 + 21*x^4 + 59*x^3 + 74*x^2 + 75*x + 51) * (x^21 + 53*x^20 + 110*x^19 + 119*x^18 + 25*x^17 + 105*x^16 + 39*x^15 + 21*x^14 + 81*x^13 + 26*x^12 + 27*x^11 + 64*x^10 + 46*x^9 + 60*x^8 + 11*x^7 + 65*x^6 + 10*x^5 + 3*x^4 + 122*x^3 + 88*x^2 + 88*x + 108) * (x^21 + 53*x^20 + 111*x^19 + 87*x^18 + 37*x^17 + 93*x^16 + 62*x^15 + 116*x^14 + 11*x^13 + 8*x^12 + 62*x^11 + 53*x^10 + 116*x^9 + 63*x^8 + 91*x^7 + 67*x^6 + 91*x^5 + 71*x^4 + 54*x^3 + 49*x^2 + 71*x + 6) * (x^21 + 54*x^20 + 5*x^19 + 107*x^18 + 66*x^17 + 86*x^16 + 126*x^15 + 125*x^14 + 91*x^13 + 65*x^12 + 36*x^11 + 39*x^10 + 117*x^9 + 13*x^8 + 79*x^7 + 73*x^6 + 9*x^5 + 99*x^4 + 84*x^3 + 72*x^2 + 16*x + 87) * (x^21 + 54*x^20 + 16*x^19 + 69*x^18 + 103*x^17 + 11*x^16 + 88*x^15 + 45*x^14 + 102*x^13 + 40*x^12 + 22*x^11 + 104*x^10 + 65*x^9 + 48*x^8 + 77*x^7 + 2*x^6 + 123*x^5 + 68*x^4 + 26*x^3 + 120*x^2 + 57*x + 102) * (x^21 + 54*x^20 + 62*x^19 + 56*x^18 + 73*x^17 + 114*x^16 + 13*x^15 + 125*x^14 + 123*x^13 + 99*x^12 + 115*x^11 + 44*x^10 + 99*x^9 + 46*x^7 + 27*x^6 + 27*x^5 + 76*x^4 + 49*x^3 + 40*x^2 + 89*x + 67) * (x^21 + 54*x^20 + 100*x^19 + 34*x^18 + 24*x^17 + 8*x^16 + 50*x^15 + 115*x^14 + 100*x^13 + 7*x^12 + 110*x^11 + 39*x^10 + 83*x^9 + 112*x^8 + 85*x^7 + 47*x^6 + 71*x^5 + 109*x^4 + 121*x^3 + 71*x^2 + 122*x + 37) * (x^21 + 55*x^20 + 22*x^19 + 16*x^18 + 67*x^17 + 44*x^16 + 118*x^15 + 36*x^14 + 46*x^13 + 20*x^12 + 80*x^11 + 62*x^10 + 93*x^9 + 93*x^8 + 114*x^7 + 54*x^6 + 81*x^5 + 53*x^4 + 3*x^3 + 88*x^2 + 37*x + 53) * (x^21 + 55*x^20 + 94*x^19 + 38*x^18 + 69*x^17 + 92*x^16 + 85*x^15 + 70*x^14 + 33*x^13 + 82*x^12 + 112*x^11 + 62*x^10 + 57*x^9 + 122*x^8 + 59*x^7 + 69*x^6 + 70*x^5 + 103*x^4 + 7*x^3 + 86*x^2 + 76*x + 64) * (x^21 + 56*x^20 + 53*x^19 + 24*x^18 + 28*x^17 + 92*x^16 + 122*x^15 + 117*x^14 + 82*x^13 + 114*x^12 + 59*x^11 + 100*x^10 + 90*x^9 + 27*x^8 + 124*x^7 + 62*x^6 + 5*x^5 + 76*x^4 + 80*x^3 + 101*x^2 + 122*x + 101) * (x^21 + 58*x^20 + 49*x^18 + 39*x^17 + 15*x^16 + 94*x^15 + 98*x^14 + 94*x^13 + 65*x^12 + 39*x^11 + 29*x^10 + 125*x^9 + 51*x^8 + 103*x^7 + 107*x^6 + 84*x^5 + 50*x^4 + 39*x^3 + 95*x^2 + 63*x + 38) * (x^21 + 58*x^20 + 4*x^19 + 94*x^18 + 23*x^17 + 68*x^16 + 46*x^15 + 70*x^14 + 20*x^13 + 43*x^12 + 85*x^11 + 90*x^10 + 4*x^9 + 43*x^8 + 10*x^7 + 99*x^6 + 84*x^5 + 83*x^4 + 22*x^3 + 104*x^2 + 73*x + 55) * (x^21 + 58*x^20 + 68*x^19 + 7*x^18 + 83*x^17 + 23*x^16 + 72*x^15 + 50*x^14 + 55*x^13 + 11*x^12 + 38*x^10 + 19*x^9 + 61*x^8 + 19*x^7 + 125*x^6 + 6*x^5 + 44*x^4 + 90*x^3 + 70*x^2 + 62) * (x^21 + 58*x^20 + 90*x^19 + 73*x^18 + 92*x^17 + 76*x^16 + 11*x^15 + 81*x^14 + 80*x^13 + 19*x^12 + 101*x^11 + 28*x^10 + 26*x^9 + 3*x^8 + 85*x^7 + 14*x^6 + 23*x^5 + 88*x^4 + 35*x^3 + 22*x^2 + 85*x + 77) * (x^21 + 58*x^20 + 108*x^19 + 115*x^18 + 124*x^17 + 126*x^16 + 44*x^15 + 108*x^14 + 87*x^13 + 107*x^12 + 28*x^11 + 68*x^10 + 107*x^9 + 105*x^8 + 30*x^7 + 42*x^6 + 8*x^5 + 97*x^4 + 41*x^3 + 119*x^2 + 94*x + 121) * (x^21 + 59*x^20 + 68*x^19 + 100*x^18 + 43*x^17 + 17*x^16 + 26*x^15 + 27*x^14 + 17*x^13 + 21*x^12 + 106*x^11 + 107*x^10 + 97*x^9 + 35*x^8 + 62*x^7 + 52*x^6 + 95*x^5 + 85*x^4 + 100*x^3 + 63*x^2 + 75*x + 65) * (x^21 + 60*x^20 + 69*x^19 + 31*x^18 + 92*x^17 + 126*x^16 + 62*x^15 + 102*x^14 + 87*x^13 + 52*x^12 + 52*x^11 + 58*x^10 + 9*x^9 + 39*x^8 + 17*x^7 + 125*x^6 + 29*x^5 + 105*x^4 + 106*x^3 + 125*x^2 + 12*x + 34) * (x^21 + 61*x^20 + 20*x^19 + 122*x^18 + 13*x^17 + 29*x^16 + 92*x^15 + 5*x^14 + 59*x^13 + 111*x^12 + 68*x^11 + 50*x^10 + 25*x^9 + 24*x^8 + 45*x^7 + 37*x^6 + 28*x^5 + 121*x^4 + 37*x^3 + 114*x^2 + 112*x + 43) * (x^21 + 61*x^20 + 110*x^19 + 15*x^18 + 122*x^17 + 72*x^16 + 93*x^15 + 39*x^14 + 61*x^13 + 65*x^12 + 100*x^11 + 58*x^10 + 21*x^9 + 38*x^8 + 110*x^7 + 53*x^6 + 99*x^5 + 31*x^4 + 91*x^3 + 73*x^2 + 104*x + 59) * (x^21 + 62*x^20 + 5*x^19 + 113*x^18 + 69*x^17 + 38*x^16 + 40*x^15 + 8*x^14 + 65*x^13 + 124*x^12 + 8*x^11 + 102*x^10 + 84*x^9 + 82*x^8 + 35*x^7 + 30*x^6 + x^5 + 68*x^4 + 6*x^3 + 58*x^2 + 78*x + 17) * (x^21 + 62*x^20 + 15*x^19 + 10*x^18 + 102*x^17 + 15*x^16 + 104*x^15 + 61*x^14 + 36*x^13 + 3*x^12 + 67*x^11 + 3*x^10 + 115*x^8 + 7*x^7 + 102*x^6 + 42*x^5 + 126*x^4 + 46*x^3 + 9*x^2 + 106*x + 78) * (x^21 + 62*x^20 + 19*x^19 + 8*x^18 + 78*x^17 + 120*x^16 + 118*x^15 + 112*x^14 + 40*x^13 + 38*x^12 + 66*x^11 + 40*x^10 + 104*x^9 + 37*x^8 + 88*x^7 + 6*x^6 + 59*x^5 + 70*x^4 + 95*x^3 + 113*x^2 + 120*x + 63) * (x^21 + 62*x^20 + 33*x^19 + 42*x^18 + 84*x^17 + 57*x^16 + 124*x^15 + 98*x^14 + 46*x^13 + 101*x^12 + 123*x^11 + 67*x^10 + 76*x^9 + 47*x^8 + 84*x^7 + 106*x^6 + 107*x^5 + 102*x^4 + 49*x^3 + 114*x^2 + 98*x + 123) * (x^21 + 62*x^20 + 119*x^19 + 97*x^18 + 56*x^17 + 30*x^16 + 58*x^15 + 62*x^14 + 115*x^13 + 79*x^12 + 98*x^11 + 48*x^10 + 49*x^9 + 80*x^8 + 14*x^7 + 68*x^6 + 4*x^5 + 57*x^4 + 61*x^3 + 96*x^2 + 9*x + 81) * (x^21 + 63*x^20 + 113*x^18 + 115*x^17 + 111*x^16 + 107*x^15 + 63*x^14 + 37*x^13 + 15*x^12 + 6*x^11 + 85*x^10 + 34*x^9 + 36*x^8 + 70*x^7 + 94*x^6 + 87*x^5 + 109*x^4 + 107*x^3 + 15*x^2 + 60*x + 121) * (x^21 + 63*x^20 + 9*x^19 + 75*x^18 + 101*x^17 + 73*x^16 + 53*x^15 + 44*x^14 + 21*x^13 + 3*x^12 + 120*x^11 + 98*x^10 + 58*x^9 + 49*x^8 + 50*x^7 + 57*x^6 + 117*x^5 + 118*x^4 + 13*x^3 + 17*x^2 + 45*x + 122) * (x^21 + 63*x^20 + 88*x^19 + 126*x^18 + 119*x^17 + 88*x^16 + 6*x^15 + 62*x^14 + 61*x^13 + 15*x^12 + 102*x^11 + 72*x^10 + 116*x^9 + 123*x^8 + 80*x^7 + 8*x^6 + 28*x^5 + 27*x^4 + 106*x^3 + 19*x^2 + 119*x + 120) * (x^21 + 63*x^20 + 95*x^19 + 90*x^18 + 54*x^17 + 74*x^16 + 52*x^15 + 126*x^14 + 2*x^13 + 110*x^12 + 86*x^11 + 62*x^10 + 66*x^9 + 24*x^8 + 98*x^7 + 67*x^6 + 38*x^5 + 82*x^4 + 80*x^3 + 8*x^2 + 64*x + 43) * (x^21 + 63*x^20 + 99*x^19 + 109*x^18 + 80*x^17 + 72*x^16 + 90*x^15 + 45*x^14 + 47*x^13 + 77*x^12 + 13*x^11 + 34*x^10 + 71*x^9 + 58*x^8 + 121*x^7 + 76*x^6 + 91*x^5 + 21*x^4 + 32*x^3 + 89*x^2 + 33*x + 100) * (x^21 + 63*x^20 + 118*x^19 + 118*x^18 + 122*x^17 + 79*x^16 + 14*x^15 + 22*x^14 + 35*x^13 + 76*x^12 + 72*x^11 + 101*x^10 + 15*x^9 + 10*x^8 + 76*x^7 + 80*x^6 + 102*x^5 + 102*x^4 + 124*x^3 + 16*x^2 + 50*x + 65) * (x^21 + 65*x^20 + 61*x^19 + 124*x^18 + 35*x^17 + 118*x^16 + 54*x^15 + 111*x^14 + 118*x^13 + 84*x^12 + 126*x^11 + 68*x^10 + 53*x^9 + 93*x^8 + 115*x^7 + 84*x^6 + 27*x^5 + 14*x^4 + 15*x^3 + 31*x^2 + 96*x + 107) * (x^21 + 66*x^20 + 73*x^19 + 64*x^18 + 57*x^17 + 29*x^16 + 115*x^15 + 90*x^14 + 33*x^13 + 79*x^12 + 2*x^11 + 27*x^10 + 105*x^9 + 20*x^8 + 23*x^6 + 38*x^5 + 68*x^4 + 101*x^3 + 56*x^2 + 33*x + 120) * (x^21 + 66*x^20 + 123*x^19 + 77*x^18 + 107*x^17 + 58*x^16 + 34*x^15 + 9*x^14 + 110*x^13 + 33*x^12 + 14*x^11 + 3*x^10 + 43*x^9 + 100*x^8 + 83*x^7 + 114*x^6 + 10*x^5 + 105*x^4 + 49*x^3 + 94*x^2 + 68*x + 122) * (x^21 + 67*x^20 + 6*x^19 + 3*x^18 + 63*x^17 + 43*x^16 + 28*x^15 + 36*x^14 + 42*x^13 + 21*x^12 + 93*x^11 + 35*x^10 + 111*x^9 + 98*x^8 + 83*x^7 + 33*x^6 + 34*x^5 + 11*x^4 + 55*x^3 + 86*x^2 + 81*x + 2) * (x^21 + 67*x^20 + 21*x^19 + 125*x^18 + 17*x^17 + 121*x^16 + 4*x^15 + 108*x^14 + 93*x^13 + 37*x^12 + 2*x^11 + 39*x^10 + 27*x^9 + 31*x^8 + 85*x^7 + 31*x^6 + 35*x^5 + 88*x^4 + 115*x^3 + 96*x^2 + 29*x + 7) * (x^21 + 67*x^20 + 25*x^19 + 3*x^18 + 95*x^17 + 74*x^16 + 67*x^15 + 68*x^14 + 104*x^13 + 66*x^12 + 26*x^11 + 37*x^10 + 52*x^9 + 116*x^8 + 94*x^7 + 52*x^6 + 57*x^5 + 107*x^4 + 74*x^3 + 55*x^2 + 87*x + 8) * (x^21 + 67*x^20 + 44*x^19 + 33*x^18 + 104*x^17 + 29*x^16 + 49*x^15 + 118*x^14 + 11*x^13 + 62*x^12 + 6*x^11 + 95*x^10 + 72*x^9 + 83*x^8 + 21*x^7 + 34*x^6 + 3*x^5 + 61*x^4 + 31*x^3 + 37*x^2 + 55*x + 84) * (x^21 + 68*x^20 + 54*x^19 + 69*x^18 + 43*x^17 + 93*x^16 + 113*x^15 + 98*x^14 + 31*x^13 + 121*x^12 + 55*x^11 + 12*x^10 + 82*x^9 + 74*x^7 + 63*x^6 + 19*x^5 + 76*x^4 + 60*x^3 + 17*x^2 + 59*x + 42) * (x^21 + 68*x^20 + 83*x^19 + 53*x^18 + 79*x^17 + 27*x^16 + 75*x^15 + 83*x^14 + 108*x^13 + 53*x^12 + 105*x^11 + 65*x^10 + 73*x^9 + 113*x^8 + 14*x^7 + 67*x^6 + 114*x^5 + 88*x^4 + 121*x^3 + 29*x^2 + 102*x + 70) * (x^21 + 68*x^20 + 96*x^19 + 107*x^18 + 92*x^17 + 124*x^16 + 111*x^15 + x^14 + 91*x^13 + 105*x^12 + 80*x^11 + 8*x^10 + 20*x^9 + 43*x^8 + 29*x^7 + 12*x^6 + 65*x^5 + 93*x^4 + 30*x^3 + 12*x^2 + 84*x + 108) * (x^21 + 69*x^20 + 9*x^19 + 106*x^18 + 15*x^17 + 62*x^16 + 31*x^15 + 15*x^14 + 109*x^13 + 38*x^12 + 58*x^11 + 54*x^10 + 13*x^9 + 110*x^8 + 108*x^7 + 59*x^6 + 54*x^5 + 38*x^4 + 52*x^3 + 119*x^2 + 30*x + 53) * (x^21 + 69*x^20 + 108*x^19 + 67*x^18 + 21*x^17 + 35*x^16 + 30*x^15 + 125*x^14 + 14*x^13 + 57*x^12 + 119*x^11 + 52*x^10 + 55*x^9 + 117*x^8 + 93*x^7 + 108*x^6 + 85*x^5 + 9*x^4 + 105*x^3 + 2*x^2 + 53*x + 74) * (x^21 + 71*x^20 + 26*x^19 + 28*x^18 + 33*x^17 + 108*x^16 + 6*x^15 + 5*x^14 + 13*x^13 + 75*x^12 + 59*x^11 + 20*x^10 + 54*x^9 + 41*x^8 + 64*x^7 + 108*x^6 + 23*x^5 + 10*x^4 + 42*x^3 + 26*x^2 + 105*x + 14) * (x^21 + 71*x^20 + 122*x^19 + 72*x^18 + 123*x^17 + 67*x^16 + 37*x^15 + 79*x^14 + 37*x^13 + 68*x^12 + 50*x^11 + 96*x^10 + 90*x^9 + 44*x^8 + 77*x^7 + 45*x^6 + 12*x^5 + 97*x^4 + 29*x^3 + 111*x^2 + 42*x + 39) * (x^21 + 73*x^20 + 5*x^19 + 24*x^18 + 123*x^17 + 111*x^16 + 112*x^15 + 9*x^14 + 107*x^13 + 91*x^12 + 97*x^11 + 49*x^10 + 123*x^9 + 80*x^8 + 15*x^7 + 97*x^6 + 5*x^5 + 121*x^4 + 30*x^3 + 70*x^2 + 35*x + 26) * (x^21 + 73*x^20 + 42*x^19 + 39*x^18 + 25*x^17 + 38*x^16 + 43*x^15 + 90*x^14 + 108*x^13 + 7*x^12 + 69*x^11 + 31*x^10 + 115*x^9 + 15*x^8 + 82*x^7 + 19*x^6 + 17*x^5 + 88*x^4 + 121*x^3 + 82*x^2 + 37*x + 67) * (x^21 + 73*x^20 + 95*x^19 + 23*x^18 + 120*x^17 + 15*x^16 + 4*x^15 + 93*x^14 + 79*x^13 + 96*x^12 + 75*x^11 + 84*x^10 + 124*x^9 + 125*x^8 + 102*x^7 + 122*x^6 + 73*x^5 + 116*x^4 + 100*x^3 + 65*x^2 + 25*x + 16) * (x^21 + 74*x^20 + 22*x^19 + 119*x^18 + 29*x^17 + 106*x^16 + 72*x^15 + 115*x^14 + 95*x^13 + 43*x^12 + 15*x^11 + 78*x^10 + 118*x^9 + 54*x^8 + 107*x^7 + 79*x^6 + 55*x^5 + 123*x^4 + 22*x^3 + 40*x^2 + 101*x + 108) * (x^21 + 74*x^20 + 39*x^19 + 62*x^18 + 59*x^17 + 66*x^16 + 9*x^15 + 106*x^14 + 85*x^13 + 50*x^12 + 22*x^11 + 108*x^10 + 36*x^9 + 31*x^8 + 96*x^7 + 112*x^6 + 96*x^5 + 27*x^4 + 125*x^3 + 73*x^2 + 66*x + 33) * (x^21 + 75*x^20 + 86*x^19 + 88*x^18 + 59*x^17 + 18*x^16 + 23*x^14 + 77*x^13 + 105*x^12 + 63*x^11 + 98*x^10 + 66*x^9 + 29*x^8 + 29*x^7 + 32*x^6 + 112*x^5 + 91*x^4 + 4*x^3 + 56*x^2 + 98*x + 123) * (x^21 + 76*x^20 + 59*x^19 + 34*x^18 + 99*x^17 + 82*x^16 + 58*x^14 + 33*x^13 + 44*x^12 + 96*x^11 + 20*x^10 + 86*x^9 + 93*x^8 + 43*x^7 + 119*x^6 + 41*x^5 + 23*x^4 + 126*x^3 + 25*x^2 + 72*x + 75) * (x^21 + 76*x^20 + 64*x^19 + 29*x^18 + 50*x^17 + 65*x^16 + 5*x^15 + 23*x^14 + 69*x^13 + 100*x^12 + 46*x^11 + 41*x^10 + 57*x^9 + 126*x^8 + 11*x^7 + 46*x^6 + 60*x^5 + 87*x^4 + 9*x^3 + 118*x^2 + 15*x + 113) * (x^21 + 76*x^20 + 72*x^19 + 108*x^18 + 63*x^17 + 90*x^16 + 100*x^15 + 93*x^14 + 60*x^13 + 67*x^12 + 70*x^11 + 31*x^10 + 118*x^9 + 34*x^7 + 4*x^6 + 50*x^5 + x^4 + 16*x^3 + 100*x^2 + 72*x + 59) * (x^21 + 76*x^20 + 104*x^19 + 19*x^18 + 3*x^17 + 15*x^16 + 56*x^15 + 16*x^14 + 11*x^13 + 61*x^12 + 34*x^11 + 77*x^10 + 15*x^9 + 37*x^8 + 33*x^7 + 125*x^6 + 49*x^5 + 31*x^4 + 67*x^3 + 100*x^2 + 116*x + 56) * (x^21 + 77*x^20 + 19*x^19 + 19*x^18 + 21*x^17 + 53*x^16 + 97*x^15 + 7*x^14 + 118*x^13 + 87*x^12 + 37*x^11 + 72*x^10 + 73*x^9 + 89*x^8 + 57*x^7 + 85*x^6 + 89*x^5 + 109*x^4 + 28*x^3 + 18*x^2 + 63*x + 43) * (x^21 + 78*x^20 + 41*x^19 + 9*x^18 + 100*x^17 + 65*x^16 + 84*x^15 + 82*x^14 + x^13 + 19*x^12 + 87*x^11 + 92*x^10 + 59*x^9 + 85*x^8 + 54*x^7 + 17*x^6 + 6*x^5 + 46*x^4 + 124*x^3 + 100*x^2 + 64*x + 103) * (x^21 + 78*x^20 + 60*x^19 + 91*x^18 + 86*x^17 + 44*x^16 + 6*x^15 + 15*x^14 + 66*x^13 + 6*x^12 + 75*x^11 + 37*x^10 + 110*x^9 + 64*x^8 + 11*x^7 + 41*x^6 + 20*x^5 + 9*x^4 + 124*x^3 + 35*x^2 + 110*x + 113) * (x^21 + 78*x^20 + 62*x^19 + 119*x^18 + 58*x^17 + 85*x^16 + 24*x^15 + 44*x^14 + 78*x^13 + 39*x^12 + 45*x^11 + 92*x^10 + 96*x^9 + 114*x^8 + 57*x^7 + 38*x^6 + 63*x^5 + 125*x^4 + 58*x^3 + 2*x^2 + 82*x + 102) * (x^21 + 78*x^20 + 67*x^19 + 100*x^18 + 56*x^17 + 86*x^16 + 28*x^15 + 104*x^14 + 77*x^13 + 10*x^12 + 100*x^11 + 12*x^10 + 16*x^9 + 88*x^8 + 93*x^7 + 120*x^6 + x^5 + 84*x^4 + 26*x^3 + 50*x^2 + 116*x + 64) * (x^21 + 78*x^20 + 113*x^19 + 10*x^18 + 87*x^17 + 12*x^16 + 52*x^15 + 106*x^14 + 6*x^13 + 124*x^12 + 44*x^11 + 105*x^10 + 57*x^9 + 79*x^8 + 3*x^7 + 92*x^6 + 50*x^5 + 29*x^4 + 90*x^3 + 60*x^2 + 121*x + 80) * (x^21 + 80*x^20 + 45*x^19 + 55*x^18 + 68*x^17 + 110*x^16 + 10*x^15 + 65*x^14 + 27*x^13 + 26*x^12 + 7*x^11 + 27*x^10 + 10*x^9 + 110*x^8 + 105*x^7 + 75*x^6 + 2*x^5 + 68*x^4 + 27*x^3 + 115*x^2 + 124*x + 74) * (x^21 + 80*x^20 + 47*x^19 + 79*x^18 + 13*x^17 + 21*x^16 + 85*x^15 + 21*x^14 + 123*x^13 + 27*x^12 + 61*x^11 + 98*x^10 + 18*x^9 + 94*x^8 + 30*x^7 + 43*x^6 + 120*x^5 + 55*x^4 + 71*x^3 + 40*x^2 + 89*x + 31) * (x^21 + 80*x^20 + 83*x^19 + 24*x^18 + 72*x^17 + 94*x^15 + 112*x^14 + 33*x^13 + 79*x^12 + x^11 + 120*x^10 + 14*x^9 + 17*x^8 + 103*x^7 + 40*x^6 + 73*x^5 + 108*x^4 + 17*x^3 + 74*x^2 + 118*x + 83) * (x^21 + 81*x^20 + 120*x^19 + 25*x^18 + 18*x^17 + 58*x^16 + 124*x^15 + 76*x^14 + 79*x^13 + 5*x^12 + 103*x^11 + 118*x^10 + 16*x^9 + 7*x^8 + 123*x^7 + 36*x^6 + 107*x^5 + 46*x^4 + 17*x^3 + 125*x^2 + 10*x + 15) * (x^21 + 83*x^20 + 47*x^19 + 24*x^18 + 81*x^17 + 25*x^16 + 18*x^15 + 41*x^14 + 44*x^13 + 83*x^12 + 45*x^11 + 52*x^9 + 47*x^8 + 116*x^7 + 41*x^6 + 63*x^5 + 92*x^4 + 77*x^3 + 73*x^2 + 84*x + 52) * (x^21 + 83*x^20 + 58*x^19 + 126*x^18 + 103*x^17 + 101*x^16 + 87*x^15 + 50*x^14 + 94*x^13 + 117*x^12 + 56*x^11 + 116*x^10 + 27*x^9 + 103*x^8 + 73*x^7 + 93*x^6 + 79*x^5 + 44*x^4 + 91*x^3 + 36*x + 62) * (x^21 + 83*x^20 + 120*x^19 + 13*x^18 + 34*x^17 + 19*x^16 + 15*x^15 + 104*x^14 + 22*x^13 + 24*x^12 + 91*x^11 + 92*x^10 + 125*x^9 + 9*x^8 + 55*x^7 + 119*x^6 + 78*x^5 + 55*x^4 + 96*x^3 + 95*x^2 + 69*x + 122) * (x^21 + 84*x^20 + 80*x^19 + 61*x^18 + 120*x^17 + 81*x^16 + 47*x^15 + 90*x^14 + 106*x^13 + 78*x^12 + 40*x^11 + 93*x^10 + 9*x^9 + 53*x^8 + 36*x^7 + 109*x^6 + 51*x^5 + 41*x^4 + 31*x^3 + 21*x^2 + 58*x + 118) * (x^21 + 85*x^20 + 8*x^19 + 26*x^18 + 111*x^17 + 119*x^16 + 34*x^15 + 71*x^14 + 107*x^13 + 84*x^12 + 45*x^11 + 105*x^10 + 39*x^9 + 88*x^8 + 59*x^7 + 96*x^6 + 17*x^5 + 18*x^4 + 50*x^3 + 98*x^2 + 52*x + 32) * (x^21 + 85*x^20 + 39*x^19 + 111*x^18 + 103*x^17 + 8*x^16 + 19*x^15 + 57*x^14 + 96*x^13 + 104*x^12 + 25*x^11 + 74*x^10 + 64*x^9 + 11*x^8 + 30*x^7 + 100*x^6 + 37*x^5 + 69*x^4 + 16*x^3 + 32*x^2 + 19*x + 3) * (x^21 + 85*x^20 + 121*x^19 + 99*x^18 + 17*x^17 + 51*x^16 + 65*x^15 + 87*x^14 + 78*x^13 + 18*x^12 + 14*x^11 + 96*x^10 + 79*x^9 + 46*x^8 + 80*x^7 + 57*x^6 + 104*x^5 + 16*x^4 + 52*x^3 + 47*x^2 + 5*x + 119) * (x^21 + 86*x^20 + 12*x^19 + 113*x^18 + 78*x^17 + 118*x^16 + 14*x^15 + 69*x^14 + 67*x^13 + 77*x^12 + 103*x^11 + 15*x^10 + 51*x^9 + 72*x^8 + 49*x^7 + 21*x^6 + 96*x^5 + 45*x^4 + 68*x^3 + 11*x^2 + 124*x + 46) * (x^21 + 86*x^20 + 42*x^19 + 121*x^18 + 40*x^17 + 97*x^16 + 67*x^15 + 57*x^14 + 7*x^13 + 99*x^12 + 123*x^11 + 120*x^10 + 34*x^9 + 76*x^8 + 7*x^7 + 3*x^6 + 38*x^5 + 23*x^4 + 34*x^3 + 24*x^2 + 124*x + 24) * (x^21 + 87*x^20 + 77*x^19 + 65*x^18 + 36*x^17 + 62*x^16 + 43*x^15 + 11*x^14 + 108*x^13 + 93*x^12 + 28*x^11 + 54*x^10 + 19*x^9 + 77*x^8 + 21*x^7 + 48*x^6 + 16*x^5 + 55*x^4 + 66*x^3 + 116*x^2 + x + 21) * (x^21 + 87*x^20 + 117*x^19 + 70*x^18 + 116*x^17 + 45*x^16 + 25*x^15 + 10*x^14 + 7*x^13 + 27*x^12 + 60*x^11 + 121*x^10 + 28*x^9 + 122*x^8 + 115*x^7 + 69*x^6 + 17*x^5 + 18*x^4 + 63*x^3 + 31*x^2 + 41*x + 55) * (x^21 + 90*x^20 + 14*x^19 + 78*x^18 + 117*x^17 + 111*x^16 + 63*x^15 + 69*x^14 + 65*x^13 + 48*x^12 + 118*x^11 + 27*x^10 + 53*x^9 + 109*x^8 + 37*x^7 + 18*x^6 + 88*x^5 + 97*x^4 + 46*x^3 + 24*x^2 + 103*x + 35) * (x^21 + 92*x^20 + 9*x^19 + 107*x^18 + 109*x^17 + 87*x^16 + 113*x^15 + 53*x^14 + 117*x^13 + 39*x^12 + 40*x^11 + 62*x^10 + 71*x^9 + 61*x^8 + 98*x^7 + 61*x^6 + 125*x^5 + 81*x^4 + 50*x^3 + 108*x^2 + 20*x + 47) * (x^21 + 92*x^20 + 54*x^19 + 60*x^18 + 62*x^17 + 81*x^16 + 83*x^15 + 41*x^14 + 79*x^13 + 11*x^12 + 29*x^11 + 85*x^10 + 44*x^9 + 103*x^8 + 4*x^7 + 4*x^6 + 115*x^5 + 18*x^4 + 12*x^3 + 88*x^2 + 63*x + 124) * (x^21 + 92*x^20 + 59*x^19 + 114*x^18 + 75*x^17 + 89*x^16 + 69*x^15 + 48*x^14 + 21*x^13 + 66*x^12 + 107*x^11 + 11*x^10 + 3*x^9 + 32*x^8 + 84*x^7 + 30*x^6 + 45*x^5 + 126*x^4 + 63*x^3 + 104*x^2 + 44*x + 67) * (x^21 + 92*x^20 + 72*x^19 + 19*x^18 + 74*x^17 + 64*x^16 + 86*x^15 + 87*x^14 + 109*x^13 + 94*x^12 + 7*x^11 + 32*x^10 + 34*x^9 + 109*x^8 + 120*x^7 + 7*x^6 + 123*x^5 + 6*x^4 + 99*x^3 + 116*x^2 + 27*x + 90) * (x^21 + 92*x^20 + 120*x^19 + 45*x^18 + 96*x^17 + 38*x^16 + 45*x^15 + 15*x^14 + 27*x^13 + 89*x^12 + 61*x^11 + 46*x^10 + 71*x^9 + 97*x^8 + 100*x^7 + 112*x^6 + 46*x^5 + 74*x^4 + 126*x^3 + 79*x^2 + 111*x + 59) * (x^21 + 92*x^20 + 126*x^19 + 99*x^18 + 46*x^17 + 103*x^16 + 14*x^15 + 77*x^14 + 10*x^13 + 40*x^12 + 16*x^11 + 118*x^10 + 37*x^9 + 16*x^8 + 102*x^7 + 104*x^6 + 53*x^5 + 15*x^4 + 65*x^3 + 37*x^2 + 14*x + 53) * (x^21 + 94*x^20 + 6*x^19 + 57*x^18 + 45*x^17 + 120*x^16 + 110*x^15 + 6*x^14 + 107*x^13 + 110*x^12 + 63*x^11 + 24*x^10 + 99*x^9 + 57*x^8 + 106*x^7 + 51*x^6 + 69*x^5 + 60*x^4 + 39*x^3 + 100*x^2 + 18*x + 124) * (x^21 + 94*x^20 + 20*x^19 + 20*x^18 + 41*x^17 + 88*x^16 + 47*x^15 + 96*x^14 + 20*x^13 + 36*x^12 + 98*x^11 + 66*x^10 + 122*x^9 + 123*x^8 + 88*x^7 + 103*x^6 + 16*x^5 + 126*x^4 + 120*x^3 + 93*x^2 + 63*x + 11) * (x^21 + 94*x^20 + 29*x^19 + 50*x^18 + 103*x^17 + 2*x^16 + 123*x^15 + 82*x^14 + 58*x^13 + 116*x^12 + 26*x^11 + 121*x^10 + 75*x^9 + 54*x^8 + 80*x^7 + 125*x^6 + 56*x^5 + 111*x^4 + 54*x^3 + 89*x^2 + 11*x + 102) * (x^21 + 94*x^20 + 48*x^19 + 52*x^18 + 27*x^17 + 88*x^16 + 55*x^15 + 93*x^14 + 108*x^13 + 112*x^12 + 68*x^11 + 92*x^10 + 13*x^9 + 43*x^8 + 17*x^7 + 53*x^6 + 28*x^5 + 43*x^4 + 93*x^3 + 2*x^2 + 115*x + 10) * (x^21 + 95*x^20 + 81*x^19 + 14*x^18 + 92*x^17 + 12*x^16 + 76*x^15 + 16*x^14 + 12*x^13 + 118*x^12 + 110*x^10 + 29*x^9 + 70*x^8 + 38*x^7 + 27*x^6 + 24*x^5 + 117*x^4 + 7*x^3 + 7*x^2 + 55*x + 46) * (x^21 + 95*x^20 + 89*x^19 + 123*x^18 + 44*x^17 + 118*x^16 + 35*x^15 + 119*x^14 + 115*x^13 + 28*x^12 + 45*x^11 + 92*x^10 + 102*x^9 + 118*x^8 + 4*x^7 + 40*x^6 + 33*x^5 + 8*x^4 + 91*x^3 + 3*x^2 + 20*x + 22) * (x^21 + 96*x^20 + 92*x^19 + 3*x^18 + 25*x^17 + 4*x^16 + 62*x^15 + 44*x^14 + 116*x^13 + 97*x^12 + 97*x^11 + 120*x^10 + 5*x^9 + 19*x^8 + 44*x^7 + 28*x^6 + 13*x^5 + 124*x^4 + 12*x^3 + 6*x^2 + 65*x + 22) * (x^21 + 97*x^20 + 75*x^19 + 42*x^18 + 110*x^17 + 47*x^16 + 64*x^15 + 99*x^14 + 12*x^13 + 75*x^12 + 96*x^11 + 90*x^10 + 6*x^9 + 8*x^8 + 112*x^7 + 42*x^6 + 54*x^5 + 24*x^4 + 11*x^3 + 5*x^2 + 62*x + 112) * (x^21 + 97*x^20 + 117*x^19 + 15*x^18 + 2*x^17 + 68*x^16 + 72*x^15 + 106*x^14 + 68*x^13 + 102*x^12 + 76*x^11 + 117*x^10 + 39*x^9 + 76*x^8 + 90*x^7 + 14*x^6 + 33*x^5 + 29*x^4 + 70*x^3 + 56*x^2 + 30*x + 109) * (x^21 + 98*x^20 + 25*x^19 + 47*x^18 + 122*x^17 + 46*x^16 + 52*x^15 + 112*x^14 + 120*x^13 + 17*x^12 + 91*x^11 + 60*x^10 + 104*x^9 + 42*x^8 + 105*x^7 + 42*x^6 + 61*x^5 + 71*x^4 + 60*x^3 + 90*x^2 + 84*x + 76) * (x^21 + 98*x^20 + 35*x^19 + 61*x^18 + 16*x^17 + 34*x^16 + 65*x^15 + 78*x^14 + 92*x^13 + 95*x^12 + 71*x^11 + 26*x^10 + 30*x^9 + 54*x^8 + 115*x^7 + 4*x^6 + 73*x^5 + 100*x^4 + 75*x^3 + 14*x^2 + 74*x + 12) * (x^21 + 98*x^20 + 102*x^19 + 63*x^18 + 119*x^17 + 70*x^16 + 13*x^15 + 73*x^14 + 59*x^13 + 98*x^12 + 98*x^11 + 64*x^10 + 51*x^9 + 118*x^8 + 113*x^7 + 14*x^6 + 42*x^5 + 106*x^4 + 82*x^3 + 85*x^2 + 82*x + 30) * (x^21 + 98*x^20 + 115*x^19 + 50*x^18 + 15*x^17 + 123*x^16 + 81*x^15 + 26*x^14 + 83*x^13 + 6*x^12 + 74*x^11 + 2*x^10 + 90*x^9 + 8*x^8 + 57*x^7 + 63*x^6 + 19*x^5 + 99*x^4 + 79*x^3 + 104*x^2 + 118*x + 5) * (x^21 + 99*x^20 + 86*x^19 + 47*x^18 + 26*x^17 + 56*x^16 + 25*x^15 + 96*x^14 + 111*x^13 + 110*x^12 + 121*x^11 + 58*x^10 + 92*x^9 + 42*x^8 + 29*x^7 + 34*x^6 + 46*x^5 + 114*x^4 + 116*x^3 + 30*x^2 + 39*x + 66) * (x^21 + 99*x^20 + 104*x^19 + 123*x^18 + 57*x^17 + 59*x^15 + 6*x^14 + 91*x^13 + 18*x^12 + 87*x^11 + 6*x^10 + 101*x^9 + 49*x^8 + 67*x^7 + 12*x^6 + 33*x^5 + 38*x^4 + 31*x^3 + 9*x^2 + 46*x + 27) * (x^21 + 100*x^20 + 3*x^19 + 89*x^18 + 66*x^17 + 68*x^16 + 29*x^15 + 44*x^14 + 57*x^13 + 67*x^12 + 28*x^11 + 19*x^10 + 42*x^9 + 85*x^8 + 99*x^7 + 78*x^6 + 25*x^5 + 5*x^4 + 10*x^3 + 72*x^2 + 77*x + 102) * (x^21 + 100*x^20 + 8*x^19 + 74*x^18 + 75*x^17 + 114*x^16 + 75*x^15 + 91*x^14 + 3*x^13 + 105*x^12 + 64*x^11 + 83*x^10 + 112*x^9 + 106*x^8 + 57*x^7 + 55*x^6 + 110*x^5 + 49*x^4 + 40*x^3 + 69*x^2 + 85*x + 115) * (x^21 + 100*x^20 + 47*x^19 + 111*x^18 + 20*x^17 + 71*x^16 + 90*x^15 + 88*x^14 + 85*x^13 + 18*x^12 + 40*x^11 + 70*x^10 + 17*x^9 + 3*x^8 + 18*x^7 + 122*x^6 + 117*x^5 + 65*x^4 + 51*x^3 + 119*x^2 + 38*x + 99) * (x^21 + 101*x^20 + 11*x^19 + 74*x^18 + 36*x^17 + 23*x^16 + 106*x^15 + 61*x^14 + 71*x^13 + 79*x^12 + 63*x^11 + 58*x^10 + 65*x^9 + 115*x^8 + 99*x^7 + 88*x^6 + 73*x^5 + 113*x^4 + 29*x^3 + 109*x^2 + 107*x + 99) * (x^21 + 101*x^20 + 18*x^19 + 10*x^18 + 10*x^17 + 20*x^16 + 12*x^15 + 30*x^14 + 91*x^13 + 99*x^12 + 31*x^11 + 29*x^10 + 56*x^9 + 20*x^8 + 84*x^7 + 22*x^6 + 5*x^5 + 120*x^4 + 14*x^3 + 68*x^2 + 26*x + 74) * (x^21 + 101*x^20 + 45*x^19 + 111*x^18 + 6*x^17 + 75*x^16 + 18*x^15 + 26*x^14 + 50*x^13 + 126*x^12 + 9*x^11 + 71*x^10 + 65*x^9 + 102*x^8 + 93*x^7 + 6*x^6 + 72*x^5 + 51*x^4 + 18*x^3 + 88*x + 56) * (x^21 + 102*x^20 + 43*x^19 + 80*x^18 + 121*x^17 + 78*x^16 + 22*x^15 + 72*x^14 + 86*x^13 + 33*x^12 + 67*x^11 + 16*x^10 + 70*x^9 + 12*x^8 + 102*x^7 + 68*x^6 + 122*x^5 + 24*x^4 + 96*x^3 + 104*x^2 + 79*x + 105) * (x^21 + 102*x^20 + 64*x^19 + 37*x^18 + 23*x^17 + 3*x^16 + 96*x^15 + 13*x^14 + 70*x^12 + 71*x^11 + 47*x^10 + 89*x^9 + 108*x^8 + 12*x^7 + 51*x^6 + 41*x^5 + 86*x^4 + 59*x^3 + 113*x^2 + 81*x + 106) * (x^21 + 102*x^20 + 103*x^19 + 21*x^18 + 44*x^17 + 43*x^16 + 122*x^15 + 52*x^14 + 65*x^13 + 55*x^12 + 61*x^11 + 95*x^10 + 5*x^9 + 102*x^8 + 104*x^7 + 89*x^6 + 97*x^5 + 46*x^4 + 41*x^3 + 33*x^2 + 64*x + 41) * (x^21 + 103*x^20 + 52*x^19 + 100*x^18 + 88*x^17 + 74*x^16 + 28*x^15 + 34*x^14 + 80*x^13 + 89*x^12 + 46*x^11 + 54*x^10 + 98*x^9 + 81*x^8 + 101*x^7 + 35*x^6 + 44*x^5 + 38*x^4 + 86*x^3 + 76*x^2 + 23*x + 47) * (x^21 + 104*x^20 + 72*x^19 + 101*x^18 + 28*x^17 + 88*x^16 + 33*x^15 + 86*x^14 + 10*x^13 + 64*x^12 + 26*x^11 + 124*x^10 + 92*x^9 + 30*x^8 + 104*x^7 + 4*x^6 + 45*x^5 + 23*x^4 + 29*x^3 + 16*x^2 + 53*x + 72) * (x^21 + 105*x^20 + 43*x^19 + 57*x^18 + 67*x^17 + 121*x^16 + 105*x^15 + 65*x^14 + 67*x^13 + 116*x^12 + 30*x^11 + 123*x^10 + 78*x^9 + 39*x^8 + 37*x^7 + 35*x^6 + 97*x^5 + 77*x^4 + 82*x^3 + 20*x^2 + 93*x + 72) * (x^21 + 105*x^20 + 96*x^19 + 105*x^18 + 46*x^17 + 116*x^16 + 2*x^15 + 8*x^14 + 29*x^13 + x^12 + 23*x^11 + 120*x^10 + 34*x^9 + 116*x^8 + 117*x^7 + 116*x^6 + 51*x^5 + 94*x^4 + 70*x^3 + 117*x^2 + 94*x + 6) * (x^21 + 105*x^20 + 105*x^19 + 65*x^18 + 110*x^17 + 110*x^16 + 94*x^15 + 37*x^14 + 20*x^13 + 34*x^12 + 76*x^11 + 100*x^10 + 113*x^9 + 58*x^8 + 101*x^7 + 34*x^6 + 38*x^5 + 79*x^4 + 119*x^3 + 39*x^2 + 9*x + 49) * (x^21 + 106*x^20 + 39*x^19 + 90*x^18 + 56*x^17 + 77*x^16 + 54*x^15 + 15*x^14 + 93*x^13 + 85*x^12 + 80*x^11 + 126*x^10 + 116*x^9 + 45*x^8 + 116*x^7 + 100*x^6 + 95*x^5 + 111*x^4 + 64*x^3 + 11*x^2 + 125*x + 113) * (x^21 + 106*x^20 + 40*x^19 + 94*x^18 + 104*x^17 + 52*x^16 + 30*x^15 + 23*x^14 + 55*x^13 + 91*x^12 + 119*x^11 + 79*x^10 + 59*x^9 + 114*x^8 + 7*x^7 + 36*x^6 + 20*x^5 + 58*x^4 + 3*x^3 + 81*x^2 + 61*x + 115) * (x^21 + 106*x^20 + 59*x^19 + 111*x^18 + 120*x^17 + 22*x^16 + 111*x^15 + 87*x^14 + 17*x^13 + 124*x^12 + 48*x^11 + 7*x^10 + 90*x^8 + 14*x^7 + 121*x^6 + 76*x^5 + 7*x^4 + 85*x^3 + 10*x + 14) * (x^21 + 107*x^20 + 22*x^19 + 20*x^18 + 5*x^17 + 10*x^16 + 29*x^15 + 94*x^14 + 43*x^13 + 16*x^12 + 39*x^11 + 103*x^10 + 121*x^9 + 78*x^8 + 17*x^7 + 7*x^6 + 33*x^5 + 24*x^4 + 16*x^3 + 126*x^2 + 50*x + 7) * (x^21 + 107*x^20 + 28*x^19 + 85*x^18 + 22*x^17 + 29*x^16 + 32*x^15 + 74*x^14 + 9*x^13 + 21*x^12 + 90*x^11 + 4*x^10 + 119*x^9 + 99*x^8 + 42*x^7 + 73*x^6 + 2*x^5 + 61*x^4 + 83*x^3 + 9*x^2 + 87*x + 43) * (x^21 + 108*x^20 + 67*x^19 + 114*x^18 + 47*x^17 + 56*x^16 + 53*x^15 + 114*x^14 + 84*x^13 + 42*x^12 + 61*x^11 + 122*x^10 + 92*x^9 + 69*x^8 + 26*x^7 + 63*x^6 + 34*x^5 + 53*x^4 + 26*x^3 + 31*x^2 + 73*x + 21) * (x^21 + 108*x^20 + 76*x^19 + 102*x^18 + 15*x^17 + 80*x^16 + 76*x^15 + 105*x^14 + 17*x^13 + 56*x^12 + 111*x^11 + 107*x^10 + 88*x^9 + 105*x^8 + 79*x^7 + 39*x^6 + 37*x^5 + 22*x^4 + 51*x^3 + 114*x^2 + 95*x + 12) * (x^21 + 109*x^20 + 97*x^19 + 111*x^18 + 24*x^17 + 41*x^16 + 79*x^15 + 63*x^14 + 30*x^13 + 19*x^12 + 51*x^11 + 107*x^10 + 113*x^9 + 65*x^8 + 54*x^7 + 122*x^6 + 46*x^5 + 124*x^4 + 112*x^3 + x^2 + 50*x + 5) * (x^21 + 110*x^20 + 32*x^19 + 25*x^18 + 94*x^17 + 50*x^16 + 115*x^15 + 39*x^14 + 97*x^13 + 32*x^12 + 19*x^11 + 49*x^10 + 63*x^9 + 24*x^8 + 109*x^7 + 72*x^6 + 106*x^4 + 113*x^3 + 85*x^2 + 15*x + 30) * (x^21 + 110*x^20 + 34*x^19 + 86*x^18 + 109*x^17 + 25*x^16 + 5*x^15 + 34*x^14 + 47*x^13 + 43*x^12 + 126*x^11 + 88*x^10 + 45*x^9 + 42*x^8 + 96*x^7 + 86*x^6 + 98*x^5 + 17*x^4 + 78*x^3 + 89*x^2 + 85*x + 46) * (x^21 + 110*x^20 + 81*x^19 + 121*x^18 + 99*x^17 + 86*x^16 + 8*x^15 + 27*x^14 + 35*x^13 + 29*x^12 + 92*x^11 + 37*x^10 + 91*x^9 + 2*x^8 + 111*x^7 + 82*x^6 + 83*x^5 + 103*x^4 + 32*x^3 + 102*x^2 + 71*x + 82) * (x^21 + 111*x^20 + 18*x^19 + 126*x^18 + 40*x^17 + 17*x^16 + 124*x^15 + 49*x^14 + 122*x^13 + 28*x^12 + 99*x^11 + 69*x^10 + 99*x^9 + 59*x^8 + 14*x^7 + 108*x^6 + 98*x^5 + 109*x^4 + 72*x^3 + 111*x^2 + 75*x + 109) * (x^21 + 111*x^20 + 63*x^19 + 68*x^18 + 9*x^17 + 37*x^16 + 87*x^15 + 42*x^14 + 116*x^13 + 86*x^12 + 85*x^11 + 91*x^10 + 108*x^9 + 121*x^8 + 74*x^7 + 113*x^6 + 69*x^5 + 96*x^4 + 100*x^3 + 38*x^2 + 5*x + 46) * (x^21 + 111*x^20 + 66*x^19 + 37*x^18 + 21*x^17 + 70*x^16 + 55*x^15 + 63*x^14 + 9*x^13 + 68*x^12 + 15*x^11 + 63*x^10 + 45*x^9 + 118*x^8 + 55*x^7 + 98*x^6 + 117*x^5 + 43*x^4 + 99*x^3 + 62*x^2 + 21*x + 82) * (x^21 + 112*x^20 + 60*x^19 + x^18 + 120*x^17 + 32*x^16 + 7*x^15 + 28*x^14 + 80*x^13 + 55*x^12 + 117*x^11 + 11*x^10 + 107*x^9 + 55*x^8 + 72*x^7 + 66*x^6 + 22*x^5 + 56*x^4 + 67*x^3 + 35*x^2 + 93*x + 104) * (x^21 + 112*x^20 + 118*x^19 + 120*x^18 + 96*x^17 + 70*x^16 + 40*x^15 + 85*x^14 + 14*x^13 + 9*x^12 + 73*x^11 + 125*x^10 + 7*x^9 + 126*x^8 + 55*x^7 + 20*x^6 + 104*x^5 + 95*x^4 + 98*x^3 + 63*x^2 + 70*x + 25) * (x^21 + 113*x^20 + 17*x^19 + 9*x^18 + 110*x^17 + 44*x^16 + 85*x^15 + 30*x^14 + 98*x^13 + 50*x^12 + 9*x^11 + 77*x^10 + 117*x^9 + 82*x^8 + 81*x^7 + 5*x^6 + 121*x^5 + 9*x^4 + 105*x^3 + 100*x^2 + 10*x + 114) * (x^21 + 113*x^20 + 35*x^19 + 3*x^18 + 123*x^17 + 107*x^16 + 87*x^15 + 73*x^14 + 121*x^13 + 63*x^12 + 120*x^11 + 103*x^10 + 15*x^9 + 35*x^8 + 29*x^7 + 113*x^6 + 31*x^5 + 8*x^4 + 64*x^3 + 97*x^2 + 120*x + 60) * (x^21 + 113*x^20 + 45*x^19 + 50*x^18 + 30*x^17 + 26*x^16 + 115*x^15 + 19*x^14 + 17*x^13 + 106*x^12 + 52*x^11 + 46*x^10 + 105*x^9 + 30*x^8 + 41*x^7 + 17*x^6 + 83*x^5 + 67*x^4 + 60*x^3 + 23*x^2 + 12*x + 11) * (x^21 + 113*x^20 + 118*x^19 + 53*x^18 + 48*x^17 + 64*x^16 + 33*x^15 + 26*x^14 + 55*x^13 + 123*x^12 + 77*x^11 + 126*x^10 + 8*x^9 + 125*x^7 + 106*x^6 + 36*x^5 + 13*x^4 + 117*x^3 + 96*x^2 + 11*x + 14) * (x^21 + 114*x^20 + 59*x^19 + 45*x^18 + 46*x^17 + 64*x^16 + 83*x^14 + 60*x^13 + 67*x^12 + 113*x^11 + 54*x^10 + 41*x^9 + 98*x^8 + 90*x^7 + 21*x^6 + 94*x^5 + 103*x^4 + 34*x^3 + 32*x^2 + 98*x + 73) * (x^21 + 115*x^20 + 27*x^19 + 102*x^18 + 69*x^17 + 38*x^16 + 22*x^15 + 22*x^14 + 87*x^13 + 107*x^12 + 119*x^11 + 44*x^10 + 60*x^9 + 101*x^8 + 25*x^7 + 23*x^6 + x^5 + 76*x^4 + 122*x^3 + 71*x^2 + 74*x + 24) * (x^21 + 115*x^20 + 55*x^19 + 124*x^18 + 112*x^16 + 124*x^15 + 65*x^14 + 107*x^13 + 2*x^12 + 120*x^11 + 60*x^10 + 83*x^9 + 47*x^8 + 52*x^7 + 126*x^6 + 115*x^5 + 86*x^4 + 99*x^3 + 88*x^2 + 105*x + 79) * (x^21 + 117*x^20 + 40*x^19 + 113*x^18 + 2*x^17 + 68*x^16 + 82*x^15 + 81*x^14 + 123*x^13 + 3*x^12 + 15*x^11 + 104*x^10 + 106*x^9 + 89*x^8 + 31*x^7 + 86*x^6 + 103*x^5 + 31*x^4 + 78*x^3 + x^2 + 108*x + 64) * (x^21 + 118*x^20 + 36*x^19 + 88*x^18 + 62*x^17 + 33*x^16 + 41*x^15 + 50*x^14 + 96*x^13 + 35*x^12 + 48*x^11 + 14*x^10 + 113*x^9 + 76*x^8 + 95*x^7 + 67*x^6 + 78*x^5 + 55*x^4 + 44*x^3 + 12*x^2 + 104*x + 65) * (x^21 + 119*x^20 + x^19 + 83*x^18 + 57*x^17 + 93*x^16 + 58*x^15 + 88*x^14 + 51*x^13 + 71*x^12 + 73*x^11 + 112*x^10 + 9*x^9 + 122*x^8 + 104*x^7 + 50*x^6 + 117*x^5 + 59*x^4 + 57*x^3 + 22*x^2 + 62*x + 19) * (x^21 + 119*x^20 + 74*x^19 + 80*x^18 + 26*x^17 + 17*x^16 + 114*x^15 + 66*x^14 + 102*x^13 + 63*x^12 + 39*x^11 + 5*x^10 + 124*x^9 + 77*x^8 + 126*x^7 + 76*x^6 + 35*x^5 + 90*x^4 + 27*x^3 + 109*x^2 + 96*x + 113) * (x^21 + 120*x^20 + 13*x^19 + 92*x^18 + 66*x^17 + 82*x^16 + 18*x^15 + 51*x^14 + 59*x^13 + 15*x^12 + 86*x^11 + 29*x^10 + 86*x^9 + 126*x^8 + 31*x^7 + 19*x^6 + 113*x^5 + 117*x^4 + 34*x^3 + 2*x^2 + 8*x + 124) * (x^21 + 120*x^20 + 60*x^19 + 66*x^18 + 107*x^17 + 112*x^16 + 123*x^15 + 76*x^14 + 75*x^13 + 36*x^12 + 72*x^11 + 121*x^10 + 102*x^9 + 13*x^8 + 8*x^7 + 100*x^6 + 115*x^5 + 9*x^4 + 5*x^3 + 85*x^2 + 76*x + 1) * (x^21 + 120*x^20 + 91*x^19 + 80*x^18 + 67*x^17 + 10*x^16 + 81*x^15 + 109*x^14 + 33*x^13 + 57*x^12 + 73*x^11 + 76*x^10 + 46*x^9 + 40*x^8 + 83*x^7 + 119*x^6 + 80*x^5 + 54*x^4 + 41*x^3 + 95*x^2 + 92*x + 56) * (x^21 + 121*x^20 + 8*x^19 + 94*x^18 + 49*x^17 + 122*x^16 + 26*x^15 + 108*x^14 + 99*x^13 + 44*x^12 + 23*x^11 + 21*x^10 + 16*x^9 + 86*x^8 + 57*x^7 + 57*x^6 + 45*x^5 + 43*x^4 + 25*x^3 + 101*x^2 + 31*x + 52) * (x^21 + 122*x^20 + 44*x^19 + 53*x^18 + 20*x^17 + 40*x^16 + 87*x^15 + 124*x^14 + 87*x^13 + 42*x^12 + 21*x^11 + 67*x^10 + 122*x^9 + 35*x^8 + 2*x^7 + 20*x^6 + 66*x^5 + 104*x^4 + 25*x^3 + 103*x^2 + 29*x + 47) * (x^21 + 123*x^20 + 58*x^19 + 102*x^18 + 13*x^17 + 104*x^16 + 95*x^15 + 70*x^14 + 106*x^13 + 69*x^12 + 50*x^11 + 20*x^10 + 118*x^9 + 68*x^8 + 13*x^7 + 2*x^6 + 13*x^5 + 58*x^4 + 105*x^3 + 41*x^2 + 23*x + 30) * (x^21 + 123*x^20 + 107*x^19 + 126*x^18 + 94*x^17 + 7*x^16 + 116*x^15 + 40*x^14 + 122*x^13 + 16*x^12 + 12*x^11 + 23*x^10 + 39*x^9 + 126*x^8 + 118*x^7 + 4*x^6 + 13*x^5 + 52*x^4 + 12*x^3 + 70*x^2 + 59*x + 114) * (x^21 + 125*x^20 + 38*x^19 + 66*x^18 + 44*x^17 + 98*x^16 + 84*x^15 + 2*x^14 + 46*x^13 + 66*x^12 + 14*x^11 + 8*x^10 + 115*x^9 + 47*x^8 + 92*x^7 + 38*x^6 + 85*x^5 + 103*x^4 + 89*x^3 + 10*x^2 + 115*x + 35) * (x^21 + 126*x^20 + 65*x^19 + 101*x^18 + 112*x^17 + 109*x^16 + 22*x^15 + 50*x^14 + 10*x^13 + 113*x^12 + 14*x^11 + 28*x^10 + 41*x^9 + 79*x^8 + 82*x^7 + 107*x^6 + 66*x^5 + 4*x^4 + 33*x^3 + 52*x^2 + 97*x + 56) * (x^21 + 126*x^20 + 71*x^19 + 110*x^18 + 35*x^17 + 37*x^16 + 51*x^15 + 12*x^14 + 19*x^13 + 98*x^12 + 25*x^11 + 38*x^10 + 36*x^9 + 7*x^8 + 11*x^7 + 98*x^6 + 52*x^5 + x^4 + 42*x^3 + 84*x^2 + 44*x + 62) * (x^21 + 126*x^20 + 80*x^19 + 78*x^18 + 98*x^17 + 58*x^16 + 46*x^15 + 120*x^14 + 15*x^13 + 64*x^12 + 91*x^11 + 59*x^10 + 19*x^9 + 120*x^8 + 19*x^7 + 53*x^6 + 117*x^5 + 70*x^4 + 61*x^3 + 31*x^2 + 31*x + 89) * (x^21 + 126*x^20 + 85*x^19 + 122*x^18 + 68*x^17 + 46*x^16 + 25*x^15 + 19*x^14 + 43*x^13 + 26*x^12 + 63*x^11 + 31*x^10 + 12*x^9 + 41*x^8 + 6*x^7 + 9*x^6 + 48*x^5 + 72*x^4 + 107*x^3 + 46*x^2 + 123*x + 76) * (x^21 + 126*x^20 + 99*x^19 + 121*x^18 + 9*x^17 + 62*x^16 + 70*x^15 + 24*x^14 + 61*x^13 + x^12 + 94*x^11 + 97*x^10 + 60*x^9 + 113*x^8 + 99*x^7 + 91*x^6 + 87*x^5 + 80*x^4 + 54*x^3 + x^2 + 17*x + 27)"
      ]
     },
     "execution_count": 82,
     "metadata": {},
     "output_type": "execute_result"
    }
   ],
   "source": [
    "phi.factor()"
   ]
  },
  {
   "cell_type": "markdown",
   "metadata": {},
   "source": [
    "Inspection by hand shows non-linear factors of degrees 3, 7 and 21. Because we are over finite fields, all these factors split completely over $𝔽_{127^{21}}$."
   ]
  },
  {
   "cell_type": "code",
   "execution_count": 83,
   "metadata": {},
   "outputs": [
    {
     "data": {
      "text/plain": [
       "Elliptic Curve defined by y^2 = x^3 + 101*x + 92 over Finite Field in z21 of size 127^21"
      ]
     },
     "execution_count": 83,
     "metadata": {},
     "output_type": "execute_result"
    }
   ],
   "source": [
    "EE = E.change_ring(GF(127^21))\n",
    "EE"
   ]
  },
  {
   "cell_type": "markdown",
   "metadata": {},
   "source": [
    "We check that 129 = 3·43 divides the order twice... good sign!"
   ]
  },
  {
   "cell_type": "code",
   "execution_count": 84,
   "metadata": {},
   "outputs": [
    {
     "data": {
      "text/plain": [
       "2^2 * 3^5 * 7^4 * 43^2 * 2017 * 3697 * 18691 * 3958039 * 47627959 * 1334605399"
      ]
     },
     "execution_count": 84,
     "metadata": {},
     "output_type": "execute_result"
    }
   ],
   "source": [
    "EE.order().factor()"
   ]
  },
  {
   "cell_type": "code",
   "execution_count": 85,
   "metadata": {},
   "outputs": [
    {
     "data": {
      "text/plain": [
       "3 * 43"
      ]
     },
     "execution_count": 85,
     "metadata": {},
     "output_type": "execute_result"
    }
   ],
   "source": [
    "129.factor()"
   ]
  },
  {
   "cell_type": "markdown",
   "metadata": {},
   "source": [
    "To confirm that $E[129] ⊂ E(𝔽_{127^{21}})$, we compute the group structure and confirm it contains a subgroup isomorphic to $ℤ/129ℤ × ℤ/129ℤ$."
   ]
  },
  {
   "cell_type": "code",
   "execution_count": 86,
   "metadata": {},
   "outputs": [
    {
     "data": {
      "text/plain": [
       "Additive abelian group isomorphic to Z/3989707887872872950951218050907507834298 + Z/37926 embedded in Abelian group of points on Elliptic Curve defined by y^2 = x^3 + 101*x + 92 over Finite Field in z21 of size 127^21"
      ]
     },
     "execution_count": 86,
     "metadata": {},
     "output_type": "execute_result"
    }
   ],
   "source": [
    "EE.abelian_group()"
   ]
  },
  {
   "cell_type": "code",
   "execution_count": 87,
   "metadata": {},
   "outputs": [
    {
     "data": {
      "text/plain": [
       "2 * 3^3 * 7^2 * 43 * 2017 * 3697 * 18691 * 3958039 * 47627959 * 1334605399"
      ]
     },
     "execution_count": 87,
     "metadata": {},
     "output_type": "execute_result"
    }
   ],
   "source": [
    "3989707887872872950951218050907507834298.factor()"
   ]
  },
  {
   "cell_type": "code",
   "execution_count": 88,
   "metadata": {},
   "outputs": [
    {
     "data": {
      "text/plain": [
       "2 * 3^2 * 7^2 * 43"
      ]
     },
     "execution_count": 88,
     "metadata": {},
     "output_type": "execute_result"
    }
   ],
   "source": [
    "37926.factor()"
   ]
  },
  {
   "cell_type": "markdown",
   "metadata": {},
   "source": [
    "As an extra confirmation, we check that the division polynomial splits completely over $𝔽_{127^{21}}$."
   ]
  },
  {
   "cell_type": "code",
   "execution_count": 89,
   "metadata": {},
   "outputs": [
    {
     "name": "stdout",
     "output_type": "stream",
     "text": [
      "CPU times: user 38.2 s, sys: 110 ms, total: 38.3 s\n",
      "Wall time: 38.2 s\n"
     ]
    },
    {
     "data": {
      "text/plain": [
       "8320"
      ]
     },
     "execution_count": 89,
     "metadata": {},
     "output_type": "execute_result"
    }
   ],
   "source": [
    "%time len(EE.division_polynomial(129).roots())"
   ]
  },
  {
   "cell_type": "code",
   "execution_count": 90,
   "metadata": {},
   "outputs": [
    {
     "data": {
      "text/plain": [
       "8320"
      ]
     },
     "execution_count": 90,
     "metadata": {},
     "output_type": "execute_result"
    }
   ],
   "source": [
    "(129^2 - 1) / 2"
   ]
  },
  {
   "cell_type": "markdown",
   "metadata": {},
   "source": [
    "That was slow! To get the same info quicker, we recall that 129 = 3 · 43, and factor the 3rd and 43rd division polynomial instead"
   ]
  },
  {
   "cell_type": "code",
   "execution_count": 91,
   "metadata": {},
   "outputs": [
    {
     "name": "stdout",
     "output_type": "stream",
     "text": [
      "CPU times: user 2.23 ms, sys: 0 ns, total: 2.23 ms\n",
      "Wall time: 2.24 ms\n"
     ]
    },
    {
     "data": {
      "text/plain": [
       "(3) * (x + 25) * (x + 46*z21^20 + 13*z21^19 + 37*z21^18 + 75*z21^17 + 14*z21^16 + 54*z21^15 + 82*z21^14 + 98*z21^13 + 30*z21^12 + 47*z21^11 + 118*z21^10 + 24*z21^9 + 64*z21^8 + 5*z21^7 + 19*z21^6 + 41*z21^5 + 113*z21^4 + 48*z21^3 + 118*z21^2 + 103*z21 + 20) * (x + 123*z21^20 + 52*z21^19 + 62*z21^18 + 33*z21^17 + 99*z21^16 + 6*z21^15 + 4*z21^14 + z21^13 + 78*z21^12 + 21*z21^11 + 101*z21^10 + 33*z21^9 + 15*z21^8 + 79*z21^7 + 120*z21^6 + 79*z21^5 + 93*z21^4 + 124*z21^3 + 14*z21^2 + 126*z21 + 33) * (x + 85*z21^20 + 62*z21^19 + 28*z21^18 + 19*z21^17 + 14*z21^16 + 67*z21^15 + 41*z21^14 + 28*z21^13 + 19*z21^12 + 59*z21^11 + 35*z21^10 + 70*z21^9 + 48*z21^8 + 43*z21^7 + 115*z21^6 + 7*z21^5 + 48*z21^4 + 82*z21^3 + 122*z21^2 + 25*z21 + 49)"
      ]
     },
     "execution_count": 91,
     "metadata": {},
     "output_type": "execute_result"
    }
   ],
   "source": [
    "%time EE.division_polynomial(3).factor()"
   ]
  },
  {
   "cell_type": "code",
   "execution_count": 92,
   "metadata": {},
   "outputs": [
    {
     "name": "stdout",
     "output_type": "stream",
     "text": [
      "CPU times: user 1.25 s, sys: 6.61 ms, total: 1.26 s\n",
      "Wall time: 1.26 s\n"
     ]
    },
    {
     "data": {
      "text/plain": [
       "924"
      ]
     },
     "execution_count": 92,
     "metadata": {},
     "output_type": "execute_result"
    }
   ],
   "source": [
    "%time len(EE.division_polynomial(43).roots())"
   ]
  },
  {
   "cell_type": "code",
   "execution_count": 93,
   "metadata": {},
   "outputs": [
    {
     "data": {
      "text/plain": [
       "924"
      ]
     },
     "execution_count": 93,
     "metadata": {},
     "output_type": "execute_result"
    }
   ],
   "source": [
    "(43^2 - 1 ) / 2"
   ]
  },
  {
   "cell_type": "markdown",
   "metadata": {},
   "source": [
    "### Exercise 2 ★\n",
    "\n",
    "Implement the Diffie–Hellman key exchange on the curve of exercise 1. That is, write two functions that implement the first and the second phase of the key exchange, and check that the shared key matches"
   ]
  },
  {
   "cell_type": "code",
   "execution_count": 94,
   "metadata": {},
   "outputs": [
    {
     "data": {
      "text/plain": [
       "Elliptic Curve defined by y^2 = x^3 + 101*x + 92 over Finite Field of size 127"
      ]
     },
     "execution_count": 94,
     "metadata": {},
     "output_type": "execute_result"
    }
   ],
   "source": [
    "E"
   ]
  },
  {
   "cell_type": "code",
   "execution_count": 95,
   "metadata": {},
   "outputs": [
    {
     "data": {
      "text/plain": [
       "129"
      ]
     },
     "execution_count": 95,
     "metadata": {},
     "output_type": "execute_result"
    }
   ],
   "source": [
    "E.order()"
   ]
  },
  {
   "cell_type": "code",
   "execution_count": 96,
   "metadata": {},
   "outputs": [],
   "source": [
    "P = E.gens()[0]"
   ]
  },
  {
   "cell_type": "code",
   "execution_count": 97,
   "metadata": {},
   "outputs": [],
   "source": [
    "def keyex1(g, n):\n",
    "    '''\n",
    "    Parameters: g is the group generator, n its order.\n",
    "    '''\n",
    "    a = randrange(0, n)\n",
    "    A = a * g\n",
    "    return (a, A)"
   ]
  },
  {
   "cell_type": "code",
   "execution_count": 98,
   "metadata": {},
   "outputs": [],
   "source": [
    "def keyex2(ek, sk):\n",
    "    '''\n",
    "    Parameters: ek is the received ephemeral key, sk is our secret key.\n",
    "    '''\n",
    "    return sk * ek"
   ]
  },
  {
   "cell_type": "markdown",
   "metadata": {},
   "source": [
    "We check that Alice and Bob obtain the same shared key"
   ]
  },
  {
   "cell_type": "code",
   "execution_count": 99,
   "metadata": {},
   "outputs": [
    {
     "data": {
      "text/plain": [
       "(55, (19 : 19 : 1))"
      ]
     },
     "execution_count": 99,
     "metadata": {},
     "output_type": "execute_result"
    }
   ],
   "source": [
    "# Alice\n",
    "a, A = keyex1(P, E.order())\n",
    "a, A"
   ]
  },
  {
   "cell_type": "code",
   "execution_count": 100,
   "metadata": {},
   "outputs": [
    {
     "data": {
      "text/plain": [
       "(59, (21 : 67 : 1))"
      ]
     },
     "execution_count": 100,
     "metadata": {},
     "output_type": "execute_result"
    }
   ],
   "source": [
    "# Bob\n",
    "b, B = keyex1(P, E.order())\n",
    "b, B"
   ]
  },
  {
   "cell_type": "code",
   "execution_count": 101,
   "metadata": {},
   "outputs": [
    {
     "data": {
      "text/plain": [
       "(125 : 124 : 1)"
      ]
     },
     "execution_count": 101,
     "metadata": {},
     "output_type": "execute_result"
    }
   ],
   "source": [
    "# Alice\n",
    "keyex2(B, a)"
   ]
  },
  {
   "cell_type": "code",
   "execution_count": 102,
   "metadata": {},
   "outputs": [
    {
     "data": {
      "text/plain": [
       "(125 : 124 : 1)"
      ]
     },
     "execution_count": 102,
     "metadata": {},
     "output_type": "execute_result"
    }
   ],
   "source": [
    "# Bob\n",
    "keyex2(A, b)"
   ]
  },
  {
   "cell_type": "markdown",
   "metadata": {},
   "source": [
    "### Exercise 3 ★\n",
    "\n",
    "Let $E$ be the elliptic curve over $\\mathbb{F}_5$ given by the Weierstrass equation $E: y^2 + y = x^3 - x$.\n",
    "\n",
    "Compute $\\#E(\\mathbb{F_{5^n}})$ for $n=1,\\ldots,20$.\n"
   ]
  },
  {
   "cell_type": "code",
   "execution_count": 103,
   "metadata": {},
   "outputs": [
    {
     "data": {
      "text/plain": [
       "Elliptic Curve defined by y^2 + y = x^3 + 4*x over Finite Field of size 5"
      ]
     },
     "execution_count": 103,
     "metadata": {},
     "output_type": "execute_result"
    }
   ],
   "source": [
    "E = EllipticCurve(GF(5), [0,0,1,-1,0])\n",
    "E"
   ]
  },
  {
   "cell_type": "code",
   "execution_count": 104,
   "metadata": {},
   "outputs": [
    {
     "name": "stdout",
     "output_type": "stream",
     "text": [
      "8\n",
      "32\n",
      "104\n",
      "640\n",
      "3208\n",
      "15392\n",
      "78184\n",
      "391680\n",
      "1950728\n",
      "9765152\n",
      "48841064\n",
      "244117120\n",
      "1220685448\n",
      "6103668512\n",
      "30517360744\n",
      "152587560960\n",
      "762941199368\n",
      "3814695421472\n",
      "19073481285224\n",
      "95367450947200\n"
     ]
    }
   ],
   "source": [
    "for i in range(1, 21):\n",
    "    print(E.change_ring(GF(5^i)).order())"
   ]
  },
  {
   "cell_type": "markdown",
   "metadata": {},
   "source": [
    "The `.order()` function has an optional parameter `extension_degree` to do the same in one go"
   ]
  },
  {
   "cell_type": "code",
   "execution_count": 105,
   "metadata": {},
   "outputs": [
    {
     "name": "stdout",
     "output_type": "stream",
     "text": [
      "8\n",
      "32\n",
      "104\n",
      "640\n",
      "3208\n",
      "15392\n",
      "78184\n",
      "391680\n",
      "1950728\n",
      "9765152\n",
      "48841064\n",
      "244117120\n",
      "1220685448\n",
      "6103668512\n",
      "30517360744\n",
      "152587560960\n",
      "762941199368\n",
      "3814695421472\n",
      "19073481285224\n",
      "95367450947200\n"
     ]
    }
   ],
   "source": [
    "for i in range(1,21):\n",
    "    print(E.order(extension_degree=i))"
   ]
  },
  {
   "cell_type": "markdown",
   "metadata": {},
   "source": [
    "#### Exercise 3.1 ★★\n",
    "\n",
    "Denote by $\\pi:E\\to E$ the $5$\\-Frobenius endomorphism of the curve in the previous exercise. Find a monic quadratic polynomial of which $\\pi$ is a zero in $\\mathrm{End}(E)$. \n"
   ]
  },
  {
   "cell_type": "markdown",
   "metadata": {},
   "source": [
    "Thanks to Hasse's theorem, we know that Frobenius has characteristic polynomial $π^2 - tπ + p$, with $p + 1 - t = \\# E(𝔽_p)$"
   ]
  },
  {
   "cell_type": "code",
   "execution_count": 106,
   "metadata": {},
   "outputs": [
    {
     "data": {
      "text/plain": [
       "π^2 + 2*π + 5"
      ]
     },
     "execution_count": 106,
     "metadata": {},
     "output_type": "execute_result"
    }
   ],
   "source": [
    "q = 5\n",
    "t = q + 1 - E.order()\n",
    "\n",
    "A.<π> = ZZ[]\n",
    "π^2 - t*π + q"
   ]
  },
  {
   "cell_type": "markdown",
   "metadata": {},
   "source": [
    "Sage has a function to directly compute this polynomial"
   ]
  },
  {
   "cell_type": "code",
   "execution_count": 107,
   "metadata": {},
   "outputs": [
    {
     "data": {
      "text/plain": [
       "x^2 + 2*x + 5"
      ]
     },
     "execution_count": 107,
     "metadata": {},
     "output_type": "execute_result"
    }
   ],
   "source": [
    "p = E.frobenius_polynomial()\n",
    "p"
   ]
  },
  {
   "cell_type": "markdown",
   "metadata": {},
   "source": [
    "By finding a root of this polynomial over $\\mathbb{C}$, write down a formula for $\\pi$ as an algebraic number. That is, give an embedding $\\mathbb{Z}[\\pi]\\to\\mathbb{C}$. Show that the conjugate of $\\pi$ as a complex number corresponds to the dual isogeny under this embedding.\n",
    "\n"
   ]
  },
  {
   "cell_type": "markdown",
   "metadata": {},
   "source": [
    "We convert the polynomial to one in $ℂ[x]$ and we factor"
   ]
  },
  {
   "cell_type": "code",
   "execution_count": 108,
   "metadata": {},
   "outputs": [
    {
     "data": {
      "text/plain": [
       "(x + 1.00000000000000 - 2.00000000000000*I) * (x + 1.00000000000000 + 2.00000000000000*I)"
      ]
     },
     "execution_count": 108,
     "metadata": {},
     "output_type": "execute_result"
    }
   ],
   "source": [
    "p.change_ring(CC).factor()"
   ]
  },
  {
   "cell_type": "markdown",
   "metadata": {},
   "source": [
    "For better readability, we can use Sage's `QQbar`, the algebraic closure of $ℚ$."
   ]
  },
  {
   "cell_type": "code",
   "execution_count": 109,
   "metadata": {},
   "outputs": [
    {
     "data": {
      "text/plain": [
       "(x + 1 - 2*I) * (x + 1 + 2*I)"
      ]
     },
     "execution_count": 109,
     "metadata": {},
     "output_type": "execute_result"
    }
   ],
   "source": [
    "p.change_ring(QQbar).factor()"
   ]
  },
  {
   "cell_type": "markdown",
   "metadata": {},
   "source": [
    "We arbitrarily choose to map $π$ to the root $-1 + 2i$. By duality, it is easy to see that the dual $\\hat{π}$ is also a root of the same polynomial. If we can show that $π ≠ \\hat{π}$, we know that it must be mapped to $-1 -2i$.\n",
    "\n",
    "By contraddiction, suppose that $π = \\hat{π}$, then $[5] = π\\hat{π} = π^2$. We check that this is not the case by taking a random point and checking that $[5]P ≠ π^2(P).$"
   ]
  },
  {
   "cell_type": "code",
   "execution_count": 110,
   "metadata": {},
   "outputs": [
    {
     "data": {
      "text/plain": [
       "(4 : 4 : 1)"
      ]
     },
     "execution_count": 110,
     "metadata": {},
     "output_type": "execute_result"
    }
   ],
   "source": [
    "S = E.random_element()\n",
    "S"
   ]
  },
  {
   "cell_type": "code",
   "execution_count": 111,
   "metadata": {},
   "outputs": [
    {
     "data": {
      "text/plain": [
       "(0 : 4 : 1)"
      ]
     },
     "execution_count": 111,
     "metadata": {},
     "output_type": "execute_result"
    }
   ],
   "source": [
    "5*S"
   ]
  },
  {
   "cell_type": "markdown",
   "metadata": {},
   "source": [
    "Write down a formula for $\\#E(\\mathbb{F_{5^n}})$ in terms of this algebraic number. Check that this agrees with the answer from the first point."
   ]
  },
  {
   "cell_type": "markdown",
   "metadata": {},
   "source": [
    "By the definition of the characteristic polynomial, we know that $t = π + \\hat{π}$. Let $α = -1 + 2i$ be the root computed above, by the identification of $π$ with $α$ we know that $t = α + \\bar{α}$. We double check this property."
   ]
  },
  {
   "cell_type": "code",
   "execution_count": 112,
   "metadata": {},
   "outputs": [
    {
     "data": {
      "text/plain": [
       "(-1 - 2*I, -1 + 2*I)"
      ]
     },
     "execution_count": 112,
     "metadata": {},
     "output_type": "execute_result"
    }
   ],
   "source": [
    "α, αbar = p.change_ring(QQbar).roots(multiplicities=False)\n",
    "α, αbar"
   ]
  },
  {
   "cell_type": "code",
   "execution_count": 113,
   "metadata": {},
   "outputs": [
    {
     "data": {
      "text/plain": [
       "-2"
      ]
     },
     "execution_count": 113,
     "metadata": {},
     "output_type": "execute_result"
    }
   ],
   "source": [
    "α + αbar"
   ]
  },
  {
   "cell_type": "code",
   "execution_count": 114,
   "metadata": {},
   "outputs": [
    {
     "data": {
      "text/plain": [
       "-2"
      ]
     },
     "execution_count": 114,
     "metadata": {},
     "output_type": "execute_result"
    }
   ],
   "source": [
    "E.trace_of_frobenius()"
   ]
  },
  {
   "cell_type": "markdown",
   "metadata": {},
   "source": [
    "Let $π_n$ be the Frobenius of $E/𝔽_{5^n}$, write $t_n$ for its trace, so\n",
    "\n",
    "$$π_n^2 - t_nπ_n + p^n = 0$$\n",
    "\n",
    "But $π_n = π^n$ and $\\hat{π}_n = \\hat{π}^n$, thus $t_n = π^n + \\hat{π}^n = α^n + \\bar{α}^n$. We check this equality for all $1 ≤ n ≤ 20$."
   ]
  },
  {
   "cell_type": "code",
   "execution_count": 115,
   "metadata": {},
   "outputs": [
    {
     "name": "stdout",
     "output_type": "stream",
     "text": [
      "8 True\n",
      "32 True\n",
      "104 True\n",
      "640 True\n",
      "3208 True\n",
      "15392 True\n",
      "78184 True\n",
      "391680 True\n",
      "1950728 True\n",
      "9765152 True\n",
      "48841064 True\n",
      "244117120 True\n",
      "1220685448 True\n",
      "6103668512 True\n",
      "30517360744 True\n",
      "152587560960 True\n",
      "762941199368 True\n",
      "3814695421472 True\n",
      "19073481285224 True\n",
      "95367450947200 True\n"
     ]
    }
   ],
   "source": [
    "for i in range(1, 21):\n",
    "    t = α^i + αbar^i\n",
    "    print(5^i + 1 - t, E.change_ring(GF(5^i)).order() == 5^i + 1 - t)"
   ]
  },
  {
   "cell_type": "markdown",
   "metadata": {},
   "source": [
    "Let $π_n$ be the Frobenius of $E/𝔽_{5^n}$, write $t_n$ for its trace, so\n",
    "\n",
    "$$π_n^2 - t_nπ_n + p^n = 0$$\n",
    "\n",
    "with $t_n = π_n + \\hat{π_n}$. By the identification with the complex roots of \n",
    "\n",
    "But $π_n = π^n$. "
   ]
  },
  {
   "cell_type": "markdown",
   "metadata": {},
   "source": [
    "### Exercise 4 ★★\n",
    "\n",
    "For $p=23$, is there for every $N$ in the Hasse\\-Weil interval $[p+1-2\\sqrt{p}, p+1+2\\sqrt{p}]$ an elliptic curve $E$ over $\\mathbb{F}_p$ such that $\\#E(\\mathbb{F}_p)=N$?\n"
   ]
  },
  {
   "cell_type": "code",
   "execution_count": 116,
   "metadata": {},
   "outputs": [
    {
     "name": "stdout",
     "output_type": "stream",
     "text": [
      "[-9, -8, -7, -6, -5, -4, -3, -2, -1, 0, 1, 2, 3, 4, 5, 6, 7, 8, 9]\n"
     ]
    }
   ],
   "source": [
    "k = GF(23)\n",
    "traces = set()\n",
    "for j in k:\n",
    "    t = EllipticCurve(k, j=j).trace_of_frobenius()\n",
    "    traces.add(t)\n",
    "    traces.add(-t)   # do not forget to add the quadratic twist\n",
    "print(sorted(traces))"
   ]
  },
  {
   "cell_type": "code",
   "execution_count": 117,
   "metadata": {},
   "outputs": [
    {
     "data": {
      "text/plain": [
       "9.59166304662544"
      ]
     },
     "execution_count": 117,
     "metadata": {},
     "output_type": "execute_result"
    }
   ],
   "source": [
    "2*sqrt(23.)"
   ]
  }
 ],
 "metadata": {
  "kernelspec": {
   "display_name": "SageMath 10.1",
   "language": "sage",
   "name": "sagemath"
  },
  "language_info": {
   "codemirror_mode": {
    "name": "ipython",
    "version": 3
   },
   "file_extension": ".py",
   "mimetype": "text/x-python",
   "name": "python",
   "nbconvert_exporter": "python",
   "pygments_lexer": "ipython3",
   "version": "3.11.5"
  }
 },
 "nbformat": 4,
 "nbformat_minor": 4
}
