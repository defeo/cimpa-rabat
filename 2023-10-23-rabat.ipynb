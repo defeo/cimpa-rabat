{
 "cells": [
  {
   "cell_type": "markdown",
   "metadata": {},
   "source": [
    "# Using elliptic curves and isogenies in SageMath\n",
    "\n",
    "This is a short tutorial to get started with elliptic curves in SageMath. For a complete reference, see the official documentation:\n",
    "\n",
    "- [The \"getting started\" tutorial](http://doc.sagemath.org/html/en/tutorial/index.html);\n",
    "- [Other SageMath tutorials](http://doc.sagemath.org/html/en/thematic_tutorials/index.html);\n",
    "- [Finite fields (reference)](http://doc.sagemath.org/html/en/reference/finite_rings/index.html);\n",
    "- [Number fields](http://doc.sagemath.org/html/en/constructions/number_fields.html), [reference](http://doc.sagemath.org/html/en/reference/number_fields/index.html);\n",
    "- [Quadratic forms (reference)](http://doc.sagemath.org/html/en/reference/quadratic_forms/index.html);\n",
    "- [Elliptic curves](http://doc.sagemath.org/html/en/constructions/elliptic_curves.html), [reference](http://doc.sagemath.org/html/en/reference/curves/index.html).\n",
    "\n",
    "See also the book [Computational Mathematics with SageMath](http://dl.lateralis.org/public/sagebook/sagebook-ba6596d.pdf).\n",
    "\n",
    "## Finite fields"
   ]
  },
  {
   "cell_type": "markdown",
   "metadata": {},
   "source": [
    "We create finite fields by passing their cardinality"
   ]
  },
  {
   "cell_type": "code",
   "execution_count": 1,
   "metadata": {},
   "outputs": [],
   "source": [
    "Fp = GF(11)"
   ]
  },
  {
   "cell_type": "code",
   "execution_count": 2,
   "metadata": {},
   "outputs": [
    {
     "data": {
      "text/plain": [
       "Finite Field of size 11"
      ]
     },
     "execution_count": 2,
     "metadata": {},
     "output_type": "execute_result"
    }
   ],
   "source": [
    "Fp"
   ]
  },
  {
   "cell_type": "code",
   "execution_count": 3,
   "metadata": {},
   "outputs": [
    {
     "data": {
      "text/plain": [
       "Finite Field in z2 of size 11^2"
      ]
     },
     "execution_count": 3,
     "metadata": {},
     "output_type": "execute_result"
    }
   ],
   "source": [
    "Fq = GF(11^2)\n",
    "Fq"
   ]
  },
  {
   "cell_type": "markdown",
   "metadata": {},
   "source": [
    "For extension fields, the generator is obtained with the `.gen()` function."
   ]
  },
  {
   "cell_type": "code",
   "execution_count": 4,
   "metadata": {},
   "outputs": [
    {
     "data": {
      "text/plain": [
       "z2"
      ]
     },
     "execution_count": 4,
     "metadata": {},
     "output_type": "execute_result"
    }
   ],
   "source": [
    "z = Fq.gen()\n",
    "z"
   ]
  },
  {
   "cell_type": "code",
   "execution_count": 5,
   "metadata": {},
   "outputs": [
    {
     "data": {
      "text/plain": [
       "1"
      ]
     },
     "execution_count": 5,
     "metadata": {},
     "output_type": "execute_result"
    }
   ],
   "source": [
    "z^120"
   ]
  },
  {
   "cell_type": "code",
   "execution_count": 6,
   "metadata": {},
   "outputs": [
    {
     "data": {
      "text/plain": [
       "120"
      ]
     },
     "execution_count": 6,
     "metadata": {},
     "output_type": "execute_result"
    }
   ],
   "source": [
    "z.multiplicative_order()"
   ]
  },
  {
   "cell_type": "markdown",
   "metadata": {},
   "source": [
    "Same thing in one go"
   ]
  },
  {
   "cell_type": "code",
   "execution_count": 7,
   "metadata": {},
   "outputs": [
    {
     "data": {
      "text/plain": [
       "Finite Field in t of size 340282366920938463463374607431768211507^2"
      ]
     },
     "execution_count": 7,
     "metadata": {},
     "output_type": "execute_result"
    }
   ],
   "source": [
    "K.<t> = GF(next_prime(2^128)^2)\n",
    "K"
   ]
  },
  {
   "cell_type": "code",
   "execution_count": 8,
   "metadata": {},
   "outputs": [
    {
     "data": {
      "text/plain": [
       "Finite Field in t of size 340282366920938463463374607431768211507^2"
      ]
     },
     "execution_count": 8,
     "metadata": {},
     "output_type": "execute_result"
    }
   ],
   "source": [
    "parent(t)"
   ]
  },
  {
   "cell_type": "code",
   "execution_count": 9,
   "metadata": {},
   "outputs": [
    {
     "data": {
      "text/plain": [
       "x^2 + x + 340282366920938463463374607431768211506"
      ]
     },
     "execution_count": 9,
     "metadata": {},
     "output_type": "execute_result"
    }
   ],
   "source": [
    "t.minimal_polynomial()"
   ]
  },
  {
   "cell_type": "markdown",
   "metadata": {},
   "source": [
    "other rings"
   ]
  },
  {
   "cell_type": "code",
   "execution_count": 10,
   "metadata": {},
   "outputs": [
    {
     "data": {
      "text/plain": [
       "Rational Field"
      ]
     },
     "execution_count": 10,
     "metadata": {},
     "output_type": "execute_result"
    }
   ],
   "source": [
    "QQ"
   ]
  },
  {
   "cell_type": "code",
   "execution_count": 11,
   "metadata": {},
   "outputs": [
    {
     "data": {
      "text/plain": [
       "Integer Ring"
      ]
     },
     "execution_count": 11,
     "metadata": {},
     "output_type": "execute_result"
    }
   ],
   "source": [
    "ZZ"
   ]
  },
  {
   "cell_type": "markdown",
   "metadata": {},
   "source": [
    "## Elliptic curves"
   ]
  },
  {
   "cell_type": "markdown",
   "metadata": {},
   "source": [
    "Curves over $ℚ$"
   ]
  },
  {
   "cell_type": "code",
   "execution_count": 12,
   "metadata": {},
   "outputs": [
    {
     "data": {
      "text/plain": [
       "Elliptic Curve defined by y^2 = x^3 - 10*x + 10 over Rational Field"
      ]
     },
     "execution_count": 12,
     "metadata": {},
     "output_type": "execute_result"
    }
   ],
   "source": [
    "E = EllipticCurve([-10,10])\n",
    "E"
   ]
  },
  {
   "cell_type": "code",
   "execution_count": 13,
   "metadata": {},
   "outputs": [
    {
     "data": {
      "image/png": "[encoded data removed]",
      "text/plain": [
       "Graphics object consisting of 2 graphics primitives"
      ]
     },
     "execution_count": 13,
     "metadata": {},
     "output_type": "execute_result"
    }
   ],
   "source": [
    "E.plot()"
   ]
  },
  {
   "cell_type": "markdown",
   "metadata": {},
   "source": [
    "Cuvers over other fields"
   ]
  },
  {
   "cell_type": "code",
   "execution_count": 14,
   "metadata": {},
   "outputs": [
    {
     "data": {
      "text/plain": [
       "Elliptic Curve defined by y^2 = x^3 + x over Finite Field of size 11"
      ]
     },
     "execution_count": 14,
     "metadata": {},
     "output_type": "execute_result"
    }
   ],
   "source": [
    "F = EllipticCurve(GF(11), [1, 0])\n",
    "F"
   ]
  },
  {
   "cell_type": "code",
   "execution_count": 15,
   "metadata": {},
   "outputs": [
    {
     "data": {
      "text/plain": [
       "12"
      ]
     },
     "execution_count": 15,
     "metadata": {},
     "output_type": "execute_result"
    }
   ],
   "source": [
    "F.order()"
   ]
  },
  {
   "cell_type": "code",
   "execution_count": 16,
   "metadata": {},
   "outputs": [
    {
     "data": {
      "text/plain": [
       "12"
      ]
     },
     "execution_count": 16,
     "metadata": {},
     "output_type": "execute_result"
    }
   ],
   "source": [
    "F.cardinality()"
   ]
  },
  {
   "cell_type": "code",
   "execution_count": 17,
   "metadata": {},
   "outputs": [
    {
     "data": {
      "text/plain": [
       "[(0 : 0 : 1), (0 : 1 : 0), (5 : 3 : 1), (5 : 8 : 1), (7 : 3 : 1), (7 : 8 : 1), (8 : 5 : 1), (8 : 6 : 1), (9 : 1 : 1), (9 : 10 : 1), (10 : 3 : 1), (10 : 8 : 1)]"
      ]
     },
     "execution_count": 17,
     "metadata": {},
     "output_type": "execute_result"
    }
   ],
   "source": [
    "F.points()"
   ]
  },
  {
   "cell_type": "code",
   "execution_count": 18,
   "metadata": {},
   "outputs": [
    {
     "data": {
      "text/plain": [
       "(10 : 8 : 1)"
      ]
     },
     "execution_count": 18,
     "metadata": {},
     "output_type": "execute_result"
    }
   ],
   "source": [
    "P = F.random_point()\n",
    "P"
   ]
  },
  {
   "cell_type": "code",
   "execution_count": 19,
   "metadata": {},
   "outputs": [
    {
     "data": {
      "text/plain": [
       "4"
      ]
     },
     "execution_count": 19,
     "metadata": {},
     "output_type": "execute_result"
    }
   ],
   "source": [
    "P.order()"
   ]
  },
  {
   "cell_type": "markdown",
   "metadata": {},
   "source": [
    "Curves over number fields"
   ]
  },
  {
   "cell_type": "code",
   "execution_count": 20,
   "metadata": {},
   "outputs": [
    {
     "data": {
      "text/plain": [
       "Number Field in I with defining polynomial x^2 + 1 with I = 1*I"
      ]
     },
     "execution_count": 20,
     "metadata": {},
     "output_type": "execute_result"
    }
   ],
   "source": [
    "K = QQ[i]\n",
    "K"
   ]
  },
  {
   "cell_type": "code",
   "execution_count": 21,
   "metadata": {},
   "outputs": [
    {
     "data": {
      "text/plain": [
       "Elliptic Curve defined by y^2 = x^3 + 1 over Number Field in I with defining polynomial x^2 + 1 with I = 1*I"
      ]
     },
     "execution_count": 21,
     "metadata": {},
     "output_type": "execute_result"
    }
   ],
   "source": [
    "E = EllipticCurve(K, j=0)\n",
    "E"
   ]
  },
  {
   "cell_type": "code",
   "execution_count": 22,
   "metadata": {},
   "outputs": [
    {
     "data": {
      "text/plain": [
       "6"
      ]
     },
     "execution_count": 22,
     "metadata": {},
     "output_type": "execute_result"
    }
   ],
   "source": [
    "E.torsion_order()"
   ]
  },
  {
   "cell_type": "code",
   "execution_count": 23,
   "metadata": {},
   "outputs": [
    {
     "data": {
      "text/plain": [
       "[(-1 : 0 : 1),\n",
       " (0 : -1 : 1),\n",
       " (0 : 1 : 0),\n",
       " (0 : 1 : 1),\n",
       " (2 : -3 : 1),\n",
       " (2 : 3 : 1)]"
      ]
     },
     "execution_count": 23,
     "metadata": {},
     "output_type": "execute_result"
    }
   ],
   "source": [
    "E.torsion_points()"
   ]
  },
  {
   "cell_type": "code",
   "execution_count": 24,
   "metadata": {},
   "outputs": [
    {
     "data": {
      "text/plain": [
       "0"
      ]
     },
     "execution_count": 24,
     "metadata": {},
     "output_type": "execute_result"
    }
   ],
   "source": [
    "E.rank()"
   ]
  },
  {
   "cell_type": "code",
   "execution_count": 25,
   "metadata": {},
   "outputs": [
    {
     "data": {
      "text/plain": [
       "Elliptic Curve defined by y^2 + x*y = x^3 + 36*x + 3455 over Rational Field"
      ]
     },
     "execution_count": 25,
     "metadata": {},
     "output_type": "execute_result"
    }
   ],
   "source": [
    "E = EllipticCurve(j=1)\n",
    "E"
   ]
  },
  {
   "cell_type": "code",
   "execution_count": 26,
   "metadata": {},
   "outputs": [
    {
     "data": {
      "text/plain": [
       "Elliptic Curve defined by y^2 = x^3 + 46629*x + 161056566 over Rational Field"
      ]
     },
     "execution_count": 26,
     "metadata": {},
     "output_type": "execute_result"
    }
   ],
   "source": [
    "E.short_weierstrass_model()"
   ]
  },
  {
   "cell_type": "code",
   "execution_count": 27,
   "metadata": {},
   "outputs": [
    {
     "data": {
      "text/plain": [
       "1"
      ]
     },
     "execution_count": 27,
     "metadata": {},
     "output_type": "execute_result"
    }
   ],
   "source": [
    "E.torsion_order()"
   ]
  },
  {
   "cell_type": "code",
   "execution_count": 28,
   "metadata": {},
   "outputs": [
    {
     "data": {
      "text/plain": [
       "2"
      ]
     },
     "execution_count": 28,
     "metadata": {},
     "output_type": "execute_result"
    }
   ],
   "source": [
    "E.rank()"
   ]
  },
  {
   "cell_type": "code",
   "execution_count": 29,
   "metadata": {},
   "outputs": [
    {
     "data": {
      "text/plain": [
       "((13 : 72 : 1), (43 : 270 : 1))"
      ]
     },
     "execution_count": 29,
     "metadata": {},
     "output_type": "execute_result"
    }
   ],
   "source": [
    "P, Q = E.gens()\n",
    "P, Q"
   ]
  },
  {
   "cell_type": "code",
   "execution_count": 30,
   "metadata": {},
   "outputs": [
    {
     "data": {
      "text/plain": [
       "+Infinity"
      ]
     },
     "execution_count": 30,
     "metadata": {},
     "output_type": "execute_result"
    }
   ],
   "source": [
    "P.order()"
   ]
  },
  {
   "cell_type": "code",
   "execution_count": 31,
   "metadata": {},
   "outputs": [
    {
     "data": {
      "text/plain": [
       "(-14 : 23 : 1)"
      ]
     },
     "execution_count": 31,
     "metadata": {},
     "output_type": "execute_result"
    }
   ],
   "source": [
    "P + P"
   ]
  },
  {
   "cell_type": "code",
   "execution_count": 32,
   "metadata": {},
   "outputs": [
    {
     "data": {
      "text/plain": [
       "(2738814396081478074164342358580444642585010217987286322086213/29439691676132293080318764323353351862155591578774792639929 : 4322772205991782791649180930126846791518251982934842146164121658655553155126660057907684920/5051261892530217040902924725666439913266827080618013578371709184537008691430244914816467 : 1)"
      ]
     },
     "execution_count": 32,
     "metadata": {},
     "output_type": "execute_result"
    }
   ],
   "source": [
    "13*P"
   ]
  },
  {
   "cell_type": "markdown",
   "metadata": {},
   "source": [
    "Watch out: computing the rank is not always easy!"
   ]
  },
  {
   "cell_type": "code",
   "execution_count": 33,
   "metadata": {},
   "outputs": [
    {
     "data": {
      "text/plain": [
       "Elliptic Curve defined by y^2 + x*y = x^3 + 36*x + 3455 over Number Field in I with defining polynomial x^2 + 1 with I = 1*I"
      ]
     },
     "execution_count": 33,
     "metadata": {},
     "output_type": "execute_result"
    }
   ],
   "source": [
    "EK = E.change_ring(K)\n",
    "EK"
   ]
  },
  {
   "cell_type": "code",
   "execution_count": 34,
   "metadata": {},
   "outputs": [
    {
     "data": {
      "text/plain": [
       "3"
      ]
     },
     "execution_count": 34,
     "metadata": {},
     "output_type": "execute_result"
    }
   ],
   "source": [
    "EK.rank()"
   ]
  },
  {
   "cell_type": "markdown",
   "metadata": {},
   "source": [
    "## Isomorphisms"
   ]
  },
  {
   "cell_type": "code",
   "execution_count": 35,
   "metadata": {},
   "outputs": [
    {
     "data": {
      "text/plain": [
       "Elliptic Curve defined by y^2 = x^3 + x over Finite Field of size 11"
      ]
     },
     "execution_count": 35,
     "metadata": {},
     "output_type": "execute_result"
    }
   ],
   "source": [
    "F = EllipticCurve(GF(11), [1, 0])\n",
    "F"
   ]
  },
  {
   "cell_type": "code",
   "execution_count": 36,
   "metadata": {},
   "outputs": [
    {
     "data": {
      "text/plain": [
       "[Elliptic-curve endomorphism of Elliptic Curve defined by y^2 = x^3 + x over Finite Field of size 11\n",
       "   Via:  (u,r,s,t) = (1, 0, 0, 0),\n",
       " Elliptic-curve endomorphism of Elliptic Curve defined by y^2 = x^3 + x over Finite Field of size 11\n",
       "   Via:  (u,r,s,t) = (10, 0, 0, 0)]"
      ]
     },
     "execution_count": 36,
     "metadata": {},
     "output_type": "execute_result"
    }
   ],
   "source": [
    "F.automorphisms()"
   ]
  },
  {
   "cell_type": "code",
   "execution_count": 37,
   "metadata": {},
   "outputs": [
    {
     "data": {
      "text/plain": [
       "[Elliptic-curve endomorphism of Elliptic Curve defined by y^2 = x^3 + x over Finite Field in z2 of size 11^2\n",
       "   Via:  (u,r,s,t) = (1, 0, 0, 0),\n",
       " Elliptic-curve endomorphism of Elliptic Curve defined by y^2 = x^3 + x over Finite Field in z2 of size 11^2\n",
       "   Via:  (u,r,s,t) = (10, 0, 0, 0),\n",
       " Elliptic-curve endomorphism of Elliptic Curve defined by y^2 = x^3 + x over Finite Field in z2 of size 11^2\n",
       "   Via:  (u,r,s,t) = (4*z2 + 3, 0, 0, 0),\n",
       " Elliptic-curve endomorphism of Elliptic Curve defined by y^2 = x^3 + x over Finite Field in z2 of size 11^2\n",
       "   Via:  (u,r,s,t) = (7*z2 + 8, 0, 0, 0)]"
      ]
     },
     "execution_count": 37,
     "metadata": {},
     "output_type": "execute_result"
    }
   ],
   "source": [
    "aut = F.change_ring(GF(11^2)).automorphisms()\n",
    "aut"
   ]
  },
  {
   "cell_type": "code",
   "execution_count": 38,
   "metadata": {},
   "outputs": [
    {
     "data": {
      "text/plain": [
       "(Elliptic-curve endomorphism of Elliptic Curve defined by y^2 = x^3 + x over Finite Field in z2 of size 11^2\n",
       "   Via:  (u,r,s,t) = (7*z2 + 8, 0, 0, 0),\n",
       " Elliptic-curve endomorphism of Elliptic Curve defined by y^2 = x^3 + x over Finite Field in z2 of size 11^2\n",
       "   Via:  (u,r,s,t) = (10, 0, 0, 0))"
      ]
     },
     "execution_count": 38,
     "metadata": {},
     "output_type": "execute_result"
    }
   ],
   "source": [
    "aut[3], aut[3]^2"
   ]
  },
  {
   "cell_type": "code",
   "execution_count": 39,
   "metadata": {},
   "outputs": [
    {
     "data": {
      "text/plain": [
       "True"
      ]
     },
     "execution_count": 39,
     "metadata": {},
     "output_type": "execute_result"
    }
   ],
   "source": [
    "G = EllipticCurve(GF(11), [3, 0])\n",
    "F.is_isomorphic(G)"
   ]
  },
  {
   "cell_type": "code",
   "execution_count": 40,
   "metadata": {},
   "outputs": [
    {
     "data": {
      "text/plain": [
       "Elliptic Curve defined by y^2 = x^3 + 3*x over Finite Field of size 11"
      ]
     },
     "execution_count": 40,
     "metadata": {},
     "output_type": "execute_result"
    }
   ],
   "source": [
    "G"
   ]
  },
  {
   "cell_type": "code",
   "execution_count": 41,
   "metadata": {},
   "outputs": [
    {
     "data": {
      "text/plain": [
       "1"
      ]
     },
     "execution_count": 41,
     "metadata": {},
     "output_type": "execute_result"
    }
   ],
   "source": [
    "G.j_invariant()"
   ]
  },
  {
   "cell_type": "code",
   "execution_count": 42,
   "metadata": {},
   "outputs": [
    {
     "data": {
      "text/plain": [
       "Elliptic-curve morphism:\n",
       "  From: Elliptic Curve defined by y^2 = x^3 + x over Finite Field of size 11\n",
       "  To:   Elliptic Curve defined by y^2 = x^3 + 3*x over Finite Field of size 11\n",
       "  Via:  (u,r,s,t) = (8, 0, 0, 0)"
      ]
     },
     "execution_count": 42,
     "metadata": {},
     "output_type": "execute_result"
    }
   ],
   "source": [
    "u = F.isomorphism_to(G)\n",
    "u"
   ]
  },
  {
   "cell_type": "markdown",
   "metadata": {},
   "source": [
    "Group structure"
   ]
  },
  {
   "cell_type": "code",
   "execution_count": 43,
   "metadata": {},
   "outputs": [
    {
     "data": {
      "text/plain": [
       "Additive abelian group isomorphic to Z/12 embedded in Abelian group of points on Elliptic Curve defined by y^2 = x^3 + x over Finite Field of size 11"
      ]
     },
     "execution_count": 43,
     "metadata": {},
     "output_type": "execute_result"
    }
   ],
   "source": [
    "F.abelian_group()"
   ]
  },
  {
   "cell_type": "code",
   "execution_count": 44,
   "metadata": {},
   "outputs": [
    {
     "data": {
      "text/plain": [
       "(7 : 8 : 1)"
      ]
     },
     "execution_count": 44,
     "metadata": {},
     "output_type": "execute_result"
    }
   ],
   "source": [
    "g = F.gens()[0]\n",
    "g"
   ]
  },
  {
   "cell_type": "code",
   "execution_count": 45,
   "metadata": {},
   "outputs": [
    {
     "data": {
      "text/plain": [
       "12"
      ]
     },
     "execution_count": 45,
     "metadata": {},
     "output_type": "execute_result"
    }
   ],
   "source": [
    "g.order()"
   ]
  },
  {
   "cell_type": "markdown",
   "metadata": {},
   "source": [
    "## Scalar multiplication"
   ]
  },
  {
   "cell_type": "code",
   "execution_count": 46,
   "metadata": {},
   "outputs": [
    {
     "data": {
      "text/plain": [
       "(7 : 8 : 1)"
      ]
     },
     "execution_count": 46,
     "metadata": {},
     "output_type": "execute_result"
    }
   ],
   "source": [
    "F = EllipticCurve(GF(11), [1, 0])\n",
    "g = F.gens()[0]\n",
    "g"
   ]
  },
  {
   "cell_type": "code",
   "execution_count": 47,
   "metadata": {},
   "outputs": [
    {
     "data": {
      "text/plain": [
       "(0 : 1 : 0)"
      ]
     },
     "execution_count": 47,
     "metadata": {},
     "output_type": "execute_result"
    }
   ],
   "source": [
    "12*g"
   ]
  },
  {
   "cell_type": "code",
   "execution_count": 48,
   "metadata": {},
   "outputs": [
    {
     "data": {
      "text/plain": [
       "[(0, (0 : 1 : 0)),\n",
       " (1, (7 : 8 : 1)),\n",
       " (2, (9 : 1 : 1)),\n",
       " (3, (10 : 8 : 1)),\n",
       " (4, (5 : 3 : 1)),\n",
       " (5, (8 : 6 : 1)),\n",
       " (6, (0 : 0 : 1)),\n",
       " (7, (8 : 5 : 1)),\n",
       " (8, (5 : 8 : 1)),\n",
       " (9, (10 : 3 : 1)),\n",
       " (10, (9 : 10 : 1)),\n",
       " (11, (7 : 3 : 1))]"
      ]
     },
     "execution_count": 48,
     "metadata": {},
     "output_type": "execute_result"
    }
   ],
   "source": [
    "[(i, i*g) for i in range(12)]"
   ]
  },
  {
   "cell_type": "markdown",
   "metadata": {},
   "source": [
    "Let's print the multiplication maps"
   ]
  },
  {
   "cell_type": "code",
   "execution_count": 49,
   "metadata": {},
   "outputs": [
    {
     "data": {
      "text/plain": [
       "((x^144 - 2*x^138 - 2*x^136 - x^134 + 3*x^132 - 5*x^130 - 5*x^128 - 5*x^126 - 4*x^124 + 5*x^122 + x^120 + 4*x^118 - 2*x^116 - 3*x^114 + 5*x^112 - 2*x^110 + 2*x^108 - x^106 - 4*x^104 + x^102 - 4*x^100 + 5*x^98 + x^94 - 4*x^92 - 3*x^90 - 3*x^88 + 3*x^86 - 3*x^84 - 4*x^82 + 3*x^80 + 2*x^78 + 5*x^76 + 2*x^74 - 2*x^72 + 2*x^70 + 5*x^68 + 2*x^66 + 3*x^64 - 4*x^62 - 3*x^60 + 3*x^58 - 3*x^56 - 3*x^54 - 4*x^52 + x^50 + 5*x^46 - 4*x^44 + x^42 - 4*x^40 - x^38 + 2*x^36 - 2*x^34 + 5*x^32 - 3*x^30 - 2*x^28 + 4*x^26 + x^24 + 5*x^22 - 4*x^20 - 5*x^18 - 5*x^16 - 5*x^14 + 3*x^12 - x^10 - 2*x^8 - 2*x^6 + 1)/(x^143 - 2*x^137 - 2*x^135 - x^133 + 3*x^131 - 5*x^129 - 5*x^127 - 5*x^125 - 4*x^123 + 5*x^121 + x^119 + 4*x^117 - 2*x^115 - 3*x^113 + 5*x^111 - 2*x^109 + 2*x^107 - x^105 - 4*x^103 + x^101 - 4*x^99 + 5*x^97 + x^93 - 4*x^91 - 3*x^89 - 3*x^87 + 3*x^85 - 5*x^83 - 5*x^81 - 5*x^79 - x^77 + 3*x^75 - x^73 - x^71 + 3*x^69 - x^67 - 5*x^65 - 5*x^63 - 5*x^61 + 3*x^59 - 3*x^57 - 3*x^55 - 4*x^53 + x^51 + 5*x^47 - 4*x^45 + x^43 - 4*x^41 - x^39 + 2*x^37 - 2*x^35 + 5*x^33 - 3*x^31 - 2*x^29 + 4*x^27 + x^25 + 5*x^23 - 4*x^21 - 5*x^19 - 5*x^17 - 5*x^15 + 3*x^13 - x^11 - 2*x^9 - 2*x^7 + x),\n",
       " (2*x^216*y + x^214*y - 3*x^212*y + x^210*y - x^208*y + 4*x^206*y - 5*x^204*y - 5*x^202*y - 3*x^200*y - x^198*y + 2*x^196*y - 4*x^194*y - 5*x^192*y + x^190*y - 5*x^186*y + 5*x^184*y + 3*x^182*y + x^180*y - 2*x^178*y + 5*x^176*y + 2*x^172*y - 5*x^168*y - 3*x^166*y + x^164*y + x^162*y - 2*x^160*y + 5*x^158*y + 3*x^154*y - 2*x^152*y + x^150*y + 2*x^148*y - x^146*y - 5*x^144*y - 2*x^142*y - 5*x^140*y - 4*x^138*y - 5*x^136*y - 2*x^132*y + 5*x^130*y + 4*x^128*y - 5*x^124*y + 4*x^122*y - 2*x^120*y + 4*x^118*y - x^116*y + 4*x^112*y - 4*x^110*y + x^108*y - 4*x^106*y + 4*x^104*y - x^100*y + 4*x^98*y - 2*x^96*y + 4*x^94*y - 5*x^92*y + 4*x^88*y + 5*x^86*y - 2*x^84*y - 5*x^80*y - 4*x^78*y - 5*x^76*y - 2*x^74*y - 5*x^72*y - x^70*y + 2*x^68*y + x^66*y - 2*x^64*y + 3*x^62*y + 5*x^58*y - 2*x^56*y + x^54*y + x^52*y - 3*x^50*y - 5*x^48*y + 2*x^44*y + 5*x^40*y - 2*x^38*y + x^36*y + 3*x^34*y + 5*x^32*y - 5*x^30*y + x^26*y - 5*x^24*y - 4*x^22*y + 2*x^20*y - x^18*y - 3*x^16*y - 5*x^14*y - 5*x^12*y + 4*x^10*y - x^8*y + x^6*y - 3*x^4*y + x^2*y + 2*y)/(2*x^216 + x^214 - 3*x^212 + x^210 - x^208 + 4*x^206 - 5*x^204 - 5*x^202 - 3*x^200 - x^198 + 2*x^196 - 4*x^194 - 5*x^192 + x^190 - 5*x^186 + 5*x^184 + 3*x^182 + x^180 - 2*x^178 + 5*x^176 + 2*x^172 - 5*x^168 - 3*x^166 + x^164 + x^162 - 2*x^160 + 5*x^158 + 5*x^156 + x^154 - 2*x^152 - 3*x^150 + 4*x^148 + 3*x^146 - 5*x^144 + 2*x^142 - 2*x^140 - x^138 - 3*x^136 + 2*x^134 + 3*x^132 - 2*x^130 - 3*x^124 - x^122 + 4*x^118 + 4*x^114 + 4*x^112 + x^110 - x^108 - 4*x^106 - 4*x^104 - 4*x^100 + x^96 + 3*x^94 + 2*x^88 - 3*x^86 - 2*x^84 + 3*x^82 + x^80 + 2*x^78 - 2*x^76 + 5*x^74 - 3*x^72 - 4*x^70 + 3*x^68 + 2*x^66 - x^64 - 5*x^62 - 5*x^60 + 2*x^58 - x^56 - x^54 + 3*x^52 + 5*x^50 - 2*x^46 - 5*x^42 + 2*x^40 - x^38 - 3*x^36 - 5*x^34 + 5*x^32 - x^28 + 5*x^26 + 4*x^24 - 2*x^22 + x^20 + 3*x^18 + 5*x^16 + 5*x^14 - 4*x^12 + x^10 - x^8 + 3*x^6 - x^4 - 2*x^2))"
      ]
     },
     "execution_count": 49,
     "metadata": {},
     "output_type": "execute_result"
    }
   ],
   "source": [
    "F.multiplication_by_m(12)"
   ]
  },
  {
   "cell_type": "markdown",
   "metadata": {},
   "source": [
    "Using LaTeX-ified output is much nicer"
   ]
  },
  {
   "cell_type": "code",
   "execution_count": 50,
   "metadata": {},
   "outputs": [],
   "source": [
    "%display latex"
   ]
  },
  {
   "cell_type": "code",
   "execution_count": 51,
   "metadata": {},
   "outputs": [
    {
     "data": {
      "text/html": [
       "<html>\\(\\displaystyle \\frac{x^{144} + 9 x^{138} + 9 x^{136} + 10 x^{134} + 3 x^{132} + 6 x^{130} + 6 x^{128} + 6 x^{126} + 7 x^{124} + 5 x^{122} + x^{120} + 4 x^{118} + 9 x^{116} + 8 x^{114} + 5 x^{112} + 9 x^{110} + 2 x^{108} + 10 x^{106} + 7 x^{104} + x^{102} + 7 x^{100} + 5 x^{98} + x^{94} + 7 x^{92} + 8 x^{90} + 8 x^{88} + 3 x^{86} + 8 x^{84} + 7 x^{82} + 3 x^{80} + 2 x^{78} + 5 x^{76} + 2 x^{74} + 9 x^{72} + 2 x^{70} + 5 x^{68} + 2 x^{66} + 3 x^{64} + 7 x^{62} + 8 x^{60} + 3 x^{58} + 8 x^{56} + 8 x^{54} + 7 x^{52} + x^{50} + 5 x^{46} + 7 x^{44} + x^{42} + 7 x^{40} + 10 x^{38} + 2 x^{36} + 9 x^{34} + 5 x^{32} + 8 x^{30} + 9 x^{28} + 4 x^{26} + x^{24} + 5 x^{22} + 7 x^{20} + 6 x^{18} + 6 x^{16} + 6 x^{14} + 3 x^{12} + 10 x^{10} + 9 x^{8} + 9 x^{6} + 1}{x^{143} + 9 x^{137} + 9 x^{135} + 10 x^{133} + 3 x^{131} + 6 x^{129} + 6 x^{127} + 6 x^{125} + 7 x^{123} + 5 x^{121} + x^{119} + 4 x^{117} + 9 x^{115} + 8 x^{113} + 5 x^{111} + 9 x^{109} + 2 x^{107} + 10 x^{105} + 7 x^{103} + x^{101} + 7 x^{99} + 5 x^{97} + x^{93} + 7 x^{91} + 8 x^{89} + 8 x^{87} + 3 x^{85} + 6 x^{83} + 6 x^{81} + 6 x^{79} + 10 x^{77} + 3 x^{75} + 10 x^{73} + 10 x^{71} + 3 x^{69} + 10 x^{67} + 6 x^{65} + 6 x^{63} + 6 x^{61} + 3 x^{59} + 8 x^{57} + 8 x^{55} + 7 x^{53} + x^{51} + 5 x^{47} + 7 x^{45} + x^{43} + 7 x^{41} + 10 x^{39} + 2 x^{37} + 9 x^{35} + 5 x^{33} + 8 x^{31} + 9 x^{29} + 4 x^{27} + x^{25} + 5 x^{23} + 7 x^{21} + 6 x^{19} + 6 x^{17} + 6 x^{15} + 3 x^{13} + 10 x^{11} + 9 x^{9} + 9 x^{7} + x}\\)</html>"
      ],
      "text/latex": [
       "$\\displaystyle \\frac{x^{144} + 9 x^{138} + 9 x^{136} + 10 x^{134} + 3 x^{132} + 6 x^{130} + 6 x^{128} + 6 x^{126} + 7 x^{124} + 5 x^{122} + x^{120} + 4 x^{118} + 9 x^{116} + 8 x^{114} + 5 x^{112} + 9 x^{110} + 2 x^{108} + 10 x^{106} + 7 x^{104} + x^{102} + 7 x^{100} + 5 x^{98} + x^{94} + 7 x^{92} + 8 x^{90} + 8 x^{88} + 3 x^{86} + 8 x^{84} + 7 x^{82} + 3 x^{80} + 2 x^{78} + 5 x^{76} + 2 x^{74} + 9 x^{72} + 2 x^{70} + 5 x^{68} + 2 x^{66} + 3 x^{64} + 7 x^{62} + 8 x^{60} + 3 x^{58} + 8 x^{56} + 8 x^{54} + 7 x^{52} + x^{50} + 5 x^{46} + 7 x^{44} + x^{42} + 7 x^{40} + 10 x^{38} + 2 x^{36} + 9 x^{34} + 5 x^{32} + 8 x^{30} + 9 x^{28} + 4 x^{26} + x^{24} + 5 x^{22} + 7 x^{20} + 6 x^{18} + 6 x^{16} + 6 x^{14} + 3 x^{12} + 10 x^{10} + 9 x^{8} + 9 x^{6} + 1}{x^{143} + 9 x^{137} + 9 x^{135} + 10 x^{133} + 3 x^{131} + 6 x^{129} + 6 x^{127} + 6 x^{125} + 7 x^{123} + 5 x^{121} + x^{119} + 4 x^{117} + 9 x^{115} + 8 x^{113} + 5 x^{111} + 9 x^{109} + 2 x^{107} + 10 x^{105} + 7 x^{103} + x^{101} + 7 x^{99} + 5 x^{97} + x^{93} + 7 x^{91} + 8 x^{89} + 8 x^{87} + 3 x^{85} + 6 x^{83} + 6 x^{81} + 6 x^{79} + 10 x^{77} + 3 x^{75} + 10 x^{73} + 10 x^{71} + 3 x^{69} + 10 x^{67} + 6 x^{65} + 6 x^{63} + 6 x^{61} + 3 x^{59} + 8 x^{57} + 8 x^{55} + 7 x^{53} + x^{51} + 5 x^{47} + 7 x^{45} + x^{43} + 7 x^{41} + 10 x^{39} + 2 x^{37} + 9 x^{35} + 5 x^{33} + 8 x^{31} + 9 x^{29} + 4 x^{27} + x^{25} + 5 x^{23} + 7 x^{21} + 6 x^{19} + 6 x^{17} + 6 x^{15} + 3 x^{13} + 10 x^{11} + 9 x^{9} + 9 x^{7} + x}$"
      ],
      "text/plain": [
       "(x^144 + 9*x^138 + 9*x^136 + 10*x^134 + 3*x^132 + 6*x^130 + 6*x^128 + 6*x^126 + 7*x^124 + 5*x^122 + x^120 + 4*x^118 + 9*x^116 + 8*x^114 + 5*x^112 + 9*x^110 + 2*x^108 + 10*x^106 + 7*x^104 + x^102 + 7*x^100 + 5*x^98 + x^94 + 7*x^92 + 8*x^90 + 8*x^88 + 3*x^86 + 8*x^84 + 7*x^82 + 3*x^80 + 2*x^78 + 5*x^76 + 2*x^74 + 9*x^72 + 2*x^70 + 5*x^68 + 2*x^66 + 3*x^64 + 7*x^62 + 8*x^60 + 3*x^58 + 8*x^56 + 8*x^54 + 7*x^52 + x^50 + 5*x^46 + 7*x^44 + x^42 + 7*x^40 + 10*x^38 + 2*x^36 + 9*x^34 + 5*x^32 + 8*x^30 + 9*x^28 + 4*x^26 + x^24 + 5*x^22 + 7*x^20 + 6*x^18 + 6*x^16 + 6*x^14 + 3*x^12 + 10*x^10 + 9*x^8 + 9*x^6 + 1)/(x^143 + 9*x^137 + 9*x^135 + 10*x^133 + 3*x^131 + 6*x^129 + 6*x^127 + 6*x^125 + 7*x^123 + 5*x^121 + x^119 + 4*x^117 + 9*x^115 + 8*x^113 + 5*x^111 + 9*x^109 + 2*x^107 + 10*x^105 + 7*x^103 + x^101 + 7*x^99 + 5*x^97 + x^93 + 7*x^91 + 8*x^89 + 8*x^87 + 3*x^85 + 6*x^83 + 6*x^81 + 6*x^79 + 10*x^77 + 3*x^75 + 10*x^73 + 10*x^71 + 3*x^69 + 10*x^67 + 6*x^65 + 6*x^63 + 6*x^61 + 3*x^59 + 8*x^57 + 8*x^55 + 7*x^53 + x^51 + 5*x^47 + 7*x^45 + x^43 + 7*x^41 + 10*x^39 + 2*x^37 + 9*x^35 + 5*x^33 + 8*x^31 + 9*x^29 + 4*x^27 + x^25 + 5*x^23 + 7*x^21 + 6*x^19 + 6*x^17 + 6*x^15 + 3*x^13 + 10*x^11 + 9*x^9 + 9*x^7 + x)"
      ]
     },
     "execution_count": 51,
     "metadata": {},
     "output_type": "execute_result"
    }
   ],
   "source": [
    "F.multiplication_by_m(12, x_only=True)"
   ]
  },
  {
   "cell_type": "code",
   "execution_count": 52,
   "metadata": {},
   "outputs": [
    {
     "data": {
      "text/html": [
       "<html>\\(\\displaystyle \\left(\\frac{x^{9} - x^{7} + 8 x^{5} + 3 x^{3} + 9 x}{9 x^{8} + 3 x^{6} + 8 x^{4} - x^{2} + 1}, \\frac{7 x^{12} y + 5 x^{6} y + 3 x^{4} y + 8 x^{2} y + y}{2 x^{12} + x^{10} + 8 x^{6} + 5 x^{2} + 4}\\right)\\)</html>"
      ],
      "text/latex": [
       "$\\displaystyle \\left(\\frac{x^{9} - x^{7} + 8 x^{5} + 3 x^{3} + 9 x}{9 x^{8} + 3 x^{6} + 8 x^{4} - x^{2} + 1}, \\frac{7 x^{12} y + 5 x^{6} y + 3 x^{4} y + 8 x^{2} y + y}{2 x^{12} + x^{10} + 8 x^{6} + 5 x^{2} + 4}\\right)$"
      ],
      "text/plain": [
       "((x^9 - x^7 - 3*x^5 + 3*x^3 - 2*x)/(-2*x^8 + 3*x^6 - 3*x^4 - x^2 + 1),\n",
       " (-4*x^12*y + 5*x^6*y + 3*x^4*y - 3*x^2*y + y)/(2*x^12 + x^10 - 3*x^6 + 5*x^2 + 4))"
      ]
     },
     "execution_count": 52,
     "metadata": {},
     "output_type": "execute_result"
    }
   ],
   "source": [
    "m3 = F.multiplication_by_m(3)\n",
    "m3"
   ]
  },
  {
   "cell_type": "code",
   "execution_count": 53,
   "metadata": {},
   "outputs": [
    {
     "data": {
      "text/html": [
       "<html>\\(\\displaystyle 9 x^{8} + 3 x^{6} + 8 x^{4} - x^{2} + 1\\)</html>"
      ],
      "text/latex": [
       "$\\displaystyle 9 x^{8} + 3 x^{6} + 8 x^{4} - x^{2} + 1$"
      ],
      "text/plain": [
       "-2*x^8 + 3*x^6 - 3*x^4 - x^2 + 1"
      ]
     },
     "execution_count": 53,
     "metadata": {},
     "output_type": "execute_result"
    }
   ],
   "source": [
    "d3 = m3[0].denominator()\n",
    "d3"
   ]
  },
  {
   "cell_type": "code",
   "execution_count": 54,
   "metadata": {},
   "outputs": [
    {
     "data": {
      "text/html": [
       "<html>\\(\\displaystyle \\newcommand{\\Bold}[1]{\\mathbf{#1}}\\Bold{F}_{11}[x, y]\\)</html>"
      ],
      "text/latex": [
       "$\\displaystyle \\newcommand{\\Bold}[1]{\\mathbf{#1}}\\Bold{F}_{11}[x, y]$"
      ],
      "text/plain": [
       "Multivariate Polynomial Ring in x, y over Finite Field of size 11"
      ]
     },
     "execution_count": 54,
     "metadata": {},
     "output_type": "execute_result"
    }
   ],
   "source": [
    "parent(d3)"
   ]
  },
  {
   "cell_type": "markdown",
   "metadata": {},
   "source": [
    "The multiplication maps are rational fractions in $x$ and $y$, so if we want the denominator as a polynomial in $x$ we need to convert it explicitly"
   ]
  },
  {
   "cell_type": "code",
   "execution_count": 55,
   "metadata": {},
   "outputs": [
    {
     "data": {
      "text/html": [
       "<html>\\(\\displaystyle \\newcommand{\\Bold}[1]{\\mathbf{#1}}\\Bold{F}_{11}[x]\\)</html>"
      ],
      "text/latex": [
       "$\\displaystyle \\newcommand{\\Bold}[1]{\\mathbf{#1}}\\Bold{F}_{11}[x]$"
      ],
      "text/plain": [
       "Univariate Polynomial Ring in x over Finite Field of size 11"
      ]
     },
     "execution_count": 55,
     "metadata": {},
     "output_type": "execute_result"
    }
   ],
   "source": [
    "d3 = d3.univariate_polynomial()\n",
    "parent(d3)"
   ]
  },
  {
   "cell_type": "code",
   "execution_count": 56,
   "metadata": {},
   "outputs": [
    {
     "data": {
      "text/html": [
       "<html>\\(\\displaystyle \\left(9\\right) \\cdot (x + 5)^{2} \\cdot (x + 6)^{2} \\cdot (x^{2} + 5)^{2}\\)</html>"
      ],
      "text/latex": [
       "$\\displaystyle \\left(9\\right) \\cdot (x + 5)^{2} \\cdot (x + 6)^{2} \\cdot (x^{2} + 5)^{2}$"
      ],
      "text/plain": [
       "(9) * (x + 5)^2 * (x + 6)^2 * (x^2 + 5)^2"
      ]
     },
     "execution_count": 56,
     "metadata": {},
     "output_type": "execute_result"
    }
   ],
   "source": [
    "d3.factor()"
   ]
  },
  {
   "cell_type": "markdown",
   "metadata": {},
   "source": [
    "Given an $x$-coordinate, we can get a point with that coordinate, if it exists"
   ]
  },
  {
   "cell_type": "code",
   "execution_count": 57,
   "metadata": {},
   "outputs": [
    {
     "data": {
      "text/html": [
       "<html>\\(\\displaystyle \\left(5 : 3 : 1\\right)\\)</html>"
      ],
      "text/latex": [
       "$\\displaystyle \\left(5 : 3 : 1\\right)$"
      ],
      "text/plain": [
       "(5 : 3 : 1)"
      ]
     },
     "execution_count": 57,
     "metadata": {},
     "output_type": "execute_result"
    }
   ],
   "source": [
    "P = F.lift_x(-6)\n",
    "P"
   ]
  },
  {
   "cell_type": "code",
   "execution_count": 58,
   "metadata": {},
   "outputs": [
    {
     "data": {
      "text/html": [
       "<html>\\(\\displaystyle 3\\)</html>"
      ],
      "text/latex": [
       "$\\displaystyle 3$"
      ],
      "text/plain": [
       "3"
      ]
     },
     "execution_count": 58,
     "metadata": {},
     "output_type": "execute_result"
    }
   ],
   "source": [
    "P.order()"
   ]
  },
  {
   "cell_type": "code",
   "execution_count": 59,
   "metadata": {},
   "outputs": [
    {
     "ename": "ValueError",
     "evalue": "No point with x-coordinate 6 on Elliptic Curve defined by y^2 = x^3 + x over Finite Field of size 11",
     "output_type": "error",
     "traceback": [
      "\u001b[0;31m---------------------------------------------------------------------------\u001b[0m",
      "\u001b[0;31mValueError\u001b[0m                                Traceback (most recent call last)",
      "Cell \u001b[0;32mIn[59], line 1\u001b[0m\n\u001b[0;32m----> 1\u001b[0m Q \u001b[38;5;241m=\u001b[39m \u001b[43mF\u001b[49m\u001b[38;5;241;43m.\u001b[39;49m\u001b[43mlift_x\u001b[49m\u001b[43m(\u001b[49m\u001b[38;5;241;43m-\u001b[39;49m\u001b[43mInteger\u001b[49m\u001b[43m(\u001b[49m\u001b[38;5;241;43m5\u001b[39;49m\u001b[43m)\u001b[49m\u001b[43m)\u001b[49m\n",
      "File \u001b[0;32m/usr/lib/python3.11/site-packages/sage/schemes/elliptic_curves/ell_generic.py:946\u001b[0m, in \u001b[0;36mEllipticCurve_generic.lift_x\u001b[0;34m(self, x, all, extend)\u001b[0m\n\u001b[1;32m    944\u001b[0m         \u001b[38;5;28;01mreturn\u001b[39;00m []\n\u001b[1;32m    945\u001b[0m     \u001b[38;5;28;01melse\u001b[39;00m:\n\u001b[0;32m--> 946\u001b[0m         \u001b[38;5;28;01mraise\u001b[39;00m \u001b[38;5;167;01mValueError\u001b[39;00m(\u001b[38;5;124m\"\u001b[39m\u001b[38;5;124mNo point with x-coordinate \u001b[39m\u001b[38;5;132;01m{}\u001b[39;00m\u001b[38;5;124m on \u001b[39m\u001b[38;5;132;01m{}\u001b[39;00m\u001b[38;5;124m\"\u001b[39m\u001b[38;5;241m.\u001b[39mformat(x, \u001b[38;5;28mself\u001b[39m))\n\u001b[1;32m    948\u001b[0m \u001b[38;5;66;03m# Now make the extension needed to contain the y-coordinates:\u001b[39;00m\n\u001b[1;32m    950\u001b[0m \u001b[38;5;28;01mif\u001b[39;00m K\u001b[38;5;241m.\u001b[39mcharacteristic() \u001b[38;5;241m!=\u001b[39m \u001b[38;5;241m2\u001b[39m:  \u001b[38;5;66;03m# else we already defined F\u001b[39;00m\n",
      "\u001b[0;31mValueError\u001b[0m: No point with x-coordinate 6 on Elliptic Curve defined by y^2 = x^3 + x over Finite Field of size 11"
     ]
    }
   ],
   "source": [
    "Q = F.lift_x(-5)"
   ]
  },
  {
   "cell_type": "code",
   "execution_count": 60,
   "metadata": {},
   "outputs": [
    {
     "data": {
      "text/html": [
       "<html>\\(\\displaystyle y^2 = x^{3} + x \\)</html>"
      ],
      "text/latex": [
       "$\\displaystyle y^2 = x^{3} + x $"
      ],
      "text/plain": [
       "Elliptic Curve defined by y^2 = x^3 + x over Finite Field of size 11"
      ]
     },
     "execution_count": 60,
     "metadata": {},
     "output_type": "execute_result"
    }
   ],
   "source": [
    "F"
   ]
  },
  {
   "cell_type": "code",
   "execution_count": 61,
   "metadata": {},
   "outputs": [
    {
     "data": {
      "text/html": [
       "<html>\\(\\displaystyle 2\\)</html>"
      ],
      "text/latex": [
       "$\\displaystyle 2$"
      ],
      "text/plain": [
       "2"
      ]
     },
     "execution_count": 61,
     "metadata": {},
     "output_type": "execute_result"
    }
   ],
   "source": [
    "y5 = GF(11)(-5^3 -5)\n",
    "y5"
   ]
  },
  {
   "cell_type": "code",
   "execution_count": 62,
   "metadata": {},
   "outputs": [
    {
     "data": {
      "text/html": [
       "<html>\\(\\displaystyle \\mathrm{False}\\)</html>"
      ],
      "text/latex": [
       "$\\displaystyle \\mathrm{False}$"
      ],
      "text/plain": [
       "False"
      ]
     },
     "execution_count": 62,
     "metadata": {},
     "output_type": "execute_result"
    }
   ],
   "source": [
    "y5.is_square()"
   ]
  },
  {
   "cell_type": "code",
   "execution_count": 63,
   "metadata": {},
   "outputs": [],
   "source": [
    "%display plain"
   ]
  },
  {
   "cell_type": "markdown",
   "metadata": {},
   "source": [
    "If we change the base ring of the curve (e.g. from $𝔽_{11}$ to $𝔽_{121}$), more points appear"
   ]
  },
  {
   "cell_type": "code",
   "execution_count": 64,
   "metadata": {},
   "outputs": [
    {
     "data": {
      "text/plain": [
       "Elliptic Curve defined by y^2 = x^3 + x over Finite Field in z2 of size 11^2"
      ]
     },
     "execution_count": 64,
     "metadata": {},
     "output_type": "execute_result"
    }
   ],
   "source": [
    "F2 = F.change_ring(GF(11^2))\n",
    "F2"
   ]
  },
  {
   "cell_type": "code",
   "execution_count": 65,
   "metadata": {},
   "outputs": [
    {
     "data": {
      "text/plain": [
       "(6 : z2 + 9 : 1)"
      ]
     },
     "execution_count": 65,
     "metadata": {},
     "output_type": "execute_result"
    }
   ],
   "source": [
    "Q = F2.lift_x(-5)\n",
    "Q"
   ]
  },
  {
   "cell_type": "code",
   "execution_count": 66,
   "metadata": {},
   "outputs": [
    {
     "data": {
      "text/plain": [
       "3"
      ]
     },
     "execution_count": 66,
     "metadata": {},
     "output_type": "execute_result"
    }
   ],
   "source": [
    "Q.order()"
   ]
  },
  {
   "cell_type": "markdown",
   "metadata": {},
   "source": [
    "However we cannot mindlessly combine points over $𝔽_{11}$ with points over $𝔽_{121}$"
   ]
  },
  {
   "cell_type": "code",
   "execution_count": 67,
   "metadata": {},
   "outputs": [
    {
     "ename": "TypeError",
     "evalue": "unsupported operand parent(s) for +: 'Abelian group of points on Elliptic Curve defined by y^2 = x^3 + x over Finite Field of size 11' and 'Abelian group of points on Elliptic Curve defined by y^2 = x^3 + x over Finite Field in z2 of size 11^2'",
     "output_type": "error",
     "traceback": [
      "\u001b[0;31m---------------------------------------------------------------------------\u001b[0m",
      "\u001b[0;31mTypeError\u001b[0m                                 Traceback (most recent call last)",
      "Cell \u001b[0;32mIn[67], line 1\u001b[0m\n\u001b[0;32m----> 1\u001b[0m \u001b[43mP\u001b[49m\u001b[43m \u001b[49m\u001b[38;5;241;43m+\u001b[39;49m\u001b[43m \u001b[49m\u001b[43mQ\u001b[49m\n",
      "File \u001b[0;32m/usr/lib/python3.11/site-packages/sage/structure/element.pyx:1226\u001b[0m, in \u001b[0;36msage.structure.element.Element.__add__ (build/cythonized/sage/structure/element.c:11105)\u001b[0;34m()\u001b[0m\n\u001b[1;32m   1224\u001b[0m # Left and right are Sage elements => use coercion model\n\u001b[1;32m   1225\u001b[0m if BOTH_ARE_ELEMENT(cl):\n\u001b[0;32m-> 1226\u001b[0m     return coercion_model.bin_op(left, right, add)\n\u001b[1;32m   1227\u001b[0m \n\u001b[1;32m   1228\u001b[0m cdef long value\n",
      "File \u001b[0;32m/usr/lib/python3.11/site-packages/sage/structure/coerce.pyx:1269\u001b[0m, in \u001b[0;36msage.structure.coerce.CoercionModel.bin_op (build/cythonized/sage/structure/coerce.c:11865)\u001b[0;34m()\u001b[0m\n\u001b[1;32m   1267\u001b[0m     # We should really include the underlying error.\n\u001b[1;32m   1268\u001b[0m     # This causes so much headache.\n\u001b[0;32m-> 1269\u001b[0m     raise bin_op_exception(op, x, y)\n\u001b[1;32m   1270\u001b[0m \n\u001b[1;32m   1271\u001b[0m cpdef canonical_coercion(self, x, y):\n",
      "\u001b[0;31mTypeError\u001b[0m: unsupported operand parent(s) for +: 'Abelian group of points on Elliptic Curve defined by y^2 = x^3 + x over Finite Field of size 11' and 'Abelian group of points on Elliptic Curve defined by y^2 = x^3 + x over Finite Field in z2 of size 11^2'"
     ]
    }
   ],
   "source": [
    "P + Q"
   ]
  },
  {
   "cell_type": "markdown",
   "metadata": {},
   "source": [
    "We must instead explicitly lift the points from $E/𝔽_{11}$ to $E/𝔽_{121}$"
   ]
  },
  {
   "cell_type": "code",
   "execution_count": 68,
   "metadata": {},
   "outputs": [],
   "source": [
    "P2 = F2(P)"
   ]
  },
  {
   "cell_type": "code",
   "execution_count": 69,
   "metadata": {},
   "outputs": [
    {
     "data": {
      "text/plain": [
       "(5*z2 + 1 : 9*z2 + 9 : 1)"
      ]
     },
     "execution_count": 69,
     "metadata": {},
     "output_type": "execute_result"
    }
   ],
   "source": [
    "P2 + Q"
   ]
  },
  {
   "cell_type": "markdown",
   "metadata": {},
   "source": [
    "Here is the full 3-torsion subgroup"
   ]
  },
  {
   "cell_type": "code",
   "execution_count": 70,
   "metadata": {},
   "outputs": [
    {
     "data": {
      "text/plain": [
       "[(0 : 1 : 0),\n",
       " (6 : z2 + 9 : 1),\n",
       " (6 : 10*z2 + 2 : 1),\n",
       " (5 : 3 : 1),\n",
       " (5*z2 + 1 : 9*z2 + 9 : 1),\n",
       " (6*z2 + 10 : 2*z2 + 1 : 1),\n",
       " (5 : 8 : 1),\n",
       " (6*z2 + 10 : 9*z2 + 10 : 1),\n",
       " (5*z2 + 1 : 2*z2 + 2 : 1)]"
      ]
     },
     "execution_count": 70,
     "metadata": {},
     "output_type": "execute_result"
    }
   ],
   "source": [
    "[i*P2 + j*Q for i in range(3) for j in range(3)]"
   ]
  },
  {
   "cell_type": "markdown",
   "metadata": {},
   "source": [
    "We check that the $x$-coordinates correspond to the roots of the denominator of the multiplication-by-3 map we had previously computed"
   ]
  },
  {
   "cell_type": "code",
   "execution_count": 71,
   "metadata": {},
   "outputs": [
    {
     "data": {
      "text/plain": [
       "9*x^8 + 3*x^6 + 8*x^4 + 10*x^2 + 1"
      ]
     },
     "execution_count": 71,
     "metadata": {},
     "output_type": "execute_result"
    }
   ],
   "source": [
    "d3"
   ]
  },
  {
   "cell_type": "code",
   "execution_count": 72,
   "metadata": {},
   "outputs": [
    {
     "data": {
      "text/plain": [
       "[(6, 2), (5, 2), (6*z2 + 10, 2), (5*z2 + 1, 2)]"
      ]
     },
     "execution_count": 72,
     "metadata": {},
     "output_type": "execute_result"
    }
   ],
   "source": [
    "d3.roots(GF(11^2))"
   ]
  },
  {
   "cell_type": "markdown",
   "metadata": {},
   "source": [
    "And we check that the denominator is the square of the 3-division polynomial"
   ]
  },
  {
   "cell_type": "code",
   "execution_count": 73,
   "metadata": {},
   "outputs": [
    {
     "data": {
      "text/plain": [
       "True"
      ]
     },
     "execution_count": 73,
     "metadata": {},
     "output_type": "execute_result"
    }
   ],
   "source": [
    "d3.is_square()"
   ]
  },
  {
   "cell_type": "code",
   "execution_count": 74,
   "metadata": {},
   "outputs": [
    {
     "data": {
      "text/plain": [
       "3*x^4 + 6*x^2 + 10"
      ]
     },
     "execution_count": 74,
     "metadata": {},
     "output_type": "execute_result"
    }
   ],
   "source": [
    "d3.sqrt()"
   ]
  },
  {
   "cell_type": "code",
   "execution_count": 75,
   "metadata": {},
   "outputs": [
    {
     "data": {
      "text/plain": [
       "3*x^4 + 6*x^2 + 10"
      ]
     },
     "execution_count": 75,
     "metadata": {},
     "output_type": "execute_result"
    }
   ],
   "source": [
    "F.division_polynomial(3)"
   ]
  },
  {
   "cell_type": "markdown",
   "metadata": {},
   "source": [
    "## Your turn!"
   ]
  },
  {
   "cell_type": "markdown",
   "metadata": {},
   "source": [
    "### Exercise 1 ★\n",
    "\n",
    "Find a random curve over $𝔽_{127}$ with $129$ points.\n",
    "\n"
   ]
  },
  {
   "cell_type": "code",
   "execution_count": 76,
   "metadata": {},
   "outputs": [],
   "source": [
    "k = GF(127)"
   ]
  },
  {
   "cell_type": "markdown",
   "metadata": {},
   "source": [
    "A basic loop where we try random Weierstrass equation until we find one.\n",
    "\n",
    "Careful with the discriminant of the elliptic curve, which must be ≠ 0!"
   ]
  },
  {
   "cell_type": "code",
   "execution_count": 77,
   "metadata": {},
   "outputs": [
    {
     "data": {
      "text/plain": [
       "(Elliptic Curve defined by y^2 = x^3 + 117*x + 2 over Finite Field of size 127,\n",
       " 129)"
      ]
     },
     "execution_count": 77,
     "metadata": {},
     "output_type": "execute_result"
    }
   ],
   "source": [
    "while True:\n",
    "    a = k.random_element()\n",
    "    b = k.random_element()\n",
    "    if 4*a^3 + 27*b^2 != 0:\n",
    "        E = EllipticCurve([a,b])\n",
    "        if E.order() == 129:\n",
    "            break\n",
    "E, E.order()"
   ]
  },
  {
   "cell_type": "markdown",
   "metadata": {},
   "source": [
    "The same idea, but we try random j-invariants.\n",
    "\n",
    "This time we need to be careful with the fact that a single j-invariant corresponds to several GF(127)-isomorphism classes. To be sure to hit a curve, we test both the default curve given by Sage and its quadratic twist."
   ]
  },
  {
   "cell_type": "code",
   "execution_count": 78,
   "metadata": {
    "scrolled": true
   },
   "outputs": [
    {
     "data": {
      "text/plain": [
       "(Elliptic Curve defined by y^2 = x^3 + 126*x + 56 over Finite Field of size 127,\n",
       " 129)"
      ]
     },
     "execution_count": 78,
     "metadata": {},
     "output_type": "execute_result"
    }
   ],
   "source": [
    "while True:\n",
    "    E = EllipticCurve(k, j = k.random_element())\n",
    "    if E.order() == 129:\n",
    "        break\n",
    "    E = E.quadratic_twist()\n",
    "    if E.order() == 129:\n",
    "        break    \n",
    "E, E.order()"
   ]
  },
  {
   "cell_type": "markdown",
   "metadata": {},
   "source": [
    "#### Exercise 1.2 ★★\n",
    "\n",
    "Let $E$ be one such curve. What is the degree of the smallest extension $k$ of $𝔽_{127}$ such that $E(k)[129] \\simeq ℤ/129ℤ × ℤ/129ℤ$?\n",
    "\n"
   ]
  },
  {
   "cell_type": "markdown",
   "metadata": {},
   "source": [
    "We already that a cyclic subgroup of order 129 is defined over $𝔽_{127}$."
   ]
  },
  {
   "cell_type": "code",
   "execution_count": 79,
   "metadata": {},
   "outputs": [],
   "source": [
    "P = E.gens()[0]"
   ]
  },
  {
   "cell_type": "code",
   "execution_count": 80,
   "metadata": {},
   "outputs": [
    {
     "data": {
      "text/plain": [
       "129"
      ]
     },
     "execution_count": 80,
     "metadata": {},
     "output_type": "execute_result"
    }
   ],
   "source": [
    "P.order()"
   ]
  },
  {
   "cell_type": "markdown",
   "metadata": {},
   "source": [
    "To find the extension where the rest of the 129-torsion is defined, we factor the 129-division polynomial"
   ]
  },
  {
   "cell_type": "code",
   "execution_count": 81,
   "metadata": {},
   "outputs": [
    {
     "data": {
      "text/plain": [
       "2*x^8320 + 126*x^8318 + 56*x^8317 + 95*x^8316 + 28*x^8315 + 89*x^8314 + 21*x^8313 + 84*x^8312 + 62*x^8311 + 47*x^8310 + 71*x^8309 + 56*x^8308 + 14*x^8307 + 13*x^8306 + 102*x^8305 + 90*x^8304 + 109*x^8303 + 109*x^8302 + 2*x^8301 + 42*x^8300 + 68*x^8299 + 28*x^8298 + 122*x^8297 + 42*x^8296 + 117*x^8295 + 44*x^8294 + 49*x^8293 + 92*x^8292 + 95*x^8291 + 11*x^8290 + 98*x^8289 + 22*x^8288 + 42*x^8287 + 62*x^8286 + 57*x^8285 + 52*x^8284 + 109*x^8283 + 68*x^8282 + 6*x^8281 + 5*x^8280 + 60*x^8279 + 4*x^8278 + 3*x^8277 + 70*x^8276 + 106*x^8275 + 74*x^8274 + 43*x^8273 + 8*x^8272 + 4*x^8271 + 87*x^8270 + 51*x^8269 + 41*x^8268 + 18*x^8267 + 123*x^8266 + 24*x^8265 + 58*x^8264 + 82*x^8263 + 59*x^8262 + 33*x^8261 + 82*x^8260 + 67*x^8259 + 93*x^8258 + 14*x^8257 + 34*x^8256 + 31*x^8255 + 8*x^8254 + 52*x^8253 + 45*x^8252 + 23*x^8251 + 27*x^8250 + 98*x^8249 + 9*x^8248 + 60*x^8247 + 118*x^8246 + 102*x^8245 + 17*x^8244 + 119*x^8243 + 90*x^8242 + 125*x^8241 + 30*x^8240 + 97*x^8239 + 79*x^8238 + 50*x^8237 + 56*x^8236 + 36*x^8235 + 103*x^8234 + 17*x^8233 + 119*x^8232 + 61*x^8231 + 70*x^8230 + 115*x^8229 + 107*x^8228 + 23*x^8227 + 26*x^8226 + 116*x^8225 + 12*x^8224 + 28*x^8223 + 11*x^8222 + 13*x^8221 + 102*x^8220 + 49*x^8219 + 68*x^8218 + 19*x^8217 + 98*x^8216 + 24*x^8215 + 90*x^8214 + 112*x^8213 + 6*x^8212 + 96*x^8211 + 31*x^8210 + x^8209 + 8*x^8208 + 93*x^8207 + 81*x^8206 + 40*x^8205 + 119*x^8204 + 28*x^8203 + 16*x^8202 + 40*x^8201 + 5*x^8200 + 16*x^8199 + 70*x^8198 + 68*x^8197 + 59*x^8196 + 3*x^8195 + 120*x^8194 + 36*x^8193 + 107*x^8192 + 7*x^8191 + 99*x^8190 + 95*x^8189 + 28*x^8188 + 20*x^8187 + 79*x^8186 + 6*x^8185 + 80*x^8184 + 8*x^8183 + 69*x^8182 + 100*x^8181 + 90*x^8180 + 40*x^8179 + 71*x^8178 + 71*x^8177 + 51*x^8176 + 11*x^8175 + 51*x^8174 + 118*x^8173 + 36*x^8172 + 96*x^8171 + 116*x^8170 + 32*x^8169 + 76*x^8168 + 61*x^8167 + 114*x^8166 + 102*x^8165 + 122*x^8164 + 88*x^8163 + 79*x^8161 + 2*x^8160 + 30*x^8159 + 96*x^8158 + 46*x^8157 + 71*x^8156 + 69*x^8155 + 36*x^8154 + 4*x^8153 + 47*x^8152 + 112*x^8151 + 88*x^8150 + 60*x^8149 + 76*x^8148 + 89*x^8147 + 53*x^8146 + 68*x^8145 + 119*x^8144 + 65*x^8143 + 118*x^8142 + 117*x^8141 + 23*x^8140 + 75*x^8139 + 62*x^8138 + 35*x^8137 + 66*x^8136 + 6*x^8135 + 91*x^8134 + 82*x^8133 + 115*x^8132 + 23*x^8131 + 104*x^8130 + 6*x^8129 + 39*x^8128 + 54*x^8127 + 42*x^8126 + 21*x^8125 + 113*x^8124 + 52*x^8123 + 86*x^8122 + 78*x^8121 + 9*x^8120 + 80*x^8119 + 14*x^8118 + 4*x^8117 + 38*x^8116 + 117*x^8115 + 4*x^8114 + 111*x^8113 + 124*x^8112 + 106*x^8111 + 41*x^8110 + 52*x^8109 + 61*x^8108 + 23*x^8107 + 16*x^8106 + 38*x^8105 + 47*x^8104 + 111*x^8103 + 92*x^8102 + 18*x^8101 + 121*x^8100 + 89*x^8099 + 4*x^8098 + 69*x^8097 + 32*x^8096 + 117*x^8095 + 18*x^8094 + 42*x^8093 + 59*x^8092 + 46*x^8091 + 4*x^8090 + 41*x^8089 + 13*x^8088 + 108*x^8087 + 45*x^8086 + 74*x^8085 + 122*x^8084 + 77*x^8083 + 43*x^8082 + 87*x^8081 + 116*x^8080 + 3*x^8079 + 5*x^8078 + 30*x^8077 + 28*x^8076 + 95*x^8075 + 77*x^8074 + 119*x^8073 + 8*x^8072 + 124*x^8071 + 59*x^8070 + 39*x^8069 + 21*x^8068 + 99*x^8067 + 76*x^8066 + 19*x^8065 + 34*x^8064 + 41*x^8063 + 83*x^8062 + 47*x^8061 + 89*x^8060 + 61*x^8059 + 112*x^8058 + 53*x^8057 + 84*x^8056 + 39*x^8055 + 93*x^8054 + 5*x^8053 + 60*x^8052 + 22*x^8051 + 105*x^8050 + 26*x^8049 + 43*x^8048 + 96*x^8047 + 48*x^8046 + 95*x^8045 + 16*x^8044 + 124*x^8043 + 74*x^8042 + 8*x^8041 + 13*x^8040 + 12*x^8039 + 48*x^8038 + 49*x^8037 + 107*x^8036 + 79*x^8035 + 4*x^8034 + 107*x^8033 + 71*x^8032 + 33*x^8031 + 120*x^8030 + 99*x^8029 + 27*x^8028 + 101*x^8027 + 108*x^8026 + 85*x^8025 + 101*x^8024 + 11*x^8023 + 65*x^8022 + 86*x^8021 + 85*x^8020 + 9*x^8019 + 44*x^8018 + 23*x^8017 + 92*x^8016 + 10*x^8015 + 46*x^8014 + 21*x^8013 + 87*x^8012 + 71*x^8011 + 37*x^8010 + 38*x^8009 + 92*x^8008 + 7*x^8007 + 124*x^8006 + 8*x^8005 + 117*x^8004 + 70*x^8003 + 116*x^8002 + 21*x^8001 + 66*x^8000 + 12*x^7999 + 22*x^7998 + 23*x^7997 + 37*x^7996 + 68*x^7995 + 24*x^7994 + 16*x^7993 + 7*x^7992 + 69*x^7991 + 45*x^7990 + 3*x^7989 + 85*x^7988 + 124*x^7987 + 19*x^7986 + 91*x^7985 + 90*x^7984 + 29*x^7983 + 108*x^7982 + 19*x^7981 + 73*x^7980 + 86*x^7979 + 50*x^7978 + 88*x^7977 + 117*x^7976 + 27*x^7974 + 86*x^7973 + 6*x^7972 + 37*x^7971 + 94*x^7970 + 18*x^7969 + 103*x^7968 + 94*x^7967 + 120*x^7966 + 45*x^7965 + 21*x^7964 + 16*x^7963 + 61*x^7962 + 29*x^7961 + 67*x^7960 + 49*x^7959 + 99*x^7958 + 87*x^7957 + 60*x^7956 + 2*x^7955 + 74*x^7954 + 84*x^7953 + 18*x^7952 + 118*x^7951 + 50*x^7950 + 100*x^7949 + 15*x^7948 + 90*x^7947 + 74*x^7946 + 104*x^7945 + 126*x^7944 + 112*x^7943 + 13*x^7942 + 83*x^7941 + 70*x^7940 + 47*x^7939 + 126*x^7938 + 113*x^7937 + 76*x^7936 + 40*x^7935 + 92*x^7934 + 86*x^7933 + 27*x^7932 + 54*x^7931 + 80*x^7930 + 51*x^7929 + 41*x^7928 + 111*x^7927 + 99*x^7926 + 40*x^7925 + 5*x^7924 + 73*x^7923 + 116*x^7922 + 6*x^7921 + 56*x^7920 + 5*x^7918 + 91*x^7917 + 59*x^7916 + 77*x^7915 + 64*x^7914 + 48*x^7913 + 102*x^7912 + 88*x^7911 + 64*x^7910 + 124*x^7909 + 4*x^7908 + 82*x^7907 + 47*x^7906 + 72*x^7905 + 112*x^7904 + 72*x^7903 + 32*x^7902 + 7*x^7901 + 69*x^7900 + 66*x^7899 + 46*x^7898 + 22*x^7897 + 71*x^7896 + 112*x^7894 + 2*x^7893 + 11*x^7892 + 89*x^7891 + 42*x^7890 + 126*x^7889 + 31*x^7888 + 48*x^7887 + 37*x^7886 + 55*x^7885 + 3*x^7884 + 111*x^7883 + 11*x^7882 + 91*x^7881 + 94*x^7880 + 4*x^7879 + 31*x^7878 + 42*x^7877 + 7*x^7876 + 52*x^7875 + 67*x^7874 + 74*x^7873 + 27*x^7872 + 70*x^7871 + 89*x^7870 + 62*x^7869 + 73*x^7868 + 70*x^7867 + 113*x^7866 + 75*x^7865 + 107*x^7864 + 5*x^7863 + 112*x^7862 + 62*x^7861 + 72*x^7860 + 96*x^7859 + 91*x^7858 + 65*x^7857 + 113*x^7856 + 51*x^7855 + 71*x^7854 + 56*x^7853 + 109*x^7852 + 10*x^7851 + 88*x^7850 + 10*x^7849 + 32*x^7848 + 53*x^7847 + 98*x^7846 + 72*x^7845 + 31*x^7844 + 6*x^7843 + 37*x^7842 + 113*x^7841 + 10*x^7840 + x^7839 + 52*x^7838 + 124*x^7837 + 78*x^7836 + 73*x^7835 + 77*x^7834 + 66*x^7833 + 35*x^7832 + 32*x^7831 + 31*x^7830 + 120*x^7829 + 18*x^7828 + 39*x^7827 + 88*x^7826 + 93*x^7825 + 51*x^7824 + 118*x^7823 + 66*x^7822 + 76*x^7821 + 123*x^7820 + 103*x^7819 + 117*x^7818 + 97*x^7817 + 65*x^7816 + 93*x^7815 + 104*x^7814 + 53*x^7813 + 121*x^7812 + 22*x^7811 + 34*x^7810 + 107*x^7809 + 108*x^7808 + 23*x^7807 + 4*x^7806 + 55*x^7805 + 102*x^7804 + 5*x^7803 + 80*x^7802 + 78*x^7801 + 51*x^7800 + 88*x^7799 + 21*x^7798 + 29*x^7797 + 38*x^7796 + 35*x^7795 + 86*x^7794 + 105*x^7793 + 102*x^7792 + 125*x^7791 + 29*x^7790 + 90*x^7789 + 65*x^7788 + 42*x^7787 + 125*x^7786 + 117*x^7785 + 98*x^7784 + 41*x^7783 + 64*x^7782 + 29*x^7781 + 122*x^7780 + 102*x^7779 + 115*x^7778 + 51*x^7777 + 10*x^7776 + 61*x^7775 + 62*x^7774 + 111*x^7773 + 26*x^7772 + 70*x^7771 + 86*x^7770 + 126*x^7769 + 31*x^7768 + 24*x^7767 + 71*x^7766 + 96*x^7765 + 92*x^7764 + 100*x^7763 + 28*x^7762 + 116*x^7761 + 80*x^7760 + 81*x^7759 + 64*x^7758 + 62*x^7757 + 116*x^7756 + 18*x^7755 + 79*x^7754 + 114*x^7753 + 95*x^7752 + 48*x^7751 + 21*x^7750 + 8*x^7749 + 36*x^7748 + 64*x^7747 + 47*x^7746 + 73*x^7745 + 116*x^7744 + 31*x^7743 + 26*x^7742 + 7*x^7741 + 39*x^7740 + 50*x^7739 + 7*x^7738 + 71*x^7737 + 66*x^7736 + 66*x^7735 + 66*x^7734 + 92*x^7733 + 119*x^7732 + 108*x^7731 + 36*x^7730 + 27*x^7729 + 3*x^7728 + 30*x^7727 + 19*x^7726 + 101*x^7725 + 60*x^7724 + 49*x^7723 + 10*x^7722 + 71*x^7721 + 101*x^7720 + 114*x^7719 + 97*x^7718 + 98*x^7717 + 39*x^7716 + 69*x^7715 + 116*x^7714 + 117*x^7713 + 3*x^7712 + 23*x^7711 + 84*x^7710 + 65*x^7709 + 27*x^7708 + 38*x^7707 + 92*x^7706 + 106*x^7705 + 21*x^7704 + 75*x^7703 + 28*x^7702 + 66*x^7701 + 50*x^7700 + 33*x^7699 + 27*x^7698 + 31*x^7697 + 113*x^7696 + 72*x^7695 + 4*x^7694 + 61*x^7693 + 101*x^7692 + 78*x^7691 + 79*x^7690 + 49*x^7689 + 65*x^7688 + 41*x^7687 + 109*x^7686 + 30*x^7685 + x^7684 + 122*x^7683 + 117*x^7682 + 96*x^7681 + 34*x^7680 + 61*x^7679 + 94*x^7678 + 83*x^7677 + 125*x^7676 + 33*x^7675 + 26*x^7674 + 22*x^7673 + 96*x^7672 + 5*x^7671 + 52*x^7670 + 118*x^7669 + 9*x^7668 + 18*x^7667 + 58*x^7666 + 70*x^7665 + 69*x^7664 + 82*x^7663 + 61*x^7662 + 104*x^7661 + 48*x^7660 + 79*x^7659 + 62*x^7658 + 38*x^7657 + 72*x^7656 + 54*x^7655 + 5*x^7654 + 4*x^7653 + 109*x^7652 + 80*x^7651 + 63*x^7650 + 28*x^7649 + 60*x^7648 + 60*x^7647 + 107*x^7646 + 118*x^7645 + 44*x^7644 + 26*x^7643 + 48*x^7642 + 52*x^7641 + 109*x^7640 + 46*x^7639 + 91*x^7638 + 88*x^7637 + 59*x^7636 + 54*x^7635 + 100*x^7634 + 50*x^7633 + 98*x^7632 + 77*x^7631 + 103*x^7630 + 12*x^7629 + 32*x^7628 + 45*x^7627 + 84*x^7626 + 17*x^7625 + 86*x^7624 + 116*x^7623 + 46*x^7622 + 70*x^7621 + 6*x^7620 + 28*x^7619 + 109*x^7618 + 118*x^7617 + 77*x^7616 + 78*x^7615 + 75*x^7614 + 73*x^7613 + 114*x^7612 + 78*x^7611 + 55*x^7610 + 88*x^7609 + 80*x^7608 + 63*x^7607 + 34*x^7606 + 123*x^7605 + 44*x^7604 + 74*x^7603 + 122*x^7602 + 5*x^7601 + 79*x^7600 + 118*x^7599 + 113*x^7598 + 34*x^7597 + 93*x^7596 + 55*x^7595 + 110*x^7594 + 124*x^7593 + 4*x^7592 + 81*x^7591 + 35*x^7590 + 44*x^7589 + 82*x^7588 + 22*x^7587 + 27*x^7586 + 12*x^7585 + 7*x^7584 + 39*x^7583 + 32*x^7582 + 126*x^7581 + 50*x^7580 + 6*x^7579 + 14*x^7578 + 72*x^7577 + 110*x^7576 + 116*x^7575 + 8*x^7574 + 63*x^7573 + 73*x^7572 + 100*x^7571 + 101*x^7570 + 39*x^7569 + 26*x^7568 + 50*x^7567 + 116*x^7566 + 116*x^7565 + 103*x^7564 + 65*x^7563 + 4*x^7562 + 42*x^7561 + 77*x^7560 + 86*x^7559 + 8*x^7558 + 80*x^7557 + 6*x^7556 + 14*x^7555 + 101*x^7554 + 35*x^7553 + 44*x^7552 + 111*x^7551 + 87*x^7550 + 50*x^7549 + 69*x^7548 + 20*x^7547 + 10*x^7546 + 52*x^7545 + 80*x^7544 + 89*x^7543 + 105*x^7542 + 8*x^7541 + 92*x^7540 + 59*x^7539 + 23*x^7538 + 17*x^7537 + 72*x^7536 + 90*x^7535 + 8*x^7534 + 88*x^7533 + 82*x^7532 + 86*x^7531 + 125*x^7530 + 50*x^7529 + 119*x^7528 + 69*x^7527 + 40*x^7526 + 90*x^7525 + 72*x^7524 + 44*x^7523 + 5*x^7522 + 60*x^7521 + 7*x^7520 + 115*x^7519 + 35*x^7518 + 82*x^7517 + 53*x^7516 + 67*x^7515 + 57*x^7514 + 35*x^7513 + 93*x^7512 + 107*x^7511 + 122*x^7510 + x^7509 + 27*x^7508 + 18*x^7507 + 55*x^7506 + 107*x^7505 + 18*x^7504 + 106*x^7503 + 71*x^7502 + x^7501 + 70*x^7500 + 94*x^7499 + 35*x^7498 + 2*x^7497 + 22*x^7496 + 67*x^7495 + 64*x^7494 + 9*x^7493 + 26*x^7492 + 32*x^7491 + 107*x^7490 + 92*x^7489 + 84*x^7488 + 5*x^7487 + 17*x^7486 + 52*x^7485 + 35*x^7484 + 92*x^7483 + 31*x^7482 + 97*x^7481 + 32*x^7480 + 14*x^7479 + 116*x^7478 + 110*x^7477 + 98*x^7476 + 53*x^7475 + 110*x^7474 + 56*x^7473 + 68*x^7472 + 30*x^7471 + 125*x^7470 + 45*x^7469 + 77*x^7468 + 83*x^7467 + 32*x^7466 + 89*x^7465 + 70*x^7464 + 4*x^7463 + 91*x^7462 + 78*x^7461 + 45*x^7460 + 81*x^7459 + 46*x^7458 + 22*x^7457 + 107*x^7456 + 93*x^7455 + 7*x^7454 + 46*x^7453 + 72*x^7452 + 63*x^7451 + 42*x^7450 + 87*x^7449 + 86*x^7448 + 91*x^7447 + 17*x^7446 + 51*x^7445 + 22*x^7444 + 19*x^7443 + 30*x^7442 + 62*x^7441 + 22*x^7440 + 85*x^7439 + 14*x^7438 + 47*x^7437 + 115*x^7436 + 55*x^7435 + 76*x^7434 + 19*x^7433 + 83*x^7432 + 102*x^7431 + 4*x^7430 + 52*x^7429 + 100*x^7428 + 115*x^7427 + 19*x^7426 + 118*x^7425 + 82*x^7424 + 41*x^7423 + 25*x^7422 + 16*x^7421 + 19*x^7420 + 83*x^7419 + 92*x^7418 + 80*x^7417 + 57*x^7416 + 63*x^7415 + 117*x^7414 + 117*x^7413 + 13*x^7412 + 73*x^7411 + 93*x^7410 + 116*x^7409 + 119*x^7408 + 48*x^7407 + 79*x^7406 + 46*x^7405 + 94*x^7404 + 96*x^7403 + 83*x^7402 + 105*x^7401 + 6*x^7400 + 27*x^7399 + 13*x^7398 + 78*x^7397 + 38*x^7396 + 95*x^7395 + 97*x^7394 + 86*x^7393 + 81*x^7392 + 21*x^7391 + 60*x^7390 + 34*x^7389 + 63*x^7388 + 65*x^7387 + 112*x^7386 + 90*x^7385 + 106*x^7384 + 30*x^7383 + 10*x^7382 + 55*x^7381 + 69*x^7380 + 75*x^7379 + 69*x^7378 + 55*x^7377 + 115*x^7376 + 16*x^7375 + 110*x^7374 + 21*x^7373 + 29*x^7372 + 9*x^7371 + 91*x^7370 + 30*x^7369 + 47*x^7368 + 5*x^7367 + 81*x^7366 + 31*x^7365 + 58*x^7364 + 5*x^7363 + 119*x^7362 + 78*x^7361 + 33*x^7360 + 77*x^7359 + 81*x^7358 + 65*x^7357 + 104*x^7356 + 18*x^7355 + 84*x^7354 + 65*x^7353 + 109*x^7352 + 77*x^7351 + 57*x^7350 + 93*x^7349 + 124*x^7348 + 48*x^7347 + 35*x^7346 + 126*x^7345 + 59*x^7344 + 67*x^7343 + 2*x^7342 + 46*x^7341 + 21*x^7340 + 4*x^7339 + 49*x^7338 + 106*x^7337 + 34*x^7336 + 97*x^7335 + 81*x^7334 + 58*x^7333 + 10*x^7332 + 15*x^7331 + 33*x^7330 + 22*x^7329 + 35*x^7328 + 74*x^7327 + 61*x^7326 + 92*x^7325 + 109*x^7324 + 118*x^7323 + 74*x^7322 + 98*x^7321 + 50*x^7320 + 34*x^7319 + 33*x^7318 + 88*x^7317 + 101*x^7316 + 41*x^7315 + 78*x^7314 + 30*x^7313 + 93*x^7312 + 117*x^7311 + 104*x^7310 + 57*x^7309 + 102*x^7308 + 92*x^7307 + 41*x^7306 + 115*x^7305 + 35*x^7304 + 111*x^7303 + 68*x^7302 + 41*x^7301 + 117*x^7300 + 4*x^7299 + 124*x^7298 + 109*x^7297 + x^7296 + 38*x^7295 + 39*x^7294 + 40*x^7293 + 8*x^7292 + 105*x^7291 + 87*x^7290 + 43*x^7289 + 87*x^7288 + 27*x^7287 + 118*x^7286 + 65*x^7285 + 2*x^7284 + 99*x^7283 + 19*x^7282 + 4*x^7281 + 41*x^7280 + 14*x^7279 + 24*x^7278 + 2*x^7277 + 117*x^7276 + 88*x^7275 + 39*x^7274 + 67*x^7273 + 25*x^7272 + 38*x^7271 + 14*x^7270 + 57*x^7269 + 9*x^7268 + 48*x^7267 + 24*x^7266 + 107*x^7265 + 119*x^7264 + 31*x^7263 + 16*x^7262 + 113*x^7261 + 71*x^7260 + 99*x^7259 + 68*x^7258 + 51*x^7257 + 41*x^7256 + 90*x^7255 + 57*x^7254 + 120*x^7253 + 29*x^7252 + 35*x^7251 + 55*x^7250 + 15*x^7249 + 63*x^7248 + 95*x^7247 + 106*x^7246 + 115*x^7245 + 65*x^7244 + 9*x^7243 + 10*x^7242 + 88*x^7241 + 15*x^7240 + 69*x^7239 + 30*x^7238 + 62*x^7237 + 65*x^7236 + 17*x^7235 + 26*x^7234 + 25*x^7233 + 48*x^7232 + 36*x^7231 + 71*x^7230 + 99*x^7229 + 39*x^7228 + 41*x^7227 + 51*x^7226 + 23*x^7225 + 3*x^7224 + 65*x^7223 + 44*x^7222 + 40*x^7221 + 99*x^7220 + 50*x^7219 + 22*x^7218 + 60*x^7217 + 92*x^7216 + 72*x^7215 + 123*x^7214 + 50*x^7213 + 26*x^7212 + 52*x^7211 + 27*x^7210 + 126*x^7209 + 96*x^7208 + 66*x^7207 + 27*x^7206 + 109*x^7205 + 63*x^7204 + 41*x^7203 + 121*x^7202 + 89*x^7201 + 3*x^7200 + 46*x^7199 + 62*x^7198 + 77*x^7197 + 40*x^7196 + 60*x^7195 + 126*x^7194 + 57*x^7193 + 36*x^7192 + 3*x^7191 + 68*x^7190 + 21*x^7189 + 8*x^7188 + x^7187 + 106*x^7186 + 15*x^7185 + 92*x^7184 + 67*x^7183 + 56*x^7182 + 103*x^7181 + 14*x^7180 + 116*x^7179 + 45*x^7178 + 125*x^7177 + 70*x^7176 + 59*x^7175 + 93*x^7174 + 112*x^7173 + 120*x^7172 + 67*x^7171 + 77*x^7170 + 3*x^7169 + 37*x^7168 + 93*x^7167 + 69*x^7166 + 108*x^7165 + 36*x^7164 + 75*x^7163 + 122*x^7162 + 108*x^7161 + 52*x^7160 + 11*x^7159 + 16*x^7158 + 28*x^7157 + 14*x^7156 + 19*x^7155 + 67*x^7154 + 108*x^7153 + 29*x^7152 + 38*x^7151 + 86*x^7150 + 98*x^7149 + 126*x^7148 + 51*x^7147 + 116*x^7146 + 15*x^7145 + 80*x^7144 + 9*x^7143 + 16*x^7142 + 16*x^7141 + 110*x^7140 + 19*x^7139 + 49*x^7138 + 74*x^7137 + 115*x^7136 + 56*x^7135 + 48*x^7134 + 7*x^7133 + 94*x^7132 + 29*x^7131 + 41*x^7130 + 93*x^7129 + 94*x^7128 + 63*x^7127 + 122*x^7126 + 94*x^7125 + 98*x^7124 + 86*x^7123 + 65*x^7122 + 20*x^7121 + 47*x^7120 + 74*x^7119 + 21*x^7118 + 110*x^7117 + 44*x^7116 + 77*x^7115 + 85*x^7114 + 72*x^7113 + 2*x^7112 + 49*x^7111 + 119*x^7110 + 82*x^7109 + 52*x^7108 + x^7107 + 29*x^7106 + 95*x^7105 + 22*x^7104 + 2*x^7103 + 30*x^7102 + x^7101 + 35*x^7100 + 41*x^7099 + 123*x^7098 + x^7097 + 92*x^7096 + 123*x^7095 + 83*x^7094 + 102*x^7093 + 27*x^7092 + 60*x^7091 + 16*x^7090 + 71*x^7089 + 89*x^7088 + 45*x^7087 + 111*x^7086 + 24*x^7085 + 64*x^7084 + 126*x^7083 + 70*x^7082 + 102*x^7081 + 110*x^7080 + 93*x^7079 + 67*x^7078 + 6*x^7077 + 113*x^7076 + 50*x^7075 + 38*x^7074 + 34*x^7073 + 68*x^7072 + 123*x^7071 + 91*x^7070 + 108*x^7069 + 108*x^7068 + 97*x^7067 + 29*x^7066 + 50*x^7065 + 76*x^7064 + 44*x^7063 + 59*x^7062 + 38*x^7061 + 117*x^7060 + 59*x^7059 + 96*x^7058 + 8*x^7057 + 105*x^7056 + 39*x^7055 + 4*x^7054 + 107*x^7053 + 41*x^7052 + 77*x^7051 + 91*x^7050 + 76*x^7049 + 78*x^7048 + 58*x^7047 + 75*x^7046 + 73*x^7045 + 120*x^7044 + 47*x^7043 + 15*x^7042 + 34*x^7041 + 39*x^7040 + 53*x^7039 + 73*x^7038 + 33*x^7037 + 89*x^7036 + 44*x^7035 + 4*x^7034 + 51*x^7033 + 86*x^7032 + 19*x^7031 + 33*x^7030 + 45*x^7029 + 126*x^7028 + 78*x^7027 + 46*x^7026 + 86*x^7025 + 42*x^7024 + 26*x^7023 + 36*x^7022 + 31*x^7021 + 94*x^7020 + 33*x^7019 + 45*x^7018 + 31*x^7017 + 104*x^7016 + 96*x^7015 + 36*x^7014 + 111*x^7013 + 115*x^7012 + 74*x^7011 + 33*x^7010 + 17*x^7009 + 119*x^7008 + 79*x^7007 + 26*x^7006 + 82*x^7005 + 100*x^7004 + 16*x^7003 + 9*x^7002 + 7*x^7001 + 16*x^7000 + 34*x^6999 + 82*x^6998 + 47*x^6997 + 66*x^6996 + 75*x^6995 + 58*x^6994 + 112*x^6993 + 83*x^6992 + 82*x^6991 + 57*x^6990 + 58*x^6989 + 28*x^6988 + 33*x^6987 + 108*x^6986 + 25*x^6985 + 25*x^6984 + 89*x^6983 + 18*x^6982 + 55*x^6981 + 93*x^6980 + 96*x^6979 + 87*x^6978 + 85*x^6977 + 67*x^6976 + 36*x^6975 + 43*x^6974 + 76*x^6973 + 16*x^6972 + 35*x^6971 + 64*x^6970 + 19*x^6969 + 87*x^6968 + 72*x^6967 + 80*x^6966 + 53*x^6965 + 70*x^6964 + 68*x^6963 + 72*x^6962 + 10*x^6961 + 34*x^6960 + 87*x^6959 + 74*x^6958 + 67*x^6957 + 46*x^6956 + 104*x^6955 + 26*x^6954 + 101*x^6953 + 36*x^6952 + 125*x^6951 + 84*x^6950 + 120*x^6949 + 90*x^6948 + 55*x^6947 + 78*x^6946 + 72*x^6945 + 6*x^6944 + 121*x^6943 + 89*x^6942 + 5*x^6941 + 48*x^6940 + 44*x^6939 + 97*x^6938 + 52*x^6937 + 15*x^6936 + 124*x^6935 + 101*x^6934 + 50*x^6933 + 8*x^6932 + 90*x^6931 + 34*x^6930 + 50*x^6929 + 60*x^6928 + 65*x^6927 + 90*x^6926 + 107*x^6925 + 107*x^6924 + 63*x^6923 + 120*x^6922 + 24*x^6921 + 32*x^6920 + 9*x^6919 + 94*x^6918 + 58*x^6917 + 106*x^6916 + 3*x^6915 + 50*x^6914 + 24*x^6913 + 18*x^6912 + 26*x^6911 + 20*x^6910 + 78*x^6909 + 63*x^6908 + 38*x^6907 + 9*x^6906 + 50*x^6905 + 10*x^6904 + 21*x^6903 + 92*x^6902 + 107*x^6901 + 52*x^6900 + 100*x^6899 + 123*x^6898 + 124*x^6897 + 4*x^6896 + 35*x^6895 + 22*x^6894 + 80*x^6893 + 124*x^6892 + 114*x^6891 + 109*x^6890 + 82*x^6889 + 68*x^6888 + 64*x^6887 + 38*x^6886 + 96*x^6885 + 49*x^6884 + 123*x^6883 + 84*x^6882 + 22*x^6880 + 5*x^6879 + 24*x^6878 + 87*x^6877 + 86*x^6876 + 124*x^6875 + 124*x^6874 + 47*x^6873 + 68*x^6872 + 26*x^6871 + 125*x^6870 + 4*x^6869 + 126*x^6868 + 124*x^6867 + 12*x^6866 + 7*x^6865 + 101*x^6864 + 33*x^6863 + 67*x^6862 + 111*x^6861 + 95*x^6860 + 56*x^6859 + 53*x^6858 + 109*x^6857 + 57*x^6856 + 115*x^6855 + 122*x^6854 + 20*x^6853 + 36*x^6852 + 117*x^6851 + 72*x^6850 + 112*x^6849 + 49*x^6848 + 14*x^6847 + 108*x^6846 + 41*x^6845 + 95*x^6844 + 100*x^6843 + 46*x^6842 + 41*x^6841 + 40*x^6840 + 53*x^6839 + 92*x^6838 + 42*x^6837 + 34*x^6836 + 2*x^6835 + 76*x^6834 + 74*x^6833 + 120*x^6832 + 8*x^6831 + 42*x^6830 + 55*x^6829 + 100*x^6828 + 120*x^6827 + 83*x^6826 + 70*x^6825 + 40*x^6824 + 11*x^6823 + 88*x^6822 + 56*x^6821 + 125*x^6820 + 112*x^6819 + 32*x^6818 + 91*x^6817 + 53*x^6816 + 100*x^6815 + 56*x^6814 + 51*x^6813 + 67*x^6812 + 114*x^6811 + 119*x^6810 + 62*x^6809 + 3*x^6808 + 50*x^6807 + 28*x^6806 + 66*x^6805 + 81*x^6804 + 63*x^6803 + 76*x^6802 + 91*x^6801 + 90*x^6800 + 42*x^6799 + 102*x^6798 + 69*x^6797 + 85*x^6796 + 21*x^6795 + 115*x^6794 + 19*x^6793 + 124*x^6792 + 73*x^6791 + 17*x^6790 + 118*x^6789 + 107*x^6788 + 87*x^6787 + 105*x^6786 + 114*x^6785 + 89*x^6784 + 40*x^6783 + 57*x^6782 + 46*x^6781 + 5*x^6780 + 84*x^6779 + 47*x^6778 + 106*x^6777 + 25*x^6776 + 34*x^6775 + 54*x^6774 + 6*x^6773 + 61*x^6772 + 94*x^6771 + 78*x^6770 + 74*x^6769 + 119*x^6768 + 118*x^6767 + 83*x^6766 + 108*x^6765 + 50*x^6764 + 72*x^6763 + 61*x^6762 + 125*x^6761 + 44*x^6760 + 120*x^6759 + 23*x^6758 + 45*x^6757 + 91*x^6756 + 114*x^6755 + 32*x^6753 + 97*x^6752 + 111*x^6751 + 16*x^6750 + 5*x^6749 + 15*x^6748 + 52*x^6747 + 85*x^6746 + 89*x^6745 + 13*x^6744 + 71*x^6743 + 43*x^6742 + 36*x^6741 + 19*x^6740 + 51*x^6739 + 49*x^6738 + 57*x^6737 + 115*x^6736 + 30*x^6735 + 76*x^6734 + 111*x^6733 + 102*x^6732 + 69*x^6731 + 16*x^6730 + 117*x^6729 + 81*x^6728 + 96*x^6727 + 64*x^6726 + 90*x^6725 + 82*x^6724 + 4*x^6723 + 123*x^6722 + 108*x^6721 + 39*x^6720 + 107*x^6719 + 40*x^6718 + 2*x^6717 + 116*x^6716 + 50*x^6715 + 98*x^6714 + 80*x^6713 + 55*x^6712 + 32*x^6711 + 100*x^6710 + 30*x^6709 + 56*x^6708 + 96*x^6707 + 44*x^6706 + 102*x^6705 + 42*x^6704 + 5*x^6703 + 34*x^6702 + 62*x^6701 + 17*x^6700 + 123*x^6699 + 77*x^6698 + 120*x^6697 + 126*x^6696 + 13*x^6695 + 126*x^6694 + 20*x^6693 + 72*x^6692 + 72*x^6691 + 86*x^6690 + 92*x^6689 + 30*x^6688 + 12*x^6687 + 119*x^6686 + 62*x^6685 + 89*x^6684 + 83*x^6683 + 84*x^6682 + 52*x^6681 + 39*x^6680 + 49*x^6679 + 46*x^6678 + 67*x^6677 + 36*x^6676 + 117*x^6675 + 126*x^6674 + 2*x^6673 + 19*x^6672 + 15*x^6671 + 21*x^6670 + 63*x^6669 + 19*x^6668 + 111*x^6667 + 87*x^6666 + 26*x^6665 + 78*x^6664 + 27*x^6663 + 76*x^6662 + 60*x^6661 + 78*x^6660 + 119*x^6659 + 125*x^6658 + 125*x^6657 + 14*x^6656 + 9*x^6655 + 100*x^6654 + 8*x^6653 + 28*x^6652 + 37*x^6651 + 99*x^6650 + 86*x^6649 + 23*x^6648 + 57*x^6647 + 88*x^6646 + 99*x^6645 + 102*x^6644 + 20*x^6643 + 68*x^6642 + 54*x^6641 + 26*x^6640 + 29*x^6639 + 5*x^6638 + 76*x^6637 + 26*x^6636 + 91*x^6635 + 81*x^6634 + 38*x^6633 + 47*x^6632 + 27*x^6631 + 6*x^6630 + 89*x^6629 + 8*x^6628 + 8*x^6627 + 17*x^6626 + 20*x^6625 + 13*x^6624 + 15*x^6623 + 77*x^6622 + 106*x^6621 + 72*x^6620 + 73*x^6619 + 126*x^6618 + 18*x^6617 + 118*x^6616 + 124*x^6615 + 123*x^6614 + 24*x^6613 + 21*x^6612 + 30*x^6611 + 103*x^6610 + 74*x^6609 + 7*x^6608 + 125*x^6607 + 16*x^6606 + 85*x^6605 + 67*x^6604 + 24*x^6603 + 47*x^6602 + 92*x^6601 + 83*x^6600 + 66*x^6599 + 100*x^6598 + 51*x^6597 + 11*x^6596 + 4*x^6595 + 93*x^6594 + 37*x^6593 + 20*x^6592 + 84*x^6591 + 119*x^6590 + 60*x^6589 + 110*x^6588 + 19*x^6587 + 39*x^6586 + 83*x^6585 + 105*x^6584 + 36*x^6583 + 95*x^6582 + 56*x^6581 + 78*x^6580 + 62*x^6579 + 42*x^6578 + 54*x^6577 + 43*x^6576 + 87*x^6575 + 4*x^6574 + 91*x^6573 + 24*x^6572 + 125*x^6571 + 110*x^6570 + 108*x^6569 + 116*x^6568 + 87*x^6567 + 93*x^6566 + 52*x^6565 + 91*x^6564 + 81*x^6563 + 41*x^6562 + 3*x^6561 + 2*x^6560 + 65*x^6559 + 15*x^6558 + 57*x^6557 + 81*x^6556 + 71*x^6555 + 39*x^6554 + 73*x^6553 + 45*x^6552 + 118*x^6551 + 116*x^6550 + 119*x^6549 + 86*x^6548 + 46*x^6547 + 26*x^6546 + 82*x^6545 + 55*x^6544 + 58*x^6543 + 12*x^6542 + 90*x^6541 + 48*x^6540 + 109*x^6539 + 21*x^6538 + 99*x^6537 + 10*x^6536 + 110*x^6535 + 65*x^6534 + 61*x^6533 + 88*x^6532 + 77*x^6531 + 106*x^6530 + 18*x^6529 + 112*x^6528 + 25*x^6527 + 103*x^6526 + 18*x^6525 + 79*x^6524 + 57*x^6523 + 65*x^6522 + 68*x^6521 + 60*x^6520 + 51*x^6519 + 41*x^6518 + 86*x^6517 + 86*x^6516 + 25*x^6515 + 27*x^6514 + 9*x^6513 + 7*x^6512 + 70*x^6511 + 63*x^6510 + 42*x^6509 + 22*x^6508 + 8*x^6507 + 62*x^6506 + 68*x^6505 + 12*x^6504 + 69*x^6503 + 6*x^6502 + 32*x^6501 + 104*x^6500 + 35*x^6499 + 67*x^6498 + 2*x^6497 + 13*x^6496 + 87*x^6495 + 67*x^6494 + 74*x^6493 + 8*x^6492 + 3*x^6491 + 101*x^6490 + 98*x^6489 + 4*x^6488 + 11*x^6487 + 90*x^6486 + 28*x^6485 + 104*x^6484 + 58*x^6483 + 59*x^6482 + 121*x^6481 + 109*x^6480 + 13*x^6479 + 48*x^6478 + 29*x^6477 + 81*x^6476 + 20*x^6475 + 54*x^6474 + 67*x^6473 + 108*x^6472 + 124*x^6471 + 116*x^6470 + 48*x^6469 + 66*x^6468 + 24*x^6467 + 117*x^6466 + 55*x^6465 + 33*x^6464 + 126*x^6463 + 13*x^6462 + 86*x^6461 + 25*x^6460 + 93*x^6459 + 108*x^6458 + 108*x^6457 + 25*x^6456 + 73*x^6455 + 13*x^6454 + 103*x^6453 + 113*x^6452 + 117*x^6451 + 122*x^6450 + 18*x^6449 + 96*x^6448 + 101*x^6447 + 87*x^6446 + 5*x^6445 + 28*x^6444 + 56*x^6443 + 44*x^6442 + 46*x^6441 + 14*x^6440 + 99*x^6439 + 96*x^6438 + 85*x^6437 + 74*x^6436 + 66*x^6435 + 120*x^6434 + 98*x^6433 + 36*x^6432 + 126*x^6431 + 105*x^6430 + 87*x^6429 + 77*x^6428 + 78*x^6427 + 67*x^6426 + 119*x^6425 + 68*x^6424 + 116*x^6423 + 60*x^6422 + 95*x^6421 + 6*x^6420 + 58*x^6419 + 106*x^6418 + 55*x^6417 + 2*x^6416 + 84*x^6415 + 4*x^6414 + 21*x^6413 + 34*x^6412 + 82*x^6411 + 85*x^6410 + 62*x^6409 + 73*x^6408 + 118*x^6407 + 81*x^6406 + 74*x^6405 + 92*x^6404 + 49*x^6403 + 21*x^6402 + 39*x^6401 + 94*x^6400 + 110*x^6399 + 50*x^6398 + 116*x^6397 + 66*x^6396 + 106*x^6395 + 83*x^6394 + 64*x^6393 + 74*x^6392 + 76*x^6391 + 21*x^6390 + 27*x^6389 + 64*x^6388 + 38*x^6387 + 40*x^6386 + 82*x^6385 + 41*x^6384 + 39*x^6383 + 30*x^6382 + 88*x^6381 + 120*x^6380 + 80*x^6379 + 95*x^6378 + 66*x^6377 + 21*x^6376 + 9*x^6375 + 63*x^6374 + 3*x^6373 + 66*x^6372 + 124*x^6371 + 62*x^6370 + 104*x^6369 + 84*x^6368 + 125*x^6367 + 124*x^6366 + 124*x^6365 + 113*x^6364 + 63*x^6363 + 69*x^6362 + 98*x^6361 + 56*x^6360 + 45*x^6359 + 54*x^6358 + 31*x^6357 + 25*x^6356 + 79*x^6355 + 63*x^6354 + 55*x^6353 + 108*x^6352 + 75*x^6351 + 81*x^6350 + 33*x^6349 + 13*x^6348 + 75*x^6347 + 64*x^6346 + 119*x^6345 + 79*x^6344 + 122*x^6343 + 115*x^6342 + 124*x^6341 + 74*x^6340 + 34*x^6339 + 122*x^6337 + 45*x^6336 + 21*x^6335 + 117*x^6334 + 120*x^6333 + 50*x^6332 + 69*x^6331 + 28*x^6330 + 34*x^6329 + 54*x^6328 + 45*x^6327 + 45*x^6326 + 68*x^6325 + 49*x^6324 + 79*x^6323 + 83*x^6322 + 10*x^6321 + 15*x^6320 + 37*x^6319 + 30*x^6318 + 35*x^6317 + 43*x^6316 + 101*x^6315 + 37*x^6314 + 42*x^6313 + 39*x^6312 + 18*x^6311 + 118*x^6310 + 71*x^6309 + 31*x^6308 + 64*x^6307 + 67*x^6306 + 53*x^6305 + 34*x^6304 + 67*x^6303 + 23*x^6302 + 98*x^6301 + 29*x^6300 + 20*x^6299 + 117*x^6298 + 51*x^6297 + 46*x^6296 + 76*x^6295 + 120*x^6294 + 17*x^6293 + 27*x^6291 + 26*x^6290 + 75*x^6289 + 98*x^6288 + 35*x^6287 + 87*x^6286 + 5*x^6285 + 90*x^6284 + 93*x^6283 + 33*x^6282 + 91*x^6281 + 50*x^6280 + 96*x^6279 + 34*x^6278 + 34*x^6277 + 94*x^6276 + 103*x^6275 + 23*x^6274 + 80*x^6273 + 64*x^6272 + 69*x^6271 + 45*x^6270 + 112*x^6269 + 89*x^6268 + 53*x^6267 + 117*x^6266 + 66*x^6265 + 124*x^6264 + 38*x^6263 + 30*x^6262 + 125*x^6261 + 2*x^6260 + 91*x^6259 + 18*x^6258 + 115*x^6257 + 64*x^6256 + 52*x^6255 + 52*x^6254 + 85*x^6253 + 21*x^6252 + 113*x^6251 + 57*x^6250 + 106*x^6249 + 28*x^6248 + 65*x^6247 + 13*x^6246 + 117*x^6245 + 45*x^6244 + 8*x^6243 + 51*x^6242 + 52*x^6241 + 13*x^6240 + 92*x^6239 + 94*x^6238 + 109*x^6237 + 101*x^6236 + 5*x^6235 + 101*x^6234 + 125*x^6233 + 81*x^6232 + x^6231 + 47*x^6230 + 28*x^6229 + 103*x^6228 + 66*x^6227 + 14*x^6226 + 107*x^6225 + 88*x^6224 + 105*x^6223 + 72*x^6222 + 73*x^6221 + 12*x^6220 + 43*x^6219 + 30*x^6218 + 44*x^6217 + 30*x^6216 + 20*x^6215 + x^6214 + 103*x^6213 + 125*x^6212 + 99*x^6211 + 45*x^6210 + 77*x^6209 + 96*x^6208 + 4*x^6207 + 93*x^6206 + 21*x^6205 + 118*x^6204 + 126*x^6203 + 72*x^6202 + 68*x^6201 + 25*x^6200 + 14*x^6199 + 33*x^6198 + 126*x^6197 + 126*x^6196 + 21*x^6195 + 18*x^6194 + 48*x^6193 + 15*x^6192 + 10*x^6191 + 42*x^6190 + 110*x^6189 + 36*x^6188 + 110*x^6187 + 32*x^6186 + 27*x^6185 + 5*x^6184 + 20*x^6183 + 36*x^6182 + 70*x^6181 + 18*x^6180 + 62*x^6179 + 125*x^6178 + 59*x^6177 + 22*x^6176 + 13*x^6175 + 90*x^6174 + 30*x^6173 + 32*x^6172 + 34*x^6171 + 53*x^6170 + 24*x^6169 + 99*x^6168 + 71*x^6167 + 53*x^6166 + 18*x^6165 + 21*x^6164 + 8*x^6163 + 99*x^6162 + 102*x^6161 + 118*x^6160 + 85*x^6159 + 97*x^6158 + 123*x^6157 + 30*x^6156 + 94*x^6155 + 8*x^6154 + 67*x^6153 + 88*x^6152 + 72*x^6151 + 79*x^6150 + 43*x^6149 + 85*x^6148 + 41*x^6147 + 102*x^6146 + 107*x^6145 + 125*x^6144 + 82*x^6143 + 120*x^6142 + 76*x^6141 + 91*x^6140 + 76*x^6139 + 101*x^6138 + 71*x^6137 + 68*x^6136 + 105*x^6135 + 16*x^6134 + 12*x^6133 + 36*x^6132 + 122*x^6131 + 40*x^6130 + 55*x^6129 + 10*x^6128 + 53*x^6127 + 107*x^6126 + 103*x^6125 + 97*x^6124 + 57*x^6123 + 57*x^6122 + 85*x^6121 + 59*x^6120 + 33*x^6119 + 53*x^6118 + 30*x^6117 + 31*x^6116 + 30*x^6115 + 68*x^6114 + 71*x^6113 + 13*x^6112 + 17*x^6111 + 81*x^6110 + 65*x^6109 + 22*x^6108 + 36*x^6107 + 27*x^6106 + 92*x^6105 + 99*x^6104 + 64*x^6103 + 85*x^6102 + 117*x^6101 + 72*x^6100 + 33*x^6099 + 82*x^6098 + 55*x^6097 + 62*x^6096 + 77*x^6095 + 92*x^6094 + 109*x^6093 + 3*x^6092 + 2*x^6091 + 35*x^6090 + 10*x^6089 + 94*x^6088 + 24*x^6087 + 115*x^6086 + 71*x^6085 + 33*x^6084 + 15*x^6083 + 22*x^6082 + 70*x^6081 + 76*x^6080 + 88*x^6079 + 15*x^6078 + 60*x^6077 + 51*x^6076 + 85*x^6075 + 29*x^6074 + 76*x^6073 + 15*x^6072 + 74*x^6071 + 72*x^6070 + 115*x^6069 + 120*x^6068 + 118*x^6067 + 20*x^6066 + 43*x^6065 + 57*x^6064 + 73*x^6063 + 31*x^6062 + 40*x^6061 + 31*x^6060 + 102*x^6059 + 123*x^6058 + 46*x^6057 + 123*x^6056 + 65*x^6055 + 125*x^6054 + 107*x^6053 + 95*x^6052 + 24*x^6051 + 120*x^6050 + 25*x^6049 + 112*x^6048 + 109*x^6047 + 70*x^6046 + 54*x^6045 + 53*x^6044 + 117*x^6043 + 68*x^6042 + 19*x^6041 + 125*x^6040 + 82*x^6039 + 85*x^6038 + 92*x^6037 + 2*x^6036 + 90*x^6035 + 124*x^6034 + 13*x^6033 + 37*x^6032 + 6*x^6031 + 98*x^6030 + 79*x^6029 + 47*x^6028 + 68*x^6027 + 18*x^6026 + 89*x^6025 + 94*x^6024 + 121*x^6023 + 66*x^6022 + 83*x^6021 + 125*x^6020 + 97*x^6019 + 94*x^6018 + 98*x^6017 + 26*x^6016 + 42*x^6015 + 79*x^6014 + 77*x^6013 + 11*x^6012 + 58*x^6011 + 78*x^6010 + 3*x^6009 + 5*x^6008 + 55*x^6007 + 111*x^6006 + 6*x^6005 + 63*x^6004 + 116*x^6003 + 119*x^6002 + 44*x^6001 + 99*x^6000 + 14*x^5999 + 124*x^5998 + 15*x^5997 + 55*x^5996 + 71*x^5995 + 31*x^5994 + 77*x^5993 + 40*x^5992 + 78*x^5991 + 5*x^5990 + 38*x^5989 + 7*x^5988 + 55*x^5987 + 124*x^5986 + 72*x^5985 + 40*x^5984 + 58*x^5983 + 9*x^5982 + 50*x^5981 + 69*x^5980 + 29*x^5979 + 44*x^5978 + 121*x^5977 + 42*x^5976 + 28*x^5975 + 63*x^5974 + 109*x^5973 + 94*x^5972 + 16*x^5971 + 20*x^5970 + 17*x^5969 + 58*x^5968 + 26*x^5967 + 77*x^5966 + 120*x^5965 + 119*x^5964 + 4*x^5963 + 94*x^5962 + 80*x^5961 + 20*x^5960 + 63*x^5959 + 104*x^5958 + 44*x^5957 + 28*x^5956 + 50*x^5955 + 16*x^5954 + 63*x^5953 + 126*x^5952 + 14*x^5951 + 38*x^5950 + 113*x^5949 + 70*x^5948 + 102*x^5947 + 81*x^5946 + 92*x^5945 + 53*x^5944 + 64*x^5942 + 69*x^5941 + 47*x^5940 + 105*x^5939 + 44*x^5938 + 77*x^5937 + 66*x^5936 + 35*x^5935 + 51*x^5934 + 124*x^5933 + 46*x^5932 + 87*x^5931 + 103*x^5930 + 106*x^5929 + 32*x^5928 + 37*x^5927 + 10*x^5926 + 86*x^5925 + 86*x^5924 + 105*x^5923 + 49*x^5922 + 12*x^5921 + 125*x^5920 + 126*x^5919 + 4*x^5918 + 14*x^5917 + 80*x^5916 + 93*x^5915 + 35*x^5914 + 126*x^5913 + 39*x^5912 + 79*x^5911 + 105*x^5910 + 48*x^5909 + 99*x^5908 + 21*x^5907 + 2*x^5906 + 97*x^5905 + 41*x^5904 + 13*x^5903 + 89*x^5902 + 126*x^5901 + 75*x^5900 + 64*x^5899 + 85*x^5898 + 5*x^5897 + 39*x^5896 + 44*x^5895 + 61*x^5894 + 58*x^5893 + 12*x^5892 + 36*x^5891 + 93*x^5890 + 67*x^5889 + 104*x^5888 + 63*x^5887 + 34*x^5886 + 32*x^5885 + 95*x^5884 + 26*x^5883 + 30*x^5882 + 8*x^5881 + 7*x^5880 + 69*x^5879 + 100*x^5878 + 55*x^5877 + 105*x^5876 + 121*x^5875 + 90*x^5874 + 50*x^5873 + 91*x^5872 + 117*x^5871 + 20*x^5870 + 108*x^5869 + 25*x^5868 + x^5867 + 59*x^5866 + 103*x^5865 + 87*x^5864 + 79*x^5863 + 79*x^5862 + 101*x^5861 + 90*x^5860 + 44*x^5859 + 105*x^5858 + 20*x^5857 + 64*x^5856 + 2*x^5855 + 85*x^5854 + 35*x^5853 + 95*x^5852 + 99*x^5851 + 97*x^5850 + 92*x^5849 + 36*x^5848 + 69*x^5847 + 42*x^5846 + 123*x^5845 + 46*x^5844 + 21*x^5843 + 19*x^5842 + 124*x^5841 + 41*x^5840 + 24*x^5839 + 71*x^5838 + 100*x^5837 + 84*x^5836 + 76*x^5835 + 91*x^5834 + 41*x^5833 + 7*x^5832 + 77*x^5831 + 53*x^5830 + 124*x^5829 + 5*x^5828 + 52*x^5827 + 6*x^5826 + 27*x^5825 + 99*x^5824 + 83*x^5823 + 51*x^5822 + 17*x^5821 + 25*x^5820 + 70*x^5819 + 6*x^5818 + 34*x^5817 + 28*x^5816 + 6*x^5815 + 62*x^5814 + 2*x^5813 + 13*x^5812 + 50*x^5811 + 112*x^5810 + 106*x^5809 + 79*x^5808 + 107*x^5807 + 14*x^5806 + 114*x^5805 + 73*x^5804 + 35*x^5803 + 44*x^5802 + 79*x^5801 + 105*x^5800 + 62*x^5799 + 15*x^5798 + 23*x^5797 + 16*x^5796 + 82*x^5795 + 86*x^5794 + 113*x^5793 + 61*x^5792 + 24*x^5791 + 112*x^5790 + 70*x^5789 + 76*x^5788 + 7*x^5787 + 110*x^5786 + 71*x^5785 + 93*x^5784 + 70*x^5783 + 31*x^5782 + 62*x^5781 + 55*x^5780 + 101*x^5779 + 89*x^5778 + 51*x^5777 + 92*x^5776 + 24*x^5775 + 70*x^5774 + 47*x^5773 + 60*x^5772 + 103*x^5771 + 56*x^5770 + 50*x^5769 + 70*x^5768 + 109*x^5767 + 106*x^5766 + 15*x^5765 + 83*x^5764 + 21*x^5763 + 3*x^5762 + 85*x^5761 + 90*x^5760 + 92*x^5759 + 2*x^5758 + x^5757 + 116*x^5756 + 108*x^5755 + 117*x^5754 + 34*x^5753 + 65*x^5752 + 19*x^5751 + 4*x^5750 + 63*x^5749 + 77*x^5748 + 90*x^5747 + 75*x^5746 + 65*x^5745 + 16*x^5744 + 118*x^5743 + 21*x^5742 + 58*x^5741 + 99*x^5740 + 40*x^5739 + 35*x^5738 + 28*x^5737 + 106*x^5736 + 27*x^5735 + 5*x^5734 + 115*x^5733 + 49*x^5732 + 21*x^5731 + 109*x^5730 + 120*x^5729 + 83*x^5728 + 32*x^5727 + 102*x^5726 + 60*x^5725 + 92*x^5724 + 88*x^5723 + x^5722 + 37*x^5721 + 64*x^5720 + 106*x^5719 + 32*x^5718 + 24*x^5717 + 20*x^5716 + 52*x^5715 + 86*x^5714 + 4*x^5713 + 109*x^5712 + 42*x^5711 + 74*x^5710 + 86*x^5709 + 102*x^5708 + 120*x^5707 + 113*x^5706 + 115*x^5705 + 61*x^5704 + 8*x^5703 + 32*x^5702 + 116*x^5701 + 63*x^5700 + 111*x^5699 + 18*x^5698 + 41*x^5697 + 17*x^5696 + 108*x^5695 + 103*x^5694 + 95*x^5693 + 40*x^5692 + 95*x^5691 + 96*x^5690 + 15*x^5689 + 19*x^5688 + 46*x^5687 + 48*x^5686 + 115*x^5685 + 102*x^5684 + 124*x^5683 + 88*x^5682 + 94*x^5681 + 89*x^5680 + 68*x^5679 + 14*x^5678 + 92*x^5677 + 33*x^5676 + 21*x^5675 + 52*x^5674 + 54*x^5673 + 102*x^5672 + 57*x^5671 + 123*x^5670 + 41*x^5669 + 90*x^5668 + 64*x^5667 + 125*x^5666 + 105*x^5665 + 9*x^5664 + 114*x^5663 + 110*x^5662 + 12*x^5661 + 113*x^5660 + 43*x^5659 + 37*x^5658 + 63*x^5657 + 75*x^5656 + 66*x^5655 + 21*x^5654 + 89*x^5653 + 126*x^5652 + 32*x^5651 + 36*x^5650 + 7*x^5649 + 47*x^5648 + 69*x^5647 + 36*x^5646 + 122*x^5645 + 86*x^5644 + 7*x^5643 + 125*x^5642 + 80*x^5641 + 35*x^5640 + 85*x^5639 + 69*x^5638 + 32*x^5637 + 102*x^5636 + 44*x^5635 + 62*x^5634 + 2*x^5633 + 101*x^5632 + 77*x^5631 + 60*x^5630 + 87*x^5629 + 47*x^5628 + 97*x^5627 + 92*x^5626 + 121*x^5625 + 66*x^5624 + 33*x^5623 + 46*x^5622 + 60*x^5621 + 49*x^5620 + 65*x^5619 + 52*x^5618 + 57*x^5617 + 65*x^5616 + 48*x^5615 + 39*x^5614 + 63*x^5613 + 10*x^5612 + 6*x^5611 + 21*x^5610 + 36*x^5609 + 56*x^5608 + 113*x^5607 + 71*x^5606 + 90*x^5605 + 116*x^5604 + 65*x^5603 + 46*x^5602 + 45*x^5601 + 90*x^5600 + 34*x^5599 + 122*x^5598 + 7*x^5597 + 117*x^5596 + 40*x^5595 + 58*x^5594 + 112*x^5593 + 52*x^5592 + 39*x^5591 + 26*x^5590 + 4*x^5589 + 73*x^5588 + x^5587 + 43*x^5586 + 96*x^5585 + 53*x^5584 + 27*x^5583 + 9*x^5582 + 102*x^5581 + 116*x^5580 + 25*x^5579 + 5*x^5578 + x^5577 + 106*x^5576 + 70*x^5575 + 50*x^5574 + 90*x^5573 + 19*x^5572 + 9*x^5571 + 39*x^5570 + 90*x^5569 + 64*x^5568 + 105*x^5567 + 49*x^5566 + 39*x^5565 + 23*x^5564 + 80*x^5563 + 34*x^5562 + 66*x^5561 + 15*x^5560 + 29*x^5559 + 60*x^5558 + 83*x^5557 + 86*x^5556 + 76*x^5555 + 86*x^5554 + 42*x^5553 + 83*x^5552 + 102*x^5551 + 116*x^5550 + 35*x^5549 + 115*x^5548 + 11*x^5547 + 33*x^5546 + 79*x^5545 + 122*x^5544 + 68*x^5543 + 24*x^5542 + 49*x^5540 + 112*x^5539 + 80*x^5538 + 102*x^5537 + 4*x^5536 + 52*x^5534 + 123*x^5533 + 101*x^5532 + 20*x^5531 + 53*x^5530 + 34*x^5529 + 4*x^5528 + 121*x^5527 + 89*x^5526 + 53*x^5525 + 102*x^5524 + 110*x^5523 + 88*x^5522 + 35*x^5521 + 103*x^5520 + 75*x^5519 + 58*x^5518 + 45*x^5517 + 12*x^5516 + 113*x^5515 + 47*x^5514 + 13*x^5513 + 92*x^5512 + 98*x^5511 + 105*x^5510 + 97*x^5509 + 44*x^5508 + 112*x^5507 + 109*x^5506 + 119*x^5505 + 104*x^5504 + 6*x^5503 + 20*x^5502 + 14*x^5501 + 16*x^5500 + 5*x^5499 + 8*x^5498 + 18*x^5497 + 78*x^5496 + 81*x^5495 + 115*x^5494 + 75*x^5493 + 65*x^5492 + 61*x^5491 + 89*x^5490 + 126*x^5489 + 111*x^5488 + 123*x^5487 + 125*x^5486 + 29*x^5485 + 27*x^5484 + 14*x^5483 + 51*x^5482 + 20*x^5481 + 65*x^5480 + 87*x^5479 + 76*x^5478 + 10*x^5477 + 86*x^5476 + 41*x^5475 + 14*x^5474 + 20*x^5473 + 74*x^5472 + 110*x^5471 + 76*x^5470 + 30*x^5469 + 5*x^5468 + 74*x^5467 + 62*x^5466 + 35*x^5465 + 59*x^5464 + 33*x^5463 + 104*x^5462 + 102*x^5461 + 124*x^5460 + 31*x^5459 + 120*x^5458 + 35*x^5457 + 96*x^5456 + 82*x^5455 + 100*x^5454 + 57*x^5453 + 27*x^5452 + 88*x^5451 + 101*x^5450 + 111*x^5449 + 118*x^5448 + 103*x^5447 + 110*x^5446 + 29*x^5445 + 23*x^5444 + 14*x^5443 + 31*x^5442 + 126*x^5441 + 16*x^5440 + 21*x^5439 + 116*x^5438 + 97*x^5437 + 40*x^5436 + 38*x^5435 + 72*x^5434 + 3*x^5433 + 126*x^5432 + 57*x^5431 + 6*x^5430 + 68*x^5429 + 29*x^5428 + 105*x^5427 + 86*x^5426 + 92*x^5424 + 15*x^5423 + 83*x^5422 + 73*x^5421 + 45*x^5420 + 68*x^5419 + 112*x^5418 + 105*x^5417 + 114*x^5416 + 21*x^5415 + 6*x^5414 + 105*x^5413 + 33*x^5412 + 30*x^5411 + 38*x^5410 + 35*x^5409 + 20*x^5408 + 79*x^5407 + 60*x^5406 + 44*x^5405 + 75*x^5404 + 48*x^5403 + 93*x^5402 + 20*x^5401 + 4*x^5400 + 28*x^5399 + 30*x^5398 + 66*x^5397 + 96*x^5396 + 87*x^5395 + 73*x^5394 + 53*x^5393 + 15*x^5392 + 30*x^5391 + 79*x^5390 + 21*x^5389 + 71*x^5388 + 46*x^5387 + 90*x^5386 + 3*x^5385 + 80*x^5384 + 123*x^5383 + 15*x^5382 + 83*x^5381 + 124*x^5380 + 75*x^5379 + 117*x^5378 + 86*x^5377 + 74*x^5376 + 51*x^5375 + 62*x^5374 + 120*x^5373 + 51*x^5372 + 43*x^5371 + 60*x^5370 + 45*x^5369 + 59*x^5368 + 76*x^5367 + 105*x^5366 + 113*x^5365 + 4*x^5364 + 54*x^5363 + x^5362 + 59*x^5361 + 96*x^5360 + 6*x^5359 + 61*x^5358 + 86*x^5357 + 81*x^5356 + 74*x^5355 + 55*x^5354 + 48*x^5353 + 62*x^5352 + 13*x^5351 + 9*x^5350 + 102*x^5349 + 19*x^5348 + 124*x^5347 + 28*x^5346 + 69*x^5345 + 26*x^5344 + 83*x^5343 + 100*x^5342 + 15*x^5341 + 19*x^5340 + 97*x^5339 + 123*x^5338 + 61*x^5337 + 27*x^5336 + 90*x^5335 + 49*x^5334 + 53*x^5333 + 64*x^5332 + x^5331 + 38*x^5330 + 126*x^5329 + 68*x^5328 + 88*x^5327 + 126*x^5326 + 59*x^5325 + 72*x^5324 + 94*x^5323 + x^5322 + 28*x^5321 + 25*x^5320 + 29*x^5319 + 126*x^5318 + 73*x^5317 + 116*x^5316 + 23*x^5315 + 62*x^5314 + 124*x^5313 + 126*x^5312 + 11*x^5311 + 6*x^5310 + 33*x^5309 + 65*x^5308 + 36*x^5307 + 52*x^5306 + 71*x^5305 + 100*x^5304 + 13*x^5303 + 125*x^5302 + 47*x^5301 + 58*x^5300 + 28*x^5299 + 22*x^5298 + 29*x^5297 + 102*x^5296 + 46*x^5295 + 48*x^5294 + 95*x^5293 + 89*x^5292 + 10*x^5291 + 21*x^5290 + 35*x^5289 + 38*x^5288 + 67*x^5287 + 68*x^5286 + 8*x^5285 + 38*x^5284 + 26*x^5283 + 53*x^5282 + 50*x^5281 + 119*x^5280 + 70*x^5279 + 34*x^5278 + 31*x^5277 + 100*x^5276 + 5*x^5275 + 112*x^5274 + 30*x^5273 + 122*x^5272 + 120*x^5271 + 19*x^5270 + 20*x^5269 + 60*x^5268 + 51*x^5267 + 110*x^5266 + 98*x^5265 + 73*x^5264 + 114*x^5263 + 81*x^5262 + 34*x^5261 + 98*x^5260 + 120*x^5259 + 45*x^5258 + 99*x^5257 + 2*x^5256 + x^5255 + 28*x^5254 + 93*x^5253 + 27*x^5252 + 114*x^5251 + 86*x^5250 + 119*x^5249 + 94*x^5248 + 37*x^5247 + 90*x^5246 + 108*x^5245 + 66*x^5244 + 85*x^5243 + 118*x^5242 + 31*x^5241 + 55*x^5240 + 40*x^5239 + 118*x^5238 + 112*x^5237 + 14*x^5236 + 116*x^5235 + 112*x^5234 + 122*x^5233 + 96*x^5232 + 102*x^5231 + 38*x^5230 + 39*x^5229 + 60*x^5228 + 24*x^5227 + 29*x^5226 + 23*x^5225 + 49*x^5224 + 109*x^5223 + 96*x^5222 + 21*x^5221 + 54*x^5220 + 70*x^5219 + 52*x^5218 + 113*x^5217 + 105*x^5216 + 75*x^5215 + 54*x^5214 + 23*x^5213 + 66*x^5212 + 10*x^5211 + 107*x^5210 + 121*x^5209 + 49*x^5208 + 110*x^5207 + 14*x^5206 + 122*x^5205 + 107*x^5204 + 17*x^5203 + 105*x^5202 + 123*x^5201 + 123*x^5200 + x^5199 + 68*x^5198 + 38*x^5197 + 83*x^5196 + 21*x^5195 + 9*x^5194 + 112*x^5193 + 102*x^5192 + 6*x^5191 + 26*x^5190 + 114*x^5189 + 49*x^5188 + 106*x^5187 + 66*x^5186 + 104*x^5185 + 103*x^5184 + 54*x^5183 + 51*x^5182 + 110*x^5181 + 124*x^5180 + 106*x^5179 + 17*x^5178 + 89*x^5177 + 19*x^5176 + 2*x^5175 + 6*x^5174 + 93*x^5173 + 19*x^5172 + 55*x^5171 + 41*x^5170 + 17*x^5169 + 125*x^5168 + 48*x^5167 + 18*x^5166 + 117*x^5165 + 77*x^5164 + 74*x^5163 + 79*x^5162 + 38*x^5161 + 91*x^5160 + 66*x^5159 + 57*x^5158 + 48*x^5157 + 49*x^5156 + 58*x^5155 + 32*x^5154 + 41*x^5153 + 31*x^5152 + 121*x^5151 + 107*x^5150 + 5*x^5149 + 110*x^5148 + 27*x^5147 + 4*x^5146 + 99*x^5145 + 44*x^5144 + 74*x^5143 + 34*x^5142 + x^5141 + 114*x^5140 + 112*x^5139 + 31*x^5138 + 24*x^5137 + 110*x^5136 + 126*x^5135 + 31*x^5134 + 15*x^5133 + 42*x^5132 + 53*x^5131 + 65*x^5130 + 5*x^5129 + 31*x^5128 + 112*x^5127 + 93*x^5126 + 111*x^5125 + 121*x^5124 + 38*x^5123 + 120*x^5122 + 95*x^5121 + 89*x^5120 + 67*x^5119 + 51*x^5118 + 89*x^5117 + 45*x^5116 + 3*x^5115 + 5*x^5114 + 13*x^5113 + 102*x^5112 + 95*x^5111 + 107*x^5110 + 100*x^5109 + 32*x^5108 + 118*x^5107 + 10*x^5106 + 93*x^5105 + 28*x^5104 + 35*x^5103 + 14*x^5102 + 120*x^5101 + 15*x^5100 + 79*x^5099 + x^5098 + 24*x^5097 + 29*x^5096 + 112*x^5095 + 50*x^5094 + 71*x^5093 + 17*x^5092 + 8*x^5091 + 22*x^5090 + 72*x^5089 + 118*x^5088 + 19*x^5087 + 15*x^5086 + 81*x^5085 + 59*x^5084 + 106*x^5083 + 122*x^5082 + 16*x^5081 + 79*x^5080 + 94*x^5079 + 37*x^5078 + 39*x^5077 + 27*x^5076 + 40*x^5075 + 11*x^5074 + 87*x^5073 + 67*x^5072 + 115*x^5071 + 13*x^5070 + 104*x^5069 + 71*x^5068 + 10*x^5067 + 9*x^5066 + 22*x^5065 + 16*x^5064 + 55*x^5063 + 70*x^5062 + 11*x^5061 + 35*x^5060 + 88*x^5059 + 22*x^5058 + 83*x^5057 + 87*x^5056 + 22*x^5055 + 108*x^5054 + 86*x^5053 + 83*x^5052 + 46*x^5051 + 68*x^5050 + 106*x^5049 + 85*x^5048 + 11*x^5047 + 38*x^5046 + x^5045 + 87*x^5044 + 76*x^5043 + 121*x^5042 + 93*x^5041 + 6*x^5040 + 73*x^5039 + 31*x^5038 + 33*x^5037 + 5*x^5036 + 105*x^5035 + 32*x^5034 + 102*x^5033 + 60*x^5032 + 26*x^5031 + 49*x^5030 + 19*x^5029 + 88*x^5028 + 45*x^5027 + 105*x^5026 + 30*x^5025 + 28*x^5024 + 90*x^5023 + 14*x^5022 + 16*x^5021 + 34*x^5020 + 57*x^5019 + 72*x^5018 + 18*x^5017 + 27*x^5016 + 73*x^5015 + 38*x^5014 + 72*x^5013 + 82*x^5012 + 28*x^5011 + 31*x^5010 + 30*x^5009 + 23*x^5008 + 13*x^5007 + 45*x^5006 + 55*x^5005 + 36*x^5004 + 63*x^5003 + 114*x^5002 + 62*x^5001 + 101*x^5000 + 32*x^4999 + 5*x^4998 + 65*x^4997 + 98*x^4996 + 72*x^4995 + 74*x^4994 + 90*x^4993 + 121*x^4992 + 119*x^4991 + 46*x^4990 + 53*x^4989 + 97*x^4988 + 8*x^4987 + 37*x^4986 + 121*x^4985 + 23*x^4984 + 32*x^4983 + 108*x^4982 + 91*x^4981 + 57*x^4980 + 32*x^4979 + 106*x^4978 + 46*x^4977 + 61*x^4976 + 115*x^4975 + 103*x^4974 + 31*x^4973 + 55*x^4972 + 6*x^4971 + 79*x^4970 + 82*x^4968 + 100*x^4967 + 81*x^4966 + 13*x^4965 + 8*x^4964 + 47*x^4963 + 19*x^4962 + 21*x^4961 + 73*x^4960 + 28*x^4959 + 4*x^4958 + 37*x^4957 + 90*x^4956 + 62*x^4954 + 73*x^4953 + 121*x^4952 + 103*x^4951 + 53*x^4950 + 92*x^4949 + 23*x^4948 + 112*x^4947 + 11*x^4946 + 21*x^4945 + 108*x^4944 + 55*x^4943 + 83*x^4942 + 81*x^4941 + 102*x^4940 + 71*x^4939 + 30*x^4938 + 90*x^4937 + 66*x^4936 + 64*x^4935 + 60*x^4934 + 32*x^4933 + 21*x^4932 + 34*x^4931 + 13*x^4929 + 27*x^4928 + 101*x^4927 + 103*x^4926 + 47*x^4925 + 80*x^4924 + 44*x^4923 + 95*x^4922 + 109*x^4921 + 100*x^4920 + 64*x^4919 + 69*x^4918 + 76*x^4917 + 38*x^4916 + 31*x^4915 + 17*x^4914 + 38*x^4913 + 9*x^4912 + 13*x^4911 + 80*x^4910 + 42*x^4909 + 98*x^4908 + 74*x^4907 + 90*x^4906 + 75*x^4905 + 37*x^4904 + 56*x^4903 + 22*x^4902 + 119*x^4901 + 29*x^4900 + 8*x^4899 + 82*x^4898 + 103*x^4897 + 42*x^4896 + 31*x^4895 + 123*x^4894 + 30*x^4893 + 52*x^4892 + 114*x^4891 + 115*x^4890 + 31*x^4889 + 47*x^4888 + 65*x^4887 + 73*x^4886 + 56*x^4885 + 102*x^4884 + 77*x^4883 + 43*x^4882 + 31*x^4881 + 72*x^4880 + 48*x^4879 + 120*x^4878 + 68*x^4877 + 110*x^4876 + 100*x^4875 + 28*x^4874 + 12*x^4873 + 13*x^4872 + 82*x^4871 + 88*x^4870 + x^4869 + 85*x^4868 + 35*x^4867 + 60*x^4866 + 73*x^4865 + 104*x^4864 + 51*x^4863 + 121*x^4862 + 36*x^4861 + 20*x^4860 + 54*x^4859 + 115*x^4858 + 37*x^4857 + 29*x^4856 + 56*x^4855 + 82*x^4854 + 35*x^4853 + 53*x^4852 + 30*x^4851 + 98*x^4850 + 118*x^4849 + 13*x^4848 + 85*x^4847 + 81*x^4846 + 10*x^4845 + 35*x^4844 + 94*x^4843 + 49*x^4842 + 3*x^4841 + 111*x^4840 + 52*x^4839 + 67*x^4838 + 51*x^4837 + 28*x^4836 + 102*x^4835 + 37*x^4834 + 74*x^4833 + 19*x^4832 + 116*x^4831 + 101*x^4830 + 45*x^4829 + 92*x^4828 + 17*x^4827 + 18*x^4826 + 123*x^4825 + 122*x^4824 + 35*x^4823 + 42*x^4822 + 80*x^4821 + 111*x^4820 + 109*x^4819 + 89*x^4818 + 126*x^4817 + 62*x^4816 + 29*x^4815 + 118*x^4814 + 32*x^4813 + 86*x^4812 + 103*x^4811 + 4*x^4810 + 4*x^4809 + 13*x^4808 + 86*x^4807 + 31*x^4806 + 65*x^4805 + 114*x^4804 + 31*x^4803 + 95*x^4802 + 48*x^4801 + 107*x^4800 + 90*x^4799 + 10*x^4798 + 19*x^4797 + 55*x^4796 + 31*x^4795 + 57*x^4794 + 106*x^4793 + 51*x^4792 + 109*x^4791 + 58*x^4790 + 111*x^4789 + 12*x^4788 + 116*x^4787 + 33*x^4786 + 24*x^4785 + 32*x^4784 + 68*x^4783 + 116*x^4782 + 106*x^4781 + 79*x^4780 + 52*x^4779 + 86*x^4778 + 30*x^4777 + 110*x^4776 + 114*x^4775 + 73*x^4774 + 3*x^4773 + 42*x^4772 + 109*x^4771 + 120*x^4770 + 101*x^4769 + 11*x^4768 + 21*x^4767 + 15*x^4766 + 66*x^4765 + 20*x^4764 + 20*x^4763 + 27*x^4762 + 14*x^4761 + 102*x^4760 + 15*x^4759 + 10*x^4758 + 83*x^4757 + 69*x^4756 + 37*x^4755 + 12*x^4754 + 102*x^4753 + 33*x^4752 + 66*x^4751 + 38*x^4750 + 65*x^4749 + 78*x^4748 + 120*x^4747 + 11*x^4746 + 113*x^4745 + 14*x^4744 + 104*x^4743 + 121*x^4742 + 104*x^4741 + 89*x^4740 + x^4739 + 94*x^4738 + 106*x^4737 + 75*x^4736 + 52*x^4735 + 56*x^4734 + 14*x^4733 + 67*x^4732 + 79*x^4731 + 54*x^4730 + 40*x^4729 + 105*x^4728 + 66*x^4727 + x^4726 + 8*x^4725 + 97*x^4724 + 51*x^4723 + 31*x^4722 + 44*x^4721 + 54*x^4720 + 24*x^4719 + 84*x^4718 + 123*x^4717 + 57*x^4716 + 9*x^4715 + 101*x^4714 + 6*x^4713 + 78*x^4712 + 102*x^4711 + 38*x^4710 + 43*x^4709 + 61*x^4708 + 24*x^4707 + 96*x^4706 + 117*x^4705 + 18*x^4704 + 49*x^4703 + 4*x^4702 + 37*x^4701 + 121*x^4700 + 113*x^4699 + 76*x^4698 + 108*x^4697 + 91*x^4696 + 102*x^4695 + 31*x^4694 + 99*x^4693 + 15*x^4692 + 113*x^4691 + 96*x^4690 + 37*x^4689 + 109*x^4688 + 77*x^4687 + 61*x^4686 + 7*x^4685 + 23*x^4684 + 84*x^4683 + 64*x^4682 + 30*x^4681 + 88*x^4680 + 41*x^4679 + 19*x^4678 + 72*x^4677 + 6*x^4676 + 63*x^4675 + 117*x^4674 + 61*x^4673 + 121*x^4672 + 97*x^4671 + 71*x^4670 + 109*x^4669 + 18*x^4668 + 64*x^4667 + 110*x^4666 + 94*x^4665 + 16*x^4664 + 83*x^4663 + 24*x^4662 + 74*x^4661 + 69*x^4660 + 37*x^4659 + 121*x^4658 + 80*x^4657 + 113*x^4656 + 3*x^4655 + 82*x^4654 + 31*x^4653 + 123*x^4652 + 94*x^4651 + 10*x^4650 + 10*x^4649 + 50*x^4648 + 100*x^4647 + 84*x^4646 + 77*x^4645 + 118*x^4644 + 22*x^4643 + 51*x^4642 + 66*x^4641 + 119*x^4640 + 20*x^4639 + 82*x^4638 + 124*x^4637 + 90*x^4636 + 100*x^4635 + 85*x^4634 + 109*x^4633 + 33*x^4632 + 11*x^4631 + 66*x^4630 + x^4629 + 16*x^4628 + 107*x^4627 + 117*x^4626 + x^4625 + 15*x^4624 + 63*x^4623 + 114*x^4622 + 19*x^4621 + 13*x^4620 + 34*x^4619 + 101*x^4618 + 82*x^4617 + 7*x^4616 + 57*x^4615 + 35*x^4614 + x^4612 + 78*x^4611 + 68*x^4610 + 70*x^4609 + 81*x^4608 + 78*x^4607 + 50*x^4606 + 23*x^4605 + 41*x^4604 + 39*x^4603 + 7*x^4602 + 54*x^4601 + 35*x^4600 + 10*x^4599 + 88*x^4598 + 87*x^4597 + 122*x^4596 + 13*x^4595 + 12*x^4594 + 67*x^4593 + 120*x^4592 + 113*x^4591 + 88*x^4590 + 40*x^4589 + 73*x^4588 + 9*x^4587 + 125*x^4586 + 74*x^4585 + 93*x^4584 + 122*x^4583 + 18*x^4582 + 86*x^4581 + 125*x^4580 + 50*x^4579 + 20*x^4578 + 94*x^4577 + 113*x^4576 + 77*x^4575 + 91*x^4574 + 90*x^4573 + 55*x^4572 + 66*x^4571 + 66*x^4570 + 65*x^4569 + 89*x^4568 + 79*x^4567 + 27*x^4566 + 57*x^4565 + 80*x^4564 + 7*x^4563 + 78*x^4562 + 59*x^4561 + 71*x^4560 + 42*x^4559 + x^4558 + 57*x^4557 + 63*x^4556 + 108*x^4555 + 62*x^4554 + 9*x^4553 + 16*x^4552 + 58*x^4551 + 107*x^4550 + 79*x^4549 + 78*x^4548 + 108*x^4547 + 45*x^4546 + 65*x^4545 + 64*x^4544 + 91*x^4543 + 39*x^4542 + 65*x^4541 + 80*x^4540 + 34*x^4539 + 17*x^4538 + 123*x^4537 + 15*x^4536 + 88*x^4535 + 9*x^4534 + 87*x^4533 + 103*x^4532 + 104*x^4531 + 92*x^4530 + 33*x^4529 + 34*x^4528 + 19*x^4527 + 76*x^4526 + 94*x^4525 + 83*x^4524 + 24*x^4523 + 14*x^4522 + 7*x^4521 + 105*x^4520 + 23*x^4519 + 37*x^4518 + 18*x^4517 + 82*x^4516 + 87*x^4515 + 33*x^4514 + 105*x^4513 + 35*x^4512 + 120*x^4511 + 59*x^4510 + 121*x^4509 + 8*x^4508 + 55*x^4507 + 92*x^4506 + 30*x^4505 + 89*x^4504 + 64*x^4503 + 33*x^4502 + 29*x^4501 + 54*x^4500 + 60*x^4499 + 74*x^4498 + 26*x^4497 + 86*x^4496 + 65*x^4495 + 76*x^4494 + 111*x^4493 + 36*x^4492 + 62*x^4491 + 111*x^4490 + 15*x^4489 + 80*x^4488 + 36*x^4487 + 106*x^4486 + 34*x^4485 + 19*x^4484 + 23*x^4483 + 68*x^4482 + 99*x^4481 + 32*x^4480 + 81*x^4479 + 117*x^4478 + 7*x^4477 + 99*x^4476 + 41*x^4475 + 124*x^4474 + 101*x^4473 + 83*x^4472 + 38*x^4471 + 3*x^4470 + 126*x^4469 + 97*x^4468 + 65*x^4467 + 61*x^4466 + 48*x^4465 + 35*x^4464 + 40*x^4463 + 124*x^4462 + 45*x^4461 + 109*x^4460 + 51*x^4459 + 103*x^4458 + 21*x^4457 + 17*x^4456 + 103*x^4455 + 40*x^4454 + 30*x^4453 + 12*x^4452 + 115*x^4451 + 41*x^4450 + 80*x^4449 + 64*x^4448 + 116*x^4447 + 121*x^4446 + 106*x^4445 + 70*x^4444 + 102*x^4443 + 98*x^4442 + 77*x^4441 + 77*x^4440 + 51*x^4439 + 41*x^4438 + 116*x^4437 + 27*x^4436 + 124*x^4435 + 20*x^4434 + 47*x^4433 + 45*x^4432 + 105*x^4431 + 53*x^4430 + 123*x^4429 + 122*x^4428 + 122*x^4427 + 97*x^4426 + 122*x^4425 + 11*x^4424 + 62*x^4423 + 87*x^4422 + 126*x^4421 + 46*x^4420 + 32*x^4419 + 39*x^4418 + 68*x^4417 + 57*x^4416 + 55*x^4415 + 31*x^4414 + 123*x^4413 + 9*x^4412 + 55*x^4411 + 90*x^4410 + 60*x^4409 + 102*x^4408 + 91*x^4407 + 94*x^4406 + x^4405 + 35*x^4404 + 59*x^4403 + 7*x^4402 + 20*x^4401 + 37*x^4400 + 102*x^4399 + 69*x^4398 + 19*x^4397 + 126*x^4396 + 53*x^4395 + 57*x^4394 + 75*x^4393 + 38*x^4392 + 8*x^4391 + 119*x^4390 + 27*x^4389 + 80*x^4388 + 85*x^4387 + 63*x^4386 + 84*x^4385 + 112*x^4384 + 65*x^4383 + 92*x^4382 + 121*x^4381 + 43*x^4380 + 92*x^4379 + 88*x^4378 + 36*x^4377 + 107*x^4376 + 90*x^4375 + 15*x^4374 + 103*x^4373 + 75*x^4372 + 40*x^4371 + 117*x^4370 + 59*x^4369 + 94*x^4368 + 19*x^4367 + 125*x^4366 + 53*x^4365 + 34*x^4364 + 59*x^4363 + 45*x^4362 + 91*x^4361 + 62*x^4360 + 122*x^4359 + 38*x^4358 + 28*x^4357 + 78*x^4356 + 74*x^4355 + 59*x^4354 + 37*x^4353 + 68*x^4352 + 39*x^4351 + x^4350 + 6*x^4349 + 118*x^4348 + x^4347 + 68*x^4346 + 125*x^4345 + 59*x^4344 + 61*x^4343 + 51*x^4342 + 99*x^4341 + 75*x^4339 + 22*x^4338 + 87*x^4337 + 80*x^4336 + 100*x^4335 + 80*x^4334 + 28*x^4333 + 106*x^4332 + 94*x^4331 + 16*x^4330 + 48*x^4329 + 9*x^4328 + 97*x^4327 + 51*x^4326 + 96*x^4325 + 71*x^4324 + 33*x^4323 + 98*x^4322 + 51*x^4321 + 47*x^4320 + 59*x^4319 + 52*x^4318 + 81*x^4317 + 101*x^4316 + 4*x^4315 + 118*x^4314 + 18*x^4313 + 38*x^4312 + 97*x^4311 + 95*x^4310 + 102*x^4309 + 70*x^4308 + 23*x^4307 + 34*x^4306 + 117*x^4305 + 11*x^4304 + 34*x^4303 + 33*x^4302 + 57*x^4301 + 50*x^4300 + 27*x^4299 + 46*x^4298 + 3*x^4297 + 114*x^4296 + 93*x^4295 + 126*x^4294 + 73*x^4293 + 36*x^4292 + 38*x^4291 + 90*x^4290 + 89*x^4289 + 88*x^4288 + 76*x^4287 + 37*x^4286 + 105*x^4285 + 2*x^4284 + 125*x^4283 + 39*x^4282 + 54*x^4281 + 68*x^4280 + 99*x^4279 + 20*x^4278 + 85*x^4277 + 98*x^4276 + 18*x^4275 + 83*x^4274 + 43*x^4273 + 60*x^4272 + 44*x^4271 + 53*x^4270 + 16*x^4269 + 31*x^4268 + 27*x^4267 + 28*x^4266 + 39*x^4265 + 22*x^4264 + 8*x^4263 + 82*x^4262 + 42*x^4261 + 114*x^4260 + 103*x^4259 + 57*x^4258 + 44*x^4257 + 51*x^4256 + 78*x^4255 + 69*x^4254 + 8*x^4253 + 69*x^4252 + 74*x^4251 + 26*x^4250 + 8*x^4249 + 38*x^4248 + 109*x^4247 + 121*x^4246 + 13*x^4245 + 45*x^4244 + 6*x^4243 + 90*x^4242 + 116*x^4241 + 77*x^4240 + 2*x^4239 + 33*x^4238 + 40*x^4237 + 41*x^4236 + 58*x^4235 + 42*x^4233 + 21*x^4232 + 35*x^4231 + 26*x^4230 + 50*x^4229 + 32*x^4228 + 57*x^4227 + 86*x^4226 + 31*x^4225 + 74*x^4224 + 12*x^4223 + 43*x^4222 + 33*x^4221 + 113*x^4220 + 11*x^4219 + 101*x^4218 + 13*x^4217 + 108*x^4216 + 43*x^4215 + 37*x^4214 + 110*x^4213 + 106*x^4212 + 99*x^4211 + 100*x^4210 + 61*x^4209 + 106*x^4208 + 29*x^4207 + 38*x^4206 + 110*x^4205 + 102*x^4204 + 72*x^4203 + 5*x^4202 + 26*x^4201 + 58*x^4200 + 21*x^4199 + 62*x^4198 + 9*x^4197 + 21*x^4196 + 31*x^4195 + 111*x^4194 + 9*x^4193 + 74*x^4192 + 69*x^4191 + 13*x^4190 + 87*x^4189 + 25*x^4188 + 122*x^4187 + 34*x^4186 + 81*x^4185 + 88*x^4184 + 60*x^4183 + 46*x^4182 + 34*x^4181 + 5*x^4180 + 59*x^4179 + 63*x^4178 + 112*x^4177 + 126*x^4176 + 66*x^4175 + 93*x^4174 + 112*x^4173 + 17*x^4172 + 117*x^4171 + 7*x^4170 + 4*x^4169 + 20*x^4168 + 70*x^4167 + 89*x^4166 + 68*x^4165 + 61*x^4164 + 19*x^4163 + 91*x^4162 + 2*x^4161 + 26*x^4160 + 125*x^4159 + 87*x^4158 + 9*x^4157 + 122*x^4156 + 75*x^4155 + 30*x^4154 + 12*x^4153 + 98*x^4152 + 126*x^4151 + 115*x^4150 + 89*x^4149 + 45*x^4148 + 13*x^4147 + 7*x^4146 + 112*x^4145 + 24*x^4144 + 86*x^4143 + 102*x^4142 + 12*x^4141 + 118*x^4140 + 120*x^4139 + 91*x^4138 + 38*x^4137 + 118*x^4136 + 2*x^4135 + 100*x^4134 + 31*x^4133 + 11*x^4132 + 52*x^4131 + 71*x^4130 + 16*x^4129 + 112*x^4128 + 67*x^4127 + 66*x^4126 + 41*x^4125 + 8*x^4124 + 116*x^4123 + 79*x^4122 + 89*x^4121 + 83*x^4120 + 38*x^4119 + 124*x^4118 + 39*x^4117 + 16*x^4116 + 125*x^4115 + 69*x^4114 + 98*x^4113 + 45*x^4112 + 48*x^4111 + 107*x^4110 + 91*x^4109 + 120*x^4108 + 17*x^4107 + 122*x^4106 + 39*x^4105 + 38*x^4104 + 54*x^4103 + 79*x^4102 + 66*x^4101 + 117*x^4100 + 96*x^4099 + 54*x^4098 + 53*x^4097 + 120*x^4096 + 60*x^4095 + 122*x^4094 + 114*x^4093 + 35*x^4092 + 75*x^4091 + 32*x^4090 + 57*x^4089 + 84*x^4088 + 112*x^4087 + 32*x^4086 + 116*x^4085 + 26*x^4084 + 83*x^4083 + 52*x^4082 + 121*x^4081 + 119*x^4080 + 13*x^4079 + 117*x^4078 + 85*x^4077 + 34*x^4076 + 24*x^4075 + 98*x^4074 + 118*x^4073 + 94*x^4072 + 85*x^4071 + 12*x^4070 + 29*x^4069 + 73*x^4068 + 27*x^4067 + 49*x^4066 + 39*x^4065 + 93*x^4064 + 8*x^4063 + 106*x^4062 + 55*x^4061 + 20*x^4060 + 104*x^4059 + 8*x^4058 + 20*x^4057 + 13*x^4056 + 64*x^4055 + 12*x^4054 + 78*x^4053 + 118*x^4052 + 20*x^4051 + 60*x^4050 + 4*x^4049 + 42*x^4048 + 91*x^4047 + 36*x^4046 + 101*x^4045 + 86*x^4044 + 22*x^4043 + 72*x^4042 + 101*x^4041 + 94*x^4040 + 71*x^4039 + 86*x^4038 + 107*x^4037 + 62*x^4036 + 53*x^4035 + 45*x^4034 + 19*x^4033 + 113*x^4032 + 122*x^4031 + 120*x^4030 + 41*x^4029 + 108*x^4028 + 82*x^4027 + 29*x^4026 + 45*x^4025 + 26*x^4024 + 14*x^4023 + 102*x^4022 + 41*x^4021 + 72*x^4020 + 23*x^4019 + 26*x^4018 + 10*x^4017 + 59*x^4016 + 111*x^4015 + 24*x^4014 + 2*x^4013 + 49*x^4012 + 62*x^4011 + 83*x^4010 + 126*x^4009 + 27*x^4008 + 5*x^4007 + 43*x^4006 + 92*x^4005 + 62*x^4004 + 51*x^4003 + 49*x^4002 + 31*x^4001 + 76*x^4000 + 93*x^3999 + 32*x^3998 + 67*x^3997 + 92*x^3996 + 110*x^3995 + 37*x^3994 + 75*x^3993 + 27*x^3992 + 28*x^3991 + 41*x^3990 + 52*x^3989 + 73*x^3988 + 92*x^3987 + 63*x^3986 + 95*x^3985 + 107*x^3984 + 49*x^3983 + 47*x^3982 + 3*x^3981 + 48*x^3980 + 25*x^3979 + 111*x^3978 + 75*x^3977 + 84*x^3976 + 47*x^3975 + 29*x^3974 + 15*x^3973 + 113*x^3972 + 54*x^3971 + 26*x^3970 + 35*x^3969 + 60*x^3968 + 58*x^3967 + 73*x^3966 + 64*x^3965 + 123*x^3964 + 63*x^3963 + 70*x^3962 + 59*x^3961 + 18*x^3960 + 42*x^3959 + 69*x^3958 + 63*x^3957 + 7*x^3956 + 37*x^3955 + 63*x^3954 + 91*x^3953 + 9*x^3952 + 34*x^3951 + 98*x^3950 + 36*x^3949 + 69*x^3948 + 41*x^3947 + 55*x^3946 + 125*x^3945 + 94*x^3944 + 115*x^3943 + 90*x^3942 + 33*x^3941 + 71*x^3940 + 38*x^3939 + 117*x^3938 + 50*x^3937 + 102*x^3936 + 113*x^3935 + 111*x^3934 + 61*x^3933 + 121*x^3932 + 29*x^3931 + 3*x^3930 + 49*x^3929 + 13*x^3928 + 90*x^3927 + 91*x^3926 + 99*x^3925 + 89*x^3924 + 83*x^3923 + 70*x^3922 + 51*x^3921 + 87*x^3920 + 21*x^3919 + 79*x^3918 + 102*x^3917 + 70*x^3916 + 88*x^3915 + 43*x^3914 + 79*x^3913 + 84*x^3912 + 70*x^3911 + 71*x^3910 + 111*x^3909 + 94*x^3908 + 28*x^3907 + 112*x^3906 + 114*x^3905 + 119*x^3904 + 28*x^3903 + 81*x^3902 + 72*x^3901 + 73*x^3900 + 111*x^3899 + 23*x^3898 + 38*x^3897 + 107*x^3896 + 16*x^3895 + 51*x^3894 + 24*x^3893 + 18*x^3892 + 5*x^3891 + 102*x^3890 + 86*x^3889 + 112*x^3888 + 34*x^3887 + 47*x^3886 + 26*x^3885 + 77*x^3884 + 49*x^3883 + 126*x^3882 + 81*x^3881 + 83*x^3880 + 35*x^3879 + 82*x^3878 + 118*x^3877 + 77*x^3876 + 49*x^3875 + 12*x^3874 + 12*x^3873 + 105*x^3872 + 79*x^3871 + 116*x^3870 + 122*x^3869 + 30*x^3868 + 51*x^3867 + 8*x^3866 + 121*x^3865 + 41*x^3864 + 43*x^3863 + 111*x^3862 + 37*x^3861 + 27*x^3860 + 22*x^3859 + 30*x^3858 + 21*x^3857 + 66*x^3856 + 58*x^3855 + 93*x^3854 + 102*x^3853 + 83*x^3852 + 52*x^3851 + 15*x^3850 + 80*x^3849 + 72*x^3848 + 97*x^3847 + 71*x^3846 + 51*x^3845 + 91*x^3844 + 89*x^3843 + 79*x^3842 + 125*x^3841 + 93*x^3840 + 8*x^3839 + 49*x^3838 + 97*x^3837 + 102*x^3836 + 113*x^3835 + 55*x^3834 + 92*x^3833 + 12*x^3832 + 103*x^3831 + 46*x^3830 + 102*x^3829 + 68*x^3828 + 56*x^3827 + 40*x^3826 + 85*x^3825 + 106*x^3824 + 100*x^3823 + 76*x^3822 + 15*x^3821 + 85*x^3820 + 31*x^3819 + 124*x^3818 + 45*x^3817 + 69*x^3816 + 95*x^3815 + 61*x^3814 + 19*x^3813 + 124*x^3812 + 77*x^3811 + 114*x^3810 + 125*x^3809 + 67*x^3808 + 95*x^3807 + 73*x^3806 + 28*x^3805 + 123*x^3804 + 83*x^3803 + 82*x^3802 + 107*x^3801 + 105*x^3800 + 45*x^3799 + 95*x^3798 + 111*x^3797 + 54*x^3796 + 101*x^3795 + 21*x^3794 + 56*x^3793 + 15*x^3792 + 96*x^3791 + 44*x^3790 + 93*x^3789 + 38*x^3788 + 18*x^3787 + 25*x^3786 + 126*x^3785 + 20*x^3784 + 47*x^3783 + 56*x^3782 + 113*x^3781 + 4*x^3780 + 94*x^3779 + 67*x^3778 + 53*x^3776 + 109*x^3775 + 14*x^3774 + 68*x^3773 + 113*x^3772 + 123*x^3771 + 58*x^3770 + 42*x^3769 + 124*x^3768 + 52*x^3767 + 110*x^3766 + 96*x^3765 + 86*x^3764 + 25*x^3763 + 103*x^3762 + 116*x^3761 + 79*x^3760 + 46*x^3759 + 78*x^3758 + 9*x^3757 + 91*x^3756 + 37*x^3755 + 56*x^3754 + 4*x^3753 + 71*x^3752 + 60*x^3751 + 125*x^3750 + 73*x^3749 + 54*x^3748 + 83*x^3747 + 48*x^3746 + 62*x^3745 + 20*x^3744 + 65*x^3743 + 47*x^3742 + 43*x^3741 + 53*x^3740 + 86*x^3739 + 87*x^3738 + 52*x^3737 + 40*x^3736 + 120*x^3735 + 115*x^3734 + 102*x^3733 + 124*x^3732 + 22*x^3730 + 56*x^3729 + 42*x^3728 + 69*x^3727 + 81*x^3726 + 31*x^3725 + 79*x^3724 + 23*x^3723 + 61*x^3722 + 57*x^3721 + 94*x^3720 + 7*x^3719 + 37*x^3718 + 47*x^3717 + 113*x^3716 + 104*x^3715 + x^3714 + 40*x^3713 + 113*x^3712 + 118*x^3711 + 64*x^3710 + 69*x^3709 + 70*x^3708 + 82*x^3707 + 30*x^3706 + 70*x^3705 + 97*x^3704 + 25*x^3703 + 100*x^3702 + 11*x^3701 + 22*x^3700 + 24*x^3699 + 91*x^3698 + 38*x^3697 + 67*x^3696 + 6*x^3695 + 84*x^3694 + 55*x^3693 + 41*x^3692 + 42*x^3691 + 28*x^3690 + 103*x^3689 + 77*x^3688 + 71*x^3687 + 90*x^3686 + 100*x^3685 + 62*x^3684 + 101*x^3683 + 6*x^3682 + 44*x^3681 + 15*x^3680 + 73*x^3679 + 97*x^3678 + 107*x^3677 + 46*x^3676 + 24*x^3675 + 82*x^3674 + 59*x^3673 + 91*x^3672 + 71*x^3671 + 114*x^3670 + 30*x^3669 + 105*x^3668 + 5*x^3667 + 97*x^3666 + 6*x^3665 + 104*x^3664 + 50*x^3663 + 112*x^3662 + 80*x^3661 + 47*x^3660 + 48*x^3659 + 120*x^3658 + 21*x^3657 + 18*x^3656 + 115*x^3655 + 72*x^3654 + 68*x^3653 + 56*x^3652 + 15*x^3651 + 54*x^3650 + 95*x^3649 + 2*x^3648 + 3*x^3647 + 16*x^3646 + 126*x^3645 + 33*x^3644 + 39*x^3643 + 123*x^3642 + 102*x^3641 + 74*x^3640 + 15*x^3639 + 13*x^3638 + 50*x^3637 + 86*x^3636 + 10*x^3635 + 22*x^3634 + 79*x^3633 + 76*x^3632 + 10*x^3631 + 78*x^3630 + 109*x^3629 + 5*x^3628 + 126*x^3627 + 106*x^3626 + 23*x^3625 + 64*x^3624 + 57*x^3623 + 80*x^3622 + 32*x^3621 + 13*x^3620 + 58*x^3619 + 23*x^3618 + 103*x^3617 + 66*x^3616 + 21*x^3615 + 9*x^3614 + 34*x^3613 + 64*x^3612 + 103*x^3611 + 12*x^3610 + 91*x^3609 + 3*x^3608 + 6*x^3607 + 7*x^3606 + 91*x^3605 + 71*x^3604 + 99*x^3603 + x^3602 + 55*x^3601 + 2*x^3600 + 67*x^3599 + 103*x^3598 + 87*x^3597 + 84*x^3596 + 65*x^3595 + 37*x^3594 + 11*x^3593 + 103*x^3592 + 10*x^3590 + 114*x^3589 + 113*x^3588 + 121*x^3587 + 8*x^3586 + 11*x^3585 + 113*x^3584 + 125*x^3583 + 14*x^3582 + 42*x^3581 + 74*x^3580 + 100*x^3579 + 108*x^3578 + 89*x^3577 + 102*x^3576 + 82*x^3575 + 7*x^3573 + 99*x^3572 + 125*x^3571 + 40*x^3570 + 115*x^3569 + 122*x^3568 + 111*x^3567 + 97*x^3566 + 57*x^3565 + 89*x^3564 + 106*x^3563 + 75*x^3562 + 4*x^3561 + 19*x^3560 + 106*x^3559 + 86*x^3558 + 85*x^3557 + 114*x^3556 + 70*x^3555 + 59*x^3554 + 50*x^3553 + 110*x^3552 + 43*x^3550 + 82*x^3549 + 56*x^3548 + 43*x^3547 + 110*x^3546 + 56*x^3545 + 31*x^3544 + 71*x^3543 + 118*x^3542 + 39*x^3541 + 97*x^3540 + 79*x^3539 + 103*x^3538 + 9*x^3537 + 27*x^3536 + 61*x^3535 + 97*x^3534 + 111*x^3533 + 2*x^3532 + 8*x^3531 + 70*x^3530 + 102*x^3529 + 126*x^3528 + 52*x^3527 + 116*x^3526 + 8*x^3525 + 13*x^3524 + 97*x^3523 + 110*x^3522 + 81*x^3521 + 89*x^3520 + 99*x^3519 + 25*x^3518 + 27*x^3517 + 62*x^3516 + 75*x^3515 + 22*x^3514 + 61*x^3513 + 56*x^3512 + 17*x^3511 + 95*x^3510 + 37*x^3509 + 107*x^3508 + 79*x^3507 + 3*x^3506 + 17*x^3505 + 49*x^3504 + 106*x^3503 + 55*x^3502 + 119*x^3501 + 39*x^3500 + 44*x^3499 + 98*x^3498 + 14*x^3497 + 50*x^3496 + 103*x^3495 + 125*x^3494 + 115*x^3493 + 49*x^3492 + 116*x^3491 + 102*x^3490 + 107*x^3489 + 50*x^3488 + 2*x^3487 + 39*x^3486 + 87*x^3485 + 90*x^3484 + 20*x^3483 + 105*x^3482 + 16*x^3481 + 126*x^3480 + 80*x^3479 + 61*x^3478 + 40*x^3477 + 56*x^3476 + 106*x^3475 + 72*x^3474 + 16*x^3473 + 69*x^3472 + 121*x^3471 + 124*x^3470 + 119*x^3469 + 117*x^3468 + 19*x^3467 + 111*x^3466 + 91*x^3465 + 4*x^3464 + 73*x^3463 + 2*x^3462 + 26*x^3461 + 122*x^3460 + 70*x^3459 + 100*x^3458 + 68*x^3457 + 11*x^3456 + 53*x^3455 + 9*x^3454 + 102*x^3453 + 97*x^3452 + 74*x^3451 + 23*x^3450 + 125*x^3449 + 57*x^3448 + 34*x^3447 + 34*x^3446 + 119*x^3445 + 116*x^3444 + 50*x^3443 + 103*x^3442 + 126*x^3441 + 38*x^3440 + 57*x^3439 + 84*x^3438 + 118*x^3437 + 13*x^3436 + 63*x^3435 + 80*x^3434 + 12*x^3433 + 100*x^3432 + 34*x^3431 + 47*x^3430 + 99*x^3429 + 73*x^3428 + 89*x^3427 + 63*x^3426 + 73*x^3425 + 100*x^3424 + 82*x^3423 + 76*x^3422 + 80*x^3421 + 84*x^3420 + 73*x^3418 + 4*x^3417 + 11*x^3416 + 90*x^3415 + 51*x^3414 + 93*x^3413 + 61*x^3412 + 89*x^3411 + 35*x^3410 + 81*x^3409 + 78*x^3408 + 39*x^3407 + 25*x^3406 + 24*x^3405 + 61*x^3404 + 96*x^3403 + 20*x^3402 + 54*x^3401 + 35*x^3400 + 11*x^3399 + 102*x^3398 + 77*x^3397 + 108*x^3396 + 29*x^3395 + 83*x^3394 + 46*x^3393 + 30*x^3392 + 77*x^3391 + 5*x^3390 + 89*x^3389 + 122*x^3388 + 14*x^3387 + 88*x^3386 + 64*x^3385 + 16*x^3384 + 50*x^3383 + 43*x^3382 + 64*x^3381 + 118*x^3380 + 37*x^3379 + 111*x^3378 + 107*x^3377 + 21*x^3376 + 98*x^3375 + 80*x^3374 + 77*x^3373 + 18*x^3372 + 100*x^3371 + 19*x^3370 + 76*x^3369 + 51*x^3368 + 52*x^3367 + 73*x^3366 + 70*x^3365 + 95*x^3364 + 111*x^3363 + 89*x^3362 + 98*x^3361 + 12*x^3360 + 95*x^3359 + 20*x^3358 + 70*x^3357 + 48*x^3356 + 19*x^3355 + 62*x^3354 + 115*x^3353 + 123*x^3352 + 51*x^3351 + 68*x^3350 + 63*x^3349 + 89*x^3348 + 55*x^3347 + 77*x^3346 + 41*x^3345 + 110*x^3344 + 71*x^3343 + 102*x^3342 + 98*x^3341 + 78*x^3340 + 85*x^3339 + 70*x^3338 + 75*x^3337 + 10*x^3336 + 30*x^3335 + 117*x^3334 + 82*x^3333 + 96*x^3332 + 78*x^3331 + 21*x^3330 + 89*x^3329 + 63*x^3328 + 56*x^3327 + 92*x^3326 + 84*x^3325 + 91*x^3324 + 89*x^3323 + 6*x^3322 + 56*x^3321 + 104*x^3320 + 115*x^3319 + 35*x^3318 + 102*x^3317 + 86*x^3316 + 120*x^3315 + 37*x^3314 + 31*x^3313 + 19*x^3312 + 77*x^3311 + 26*x^3310 + 114*x^3309 + 49*x^3308 + 11*x^3307 + 2*x^3306 + 82*x^3305 + 105*x^3304 + 52*x^3303 + 81*x^3302 + 7*x^3301 + 23*x^3300 + 98*x^3299 + 99*x^3298 + 98*x^3297 + 30*x^3296 + 89*x^3295 + 34*x^3294 + 92*x^3293 + 22*x^3292 + 63*x^3291 + 52*x^3290 + 8*x^3289 + 3*x^3288 + 87*x^3287 + 73*x^3286 + 106*x^3285 + 4*x^3284 + 18*x^3283 + 25*x^3282 + 20*x^3281 + 61*x^3280 + 81*x^3279 + 91*x^3278 + 81*x^3277 + 107*x^3276 + 31*x^3275 + 78*x^3274 + 108*x^3273 + 24*x^3272 + 121*x^3271 + 44*x^3270 + 94*x^3269 + 18*x^3268 + 34*x^3267 + 51*x^3266 + 63*x^3265 + 112*x^3264 + 29*x^3263 + 74*x^3262 + 70*x^3261 + 21*x^3260 + 25*x^3259 + 53*x^3258 + 125*x^3257 + 9*x^3256 + 18*x^3255 + 44*x^3254 + 70*x^3253 + 125*x^3252 + 107*x^3251 + 67*x^3250 + 24*x^3249 + 27*x^3248 + 39*x^3247 + 35*x^3246 + 97*x^3245 + 75*x^3244 + 32*x^3243 + 10*x^3242 + 55*x^3241 + 40*x^3240 + 19*x^3239 + 22*x^3238 + 94*x^3237 + 25*x^3236 + 115*x^3235 + 61*x^3234 + 108*x^3233 + 76*x^3232 + 35*x^3231 + 5*x^3230 + 25*x^3229 + 96*x^3228 + 7*x^3227 + 24*x^3226 + 65*x^3225 + 24*x^3224 + 14*x^3223 + 86*x^3222 + 110*x^3221 + 123*x^3220 + 12*x^3219 + 15*x^3218 + 106*x^3217 + 90*x^3216 + 37*x^3215 + 54*x^3214 + x^3213 + 64*x^3212 + 77*x^3211 + 47*x^3210 + 41*x^3209 + 68*x^3208 + 98*x^3207 + 26*x^3206 + 42*x^3205 + 108*x^3204 + 33*x^3203 + 125*x^3202 + 14*x^3201 + 52*x^3200 + 69*x^3199 + 67*x^3198 + 117*x^3197 + 41*x^3196 + 66*x^3195 + 119*x^3194 + 91*x^3193 + 104*x^3192 + 52*x^3191 + 84*x^3190 + 81*x^3189 + 86*x^3188 + 19*x^3187 + 98*x^3186 + 68*x^3185 + 91*x^3183 + 12*x^3182 + 35*x^3181 + 39*x^3180 + 112*x^3179 + 102*x^3178 + 117*x^3177 + 95*x^3176 + 17*x^3175 + 113*x^3174 + 95*x^3173 + 6*x^3172 + 20*x^3171 + 79*x^3170 + 101*x^3169 + 8*x^3168 + 88*x^3167 + 22*x^3166 + 54*x^3165 + 5*x^3164 + 103*x^3163 + 98*x^3162 + 67*x^3161 + 58*x^3160 + 117*x^3159 + 86*x^3158 + 105*x^3157 + 4*x^3156 + 121*x^3155 + 12*x^3154 + 23*x^3153 + 38*x^3152 + 98*x^3151 + 32*x^3150 + 35*x^3148 + 110*x^3147 + 95*x^3146 + 36*x^3145 + 113*x^3144 + 11*x^3143 + 70*x^3142 + 10*x^3141 + 125*x^3140 + 37*x^3139 + 17*x^3138 + 21*x^3137 + 27*x^3136 + 120*x^3135 + 125*x^3134 + 112*x^3133 + 68*x^3132 + 53*x^3131 + 92*x^3130 + 56*x^3129 + 3*x^3128 + 98*x^3127 + 36*x^3126 + 95*x^3125 + 47*x^3124 + 25*x^3123 + 23*x^3122 + 9*x^3121 + 4*x^3120 + 61*x^3119 + 124*x^3118 + 82*x^3117 + 55*x^3116 + 52*x^3115 + 66*x^3114 + 59*x^3113 + 43*x^3112 + 21*x^3111 + 2*x^3110 + 110*x^3109 + 89*x^3108 + 60*x^3107 + 106*x^3106 + 123*x^3105 + 54*x^3104 + 64*x^3103 + 96*x^3102 + 6*x^3100 + 92*x^3099 + 87*x^3098 + 62*x^3097 + 84*x^3096 + 112*x^3095 + 109*x^3094 + 8*x^3093 + 59*x^3092 + 122*x^3091 + 18*x^3090 + 76*x^3089 + 25*x^3088 + 97*x^3087 + 24*x^3086 + 33*x^3085 + 78*x^3084 + 20*x^3083 + 107*x^3082 + 108*x^3081 + 110*x^3080 + 101*x^3079 + 98*x^3078 + 108*x^3077 + 72*x^3076 + 42*x^3075 + 105*x^3074 + 107*x^3073 + 126*x^3072 + 56*x^3071 + 87*x^3070 + 77*x^3069 + 37*x^3068 + 3*x^3067 + 48*x^3066 + 126*x^3065 + 30*x^3064 + 108*x^3063 + 84*x^3062 + 113*x^3061 + 121*x^3060 + 73*x^3059 + 10*x^3058 + 25*x^3057 + 54*x^3056 + 105*x^3055 + 90*x^3054 + 91*x^3053 + 67*x^3052 + 87*x^3051 + 36*x^3050 + 62*x^3049 + 33*x^3048 + 75*x^3047 + 114*x^3046 + x^3045 + 55*x^3044 + 6*x^3043 + 70*x^3042 + 2*x^3041 + 28*x^3040 + 67*x^3039 + 62*x^3038 + 62*x^3037 + 99*x^3036 + 89*x^3035 + 57*x^3034 + 99*x^3033 + 27*x^3032 + 40*x^3031 + 9*x^3030 + 58*x^3029 + 2*x^3028 + 4*x^3027 + 120*x^3026 + 8*x^3025 + 108*x^3024 + 90*x^3023 + 67*x^3022 + 42*x^3021 + 35*x^3020 + 36*x^3019 + 48*x^3018 + 25*x^3017 + 102*x^3016 + 36*x^3015 + 95*x^3014 + 113*x^3013 + 58*x^3012 + 120*x^3011 + 8*x^3010 + x^3009 + 33*x^3008 + 25*x^3007 + 102*x^3006 + 43*x^3005 + 105*x^3004 + 125*x^3002 + 103*x^3001 + 47*x^3000 + 39*x^2999 + 119*x^2998 + 41*x^2997 + 56*x^2996 + 50*x^2995 + 126*x^2994 + 83*x^2993 + 125*x^2992 + 43*x^2991 + 90*x^2990 + 93*x^2989 + 43*x^2988 + 86*x^2987 + 29*x^2986 + 125*x^2985 + 84*x^2984 + 123*x^2983 + 119*x^2982 + 44*x^2981 + 22*x^2980 + 79*x^2979 + 56*x^2978 + 107*x^2977 + 111*x^2976 + 68*x^2975 + 5*x^2974 + 25*x^2973 + 124*x^2972 + 91*x^2971 + 74*x^2970 + 34*x^2969 + 40*x^2968 + 81*x^2967 + 112*x^2966 + 68*x^2965 + 34*x^2964 + 74*x^2963 + 81*x^2962 + 31*x^2961 + 104*x^2960 + 77*x^2959 + 56*x^2957 + 107*x^2956 + 4*x^2955 + 12*x^2954 + 107*x^2953 + 27*x^2952 + 61*x^2951 + 48*x^2950 + 67*x^2949 + 26*x^2948 + 78*x^2947 + 121*x^2946 + 21*x^2945 + 61*x^2944 + 111*x^2943 + 26*x^2942 + 49*x^2941 + 87*x^2940 + 123*x^2939 + 35*x^2938 + 68*x^2937 + 51*x^2936 + 86*x^2935 + 52*x^2934 + 50*x^2933 + 114*x^2932 + 113*x^2931 + 24*x^2930 + 73*x^2929 + 118*x^2928 + 102*x^2927 + 28*x^2926 + 89*x^2925 + 9*x^2924 + 38*x^2923 + 86*x^2922 + 121*x^2921 + 9*x^2920 + 52*x^2919 + 28*x^2918 + 102*x^2917 + 41*x^2916 + 54*x^2915 + 14*x^2914 + 54*x^2913 + 114*x^2912 + 3*x^2911 + 24*x^2910 + 116*x^2909 + 72*x^2908 + 60*x^2907 + 115*x^2906 + 12*x^2905 + 103*x^2904 + 106*x^2903 + 19*x^2902 + 60*x^2901 + 20*x^2900 + 55*x^2899 + 70*x^2898 + 118*x^2897 + 76*x^2896 + 19*x^2895 + 100*x^2894 + 111*x^2893 + 19*x^2892 + 106*x^2891 + 30*x^2890 + 101*x^2889 + 108*x^2888 + 80*x^2886 + 119*x^2885 + 91*x^2884 + 50*x^2883 + 36*x^2882 + 17*x^2881 + 51*x^2880 + 80*x^2879 + 74*x^2878 + 19*x^2877 + 35*x^2876 + 97*x^2875 + 126*x^2874 + 46*x^2873 + 20*x^2872 + 26*x^2871 + 34*x^2870 + 109*x^2869 + 70*x^2868 + 45*x^2867 + 63*x^2866 + 27*x^2865 + 94*x^2864 + 100*x^2863 + 74*x^2862 + 77*x^2861 + 100*x^2860 + 5*x^2859 + 54*x^2858 + 85*x^2857 + 101*x^2856 + 79*x^2855 + 77*x^2854 + 109*x^2853 + 125*x^2852 + 111*x^2851 + 13*x^2850 + 38*x^2849 + 58*x^2848 + 98*x^2847 + 2*x^2846 + 7*x^2845 + 111*x^2844 + 48*x^2843 + 95*x^2842 + 73*x^2841 + 20*x^2840 + 105*x^2839 + 104*x^2838 + 92*x^2837 + 9*x^2836 + 55*x^2835 + 91*x^2834 + 79*x^2833 + 11*x^2832 + 16*x^2831 + 99*x^2830 + 35*x^2829 + 29*x^2828 + 57*x^2827 + 5*x^2826 + 34*x^2825 + 83*x^2824 + 115*x^2823 + 113*x^2822 + 70*x^2821 + 4*x^2820 + 19*x^2819 + 23*x^2818 + 52*x^2817 + 82*x^2816 + 25*x^2815 + 93*x^2814 + 32*x^2813 + 81*x^2812 + 62*x^2811 + 10*x^2810 + 92*x^2809 + 35*x^2808 + 66*x^2807 + 77*x^2806 + 65*x^2805 + 91*x^2804 + 99*x^2803 + 27*x^2802 + 9*x^2801 + 59*x^2800 + 34*x^2799 + 79*x^2798 + 114*x^2797 + 37*x^2796 + 81*x^2795 + 31*x^2794 + 88*x^2793 + 4*x^2792 + 81*x^2791 + 73*x^2790 + 125*x^2789 + 26*x^2788 + 28*x^2787 + 66*x^2786 + 74*x^2785 + 40*x^2784 + 92*x^2783 + 48*x^2782 + 62*x^2781 + 69*x^2780 + 57*x^2779 + 18*x^2778 + 110*x^2777 + 108*x^2776 + 46*x^2775 + 112*x^2774 + 99*x^2773 + 21*x^2772 + 85*x^2771 + 41*x^2770 + 15*x^2769 + 115*x^2768 + 66*x^2767 + 74*x^2766 + 118*x^2765 + 59*x^2764 + 43*x^2763 + 67*x^2762 + 102*x^2761 + 64*x^2760 + 27*x^2759 + 46*x^2758 + 4*x^2757 + 116*x^2756 + 111*x^2755 + 59*x^2754 + 52*x^2753 + 112*x^2752 + 77*x^2751 + 54*x^2750 + 54*x^2749 + 72*x^2748 + 54*x^2747 + 40*x^2746 + 29*x^2745 + 15*x^2744 + 34*x^2743 + 13*x^2742 + 74*x^2741 + 88*x^2740 + 18*x^2739 + 27*x^2738 + 34*x^2737 + 110*x^2736 + 126*x^2735 + 118*x^2734 + 15*x^2733 + 10*x^2732 + 66*x^2731 + 100*x^2730 + 13*x^2729 + 13*x^2728 + 96*x^2727 + 97*x^2726 + 4*x^2725 + 89*x^2724 + 39*x^2723 + 10*x^2722 + 18*x^2721 + 76*x^2720 + 78*x^2719 + 51*x^2718 + 79*x^2717 + 22*x^2716 + 34*x^2715 + 11*x^2714 + 80*x^2713 + 30*x^2712 + 78*x^2711 + 26*x^2710 + 53*x^2709 + 96*x^2708 + 121*x^2707 + 5*x^2706 + 119*x^2705 + 104*x^2704 + 53*x^2703 + 100*x^2702 + 62*x^2701 + 26*x^2700 + 98*x^2699 + 58*x^2698 + 99*x^2697 + 6*x^2696 + 65*x^2695 + 113*x^2694 + 51*x^2693 + 48*x^2692 + 38*x^2691 + 83*x^2690 + 36*x^2689 + 40*x^2688 + 55*x^2687 + 94*x^2686 + 23*x^2685 + 26*x^2684 + 25*x^2683 + 38*x^2682 + 125*x^2680 + 112*x^2679 + 47*x^2678 + 123*x^2677 + 102*x^2676 + 50*x^2675 + 83*x^2674 + 94*x^2673 + 73*x^2672 + 19*x^2671 + 126*x^2670 + 113*x^2669 + 43*x^2668 + 98*x^2667 + 36*x^2666 + 28*x^2665 + 85*x^2664 + 89*x^2663 + 9*x^2662 + 123*x^2661 + 47*x^2660 + 90*x^2659 + 58*x^2658 + 125*x^2657 + 71*x^2656 + 77*x^2655 + 21*x^2654 + 35*x^2653 + 101*x^2652 + 70*x^2651 + 3*x^2650 + 31*x^2649 + 8*x^2648 + 51*x^2647 + 104*x^2646 + 112*x^2645 + 90*x^2644 + 18*x^2643 + 112*x^2642 + 85*x^2641 + 32*x^2640 + 31*x^2639 + 78*x^2638 + 24*x^2637 + 45*x^2636 + 95*x^2635 + 116*x^2634 + 35*x^2633 + 47*x^2632 + 100*x^2631 + 83*x^2630 + 96*x^2629 + 38*x^2628 + 57*x^2627 + 72*x^2626 + 62*x^2625 + 91*x^2624 + 86*x^2623 + 113*x^2622 + 52*x^2621 + 86*x^2620 + 119*x^2619 + 90*x^2618 + 96*x^2617 + 53*x^2616 + 38*x^2615 + 108*x^2614 + 48*x^2613 + 5*x^2612 + 48*x^2611 + 15*x^2610 + 76*x^2609 + 98*x^2608 + 22*x^2607 + 18*x^2606 + 68*x^2605 + 86*x^2604 + 95*x^2603 + 3*x^2602 + 52*x^2601 + 57*x^2600 + 7*x^2599 + 44*x^2598 + 104*x^2597 + 62*x^2596 + 119*x^2595 + 67*x^2594 + 90*x^2593 + 5*x^2592 + 97*x^2591 + 122*x^2590 + 77*x^2589 + 78*x^2588 + 116*x^2587 + 65*x^2586 + 56*x^2585 + 89*x^2584 + 110*x^2583 + 55*x^2582 + 58*x^2581 + 23*x^2580 + 76*x^2579 + 44*x^2578 + 89*x^2577 + 92*x^2576 + 123*x^2575 + 54*x^2574 + 88*x^2573 + 77*x^2572 + 106*x^2571 + 107*x^2570 + 10*x^2569 + 11*x^2568 + 55*x^2567 + 117*x^2566 + 18*x^2565 + 55*x^2564 + 90*x^2563 + 113*x^2562 + 23*x^2561 + 116*x^2560 + 85*x^2559 + 56*x^2558 + 11*x^2557 + 121*x^2556 + 54*x^2555 + 43*x^2554 + 89*x^2552 + 118*x^2551 + 31*x^2550 + 70*x^2549 + 95*x^2548 + 108*x^2547 + 54*x^2546 + 46*x^2545 + 73*x^2544 + 89*x^2543 + 120*x^2542 + 105*x^2541 + 95*x^2540 + 33*x^2539 + 126*x^2538 + 44*x^2537 + 3*x^2536 + 44*x^2535 + 18*x^2534 + 123*x^2533 + 100*x^2532 + 113*x^2531 + 15*x^2530 + 33*x^2529 + 8*x^2528 + 37*x^2527 + 76*x^2526 + x^2525 + 92*x^2524 + 56*x^2523 + 121*x^2522 + 107*x^2521 + 74*x^2520 + 74*x^2519 + 122*x^2518 + 35*x^2517 + 88*x^2516 + 125*x^2515 + 78*x^2514 + 31*x^2513 + 111*x^2512 + 13*x^2511 + 25*x^2510 + 106*x^2509 + 66*x^2508 + 80*x^2507 + 69*x^2506 + 18*x^2505 + 50*x^2504 + 84*x^2503 + 44*x^2502 + 28*x^2501 + 26*x^2500 + 113*x^2499 + 99*x^2498 + 106*x^2497 + 81*x^2496 + 13*x^2495 + 73*x^2494 + 5*x^2493 + 110*x^2492 + 21*x^2491 + x^2490 + 61*x^2489 + 116*x^2488 + 48*x^2487 + 27*x^2486 + 51*x^2485 + 79*x^2484 + 100*x^2483 + 56*x^2482 + 9*x^2481 + 87*x^2480 + 68*x^2479 + 102*x^2478 + 28*x^2477 + 90*x^2476 + 6*x^2475 + 17*x^2474 + 26*x^2473 + 81*x^2472 + 78*x^2471 + 35*x^2470 + 121*x^2469 + 79*x^2468 + 42*x^2467 + 124*x^2466 + 95*x^2465 + 46*x^2464 + 105*x^2463 + 96*x^2462 + 67*x^2461 + 16*x^2460 + 85*x^2459 + 53*x^2458 + 42*x^2457 + 93*x^2456 + 65*x^2455 + 105*x^2454 + 6*x^2453 + 36*x^2452 + 28*x^2451 + 77*x^2450 + 99*x^2449 + 72*x^2448 + 99*x^2447 + 54*x^2446 + 84*x^2445 + 79*x^2444 + 84*x^2443 + 106*x^2442 + 16*x^2441 + 10*x^2440 + 115*x^2439 + 21*x^2438 + 53*x^2437 + 110*x^2436 + 110*x^2435 + 101*x^2434 + 58*x^2433 + 6*x^2432 + 30*x^2431 + 66*x^2430 + 84*x^2429 + 50*x^2428 + 116*x^2427 + 40*x^2426 + 40*x^2425 + 117*x^2424 + 69*x^2423 + 5*x^2422 + 25*x^2421 + 108*x^2420 + 26*x^2419 + 20*x^2418 + 101*x^2417 + 40*x^2416 + 8*x^2415 + 82*x^2414 + 26*x^2413 + 30*x^2412 + 118*x^2411 + 11*x^2410 + 125*x^2409 + 8*x^2408 + 37*x^2407 + 116*x^2406 + 98*x^2405 + 72*x^2404 + 63*x^2403 + 50*x^2402 + 49*x^2401 + 105*x^2400 + 104*x^2399 + 14*x^2398 + 35*x^2397 + 45*x^2396 + 23*x^2395 + 65*x^2394 + 92*x^2393 + 61*x^2392 + 55*x^2391 + 9*x^2390 + 44*x^2389 + 33*x^2388 + 77*x^2387 + 2*x^2386 + 108*x^2385 + 120*x^2384 + 71*x^2383 + 95*x^2382 + 49*x^2381 + 45*x^2380 + 71*x^2379 + 44*x^2378 + 2*x^2377 + 47*x^2376 + 119*x^2375 + 4*x^2374 + 29*x^2372 + 124*x^2371 + 94*x^2370 + 102*x^2369 + 38*x^2368 + 117*x^2367 + 111*x^2366 + 113*x^2365 + 74*x^2364 + 38*x^2363 + 71*x^2362 + 99*x^2361 + 49*x^2360 + 27*x^2359 + 53*x^2358 + 98*x^2357 + 114*x^2356 + 83*x^2355 + 78*x^2353 + 19*x^2352 + 77*x^2351 + 13*x^2350 + 104*x^2349 + 47*x^2348 + 83*x^2347 + 87*x^2346 + 117*x^2345 + 125*x^2344 + 72*x^2343 + 35*x^2342 + 23*x^2341 + 45*x^2340 + 91*x^2339 + 49*x^2338 + 37*x^2337 + 42*x^2336 + 88*x^2335 + 56*x^2334 + 85*x^2333 + 42*x^2332 + 90*x^2331 + 78*x^2330 + 60*x^2329 + 8*x^2328 + 105*x^2327 + 92*x^2326 + 32*x^2325 + 82*x^2324 + 8*x^2323 + 35*x^2322 + 9*x^2321 + 61*x^2320 + 24*x^2319 + 104*x^2318 + 5*x^2317 + 67*x^2316 + 40*x^2315 + 36*x^2314 + 43*x^2313 + 7*x^2312 + 113*x^2311 + 105*x^2310 + 86*x^2309 + 60*x^2308 + 26*x^2307 + 91*x^2306 + 103*x^2305 + 74*x^2304 + 12*x^2303 + 29*x^2302 + 12*x^2301 + 55*x^2300 + 120*x^2299 + 95*x^2298 + 48*x^2297 + 63*x^2296 + 59*x^2295 + 2*x^2294 + 107*x^2293 + 24*x^2292 + 102*x^2291 + 53*x^2290 + 73*x^2289 + 37*x^2288 + 114*x^2287 + 86*x^2286 + 102*x^2285 + 74*x^2284 + 58*x^2283 + 49*x^2282 + 103*x^2281 + 35*x^2280 + 48*x^2279 + 85*x^2278 + 30*x^2277 + 11*x^2275 + 24*x^2274 + 2*x^2273 + 77*x^2272 + 115*x^2271 + 45*x^2270 + 23*x^2269 + 104*x^2268 + 35*x^2267 + 2*x^2266 + 54*x^2265 + 76*x^2264 + 23*x^2263 + 20*x^2262 + 56*x^2261 + 15*x^2260 + 46*x^2259 + 60*x^2258 + 51*x^2257 + 32*x^2256 + 58*x^2255 + 45*x^2254 + 2*x^2253 + 97*x^2252 + 113*x^2251 + 31*x^2250 + 118*x^2249 + 54*x^2248 + 65*x^2247 + 66*x^2246 + 6*x^2245 + 114*x^2244 + 30*x^2243 + 88*x^2242 + 18*x^2241 + 24*x^2240 + 78*x^2239 + 59*x^2238 + 75*x^2237 + 14*x^2236 + 72*x^2235 + 101*x^2234 + 89*x^2233 + 32*x^2232 + 98*x^2231 + 116*x^2230 + 97*x^2229 + 58*x^2228 + 20*x^2227 + 18*x^2226 + 108*x^2225 + 111*x^2224 + 53*x^2223 + 98*x^2222 + 34*x^2221 + 40*x^2220 + 8*x^2219 + 60*x^2218 + 126*x^2217 + 107*x^2216 + 58*x^2215 + 2*x^2214 + 5*x^2213 + 96*x^2212 + 63*x^2211 + 13*x^2210 + 84*x^2209 + 60*x^2208 + 119*x^2207 + 2*x^2206 + 14*x^2205 + 32*x^2204 + 70*x^2203 + 112*x^2202 + 63*x^2201 + 71*x^2200 + 10*x^2199 + 99*x^2198 + 33*x^2197 + 120*x^2196 + 117*x^2195 + 92*x^2194 + 96*x^2193 + 58*x^2192 + 37*x^2191 + 107*x^2190 + 34*x^2189 + 40*x^2188 + 126*x^2187 + 107*x^2186 + 48*x^2185 + 17*x^2184 + 67*x^2183 + 40*x^2182 + 17*x^2181 + 2*x^2180 + 117*x^2179 + 72*x^2178 + 76*x^2176 + 51*x^2175 + 71*x^2174 + 108*x^2173 + 82*x^2172 + 93*x^2171 + 90*x^2170 + 8*x^2169 + 19*x^2168 + 56*x^2167 + 3*x^2166 + 23*x^2165 + 12*x^2164 + 111*x^2163 + 77*x^2162 + 54*x^2161 + 76*x^2160 + 86*x^2159 + 116*x^2158 + 104*x^2157 + 26*x^2156 + 47*x^2155 + 26*x^2154 + 107*x^2153 + 86*x^2152 + 24*x^2151 + 112*x^2150 + 26*x^2149 + 107*x^2148 + 34*x^2147 + 28*x^2146 + 107*x^2145 + 111*x^2144 + 79*x^2143 + 13*x^2142 + 7*x^2141 + 14*x^2140 + 118*x^2139 + 42*x^2138 + 41*x^2137 + 13*x^2136 + 36*x^2135 + 55*x^2134 + 121*x^2133 + 14*x^2132 + 126*x^2131 + 9*x^2130 + 45*x^2129 + 53*x^2128 + 90*x^2127 + 21*x^2126 + 50*x^2125 + 119*x^2124 + 21*x^2123 + 9*x^2122 + 20*x^2121 + 53*x^2120 + 118*x^2119 + 81*x^2118 + 119*x^2117 + 50*x^2116 + 77*x^2115 + 58*x^2114 + 4*x^2113 + 104*x^2112 + 68*x^2111 + 111*x^2110 + 33*x^2109 + 42*x^2108 + 105*x^2107 + 38*x^2106 + 123*x^2105 + 101*x^2104 + 83*x^2103 + 60*x^2102 + 120*x^2101 + 93*x^2100 + 115*x^2099 + 93*x^2098 + 68*x^2097 + 23*x^2096 + 11*x^2095 + 74*x^2094 + 121*x^2093 + 67*x^2092 + 91*x^2091 + 52*x^2090 + 100*x^2089 + 49*x^2088 + 77*x^2087 + 77*x^2086 + 81*x^2085 + 87*x^2084 + 85*x^2083 + 81*x^2082 + 74*x^2081 + 17*x^2080 + 122*x^2079 + 108*x^2078 + 121*x^2077 + 69*x^2076 + 117*x^2075 + 86*x^2074 + 95*x^2073 + 96*x^2072 + 107*x^2071 + 46*x^2070 + 41*x^2069 + 26*x^2068 + 123*x^2067 + 14*x^2066 + 12*x^2065 + 42*x^2064 + 82*x^2063 + 80*x^2062 + 107*x^2061 + 45*x^2060 + 111*x^2059 + 45*x^2058 + 39*x^2057 + 15*x^2056 + 88*x^2055 + 54*x^2054 + 17*x^2053 + 47*x^2052 + 16*x^2051 + 27*x^2050 + 7*x^2049 + 56*x^2048 + 3*x^2047 + 104*x^2046 + 24*x^2045 + 40*x^2044 + 48*x^2043 + 13*x^2042 + 84*x^2041 + 56*x^2040 + 8*x^2039 + 103*x^2038 + 28*x^2037 + 35*x^2036 + 93*x^2035 + 49*x^2034 + 102*x^2032 + 93*x^2031 + 114*x^2030 + 116*x^2029 + 44*x^2028 + 121*x^2027 + 64*x^2026 + 77*x^2025 + 63*x^2024 + 91*x^2023 + 74*x^2022 + 116*x^2021 + 51*x^2020 + 52*x^2019 + 6*x^2018 + 34*x^2017 + 61*x^2016 + 101*x^2015 + 126*x^2014 + 26*x^2013 + 11*x^2012 + 26*x^2011 + 104*x^2010 + 86*x^2009 + 23*x^2008 + 38*x^2007 + 82*x^2006 + 90*x^2005 + 122*x^2004 + 62*x^2003 + 118*x^2002 + 82*x^2001 + 69*x^2000 + 2*x^1999 + 8*x^1998 + 20*x^1997 + 116*x^1996 + 43*x^1995 + 20*x^1994 + 6*x^1993 + 44*x^1992 + 3*x^1991 + 50*x^1990 + 108*x^1989 + 49*x^1988 + 44*x^1987 + 50*x^1986 + 28*x^1985 + 48*x^1984 + 65*x^1983 + 48*x^1982 + 105*x^1981 + 56*x^1980 + 17*x^1979 + 124*x^1978 + 71*x^1977 + 75*x^1976 + 48*x^1975 + 104*x^1974 + 33*x^1973 + 17*x^1972 + 5*x^1971 + 93*x^1970 + 121*x^1969 + 17*x^1968 + 35*x^1967 + 10*x^1966 + 34*x^1965 + 41*x^1964 + 62*x^1963 + 92*x^1962 + 30*x^1961 + 97*x^1960 + 35*x^1959 + 49*x^1958 + 24*x^1957 + 98*x^1956 + 99*x^1955 + 74*x^1954 + 66*x^1953 + 118*x^1952 + 101*x^1951 + 103*x^1950 + 30*x^1949 + 77*x^1948 + 96*x^1947 + 56*x^1946 + 124*x^1945 + 48*x^1944 + 98*x^1943 + 108*x^1942 + 121*x^1941 + 41*x^1940 + 116*x^1939 + 11*x^1938 + 45*x^1937 + 65*x^1936 + 7*x^1935 + 114*x^1934 + 19*x^1933 + 30*x^1932 + 59*x^1931 + 9*x^1930 + 104*x^1929 + 70*x^1928 + 8*x^1927 + 122*x^1926 + 15*x^1925 + 59*x^1924 + 109*x^1923 + 54*x^1922 + 89*x^1921 + 19*x^1920 + 67*x^1919 + 66*x^1918 + 121*x^1917 + 26*x^1916 + 114*x^1915 + 56*x^1914 + 107*x^1913 + 31*x^1912 + 95*x^1911 + 5*x^1910 + x^1909 + 120*x^1908 + 25*x^1907 + 107*x^1906 + 59*x^1905 + 36*x^1904 + 26*x^1903 + 106*x^1902 + 61*x^1901 + 83*x^1900 + 75*x^1899 + 83*x^1898 + 44*x^1897 + 44*x^1896 + 118*x^1895 + 109*x^1894 + 8*x^1893 + 104*x^1892 + 118*x^1891 + 80*x^1890 + 26*x^1889 + 30*x^1888 + 43*x^1887 + 93*x^1886 + 9*x^1885 + 59*x^1884 + 77*x^1883 + 45*x^1882 + 105*x^1881 + 99*x^1880 + 119*x^1879 + 82*x^1878 + 4*x^1877 + 37*x^1876 + 59*x^1875 + 123*x^1874 + 48*x^1873 + x^1872 + 41*x^1871 + 123*x^1870 + 56*x^1869 + 112*x^1868 + 84*x^1867 + 94*x^1866 + 3*x^1865 + 85*x^1864 + 31*x^1863 + 40*x^1862 + 74*x^1861 + 97*x^1860 + 8*x^1859 + 80*x^1858 + 46*x^1857 + 70*x^1856 + 91*x^1855 + 98*x^1854 + 117*x^1853 + 10*x^1852 + 116*x^1851 + 118*x^1850 + 23*x^1849 + 110*x^1848 + 40*x^1847 + 109*x^1846 + 110*x^1845 + 88*x^1844 + 13*x^1843 + 112*x^1842 + 20*x^1841 + 63*x^1840 + 42*x^1839 + 32*x^1838 + 73*x^1837 + 44*x^1836 + 126*x^1835 + 112*x^1834 + 85*x^1833 + 100*x^1832 + 119*x^1831 + 112*x^1830 + 18*x^1829 + 28*x^1828 + 58*x^1827 + 71*x^1826 + 5*x^1825 + 56*x^1824 + 108*x^1823 + 77*x^1822 + 60*x^1821 + 73*x^1820 + 41*x^1819 + 91*x^1818 + 11*x^1817 + 39*x^1816 + 107*x^1815 + 119*x^1814 + 7*x^1813 + 33*x^1812 + 121*x^1811 + 119*x^1810 + 84*x^1809 + 106*x^1808 + 68*x^1807 + 53*x^1806 + 19*x^1805 + 63*x^1804 + 99*x^1803 + 54*x^1802 + 69*x^1801 + 62*x^1800 + 108*x^1799 + 52*x^1798 + 64*x^1797 + 31*x^1796 + 28*x^1795 + 113*x^1794 + 37*x^1793 + 67*x^1792 + 26*x^1791 + 79*x^1790 + 29*x^1789 + 31*x^1788 + 6*x^1787 + 16*x^1786 + 114*x^1785 + 30*x^1784 + 90*x^1783 + 97*x^1782 + 45*x^1781 + 92*x^1780 + 52*x^1779 + 121*x^1778 + 30*x^1777 + 114*x^1776 + 9*x^1775 + 9*x^1774 + 73*x^1773 + 32*x^1772 + 103*x^1771 + 37*x^1770 + 102*x^1769 + 119*x^1768 + 96*x^1767 + 81*x^1766 + 82*x^1765 + 55*x^1764 + 122*x^1763 + 5*x^1762 + 73*x^1761 + 69*x^1760 + 63*x^1759 + 37*x^1758 + 52*x^1757 + 94*x^1756 + 37*x^1755 + 88*x^1754 + 25*x^1753 + 15*x^1752 + 62*x^1751 + 73*x^1750 + 119*x^1749 + 5*x^1748 + 120*x^1747 + 9*x^1746 + 121*x^1745 + 79*x^1744 + 105*x^1743 + 68*x^1742 + 23*x^1741 + 107*x^1740 + 64*x^1739 + 111*x^1738 + 31*x^1737 + 70*x^1736 + 64*x^1735 + 103*x^1734 + 30*x^1733 + x^1732 + 78*x^1731 + 45*x^1730 + 66*x^1729 + 15*x^1728 + 51*x^1727 + 65*x^1726 + 63*x^1725 + 69*x^1724 + 85*x^1723 + 10*x^1722 + 113*x^1721 + 49*x^1720 + 119*x^1719 + 55*x^1718 + 91*x^1717 + 70*x^1716 + 23*x^1715 + 8*x^1714 + 41*x^1713 + 2*x^1712 + 82*x^1711 + 10*x^1710 + 116*x^1709 + 13*x^1708 + 50*x^1707 + 70*x^1706 + 88*x^1705 + 79*x^1704 + 113*x^1703 + 9*x^1702 + 76*x^1701 + 115*x^1700 + 16*x^1699 + 89*x^1698 + 93*x^1697 + 72*x^1696 + 3*x^1695 + 3*x^1694 + 114*x^1693 + 75*x^1692 + 46*x^1691 + 74*x^1690 + 125*x^1689 + 99*x^1688 + 112*x^1687 + 105*x^1686 + 101*x^1685 + 120*x^1684 + 123*x^1683 + 25*x^1682 + 40*x^1681 + 86*x^1680 + 39*x^1679 + 5*x^1678 + 47*x^1677 + 66*x^1676 + 61*x^1675 + 98*x^1674 + 108*x^1673 + 116*x^1672 + 17*x^1671 + 111*x^1670 + 10*x^1669 + 107*x^1668 + 79*x^1667 + 91*x^1666 + 37*x^1665 + 78*x^1664 + 36*x^1663 + 12*x^1662 + 29*x^1661 + 84*x^1660 + 26*x^1659 + 102*x^1658 + 6*x^1657 + 49*x^1656 + 18*x^1655 + 102*x^1654 + 74*x^1653 + 46*x^1652 + 71*x^1651 + 7*x^1650 + 105*x^1649 + 87*x^1648 + 117*x^1647 + 34*x^1646 + 31*x^1645 + 32*x^1644 + 118*x^1643 + 120*x^1642 + 40*x^1641 + 47*x^1640 + 38*x^1639 + 36*x^1638 + 64*x^1637 + 54*x^1636 + 38*x^1635 + 61*x^1634 + 14*x^1633 + x^1632 + 12*x^1631 + 61*x^1630 + 9*x^1629 + 31*x^1628 + 91*x^1627 + 71*x^1626 + 70*x^1625 + 37*x^1624 + 93*x^1623 + 11*x^1622 + 69*x^1621 + x^1620 + 79*x^1619 + 54*x^1618 + 46*x^1617 + 6*x^1616 + 109*x^1615 + 2*x^1614 + 68*x^1613 + 67*x^1612 + 26*x^1611 + 37*x^1610 + 44*x^1609 + 123*x^1608 + 52*x^1607 + 74*x^1606 + 7*x^1605 + 8*x^1604 + 72*x^1603 + 48*x^1602 + 78*x^1601 + 116*x^1600 + 9*x^1599 + 85*x^1598 + 85*x^1597 + 116*x^1596 + 5*x^1595 + 24*x^1594 + 36*x^1593 + 70*x^1592 + 72*x^1591 + 62*x^1590 + 41*x^1589 + 115*x^1588 + 61*x^1587 + 81*x^1586 + 14*x^1585 + 66*x^1584 + 89*x^1583 + 46*x^1582 + 96*x^1581 + 16*x^1580 + 33*x^1579 + 58*x^1578 + 108*x^1577 + 103*x^1576 + 92*x^1575 + 81*x^1574 + 111*x^1573 + 98*x^1572 + 125*x^1571 + 98*x^1570 + 98*x^1569 + 40*x^1568 + 3*x^1567 + 30*x^1566 + 102*x^1565 + 40*x^1564 + 32*x^1563 + 53*x^1562 + 112*x^1561 + 30*x^1560 + 90*x^1559 + 78*x^1558 + 110*x^1557 + 85*x^1556 + 46*x^1555 + 56*x^1554 + 76*x^1553 + 97*x^1552 + 47*x^1551 + 109*x^1550 + 73*x^1549 + 46*x^1548 + 72*x^1547 + 100*x^1546 + 87*x^1545 + 45*x^1544 + 104*x^1543 + 98*x^1542 + 8*x^1541 + 56*x^1540 + 104*x^1539 + 126*x^1538 + 62*x^1537 + 28*x^1536 + 31*x^1535 + 109*x^1534 + 23*x^1533 + 21*x^1532 + 49*x^1531 + 75*x^1530 + 46*x^1529 + 82*x^1528 + 42*x^1527 + 122*x^1526 + 31*x^1525 + 20*x^1524 + 50*x^1523 + 113*x^1522 + 47*x^1521 + 81*x^1520 + 94*x^1519 + 100*x^1518 + 126*x^1517 + 78*x^1516 + x^1515 + 15*x^1514 + 111*x^1513 + 47*x^1512 + 8*x^1511 + 45*x^1510 + 104*x^1509 + 106*x^1508 + 73*x^1507 + 14*x^1506 + 25*x^1505 + 97*x^1504 + 25*x^1503 + 37*x^1502 + 109*x^1501 + 126*x^1500 + 12*x^1499 + 47*x^1498 + 70*x^1497 + 17*x^1496 + 70*x^1495 + 42*x^1494 + 10*x^1493 + 114*x^1492 + 16*x^1491 + 74*x^1490 + 47*x^1489 + 76*x^1488 + 17*x^1487 + 51*x^1486 + 79*x^1485 + 121*x^1484 + 8*x^1483 + 14*x^1482 + 101*x^1481 + 42*x^1480 + 77*x^1479 + 63*x^1478 + 63*x^1477 + 53*x^1476 + 19*x^1475 + 104*x^1474 + 101*x^1473 + 67*x^1472 + 108*x^1471 + 34*x^1470 + 58*x^1469 + 35*x^1468 + 118*x^1467 + 82*x^1466 + 36*x^1465 + 93*x^1464 + 110*x^1463 + 65*x^1462 + 95*x^1461 + 15*x^1460 + 50*x^1459 + 106*x^1458 + 28*x^1457 + 81*x^1456 + 113*x^1455 + 21*x^1454 + 36*x^1453 + 23*x^1452 + 62*x^1451 + 63*x^1450 + 31*x^1449 + 90*x^1448 + 76*x^1447 + 110*x^1446 + 16*x^1445 + 70*x^1444 + 123*x^1443 + 72*x^1442 + 48*x^1441 + 30*x^1440 + 55*x^1439 + 62*x^1438 + 57*x^1437 + 42*x^1436 + 18*x^1435 + 38*x^1434 + 40*x^1433 + 61*x^1432 + 83*x^1431 + 38*x^1430 + 45*x^1429 + 113*x^1428 + 43*x^1427 + 37*x^1426 + 97*x^1425 + 110*x^1424 + 105*x^1423 + 74*x^1422 + 117*x^1421 + 62*x^1420 + 47*x^1419 + 85*x^1418 + 87*x^1417 + 40*x^1416 + 41*x^1415 + 112*x^1414 + 77*x^1413 + 31*x^1412 + 77*x^1411 + 51*x^1410 + 64*x^1409 + 93*x^1408 + 103*x^1407 + 23*x^1406 + 79*x^1404 + 74*x^1403 + 97*x^1402 + 101*x^1401 + 39*x^1400 + 107*x^1399 + 67*x^1398 + 92*x^1397 + 121*x^1396 + 32*x^1395 + 20*x^1394 + 20*x^1393 + 116*x^1392 + 113*x^1391 + 100*x^1390 + 59*x^1389 + 89*x^1388 + 75*x^1387 + 59*x^1386 + 15*x^1385 + 26*x^1384 + 73*x^1383 + 124*x^1382 + 83*x^1381 + 4*x^1380 + 61*x^1379 + 20*x^1378 + 112*x^1377 + 74*x^1376 + 89*x^1375 + 65*x^1374 + 10*x^1373 + 124*x^1372 + 86*x^1371 + 20*x^1370 + 40*x^1369 + 117*x^1368 + 96*x^1367 + 30*x^1366 + 22*x^1365 + 119*x^1364 + 71*x^1363 + 125*x^1362 + 112*x^1361 + 20*x^1360 + 42*x^1359 + 96*x^1358 + 42*x^1357 + 3*x^1356 + 100*x^1355 + 51*x^1354 + 64*x^1353 + 53*x^1352 + x^1351 + 35*x^1350 + 85*x^1349 + 120*x^1348 + 124*x^1347 + 67*x^1346 + 51*x^1345 + 50*x^1344 + 95*x^1343 + 13*x^1342 + 39*x^1341 + 15*x^1340 + 88*x^1339 + 109*x^1338 + 68*x^1337 + 116*x^1336 + 22*x^1335 + 16*x^1334 + 17*x^1333 + 121*x^1332 + 43*x^1331 + 78*x^1330 + 100*x^1329 + 69*x^1328 + 98*x^1327 + 91*x^1326 + 15*x^1325 + 39*x^1324 + 51*x^1323 + 114*x^1322 + 78*x^1321 + 39*x^1320 + 52*x^1319 + 55*x^1318 + 125*x^1317 + 89*x^1316 + 90*x^1315 + 20*x^1314 + 88*x^1313 + 118*x^1312 + 104*x^1311 + 103*x^1310 + 117*x^1309 + 20*x^1308 + 54*x^1307 + 31*x^1306 + 66*x^1305 + 91*x^1304 + 87*x^1303 + 54*x^1302 + 46*x^1301 + 77*x^1300 + 26*x^1299 + 84*x^1298 + 19*x^1297 + 14*x^1296 + 7*x^1295 + 72*x^1294 + 75*x^1293 + 47*x^1292 + 78*x^1291 + 58*x^1290 + 118*x^1289 + x^1288 + 106*x^1287 + 61*x^1286 + 23*x^1285 + 38*x^1284 + 31*x^1283 + 119*x^1282 + 4*x^1281 + 98*x^1280 + 93*x^1279 + 83*x^1278 + 37*x^1277 + 78*x^1276 + 89*x^1275 + 34*x^1274 + 19*x^1273 + 46*x^1272 + 87*x^1271 + 49*x^1270 + 71*x^1269 + 47*x^1268 + 58*x^1267 + x^1266 + 81*x^1265 + 91*x^1264 + 80*x^1263 + 84*x^1262 + 27*x^1261 + 84*x^1260 + 42*x^1259 + 7*x^1258 + 55*x^1257 + 82*x^1256 + 47*x^1255 + 101*x^1254 + 31*x^1253 + 107*x^1252 + 121*x^1251 + 80*x^1250 + 13*x^1249 + 22*x^1248 + 22*x^1247 + 15*x^1246 + 47*x^1245 + 123*x^1244 + 115*x^1243 + 65*x^1242 + 42*x^1241 + 98*x^1240 + 29*x^1239 + 61*x^1238 + 104*x^1237 + 36*x^1236 + 122*x^1235 + 63*x^1234 + 118*x^1233 + 57*x^1232 + 119*x^1231 + 24*x^1230 + 17*x^1229 + 68*x^1228 + 44*x^1227 + 107*x^1226 + 124*x^1225 + 56*x^1224 + 31*x^1223 + 19*x^1222 + 117*x^1221 + 47*x^1220 + 117*x^1219 + 72*x^1218 + 2*x^1217 + 68*x^1216 + 71*x^1215 + 66*x^1214 + 117*x^1213 + 112*x^1212 + 123*x^1211 + 2*x^1210 + 101*x^1209 + 97*x^1208 + 9*x^1207 + 102*x^1206 + 81*x^1205 + 12*x^1204 + 25*x^1203 + 34*x^1202 + 75*x^1201 + 86*x^1200 + 36*x^1199 + 42*x^1198 + 77*x^1197 + 13*x^1196 + 86*x^1195 + 87*x^1194 + 16*x^1193 + 112*x^1192 + 125*x^1191 + 68*x^1190 + 18*x^1189 + 117*x^1188 + 51*x^1187 + 84*x^1186 + 16*x^1185 + 4*x^1184 + 24*x^1183 + 37*x^1182 + 5*x^1181 + 39*x^1180 + 22*x^1179 + 80*x^1178 + 36*x^1177 + 24*x^1176 + 48*x^1175 + 22*x^1174 + 41*x^1173 + 60*x^1172 + 120*x^1171 + 126*x^1170 + 49*x^1169 + 9*x^1168 + 40*x^1167 + 47*x^1166 + 83*x^1165 + 66*x^1164 + 9*x^1163 + 62*x^1162 + 84*x^1161 + 95*x^1160 + 26*x^1159 + 48*x^1158 + 31*x^1157 + 43*x^1156 + 85*x^1155 + 82*x^1154 + 57*x^1153 + 74*x^1152 + 32*x^1151 + 98*x^1150 + 7*x^1149 + 68*x^1148 + 110*x^1147 + 11*x^1146 + 39*x^1145 + 46*x^1144 + 55*x^1143 + 86*x^1142 + 52*x^1141 + 17*x^1140 + 19*x^1139 + 6*x^1138 + 38*x^1137 + 69*x^1136 + 51*x^1135 + 47*x^1133 + 31*x^1132 + 119*x^1131 + 46*x^1130 + 82*x^1129 + 49*x^1128 + 74*x^1127 + 78*x^1126 + 58*x^1125 + 113*x^1124 + 81*x^1123 + 108*x^1122 + 34*x^1121 + 31*x^1120 + 70*x^1119 + 12*x^1118 + 75*x^1117 + 62*x^1116 + 15*x^1115 + 91*x^1114 + 68*x^1113 + 38*x^1112 + 70*x^1111 + 112*x^1110 + 44*x^1109 + 90*x^1108 + 80*x^1107 + 40*x^1106 + 115*x^1105 + 10*x^1104 + 101*x^1103 + 11*x^1102 + 48*x^1101 + 61*x^1100 + 116*x^1099 + 94*x^1098 + 44*x^1097 + 113*x^1096 + 104*x^1095 + 27*x^1094 + 96*x^1093 + 62*x^1092 + 55*x^1091 + 29*x^1090 + 51*x^1089 + 96*x^1088 + 116*x^1087 + 71*x^1086 + 115*x^1085 + 79*x^1084 + 42*x^1083 + 121*x^1082 + 63*x^1081 + 6*x^1080 + 67*x^1079 + 41*x^1078 + 11*x^1077 + 56*x^1076 + 81*x^1075 + 16*x^1074 + 84*x^1073 + 30*x^1072 + 81*x^1071 + 10*x^1070 + 11*x^1068 + 29*x^1067 + 95*x^1066 + 18*x^1065 + 98*x^1064 + 68*x^1063 + 33*x^1062 + 116*x^1061 + 35*x^1060 + 52*x^1059 + 61*x^1058 + 112*x^1057 + 17*x^1056 + 115*x^1055 + 81*x^1054 + 81*x^1053 + 93*x^1052 + 111*x^1051 + 104*x^1050 + 22*x^1049 + 72*x^1047 + 125*x^1046 + 106*x^1045 + 122*x^1044 + 92*x^1043 + 22*x^1042 + 64*x^1041 + 62*x^1040 + 31*x^1039 + 108*x^1038 + 47*x^1037 + 95*x^1036 + 61*x^1035 + 41*x^1034 + 124*x^1033 + 92*x^1032 + 78*x^1031 + 104*x^1030 + 117*x^1029 + 104*x^1028 + 27*x^1027 + 2*x^1026 + 34*x^1025 + 115*x^1024 + 98*x^1023 + 114*x^1022 + 106*x^1021 + 30*x^1020 + 58*x^1019 + 7*x^1018 + 77*x^1017 + 107*x^1016 + 3*x^1015 + 123*x^1014 + 20*x^1013 + 47*x^1012 + 120*x^1011 + 2*x^1010 + 78*x^1009 + 21*x^1008 + 6*x^1007 + 6*x^1006 + 14*x^1005 + 76*x^1004 + 52*x^1003 + 126*x^1002 + 27*x^1001 + 5*x^1000 + 7*x^999 + 92*x^998 + 34*x^997 + 2*x^996 + 92*x^995 + 44*x^994 + 102*x^993 + 88*x^992 + 102*x^991 + 74*x^990 + 47*x^989 + 29*x^988 + 64*x^987 + 88*x^986 + 88*x^985 + 10*x^984 + 65*x^983 + 116*x^982 + 42*x^981 + 56*x^980 + 81*x^979 + 55*x^978 + 82*x^977 + 93*x^976 + 72*x^975 + 38*x^974 + 93*x^973 + 97*x^972 + 84*x^971 + 62*x^970 + 19*x^969 + 91*x^968 + 50*x^967 + 126*x^966 + 51*x^965 + 70*x^964 + 59*x^963 + 20*x^962 + 5*x^961 + 14*x^960 + 111*x^959 + 97*x^958 + 92*x^957 + 123*x^956 + 26*x^955 + 74*x^954 + 96*x^953 + 6*x^952 + 105*x^951 + 27*x^950 + 20*x^949 + 110*x^948 + 57*x^947 + 91*x^946 + 84*x^945 + 41*x^944 + 17*x^943 + 6*x^942 + 68*x^941 + 115*x^940 + 65*x^939 + 44*x^938 + 106*x^937 + 63*x^936 + 78*x^935 + 10*x^934 + 98*x^933 + 29*x^932 + 105*x^931 + 90*x^930 + 105*x^929 + x^928 + 55*x^927 + 90*x^926 + 33*x^925 + 104*x^924 + 4*x^923 + 91*x^922 + 25*x^921 + 86*x^920 + 26*x^919 + 100*x^918 + 122*x^917 + 93*x^916 + 83*x^915 + 23*x^914 + 19*x^913 + 29*x^912 + 36*x^911 + 43*x^910 + 36*x^909 + 55*x^908 + 49*x^907 + 120*x^906 + 45*x^905 + 44*x^904 + 30*x^903 + 94*x^902 + 73*x^901 + 83*x^900 + 13*x^899 + 86*x^898 + 89*x^897 + 120*x^896 + 36*x^894 + 94*x^893 + 42*x^892 + 121*x^891 + 71*x^890 + 59*x^889 + 79*x^888 + 24*x^887 + 54*x^886 + 75*x^885 + 19*x^884 + 82*x^883 + 105*x^882 + 45*x^881 + 96*x^880 + 43*x^879 + 21*x^878 + 8*x^877 + 34*x^876 + 105*x^875 + 121*x^874 + 2*x^873 + 55*x^872 + 56*x^871 + 37*x^870 + 74*x^869 + 32*x^868 + 60*x^867 + 96*x^866 + 52*x^865 + 13*x^864 + 124*x^863 + 7*x^862 + 37*x^861 + 77*x^860 + 41*x^859 + 71*x^858 + 104*x^857 + 92*x^856 + 28*x^855 + 13*x^854 + 124*x^853 + 70*x^852 + 65*x^851 + 5*x^850 + 33*x^849 + 66*x^848 + 96*x^847 + 35*x^846 + 115*x^845 + 33*x^844 + 77*x^843 + 89*x^842 + 60*x^841 + 61*x^840 + 27*x^839 + 3*x^838 + 36*x^837 + 18*x^836 + 90*x^835 + 5*x^834 + 93*x^833 + 99*x^832 + 21*x^831 + 43*x^830 + 41*x^829 + 22*x^828 + 5*x^827 + 119*x^826 + 36*x^825 + 104*x^824 + 30*x^823 + 41*x^822 + 66*x^821 + 73*x^820 + 123*x^819 + 110*x^818 + 35*x^817 + 30*x^816 + 95*x^815 + 84*x^814 + 62*x^813 + 102*x^812 + 87*x^811 + 33*x^810 + 122*x^809 + 51*x^807 + 78*x^806 + 33*x^805 + 123*x^804 + 95*x^803 + 123*x^802 + 95*x^801 + 79*x^800 + 114*x^799 + 63*x^798 + 75*x^797 + 62*x^796 + 86*x^795 + 6*x^794 + 78*x^793 + 42*x^792 + 50*x^791 + 47*x^790 + 18*x^789 + 89*x^788 + 69*x^787 + 116*x^786 + 71*x^785 + 48*x^784 + 20*x^783 + 5*x^782 + 13*x^781 + 13*x^780 + 107*x^779 + 80*x^778 + 35*x^777 + 49*x^776 + 73*x^775 + 76*x^774 + 85*x^773 + 126*x^772 + 27*x^771 + x^770 + 10*x^769 + 72*x^768 + 101*x^767 + 85*x^766 + 26*x^765 + 75*x^764 + 11*x^763 + 50*x^762 + 61*x^761 + 12*x^760 + 94*x^759 + 94*x^758 + 46*x^757 + 79*x^756 + 34*x^755 + 11*x^754 + 57*x^753 + 2*x^752 + 65*x^751 + 96*x^750 + 46*x^749 + 116*x^748 + 66*x^747 + 57*x^746 + 115*x^745 + 117*x^744 + 5*x^743 + 114*x^742 + 48*x^741 + 96*x^740 + 17*x^739 + 90*x^738 + 25*x^737 + 113*x^736 + 82*x^735 + 81*x^734 + 40*x^733 + 73*x^732 + 38*x^730 + 108*x^729 + 47*x^728 + 81*x^727 + 41*x^726 + 55*x^725 + 96*x^724 + 84*x^723 + 40*x^722 + 9*x^721 + 35*x^720 + 51*x^719 + 59*x^718 + 14*x^717 + 27*x^716 + 95*x^715 + 71*x^714 + 86*x^713 + 74*x^712 + 25*x^711 + 120*x^710 + 104*x^709 + 19*x^708 + 81*x^707 + 23*x^706 + 84*x^705 + 36*x^704 + 72*x^703 + 48*x^702 + 124*x^701 + 71*x^700 + 90*x^699 + 33*x^698 + 74*x^697 + 5*x^695 + 78*x^694 + 116*x^693 + 86*x^692 + 94*x^691 + 55*x^690 + x^689 + 88*x^688 + 72*x^687 + 113*x^686 + 92*x^685 + 113*x^684 + 80*x^683 + 105*x^682 + 92*x^681 + 68*x^680 + 103*x^679 + 71*x^678 + 109*x^677 + 114*x^676 + 58*x^675 + 13*x^674 + 6*x^673 + 28*x^672 + 93*x^671 + 71*x^670 + 111*x^669 + 32*x^668 + 30*x^667 + 107*x^666 + 47*x^665 + 82*x^664 + 3*x^663 + 122*x^662 + 102*x^661 + 82*x^660 + 66*x^659 + 24*x^658 + 81*x^657 + 96*x^656 + 29*x^655 + 99*x^654 + 113*x^653 + 90*x^652 + x^651 + 94*x^650 + 47*x^649 + 76*x^648 + 2*x^647 + 110*x^646 + 3*x^645 + 117*x^644 + 47*x^643 + 4*x^642 + 9*x^641 + 75*x^640 + 98*x^639 + 23*x^638 + 119*x^637 + 102*x^636 + 29*x^635 + 63*x^634 + 98*x^633 + 88*x^632 + 52*x^631 + 66*x^630 + 61*x^629 + 47*x^628 + 68*x^627 + 9*x^626 + 119*x^625 + 53*x^624 + 72*x^623 + 37*x^622 + 14*x^621 + 65*x^620 + 113*x^619 + 95*x^618 + 12*x^617 + 16*x^616 + 102*x^615 + 97*x^614 + 83*x^613 + 49*x^612 + 122*x^611 + 55*x^610 + 33*x^609 + 92*x^608 + 106*x^607 + 105*x^606 + 98*x^605 + 112*x^604 + 111*x^603 + 41*x^602 + 38*x^601 + 12*x^600 + 32*x^599 + 86*x^598 + 46*x^597 + 34*x^596 + 98*x^595 + 52*x^594 + 84*x^593 + 95*x^592 + 75*x^591 + 8*x^590 + 107*x^589 + 14*x^588 + 45*x^587 + 20*x^586 + 61*x^585 + 22*x^584 + 12*x^583 + 89*x^582 + 50*x^581 + 102*x^580 + 62*x^579 + 89*x^577 + 28*x^576 + 10*x^575 + 32*x^574 + 44*x^573 + 25*x^572 + 75*x^571 + 86*x^570 + 16*x^569 + 18*x^568 + 15*x^567 + 116*x^566 + 42*x^565 + 95*x^564 + 92*x^563 + 122*x^562 + 15*x^561 + 12*x^560 + 93*x^559 + 81*x^558 + 22*x^557 + 57*x^556 + 69*x^555 + 102*x^554 + 66*x^553 + 103*x^552 + 83*x^551 + 125*x^550 + 125*x^549 + 97*x^548 + 46*x^547 + 48*x^545 + 39*x^544 + 2*x^543 + 21*x^542 + 21*x^541 + x^540 + 74*x^539 + 121*x^538 + 68*x^537 + 119*x^536 + 83*x^535 + 69*x^534 + 52*x^533 + 97*x^532 + 63*x^531 + 9*x^530 + 114*x^529 + 50*x^528 + 63*x^527 + 7*x^526 + 48*x^525 + 117*x^524 + 89*x^523 + 69*x^522 + 15*x^521 + 19*x^520 + 103*x^519 + 76*x^518 + 96*x^517 + 61*x^516 + 28*x^515 + 31*x^514 + 18*x^513 + 50*x^512 + 66*x^511 + 126*x^510 + 121*x^509 + 111*x^508 + 47*x^507 + 8*x^506 + 72*x^505 + 93*x^504 + 84*x^503 + 52*x^502 + 29*x^501 + 71*x^500 + 2*x^499 + 35*x^498 + 89*x^497 + 111*x^496 + 88*x^494 + 52*x^493 + 48*x^492 + 10*x^490 + 64*x^489 + 18*x^488 + 56*x^487 + 39*x^486 + 20*x^485 + 70*x^484 + 68*x^483 + 52*x^482 + 99*x^481 + 14*x^480 + 20*x^479 + 23*x^478 + 55*x^477 + 34*x^476 + 36*x^475 + 78*x^474 + 10*x^473 + 99*x^472 + 48*x^471 + 75*x^470 + 16*x^469 + 76*x^468 + 61*x^467 + 79*x^466 + 54*x^465 + 51*x^464 + 126*x^463 + 26*x^462 + 20*x^460 + 81*x^459 + 12*x^458 + 98*x^457 + 125*x^456 + 61*x^455 + 102*x^454 + 77*x^453 + 98*x^452 + 78*x^451 + 36*x^450 + 120*x^449 + 105*x^448 + 43*x^447 + 55*x^446 + 124*x^445 + 18*x^444 + 93*x^443 + 126*x^442 + 119*x^441 + 84*x^440 + 15*x^439 + 86*x^438 + 30*x^437 + 8*x^436 + 43*x^435 + 108*x^434 + 108*x^433 + 49*x^432 + 93*x^431 + 6*x^430 + 65*x^429 + 59*x^428 + 6*x^427 + 114*x^426 + 31*x^425 + 125*x^424 + 87*x^423 + 119*x^422 + 42*x^421 + 15*x^420 + 21*x^419 + 41*x^418 + 78*x^417 + 76*x^416 + 41*x^415 + 120*x^414 + 52*x^413 + 106*x^412 + 51*x^411 + 101*x^410 + 7*x^409 + 72*x^408 + 71*x^407 + 94*x^406 + 66*x^405 + 57*x^404 + 49*x^403 + 103*x^402 + 117*x^401 + 7*x^400 + 99*x^399 + 18*x^398 + 100*x^397 + 79*x^395 + 110*x^394 + 85*x^393 + 14*x^392 + 73*x^391 + 93*x^390 + 25*x^389 + 69*x^388 + 42*x^387 + 23*x^386 + 56*x^385 + 21*x^384 + 60*x^383 + 10*x^382 + 49*x^381 + 19*x^380 + 11*x^379 + 102*x^378 + 110*x^377 + 5*x^376 + 67*x^375 + 92*x^374 + 120*x^373 + 36*x^372 + 13*x^371 + 86*x^370 + 32*x^369 + 57*x^368 + 117*x^367 + 31*x^366 + 92*x^365 + 14*x^364 + 54*x^363 + 15*x^362 + 25*x^361 + 56*x^360 + 23*x^359 + 44*x^358 + 73*x^357 + 29*x^356 + 61*x^355 + 73*x^354 + 74*x^353 + 17*x^352 + 67*x^351 + 45*x^350 + 107*x^349 + 124*x^348 + 101*x^347 + 101*x^346 + 40*x^345 + 77*x^344 + 102*x^343 + 101*x^342 + 96*x^340 + 27*x^339 + 94*x^338 + 44*x^337 + 13*x^336 + 122*x^335 + 43*x^334 + 105*x^333 + 24*x^332 + 27*x^331 + 17*x^330 + 114*x^329 + 42*x^328 + 89*x^327 + 33*x^326 + 81*x^325 + 38*x^324 + 46*x^323 + 50*x^322 + 81*x^321 + 116*x^320 + 108*x^319 + 109*x^318 + 122*x^317 + 84*x^316 + 108*x^315 + 51*x^314 + 25*x^313 + 11*x^312 + 120*x^311 + 77*x^310 + 11*x^309 + 64*x^308 + 92*x^307 + 90*x^306 + 31*x^305 + 5*x^304 + 43*x^303 + 90*x^302 + 74*x^301 + 58*x^300 + 41*x^299 + 2*x^298 + 79*x^297 + 73*x^296 + 86*x^295 + 24*x^294 + 14*x^293 + 125*x^292 + 53*x^291 + 44*x^290 + 124*x^289 + 109*x^288 + 61*x^287 + 37*x^286 + 113*x^285 + 125*x^284 + 34*x^283 + 55*x^282 + 20*x^281 + 69*x^280 + 86*x^279 + 107*x^278 + 17*x^277 + 126*x^276 + 87*x^275 + 12*x^274 + 119*x^273 + 21*x^272 + 20*x^271 + 68*x^270 + 71*x^269 + 3*x^268 + 88*x^267 + 80*x^266 + 112*x^265 + 103*x^264 + 67*x^263 + 61*x^262 + 122*x^261 + 10*x^260 + 77*x^259 + 32*x^258 + 52*x^257 + 53*x^256 + 60*x^255 + 5*x^254 + 113*x^253 + 22*x^252 + 18*x^251 + 83*x^250 + 115*x^249 + 108*x^248 + 77*x^247 + 53*x^246 + 53*x^245 + 31*x^244 + 109*x^243 + 63*x^242 + 51*x^241 + 43*x^240 + 44*x^239 + 92*x^237 + 118*x^236 + 105*x^235 + 88*x^234 + 76*x^233 + 37*x^231 + 79*x^230 + 60*x^229 + 120*x^228 + 75*x^227 + 20*x^226 + 101*x^225 + 28*x^224 + 63*x^223 + 5*x^222 + 119*x^221 + 69*x^220 + 25*x^219 + 79*x^218 + 109*x^217 + 46*x^216 + 44*x^215 + 57*x^214 + 3*x^213 + 16*x^212 + 94*x^211 + 43*x^210 + 12*x^209 + 87*x^208 + 3*x^207 + 56*x^206 + 108*x^205 + 27*x^204 + 25*x^203 + 92*x^202 + 58*x^201 + 4*x^200 + 119*x^199 + 58*x^198 + 35*x^197 + 68*x^196 + 96*x^195 + 2*x^194 + 101*x^193 + 66*x^192 + 105*x^191 + 17*x^190 + 47*x^189 + 123*x^188 + 7*x^187 + 33*x^186 + 102*x^185 + 58*x^184 + 10*x^183 + 51*x^182 + 45*x^181 + 81*x^180 + 33*x^179 + 72*x^178 + 111*x^177 + 94*x^176 + 55*x^175 + 49*x^174 + 24*x^173 + 43*x^172 + 120*x^171 + 16*x^170 + 73*x^169 + 53*x^168 + 23*x^167 + 85*x^166 + 60*x^165 + 12*x^164 + 67*x^163 + 52*x^162 + 51*x^161 + 97*x^160 + 14*x^159 + 82*x^158 + 20*x^157 + 69*x^156 + 95*x^155 + 95*x^154 + 22*x^153 + 111*x^152 + 11*x^151 + 118*x^150 + 26*x^149 + 72*x^148 + 9*x^147 + 20*x^146 + 68*x^145 + 27*x^144 + 20*x^143 + 101*x^142 + 120*x^141 + 115*x^140 + 103*x^139 + 15*x^138 + 49*x^137 + 122*x^136 + 92*x^135 + 38*x^134 + 98*x^133 + 34*x^132 + 40*x^131 + 57*x^130 + 33*x^129 + 2*x^128 + 56*x^127 + 59*x^126 + 34*x^125 + 94*x^124 + 7*x^123 + 87*x^122 + 63*x^121 + 102*x^120 + 126*x^119 + 81*x^118 + 58*x^117 + 52*x^116 + 100*x^115 + 37*x^114 + 61*x^113 + 24*x^112 + 124*x^111 + 126*x^110 + 114*x^109 + 15*x^108 + 88*x^107 + 24*x^106 + 52*x^105 + 76*x^104 + 57*x^103 + 95*x^102 + 47*x^101 + 98*x^100 + 121*x^99 + 64*x^98 + 46*x^97 + 71*x^96 + 84*x^95 + 48*x^94 + 96*x^93 + 97*x^92 + 80*x^91 + 121*x^90 + 22*x^89 + 14*x^88 + 48*x^87 + 29*x^86 + 84*x^85 + 107*x^84 + 12*x^83 + 75*x^82 + 43*x^81 + 49*x^80 + 84*x^79 + 74*x^78 + 48*x^77 + 49*x^76 + 116*x^75 + 88*x^74 + 98*x^73 + 12*x^72 + 42*x^71 + 59*x^70 + 126*x^69 + 112*x^68 + 109*x^67 + 9*x^66 + 126*x^65 + 108*x^64 + 31*x^63 + 124*x^62 + 53*x^61 + 102*x^60 + 50*x^59 + 85*x^58 + 71*x^56 + 18*x^55 + 55*x^54 + 108*x^53 + 80*x^52 + 82*x^51 + 3*x^50 + 33*x^49 + 3*x^48 + 18*x^47 + 72*x^46 + 101*x^45 + 98*x^44 + 48*x^43 + 4*x^42 + 64*x^41 + 96*x^40 + 102*x^39 + 57*x^38 + 125*x^37 + 88*x^36 + 76*x^35 + 52*x^34 + 125*x^33 + 55*x^32 + 54*x^31 + 40*x^30 + 94*x^29 + 116*x^28 + 89*x^27 + 22*x^26 + 76*x^25 + 61*x^24 + 123*x^23 + 111*x^22 + 77*x^21 + 46*x^20 + 88*x^19 + 57*x^18 + 48*x^17 + 94*x^16 + 66*x^15 + 64*x^14 + 65*x^13 + 37*x^12 + 25*x^11 + 71*x^10 + 78*x^9 + 64*x^8 + 23*x^7 + 78*x^6 + 41*x^5 + 17*x^4 + 19*x^3 + 53*x^2 + 122*x + 85"
      ]
     },
     "execution_count": 81,
     "metadata": {},
     "output_type": "execute_result"
    }
   ],
   "source": [
    "phi = E.division_polynomial(129)\n",
    "phi"
   ]
  },
  {
   "cell_type": "code",
   "execution_count": 82,
   "metadata": {},
   "outputs": [
    {
     "data": {
      "text/plain": [
       "(2) * (x + 2) * (x + 3) * (x + 6) * (x + 8) * (x + 9) * (x + 10) * (x + 13) * (x + 14) * (x + 17) * (x + 18) * (x + 19) * (x + 21) * (x + 22) * (x + 23) * (x + 24) * (x + 26) * (x + 28) * (x + 35) * (x + 37) * (x + 40) * (x + 43) * (x + 45) * (x + 48) * (x + 50) * (x + 51) * (x + 53) * (x + 58) * (x + 60) * (x + 62) * (x + 63) * (x + 64) * (x + 65) * (x + 68) * (x + 69) * (x + 70) * (x + 73) * (x + 74) * (x + 76) * (x + 77) * (x + 80) * (x + 81) * (x + 84) * (x + 85) * (x + 87) * (x + 89) * (x + 94) * (x + 95) * (x + 96) * (x + 98) * (x + 99) * (x + 102) * (x + 103) * (x + 104) * (x + 106) * (x + 107) * (x + 108) * (x + 111) * (x + 114) * (x + 115) * (x + 117) * (x + 119) * (x + 120) * (x + 122) * (x + 125) * (x^3 + 4*x^2 + 10*x + 67) * (x^3 + 6*x^2 + 41*x + 76) * (x^3 + 7*x^2 + 120*x + 17) * (x^3 + 9*x^2 + 24*x + 26) * (x^3 + 12*x^2 + 7*x + 103) * (x^3 + 13*x^2 + 86*x + 44) * (x^3 + 15*x^2 + 117*x + 53) * (x^3 + 18*x^2 + 100*x + 3) * (x^3 + 21*x^2 + 83*x + 80) * (x^3 + 22*x^2 + 35*x + 21) * (x^3 + 24*x^2 + 66*x + 30) * (x^3 + 27*x^2 + 49*x + 107) * (x^3 + 31*x^2 + 111*x + 125) * (x^3 + 37*x^2 + 77*x + 25) * (x^3 + 40*x^2 + 60*x + 102) * (x^3 + 42*x^2 + 91*x + 111) * (x^3 + 45*x^2 + 74*x + 61) * (x^3 + 47*x^2 + 105*x + 70) * (x^3 + 53*x^2 + 71*x + 97) * (x^3 + 55*x^2 + 102*x + 106) * (x^3 + 60*x^2 + 116*x + 65) * (x^3 + 61*x^2 + 68*x + 6) * (x^3 + 64*x^2 + 51*x + 83) * (x^3 + 71*x^2 + 96*x + 51) * (x^3 + 73*x^2 + 60) * (x^3 + 76*x^2 + 110*x + 10) * (x^3 + 79*x^2 + 93*x + 87) * (x^3 + 80*x^2 + 45*x + 28) * (x^3 + 84*x^2 + 107*x + 46) * (x^3 + 87*x^2 + 90*x + 123) * (x^3 + 89*x^2 + 121*x + 5) * (x^3 + 92*x^2 + 104*x + 82) * (x^3 + 93*x^2 + 56*x + 23) * (x^3 + 94*x^2 + 8*x + 91) * (x^3 + 95*x^2 + 87*x + 32) * (x^3 + 96*x^2 + 39*x + 100) * (x^3 + 98*x^2 + 70*x + 109) * (x^3 + 101*x^2 + 53*x + 59) * (x^3 + 108*x^2 + 98*x + 27) * (x^3 + 112*x^2 + 33*x + 45) * (x^3 + 116*x^2 + 95*x + 63) * (x^3 + 119*x^2 + 78*x + 13) * (x^3 + 122*x^2 + 61*x + 90) * (x^7 + 7*x^5 + 100*x^4 + 44*x^3 + 46*x^2 + 86*x + 124) * (x^7 + 10*x^5 + 29*x^4 + 14*x^3 + 80*x^2 + 49*x + 108) * (x^7 + 49*x^5 + 105*x^4 + 101*x^3 + 54*x^2 + 98*x + 116) * (x^7 + 56*x^5 + 113*x^4 + 82*x^3 + 34*x^2 + 53*x + 39) * (x^7 + 67*x^5 + 9*x^4 + 81*x^3 + 25*x^2 + 44*x + 8) * (x^7 + 69*x^5 + 36*x^4 + 48*x^3 + 64*x^2 + 117*x + 64) * (x^7 + 72*x^5 + 44*x^4 + 30*x^3 + 120*x^2 + 66*x + 83) * (x^7 + 93*x^5 + 88*x^4 + 98*x^3 + 126*x^2 + 28*x + 12) * (x^7 + 117*x^5 + 4*x^4 + 42*x^3 + 85*x^2 + 48*x + 86) * (x^7 + x^6 + 58*x^5 + 107*x^4 + 59*x^3 + 60*x^2 + 82*x + 125) * (x^7 + x^6 + 60*x^5 + 90*x^4 + 26*x^3 + 77*x^2 + 24*x + 31) * (x^7 + 2*x^6 + 8*x^5 + 48*x^4 + 94*x^3 + 91*x^2 + 51*x + 68) * (x^7 + 2*x^6 + 26*x^5 + 41*x^4 + 100*x^3 + 16*x^2 + 49*x + 125) * (x^7 + 2*x^6 + 34*x^5 + 120*x^4 + 104*x^3 + 71*x^2 + 31*x + 78) * (x^7 + 2*x^6 + 80*x^5 + 33*x^4 + 111*x^3 + 57*x^2 + 123*x + 8) * (x^7 + 3*x^6 + 41*x^5 + 101*x^4 + 38*x^3 + 58*x^2 + 126*x + 19) * (x^7 + 3*x^6 + 77*x^5 + 74*x^4 + 107*x^3 + 125*x^2 + 89*x + 64) * (x^7 + 5*x^6 + 22*x^5 + 47*x^4 + 20*x^3 + 96*x^2 + 46*x + 124) * (x^7 + 5*x^6 + 57*x^5 + 65*x^4 + 125*x^3 + 45*x^2 + 88*x + 109) * (x^7 + 5*x^6 + 75*x^5 + 26*x^4 + 52*x^3 + 40*x^2 + 83*x + 74) * (x^7 + 6*x^6 + 8*x^5 + 63*x^4 + 77*x^3 + 92*x^2 + 94*x + 72) * (x^7 + 6*x^6 + 53*x^5 + 122*x^4 + 73*x^3 + 51*x^2 + 88*x + 74) * (x^7 + 6*x^6 + 70*x^5 + 66*x^4 + 96*x^3 + 114*x^2 + 54*x + 114) * (x^7 + 6*x^6 + 104*x^5 + 23*x^4 + 60*x^3 + 5*x^2 + 113*x + 44) * (x^7 + 7*x^6 + 59*x^5 + 14*x^4 + 13*x^3 + 16*x^2 + 86*x + 112) * (x^7 + 7*x^6 + 98*x^5 + 85*x^4 + 31*x^3 + 44*x^2 + 30*x + 18) * (x^7 + 7*x^6 + 105*x^5 + 100*x^4 + 21*x^3 + 109*x^2 + 102*x + 7) * (x^7 + 8*x^6 + 34*x^5 + 17*x^4 + 19*x^3 + 60*x^2 + 56*x + 54) * (x^7 + 8*x^6 + 82*x^5 + 68*x^4 + 16*x^3 + 31*x^2 + 113*x + 86) * (x^7 + 8*x^6 + 84*x^5 + 13*x^4 + 57*x^3 + 22*x^2 + 79*x + 36) * (x^7 + 8*x^6 + 105*x^5 + 78*x^4 + 59*x^3 + 79*x^2 + 98*x + 116) * (x^7 + 8*x^6 + 126*x^5 + 48*x^4 + 62*x^3 + 24*x^2 + 124*x + 54) * (x^7 + 9*x^6 + 9*x^5 + 78*x^4 + 7*x^3 + 55*x^2 + 15*x + 33) * (x^7 + 9*x^6 + 69*x^5 + 70*x^4 + 119*x^3 + 43*x^2 + 88*x + 16) * (x^7 + 9*x^6 + 88*x^5 + 56*x^4 + 77*x^3 + 108*x^2 + 7*x + 89) * (x^7 + 10*x^6 + 5*x^5 + 98*x^4 + 4*x^3 + 5*x^2 + 8*x + 53) * (x^7 + 10*x^6 + 24*x^5 + 48*x^4 + 60*x^3 + 74*x^2 + 68*x + 12) * (x^7 + 11*x^6 + 81*x^4 + 54*x^3 + 61*x^2 + 106*x + 48) * (x^7 + 11*x^6 + 3*x^5 + 124*x^4 + 49*x^3 + 90*x^2 + 4*x + 62) * (x^7 + 11*x^6 + 5*x^5 + 21*x^4 + 60*x^3 + 35*x^2 + 29*x + 47) * (x^7 + 11*x^6 + 71*x^5 + 50*x^4 + 66*x^3 + 107*x^2 + 92*x + 39) * (x^7 + 11*x^6 + 80*x^5 + 81*x^3 + 37*x^2 + 6*x + 12) * (x^7 + 11*x^6 + 108*x^5 + 126*x^4 + 86*x^3 + 117*x^2 + 79*x + 57) * (x^7 + 13*x^6 + 73*x^5 + 84*x^4 + 65*x^3 + 99*x^2 + 79*x + 2) * (x^7 + 15*x^6 + 37*x^5 + 66*x^4 + 111*x^3 + 124*x^2 + 32*x + 123) * (x^7 + 16*x^6 + 22*x^5 + 82*x^4 + 109*x^3 + 92*x^2 + 77*x + 34) * (x^7 + 16*x^6 + 25*x^5 + 86*x^4 + 29*x^3 + 87*x^2 + 81*x + 53) * (x^7 + 16*x^6 + 37*x^5 + 41*x^4 + 39*x^3 + 5*x^2 + 27*x + 111) * (x^7 + 17*x^6 + 20*x^5 + 29*x^4 + 66*x^3 + 78*x^2 + 19*x + 118) * (x^7 + 17*x^6 + 34*x^5 + 95*x^4 + 114*x^3 + 108*x^2 + 118*x + 126) * (x^7 + 17*x^6 + 65*x^5 + 64*x^4 + 17*x^3 + 45*x^2 + 4*x + 44) * (x^7 + 17*x^6 + 107*x^5 + 30*x^4 + 10*x^3 + 39*x^2 + 104*x + 27) * (x^7 + 17*x^6 + 126*x^5 + 126*x^4 + 70*x^3 + 109*x^2 + 15*x + 84) * (x^7 + 18*x^6 + 27*x^5 + 89*x^4 + 4*x^3 + 124*x^2 + 6*x + 90) * (x^7 + 18*x^6 + 31*x^5 + 24*x^4 + 106*x^3 + 95*x^2 + 119*x + 125) * (x^7 + 18*x^6 + 55*x^5 + 59*x^4 + 70*x^3 + 118*x^2 + 59*x + 64) * (x^7 + 18*x^6 + 59*x^5 + 124*x^4 + 57*x^3 + 49*x^2 + 40*x + 38) * (x^7 + 18*x^6 + 80*x^5 + 29*x^4 + 109*x^3 + 24*x^2 + 80*x + 95) * (x^7 + 19*x^6 + 96*x^4 + 109*x^3 + 85*x^2 + 49*x + 5) * (x^7 + 19*x^6 + 6*x^5 + 95*x^4 + 71*x^3 + 54*x^2 + 47*x + 46) * (x^7 + 19*x^6 + 48*x^5 + 39*x^4 + 118*x^3 + 119*x^2 + 96*x + 49) * (x^7 + 19*x^6 + 50*x^5 + 11*x^4 + 10*x^3 + 107*x^2 + 91*x + 116) * (x^7 + 19*x^6 + 58*x^5 + 84*x^4 + 93*x^3 + 83*x^2 + 50*x + 47) * (x^7 + 20*x^6 + 16*x^5 + 26*x^4 + 42*x^3 + 11*x^2 + 79*x + 75) * (x^7 + 20*x^6 + 54*x^5 + 39*x^4 + 31*x^3 + 67*x^2 + 89*x + 64) * (x^7 + 21*x^6 + 10*x^5 + 27*x^3 + 114*x^2 + 18*x + 60) * (x^7 + 21*x^6 + 27*x^5 + 69*x^4 + 56*x^3 + 49*x^2 + 35*x + 80) * (x^7 + 21*x^6 + 36*x^5 + 114*x^4 + 111*x^3 + 33*x^2 + 119*x + 54) * (x^7 + 21*x^6 + 104*x^5 + 98*x^4 + 57*x^3 + 104*x^2 + 125*x + 28) * (x^7 + 22*x^6 + 27*x^5 + 85*x^4 + 85*x^3 + 75*x^2 + 125*x + 105) * (x^7 + 22*x^6 + 29*x^5 + 42*x^4 + 102*x^3 + 71*x^2 + 88*x + 114) * (x^7 + 22*x^6 + 57*x^5 + 67*x^4 + 12*x^3 + 17*x^2 + 28*x + 67) * (x^7 + 22*x^6 + 91*x^5 + 120*x^4 + 36*x^3 + 125*x^2 + 11*x + 15) * (x^7 + 23*x^6 + 11*x^5 + 26*x^4 + 7*x^3 + 13*x^2 + 61*x + 43) * (x^7 + 23*x^6 + 27*x^5 + 70*x^4 + 102*x^3 + 101*x^2 + 68*x + 120) * (x^7 + 23*x^6 + 47*x^5 + 106*x^4 + 51*x^3 + 89*x^2 + 104*x + 2) * (x^7 + 23*x^6 + 76*x^5 + 76*x^4 + 60*x^3 + 107*x^2 + 75*x + 33) * (x^7 + 23*x^6 + 79*x^5 + 104*x^4 + 104*x^3 + 25*x^2 + 21*x + 12) * (x^7 + 24*x^6 + 105*x^5 + 13*x^4 + 91*x^3 + 60*x^2 + 104*x + 115) * (x^7 + 24*x^6 + 112*x^5 + 27*x^4 + 45*x^3 + 15*x^2 + 32*x + 48) * (x^7 + 25*x^6 + 115*x^4 + 104*x^3 + 52*x^2 + 20*x + 118) * (x^7 + 25*x^6 + 19*x^5 + 50*x^4 + 72*x^3 + 25*x^2 + 103*x + 45) * (x^7 + 25*x^6 + 23*x^5 + 88*x^4 + 18*x^3 + 105*x^2 + 11*x + 74) * (x^7 + 25*x^6 + 121*x^5 + 79*x^4 + 106*x^3 + 119*x^2 + 38*x + 31) * (x^7 + 26*x^6 + 65*x^5 + 102*x^4 + 108*x^3 + 81*x^2 + 38*x + 102) * (x^7 + 27*x^6 + 62*x^5 + 108*x^4 + 16*x^3 + 109*x^2 + 121*x + 14) * (x^7 + 27*x^6 + 83*x^5 + 81*x^4 + 21*x^3 + 107*x^2 + 46*x + 28) * (x^7 + 27*x^6 + 88*x^5 + 91*x^4 + 100*x^3 + 124*x^2 + 83*x + 27) * (x^7 + 28*x^6 + 2*x^5 + 121*x^4 + 117*x^3 + 49*x^2 + 103*x + 63) * (x^7 + 28*x^6 + 31*x^5 + 11*x^4 + 64*x^3 + 107*x^2 + 44*x + 39) * (x^7 + 28*x^6 + 65*x^5 + 21*x^4 + 98*x^3 + 12*x^2 + 14*x + 47) * (x^7 + 28*x^6 + 65*x^5 + 47*x^4 + 33*x^3 + x^2 + 4*x + 122) * (x^7 + 28*x^6 + 76*x^5 + 36*x^4 + 87*x^3 + 26*x^2 + 105*x + 83) * (x^7 + 28*x^6 + 107*x^5 + 56*x^4 + 16*x^3 + 110*x^2 + 31*x + 4) * (x^7 + 28*x^6 + 109*x^5 + 54*x^4 + 80*x^3 + 31*x^2 + 113*x + 43) * (x^7 + 29*x^6 + 71*x^5 + 35*x^4 + 53*x^3 + 38*x^2 + 77*x + 28) * (x^7 + 30*x^6 + 46*x^5 + 31*x^4 + 35*x^3 + 38*x^2 + 22*x + 44) * (x^7 + 30*x^6 + 64*x^5 + 7*x^4 + 108*x^3 + 27*x^2 + 40*x + 19) * (x^7 + 30*x^6 + 89*x^5 + 89*x^4 + 65*x^3 + 114*x^2 + 43*x + 18) * (x^7 + 31*x^6 + 11*x^5 + 54*x^4 + 53*x^3 + 67*x^2 + 125*x + 5) * (x^7 + 31*x^6 + 108*x^5 + 61*x^4 + 7*x^3 + 91*x^2 + 78*x + 103) * (x^7 + 32*x^6 + 4*x^5 + 117*x^4 + 13*x^3 + 83*x^2 + 38*x + 28) * (x^7 + 32*x^6 + 14*x^5 + 126*x^4 + 44*x^3 + 39*x^2 + 24*x + 39) * (x^7 + 32*x^6 + 58*x^5 + 30*x^4 + 99*x^3 + 19*x^2 + 79*x + 3) * (x^7 + 32*x^6 + 107*x^5 + 57*x^4 + 60*x^3 + 76*x^2 + 96*x + 24) * (x^7 + 33*x^6 + 112*x^5 + 3*x^4 + 84*x^3 + 109*x^2 + 64*x + 5) * (x^7 + 34*x^6 + 52*x^5 + 102*x^4 + 8*x^3 + 126*x^2 + 25*x + 45) * (x^7 + 34*x^6 + 63*x^5 + 36*x^4 + 61*x^3 + 54*x^2 + 118*x + 55) * (x^7 + 34*x^6 + 68*x^5 + 123*x^4 + 78*x^3 + 98*x^2 + 47*x + 72) * (x^7 + 34*x^6 + 78*x^5 + 26*x^4 + 108*x^3 + 115*x^2 + 11*x + 125) * (x^7 + 35*x^6 + 35*x^5 + 55*x^4 + 76*x^3 + 86*x^2 + 114*x + 96) * (x^7 + 36*x^6 + 56*x^5 + 73*x^4 + 15*x^3 + 25*x^2 + 80*x + 15) * (x^7 + 36*x^6 + 77*x^5 + 98*x^4 + 104*x^3 + 35*x^2 + 48*x + 63) * (x^7 + 36*x^6 + 83*x^5 + 119*x^4 + 8*x^3 + 89*x^2 + 103*x + 9) * (x^7 + 37*x^6 + x^5 + 100*x^4 + 60*x^3 + 87*x^2 + 56*x + 31) * (x^7 + 37*x^6 + 35*x^5 + 2*x^4 + 91*x^3 + 89*x^2 + 45*x + 91) * (x^7 + 37*x^6 + 57*x^5 + 114*x^4 + 67*x^3 + 102*x^2 + 22*x + 54) * (x^7 + 39*x^6 + 83*x^5 + 19*x^4 + 27*x^3 + 13*x^2 + 35*x + 121) * (x^7 + 39*x^6 + 85*x^5 + 25*x^4 + 83*x^3 + 63*x^2 + 126*x + 71) * (x^7 + 39*x^6 + 107*x^5 + 110*x^4 + 111*x^3 + 61*x^2 + 27*x + 89) * (x^7 + 39*x^6 + 108*x^5 + 65*x^4 + 35*x^3 + 46*x^2 + 54*x + 13) * (x^7 + 40*x^6 + 25*x^5 + 57*x^4 + 68*x^3 + 27*x^2 + 25*x + 75) * (x^7 + 40*x^6 + 48*x^5 + 30*x^4 + 23*x^3 + 34*x^2 + 110*x + 126) * (x^7 + 40*x^6 + 75*x^5 + 30*x^4 + 58*x^3 + 75*x^2 + 36*x + 110) * (x^7 + 40*x^6 + 100*x^5 + 19*x^4 + 2*x^3 + 98*x^2 + 30*x + 80) * (x^7 + 40*x^6 + 102*x^5 + 92*x^4 + x^3 + 96*x^2 + 34*x + 82) * (x^7 + 41*x^6 + 5*x^5 + 6*x^4 + 84*x^3 + 4*x^2 + 74*x + 63) * (x^7 + 41*x^6 + 65*x^5 + 33*x^4 + 6*x^3 + 39*x^2 + 85*x + 25) * (x^7 + 42*x^6 + x^5 + 60*x^4 + 77*x^3 + 77*x^2 + 62*x + 77) * (x^7 + 42*x^6 + 16*x^5 + 27*x^4 + 118*x^3 + 86*x^2 + 2*x + 10) * (x^7 + 42*x^6 + 71*x^5 + 12*x^4 + 73*x^3 + 65*x^2 + 85*x + 100) * (x^7 + 42*x^6 + 104*x^5 + 50*x^4 + 2*x^3 + 76*x^2 + 65*x + 86) * (x^7 + 44*x^6 + 30*x^5 + 53*x^4 + 113*x^3 + 97*x^2 + 43*x + 96) * (x^7 + 44*x^6 + 66*x^5 + 46*x^4 + 121*x^3 + 17*x^2 + 101*x + 32) * (x^7 + 45*x^6 + 9*x^5 + 24*x^4 + 11*x^3 + 62*x^2 + 9*x + 104) * (x^7 + 45*x^6 + 87*x^5 + 90*x^4 + 33*x^3 + 103*x^2 + 20*x + 90) * (x^7 + 46*x^6 + 50*x^5 + 122*x^4 + 117*x^3 + x^2 + 109*x + 83) * (x^7 + 46*x^6 + 65*x^5 + 73*x^4 + 73*x^3 + 75*x^2 + 103*x + 50) * (x^7 + 46*x^6 + 82*x^5 + 34*x^4 + x^3 + 60*x^2 + 18*x + 18) * (x^7 + 46*x^6 + 91*x^5 + 58*x^4 + 82*x^3 + 47*x^2 + 108*x + 54) * (x^7 + 46*x^6 + 102*x^5 + 16*x^4 + 33*x^3 + 42*x^2 + 53*x + 20) * (x^7 + 46*x^6 + 115*x^5 + 86*x^4 + 120*x^3 + 13*x^2 + 22*x + 27) * (x^7 + 47*x^6 + 27*x^5 + 27*x^4 + 19*x^3 + 66*x^2 + 122*x + 67) * (x^7 + 47*x^6 + 85*x^5 + 108*x^4 + 8*x^3 + 82*x^2 + 105*x + 124) * (x^7 + 48*x^6 + 61*x^4 + 84*x^3 + 81*x^2 + 87*x + 126) * (x^7 + 48*x^6 + 8*x^5 + 102*x^4 + 54*x^3 + 62*x^2 + 112*x + 29) * (x^7 + 48*x^6 + 24*x^5 + 92*x^4 + 34*x^3 + 77*x^2 + 26*x + 39) * (x^7 + 48*x^6 + 26*x^5 + 63*x^4 + 37*x^3 + 86*x + 75) * (x^7 + 48*x^6 + 57*x^5 + 69*x^4 + 42*x^3 + 104*x^2 + 96*x + 67) * (x^7 + 48*x^6 + 100*x^5 + 94*x^4 + 112*x^3 + 20*x^2 + 37*x + 10) * (x^7 + 48*x^6 + 107*x^5 + 95*x^4 + 85*x^3 + 35*x^2 + 96*x + 46) * (x^7 + 48*x^6 + 110*x^5 + 40*x^4 + 96*x^3 + 74*x + 94) * (x^7 + 49*x^6 + 10*x^5 + 13*x^4 + 4*x^3 + 28*x^2 + 112*x + 33) * (x^7 + 49*x^6 + 21*x^5 + 67*x^4 + 21*x^3 + 37*x^2 + 4*x + 37) * (x^7 + 49*x^6 + 24*x^5 + 103*x^4 + 97*x^3 + 109*x^2 + 32*x + 2) * (x^7 + 49*x^6 + 41*x^5 + 40*x^4 + 32*x^3 + 53*x^2 + 26*x + 107) * (x^7 + 49*x^6 + 49*x^5 + 125*x^4 + 22*x^3 + 122*x^2 + 10*x + 4) * (x^7 + 49*x^6 + 79*x^5 + 108*x^4 + 103*x^3 + 105*x^2 + 77*x + 90) * (x^7 + 49*x^6 + 120*x^5 + 84*x^4 + 4*x^3 + 125*x^2 + 13*x + 18) * (x^7 + 50*x^6 + 11*x^5 + 95*x^4 + 89*x^3 + 79*x^2 + 33*x + 6) * (x^7 + 50*x^6 + 50*x^5 + 11*x^4 + 72*x^3 + 52*x^2 + 120*x + 116) * (x^7 + 50*x^6 + 56*x^5 + 71*x^4 + 30*x^3 + 70*x^2 + 18*x + 121) * (x^7 + 51*x^6 + 33*x^5 + 10*x^4 + 77*x^3 + 82*x^2 + 45*x + 83) * (x^7 + 52*x^6 + 76*x^4 + 45*x^3 + 110*x^2 + 45*x + 58) * (x^7 + 53*x^6 + 6*x^5 + 5*x^4 + 27*x^3 + 120*x^2 + 95*x + 22) * (x^7 + 53*x^6 + 33*x^5 + 93*x^3 + 55*x^2 + 45*x + 112) * (x^7 + 53*x^6 + 100*x^5 + 40*x^4 + 107*x^3 + x^2 + 60*x + 18) * (x^7 + 53*x^6 + 102*x^5 + 66*x^4 + 62*x^3 + 124*x^2 + 39*x + 15) * (x^7 + 54*x^6 + 13*x^5 + 122*x^4 + 19*x^3 + 38*x^2 + 121*x + 119) * (x^7 + 56*x^6 + 11*x^5 + 10*x^4 + 119*x^3 + 24*x^2 + 4*x + 98) * (x^7 + 56*x^6 + 52*x^5 + 16*x^4 + 35*x^3 + 31*x^2 + 22*x + 43) * (x^7 + 56*x^6 + 108*x^5 + 125*x^4 + x^3 + 22*x^2 + 9*x + 28) * (x^7 + 56*x^6 + 121*x^5 + 67*x^4 + 113*x^3 + 49*x^2 + 73*x + 25) * (x^7 + 57*x^6 + 4*x^5 + 46*x^4 + 33*x^3 + 11*x^2 + 9*x + 51) * (x^7 + 57*x^6 + 5*x^5 + 35*x^4 + 63*x^3 + 7*x + 51) * (x^7 + 57*x^6 + 85*x^5 + 90*x^4 + 15*x^3 + 28*x^2 + 112*x + 100) * (x^7 + 58*x^6 + 98*x^5 + 92*x^4 + 60*x^3 + 13*x^2 + 93*x + 79) * (x^7 + 58*x^6 + 114*x^5 + 68*x^4 + 72*x^3 + 63*x^2 + 92*x + 25) * (x^7 + 59*x^6 + 19*x^5 + 67*x^4 + 56*x^3 + 102*x^2 + 52*x + 57) * (x^7 + 59*x^6 + 107*x^5 + 75*x^4 + 44*x^3 + 76*x^2 + 59*x + 113) * (x^7 + 60*x^6 + 91*x^5 + 37*x^4 + 21*x^3 + 47*x^2 + 9*x + 2) * (x^7 + 60*x^6 + 108*x^5 + 52*x^4 + 86*x^3 + 60*x^2 + 62*x + 23) * (x^7 + 61*x^6 + 5*x^5 + 64*x^4 + 126*x^3 + 102*x^2 + 53*x + 125) * (x^7 + 61*x^6 + 9*x^5 + 61*x^4 + 121*x^3 + 6*x^2 + 12*x + 39) * (x^7 + 61*x^6 + 34*x^5 + 93*x^4 + 29*x^3 + 50*x^2 + 50*x + 95) * (x^7 + 61*x^6 + 77*x^5 + 60*x^4 + 59*x^3 + 20*x^2 + 105) * (x^7 + 61*x^6 + 108*x^5 + 57*x^4 + 75*x^3 + 56*x^2 + 55*x + 63) * (x^7 + 63*x^6 + 11*x^5 + 57*x^4 + 104*x^3 + 78*x^2 + 35*x + 48) * (x^7 + 63*x^6 + 40*x^5 + 12*x^4 + 30*x^3 + 101*x^2 + 75*x + 118) * (x^7 + 64*x^6 + 57*x^5 + 91*x^4 + 100*x^3 + 81*x^2 + 58*x + 30) * (x^7 + 64*x^6 + 71*x^5 + 60*x^4 + 23*x^3 + 71*x^2 + 114*x + 124) * (x^7 + 64*x^6 + 111*x^5 + 91*x^4 + 53*x^3 + 72*x^2 + 10*x + 6) * (x^7 + 65*x^6 + 18*x^5 + 121*x^4 + 114*x^3 + 83*x + 26) * (x^7 + 66*x^6 + 12*x^5 + 30*x^4 + 60*x^3 + 112*x^2 + 111*x + 20) * (x^7 + 68*x^6 + 94*x^5 + 26*x^4 + 100*x^3 + 27*x^2 + 11*x + 27) * (x^7 + 69*x^6 + 4*x^5 + 67*x^4 + 98*x^3 + 25*x^2 + 94*x + 83) * (x^7 + 69*x^6 + 18*x^5 + 67*x^4 + 45*x^3 + 98*x^2 + 119*x + 36) * (x^7 + 69*x^6 + 20*x^5 + 23*x^4 + 114*x^3 + 100*x^2 + 6*x + 22) * (x^7 + 70*x^6 + 89*x^5 + 124*x^4 + 55*x^3 + 34*x^2 + 100*x + 14) * (x^7 + 70*x^6 + 95*x^5 + 29*x^4 + 72*x^3 + 102*x^2 + 103*x + 29) * (x^7 + 70*x^6 + 99*x^5 + 68*x^4 + 42*x^3 + 124*x^2 + 48*x + 26) * (x^7 + 71*x^6 + 73*x^5 + 94*x^4 + 78*x^3 + 4*x^2 + 44*x + 67) * (x^7 + 71*x^6 + 78*x^5 + 109*x^4 + 85*x^3 + 11*x^2 + 80*x + 17) * (x^7 + 72*x^6 + 121*x^4 + 88*x^3 + 34*x^2 + 7*x + 70) * (x^7 + 72*x^6 + 5*x^5 + 69*x^4 + 6*x^3 + 68*x^2 + 109*x + 107) * (x^7 + 72*x^6 + 32*x^5 + 115*x^4 + 54*x^3 + 86*x^2 + 115*x + 66) * (x^7 + 72*x^6 + 43*x^5 + 96*x^4 + 14*x^3 + 22*x^2 + 88*x + 34) * (x^7 + 72*x^6 + 91*x^5 + 66*x^4 + x^3 + 81*x^2 + 50*x + 9) * (x^7 + 72*x^6 + 96*x^5 + 94*x^4 + 112*x^3 + 54*x^2 + 18*x + 39) * (x^7 + 72*x^6 + 97*x^5 + 20*x^4 + 85*x^3 + 108*x^2 + 77*x + 105) * (x^7 + 72*x^6 + 102*x^5 + 40*x^4 + 95*x^3 + 62*x^2 + 82*x + 16) * (x^7 + 73*x^6 + 4*x^5 + 104*x^4 + 36*x^3 + 78*x^2 + 56*x + 107) * (x^7 + 73*x^6 + 51*x^5 + 29*x^4 + 67*x^3 + 11*x^2 + 75*x + 28) * (x^7 + 73*x^6 + 125*x^5 + 97*x^4 + 105*x^3 + 86*x^2 + 46*x + 125) * (x^7 + 74*x^6 + 26*x^5 + 18*x^4 + 14*x^3 + 106*x^2 + 78*x + 66) * (x^7 + 74*x^6 + 76*x^5 + 104*x^4 + 23*x^3 + 48*x^2 + 34*x + 26) * (x^7 + 75*x^6 + 20*x^5 + 23*x^4 + 67*x^3 + 103*x^2 + 87*x + 95) * (x^7 + 75*x^6 + 44*x^5 + 97*x^4 + 54*x^3 + 36*x^2 + 34*x + 20) * (x^7 + 75*x^6 + 63*x^5 + 44*x^4 + 92*x^3 + 65*x^2 + 90*x + 21) * (x^7 + 76*x^6 + 54*x^5 + 11*x^4 + 35*x^3 + 86*x^2 + 71*x + 25) * (x^7 + 76*x^6 + 56*x^5 + 11*x^4 + 104*x^3 + 118*x^2 + 20*x + 104) * (x^7 + 77*x^6 + 43*x^5 + 107*x^4 + 119*x^3 + 120*x^2 + 46*x + 91) * (x^7 + 77*x^6 + 49*x^5 + 71*x^4 + 54*x^3 + 15*x^2 + 114*x + 80) * (x^7 + 78*x^6 + 22*x^5 + 124*x^4 + 9*x^3 + 43*x^2 + 100*x + 31) * (x^7 + 78*x^6 + 41*x^5 + 14*x^4 + 11*x^3 + 7*x^2 + 103*x + 11) * (x^7 + 78*x^6 + 57*x^5 + 123*x^4 + 114*x^3 + 100*x^2 + 102*x + 7) * (x^7 + 79*x^6 + 81*x^5 + 5*x^4 + 35*x^3 + 95*x^2 + 8*x + 74) * (x^7 + 79*x^6 + 94*x^5 + 83*x^4 + 117*x^3 + 95*x^2 + 41*x + 76) * (x^7 + 80*x^6 + 15*x^5 + 63*x^4 + 84*x^3 + 101*x^2 + 78*x + 74) * (x^7 + 80*x^6 + 71*x^5 + 51*x^4 + 58*x^3 + 34*x^2 + 29*x + 64) * (x^7 + 80*x^6 + 73*x^5 + 120*x^4 + 103*x^3 + 122*x^2 + 86*x + 9) * (x^7 + 80*x^6 + 113*x^5 + 55*x^4 + 54*x^3 + 4*x^2 + 124*x + 24) * (x^7 + 81*x^6 + 19*x^5 + 25*x^4 + 25*x^3 + 59*x^2 + 33*x + 29) * (x^7 + 82*x^6 + 32*x^5 + 116*x^4 + 116*x^3 + 106*x^2 + 79*x + 72) * (x^7 + 82*x^6 + 84*x^5 + 95*x^4 + 77*x^3 + 6*x^2 + 33*x + 75) * (x^7 + 82*x^6 + 88*x^5 + 121*x^4 + 126*x^3 + 26*x^2 + x + 78) * (x^7 + 82*x^6 + 107*x^5 + 12*x^4 + 115*x^2 + 85*x + 52) * (x^7 + 82*x^6 + 109*x^5 + 8*x^4 + 77*x^3 + 29*x^2 + 28*x + 45) * (x^7 + 83*x^6 + 9*x^5 + 57*x^4 + 82*x^3 + 123*x^2 + 82*x + 105) * (x^7 + 83*x^6 + 43*x^5 + 110*x^4 + 80*x^3 + 119*x^2 + 9*x + 36) * (x^7 + 83*x^6 + 95*x^5 + 70*x^4 + 121*x^3 + 43*x^2 + 75*x + 6) * (x^7 + 83*x^6 + 116*x^5 + 110*x^4 + 81*x^3 + 80*x^2 + 123*x + 12) * (x^7 + 84*x^6 + 84*x^5 + 55*x^4 + 114*x^3 + 38*x^2 + 38*x + 120) * (x^7 + 85*x^6 + 83*x^5 + 67*x^4 + 5*x^3 + 111*x^2 + 68*x + 44) * (x^7 + 86*x^6 + 48*x^5 + 33*x^4 + 68*x^3 + 24*x^2 + 41*x + 71) * (x^7 + 86*x^6 + 59*x^5 + 58*x^4 + 81*x^3 + 24*x^2 + 112*x + 118) * (x^7 + 86*x^6 + 72*x^5 + 71*x^4 + 51*x^3 + 30*x^2 + 109*x + 48) * (x^7 + 86*x^6 + 97*x^5 + 85*x^4 + 120*x^3 + 121*x^2 + 104*x + 75) * (x^7 + 87*x^6 + 116*x^5 + 118*x^4 + 12*x^3 + 93*x^2 + x + 46) * (x^7 + 88*x^6 + 25*x^5 + 31*x^4 + 40*x^3 + 58*x^2 + 20*x + 31) * (x^7 + 88*x^6 + 99*x^5 + 45*x^4 + 81*x^3 + 87*x^2 + 55*x + 28) * (x^7 + 90*x^6 + 31*x^5 + 85*x^4 + 106*x^3 + 58*x^2 + 55*x + 114) * (x^7 + 90*x^6 + 32*x^5 + 41*x^4 + 126*x^3 + 67*x^2 + 103*x + 111) * (x^7 + 90*x^6 + 51*x^5 + 29*x^4 + 59*x^3 + 60*x^2 + 69*x + 107) * (x^7 + 90*x^6 + 60*x^5 + 28*x^4 + 60*x^3 + 12*x^2 + 116*x + 26) * (x^7 + 91*x^6 + 74*x^5 + 93*x^4 + 42*x^3 + 27*x^2 + 85*x + 9) * (x^7 + 91*x^6 + 107*x^5 + 110*x^4 + 125*x^3 + 65*x^2 + 118*x + 50) * (x^7 + 91*x^6 + 114*x^5 + 122*x^4 + 12*x^3 + 56*x^2 + 38*x + 120) * (x^7 + 91*x^6 + 120*x^5 + 36*x^4 + 93*x^3 + 69*x^2 + 10*x + 55) * (x^7 + 92*x^6 + 23*x^5 + 9*x^4 + 42*x^3 + 4*x^2 + 53*x + 114) * (x^7 + 92*x^6 + 67*x^5 + 75*x^4 + 94*x^3 + 79*x^2 + 19*x + 118) * (x^7 + 92*x^6 + 70*x^5 + 74*x^4 + 51*x^3 + 91*x^2 + 76*x + 71) * (x^7 + 93*x^6 + 33*x^5 + 68*x^4 + 67*x^3 + 30*x^2 + 45*x + 114) * (x^7 + 93*x^6 + 64*x^5 + 99*x^4 + 33*x^3 + 52*x^2 + 19*x + 117) * (x^7 + 93*x^6 + 125*x^5 + 37*x^4 + 42*x^3 + 50*x^2 + 81*x + 68) * (x^7 + 95*x^6 + 15*x^5 + 106*x^4 + 23*x^3 + 100*x^2 + 24*x + 42) * (x^7 + 95*x^6 + 30*x^5 + 47*x^4 + 100*x^3 + 66*x^2 + 120*x + 26) * (x^7 + 95*x^6 + 39*x^5 + 28*x^4 + 85*x^3 + 80*x^2 + 17*x + 61) * (x^7 + 95*x^6 + 42*x^5 + 94*x^4 + 45*x^3 + 79*x^2 + 70*x + 11) * (x^7 + 95*x^6 + 57*x^5 + 101*x^4 + 41*x^3 + 34*x^2 + 9*x + 89) * (x^7 + 95*x^6 + 94*x^5 + 72*x^4 + 36*x^3 + 124*x^2 + 60*x + 49) * (x^7 + 95*x^6 + 111*x^5 + 113*x^4 + 43*x^3 + 7*x^2 + 110*x + 119) * (x^7 + 95*x^6 + 124*x^5 + 17*x^4 + 102*x^3 + 82*x^2 + 8*x + 91) * (x^7 + 96*x^6 + 10*x^5 + 110*x^4 + 65*x^3 + 50*x^2 + 35*x + 18) * (x^7 + 97*x^6 + 6*x^5 + 71*x^4 + 70*x^3 + 55*x^2 + 53*x + 108) * (x^7 + 97*x^6 + 27*x^5 + 118*x^4 + 95*x^3 + 70*x^2 + 107*x + 69) * (x^7 + 97*x^6 + 68*x^5 + 81*x^4 + 7*x^3 + 42*x^2 + 21*x + 108) * (x^7 + 97*x^6 + 78*x^5 + 67*x^4 + 12*x^3 + 13*x^2 + 33*x + 115) * (x^7 + 98*x^6 + 23*x^5 + 81*x^4 + 64*x^3 + 85*x^2 + 86*x + 22) * (x^7 + 98*x^6 + 97*x^5 + 82*x^4 + 117*x^3 + 124*x^2 + 108*x + 87) * (x^7 + 98*x^6 + 98*x^5 + 100*x^4 + 80*x^3 + 25*x^2 + 4*x + 78) * (x^7 + 98*x^6 + 124*x^5 + 12*x^4 + 103*x^3 + 112*x^2 + 66*x + 78) * (x^7 + 99*x^6 + 73*x^5 + 27*x^4 + 105*x^3 + 7*x^2 + 66*x + 124) * (x^7 + 99*x^6 + 78*x^5 + 79*x^4 + 93*x^3 + 89*x^2 + 109*x + 106) * (x^7 + 100*x^6 + 31*x^5 + 28*x^4 + 120*x^3 + 4*x^2 + 76*x + 73) * (x^7 + 101*x^6 + 31*x^5 + 66*x^4 + 108*x^3 + 80*x^2 + 7*x + 29) * (x^7 + 101*x^6 + 42*x^5 + 122*x^4 + 99*x^3 + 64*x^2 + 65*x + 125) * (x^7 + 101*x^6 + 52*x^5 + 121*x^4 + 70*x^3 + 40*x^2 + 84*x + 107) * (x^7 + 101*x^6 + 56*x^5 + 61*x^4 + 34*x^3 + 28*x^2 + 78*x + 1) * (x^7 + 101*x^6 + 66*x^5 + 28*x^4 + 95*x^3 + x^2 + 41*x + 99) * (x^7 + 101*x^6 + 94*x^5 + 27*x^4 + 53*x^3 + 44*x^2 + 8*x + 66) * (x^7 + 101*x^6 + 99*x^5 + 109*x^4 + 124*x^3 + 53*x^2 + 69*x + 48) * (x^7 + 101*x^6 + 104*x^5 + 95*x^4 + 72*x^3 + 48*x^2 + 87*x + 26) * (x^7 + 102*x^6 + 96*x^5 + 53*x^4 + 52*x^3 + 13*x^2 + 28*x + 16) * (x^7 + 103*x^6 + 28*x^5 + 52*x^4 + 91*x^3 + 117*x^2 + 94*x + 91) * (x^7 + 103*x^6 + 57*x^5 + 123*x^3 + 113*x^2 + 13*x + 90) * (x^7 + 103*x^6 + 59*x^5 + 17*x^4 + 8*x^3 + 73*x^2 + 123*x + 103) * (x^7 + 103*x^6 + 76*x^5 + 64*x^4 + 71*x^3 + 34*x^2 + 108*x + 77) * (x^7 + 103*x^6 + 77*x^5 + 55*x^4 + 107*x^3 + 92*x^2 + 72*x + 5) * (x^7 + 104*x^6 + 54*x^5 + 77*x^4 + 60*x^3 + 47*x^2 + 67*x + 126) * (x^7 + 104*x^6 + 89*x^5 + 101*x^4 + 37*x^3 + 49*x^2 + 121*x + 24) * (x^7 + 104*x^6 + 101*x^5 + 12*x^4 + 119*x^3 + 7*x^2 + 27*x + 43) * (x^7 + 104*x^6 + 106*x^5 + 12*x^4 + 46*x^3 + 95*x^2 + 36*x + 66) * (x^7 + 105*x^6 + 16*x^5 + 104*x^4 + 101*x^3 + 38*x^2 + 45*x + 11) * (x^7 + 105*x^6 + 21*x^5 + 62*x^4 + 88*x^3 + 56*x^2 + 52*x + 53) * (x^7 + 105*x^6 + 39*x^5 + 114*x^4 + 13*x^3 + 90*x^2 + 121*x + 13) * (x^7 + 105*x^6 + 47*x^5 + 99*x^4 + 91*x^3 + 25*x^2 + 15*x + 73) * (x^7 + 105*x^6 + 58*x^5 + 95*x^4 + 119*x^3 + 5*x^2 + 108*x + 31) * (x^7 + 105*x^6 + 71*x^5 + 112*x^4 + 37*x^3 + 124*x^2 + 106*x + 34) * (x^7 + 105*x^6 + 89*x^5 + 95*x^4 + 17*x^3 + 3*x^2 + 30*x + 119) * (x^7 + 105*x^6 + 91*x^5 + 119*x^4 + 86*x^3 + 27*x^2 + 44*x + 95) * (x^7 + 105*x^6 + 102*x^5 + 121*x^4 + 30*x^3 + 89*x^2 + 45*x + 54) * (x^7 + 105*x^6 + 105*x^5 + 20*x^4 + 37*x^3 + 24*x^2 + 116*x + 59) * (x^7 + 107*x^6 + 19*x^5 + 89*x^4 + 98*x^3 + 26*x^2 + 22*x + 49) * (x^7 + 107*x^6 + 23*x^5 + 92*x^4 + 82*x^3 + 112*x^2 + 81*x + 52) * (x^7 + 107*x^6 + 50*x^5 + 19*x^4 + 33*x^3 + 65*x^2 + 75*x + 14) * (x^7 + 107*x^6 + 63*x^5 + 111*x^4 + 49*x^3 + 46*x^2 + 57*x + 56) * (x^7 + 107*x^6 + 111*x^5 + 33*x^4 + 13*x^3 + 106*x^2 + 10*x + 11) * (x^7 + 107*x^6 + 121*x^5 + 105*x^4 + 7*x^3 + 77*x^2 + 83*x + 61) * (x^7 + 108*x^6 + 11*x^5 + 114*x^4 + 73*x^3 + 31*x^2 + 94*x + 122) * (x^7 + 108*x^6 + 18*x^5 + 45*x^4 + 53*x^3 + 102*x^2 + 13*x + 39) * (x^7 + 108*x^6 + 36*x^5 + 62*x^4 + 49*x^3 + 20*x^2 + 60*x + 114) * (x^7 + 108*x^6 + 57*x^5 + 72*x^4 + 18*x^3 + 80*x^2 + 83*x + 73) * (x^7 + 108*x^6 + 86*x^5 + 26*x^4 + 3*x^3 + 93*x^2 + 41*x + 108) * (x^7 + 108*x^6 + 95*x^5 + 54*x^4 + 111*x^3 + 111*x^2 + 19*x + 85) * (x^7 + 109*x^6 + 25*x^5 + 30*x^4 + 90*x^3 + 42*x^2 + 34*x + 11) * (x^7 + 109*x^6 + 28*x^5 + 12*x^4 + 5*x^3 + 63*x^2 + 31*x + 15) * (x^7 + 109*x^6 + 42*x^5 + 124*x^4 + 100*x^3 + 114*x^2 + 121*x + 113) * (x^7 + 109*x^6 + 49*x^5 + 126*x^4 + 28*x^3 + 28*x^2 + 23*x + 45) * (x^7 + 109*x^6 + 120*x^5 + 124*x^4 + 93*x^3 + 56*x^2 + 105*x + 101) * (x^7 + 110*x^6 + 11*x^5 + 2*x^4 + 16*x^3 + 104*x^2 + 77*x + 99) * (x^7 + 110*x^6 + 41*x^5 + 39*x^4 + 49*x^3 + 26*x^2 + 57*x + 109) * (x^7 + 110*x^6 + 105*x^5 + 23*x^4 + 70*x^3 + 52*x^2 + 62*x + 76) * (x^7 + 110*x^6 + 117*x^5 + 79*x^4 + 111*x^3 + 58*x^2 + 42*x + 100) * (x^7 + 111*x^6 + 28*x^5 + 51*x^4 + 104*x^3 + 104*x^2 + 21*x + 122) * (x^7 + 111*x^6 + 94*x^5 + 82*x^4 + 22*x^3 + 113*x^2 + 29*x + 13) * (x^7 + 112*x^6 + x^5 + 122*x^4 + 58*x^3 + 65*x^2 + 116*x + 62) * (x^7 + 112*x^6 + 40*x^5 + 71*x^4 + 68*x^3 + 65*x^2 + 17*x + 60) * (x^7 + 112*x^6 + 50*x^5 + 30*x^4 + 97*x^3 + 59*x^2 + 56*x + 53) * (x^7 + 112*x^6 + 103*x^5 + 32*x^4 + 96*x^3 + 2*x^2 + 115*x + 123) * (x^7 + 113*x^6 + 50*x^5 + 103*x^4 + 89*x^3 + 39*x^2 + 61*x + 67) * (x^7 + 114*x^6 + 74*x^5 + 9*x^4 + 99*x^3 + 25*x^2 + 75*x + 97) * (x^7 + 114*x^6 + 76*x^5 + 111*x^4 + 73*x^3 + 14*x^2 + 40*x + 35) * (x^7 + 114*x^6 + 96*x^5 + 8*x^4 + 59*x^3 + 107*x^2 + 109*x + 82) * (x^7 + 114*x^6 + 98*x^5 + 86*x^4 + 62*x^3 + 71*x^2 + 117*x + 47) * (x^7 + 115*x^6 + 52*x^5 + 82*x^4 + 56*x^3 + 44*x^2 + 24*x + 82) * (x^7 + 115*x^6 + 55*x^5 + 83*x^4 + 90*x^3 + 34*x^2 + 110*x + 47) * (x^7 + 115*x^6 + 87*x^5 + 73*x^4 + 112*x^3 + 29*x^2 + 38*x + 116) * (x^7 + 115*x^6 + 99*x^5 + 31*x^4 + 25*x^3 + 20*x^2 + 34*x + 46) * (x^7 + 115*x^6 + 121*x^5 + 38*x^4 + 94*x^3 + 85*x^2 + 84*x + 71) * (x^7 + 116*x^6 + 20*x^5 + 11*x^4 + 94*x^3 + 37*x^2 + 23*x + 95) * (x^7 + 116*x^6 + 24*x^5 + 84*x^4 + 75*x^3 + 71*x^2 + 37*x + 126) * (x^7 + 116*x^6 + 68*x^5 + 27*x^4 + 22*x^3 + 10*x^2 + 35*x + 121) * (x^7 + 116*x^6 + 76*x^5 + 32*x^4 + 17*x^3 + 126*x^2 + 116*x + 21) * (x^7 + 116*x^6 + 96*x^5 + 62*x^4 + 44*x^3 + 51*x^2 + 71*x + 119) * (x^7 + 116*x^6 + 124*x^5 + 53*x^4 + 112*x^3 + 21*x^2 + 28*x + 80) * (x^7 + 117*x^6 + 32*x^5 + 33*x^4 + 104*x^3 + 100*x^2 + 82*x + 65) * (x^7 + 117*x^6 + 55*x^5 + 73*x^4 + 11*x^3 + 102*x^2 + 118*x + 43) * (x^7 + 117*x^6 + 96*x^5 + 44*x^4 + 5*x^3 + 63*x^2 + 118*x + 32) * (x^7 + 118*x^6 + 23*x^5 + 92*x^4 + 109*x^3 + 36*x^2 + 41*x + 84) * (x^7 + 118*x^6 + 113*x^5 + 42*x^4 + 110*x^3 + 119*x + 121) * (x^7 + 119*x^6 + 25*x^5 + 106*x^4 + 91*x^3 + 117*x^2 + 66*x + 51) * (x^7 + 119*x^6 + 54*x^5 + 48*x^4 + 51*x^3 + 111*x^2 + 113*x + 23) * (x^7 + 119*x^6 + 81*x^5 + 99*x^4 + 114*x^3 + 126*x^2 + 25*x + 99) * (x^7 + 119*x^6 + 98*x^5 + 7*x^4 + 70*x^3 + 63*x^2 + 124*x + 108) * (x^7 + 120*x^6 + 29*x^5 + 126*x^4 + 91*x^3 + 80*x^2 + 69*x + 125) * (x^7 + 120*x^6 + 54*x^5 + 79*x^4 + 37*x^3 + 59*x^2 + 108*x + 126) * (x^7 + 120*x^6 + 89*x^5 + 16*x^4 + 97*x^3 + 87*x^2 + 70*x + 74) * (x^7 + 121*x^6 + 68*x^5 + 93*x^4 + 62*x^3 + 54*x^2 + 45*x + 122) * (x^7 + 121*x^6 + 90*x^5 + 44*x^4 + 102*x^3 + 45*x^2 + 45*x + 20) * (x^7 + 122*x^6 + 4*x^5 + 124*x^4 + 49*x^3 + 103*x^2 + 71*x + 58) * (x^7 + 122*x^6 + 26*x^5 + 48*x^4 + 97*x^3 + 75*x^2 + 104*x + 4) * (x^7 + 122*x^6 + 30*x^5 + 14*x^4 + 55*x^3 + 40*x^2 + 31*x + 102) * (x^7 + 122*x^6 + 48*x^5 + 71*x^4 + 118*x^3 + 106*x^2 + 109*x + 70) * (x^7 + 122*x^6 + 49*x^5 + 16*x^4 + 95*x^3 + 114*x^2 + 100*x + 52) * (x^7 + 122*x^6 + 88*x^5 + 33*x^4 + 91*x^3 + 47*x + 112) * (x^7 + 122*x^6 + 98*x^5 + 86*x^4 + 111*x^3 + 73*x^2 + 54*x + 56) * (x^7 + 122*x^6 + 117*x^5 + 66*x^4 + 75*x^3 + 99*x^2 + 60*x + 56) * (x^7 + 123*x^6 + 77*x^5 + 27*x^4 + 87*x^3 + 22*x^2 + 49*x + 96) * (x^7 + 123*x^6 + 126*x^5 + 62*x^4 + 120*x^3 + 107*x^2 + 100*x + 118) * (x^7 + 124*x^6 + 120*x^5 + 120*x^4 + 75*x^3 + 107*x^2 + 10*x + 100) * (x^7 + 125*x^6 + 2*x^5 + 112*x^4 + 28*x^3 + 123*x^2 + 84*x + 75) * (x^7 + 125*x^6 + 53*x^5 + 76*x^4 + 95*x^3 + 79*x^2 + 78*x + 82) * (x^7 + 125*x^6 + 87*x^5 + 80*x^4 + 32*x^3 + 116*x^2 + 125*x + 121) * (x^7 + 125*x^6 + 97*x^5 + 38*x^4 + 48*x^3 + 123*x^2 + 106*x + 117) * (x^7 + 126*x^6 + 83*x^5 + 41*x^4 + 112*x^3 + 74*x^2 + 118*x + 123) * (x^7 + 126*x^6 + 126*x^5 + 50*x^4 + 67*x^3 + 55*x^2 + 100*x + 9) * (x^21 + x^20 + 101*x^19 + 122*x^18 + 66*x^17 + 14*x^16 + 33*x^15 + 22*x^14 + 52*x^13 + 21*x^12 + 105*x^11 + 45*x^10 + 47*x^9 + 103*x^8 + 50*x^7 + 122*x^6 + 38*x^5 + 107*x^4 + 75*x^3 + 3*x^2 + 101*x + 52) * (x^21 + x^20 + 105*x^19 + 10*x^18 + 117*x^17 + 113*x^16 + 106*x^15 + 93*x^14 + 102*x^13 + 100*x^12 + 104*x^11 + 122*x^10 + 100*x^9 + 94*x^8 + 107*x^7 + 101*x^6 + 91*x^5 + 97*x^4 + 55*x^3 + 25*x^2 + 55*x + 58) * (x^21 + 3*x^20 + 27*x^19 + 97*x^18 + 60*x^17 + 20*x^16 + 29*x^15 + 86*x^14 + 79*x^13 + 84*x^12 + 81*x^11 + 68*x^10 + 112*x^9 + 87*x^8 + 73*x^7 + 33*x^6 + 107*x^5 + 12*x^4 + 104*x^3 + 74*x^2 + 21*x + 18) * (x^21 + 3*x^20 + 42*x^19 + 40*x^18 + 84*x^17 + 83*x^16 + 32*x^15 + 126*x^14 + 81*x^13 + 112*x^12 + 112*x^11 + 18*x^10 + 74*x^9 + 33*x^8 + 2*x^7 + 93*x^6 + 38*x^5 + 120*x^4 + 77*x^3 + 55*x^2 + 83*x + 101) * (x^21 + 4*x^20 + 30*x^19 + 106*x^18 + 67*x^17 + 116*x^16 + 121*x^15 + 26*x^14 + 21*x^13 + 114*x^11 + 84*x^10 + 30*x^9 + 82*x^8 + 65*x^7 + 85*x^6 + 34*x^5 + 66*x^4 + 104*x^3 + 96*x^2 + 119*x + 38) * (x^21 + 4*x^20 + 89*x^19 + 103*x^18 + 81*x^17 + 33*x^16 + 120*x^15 + 57*x^14 + 41*x^13 + 89*x^12 + 4*x^11 + 67*x^10 + 125*x^9 + 92*x^8 + 18*x^7 + 63*x^6 + 91*x^5 + 3*x^4 + 8*x^3 + 29*x^2 + 121*x + 5) * (x^21 + 4*x^20 + 106*x^19 + 83*x^18 + 35*x^17 + 54*x^16 + 53*x^15 + 28*x^14 + 72*x^13 + 2*x^12 + 105*x^11 + 12*x^10 + 107*x^9 + 36*x^8 + 28*x^7 + 2*x^6 + 53*x^5 + 114*x^4 + 63*x^3 + 27*x^2 + 79*x + 95) * (x^21 + 5*x^20 + 14*x^19 + 89*x^18 + 13*x^17 + 101*x^16 + 110*x^15 + 76*x^14 + 117*x^13 + 52*x^12 + 65*x^11 + 44*x^10 + 56*x^9 + 37*x^8 + 26*x^7 + 28*x^6 + 24*x^5 + 51*x^4 + 107*x^3 + 38*x^2 + 121*x + 20) * (x^21 + 5*x^20 + 31*x^19 + 22*x^18 + 13*x^17 + 116*x^16 + 66*x^15 + 11*x^14 + 15*x^13 + 17*x^12 + 66*x^11 + 51*x^10 + 113*x^9 + 79*x^8 + 41*x^7 + 40*x^6 + 13*x^5 + 103*x^4 + 109*x^3 + 107*x^2 + 119*x + 80) * (x^21 + 5*x^20 + 58*x^19 + 64*x^18 + 4*x^17 + 6*x^16 + 113*x^15 + 63*x^14 + 30*x^13 + 16*x^12 + 74*x^11 + 92*x^10 + 86*x^9 + 96*x^8 + 65*x^7 + 23*x^6 + 66*x^5 + 64*x^4 + 89*x^3 + 76*x^2 + 50*x + 114) * (x^21 + 5*x^20 + 104*x^19 + 2*x^18 + 109*x^17 + 8*x^16 + 33*x^15 + 96*x^14 + 105*x^13 + 83*x^12 + 113*x^11 + 64*x^10 + 44*x^9 + 90*x^8 + 35*x^7 + 114*x^6 + 50*x^5 + 90*x^4 + 90*x^3 + 74*x^2 + 12*x + 29) * (x^21 + 7*x^20 + 21*x^19 + 123*x^18 + 94*x^17 + 35*x^16 + 22*x^15 + 104*x^14 + 10*x^13 + 5*x^12 + 29*x^11 + 69*x^10 + 13*x^9 + 120*x^8 + 102*x^7 + 32*x^6 + 77*x^5 + 100*x^4 + 102*x^3 + 114*x^2 + 47*x + 30) * (x^21 + 10*x^20 + 56*x^19 + 51*x^18 + 37*x^17 + 26*x^16 + 20*x^15 + 79*x^14 + 81*x^13 + 121*x^12 + 45*x^11 + 108*x^10 + 119*x^8 + 10*x^7 + 15*x^6 + 30*x^5 + 119*x^4 + 86*x^3 + 109*x + 12) * (x^21 + 10*x^20 + 65*x^19 + 110*x^18 + 85*x^17 + 91*x^16 + 123*x^15 + 18*x^14 + 92*x^13 + 43*x^12 + 75*x^11 + 39*x^10 + 86*x^9 + 123*x^8 + 101*x^7 + 4*x^6 + 101*x^5 + 109*x^4 + 2*x^3 + 100*x^2 + 29*x + 115) * (x^21 + 10*x^20 + 109*x^19 + 2*x^18 + 49*x^17 + 73*x^16 + 26*x^15 + 53*x^14 + 23*x^13 + 55*x^12 + 56*x^11 + 94*x^10 + 116*x^9 + 83*x^8 + 5*x^7 + 37*x^6 + 48*x^5 + 97*x^4 + 12*x^3 + 9*x^2 + 68*x + 26) * (x^21 + 12*x^20 + 117*x^19 + 15*x^18 + 18*x^17 + 117*x^16 + 56*x^15 + 57*x^14 + 70*x^13 + 48*x^12 + 63*x^11 + 29*x^10 + 67*x^9 + 89*x^8 + 92*x^7 + 81*x^6 + 7*x^5 + 9*x^4 + 88*x^3 + 16*x^2 + x + 45) * (x^21 + 12*x^20 + 117*x^19 + 71*x^18 + 82*x^17 + 58*x^16 + 76*x^15 + 16*x^14 + 124*x^13 + 95*x^12 + 87*x^11 + 93*x^10 + 114*x^9 + 86*x^8 + 113*x^7 + 84*x^6 + 39*x^5 + 8*x^4 + 36*x^3 + 122*x^2 + 100*x + 41) * (x^21 + 13*x^20 + 68*x^19 + 15*x^18 + 40*x^17 + 7*x^16 + 64*x^15 + 12*x^14 + 123*x^13 + 54*x^12 + 88*x^11 + 107*x^10 + 12*x^9 + 71*x^8 + 64*x^7 + 18*x^6 + 117*x^5 + 52*x^4 + 125*x^3 + 74*x^2 + 104*x + 29) * (x^21 + 13*x^20 + 86*x^19 + 23*x^18 + 100*x^17 + 4*x^16 + 105*x^15 + 64*x^14 + 29*x^13 + 59*x^12 + 58*x^11 + 53*x^10 + 117*x^9 + 75*x^8 + 15*x^7 + 7*x^6 + 13*x^5 + 46*x^4 + 10*x^3 + 27*x^2 + 49*x + 18) * (x^21 + 14*x^20 + 9*x^19 + 27*x^18 + 120*x^17 + 66*x^16 + 109*x^15 + 48*x^14 + 21*x^13 + 32*x^12 + 43*x^11 + 119*x^10 + 53*x^9 + 65*x^8 + 48*x^7 + 117*x^6 + 82*x^5 + 122*x^4 + 48*x^3 + 36*x^2 + 97*x + 7) * (x^21 + 14*x^20 + 12*x^19 + 40*x^18 + 22*x^17 + 19*x^16 + 40*x^15 + 84*x^14 + 12*x^13 + 11*x^12 + 31*x^11 + 109*x^10 + 105*x^9 + 25*x^8 + 100*x^7 + 122*x^6 + 82*x^5 + 97*x^4 + 39*x^3 + 61*x^2 + 111*x + 62) * (x^21 + 15*x^20 + 36*x^19 + 109*x^18 + 52*x^17 + 17*x^16 + 25*x^15 + 124*x^14 + 12*x^13 + 5*x^12 + 89*x^11 + 7*x^10 + 112*x^9 + 10*x^8 + 85*x^7 + 70*x^6 + 65*x^5 + 115*x^4 + 97*x^3 + 13*x^2 + 19*x + 35) * (x^21 + 15*x^20 + 58*x^19 + 25*x^18 + 74*x^17 + 123*x^16 + 100*x^15 + 50*x^14 + 77*x^13 + 121*x^12 + 67*x^11 + 12*x^10 + 120*x^9 + 13*x^8 + 53*x^7 + 79*x^6 + 71*x^5 + 56*x^4 + 124*x^3 + 57*x^2 + 56*x + 43) * (x^21 + 15*x^20 + 65*x^19 + 125*x^18 + 39*x^17 + 122*x^16 + 86*x^15 + 56*x^14 + 28*x^13 + 33*x^12 + 106*x^11 + 28*x^10 + 31*x^9 + 125*x^8 + 62*x^7 + 90*x^6 + 100*x^5 + 106*x^4 + 22*x^3 + 47*x^2 + 60*x + 37) * (x^21 + 16*x^20 + 33*x^19 + 32*x^18 + 58*x^17 + 8*x^16 + 20*x^15 + 52*x^14 + 75*x^13 + 83*x^12 + 75*x^11 + 69*x^10 + 63*x^9 + 126*x^8 + 57*x^7 + 97*x^6 + 29*x^5 + 57*x^4 + 120*x^3 + 86*x^2 + 52*x + 20) * (x^21 + 16*x^20 + 90*x^19 + 42*x^18 + 63*x^17 + 6*x^16 + 81*x^15 + 16*x^14 + 73*x^13 + 115*x^12 + 123*x^11 + 40*x^10 + 17*x^9 + 71*x^7 + 33*x^6 + 71*x^5 + 22*x^4 + 113*x^3 + 16*x^2 + 97*x + 36) * (x^21 + 16*x^20 + 96*x^19 + 93*x^18 + 36*x^17 + 55*x^16 + 65*x^15 + 125*x^14 + 29*x^13 + 106*x^12 + 27*x^11 + 5*x^10 + 122*x^9 + 21*x^8 + 10*x^7 + 23*x^6 + 45*x^5 + 99*x^4 + 103*x^3 + 102*x^2 + 45*x + 60) * (x^21 + 17*x^20 + 120*x^19 + 67*x^18 + 106*x^17 + 104*x^16 + 54*x^15 + 27*x^14 + 85*x^13 + x^12 + 72*x^11 + 117*x^10 + 112*x^9 + 82*x^8 + 38*x^7 + 117*x^6 + 108*x^5 + 10*x^4 + 116*x^3 + 30*x^2 + 57*x + 98) * (x^21 + 19*x^20 + 33*x^19 + 51*x^18 + 51*x^17 + 63*x^16 + 61*x^15 + 17*x^14 + 47*x^13 + 37*x^12 + 3*x^11 + 18*x^10 + 7*x^9 + 6*x^8 + 6*x^7 + 110*x^6 + 126*x^5 + 49*x^4 + 115*x^3 + 46*x^2 + 63*x + 102) * (x^21 + 20*x^20 + 65*x^19 + 51*x^18 + 18*x^17 + 21*x^16 + 8*x^15 + 43*x^14 + 54*x^13 + 81*x^12 + 79*x^11 + 35*x^10 + 100*x^9 + 47*x^8 + 94*x^7 + 4*x^6 + 38*x^5 + 30*x^4 + 64*x^3 + 60*x^2 + 42*x + 57) * (x^21 + 20*x^20 + 98*x^19 + 60*x^18 + 12*x^17 + 106*x^16 + 21*x^15 + 9*x^14 + 84*x^13 + 41*x^12 + 66*x^11 + 96*x^10 + 53*x^9 + 122*x^8 + 24*x^7 + 14*x^6 + 117*x^5 + 52*x^4 + 73*x^3 + 25*x^2 + 8*x + 100) * (x^21 + 20*x^20 + 117*x^19 + 121*x^18 + 19*x^17 + 118*x^16 + 14*x^15 + 79*x^14 + 28*x^13 + 36*x^12 + 29*x^11 + 66*x^10 + 52*x^9 + 58*x^8 + 39*x^7 + 48*x^6 + 21*x^5 + 18*x^4 + 81*x^3 + 104*x^2 + 118*x + 102) * (x^21 + 21*x^20 + 98*x^19 + 2*x^18 + 122*x^17 + 98*x^16 + 31*x^15 + 28*x^14 + 16*x^13 + 88*x^12 + 93*x^11 + 70*x^10 + 25*x^9 + 125*x^8 + 77*x^7 + 48*x^6 + 108*x^5 + 96*x^4 + 100*x^3 + 110*x^2 + 122*x + 99) * (x^21 + 23*x^20 + 37*x^19 + 50*x^18 + 116*x^17 + 92*x^16 + 15*x^15 + 108*x^14 + 90*x^13 + 31*x^12 + 113*x^11 + 90*x^10 + 45*x^9 + 97*x^8 + 6*x^6 + 15*x^5 + 13*x^4 + 23*x^3 + 105*x^2 + 93*x + 121) * (x^21 + 23*x^20 + 78*x^19 + 80*x^18 + 15*x^17 + 57*x^16 + 21*x^15 + 87*x^14 + 46*x^13 + 66*x^12 + 29*x^11 + 10*x^10 + 91*x^9 + 104*x^8 + 23*x^7 + 96*x^6 + 24*x^5 + 7*x^4 + 69*x^3 + 81*x^2 + 30*x + 32) * (x^21 + 24*x^20 + 22*x^19 + 17*x^18 + 78*x^17 + 119*x^16 + 7*x^15 + 41*x^14 + 13*x^12 + 11*x^11 + 72*x^10 + 20*x^9 + 92*x^8 + 63*x^7 + 63*x^6 + 73*x^5 + 65*x^4 + 109*x^3 + 69*x^2 + 32*x + 109) * (x^21 + 24*x^20 + 87*x^19 + 68*x^18 + 94*x^17 + 97*x^16 + 38*x^15 + 37*x^14 + 108*x^13 + 110*x^12 + 81*x^11 + 105*x^10 + 111*x^9 + 101*x^8 + 38*x^7 + 95*x^6 + 55*x^5 + 20*x^4 + 37*x^3 + 46*x^2 + 88*x + 17) * (x^21 + 24*x^20 + 114*x^19 + 126*x^18 + 68*x^17 + 46*x^16 + 36*x^15 + 61*x^14 + 96*x^13 + 66*x^12 + 39*x^11 + 11*x^10 + 30*x^9 + 109*x^8 + 91*x^7 + 84*x^6 + 115*x^5 + 27*x^4 + 3*x^3 + 68*x^2 + 61*x + 90) * (x^21 + 25*x^20 + 105*x^19 + 38*x^18 + 97*x^17 + 3*x^16 + 22*x^15 + 63*x^14 + x^13 + 5*x^12 + 112*x^11 + 83*x^10 + 68*x^9 + 25*x^8 + 97*x^7 + 91*x^6 + 115*x^5 + 115*x^4 + 39*x^3 + 92*x^2 + 110*x + 14) * (x^21 + 26*x^20 + 16*x^19 + 55*x^18 + 87*x^17 + 40*x^16 + 108*x^15 + 50*x^14 + 110*x^13 + 2*x^12 + 76*x^11 + 126*x^10 + 81*x^9 + 7*x^8 + 77*x^7 + 52*x^6 + 83*x^5 + 18*x^4 + 24*x^3 + 122*x^2 + 56*x + 105) * (x^21 + 26*x^20 + 118*x^19 + 95*x^18 + 68*x^17 + 86*x^16 + 25*x^15 + 123*x^14 + 71*x^13 + 18*x^12 + 7*x^11 + 20*x^10 + 111*x^9 + 12*x^8 + 123*x^7 + 87*x^6 + 20*x^5 + 99*x^4 + 18*x^3 + 16*x^2 + 74*x + 58) * (x^21 + 26*x^20 + 122*x^19 + 95*x^18 + 77*x^17 + 124*x^16 + 82*x^15 + 25*x^14 + x^13 + 84*x^12 + 121*x^11 + 121*x^10 + 48*x^9 + 54*x^8 + 24*x^7 + 67*x^6 + 109*x^5 + 35*x^4 + 26*x^3 + 71*x^2 + 35*x + 124) * (x^21 + 27*x^20 + 12*x^19 + 27*x^18 + 18*x^17 + 27*x^16 + 50*x^15 + 60*x^14 + 37*x^13 + 107*x^12 + 116*x^11 + 48*x^10 + 66*x^9 + 36*x^8 + 34*x^7 + 85*x^6 + 88*x^5 + 113*x^4 + 110*x^3 + 113*x + 35) * (x^21 + 27*x^20 + 36*x^19 + 114*x^18 + 98*x^17 + 18*x^16 + 41*x^15 + 100*x^14 + 120*x^13 + 39*x^12 + 66*x^11 + 113*x^9 + 120*x^8 + 101*x^7 + 88*x^6 + 75*x^5 + 40*x^4 + 54*x^3 + 121*x^2 + 52*x + 99) * (x^21 + 27*x^20 + 73*x^19 + 30*x^18 + 38*x^17 + 34*x^16 + 13*x^15 + 74*x^14 + 60*x^13 + 48*x^12 + 125*x^11 + 95*x^10 + 108*x^9 + 50*x^8 + 3*x^7 + 20*x^6 + 111*x^5 + 46*x^4 + 3*x^3 + 67*x^2 + 79*x + 32) * (x^21 + 28*x^20 + 44*x^19 + 45*x^18 + 116*x^17 + 6*x^16 + 118*x^15 + 4*x^14 + 116*x^13 + 15*x^12 + 124*x^11 + 77*x^10 + 22*x^9 + 71*x^8 + 38*x^7 + 2*x^6 + 103*x^5 + 114*x^4 + 101*x^3 + 73*x^2 + 117*x + 107) * (x^21 + 28*x^20 + 81*x^19 + 126*x^18 + 44*x^17 + 124*x^16 + 48*x^15 + 3*x^14 + 105*x^13 + 126*x^12 + 108*x^11 + 59*x^10 + 35*x^9 + 75*x^8 + 90*x^7 + 64*x^6 + 84*x^5 + 6*x^4 + 108*x^3 + 125*x^2 + 5*x + 115) * (x^21 + 29*x^20 + 15*x^19 + 32*x^18 + 119*x^17 + 34*x^16 + 63*x^15 + 111*x^14 + 74*x^13 + 67*x^12 + 101*x^11 + 111*x^10 + 82*x^9 + 91*x^8 + 109*x^7 + 62*x^6 + 44*x^5 + 121*x^4 + 74*x^3 + 19*x^2 + 91*x + 43) * (x^21 + 29*x^20 + 62*x^19 + 60*x^18 + 28*x^17 + 26*x^16 + 109*x^15 + 31*x^14 + 5*x^13 + 94*x^12 + 99*x^11 + x^10 + 73*x^9 + 58*x^8 + 114*x^7 + 79*x^6 + 72*x^5 + 121*x^4 + 53*x^3 + 118*x + 41) * (x^21 + 31*x^20 + 5*x^19 + 10*x^18 + 14*x^17 + 115*x^16 + 59*x^15 + 2*x^14 + 40*x^13 + 7*x^12 + 58*x^11 + 21*x^10 + 18*x^9 + 63*x^8 + 107*x^7 + 59*x^6 + 60*x^5 + 85*x^4 + 40*x^3 + 8*x^2 + 90*x + 33) * (x^21 + 31*x^20 + 36*x^19 + 51*x^18 + 112*x^17 + 107*x^16 + 78*x^15 + 4*x^14 + 24*x^13 + 36*x^12 + 101*x^11 + 64*x^10 + 98*x^9 + 59*x^8 + 31*x^7 + 76*x^6 + 103*x^5 + 89*x^4 + 77*x^3 + 112*x^2 + 84*x + 103) * (x^21 + 31*x^20 + 98*x^19 + 34*x^18 + 39*x^17 + 77*x^16 + 65*x^15 + 33*x^14 + 89*x^13 + 83*x^12 + 60*x^11 + 65*x^10 + 48*x^9 + 95*x^8 + 77*x^7 + 53*x^6 + 10*x^5 + 71*x^4 + 33*x^3 + 50*x^2 + 101*x + 26) * (x^21 + 32*x^20 + 105*x^19 + 25*x^18 + 55*x^17 + 62*x^16 + 88*x^15 + 32*x^14 + x^13 + 20*x^12 + 30*x^11 + 83*x^10 + 106*x^9 + 78*x^8 + 102*x^7 + 19*x^6 + 20*x^5 + 125*x^4 + 84*x^3 + 66*x^2 + 58*x + 52) * (x^21 + 32*x^20 + 113*x^19 + 56*x^18 + 87*x^17 + 17*x^16 + 63*x^15 + 77*x^14 + 126*x^13 + 40*x^12 + 109*x^11 + 43*x^10 + 26*x^9 + 72*x^8 + 62*x^7 + 93*x^6 + x^5 + 99*x^4 + 67*x^3 + 25*x^2 + 106*x + 52) * (x^21 + 33*x^20 + x^19 + 73*x^18 + 16*x^17 + 124*x^16 + 60*x^15 + 118*x^14 + 31*x^13 + 60*x^12 + 46*x^11 + 7*x^10 + 101*x^9 + 21*x^8 + 97*x^7 + 91*x^6 + 118*x^5 + 66*x^4 + 71*x^2 + 38*x + 19) * (x^21 + 34*x^20 + 73*x^19 + 87*x^18 + 50*x^17 + 57*x^16 + 99*x^15 + 15*x^14 + 100*x^13 + 10*x^12 + 41*x^11 + 97*x^10 + 25*x^9 + 53*x^8 + 106*x^7 + 37*x^6 + 79*x^5 + 20*x^4 + 68*x^3 + 28*x^2 + 109*x + 31) * (x^21 + 35*x^20 + 109*x^19 + 124*x^18 + 62*x^17 + 115*x^16 + 88*x^15 + 21*x^14 + 93*x^13 + 6*x^12 + 22*x^11 + 8*x^10 + 118*x^9 + 57*x^8 + 4*x^7 + 39*x^6 + 44*x^5 + 19*x^4 + 58*x^3 + 113*x^2 + 85*x + 73) * (x^21 + 36*x^20 + 18*x^19 + 21*x^18 + 110*x^17 + 57*x^16 + 101*x^15 + 69*x^14 + 83*x^13 + 24*x^12 + 72*x^11 + 73*x^10 + 23*x^9 + 64*x^8 + 68*x^7 + 50*x^6 + 74*x^5 + 81*x^4 + 102*x^3 + 76*x^2 + 84*x + 48) * (x^21 + 36*x^20 + 118*x^19 + x^18 + 27*x^17 + 102*x^16 + 53*x^15 + 115*x^14 + 88*x^13 + 82*x^12 + 6*x^11 + 125*x^10 + 73*x^9 + 93*x^8 + 121*x^7 + 77*x^6 + 81*x^5 + 95*x^4 + 6*x^3 + 102*x + 95) * (x^21 + 37*x^20 + 25*x^19 + 111*x^18 + 114*x^17 + 87*x^16 + 124*x^15 + 124*x^14 + 52*x^13 + 6*x^12 + 39*x^11 + 10*x^10 + 18*x^8 + 5*x^7 + 126*x^6 + 50*x^5 + 110*x^4 + 57*x^3 + x^2 + 114*x + 85) * (x^21 + 37*x^20 + 29*x^19 + 48*x^18 + 85*x^17 + 47*x^16 + 118*x^15 + 49*x^14 + 25*x^13 + 31*x^12 + 76*x^11 + 33*x^10 + 21*x^9 + 7*x^8 + 10*x^7 + 84*x^6 + 35*x^5 + 80*x^4 + 117*x^3 + 53*x^2 + 60*x + 15) * (x^21 + 37*x^20 + 55*x^19 + 9*x^18 + 64*x^17 + 102*x^16 + 99*x^15 + 16*x^14 + 10*x^13 + 75*x^12 + 28*x^11 + 54*x^10 + 87*x^9 + 120*x^8 + 60*x^7 + 116*x^6 + 79*x^5 + 83*x^4 + 69*x^3 + 55*x^2 + 103*x + 51) * (x^21 + 37*x^20 + 74*x^19 + 38*x^18 + 5*x^17 + 61*x^16 + 43*x^15 + 109*x^14 + 86*x^13 + 76*x^12 + 46*x^11 + 91*x^10 + 99*x^9 + 8*x^8 + 81*x^7 + 112*x^6 + 40*x^5 + 47*x^4 + 126*x^3 + 69*x^2 + 38*x + 54) * (x^21 + 37*x^20 + 93*x^19 + 124*x^18 + 107*x^17 + 68*x^16 + 77*x^15 + 35*x^14 + 108*x^13 + 121*x^12 + 71*x^11 + 86*x^10 + 36*x^9 + 4*x^8 + 25*x^7 + 52*x^6 + 104*x^5 + 13*x^4 + 24*x^3 + 77*x^2 + 12*x + 69) * (x^21 + 38*x^20 + 16*x^19 + 4*x^18 + 115*x^17 + 121*x^16 + 14*x^15 + 119*x^14 + 20*x^13 + 63*x^12 + 11*x^11 + 2*x^10 + 31*x^9 + 46*x^8 + 64*x^7 + 117*x^6 + 99*x^5 + 49*x^4 + 46*x^3 + 58*x^2 + 70*x + 101) * (x^21 + 38*x^20 + 43*x^19 + 77*x^18 + 6*x^17 + 25*x^16 + 79*x^15 + 113*x^14 + 57*x^13 + 69*x^12 + 76*x^11 + 44*x^10 + 40*x^9 + 77*x^8 + 117*x^7 + 92*x^6 + 50*x^5 + 24*x^4 + 74*x^3 + 80*x^2 + 81*x + 62) * (x^21 + 38*x^20 + 84*x^19 + x^18 + 99*x^17 + 89*x^16 + 62*x^15 + 109*x^14 + 4*x^13 + 34*x^12 + 125*x^11 + 73*x^10 + 99*x^9 + 64*x^8 + 75*x^7 + 22*x^6 + 121*x^5 + 64*x^4 + 113*x^3 + 10*x^2 + 52*x + 47) * (x^21 + 38*x^20 + 107*x^19 + 47*x^18 + 84*x^17 + 53*x^16 + 121*x^15 + 82*x^14 + 7*x^13 + 12*x^12 + 117*x^11 + 49*x^10 + 93*x^9 + 115*x^8 + 77*x^7 + 33*x^6 + 71*x^5 + 32*x^4 + 62*x^3 + 68*x^2 + 67*x + 95) * (x^21 + 39*x^20 + x^19 + 116*x^18 + 26*x^17 + 4*x^16 + 42*x^15 + 88*x^14 + 58*x^13 + 72*x^12 + 46*x^11 + 24*x^10 + 72*x^9 + 114*x^8 + 118*x^7 + 26*x^6 + 6*x^5 + 12*x^4 + 42*x^3 + 50*x^2 + 94*x + 3) * (x^21 + 39*x^20 + 65*x^19 + 53*x^18 + 13*x^17 + 15*x^16 + 122*x^15 + 105*x^14 + 36*x^13 + 25*x^12 + 116*x^11 + 118*x^10 + x^9 + 109*x^8 + 8*x^7 + 106*x^6 + 81*x^5 + 112*x^4 + 70*x^3 + 46*x^2 + 44*x + 46) * (x^21 + 39*x^20 + 110*x^19 + 49*x^18 + 104*x^17 + x^16 + 19*x^15 + 34*x^14 + 32*x^13 + 102*x^12 + 122*x^11 + 87*x^10 + 49*x^9 + 118*x^8 + 47*x^7 + 114*x^6 + 2*x^5 + 93*x^4 + 124*x^3 + 98*x^2 + 92*x + 90) * (x^21 + 40*x^20 + 38*x^19 + 17*x^18 + 9*x^17 + 45*x^16 + 44*x^15 + 21*x^14 + 42*x^13 + 55*x^12 + 27*x^11 + 12*x^10 + 102*x^9 + 58*x^8 + 91*x^7 + 44*x^6 + 23*x^5 + 2*x^4 + 126*x^3 + 58*x^2 + 94*x + 110) * (x^21 + 40*x^20 + 99*x^19 + 9*x^18 + 29*x^17 + 18*x^16 + 78*x^15 + 97*x^14 + 87*x^13 + 2*x^12 + 64*x^11 + 36*x^10 + 20*x^9 + 51*x^8 + 29*x^7 + 32*x^6 + 28*x^5 + 116*x^4 + 92*x^3 + 111*x^2 + 103*x + 83) * (x^21 + 42*x^20 + 7*x^19 + 81*x^18 + 40*x^16 + 99*x^15 + 78*x^14 + 84*x^13 + 4*x^12 + 49*x^11 + 73*x^10 + 90*x^9 + 120*x^8 + 19*x^7 + 66*x^6 + 22*x^5 + 65*x^4 + 15*x^3 + 38*x^2 + 65*x + 104) * (x^21 + 42*x^20 + 45*x^19 + 40*x^18 + 107*x^17 + 68*x^16 + 36*x^15 + x^14 + 41*x^13 + 87*x^12 + 56*x^11 + 62*x^10 + 62*x^9 + 39*x^8 + 36*x^7 + 6*x^6 + 104*x^5 + 22*x^4 + 107*x^3 + 22*x^2 + 70*x + 75) * (x^21 + 43*x^20 + 78*x^19 + 79*x^18 + 74*x^17 + 87*x^16 + 85*x^15 + 15*x^14 + 41*x^13 + 24*x^12 + 31*x^11 + 44*x^10 + 8*x^9 + 30*x^8 + 94*x^7 + 105*x^6 + 111*x^5 + 76*x^4 + 65*x^3 + 78*x + 85) * (x^21 + 44*x^20 + 115*x^19 + 52*x^18 + 58*x^17 + 45*x^16 + 113*x^15 + 97*x^14 + 41*x^13 + 104*x^12 + 17*x^11 + 24*x^10 + 22*x^9 + 5*x^8 + 121*x^7 + 5*x^6 + 95*x^5 + 7*x^4 + 43*x^3 + 28*x^2 + 80*x + 11) * (x^21 + 45*x^20 + 111*x^19 + 46*x^18 + 13*x^17 + 74*x^16 + 113*x^15 + 2*x^14 + 97*x^13 + 67*x^12 + 83*x^11 + 19*x^10 + 111*x^9 + 35*x^8 + 104*x^7 + 57*x^6 + 82*x^5 + 76*x^4 + 48*x^3 + 43*x^2 + 10*x + 37) * (x^21 + 46*x^20 + 41*x^19 + 48*x^18 + 67*x^17 + 70*x^16 + 125*x^15 + 119*x^14 + 77*x^13 + 60*x^12 + 41*x^11 + 44*x^10 + 33*x^9 + 12*x^8 + 33*x^7 + 72*x^6 + 117*x^5 + 107*x^4 + 40*x^3 + 67*x^2 + 114*x + 67) * (x^21 + 46*x^20 + 63*x^19 + 32*x^18 + 79*x^17 + 111*x^16 + 13*x^15 + 36*x^14 + 51*x^13 + 84*x^12 + 113*x^11 + 101*x^10 + 46*x^9 + 117*x^8 + 53*x^7 + 93*x^6 + 8*x^5 + 27*x^4 + 41*x^3 + 93*x^2 + 124*x + 96) * (x^21 + 47*x^20 + 33*x^19 + 89*x^18 + 23*x^17 + 116*x^16 + 104*x^15 + 57*x^14 + 2*x^13 + 90*x^12 + 63*x^11 + 70*x^10 + 12*x^9 + 17*x^8 + 53*x^7 + 64*x^6 + 123*x^5 + 2*x^4 + 78*x^3 + 83*x^2 + 107*x + 29) * (x^21 + 47*x^20 + 66*x^19 + 60*x^18 + 35*x^17 + 96*x^16 + 81*x^15 + 56*x^14 + 33*x^13 + 4*x^12 + 93*x^11 + 118*x^10 + 41*x^9 + 34*x^8 + 52*x^7 + 2*x^6 + 61*x^5 + 125*x^4 + 54*x^3 + 46*x^2 + 2*x + 62) * (x^21 + 48*x^20 + 74*x^19 + 122*x^18 + 16*x^17 + 28*x^16 + 101*x^15 + 110*x^14 + 114*x^13 + 47*x^12 + 122*x^11 + 113*x^10 + 122*x^9 + 57*x^8 + 77*x^7 + 105*x^6 + 112*x^5 + 75*x^4 + 112*x^3 + 2*x^2 + 39*x + 55) * (x^21 + 49*x^20 + 16*x^19 + 46*x^18 + 3*x^17 + 11*x^16 + 50*x^15 + 113*x^14 + 76*x^13 + 126*x^12 + 49*x^11 + 47*x^10 + 79*x^9 + 11*x^8 + 57*x^7 + 35*x^6 + 49*x^5 + 9*x^4 + 2*x^3 + 39*x^2 + 38*x + 124) * (x^21 + 49*x^20 + 75*x^19 + 47*x^18 + 41*x^17 + 100*x^16 + 15*x^15 + 99*x^14 + 81*x^13 + 85*x^12 + 17*x^11 + 111*x^10 + 45*x^9 + 82*x^8 + 120*x^7 + 21*x^6 + 123*x^5 + 123*x^4 + 113*x^3 + 59*x^2 + 80*x + 82) * (x^21 + 49*x^20 + 112*x^19 + 93*x^18 + 91*x^17 + 41*x^16 + 54*x^15 + 82*x^14 + 23*x^13 + 119*x^12 + 96*x^11 + 39*x^10 + 76*x^9 + 53*x^7 + 116*x^6 + 61*x^5 + 94*x^4 + 87*x^3 + 53*x^2 + 31*x + 12) * (x^21 + 49*x^20 + 113*x^19 + 11*x^18 + 108*x^17 + 52*x^16 + 116*x^15 + 36*x^14 + 71*x^13 + 100*x^12 + 64*x^11 + 45*x^10 + 32*x^9 + 4*x^8 + 76*x^7 + 51*x^6 + 11*x^5 + 26*x^4 + 39*x^3 + 124*x^2 + 109*x + 7) * (x^21 + 50*x^20 + 10*x^19 + 60*x^18 + 95*x^17 + 123*x^16 + 47*x^15 + 16*x^14 + 6*x^13 + 59*x^12 + 15*x^11 + 14*x^10 + 37*x^9 + 39*x^8 + 46*x^7 + 20*x^6 + 30*x^5 + x^4 + 109*x^3 + 44*x^2 + 122*x + 22) * (x^21 + 50*x^20 + 44*x^19 + 111*x^18 + 13*x^16 + 70*x^15 + 124*x^14 + 47*x^13 + 123*x^12 + 20*x^11 + 60*x^10 + x^9 + 3*x^8 + 15*x^7 + 82*x^6 + 7*x^5 + 76*x^4 + 111*x^3 + 111*x^2 + 105*x + 53) * (x^21 + 50*x^20 + 92*x^19 + 65*x^18 + 108*x^17 + 118*x^16 + 33*x^15 + 22*x^14 + 14*x^13 + 44*x^12 + 39*x^11 + 76*x^10 + 125*x^9 + 119*x^8 + 91*x^7 + 121*x^6 + 65*x^5 + 72*x^4 + x^3 + 109*x^2 + 42*x + 12) * (x^21 + 51*x^20 + 74*x^18 + 66*x^17 + 87*x^16 + 73*x^15 + 16*x^14 + 37*x^13 + 3*x^12 + 108*x^11 + 12*x^10 + 108*x^9 + 114*x^8 + x^7 + 50*x^6 + 100*x^5 + 88*x^4 + 29*x^3 + 67*x^2 + 39*x + 87) * (x^21 + 51*x^20 + 23*x^19 + 61*x^18 + 58*x^17 + 9*x^16 + 18*x^15 + 21*x^14 + 45*x^13 + 38*x^12 + 55*x^11 + 51*x^10 + 120*x^9 + 59*x^8 + 97*x^7 + 92*x^6 + 106*x^5 + 99*x^4 + 13*x^3 + 73*x^2 + 101*x + 66) * (x^21 + 51*x^20 + 49*x^19 + 2*x^18 + 78*x^17 + 115*x^16 + 6*x^15 + 84*x^14 + 43*x^13 + 86*x^12 + 40*x^11 + 46*x^10 + 38*x^9 + 126*x^8 + 116*x^7 + 70*x^6 + 100*x^5 + 14*x^4 + 88*x^3 + 68*x^2 + 21*x + 29) * (x^21 + 51*x^20 + 53*x^19 + 70*x^18 + 34*x^17 + 45*x^16 + 72*x^15 + 28*x^14 + 41*x^13 + 87*x^12 + 58*x^11 + 15*x^10 + 64*x^9 + 33*x^8 + 94*x^7 + 22*x^6 + 70*x^5 + 125*x^4 + 37*x^3 + 112*x^2 + 34*x + 13) * (x^21 + 51*x^20 + 71*x^19 + 65*x^18 + 33*x^17 + 108*x^16 + 37*x^15 + 60*x^14 + 23*x^13 + 22*x^12 + 42*x^10 + 117*x^9 + 99*x^8 + 68*x^7 + 5*x^6 + 116*x^5 + 113*x^4 + 106*x^3 + 36*x^2 + 35) * (x^21 + 52*x^20 + 6*x^19 + 47*x^18 + 18*x^17 + 37*x^16 + 5*x^15 + 73*x^14 + 112*x^13 + 105*x^12 + 72*x^11 + 107*x^10 + 14*x^9 + 46*x^8 + 39*x^7 + 5*x^6 + 109*x^5 + 109*x^4 + 89*x^3 + 24*x^2 + 31*x + 33) * (x^21 + 52*x^20 + 10*x^19 + 112*x^18 + 125*x^17 + 61*x^16 + 53*x^15 + 58*x^14 + 84*x^13 + 93*x^12 + 67*x^11 + 80*x^10 + 115*x^9 + 105*x^8 + 112*x^7 + 63*x^6 + 64*x^5 + 4*x^4 + 29*x^3 + 124*x^2 + 120*x + 70) * (x^21 + 52*x^20 + 80*x^19 + 120*x^18 + 75*x^17 + 104*x^16 + 90*x^15 + 10*x^14 + 29*x^13 + 97*x^12 + 32*x^11 + 95*x^10 + 60*x^9 + 126*x^8 + 121*x^7 + 58*x^6 + 118*x^5 + 96*x^4 + 118*x^3 + 99*x^2 + 47*x + 63) * (x^21 + 52*x^20 + 118*x^19 + 95*x^18 + x^17 + 104*x^16 + 100*x^15 + 39*x^14 + 43*x^13 + 72*x^12 + 76*x^11 + 93*x^10 + 16*x^9 + 6*x^8 + 81*x^7 + 60*x^6 + 13*x^5 + 110*x^4 + 99*x^3 + 95*x^2 + 39*x + 82) * (x^21 + 53*x^20 + 11*x^19 + 115*x^18 + 121*x^17 + 107*x^16 + 38*x^15 + 69*x^14 + 99*x^13 + 41*x^12 + 6*x^11 + 45*x^10 + 76*x^9 + 32*x^8 + 44*x^7 + 61*x^6 + 109*x^5 + 88*x^4 + 32*x^3 + 103*x^2 + 35*x + 86) * (x^21 + 53*x^20 + 90*x^19 + 82*x^18 + 117*x^17 + 13*x^16 + 119*x^15 + 95*x^14 + 111*x^12 + 49*x^11 + 103*x^10 + 16*x^9 + 83*x^8 + 60*x^7 + 115*x^6 + 93*x^5 + 109*x^4 + 105*x^3 + 123*x^2 + 92*x + 70) * (x^21 + 53*x^20 + 114*x^19 + 45*x^18 + 118*x^17 + 4*x^16 + 55*x^15 + 20*x^14 + 118*x^13 + 102*x^12 + 28*x^11 + 14*x^10 + 45*x^9 + 102*x^8 + 82*x^7 + 107*x^6 + 49*x^5 + 79*x^4 + 87*x^3 + 112*x^2 + 64*x + 2) * (x^21 + 54*x^20 + 2*x^19 + 16*x^18 + 114*x^17 + 33*x^16 + 70*x^15 + 45*x^14 + 99*x^13 + 59*x^12 + 30*x^11 + 14*x^10 + 51*x^9 + 21*x^8 + 76*x^7 + 93*x^6 + 48*x^5 + 53*x^4 + 63*x^3 + 87*x^2 + 121*x + 50) * (x^21 + 54*x^20 + 53*x^19 + 100*x^18 + 44*x^17 + 26*x^16 + 116*x^15 + 13*x^14 + 55*x^13 + 4*x^12 + 63*x^11 + 122*x^10 + 2*x^9 + 122*x^8 + 99*x^7 + 35*x^6 + 97*x^5 + 92*x^4 + 117*x^3 + 42*x^2 + 17*x + 10) * (x^21 + 55*x^20 + 101*x^19 + 37*x^18 + 51*x^17 + 79*x^16 + 53*x^14 + 83*x^13 + 83*x^12 + 67*x^11 + 115*x^10 + 119*x^9 + 20*x^8 + 57*x^7 + 47*x^6 + 91*x^5 + 23*x^4 + 16*x^3 + 105*x^2 + 103*x + 51) * (x^21 + 56*x^20 + 30*x^19 + 27*x^18 + 97*x^17 + 124*x^16 + 99*x^15 + 8*x^14 + 21*x^13 + 56*x^12 + 69*x^11 + 103*x^10 + 115*x^9 + 102*x^8 + 10*x^7 + 111*x^6 + 32*x^5 + 75*x^4 + 34*x^3 + 97*x^2 + 119*x + 39) * (x^21 + 56*x^20 + 105*x^19 + 69*x^18 + 25*x^17 + 113*x^16 + 50*x^15 + 25*x^14 + 97*x^13 + 45*x^12 + 40*x^11 + 7*x^10 + 10*x^9 + 9*x^8 + 71*x^7 + 35*x^6 + 64*x^5 + 108*x^4 + 19*x^3 + 103*x^2 + 118*x + 112) * (x^21 + 56*x^20 + 110*x^19 + 17*x^18 + 16*x^17 + 25*x^16 + 90*x^15 + 101*x^14 + 13*x^13 + 9*x^12 + 22*x^11 + 83*x^10 + 110*x^9 + 77*x^8 + 3*x^7 + 9*x^6 + 103*x^5 + 96*x^4 + 15*x^3 + 21*x^2 + 13*x + 34) * (x^21 + 57*x^20 + 58*x^19 + 40*x^18 + 111*x^17 + 25*x^16 + 115*x^15 + 82*x^14 + 76*x^13 + 19*x^12 + 29*x^11 + 104*x^10 + 52*x^9 + 126*x^8 + 13*x^6 + 60*x^5 + 117*x^4 + 7*x^3 + 105*x^2 + 5*x + 35) * (x^21 + 57*x^20 + 88*x^19 + 106*x^18 + 73*x^17 + 104*x^16 + 60*x^15 + 92*x^14 + 76*x^13 + 125*x^12 + 65*x^11 + 95*x^10 + 82*x^9 + 12*x^8 + 25*x^7 + 3*x^6 + 15*x^5 + 77*x^4 + 22*x^3 + 74*x^2 + 103) * (x^21 + 57*x^20 + 112*x^19 + 24*x^18 + 86*x^17 + 79*x^16 + 3*x^15 + 49*x^14 + 124*x^13 + 46*x^12 + 3*x^11 + 55*x^10 + 117*x^9 + 110*x^8 + 7*x^7 + 25*x^6 + 110*x^5 + 113*x^4 + 35*x^3 + 5*x^2 + 52*x + 35) * (x^21 + 58*x^20 + 46*x^19 + 114*x^18 + 106*x^17 + 51*x^16 + 38*x^15 + 115*x^14 + 62*x^13 + 101*x^12 + 95*x^11 + 37*x^10 + 93*x^9 + 23*x^8 + 16*x^7 + 99*x^6 + 12*x^5 + 22*x^4 + 66*x^3 + 110*x^2 + 9*x + 14) * (x^21 + 59*x^20 + 15*x^19 + 32*x^18 + 77*x^17 + 22*x^16 + 81*x^15 + 89*x^14 + 42*x^13 + 78*x^12 + 101*x^11 + 122*x^10 + 103*x^9 + 99*x^8 + 70*x^7 + 38*x^6 + 46*x^5 + 107*x^4 + 73*x^3 + 12*x^2 + 91*x + 4) * (x^21 + 59*x^20 + 56*x^19 + 97*x^18 + 39*x^17 + 59*x^16 + 9*x^15 + 83*x^14 + 115*x^13 + 5*x^12 + 13*x^11 + 79*x^10 + 92*x^9 + 79*x^8 + 60*x^7 + 52*x^6 + 108*x^5 + 110*x^4 + 125*x^3 + 68*x^2 + 124*x + 3) * (x^21 + 59*x^20 + 73*x^19 + 55*x^18 + 55*x^17 + 68*x^16 + 39*x^15 + 18*x^14 + 39*x^13 + 51*x^12 + 81*x^11 + 111*x^10 + 103*x^9 + 45*x^8 + 17*x^7 + 101*x^6 + 85*x^5 + 115*x^4 + 123*x^3 + 37*x^2 + 105*x + 105) * (x^21 + 59*x^20 + 83*x^19 + 121*x^18 + 29*x^17 + 64*x^16 + 46*x^15 + 67*x^14 + 85*x^13 + 80*x^12 + 15*x^11 + 97*x^10 + 34*x^9 + 103*x^8 + 91*x^7 + 121*x^6 + 51*x^5 + x^4 + 6*x^3 + 117*x^2 + 51*x + 118) * (x^21 + 59*x^20 + 90*x^19 + 31*x^18 + 17*x^17 + 38*x^16 + 55*x^15 + 100*x^14 + 100*x^13 + 22*x^12 + 51*x^11 + 114*x^10 + 37*x^9 + 36*x^8 + 21*x^7 + 117*x^6 + 22*x^5 + 52*x^4 + 48*x^3 + 38*x^2 + 39*x + 70) * (x^21 + 59*x^20 + 120*x^19 + 122*x^18 + 8*x^17 + 41*x^16 + 83*x^15 + 79*x^14 + 101*x^13 + 61*x^12 + 78*x^11 + 22*x^10 + 69*x^9 + 27*x^8 + 122*x^7 + 46*x^6 + 92*x^5 + 102*x^4 + 15*x^3 + 27*x^2 + 53*x + 59) * (x^21 + 60*x^20 + 16*x^19 + 54*x^18 + 5*x^17 + 81*x^16 + 123*x^15 + 86*x^14 + 47*x^13 + 60*x^12 + 22*x^11 + 38*x^10 + 70*x^9 + 79*x^8 + 47*x^7 + 111*x^6 + 94*x^5 + 16*x^4 + 79*x^3 + 39*x^2 + 108*x + 73) * (x^21 + 60*x^20 + 27*x^19 + 39*x^18 + 45*x^17 + 119*x^16 + 61*x^15 + 76*x^14 + 19*x^13 + 25*x^12 + 57*x^11 + 85*x^10 + 3*x^9 + 111*x^8 + 117*x^7 + 43*x^6 + 43*x^5 + 32*x^4 + 59*x^3 + 26*x^2 + 35*x + 117) * (x^21 + 60*x^20 + 59*x^19 + 100*x^18 + 62*x^17 + 107*x^16 + 88*x^15 + 121*x^14 + 69*x^13 + 35*x^12 + 38*x^11 + 21*x^10 + 9*x^9 + 25*x^8 + 91*x^7 + 77*x^6 + 99*x^5 + 54*x^4 + 104*x^3 + 86*x^2 + 100*x + 72) * (x^21 + 61*x^20 + 120*x^18 + 115*x^17 + 14*x^16 + 69*x^15 + 70*x^14 + 83*x^13 + 112*x^12 + 13*x^11 + 3*x^10 + 99*x^9 + 92*x^8 + 6*x^7 + 62*x^6 + 107*x^5 + 13*x^4 + 102*x^3 + 25*x + 111) * (x^21 + 62*x^20 + 70*x^19 + 90*x^18 + 13*x^17 + 68*x^16 + 105*x^15 + 108*x^14 + 29*x^13 + 14*x^12 + 25*x^11 + 61*x^10 + 13*x^9 + 41*x^8 + 113*x^7 + 16*x^6 + 117*x^5 + 99*x^4 + 103*x^3 + 122*x^2 + 35*x + 3) * (x^21 + 62*x^20 + 93*x^19 + 114*x^18 + 3*x^17 + 85*x^16 + 114*x^15 + 87*x^14 + 84*x^13 + 55*x^12 + 83*x^11 + 121*x^10 + 89*x^9 + 7*x^8 + 47*x^7 + 75*x^6 + 12*x^5 + 25*x^4 + 120*x^3 + 36*x^2 + 64*x + 113) * (x^21 + 62*x^20 + 116*x^19 + 14*x^18 + 37*x^17 + 87*x^16 + 122*x^15 + 10*x^14 + 100*x^13 + 65*x^12 + 110*x^11 + 26*x^10 + 35*x^9 + 3*x^8 + 91*x^7 + 76*x^6 + 99*x^5 + 67*x^4 + 19*x^3 + 106*x^2 + 82*x + 50) * (x^21 + 63*x^20 + 77*x^19 + 51*x^18 + 109*x^17 + 60*x^16 + 60*x^15 + 101*x^14 + x^13 + 38*x^12 + 24*x^11 + 18*x^10 + 121*x^9 + 93*x^8 + 93*x^7 + 76*x^6 + 85*x^5 + 76*x^4 + 67*x^3 + 113*x^2 + 37*x + 95) * (x^21 + 64*x^20 + 81*x^19 + 50*x^18 + 114*x^17 + 96*x^16 + 76*x^15 + 117*x^14 + 94*x^13 + 88*x^12 + 67*x^11 + 65*x^10 + 118*x^9 + 16*x^8 + 24*x^7 + x^6 + 116*x^5 + 32*x^4 + 38*x^3 + 72*x^2 + 33*x + 81) * (x^21 + 65*x^20 + 61*x^19 + 12*x^18 + 104*x^17 + 77*x^16 + 79*x^15 + 23*x^14 + 93*x^13 + 71*x^12 + 84*x^11 + 62*x^10 + 115*x^9 + 51*x^7 + 123*x^6 + 14*x^5 + 22*x^4 + 69*x^3 + 75*x^2 + 43*x + 3) * (x^21 + 65*x^20 + 69*x^19 + 42*x^18 + 18*x^17 + 13*x^16 + 17*x^15 + 54*x^14 + 105*x^13 + 80*x^12 + 100*x^11 + 8*x^10 + 46*x^9 + 55*x^8 + 55*x^7 + 122*x^6 + 92*x^5 + 13*x^4 + 104*x^3 + 98*x^2 + 126*x + 33) * (x^21 + 65*x^20 + 82*x^19 + 98*x^18 + 109*x^17 + 21*x^16 + x^15 + 11*x^14 + 88*x^13 + 14*x^12 + 119*x^11 + 3*x^10 + 90*x^9 + 86*x^8 + 97*x^7 + 73*x^6 + 18*x^5 + 75*x^4 + 103*x^3 + 22*x^2 + 9*x + 68) * (x^21 + 65*x^20 + 93*x^19 + 32*x^18 + 14*x^17 + 67*x^16 + 33*x^15 + 23*x^14 + 75*x^13 + 3*x^12 + 2*x^11 + 3*x^10 + 32*x^9 + 44*x^8 + 2*x^7 + 8*x^6 + 47*x^5 + 32*x^4 + 82*x^3 + 8*x^2 + 22*x + 2) * (x^21 + 66*x^20 + 108*x^19 + 53*x^18 + 71*x^17 + 85*x^16 + 80*x^15 + 32*x^14 + 108*x^13 + 96*x^12 + 63*x^11 + 90*x^10 + 59*x^9 + 27*x^8 + 99*x^7 + 82*x^6 + 8*x^5 + 125*x^4 + 57*x^3 + 45*x^2 + 94*x + 30) * (x^21 + 67*x^20 + 38*x^19 + 35*x^18 + 25*x^17 + 4*x^16 + 103*x^15 + 105*x^14 + 74*x^13 + 2*x^12 + 104*x^11 + 27*x^10 + 62*x^9 + 21*x^8 + 107*x^7 + 90*x^6 + 31*x^5 + 90*x^4 + 89*x^3 + 113*x^2 + 71*x + 5) * (x^21 + 67*x^20 + 57*x^19 + 8*x^18 + 76*x^17 + 89*x^16 + 64*x^15 + 99*x^14 + 48*x^13 + 52*x^12 + 67*x^11 + 61*x^10 + 114*x^9 + 2*x^8 + 95*x^7 + 41*x^6 + 39*x^5 + 81*x^4 + 47*x^3 + 118*x^2 + 58*x + 47) * (x^21 + 67*x^20 + 66*x^19 + 67*x^18 + 43*x^17 + 48*x^16 + 36*x^15 + 60*x^14 + 85*x^13 + 99*x^12 + 29*x^11 + 51*x^10 + 72*x^9 + 72*x^8 + 113*x^7 + 50*x^6 + 6*x^5 + 68*x^4 + 5*x^3 + 34*x^2 + 54*x + 48) * (x^21 + 67*x^20 + 76*x^19 + 78*x^18 + 69*x^17 + 113*x^16 + 95*x^15 + 116*x^14 + 98*x^13 + 69*x^12 + 79*x^11 + 42*x^10 + 88*x^9 + 53*x^8 + 26*x^7 + 9*x^6 + 74*x^5 + 17*x^4 + 41*x^3 + 94*x^2 + 124*x + 35) * (x^21 + 67*x^20 + 91*x^19 + 53*x^18 + 117*x^17 + 57*x^16 + 6*x^15 + 17*x^14 + 64*x^13 + x^12 + 125*x^11 + 112*x^10 + 117*x^9 + 74*x^8 + 68*x^7 + 58*x^6 + 103*x^5 + 47*x^4 + 117*x^3 + 74*x^2 + 122*x + 40) * (x^21 + 68*x^20 + 17*x^19 + 55*x^18 + 68*x^17 + 69*x^16 + 91*x^15 + 4*x^14 + 46*x^13 + 117*x^12 + 70*x^11 + 114*x^10 + x^9 + 23*x^8 + 93*x^7 + 109*x^6 + 96*x^5 + 76*x^4 + 85*x^3 + 20*x^2 + 101*x + 84) * (x^21 + 68*x^20 + 35*x^19 + 19*x^18 + 109*x^17 + 67*x^16 + 98*x^15 + 69*x^14 + 83*x^13 + 75*x^12 + 90*x^11 + 25*x^10 + 3*x^9 + 85*x^8 + 33*x^7 + 65*x^6 + 23*x^5 + 3*x^4 + 40*x^3 + 27*x^2 + 14*x + 59) * (x^21 + 68*x^20 + 63*x^19 + 4*x^18 + 65*x^17 + 88*x^16 + 96*x^15 + 50*x^14 + 32*x^13 + 44*x^12 + 95*x^11 + 13*x^10 + 2*x^9 + 119*x^8 + 29*x^7 + 113*x^6 + 83*x^5 + 30*x^4 + 104*x^3 + 102*x^2 + 61*x + 35) * (x^21 + 68*x^20 + 72*x^19 + 17*x^18 + 13*x^17 + 62*x^16 + 40*x^15 + 6*x^14 + 73*x^13 + 107*x^12 + 91*x^11 + 36*x^10 + 25*x^9 + 18*x^8 + 67*x^7 + 122*x^6 + 33*x^5 + 68*x^4 + 119*x^3 + 103*x^2 + 59*x + 14) * (x^21 + 68*x^20 + 77*x^19 + 63*x^18 + 43*x^17 + 123*x^16 + 14*x^15 + 91*x^14 + 86*x^13 + 53*x^12 + 42*x^11 + 41*x^10 + 32*x^9 + 99*x^8 + 119*x^7 + 24*x^6 + 39*x^5 + 62*x^4 + 77*x^3 + 52*x^2 + 113*x + 44) * (x^21 + 68*x^20 + 101*x^19 + 53*x^18 + 10*x^17 + 43*x^16 + 12*x^15 + 61*x^14 + 20*x^13 + 31*x^12 + 65*x^11 + 36*x^10 + 31*x^9 + 89*x^8 + 105*x^7 + 45*x^6 + 80*x^5 + 126*x^4 + 108*x^3 + 95*x^2 + 47*x + 9) * (x^21 + 69*x^20 + x^19 + 6*x^18 + 7*x^17 + 93*x^16 + 56*x^15 + 6*x^14 + 47*x^13 + 23*x^12 + 95*x^11 + 109*x^10 + 5*x^9 + 2*x^8 + 82*x^7 + 111*x^6 + 106*x^5 + 43*x^4 + 41*x^3 + 17*x^2 + 65*x + 12) * (x^21 + 69*x^20 + 34*x^19 + 88*x^18 + 3*x^17 + 33*x^16 + 49*x^15 + 44*x^14 + 124*x^13 + 9*x^12 + 31*x^11 + 66*x^10 + 93*x^9 + 61*x^8 + 55*x^7 + 78*x^6 + 105*x^5 + 125*x^4 + 116*x^3 + 97*x^2 + 26*x + 106) * (x^21 + 70*x^20 + 79*x^19 + 95*x^18 + 28*x^17 + 58*x^16 + 59*x^15 + 62*x^14 + 48*x^13 + 32*x^12 + 108*x^11 + 47*x^10 + 70*x^9 + 10*x^8 + 121*x^7 + 46*x^6 + 3*x^5 + 27*x^4 + 64*x^3 + 14*x^2 + 37*x + 6) * (x^21 + 70*x^20 + 89*x^19 + 118*x^18 + 47*x^17 + 92*x^16 + 87*x^15 + 38*x^14 + 13*x^13 + 42*x^12 + 5*x^11 + 98*x^10 + 51*x^9 + 42*x^8 + 30*x^7 + 8*x^6 + 81*x^5 + 21*x^4 + 78*x^3 + x^2 + 72*x + 55) * (x^21 + 71*x^20 + 18*x^19 + 115*x^18 + 45*x^17 + 40*x^16 + 59*x^15 + 92*x^14 + 34*x^13 + 43*x^12 + 16*x^11 + 84*x^10 + 18*x^9 + 19*x^8 + 64*x^7 + 45*x^6 + 26*x^5 + 66*x^4 + 102*x^3 + 20*x^2 + 86*x + 80) * (x^21 + 71*x^20 + 20*x^19 + 126*x^18 + 78*x^17 + 23*x^16 + 77*x^15 + 97*x^14 + 58*x^13 + 103*x^12 + 80*x^11 + 82*x^10 + 108*x^9 + 37*x^8 + x^7 + 115*x^6 + 84*x^5 + 94*x^4 + 93*x^3 + 92*x^2 + 3*x + 104) * (x^21 + 71*x^20 + 47*x^19 + 2*x^18 + 107*x^17 + 77*x^16 + 68*x^15 + 21*x^14 + 85*x^13 + 114*x^12 + 67*x^11 + 41*x^10 + 88*x^9 + 116*x^8 + 100*x^7 + 108*x^6 + 39*x^5 + 95*x^4 + 102*x^3 + 57*x^2 + 57*x + 115) * (x^21 + 71*x^20 + 49*x^19 + 61*x^18 + 106*x^17 + 17*x^16 + 47*x^15 + 101*x^14 + 5*x^13 + 87*x^12 + 30*x^11 + 19*x^10 + 55*x^9 + 66*x^8 + 90*x^7 + 73*x^6 + 26*x^5 + 65*x^4 + 47*x^3 + 85*x^2 + 43*x + 97) * (x^21 + 71*x^20 + 120*x^19 + 18*x^18 + 75*x^17 + 41*x^16 + 84*x^15 + 70*x^14 + 31*x^13 + 5*x^12 + 102*x^11 + 21*x^10 + 109*x^9 + 22*x^8 + x^7 + 26*x^6 + 24*x^5 + 72*x^4 + 51*x^3 + 92*x^2 + 48*x + 62) * (x^21 + 72*x^20 + 10*x^19 + 64*x^18 + 34*x^17 + 33*x^16 + 52*x^15 + 71*x^14 + 23*x^13 + 15*x^12 + 100*x^11 + 72*x^10 + 120*x^9 + 100*x^8 + 59*x^7 + 73*x^6 + 123*x^5 + 59*x^4 + 14*x^3 + 84*x^2 + 88*x + 123) * (x^21 + 72*x^20 + 67*x^19 + 97*x^18 + 125*x^17 + 34*x^16 + 100*x^15 + 19*x^14 + 120*x^13 + 57*x^12 + 7*x^11 + 94*x^10 + 29*x^9 + 72*x^8 + 108*x^7 + 73*x^6 + 85*x^5 + 109*x^4 + 79*x^3 + 32*x^2 + 70*x + 59) * (x^21 + 75*x^20 + 19*x^19 + 83*x^18 + 121*x^17 + 117*x^16 + 101*x^15 + 56*x^14 + 104*x^13 + 58*x^12 + 79*x^11 + 83*x^10 + 7*x^9 + 86*x^8 + 113*x^7 + 13*x^6 + 33*x^5 + 92*x^4 + 85*x^3 + 53*x^2 + 69*x + 47) * (x^21 + 75*x^20 + 83*x^19 + 99*x^18 + 15*x^17 + 6*x^16 + 89*x^15 + 11*x^14 + 125*x^13 + 11*x^12 + 37*x^11 + 103*x^10 + 103*x^9 + 59*x^8 + 9*x^7 + 93*x^6 + 101*x^5 + 88*x^4 + 121*x^3 + 108*x^2 + 16*x + 117) * (x^21 + 75*x^20 + 84*x^19 + 13*x^18 + 122*x^17 + 34*x^16 + 122*x^15 + 77*x^14 + 25*x^13 + 44*x^12 + 122*x^11 + 11*x^10 + 120*x^9 + 52*x^8 + 47*x^7 + 45*x^6 + 83*x^5 + 102*x^4 + 116*x^3 + 68*x^2 + 22*x + 37) * (x^21 + 75*x^20 + 86*x^19 + 96*x^18 + 70*x^17 + 62*x^16 + 126*x^15 + 99*x^14 + 95*x^13 + 56*x^12 + 40*x^11 + 42*x^10 + 90*x^9 + 83*x^8 + 34*x^7 + 79*x^6 + 49*x^5 + 93*x^4 + 107*x^3 + 14*x^2 + 54*x + 118) * (x^21 + 76*x^20 + 15*x^19 + 59*x^18 + 84*x^17 + 4*x^16 + 120*x^15 + 18*x^14 + 101*x^13 + 76*x^12 + 102*x^11 + 53*x^10 + 60*x^9 + 89*x^8 + 59*x^7 + 43*x^6 + 28*x^5 + 11*x^4 + 81*x^3 + 112*x^2 + 73*x + 118) * (x^21 + 76*x^20 + 53*x^19 + 96*x^18 + 16*x^17 + 76*x^16 + 26*x^15 + 23*x^14 + 119*x^13 + 114*x^12 + 56*x^11 + 4*x^10 + 78*x^9 + 15*x^8 + 12*x^7 + 111*x^6 + 77*x^5 + 26*x^4 + 39*x^3 + 99*x^2 + 57*x + 9) * (x^21 + 77*x^20 + 33*x^19 + 86*x^18 + 29*x^17 + 114*x^16 + 61*x^15 + 35*x^14 + 56*x^13 + 2*x^12 + 93*x^11 + 19*x^10 + 69*x^9 + 80*x^8 + 11*x^7 + 91*x^6 + 97*x^5 + 74*x^4 + 26*x^3 + 13*x^2 + 34*x + 114) * (x^21 + 77*x^20 + 48*x^19 + 23*x^18 + 108*x^17 + 3*x^16 + 73*x^15 + 19*x^14 + 43*x^13 + 68*x^12 + 103*x^11 + 37*x^10 + 121*x^9 + 40*x^8 + 54*x^7 + 42*x^6 + 15*x^5 + 73*x^4 + 95*x^3 + 89*x^2 + 60*x + 42) * (x^21 + 77*x^20 + 114*x^19 + 112*x^18 + 45*x^17 + 16*x^16 + 91*x^15 + 78*x^14 + 125*x^13 + 105*x^12 + 44*x^11 + 29*x^10 + 106*x^9 + 5*x^8 + 99*x^7 + 103*x^6 + 55*x^5 + 39*x^4 + 74*x^3 + 101*x^2 + 112*x + 98) * (x^21 + 78*x^20 + 35*x^19 + 21*x^18 + 28*x^17 + 74*x^16 + 62*x^15 + 63*x^14 + 73*x^13 + 29*x^12 + 94*x^11 + 106*x^10 + 97*x^9 + 3*x^8 + 11*x^7 + 5*x^6 + 71*x^5 + 42*x^4 + 21*x^3 + 120*x^2 + 37*x + 48) * (x^21 + 79*x^20 + 52*x^19 + 109*x^18 + 15*x^17 + 119*x^16 + 95*x^15 + 85*x^14 + 92*x^13 + 49*x^12 + 89*x^11 + 13*x^10 + 88*x^9 + 102*x^8 + 111*x^7 + 76*x^6 + 100*x^5 + 21*x^4 + 79*x^3 + 73*x^2 + 27*x + 22) * (x^21 + 80*x^20 + 20*x^19 + 124*x^18 + 5*x^17 + 24*x^16 + 46*x^15 + 32*x^14 + 125*x^13 + 27*x^12 + 41*x^11 + 50*x^10 + 40*x^9 + 19*x^8 + 35*x^7 + 11*x^6 + 78*x^5 + 3*x^4 + 18*x^3 + 100*x^2 + 107*x + 112) * (x^21 + 80*x^20 + 70*x^19 + 35*x^18 + 97*x^17 + 80*x^16 + 75*x^15 + 43*x^14 + 123*x^13 + 71*x^12 + 28*x^11 + 19*x^10 + 69*x^9 + 13*x^8 + 5*x^7 + 56*x^6 + 15*x^5 + 10*x^4 + 9*x^3 + 45*x^2 + 107*x + 75) * (x^21 + 81*x^20 + 31*x^19 + 93*x^18 + 112*x^17 + 105*x^16 + 50*x^15 + 98*x^14 + 41*x^13 + 84*x^12 + 107*x^11 + 54*x^10 + 16*x^9 + 11*x^8 + 74*x^7 + 77*x^6 + 6*x^5 + 117*x^4 + 100*x^3 + 82*x^2 + 24*x + 4) * (x^21 + 82*x^20 + 22*x^19 + 35*x^18 + 27*x^17 + 103*x^16 + 18*x^15 + 27*x^14 + 77*x^12 + 29*x^11 + 104*x^10 + 102*x^9 + 77*x^8 + 50*x^7 + 81*x^6 + 93*x^5 + 90*x^4 + 35*x^3 + 58*x^2 + 99*x + 23) * (x^21 + 83*x^20 + 10*x^19 + 46*x^18 + 48*x^17 + 97*x^16 + 92*x^15 + 94*x^14 + 103*x^13 + 42*x^12 + 111*x^11 + 32*x^10 + 102*x^9 + 107*x^8 + 23*x^7 + 108*x^6 + 107*x^5 + 60*x^4 + 93*x^3 + 66*x^2 + 32*x + 38) * (x^21 + 83*x^20 + 31*x^19 + 125*x^18 + 49*x^17 + 92*x^16 + 34*x^15 + 40*x^14 + 30*x^13 + 124*x^12 + 85*x^11 + 105*x^10 + 49*x^9 + 66*x^8 + 15*x^7 + 42*x^6 + 58*x^5 + 21*x^4 + 124*x^3 + 117*x^2 + 28*x + 72) * (x^21 + 83*x^20 + 35*x^19 + 54*x^18 + 19*x^17 + 16*x^16 + 122*x^15 + 28*x^14 + 92*x^13 + 74*x^12 + 113*x^11 + 3*x^10 + 66*x^9 + 17*x^8 + 97*x^7 + 113*x^6 + 84*x^5 + 99*x^4 + 79*x^3 + 53*x^2 + 24*x + 6) * (x^21 + 83*x^20 + 84*x^19 + 46*x^18 + 24*x^17 + 99*x^16 + 75*x^15 + 107*x^14 + 122*x^13 + 5*x^12 + 72*x^11 + 81*x^10 + 113*x^9 + 80*x^8 + 49*x^7 + 124*x^6 + 86*x^5 + 41*x^4 + 42*x^3 + 119*x^2 + 72*x + 25) * (x^21 + 84*x^20 + 2*x^19 + 94*x^18 + 61*x^17 + 99*x^16 + 92*x^15 + 117*x^14 + 45*x^13 + 51*x^12 + 59*x^11 + 53*x^10 + 42*x^9 + 69*x^8 + 54*x^7 + 103*x^6 + 4*x^5 + 11*x^4 + 90*x^3 + 79*x^2 + 111*x + 4) * (x^21 + 85*x^20 + 11*x^19 + 25*x^18 + 103*x^17 + 74*x^16 + 91*x^15 + 114*x^14 + 70*x^13 + 123*x^12 + 54*x^11 + 119*x^10 + 92*x^9 + 37*x^8 + 58*x^7 + 28*x^6 + 38*x^5 + 111*x^4 + 12*x^3 + 69*x^2 + 78*x + 113) * (x^21 + 86*x^20 + 18*x^19 + 29*x^18 + 44*x^17 + 114*x^16 + 42*x^15 + 124*x^14 + 74*x^13 + 12*x^12 + 112*x^11 + 64*x^10 + 15*x^9 + 12*x^8 + 123*x^7 + 118*x^6 + 103*x^5 + 31*x^4 + 7*x^3 + 53*x^2 + 9*x + 116) * (x^21 + 86*x^20 + 115*x^19 + 35*x^18 + 112*x^17 + 124*x^16 + 47*x^15 + 111*x^14 + 113*x^13 + 123*x^12 + 34*x^11 + 65*x^10 + 37*x^9 + 124*x^8 + 31*x^7 + 62*x^6 + 62*x^5 + 120*x^4 + 68*x^3 + 119*x^2 + 112*x + 75) * (x^21 + 87*x^20 + 91*x^19 + 4*x^18 + 37*x^17 + 38*x^16 + 100*x^15 + 108*x^14 + 12*x^13 + 29*x^12 + 101*x^11 + 56*x^10 + 22*x^9 + 111*x^8 + 62*x^7 + 45*x^6 + 97*x^5 + 62*x^4 + 124*x^3 + 87*x^2 + 48*x + 83) * (x^21 + 88*x^20 + 64*x^19 + 56*x^18 + 14*x^17 + 120*x^16 + 41*x^15 + 112*x^14 + 57*x^13 + 30*x^12 + 33*x^11 + 12*x^10 + 55*x^9 + 65*x^8 + 4*x^7 + 16*x^6 + 68*x^5 + 84*x^4 + 9*x^3 + 99*x^2 + 11*x + 70) * (x^21 + 88*x^20 + 67*x^19 + 126*x^18 + 45*x^17 + 58*x^16 + 121*x^15 + 80*x^14 + 90*x^13 + 114*x^12 + 124*x^11 + 84*x^10 + 56*x^9 + 67*x^8 + 23*x^7 + 20*x^6 + 65*x^5 + 29*x^4 + 37*x^3 + 67*x^2 + 63*x + 48) * (x^21 + 88*x^20 + 100*x^19 + 123*x^18 + 15*x^17 + 40*x^16 + 5*x^15 + 15*x^14 + 66*x^13 + 72*x^12 + 4*x^11 + 107*x^10 + 80*x^9 + 44*x^8 + 42*x^7 + 4*x^6 + 22*x^5 + 26*x^4 + 20*x^3 + 80*x^2 + 41*x + 19) * (x^21 + 89*x^20 + 35*x^19 + 48*x^18 + 82*x^17 + 69*x^16 + 86*x^15 + 48*x^14 + 88*x^13 + x^12 + 108*x^11 + 50*x^10 + 40*x^9 + 3*x^8 + x^6 + 100*x^5 + 11*x^4 + 56*x^3 + 65*x^2 + 49*x + 57) * (x^21 + 90*x^20 + 17*x^19 + 81*x^18 + 69*x^17 + 24*x^16 + 123*x^15 + 57*x^14 + 114*x^13 + 41*x^12 + 7*x^11 + 15*x^10 + 59*x^9 + 51*x^8 + 64*x^7 + 44*x^6 + 14*x^5 + 111*x^4 + 60*x^3 + 74*x^2 + 5*x + 1) * (x^21 + 91*x^20 + 30*x^19 + 111*x^18 + 56*x^17 + 116*x^16 + 112*x^15 + 36*x^14 + 75*x^13 + 71*x^12 + 37*x^11 + 12*x^10 + 24*x^9 + 97*x^8 + 60*x^7 + 72*x^6 + 12*x^5 + 8*x^4 + 56*x^3 + 64*x^2 + 4*x + 9) * (x^21 + 91*x^20 + 75*x^19 + 51*x^18 + 59*x^17 + 54*x^16 + 41*x^15 + 82*x^14 + 44*x^13 + 125*x^12 + 64*x^11 + 25*x^10 + 46*x^9 + 101*x^8 + 12*x^7 + 112*x^6 + 122*x^5 + 105*x^4 + 72*x^3 + 121*x + 48) * (x^21 + 91*x^20 + 103*x^19 + 34*x^18 + 100*x^17 + 108*x^16 + 58*x^15 + 124*x^14 + 32*x^13 + 31*x^12 + 67*x^11 + 24*x^10 + 46*x^9 + 18*x^8 + 107*x^7 + 34*x^6 + 99*x^5 + 16*x^4 + 116*x^3 + 125*x^2 + 36*x + 103) * (x^21 + 92*x^20 + 29*x^19 + 107*x^18 + 2*x^17 + x^16 + 66*x^15 + 116*x^14 + 7*x^13 + 123*x^12 + 40*x^11 + 63*x^10 + 32*x^9 + 124*x^8 + 29*x^7 + 36*x^6 + 87*x^5 + 36*x^4 + 86*x^3 + 109*x^2 + 44*x + 51) * (x^21 + 92*x^20 + 77*x^19 + 75*x^18 + 88*x^17 + 108*x^16 + 125*x^15 + 29*x^14 + 3*x^13 + 44*x^12 + 117*x^11 + 22*x^10 + 92*x^9 + 85*x^8 + 112*x^7 + 22*x^6 + 42*x^5 + 14*x^4 + 96*x^3 + 59*x^2 + 37*x + 102) * (x^21 + 92*x^20 + 96*x^19 + 84*x^18 + 16*x^17 + 108*x^16 + 114*x^15 + 4*x^14 + x^13 + 21*x^12 + 89*x^11 + 95*x^10 + 51*x^9 + 117*x^8 + 3*x^7 + 122*x^6 + 125*x^5 + 110*x^4 + 126*x^3 + 15*x^2 + 67*x + 30) * (x^21 + 93*x^20 + 9*x^19 + 67*x^18 + 94*x^17 + 37*x^16 + 64*x^15 + 75*x^14 + 108*x^13 + 68*x^12 + 38*x^11 + 107*x^10 + 69*x^9 + 81*x^8 + 62*x^7 + 40*x^6 + 15*x^5 + 94*x^4 + 97*x^3 + 45*x^2 + 71*x + 90) * (x^21 + 93*x^20 + 22*x^19 + 67*x^18 + 102*x^17 + 61*x^16 + 125*x^15 + 4*x^14 + 80*x^13 + 85*x^12 + 20*x^11 + 58*x^10 + 93*x^9 + 112*x^8 + 27*x^7 + 107*x^6 + 16*x^5 + 86*x^4 + 45*x^3 + 26*x^2 + 46*x + 83) * (x^21 + 95*x^20 + 60*x^19 + 37*x^18 + 17*x^17 + 39*x^16 + 44*x^15 + 60*x^14 + 54*x^13 + 70*x^12 + 45*x^11 + 89*x^10 + 121*x^9 + 13*x^8 + 86*x^7 + 23*x^6 + 111*x^5 + 46*x^4 + 49*x^3 + 86*x^2 + 16*x + 92) * (x^21 + 96*x^20 + 42*x^19 + 37*x^18 + 45*x^17 + 46*x^16 + 45*x^15 + 18*x^14 + 4*x^13 + 110*x^12 + 68*x^11 + 38*x^10 + 104*x^9 + 96*x^8 + 20*x^7 + 97*x^6 + 96*x^5 + 125*x^4 + 8*x^3 + 64*x^2 + 68*x + 50) * (x^21 + 96*x^20 + 58*x^19 + 20*x^18 + 17*x^17 + 35*x^16 + 69*x^15 + 5*x^14 + 2*x^13 + 77*x^12 + 113*x^11 + 90*x^10 + 8*x^9 + 90*x^8 + 34*x^7 + 61*x^6 + 28*x^5 + 50*x^4 + 82*x^3 + 92*x^2 + 73*x + 93) * (x^21 + 96*x^20 + 90*x^19 + 43*x^18 + 107*x^17 + 19*x^16 + 10*x^15 + 7*x^14 + 121*x^13 + 21*x^12 + 34*x^11 + 24*x^10 + 106*x^9 + 6*x^8 + 46*x^7 + 35*x^6 + 82*x^5 + 119*x^4 + 2*x^3 + 17*x^2 + 17*x + 108) * (x^21 + 96*x^20 + 98*x^19 + 11*x^18 + 6*x^17 + 62*x^16 + 3*x^15 + 31*x^14 + 21*x^13 + 77*x^12 + 24*x^11 + 66*x^10 + 113*x^9 + 25*x^8 + 119*x^7 + 103*x^6 + 104*x^5 + 22*x^4 + 90*x^3 + 97*x^2 + 53*x + 5) * (x^21 + 97*x^20 + 124*x^18 + 9*x^17 + 85*x^16 + 25*x^15 + 101*x^14 + 124*x^13 + 30*x^12 + 85*x^11 + 114*x^10 + 69*x^9 + 73*x^8 + 50*x^7 + 19*x^6 + 31*x^5 + 75*x^4 + 47*x^3 + 44*x^2 + 19*x + 13) * (x^21 + 97*x^20 + 15*x^19 + 7*x^18 + 83*x^17 + 17*x^16 + 29*x^15 + 2*x^14 + 115*x^13 + 6*x^12 + 49*x^11 + 115*x^10 + 43*x^9 + 117*x^8 + 72*x^7 + 48*x^6 + 103*x^5 + 101*x^4 + 52*x^3 + 16*x^2 + 46*x + 32) * (x^21 + 97*x^20 + 38*x^19 + 105*x^18 + 67*x^17 + 62*x^16 + 78*x^15 + 54*x^14 + 82*x^13 + 27*x^12 + 36*x^11 + 71*x^10 + 103*x^9 + 40*x^8 + 32*x^7 + 64*x^6 + 66*x^5 + 103*x^4 + x^3 + 24*x^2 + 93*x + 122) * (x^21 + 97*x^20 + 62*x^19 + 27*x^18 + 6*x^17 + 104*x^16 + 56*x^15 + 49*x^14 + 74*x^13 + 30*x^12 + 48*x^11 + 113*x^10 + 86*x^9 + 6*x^8 + 39*x^7 + 107*x^6 + 118*x^5 + 78*x^4 + 43*x^3 + 115*x^2 + 116*x + 121) * (x^21 + 97*x^20 + 112*x^19 + 116*x^18 + 99*x^17 + x^16 + 46*x^15 + x^14 + 107*x^13 + 25*x^12 + 4*x^11 + 125*x^10 + 79*x^9 + 112*x^8 + 18*x^7 + 54*x^6 + 67*x^5 + 83*x^4 + 115*x^3 + 30*x^2 + 37*x + 92) * (x^21 + 97*x^20 + 116*x^19 + 110*x^18 + 23*x^17 + 99*x^16 + 62*x^15 + 75*x^14 + 17*x^13 + 93*x^12 + 33*x^11 + 122*x^10 + 119*x^9 + 91*x^8 + 70*x^7 + 23*x^6 + 15*x^5 + 124*x^4 + 66*x^3 + 15*x^2 + 88*x + 55) * (x^21 + 98*x^20 + 4*x^19 + 108*x^18 + 116*x^17 + 85*x^15 + 58*x^14 + 75*x^13 + 36*x^12 + 26*x^11 + 20*x^10 + 7*x^9 + 117*x^8 + 66*x^7 + 97*x^6 + 3*x^5 + 11*x^4 + 124*x^3 + x^2 + 95*x + 5) * (x^21 + 98*x^20 + 101*x^19 + x^18 + 44*x^17 + 20*x^16 + 64*x^15 + 39*x^14 + 118*x^13 + 93*x^12 + 42*x^11 + 24*x^10 + 112*x^9 + 64*x^8 + 57*x^7 + 42*x^6 + 85*x^5 + 33*x^4 + 83*x^3 + 88*x^2 + 6*x + 111) * (x^21 + 99*x^20 + 7*x^19 + 126*x^18 + 54*x^17 + 75*x^16 + 33*x^15 + 120*x^14 + 107*x^13 + 107*x^12 + 33*x^11 + 37*x^10 + 94*x^9 + 27*x^7 + 15*x^6 + 68*x^5 + 37*x^4 + 93*x^3 + 114*x^2 + 66*x + 72) * (x^21 + 99*x^20 + 26*x^19 + 77*x^18 + 47*x^17 + 86*x^16 + 102*x^15 + 37*x^14 + 121*x^13 + 99*x^12 + 17*x^11 + 36*x^10 + 105*x^9 + 117*x^8 + 61*x^7 + 110*x^6 + 91*x^5 + 115*x^4 + 91*x^3 + 18*x^2 + 105*x + 86) * (x^21 + 100*x^20 + 106*x^19 + 34*x^18 + 69*x^17 + 78*x^16 + 122*x^15 + 47*x^14 + 49*x^13 + 79*x^12 + 66*x^11 + 33*x^10 + 56*x^9 + 65*x^8 + 33*x^7 + 34*x^6 + 48*x^5 + 104*x^4 + 27*x^3 + 34*x^2 + 31*x + 22) * (x^21 + 101*x^20 + 36*x^19 + 26*x^18 + 22*x^17 + 71*x^16 + 116*x^15 + 76*x^14 + 93*x^13 + 54*x^12 + 81*x^11 + 115*x^10 + 44*x^9 + 113*x^8 + 94*x^7 + 83*x^6 + 34*x^5 + 46*x^4 + 30*x^3 + 75*x^2 + 43*x + 81) * (x^21 + 101*x^20 + 75*x^19 + 39*x^18 + 76*x^17 + 3*x^16 + 51*x^15 + 78*x^14 + 39*x^13 + 52*x^12 + 78*x^11 + 90*x^10 + 95*x^9 + 89*x^8 + 75*x^7 + 3*x^6 + 81*x^5 + 13*x^4 + 108*x^3 + 41*x^2 + 107*x + 9) * (x^21 + 101*x^20 + 96*x^19 + 114*x^18 + 73*x^17 + 73*x^15 + 109*x^14 + 90*x^13 + 31*x^12 + 120*x^11 + 19*x^10 + 6*x^9 + 38*x^8 + x^7 + 27*x^6 + 99*x^5 + 58*x^4 + 68*x^3 + 107*x^2 + 67*x + 53) * (x^21 + 103*x^20 + x^19 + 45*x^18 + 67*x^17 + 10*x^16 + 33*x^15 + 70*x^14 + 25*x^13 + 6*x^12 + 64*x^11 + 73*x^10 + 111*x^9 + 89*x^8 + 60*x^7 + 79*x^6 + 100*x^5 + 8*x^4 + 35*x^3 + 5*x^2 + 9*x + 17) * (x^21 + 103*x^20 + 15*x^19 + 22*x^18 + 115*x^17 + 39*x^16 + 88*x^15 + 55*x^14 + 109*x^13 + 117*x^12 + 67*x^11 + 96*x^10 + 84*x^9 + 115*x^8 + 21*x^7 + 116*x^6 + 16*x^5 + 48*x^4 + 55*x^3 + 32*x^2 + 19*x + 10) * (x^21 + 103*x^20 + 82*x^19 + 92*x^18 + 74*x^17 + 14*x^16 + 25*x^15 + 11*x^14 + 31*x^13 + 6*x^12 + 37*x^11 + 91*x^10 + 62*x^9 + 114*x^8 + 50*x^7 + 3*x^6 + 2*x^5 + 62*x^4 + 73*x^3 + 105*x^2 + 34*x + 20) * (x^21 + 103*x^20 + 102*x^19 + 29*x^18 + 62*x^17 + 34*x^16 + 89*x^15 + 92*x^14 + 70*x^13 + 107*x^12 + 114*x^11 + 22*x^10 + 97*x^9 + 12*x^8 + 101*x^7 + 91*x^6 + 78*x^5 + 57*x^4 + 36*x^3 + 98*x^2 + 74*x + 25) * (x^21 + 104*x^20 + 14*x^19 + 103*x^18 + 99*x^17 + 62*x^16 + 106*x^15 + 123*x^14 + 74*x^13 + 3*x^12 + 62*x^11 + 24*x^10 + 9*x^9 + 70*x^8 + 6*x^7 + 58*x^6 + 9*x^5 + 19*x^4 + 110*x^3 + 121*x^2 + 16*x + 105) * (x^21 + 104*x^20 + 118*x^19 + 8*x^18 + 22*x^17 + 92*x^16 + 12*x^15 + 6*x^14 + 57*x^13 + 95*x^12 + 32*x^11 + 82*x^10 + 47*x^9 + 91*x^8 + 14*x^7 + 98*x^6 + 118*x^5 + 25*x^4 + 21*x^3 + 55*x^2 + 27*x + 55) * (x^21 + 105*x^20 + 68*x^19 + 103*x^18 + 62*x^17 + 115*x^16 + 37*x^15 + 51*x^14 + 70*x^13 + 77*x^12 + 103*x^11 + 9*x^10 + 53*x^9 + 13*x^8 + 28*x^7 + 92*x^6 + 3*x^5 + 112*x^4 + 26*x^3 + 105*x^2 + 73*x + 39) * (x^21 + 105*x^20 + 125*x^19 + 9*x^18 + 108*x^17 + 44*x^16 + 47*x^15 + 68*x^14 + 102*x^13 + 23*x^12 + 90*x^11 + 46*x^10 + 57*x^9 + 115*x^8 + 80*x^7 + 22*x^6 + 28*x^5 + 27*x^4 + 44*x^3 + 57*x^2 + 117*x + 96) * (x^21 + 106*x^20 + 2*x^19 + 11*x^18 + 45*x^17 + 32*x^16 + 103*x^15 + 51*x^14 + 75*x^13 + 57*x^12 + 64*x^11 + 105*x^10 + 116*x^9 + 7*x^8 + 94*x^7 + 73*x^6 + 109*x^5 + 26*x^4 + 5*x^3 + 83*x^2 + 47*x + 57) * (x^21 + 107*x^20 + 22*x^19 + 57*x^18 + 54*x^17 + 90*x^16 + 51*x^15 + 34*x^14 + 87*x^13 + 15*x^12 + 62*x^11 + 18*x^10 + 54*x^9 + 57*x^8 + 47*x^7 + 122*x^6 + 91*x^5 + 83*x^4 + 30*x^3 + 122*x^2 + 56*x + 92) * (x^21 + 107*x^20 + 100*x^19 + 126*x^18 + 96*x^17 + 68*x^16 + 42*x^15 + 83*x^14 + 119*x^13 + 57*x^12 + 18*x^11 + 111*x^10 + 15*x^9 + 90*x^8 + 19*x^7 + 60*x^6 + 53*x^5 + 73*x^4 + 118*x^3 + 61*x^2 + 60*x + 84) * (x^21 + 108*x^20 + 19*x^19 + 111*x^18 + 30*x^17 + 95*x^16 + 62*x^15 + 51*x^14 + 51*x^13 + 121*x^12 + 73*x^11 + 96*x^10 + 97*x^9 + 72*x^8 + 111*x^7 + 24*x^6 + 120*x^5 + 112*x^4 + 106*x^3 + 49*x^2 + 87*x + 123) * (x^21 + 108*x^20 + 26*x^19 + 11*x^18 + 52*x^17 + 123*x^16 + 22*x^15 + 73*x^14 + 72*x^13 + 38*x^12 + 26*x^11 + 95*x^10 + 116*x^9 + 63*x^8 + 93*x^7 + 21*x^6 + 116*x^5 + 20*x^4 + 115*x^3 + 124*x^2 + 88*x + 52) * (x^21 + 108*x^20 + 27*x^19 + 94*x^18 + 85*x^17 + 67*x^16 + 92*x^15 + 74*x^14 + 83*x^13 + 20*x^12 + 62*x^11 + 40*x^10 + 25*x^9 + 122*x^8 + 12*x^7 + 81*x^6 + 104*x^5 + 31*x^4 + 104*x^3 + 62*x^2 + 96*x + 73) * (x^21 + 108*x^20 + 61*x^19 + 89*x^18 + 20*x^17 + 112*x^16 + 97*x^15 + 2*x^14 + 28*x^13 + 78*x^12 + 66*x^11 + 95*x^10 + 23*x^9 + 83*x^8 + 77*x^7 + 32*x^6 + 75*x^5 + 93*x^4 + 105*x^3 + 99*x^2 + 81*x + 33) * (x^21 + 108*x^20 + 100*x^19 + 83*x^18 + 126*x^17 + 52*x^16 + 56*x^15 + 18*x^14 + 53*x^13 + 12*x^12 + 110*x^11 + 81*x^10 + 29*x^9 + 31*x^8 + 26*x^7 + 88*x^6 + 48*x^5 + 26*x^4 + 115*x^3 + 18*x^2 + 56*x + 115) * (x^21 + 109*x^20 + 56*x^19 + 55*x^18 + 29*x^17 + 41*x^16 + 125*x^14 + 2*x^13 + 7*x^12 + 98*x^11 + 53*x^10 + 72*x^9 + 107*x^8 + 28*x^7 + 11*x^6 + 124*x^5 + 100*x^4 + 9*x^3 + 60*x^2 + 103*x + 117) * (x^21 + 110*x^20 + 34*x^19 + 106*x^18 + 64*x^17 + 34*x^16 + 12*x^15 + 35*x^14 + 12*x^13 + 41*x^12 + 36*x^11 + 81*x^10 + 53*x^9 + 63*x^8 + 7*x^7 + 27*x^6 + 105*x^5 + 39*x^4 + 93*x^3 + 6*x^2 + 78*x + 39) * (x^21 + 110*x^20 + 59*x^19 + 26*x^18 + 13*x^17 + 8*x^16 + 39*x^15 + 86*x^14 + 39*x^13 + 72*x^12 + 100*x^11 + 52*x^10 + 79*x^9 + 93*x^8 + 111*x^7 + 72*x^6 + 31*x^5 + 19*x^4 + 10*x^3 + 103*x^2 + 107*x + 114) * (x^21 + 110*x^20 + 71*x^19 + 103*x^18 + 79*x^17 + 83*x^16 + 72*x^15 + 89*x^14 + 40*x^13 + 9*x^12 + 22*x^11 + 108*x^10 + 27*x^9 + 83*x^8 + 22*x^7 + 72*x^6 + 29*x^5 + 34*x^4 + 55*x^3 + 69*x^2 + 93*x + 120) * (x^21 + 110*x^20 + 81*x^19 + 92*x^18 + 2*x^17 + 61*x^15 + 102*x^14 + 95*x^13 + 29*x^12 + 126*x^11 + 76*x^10 + 7*x^9 + 80*x^8 + 29*x^7 + 26*x^6 + 37*x^5 + 78*x^4 + 80*x^3 + 29*x^2 + 120*x + 52) * (x^21 + 110*x^20 + 101*x^19 + 63*x^18 + 37*x^17 + 75*x^16 + 54*x^15 + 57*x^14 + 8*x^13 + 119*x^12 + 35*x^11 + 24*x^10 + 28*x^9 + 36*x^8 + 78*x^7 + 114*x^6 + 118*x^5 + 121*x^4 + 123*x^3 + 69*x^2 + 34*x + 74) * (x^21 + 111*x^20 + 71*x^19 + 94*x^18 + 63*x^17 + 124*x^16 + 31*x^15 + 7*x^14 + 81*x^13 + 42*x^12 + 20*x^11 + 18*x^10 + 96*x^9 + 11*x^8 + 8*x^7 + 124*x^6 + 101*x^5 + 48*x^4 + 19*x^3 + 7*x^2 + 119*x + 92) * (x^21 + 112*x^20 + 8*x^19 + 3*x^18 + 58*x^17 + 95*x^16 + 32*x^15 + 70*x^14 + 102*x^13 + 109*x^12 + 28*x^10 + 85*x^9 + 22*x^8 + 9*x^7 + 123*x^6 + 83*x^5 + 84*x^4 + 28*x^3 + 29*x^2 + 28*x + 112) * (x^21 + 112*x^20 + 106*x^19 + 108*x^18 + 94*x^17 + 24*x^16 + 115*x^15 + 92*x^14 + 25*x^13 + 56*x^12 + 66*x^11 + 95*x^10 + 80*x^9 + 77*x^8 + 21*x^7 + 27*x^6 + 3*x^5 + 9*x^4 + 110*x^3 + 85*x^2 + 91*x + 37) * (x^21 + 113*x^20 + 30*x^19 + 11*x^18 + 8*x^17 + 59*x^16 + 68*x^15 + 125*x^14 + 107*x^13 + 32*x^12 + 121*x^11 + 10*x^10 + 85*x^9 + 52*x^8 + 9*x^7 + 36*x^6 + 99*x^5 + 6*x^4 + 32*x^3 + 37*x^2 + 72*x + 82) * (x^21 + 113*x^20 + 49*x^19 + 69*x^18 + 6*x^17 + 64*x^16 + 115*x^15 + 33*x^14 + 46*x^13 + 70*x^12 + 69*x^11 + 61*x^10 + 20*x^9 + 64*x^8 + 108*x^7 + 8*x^6 + 44*x^5 + 32*x^4 + 63*x^3 + 15*x^2 + 125*x + 98) * (x^21 + 113*x^20 + 109*x^19 + 58*x^17 + 20*x^16 + 103*x^15 + 103*x^14 + 3*x^13 + 12*x^12 + 23*x^11 + 11*x^10 + 22*x^9 + 6*x^8 + 80*x^7 + 22*x^6 + 105*x^5 + 3*x^4 + 115*x^3 + 76*x^2 + 89*x + 106) * (x^21 + 115*x^20 + 4*x^19 + 122*x^18 + 93*x^17 + 87*x^16 + 57*x^15 + 70*x^14 + 30*x^13 + 122*x^12 + 16*x^11 + 45*x^10 + 79*x^9 + 8*x^8 + 78*x^7 + 5*x^6 + 16*x^5 + 19*x^4 + 14*x^3 + 124*x^2 + 96*x + 48) * (x^21 + 115*x^20 + 22*x^19 + 106*x^18 + 26*x^17 + 123*x^16 + 89*x^15 + 53*x^14 + 15*x^13 + 73*x^12 + 59*x^11 + 52*x^10 + 97*x^9 + 65*x^8 + 26*x^7 + 12*x^6 + 17*x^5 + 82*x^4 + 36*x^3 + 126*x^2 + 100*x + 115) * (x^21 + 115*x^20 + 56*x^19 + 98*x^18 + 21*x^17 + 120*x^16 + 95*x^14 + 90*x^13 + 88*x^12 + 90*x^11 + 109*x^10 + 55*x^9 + 51*x^8 + 67*x^7 + 20*x^6 + 73*x^5 + 10*x^4 + 123*x^3 + 31*x^2 + 99*x + 28) * (x^21 + 115*x^20 + 120*x^19 + 5*x^18 + 48*x^17 + 14*x^16 + 2*x^15 + 10*x^14 + 2*x^13 + 7*x^12 + 18*x^11 + 61*x^10 + 105*x^9 + 115*x^7 + 117*x^6 + 120*x^5 + 17*x^4 + 64*x^3 + 124*x^2 + 99*x + 105) * (x^21 + 116*x^20 + 100*x^19 + 100*x^18 + 37*x^17 + 84*x^16 + 23*x^15 + 59*x^14 + 45*x^13 + 110*x^12 + 70*x^11 + 79*x^10 + 64*x^9 + 108*x^8 + 124*x^7 + 89*x^6 + 2*x^5 + 63*x^4 + 14*x^3 + 18*x^2 + 112*x + 71) * (x^21 + 116*x^20 + 112*x^19 + 62*x^18 + 55*x^17 + 25*x^16 + 77*x^15 + 102*x^14 + 119*x^13 + 18*x^12 + 124*x^11 + 78*x^10 + 3*x^9 + 65*x^8 + 3*x^7 + 77*x^6 + 21*x^5 + 91*x^4 + 11*x^3 + 7*x^2 + x + 94) * (x^21 + 117*x^20 + 85*x^19 + 40*x^18 + 49*x^17 + 42*x^16 + 7*x^15 + 42*x^14 + 68*x^13 + 79*x^12 + 123*x^11 + 102*x^10 + 82*x^9 + 88*x^8 + 88*x^7 + 81*x^6 + 12*x^5 + 65*x^4 + 57*x^3 + 65*x^2 + 85*x + 94) * (x^21 + 117*x^20 + 104*x^19 + 23*x^18 + 10*x^17 + x^16 + 45*x^15 + 35*x^14 + 60*x^13 + 8*x^12 + 15*x^11 + 78*x^10 + 81*x^9 + 101*x^8 + x^7 + 62*x^6 + 121*x^5 + 64*x^4 + 52*x^3 + 125*x^2 + 72*x + 46) * (x^21 + 120*x^20 + 37*x^19 + 89*x^18 + 48*x^17 + 113*x^16 + 33*x^15 + 48*x^14 + 104*x^13 + 99*x^12 + 71*x^11 + 108*x^10 + 112*x^9 + 13*x^8 + 80*x^7 + 37*x^6 + 80*x^5 + 46*x^4 + 42*x^3 + 13*x^2 + 97*x + 114) * (x^21 + 121*x^20 + 33*x^19 + 37*x^18 + 80*x^17 + 78*x^16 + 66*x^15 + 9*x^14 + 77*x^13 + 2*x^12 + 114*x^11 + 120*x^10 + 33*x^9 + 85*x^8 + 10*x^7 + 97*x^6 + 106*x^5 + 110*x^4 + 13*x^3 + 118*x^2 + 79*x + 110) * (x^21 + 121*x^20 + 100*x^19 + 27*x^18 + 116*x^17 + 44*x^16 + 113*x^15 + 92*x^14 + 118*x^13 + 49*x^12 + 68*x^11 + 39*x^10 + 8*x^9 + 23*x^8 + 10*x^7 + 122*x^6 + 10*x^5 + 117*x^4 + 62*x^3 + x^2 + 99*x + 104) * (x^21 + 122*x^20 + 65*x^19 + 104*x^18 + 51*x^17 + 78*x^16 + 84*x^15 + 51*x^14 + 24*x^13 + 100*x^12 + 100*x^11 + 106*x^10 + 88*x^9 + 17*x^8 + 123*x^7 + 101*x^6 + 78*x^5 + 78*x^4 + 119*x^3 + 121*x^2 + 59*x + 119) * (x^21 + 122*x^20 + 79*x^19 + 89*x^18 + 10*x^17 + 56*x^16 + 37*x^15 + 11*x^14 + 109*x^13 + 86*x^12 + 22*x^11 + 6*x^10 + 105*x^9 + 46*x^8 + 22*x^7 + 120*x^6 + 5*x^5 + 59*x^4 + 88*x^3 + 75*x^2 + 123*x + 20) * (x^21 + 123*x^20 + 8*x^19 + 35*x^18 + 21*x^17 + 67*x^16 + 117*x^15 + 7*x^14 + 107*x^13 + 58*x^12 + 118*x^11 + 81*x^10 + 39*x^9 + 124*x^8 + 43*x^7 + 49*x^6 + 123*x^5 + 100*x^4 + x^3 + 96*x^2 + 50*x + 34) * (x^21 + 123*x^20 + 11*x^19 + 87*x^18 + 120*x^17 + 36*x^16 + 15*x^15 + 123*x^14 + 126*x^13 + 64*x^12 + 121*x^11 + 121*x^10 + 27*x^9 + 91*x^8 + 96*x^7 + 74*x^6 + 24*x^4 + 71*x^3 + 80*x^2 + 100*x + 62) * (x^21 + 123*x^20 + 99*x^19 + 91*x^18 + 77*x^17 + 18*x^16 + 89*x^15 + 117*x^14 + 82*x^13 + 86*x^12 + 7*x^11 + 124*x^10 + 110*x^9 + 64*x^8 + 123*x^7 + 39*x^6 + 32*x^5 + 35*x^4 + 58*x^3 + 24*x^2 + 101*x + 112) * (x^21 + 124*x^20 + 25*x^19 + 126*x^18 + x^17 + 5*x^16 + x^15 + 47*x^14 + 25*x^13 + 15*x^12 + 47*x^11 + 109*x^10 + 51*x^9 + 122*x^8 + 74*x^7 + 73*x^6 + 121*x^5 + 12*x^4 + 52*x^3 + 64*x^2 + 108*x + 113) * (x^21 + 124*x^20 + 27*x^19 + 67*x^18 + 44*x^17 + 22*x^16 + 18*x^15 + 71*x^14 + 13*x^13 + 60*x^12 + 54*x^11 + 113*x^10 + 34*x^9 + 125*x^8 + 58*x^7 + 49*x^6 + 124*x^5 + 109*x^4 + 113*x^3 + 7*x^2 + 49*x + 78) * (x^21 + 125*x^20 + 72*x^19 + 117*x^18 + 107*x^17 + 51*x^16 + 116*x^15 + 84*x^14 + 90*x^13 + 37*x^12 + 105*x^11 + 122*x^10 + 97*x^9 + 71*x^8 + 24*x^7 + 18*x^6 + 41*x^5 + 100*x^4 + 28*x^3 + 66*x^2 + 41*x + 73) * (x^21 + 125*x^20 + 79*x^19 + 76*x^18 + 45*x^17 + 52*x^16 + 43*x^15 + 94*x^14 + 10*x^13 + 40*x^12 + 75*x^11 + 122*x^10 + 58*x^9 + 51*x^8 + 27*x^7 + 119*x^6 + 42*x^5 + 12*x^4 + 12*x^3 + 38*x^2 + 35*x + 118)"
      ]
     },
     "execution_count": 82,
     "metadata": {},
     "output_type": "execute_result"
    }
   ],
   "source": [
    "phi.factor()"
   ]
  },
  {
   "cell_type": "markdown",
   "metadata": {},
   "source": [
    "Inspection by hand shows non-linear factors of degrees 3, 7 and 21. Because we are over finite fields, all these factors split completely over $𝔽_{127^{21}}$."
   ]
  },
  {
   "cell_type": "code",
   "execution_count": 83,
   "metadata": {},
   "outputs": [
    {
     "data": {
      "text/plain": [
       "Elliptic Curve defined by y^2 = x^3 + 126*x + 56 over Finite Field in z21 of size 127^21"
      ]
     },
     "execution_count": 83,
     "metadata": {},
     "output_type": "execute_result"
    }
   ],
   "source": [
    "EE = E.change_ring(GF(127^21))\n",
    "EE"
   ]
  },
  {
   "cell_type": "markdown",
   "metadata": {},
   "source": [
    "We check that 129 = 3·43 divides the order twice... good sign!"
   ]
  },
  {
   "cell_type": "code",
   "execution_count": 84,
   "metadata": {},
   "outputs": [
    {
     "data": {
      "text/plain": [
       "2^2 * 3^5 * 7^4 * 43^2 * 2017 * 3697 * 18691 * 3958039 * 47627959 * 1334605399"
      ]
     },
     "execution_count": 84,
     "metadata": {},
     "output_type": "execute_result"
    }
   ],
   "source": [
    "EE.order().factor()"
   ]
  },
  {
   "cell_type": "code",
   "execution_count": 85,
   "metadata": {},
   "outputs": [
    {
     "data": {
      "text/plain": [
       "3 * 43"
      ]
     },
     "execution_count": 85,
     "metadata": {},
     "output_type": "execute_result"
    }
   ],
   "source": [
    "129.factor()"
   ]
  },
  {
   "cell_type": "markdown",
   "metadata": {},
   "source": [
    "To confirm that $E[129] ⊂ E(𝔽_{127^{21}})$, we compute the group structure and confirm it contains a subgroup isomorphic to $ℤ/129ℤ × ℤ/129ℤ$."
   ]
  },
  {
   "cell_type": "code",
   "execution_count": 86,
   "metadata": {},
   "outputs": [
    {
     "data": {
      "text/plain": [
       "Additive abelian group isomorphic to Z/3989707887872872950951218050907507834298 + Z/37926 embedded in Abelian group of points on Elliptic Curve defined by y^2 = x^3 + 126*x + 56 over Finite Field in z21 of size 127^21"
      ]
     },
     "execution_count": 86,
     "metadata": {},
     "output_type": "execute_result"
    }
   ],
   "source": [
    "EE.abelian_group()"
   ]
  },
  {
   "cell_type": "code",
   "execution_count": 87,
   "metadata": {},
   "outputs": [
    {
     "data": {
      "text/plain": [
       "2 * 3^3 * 7^2 * 43 * 2017 * 3697 * 18691 * 3958039 * 47627959 * 1334605399"
      ]
     },
     "execution_count": 87,
     "metadata": {},
     "output_type": "execute_result"
    }
   ],
   "source": [
    "3989707887872872950951218050907507834298.factor()"
   ]
  },
  {
   "cell_type": "code",
   "execution_count": 88,
   "metadata": {},
   "outputs": [
    {
     "data": {
      "text/plain": [
       "2 * 3^2 * 7^2 * 43"
      ]
     },
     "execution_count": 88,
     "metadata": {},
     "output_type": "execute_result"
    }
   ],
   "source": [
    "37926.factor()"
   ]
  },
  {
   "cell_type": "markdown",
   "metadata": {},
   "source": [
    "As an extra confirmation, we check that the division polynomial splits completely over $𝔽_{127^{21}}$."
   ]
  },
  {
   "cell_type": "code",
   "execution_count": 89,
   "metadata": {},
   "outputs": [
    {
     "name": "stdout",
     "output_type": "stream",
     "text": [
      "CPU times: user 40 s, sys: 74.4 ms, total: 40.1 s\n",
      "Wall time: 40.1 s\n"
     ]
    },
    {
     "data": {
      "text/plain": [
       "8320"
      ]
     },
     "execution_count": 89,
     "metadata": {},
     "output_type": "execute_result"
    }
   ],
   "source": [
    "%time len(EE.division_polynomial(129).roots())"
   ]
  },
  {
   "cell_type": "code",
   "execution_count": 90,
   "metadata": {},
   "outputs": [
    {
     "data": {
      "text/plain": [
       "8320"
      ]
     },
     "execution_count": 90,
     "metadata": {},
     "output_type": "execute_result"
    }
   ],
   "source": [
    "(129^2 - 1) / 2"
   ]
  },
  {
   "cell_type": "markdown",
   "metadata": {},
   "source": [
    "That was slow! To get the same info quicker, we recall that 129 = 3 · 43, and factor the 3rd and 43rd division polynomial instead"
   ]
  },
  {
   "cell_type": "code",
   "execution_count": 91,
   "metadata": {},
   "outputs": [
    {
     "name": "stdout",
     "output_type": "stream",
     "text": [
      "CPU times: user 2.24 ms, sys: 0 ns, total: 2.24 ms\n",
      "Wall time: 2.26 ms\n"
     ]
    },
    {
     "data": {
      "text/plain": [
       "(3) * (x + 103) * (x + 20*z21^20 + 37*z21^19 + 29*z21^18 + 124*z21^17 + 78*z21^16 + 83*z21^15 + 47*z21^14 + 29*z21^13 + 124*z21^12 + 111*z21^11 + 68*z21^10 + 9*z21^9 + 86*z21^8 + 40*z21^7 + 42*z21^6 + 39*z21^5 + 86*z21^4 + 94*z21^3 + 81*z21^2 + 103*z21 + 19) * (x + 93*z21^20 + 18*z21^19 + 61*z21^18 + 55*z21^17 + 78*z21^16 + 65*z21^15 + 94*z21^14 + 38*z21^13 + 22*z21^12 + 26*z21^11 + 95*z21^10 + 43*z21^9 + 30*z21^8 + 46*z21^7 + 124*z21^6 + 47*z21^5 + 49*z21^4 + 86*z21^3 + 95*z21^2 + 84*z21 + 57) * (x + 14*z21^20 + 72*z21^19 + 37*z21^18 + 75*z21^17 + 98*z21^16 + 106*z21^15 + 113*z21^14 + 60*z21^13 + 108*z21^12 + 117*z21^11 + 91*z21^10 + 75*z21^9 + 11*z21^8 + 41*z21^7 + 88*z21^6 + 41*z21^5 + 119*z21^4 + 74*z21^3 + 78*z21^2 + 67*z21 + 75)"
      ]
     },
     "execution_count": 91,
     "metadata": {},
     "output_type": "execute_result"
    }
   ],
   "source": [
    "%time EE.division_polynomial(3).factor()"
   ]
  },
  {
   "cell_type": "code",
   "execution_count": 92,
   "metadata": {},
   "outputs": [
    {
     "name": "stdout",
     "output_type": "stream",
     "text": [
      "CPU times: user 1.73 s, sys: 3.23 ms, total: 1.74 s\n",
      "Wall time: 1.74 s\n"
     ]
    },
    {
     "data": {
      "text/plain": [
       "924"
      ]
     },
     "execution_count": 92,
     "metadata": {},
     "output_type": "execute_result"
    }
   ],
   "source": [
    "%time len(EE.division_polynomial(43).roots())"
   ]
  },
  {
   "cell_type": "code",
   "execution_count": 93,
   "metadata": {},
   "outputs": [
    {
     "data": {
      "text/plain": [
       "924"
      ]
     },
     "execution_count": 93,
     "metadata": {},
     "output_type": "execute_result"
    }
   ],
   "source": [
    "(43^2 - 1 ) / 2"
   ]
  },
  {
   "cell_type": "markdown",
   "metadata": {},
   "source": [
    "### Exercise 2 ★\n",
    "\n",
    "Implement the Diffie–Hellman key exchange on the curve of exercise 1. That is, write two functions that implement the first and the second phase of the key exchange, and check that the shared key matches"
   ]
  },
  {
   "cell_type": "code",
   "execution_count": 94,
   "metadata": {},
   "outputs": [],
   "source": [
    "def keyex1(g, n):\n",
    "    '''\n",
    "    Parameters: g is the group generator, n its order.\n",
    "    '''\n",
    "    pass"
   ]
  },
  {
   "cell_type": "code",
   "execution_count": 95,
   "metadata": {},
   "outputs": [],
   "source": [
    "def keyex2(ek, sk):\n",
    "    '''\n",
    "    Parameters: ek is the received ephemeral key, sk is our secret key.\n",
    "    '''\n",
    "    pass"
   ]
  },
  {
   "cell_type": "code",
   "execution_count": null,
   "metadata": {},
   "outputs": [],
   "source": []
  },
  {
   "cell_type": "markdown",
   "metadata": {},
   "source": [
    "### Exercise 3 ★\n",
    "\n",
    "Let $E$ be the elliptic curve over $\\mathbb{F}_5$ given by the Weierstrass equation $E: y^2 + y = x^3 - x$.\n",
    "\n",
    "Compute $\\#E(\\mathbb{F_{5^n}})$ for $n=1,\\ldots,20$.\n"
   ]
  },
  {
   "cell_type": "code",
   "execution_count": 96,
   "metadata": {},
   "outputs": [
    {
     "data": {
      "text/plain": [
       "Elliptic Curve defined by y^2 + y = x^3 + 4*x over Finite Field of size 5"
      ]
     },
     "execution_count": 96,
     "metadata": {},
     "output_type": "execute_result"
    }
   ],
   "source": [
    "E = EllipticCurve(GF(5), [0,0,1,-1,0])\n",
    "E"
   ]
  },
  {
   "cell_type": "code",
   "execution_count": null,
   "metadata": {},
   "outputs": [],
   "source": []
  },
  {
   "cell_type": "markdown",
   "metadata": {},
   "source": [
    "#### Exercise 3.1 ★★\n",
    "\n",
    "Denote by $\\pi:E\\to E$ the $5$\\-Frobenius endomorphism of the curve in the previous exercise. Find a monic quadratic polynomial of which $\\pi$ is a zero in $\\mathrm{End}(E)$. \n"
   ]
  },
  {
   "cell_type": "code",
   "execution_count": null,
   "metadata": {},
   "outputs": [],
   "source": []
  },
  {
   "cell_type": "markdown",
   "metadata": {},
   "source": [
    "By finding a root of this polynomial over $\\mathbb{C}$, write down a formula for $\\pi$ as an algebraic number. That is, give an embedding $\\mathbb{Z}[\\pi]\\to\\mathbb{C}$. Show that the conjugate of $\\pi$ as a complex number corresponds to the dual isogeny under this embedding.\n",
    "\n"
   ]
  },
  {
   "cell_type": "code",
   "execution_count": null,
   "metadata": {},
   "outputs": [],
   "source": []
  },
  {
   "cell_type": "markdown",
   "metadata": {},
   "source": [
    "Write down a formula for $\\#E(\\mathbb{F_{5^n}})$ in terms of this algebraic number. Check that this agrees with the answer from the first point."
   ]
  },
  {
   "cell_type": "code",
   "execution_count": null,
   "metadata": {},
   "outputs": [],
   "source": []
  },
  {
   "cell_type": "markdown",
   "metadata": {},
   "source": [
    "### Exercise 4 ★★\n",
    "\n",
    "For $p=23$, is there for every $N$ in the Hasse\\-Weil interval $[p+1-2\\sqrt{p}, p+1+2\\sqrt{p}]$ an elliptic curve $E$ over $\\mathbb{F}_p$ such that $\\#E(\\mathbb{F}_p)=N$?\n"
   ]
  },
  {
   "cell_type": "code",
   "execution_count": null,
   "metadata": {},
   "outputs": [],
   "source": []
  }
 ],
 "metadata": {
  "kernelspec": {
   "display_name": "SageMath 10.1",
   "language": "sage",
   "name": "sagemath"
  },
  "language_info": {
   "codemirror_mode": {
    "name": "ipython",
    "version": 3
   },
   "file_extension": ".py",
   "mimetype": "text/x-python",
   "name": "python",
   "nbconvert_exporter": "python",
   "pygments_lexer": "ipython3",
   "version": "3.11.5"
  }
 },
 "nbformat": 4,
 "nbformat_minor": 4
}
